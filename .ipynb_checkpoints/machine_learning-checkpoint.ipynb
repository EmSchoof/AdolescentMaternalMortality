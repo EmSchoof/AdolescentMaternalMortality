{
 "cells": [
  {
   "cell_type": "markdown",
   "metadata": {},
   "source": [
    "## What factors contribute to lower rates of adolescent maternal mortality long-term?"
   ]
  },
  {
   "cell_type": "markdown",
   "metadata": {},
   "source": [
    "Machine learning methods are becoming increasingly relevant as data becomes more readily available. These methods enable researchers to expand on their general understanding of the complex dynamic changes in indicators with a significant number of interrelated factors. Additionally, it is possible to make the results, like external factors affecting the incidence of adolescent maternal mortality, interpretable from a clinical point of view.\n",
    "\n",
    "The following methods consist of: Random Forest Classifier, KNeighbors Classifier, Logistic Regression, and Gaussian Naive Bayes.  For the interpretation of differences between individual parameters of the mothers in two classes predicted failure (maternal mortality) verses prediction success (maternal vitality), the problem of classification via using the decision tree can be solved. The target is prediction failure class.\n",
    "\n",
    "Target Variable - Percent Above(0) and Below(1) μ Population Age of Maternal Mortality - Binary Logistic Regression"
   ]
  },
  {
   "cell_type": "code",
   "execution_count": 254,
   "metadata": {},
   "outputs": [],
   "source": [
    "# Import the relevant modules\n",
    "import pandas as pd\n",
    "import numpy as np\n",
    "import seaborn as sns\n",
    "import matplotlib.pyplot as plt \n",
    "from matplotlib.colors import ListedColormap\n",
    "\n",
    "# Machine Learning modules\n",
    "from sklearn.tree import DecisionTreeClassifier\n",
    "from sklearn.ensemble import RandomForestClassifier\n",
    "from sklearn.tree import export_graphviz\n",
    "from sklearn.naive_bayes import GaussianNB\n",
    "\n",
    "# Logistic Regression\n",
    "from sklearn.model_selection import train_test_split\n",
    "from sklearn.linear_model import LogisticRegression\n",
    "# Accuracy\n",
    "from sklearn.model_selection import GridSearchCV\n",
    "from sklearn.model_selection import KFold\n",
    "from sklearn.metrics import accuracy_score\n",
    "# Graphing\n",
    "from matplotlib.colors import ListedColormap\n",
    "from sklearn.neighbors import NearestCentroid\n",
    "\n",
    "# K-Nearest Neighbors\n",
    "from sklearn.neighbors import KNeighborsClassifier\n",
    "from sklearn import neighbors\n",
    "from sklearn.metrics import classification_report, confusion_matrix\n",
    "\n",
    "# ROC Curve\n",
    "from sklearn.metrics import roc_curve\n",
    "\n",
    "# Error Handling for Random Forest Tree\n",
    "from sklearn import preprocessing\n",
    "from sklearn import utils"
   ]
  },
  {
   "cell_type": "code",
   "execution_count": 255,
   "metadata": {},
   "outputs": [],
   "source": [
    "# Open merged materna_mortal_factors dataset\n",
    "%store -r metro_gdp_mortality"
   ]
  },
  {
   "cell_type": "code",
   "execution_count": 256,
   "metadata": {},
   "outputs": [
    {
     "data": {
      "text/html": [
       "<div>\n",
       "<style scoped>\n",
       "    .dataframe tbody tr th:only-of-type {\n",
       "        vertical-align: middle;\n",
       "    }\n",
       "\n",
       "    .dataframe tbody tr th {\n",
       "        vertical-align: top;\n",
       "    }\n",
       "\n",
       "    .dataframe thead th {\n",
       "        text-align: right;\n",
       "    }\n",
       "</style>\n",
       "<table border=\"1\" class=\"dataframe\">\n",
       "  <thead>\n",
       "    <tr style=\"text-align: right;\">\n",
       "      <th></th>\n",
       "      <th>State</th>\n",
       "      <th>State Population 2010</th>\n",
       "      <th>State Population 2015</th>\n",
       "      <th>State GDP 2010</th>\n",
       "      <th>State GDP 2015</th>\n",
       "      <th>Increase(0)/No Change(1) GDP</th>\n",
       "      <th>Total μ Age</th>\n",
       "      <th>Total (n)</th>\n",
       "      <th>Above(0)/Below(1) Pop μ</th>\n",
       "      <th>Total Age σ2</th>\n",
       "      <th>Above(0)/Below(1) Pop σ2</th>\n",
       "      <th>Adolescent μ Age</th>\n",
       "      <th>Adolescent Age σ2</th>\n",
       "      <th>Adolescent (n)</th>\n",
       "      <th>Total % Mortality 2010-15</th>\n",
       "      <th>Ado % Mortality 2010-15</th>\n",
       "    </tr>\n",
       "  </thead>\n",
       "  <tbody>\n",
       "    <tr>\n",
       "      <th>0</th>\n",
       "      <td>Aguascalientes</td>\n",
       "      <td>932369</td>\n",
       "      <td>1044049</td>\n",
       "      <td>16597.0</td>\n",
       "      <td>19528.0</td>\n",
       "      <td>0</td>\n",
       "      <td>28.36</td>\n",
       "      <td>127.0</td>\n",
       "      <td>0</td>\n",
       "      <td>55.16</td>\n",
       "      <td>0</td>\n",
       "      <td>18.08</td>\n",
       "      <td>2.55</td>\n",
       "      <td>25</td>\n",
       "      <td>0.0258</td>\n",
       "      <td>0.0051</td>\n",
       "    </tr>\n",
       "    <tr>\n",
       "      <th>1</th>\n",
       "      <td>Baja California</td>\n",
       "      <td>3155070</td>\n",
       "      <td>3315766</td>\n",
       "      <td>52579.0</td>\n",
       "      <td>57136.0</td>\n",
       "      <td>0</td>\n",
       "      <td>27.15</td>\n",
       "      <td>361.0</td>\n",
       "      <td>1</td>\n",
       "      <td>46.31</td>\n",
       "      <td>1</td>\n",
       "      <td>18.00</td>\n",
       "      <td>2.70</td>\n",
       "      <td>69</td>\n",
       "      <td>0.0223</td>\n",
       "      <td>0.0015</td>\n",
       "    </tr>\n",
       "    <tr>\n",
       "      <th>4</th>\n",
       "      <td>Baja California Sur</td>\n",
       "      <td>251871</td>\n",
       "      <td>272711</td>\n",
       "      <td>21260.0</td>\n",
       "      <td>21431.0</td>\n",
       "      <td>0</td>\n",
       "      <td>27.56</td>\n",
       "      <td>66.0</td>\n",
       "      <td>1</td>\n",
       "      <td>55.37</td>\n",
       "      <td>0</td>\n",
       "      <td>18.00</td>\n",
       "      <td>3.25</td>\n",
       "      <td>16</td>\n",
       "      <td>0.0504</td>\n",
       "      <td>0.0191</td>\n",
       "    </tr>\n",
       "    <tr>\n",
       "      <th>5</th>\n",
       "      <td>Campeche</td>\n",
       "      <td>259005</td>\n",
       "      <td>283025</td>\n",
       "      <td>NaN</td>\n",
       "      <td>NaN</td>\n",
       "      <td>1</td>\n",
       "      <td>26.87</td>\n",
       "      <td>126.0</td>\n",
       "      <td>1</td>\n",
       "      <td>44.29</td>\n",
       "      <td>1</td>\n",
       "      <td>18.00</td>\n",
       "      <td>4.18</td>\n",
       "      <td>22</td>\n",
       "      <td>0.0932</td>\n",
       "      <td>0.0185</td>\n",
       "    </tr>\n",
       "    <tr>\n",
       "      <th>6</th>\n",
       "      <td>Chiapas</td>\n",
       "      <td>1058712</td>\n",
       "      <td>1162592</td>\n",
       "      <td>14271.0</td>\n",
       "      <td>13392.0</td>\n",
       "      <td>1</td>\n",
       "      <td>28.02</td>\n",
       "      <td>310.0</td>\n",
       "      <td>1</td>\n",
       "      <td>45.02</td>\n",
       "      <td>1</td>\n",
       "      <td>18.33</td>\n",
       "      <td>2.57</td>\n",
       "      <td>52</td>\n",
       "      <td>0.0559</td>\n",
       "      <td>0.0045</td>\n",
       "    </tr>\n",
       "  </tbody>\n",
       "</table>\n",
       "</div>"
      ],
      "text/plain": [
       "                 State  State Population 2010  State Population 2015  \\\n",
       "0       Aguascalientes                 932369                1044049   \n",
       "1      Baja California                3155070                3315766   \n",
       "4  Baja California Sur                 251871                 272711   \n",
       "5             Campeche                 259005                 283025   \n",
       "6              Chiapas                1058712                1162592   \n",
       "\n",
       "   State GDP 2010  State GDP 2015  Increase(0)/No Change(1) GDP  Total μ Age  \\\n",
       "0         16597.0         19528.0                             0        28.36   \n",
       "1         52579.0         57136.0                             0        27.15   \n",
       "4         21260.0         21431.0                             0        27.56   \n",
       "5             NaN             NaN                             1        26.87   \n",
       "6         14271.0         13392.0                             1        28.02   \n",
       "\n",
       "   Total (n)  Above(0)/Below(1) Pop μ  Total Age σ2  Above(0)/Below(1) Pop σ2  \\\n",
       "0      127.0                        0         55.16                         0   \n",
       "1      361.0                        1         46.31                         1   \n",
       "4       66.0                        1         55.37                         0   \n",
       "5      126.0                        1         44.29                         1   \n",
       "6      310.0                        1         45.02                         1   \n",
       "\n",
       "   Adolescent μ Age  Adolescent Age σ2  Adolescent (n)  \\\n",
       "0             18.08               2.55              25   \n",
       "1             18.00               2.70              69   \n",
       "4             18.00               3.25              16   \n",
       "5             18.00               4.18              22   \n",
       "6             18.33               2.57              52   \n",
       "\n",
       "   Total % Mortality 2010-15  Ado % Mortality 2010-15  \n",
       "0                     0.0258                   0.0051  \n",
       "1                     0.0223                   0.0015  \n",
       "4                     0.0504                   0.0191  \n",
       "5                     0.0932                   0.0185  \n",
       "6                     0.0559                   0.0045  "
      ]
     },
     "execution_count": 256,
     "metadata": {},
     "output_type": "execute_result"
    }
   ],
   "source": [
    "data = metro_gdp_mortality\n",
    "data.head()"
   ]
  },
  {
   "cell_type": "markdown",
   "metadata": {},
   "source": [
    "### Dataset Target Variable: Above(0)/Below(1) Population μ"
   ]
  },
  {
   "cell_type": "markdown",
   "metadata": {},
   "source": [
    "### Visualize Data\n",
    "\n",
    "#### Assess potential correlation of various factors within each Region\n",
    "- Create a correlation dataframe\n",
    "- Plot the correlation dataframe on a sns heatmap:\n",
    "    - Cells that are in green show positive correlation\n",
    "    - Cells that are in red show negative correlation"
   ]
  },
  {
   "cell_type": "code",
   "execution_count": 257,
   "metadata": {},
   "outputs": [
    {
     "data": {
      "text/plain": [
       "<matplotlib.axes._subplots.AxesSubplot at 0x1a23832748>"
      ]
     },
     "execution_count": 257,
     "metadata": {},
     "output_type": "execute_result"
    },
    {
     "data": {
      "image/png": "[encoded data removed]",
      "text/plain": [
       "<Figure size 432x288 with 2 Axes>"
      ]
     },
     "metadata": {
      "needs_background": "light"
     },
     "output_type": "display_data"
    }
   ],
   "source": [
    "# Create a correlation dataframe\n",
    "feature_corr = data.corr()\n",
    "\n",
    "# Plot a correlation heatmap\n",
    "sns.heatmap(feature_corr, square=True, cmap='RdYlGn')"
   ]
  },
  {
   "cell_type": "code",
   "execution_count": 258,
   "metadata": {},
   "outputs": [
    {
     "data": {
      "image/png": "[encoded data removed]",
      "text/plain": [
       "<Figure size 432x288 with 16 Axes>"
      ]
     },
     "metadata": {
      "needs_background": "light"
     },
     "output_type": "display_data"
    }
   ],
   "source": [
    "data.hist()\n",
    "plt.show()"
   ]
  },
  {
   "cell_type": "code",
   "execution_count": 259,
   "metadata": {},
   "outputs": [
    {
     "data": {
      "image/png": "[encoded data removed]",
      "text/plain": [
       "<Figure size 432x288 with 16 Axes>"
      ]
     },
     "metadata": {
      "needs_background": "light"
     },
     "output_type": "display_data"
    }
   ],
   "source": [
    "data.plot(kind='kde', subplots=True, layout=(4,4), sharex=False)\n",
    "plt.subplots_adjust(wspace=0.7, hspace=0.7)\n",
    "plt.show()"
   ]
  },
  {
   "cell_type": "markdown",
   "metadata": {},
   "source": [
    "#### *Preliminary Observations of Interest*: \n",
    "- **Positive (+) Correlation**\n",
    "    - State Population\n",
    "        - State GDP\n",
    "        - μ Age Maternal Mortality\n",
    "        - Total Maternal Mortality (n)\n",
    "    - State GDP\n",
    "        - Above(0)/Below(1) μ Pop Age\n",
    "        - Adolescent Maternal Mortality (n)\n",
    "- **Negative (-) Correlation**\n",
    "    - Adolescent Percent Maternal Mortality\n",
    "        - State Population\n",
    "        - State GDP\n",
    "        - Total Maternal Mortality (n)"
   ]
  },
  {
   "cell_type": "markdown",
   "metadata": {},
   "source": [
    "#### ( + ) Correlation: Region GDP and GDP "
   ]
  },
  {
   "cell_type": "code",
   "execution_count": 260,
   "metadata": {},
   "outputs": [
    {
     "data": {
      "text/plain": [
       "<matplotlib.legend.Legend at 0x1a24fca198>"
      ]
     },
     "execution_count": 260,
     "metadata": {},
     "output_type": "execute_result"
    },
    {
     "data": {
      "image/png": "[encoded data removed]",
      "text/plain": [
       "<Figure size 432x288 with 1 Axes>"
      ]
     },
     "metadata": {
      "needs_background": "light"
     },
     "output_type": "display_data"
    }
   ],
   "source": [
    "plt.scatter(data['Adolescent μ Age'], data['State GDP 2015'], label='2015')\n",
    "plt.xlabel(\"μ Adolescent Age Maternal Mortality\")\n",
    "plt.ylabel(\"Region GDP\")\n",
    "plt.title(\"Relationship between Region GDP and Mean Adolescent Maternal Mortality\")\n",
    "plt.legend()"
   ]
  },
  {
   "cell_type": "markdown",
   "metadata": {},
   "source": [
    "#### ( + ) Correlation: State Population and GDP "
   ]
  },
  {
   "cell_type": "code",
   "execution_count": 261,
   "metadata": {},
   "outputs": [
    {
     "data": {
      "text/plain": [
       "<matplotlib.legend.Legend at 0x1a236302e8>"
      ]
     },
     "execution_count": 261,
     "metadata": {},
     "output_type": "execute_result"
    },
    {
     "data": {
      "image/png": "[encoded data removed]",
      "text/plain": [
       "<Figure size 432x288 with 1 Axes>"
      ]
     },
     "metadata": {
      "needs_background": "light"
     },
     "output_type": "display_data"
    }
   ],
   "source": [
    "plt.scatter(data['Adolescent μ Age'], data['State Population 2015'], label='2015')\n",
    "plt.xlabel(\"μ Adolescent Age Maternal Mortality\")\n",
    "plt.ylabel(\"Region Population\")\n",
    "plt.title(\"Relationship between Region Population and Mean Adolescent Maternal Mortality\")\n",
    "plt.legend()"
   ]
  },
  {
   "cell_type": "markdown",
   "metadata": {},
   "source": [
    "#### ( + ) Correlation: Above(0)/Below(1) μ Age of Maternal Mortality in Mexico with State GDP"
   ]
  },
  {
   "cell_type": "code",
   "execution_count": 262,
   "metadata": {},
   "outputs": [
    {
     "data": {
      "text/plain": [
       "Text(0.5,1,'Relationship between μ Age of Maternal Mortality and State GDP')"
      ]
     },
     "execution_count": 262,
     "metadata": {},
     "output_type": "execute_result"
    },
    {
     "data": {
      "image/png": "[encoded data removed]",
      "text/plain": [
       "<Figure size 432x288 with 1 Axes>"
      ]
     },
     "metadata": {
      "needs_background": "light"
     },
     "output_type": "display_data"
    }
   ],
   "source": [
    "fig, ax = plt.subplots()\n",
    "\n",
    "#define dot colors\n",
    "cols = {0: 'grey', 1: 'blue'}\n",
    "\n",
    "labels = ['Above Country μ', 'Below Country μ']\n",
    "\n",
    "\n",
    "plt.scatter(x=data['State'], \n",
    "            y=data['State GDP 2015'], \n",
    "            c=data['Above(0)/Below(1) Pop μ'].map(cols))\n",
    "\n",
    "# label axes and title\n",
    "plt.xlabel(\"Region\")\n",
    "plt.xticks(rotation='vertical')\n",
    "plt.ylabel(\"Region GDP\")\n",
    "plt.title(\"Relationship between μ Age of Maternal Mortality and State GDP\")"
   ]
  },
  {
   "cell_type": "markdown",
   "metadata": {},
   "source": [
    "#### Purpose for Changing all Categorical Strings to a Numeric Value: \n",
    "- Machine Learning models will ignore string values (strings have no statistical value unless added)\n",
    "- Numeric values are comparable therefore string values should be categorically changed to numbers\n",
    "- This is how you compare a string value to a numeric value that the model can use"
   ]
  },
  {
   "cell_type": "code",
   "execution_count": 263,
   "metadata": {},
   "outputs": [],
   "source": [
    "# Convert Column value strings to a numeric value\n",
    "for i, column in enumerate(list([str(d) for d in data.dtypes])):\n",
    "    if column == \"object\":\n",
    "        data[data.columns[i]] = data[data.columns[i]].fillna(data[data.columns[i]].mode())\n",
    "        data[data.columns[i]] = data[data.columns[i]].astype(\"category\").cat.codes\n",
    "    else:\n",
    "        data[data.columns[i]] = data[data.columns[i]].fillna(data[data.columns[i]].median())"
   ]
  },
  {
   "cell_type": "code",
   "execution_count": 264,
   "metadata": {},
   "outputs": [
    {
     "data": {
      "text/html": [
       "<div>\n",
       "<style scoped>\n",
       "    .dataframe tbody tr th:only-of-type {\n",
       "        vertical-align: middle;\n",
       "    }\n",
       "\n",
       "    .dataframe tbody tr th {\n",
       "        vertical-align: top;\n",
       "    }\n",
       "\n",
       "    .dataframe thead th {\n",
       "        text-align: right;\n",
       "    }\n",
       "</style>\n",
       "<table border=\"1\" class=\"dataframe\">\n",
       "  <thead>\n",
       "    <tr style=\"text-align: right;\">\n",
       "      <th></th>\n",
       "      <th>State</th>\n",
       "      <th>State Population 2010</th>\n",
       "      <th>State Population 2015</th>\n",
       "      <th>State GDP 2010</th>\n",
       "      <th>State GDP 2015</th>\n",
       "      <th>Increase(0)/No Change(1) GDP</th>\n",
       "      <th>Total μ Age</th>\n",
       "      <th>Total (n)</th>\n",
       "      <th>Above(0)/Below(1) Pop μ</th>\n",
       "      <th>Total Age σ2</th>\n",
       "      <th>Above(0)/Below(1) Pop σ2</th>\n",
       "      <th>Adolescent μ Age</th>\n",
       "      <th>Adolescent Age σ2</th>\n",
       "      <th>Adolescent (n)</th>\n",
       "      <th>Total % Mortality 2010-15</th>\n",
       "      <th>Ado % Mortality 2010-15</th>\n",
       "    </tr>\n",
       "  </thead>\n",
       "  <tbody>\n",
       "    <tr>\n",
       "      <th>0</th>\n",
       "      <td>0</td>\n",
       "      <td>932369</td>\n",
       "      <td>1044049</td>\n",
       "      <td>16597.0</td>\n",
       "      <td>19528.0</td>\n",
       "      <td>0</td>\n",
       "      <td>28.36</td>\n",
       "      <td>127.0</td>\n",
       "      <td>0</td>\n",
       "      <td>55.16</td>\n",
       "      <td>0</td>\n",
       "      <td>18.08</td>\n",
       "      <td>2.55</td>\n",
       "      <td>25</td>\n",
       "      <td>0.0258</td>\n",
       "      <td>0.0051</td>\n",
       "    </tr>\n",
       "    <tr>\n",
       "      <th>1</th>\n",
       "      <td>1</td>\n",
       "      <td>3155070</td>\n",
       "      <td>3315766</td>\n",
       "      <td>52579.0</td>\n",
       "      <td>57136.0</td>\n",
       "      <td>0</td>\n",
       "      <td>27.15</td>\n",
       "      <td>361.0</td>\n",
       "      <td>1</td>\n",
       "      <td>46.31</td>\n",
       "      <td>1</td>\n",
       "      <td>18.00</td>\n",
       "      <td>2.70</td>\n",
       "      <td>69</td>\n",
       "      <td>0.0223</td>\n",
       "      <td>0.0015</td>\n",
       "    </tr>\n",
       "    <tr>\n",
       "      <th>4</th>\n",
       "      <td>2</td>\n",
       "      <td>251871</td>\n",
       "      <td>272711</td>\n",
       "      <td>21260.0</td>\n",
       "      <td>21431.0</td>\n",
       "      <td>0</td>\n",
       "      <td>27.56</td>\n",
       "      <td>66.0</td>\n",
       "      <td>1</td>\n",
       "      <td>55.37</td>\n",
       "      <td>0</td>\n",
       "      <td>18.00</td>\n",
       "      <td>3.25</td>\n",
       "      <td>16</td>\n",
       "      <td>0.0504</td>\n",
       "      <td>0.0191</td>\n",
       "    </tr>\n",
       "    <tr>\n",
       "      <th>5</th>\n",
       "      <td>3</td>\n",
       "      <td>259005</td>\n",
       "      <td>283025</td>\n",
       "      <td>20994.5</td>\n",
       "      <td>22120.5</td>\n",
       "      <td>1</td>\n",
       "      <td>26.87</td>\n",
       "      <td>126.0</td>\n",
       "      <td>1</td>\n",
       "      <td>44.29</td>\n",
       "      <td>1</td>\n",
       "      <td>18.00</td>\n",
       "      <td>4.18</td>\n",
       "      <td>22</td>\n",
       "      <td>0.0932</td>\n",
       "      <td>0.0185</td>\n",
       "    </tr>\n",
       "    <tr>\n",
       "      <th>6</th>\n",
       "      <td>4</td>\n",
       "      <td>1058712</td>\n",
       "      <td>1162592</td>\n",
       "      <td>14271.0</td>\n",
       "      <td>13392.0</td>\n",
       "      <td>1</td>\n",
       "      <td>28.02</td>\n",
       "      <td>310.0</td>\n",
       "      <td>1</td>\n",
       "      <td>45.02</td>\n",
       "      <td>1</td>\n",
       "      <td>18.33</td>\n",
       "      <td>2.57</td>\n",
       "      <td>52</td>\n",
       "      <td>0.0559</td>\n",
       "      <td>0.0045</td>\n",
       "    </tr>\n",
       "  </tbody>\n",
       "</table>\n",
       "</div>"
      ],
      "text/plain": [
       "   State  State Population 2010  State Population 2015  State GDP 2010  \\\n",
       "0      0                 932369                1044049         16597.0   \n",
       "1      1                3155070                3315766         52579.0   \n",
       "4      2                 251871                 272711         21260.0   \n",
       "5      3                 259005                 283025         20994.5   \n",
       "6      4                1058712                1162592         14271.0   \n",
       "\n",
       "   State GDP 2015  Increase(0)/No Change(1) GDP  Total μ Age  Total (n)  \\\n",
       "0         19528.0                             0        28.36      127.0   \n",
       "1         57136.0                             0        27.15      361.0   \n",
       "4         21431.0                             0        27.56       66.0   \n",
       "5         22120.5                             1        26.87      126.0   \n",
       "6         13392.0                             1        28.02      310.0   \n",
       "\n",
       "   Above(0)/Below(1) Pop μ  Total Age σ2  Above(0)/Below(1) Pop σ2  \\\n",
       "0                        0         55.16                         0   \n",
       "1                        1         46.31                         1   \n",
       "4                        1         55.37                         0   \n",
       "5                        1         44.29                         1   \n",
       "6                        1         45.02                         1   \n",
       "\n",
       "   Adolescent μ Age  Adolescent Age σ2  Adolescent (n)  \\\n",
       "0             18.08               2.55              25   \n",
       "1             18.00               2.70              69   \n",
       "4             18.00               3.25              16   \n",
       "5             18.00               4.18              22   \n",
       "6             18.33               2.57              52   \n",
       "\n",
       "   Total % Mortality 2010-15  Ado % Mortality 2010-15  \n",
       "0                     0.0258                   0.0051  \n",
       "1                     0.0223                   0.0015  \n",
       "4                     0.0504                   0.0191  \n",
       "5                     0.0932                   0.0185  \n",
       "6                     0.0559                   0.0045  "
      ]
     },
     "execution_count": 264,
     "metadata": {},
     "output_type": "execute_result"
    }
   ],
   "source": [
    "data.head()"
   ]
  },
  {
   "cell_type": "markdown",
   "metadata": {},
   "source": [
    "## Basic Logistic Regression:\n",
    "\n",
    "* Split the data into a training and test (hold-out) set\n",
    "* Train on the training set, and test for accuracy on the testing set"
   ]
  },
  {
   "cell_type": "markdown",
   "metadata": {},
   "source": [
    "#### Test-Train-Split:\n",
    "- X = copy of all features and the response variable of dataset\n",
    "- y = all features within dataset *excluding the response (target) variable*\n",
    "- test_size = represents the proportion of the dataset (as a percentage) to include in the test split\n",
    "- random_state = the seed used by the random number generator"
   ]
  },
  {
   "cell_type": "code",
   "execution_count": 265,
   "metadata": {},
   "outputs": [],
   "source": [
    "# Entire dataset (even with response variable)\n",
    "X = data.copy()\n",
    "\n",
    "# The response variable\n",
    "y = data.copy().pop('Above(0)/Below(1) Pop μ')"
   ]
  },
  {
   "cell_type": "code",
   "execution_count": 266,
   "metadata": {},
   "outputs": [
    {
     "data": {
      "text/plain": [
       "(18, 7, 18, 7)"
      ]
     },
     "execution_count": 266,
     "metadata": {},
     "output_type": "execute_result"
    }
   ],
   "source": [
    "# Create train and test data sets with train_test_split\n",
    "X_train, X_test, y_train, y_test = train_test_split(X.values, y.values, random_state=10)\n",
    "len(X_train), len(X_test), len(y_train), len(y_test)"
   ]
  },
  {
   "cell_type": "markdown",
   "metadata": {},
   "source": [
    "#### Logistic Regression\n",
    "- Round One"
   ]
  },
  {
   "cell_type": "code",
   "execution_count": 272,
   "metadata": {},
   "outputs": [
    {
     "data": {
      "text/plain": [
       "LogisticRegression(C=1.0, class_weight=None, dual=False, fit_intercept=True,\n",
       "          intercept_scaling=1, max_iter=100, multi_class='ovr', n_jobs=1,\n",
       "          penalty='l2', random_state=None, solver='liblinear', tol=0.0001,\n",
       "          verbose=0, warm_start=False)"
      ]
     },
     "execution_count": 272,
     "metadata": {},
     "output_type": "execute_result"
    }
   ],
   "source": [
    "# Create a Logistic Regression Incidence \n",
    "clf_log = LogisticRegression()\n",
    "\n",
    "# Fit clf_log to training data\n",
    "clf_log.fit(X_train, y_train)"
   ]
  },
  {
   "cell_type": "code",
   "execution_count": 273,
   "metadata": {},
   "outputs": [
    {
     "data": {
      "text/plain": [
       "[array([-0.00012484]),\n",
       " array([-1.16909669e-05]),\n",
       " array([1.02882444e-05]),\n",
       " array([0.00154816]),\n",
       " array([-0.00131127]),\n",
       " array([-1.17831026e-05]),\n",
       " array([-0.00039179]),\n",
       " array([-0.004126]),\n",
       " array([2.59730639e-05]),\n",
       " array([-0.00078159]),\n",
       " array([7.11520784e-06]),\n",
       " array([-0.00024433]),\n",
       " array([-3.95340849e-05]),\n",
       " array([-0.00047302]),\n",
       " array([-9.97306044e-07]),\n",
       " array([-1.06999435e-07])]"
      ]
     },
     "execution_count": 273,
     "metadata": {},
     "output_type": "execute_result"
    }
   ],
   "source": [
    "# Examine the coefficients\n",
    "list(np.transpose(clf_log.coef_))"
   ]
  },
  {
   "cell_type": "code",
   "execution_count": 274,
   "metadata": {},
   "outputs": [
    {
     "data": {
      "text/plain": [
       "array([[7.02734951e-01, 2.97265049e-01],\n",
       "       [1.05799735e-01, 8.94200265e-01],\n",
       "       [9.99178294e-01, 8.21706339e-04],\n",
       "       [1.29378150e-02, 9.87062185e-01],\n",
       "       [5.45037594e-01, 4.54962406e-01],\n",
       "       [8.52660123e-02, 9.14733988e-01],\n",
       "       [1.35181862e-02, 9.86481814e-01]])"
      ]
     },
     "execution_count": 274,
     "metadata": {},
     "output_type": "execute_result"
    }
   ],
   "source": [
    "# Calculate the class probablity\n",
    "probability = clf_log.predict_proba(X_test)\n",
    "probability"
   ]
  },
  {
   "cell_type": "code",
   "execution_count": 275,
   "metadata": {},
   "outputs": [
    {
     "name": "stdout",
     "output_type": "stream",
     "text": [
      "[[1 1]\n",
      " [2 3]]\n",
      "             precision    recall  f1-score   support\n",
      "\n",
      "          0       0.33      0.50      0.40         2\n",
      "          1       0.75      0.60      0.67         5\n",
      "\n",
      "avg / total       0.63      0.57      0.59         7\n",
      "\n"
     ]
    },
    {
     "data": {
      "text/plain": [
       "0.5714285714285714"
      ]
     },
     "execution_count": 275,
     "metadata": {},
     "output_type": "execute_result"
    }
   ],
   "source": [
    "# Predict the model\n",
    "predict = clf_log.predict(X_test)\n",
    "\n",
    "# Compute the confusion_matrix to evaluate the accuracy of a classification\n",
    "conf_matrix = confusion_matrix(y_test, predict)\n",
    "print(conf_matrix)\n",
    "\n",
    "# Compute classification report\n",
    "class_report = classification_report(y_test, predict)\n",
    "print(class_report)\n",
    "\n",
    "# Print the accuracy from the testing data\n",
    "accuracy_score(y_test, predict)"
   ]
  },
  {
   "cell_type": "markdown",
   "metadata": {},
   "source": [
    "#### Tuning the Model\n",
    "\n",
    "The f1-score in *class_report* represents the classifier model's accuracy in classifying the data points in that particular class compared to all other class. Since the resulting f1-score and accuracy score is ~71.43%, this is verification that the model is working. However, adding additional parameters, 'C', to the logistic regression instance may increase the accuracy of the model. "
   ]
  },
  {
   "cell_type": "markdown",
   "metadata": {},
   "source": [
    "#### Find Optimal 'C' Parameter Value with GridSearchCV"
   ]
  },
  {
   "cell_type": "code",
   "execution_count": 276,
   "metadata": {},
   "outputs": [],
   "source": [
    "# calculate best 'C' with GridSearchCV\n",
    "def cv_optimize(clf, parameters, X_train, y_train, n_folds=5):\n",
    "    \n",
    "    #Use GridSearchCV to find the best C parameter\n",
    "    gs = GridSearchCV(clf, param_grid=parameters, cv=n_folds)\n",
    "    gs.fit(X_train, y_train)\n",
    "    print(\"BEST PARAMS\", gs.best_params_)\n",
    "    best = gs.best_estimator_\n",
    "    return best"
   ]
  },
  {
   "cell_type": "code",
   "execution_count": 278,
   "metadata": {},
   "outputs": [
    {
     "name": "stdout",
     "output_type": "stream",
     "text": [
      "BEST PARAMS {'C': 10000}\n",
      "Accuracy on training data: 0.89\n",
      "Accuracy on test data:     0.57\n"
     ]
    }
   ],
   "source": [
    "#Define possible parameter 'C' range of values\n",
    "parameters = {\"C\": [100000, 10000, 1000, 100, 10, 1.0, 0.1, 0.01, 0.001, 0.0001]}\n",
    "\n",
    "#Apply cv_optimize function to Logistic Regression\n",
    "clf = cv_optimize(clf_log, parameters, X_train, y_train)\n",
    "    \n",
    "#Fit to training data\n",
    "clf = clf.fit(X_train, y_train)\n",
    "    \n",
    "#Assess model accuracy (train and test)\n",
    "training_accuracy = clf.score(X_train, y_train)\n",
    "test_accuracy = clf.score(X_test, y_test)\n",
    "print(\"Accuracy on training data: {:0.2f}\".format(training_accuracy))\n",
    "print(\"Accuracy on test data:     {:0.2f}\".format(test_accuracy))"
   ]
  },
  {
   "cell_type": "markdown",
   "metadata": {},
   "source": [
    "#### Logistic Regression\n",
    "- Round Two"
   ]
  },
  {
   "cell_type": "code",
   "execution_count": 279,
   "metadata": {},
   "outputs": [
    {
     "data": {
      "text/plain": [
       "LogisticRegression(C=10000, class_weight=None, dual=False, fit_intercept=True,\n",
       "          intercept_scaling=1, max_iter=100, multi_class='ovr', n_jobs=1,\n",
       "          penalty='l2', random_state=None, solver='liblinear', tol=0.0001,\n",
       "          verbose=0, warm_start=False)"
      ]
     },
     "execution_count": 279,
     "metadata": {},
     "output_type": "execute_result"
    }
   ],
   "source": [
    "# Create a Logistic Regression Incidence \n",
    "new_clf_log = LogisticRegression(C=10000)\n",
    "\n",
    "# Fit clf_log to training data\n",
    "new_clf_log.fit(X_train, y_train)"
   ]
  },
  {
   "cell_type": "code",
   "execution_count": 280,
   "metadata": {},
   "outputs": [
    {
     "data": {
      "text/plain": [
       "[array([-0.00012484]),\n",
       " array([-1.16917002e-05]),\n",
       " array([1.02889123e-05]),\n",
       " array([0.00154819]),\n",
       " array([-0.00131129]),\n",
       " array([-1.17830654e-05]),\n",
       " array([-0.00039179]),\n",
       " array([-0.00412599]),\n",
       " array([2.59730347e-05]),\n",
       " array([-0.00078158]),\n",
       " array([7.11521044e-06]),\n",
       " array([-0.00024433]),\n",
       " array([-3.95339609e-05]),\n",
       " array([-0.00047301]),\n",
       " array([-9.97300324e-07]),\n",
       " array([-1.06999027e-07])]"
      ]
     },
     "execution_count": 280,
     "metadata": {},
     "output_type": "execute_result"
    }
   ],
   "source": [
    "# Examine the coefficients\n",
    "list(np.transpose(new_clf_log.coef_))"
   ]
  },
  {
   "cell_type": "code",
   "execution_count": 281,
   "metadata": {},
   "outputs": [
    {
     "data": {
      "text/plain": [
       "array([[7.02759369e-01, 2.97240631e-01],\n",
       "       [1.05810872e-01, 8.94189128e-01],\n",
       "       [9.99178271e-01, 8.21729412e-04],\n",
       "       [1.29374987e-02, 9.87062501e-01],\n",
       "       [5.45042993e-01, 4.54957007e-01],\n",
       "       [8.52665293e-02, 9.14733471e-01],\n",
       "       [1.35174653e-02, 9.86482535e-01]])"
      ]
     },
     "execution_count": 281,
     "metadata": {},
     "output_type": "execute_result"
    }
   ],
   "source": [
    "# Calculate the class probablity\n",
    "probability = new_clf_log.predict_proba(X_test)\n",
    "probability"
   ]
  },
  {
   "cell_type": "code",
   "execution_count": 283,
   "metadata": {},
   "outputs": [
    {
     "name": "stdout",
     "output_type": "stream",
     "text": [
      "[[1 1]\n",
      " [2 3]]\n",
      "             precision    recall  f1-score   support\n",
      "\n",
      "          0       0.33      0.50      0.40         2\n",
      "          1       0.75      0.60      0.67         5\n",
      "\n",
      "avg / total       0.63      0.57      0.59         7\n",
      "\n"
     ]
    },
    {
     "data": {
      "text/plain": [
       "0.5714285714285714"
      ]
     },
     "execution_count": 283,
     "metadata": {},
     "output_type": "execute_result"
    }
   ],
   "source": [
    "# Predict the model\n",
    "new_predict = new_clf_log.predict(X_test)\n",
    "\n",
    "# Compute the confusion_matrix to evaluate the accuracy of a classification\n",
    "new_conf_matrix = confusion_matrix(y_test, new_predict)\n",
    "print(new_conf_matrix)\n",
    "\n",
    "# Compute classification report\n",
    "new_class_report = classification_report(y_test, new_predict)\n",
    "print(new_class_report)\n",
    "\n",
    "# Print the accuracy from the testing data\n",
    "accuracy_score(y_test, new_predict)"
   ]
  },
  {
   "cell_type": "markdown",
   "metadata": {},
   "source": [
    "**Conclusion**: Unfortunately, as shown above, adding the best value of the C parameter (10000) to the model does not increase it's accuracy. Therefore, the final accuracy of this model will remain at ~57.43%."
   ]
  },
  {
   "cell_type": "markdown",
   "metadata": {},
   "source": [
    "### Create Maternal Mortality Strategy Using The Model"
   ]
  },
  {
   "cell_type": "code",
   "execution_count": 284,
   "metadata": {},
   "outputs": [
    {
     "data": {
      "text/plain": [
       "Index(['State', 'State Population 2010', 'State Population 2015',\n",
       "       'State GDP 2010', 'State GDP 2015', 'Increase(0)/No Change(1) GDP',\n",
       "       'Total μ Age', 'Total (n)', 'Above(0)/Below(1) Pop μ', 'Total Age σ2',\n",
       "       'Above(0)/Below(1) Pop σ2', 'Adolescent μ Age', 'Adolescent Age σ2',\n",
       "       'Adolescent (n)', 'Total % Mortality 2010-15',\n",
       "       'Ado % Mortality 2010-15'],\n",
       "      dtype='object')"
      ]
     },
     "execution_count": 284,
     "metadata": {},
     "output_type": "execute_result"
    }
   ],
   "source": [
    "data.columns"
   ]
  },
  {
   "cell_type": "code",
   "execution_count": 155,
   "metadata": {},
   "outputs": [
    {
     "data": {
      "image/png": "[encoded data removed]",
      "text/plain": [
       "<Figure size 720x360 with 1 Axes>"
      ]
     },
     "metadata": {
      "needs_background": "light"
     },
     "output_type": "display_data"
    }
   ],
   "source": [
    "data['Decrease(0)/Not(1) in Ado Maternal Mortality (n) 2010-15'] = clf_log.predict(X)\n",
    "\n",
    "data['State Population 2015'] = (data['State Population 2015'] - data['State Population 2010'])/data['State Population 2015'].shift(1)\n",
    "State_Population_prediction = np.cumsum(data['State Population 2015'])\n",
    "\n",
    "data['State GDP 2015'] = (data['State GDP 2015'] - data['State GDP 2010'])/data['State GDP 2015'].shift(1)\n",
    "State_GDP_prediction = np.cumsum(data['State GDP 2015'])\n",
    "\n",
    "plt.figure(figsize=(10,5))\n",
    "plt.plot(State_Population_prediction, color='r',label = 'State Populations')\n",
    "plt.plot(State_GDP_prediction, color='g', label = 'State GDPs')\n",
    "plt.legend()\n",
    "plt.show()"
   ]
  },
  {
   "cell_type": "markdown",
   "metadata": {},
   "source": [
    "### It can be observed that the Logistic Regression model in Python predicts the classes with an accuracy of approximately ~57.43% and generates reasonable good predictions."
   ]
  },
  {
   "cell_type": "markdown",
   "metadata": {},
   "source": [
    "#### For Random Forest Classifiers:\n",
    "- n_estimators: choosing 100 is a straight forward value\n",
    "- max_depth: the level of complexity/freedom - values 2 to 6 is usually fine, though starting at 2 is recommended\n",
    "- random_state: the seed for the random number generator - makes a model replicatable - any number is fine"
   ]
  },
  {
   "cell_type": "code",
   "execution_count": 285,
   "metadata": {},
   "outputs": [],
   "source": [
    "# Create a Random Forest Classifier incidence \n",
    "rfc_model = RandomForestClassifier(n_estimators=100, max_depth=2, random_state=0)"
   ]
  },
  {
   "cell_type": "code",
   "execution_count": 286,
   "metadata": {},
   "outputs": [
    {
     "data": {
      "text/plain": [
       "RandomForestClassifier(bootstrap=True, class_weight=None, criterion='gini',\n",
       "            max_depth=2, max_features='auto', max_leaf_nodes=None,\n",
       "            min_impurity_decrease=0.0, min_impurity_split=None,\n",
       "            min_samples_leaf=1, min_samples_split=2,\n",
       "            min_weight_fraction_leaf=0.0, n_estimators=100, n_jobs=1,\n",
       "            oob_score=False, random_state=0, verbose=0, warm_start=False)"
      ]
     },
     "execution_count": 286,
     "metadata": {},
     "output_type": "execute_result"
    }
   ],
   "source": [
    "# Fit train data to Random Forest Classifier\n",
    "rfc_model.fit(X_train, y_train)"
   ]
  },
  {
   "cell_type": "code",
   "execution_count": 287,
   "metadata": {},
   "outputs": [
    {
     "data": {
      "text/plain": [
       "<matplotlib.axes._subplots.AxesSubplot at 0x1a236a1cf8>"
      ]
     },
     "execution_count": 287,
     "metadata": {},
     "output_type": "execute_result"
    },
    {
     "data": {
      "image/png": "[encoded data removed]",
      "text/plain": [
       "<Figure size 720x504 with 2 Axes>"
      ]
     },
     "metadata": {
      "needs_background": "light"
     },
     "output_type": "display_data"
    }
   ],
   "source": [
    "# Plot confusion_matrix\n",
    "plt.figure(figsize = (10,7))\n",
    "sns.heatmap(conf_matrix, annot=True)"
   ]
  },
  {
   "cell_type": "markdown",
   "metadata": {},
   "source": [
    "#### Compute the Root Mean Squared Error (RMSE) \n",
    "- Used measure of the differences between values predicted by a model and the values observed \n",
    "- RMSE is always non-negative\n",
    "- A value of 0 would indicate a perfect fit to the data. \n",
    "In general, a lower RMSD is better than a higher one. "
   ]
  },
  {
   "cell_type": "code",
   "execution_count": 289,
   "metadata": {},
   "outputs": [
    {
     "ename": "NameError",
     "evalue": "name 'y_pred' is not defined",
     "output_type": "error",
     "traceback": [
      "\u001b[0;31m---------------------------------------------------------------------------\u001b[0m",
      "\u001b[0;31mNameError\u001b[0m                                 Traceback (most recent call last)",
      "\u001b[0;32m<ipython-input-289-49f381754532>\u001b[0m in \u001b[0;36m<module>\u001b[0;34m()\u001b[0m\n\u001b[1;32m      1\u001b[0m \u001b[0;31m# Plot outputs\u001b[0m\u001b[0;34m\u001b[0m\u001b[0;34m\u001b[0m\u001b[0;34m\u001b[0m\u001b[0m\n\u001b[0;32m----> 2\u001b[0;31m \u001b[0mplt\u001b[0m\u001b[0;34m.\u001b[0m\u001b[0mscatter\u001b[0m\u001b[0;34m(\u001b[0m\u001b[0mX_test\u001b[0m\u001b[0;34m,\u001b[0m \u001b[0my_pred\u001b[0m\u001b[0;34m,\u001b[0m  \u001b[0mcolor\u001b[0m\u001b[0;34m=\u001b[0m\u001b[0;34m'black'\u001b[0m\u001b[0;34m)\u001b[0m\u001b[0;34m\u001b[0m\u001b[0;34m\u001b[0m\u001b[0m\n\u001b[0m\u001b[1;32m      3\u001b[0m \u001b[0mplt\u001b[0m\u001b[0;34m.\u001b[0m\u001b[0mplot\u001b[0m\u001b[0;34m(\u001b[0m\u001b[0mX_test\u001b[0m\u001b[0;34m,\u001b[0m \u001b[0my_pred\u001b[0m\u001b[0;34m,\u001b[0m \u001b[0mcolor\u001b[0m\u001b[0;34m=\u001b[0m\u001b[0;34m'blue'\u001b[0m\u001b[0;34m,\u001b[0m \u001b[0mlinewidth\u001b[0m\u001b[0;34m=\u001b[0m\u001b[0;36m3\u001b[0m\u001b[0;34m)\u001b[0m\u001b[0;34m\u001b[0m\u001b[0;34m\u001b[0m\u001b[0m\n\u001b[1;32m      4\u001b[0m \u001b[0;34m\u001b[0m\u001b[0m\n\u001b[1;32m      5\u001b[0m \u001b[0mplt\u001b[0m\u001b[0;34m.\u001b[0m\u001b[0mxticks\u001b[0m\u001b[0;34m(\u001b[0m\u001b[0;34m(\u001b[0m\u001b[0;34m)\u001b[0m\u001b[0;34m)\u001b[0m\u001b[0;34m\u001b[0m\u001b[0;34m\u001b[0m\u001b[0m\n",
      "\u001b[0;31mNameError\u001b[0m: name 'y_pred' is not defined"
     ]
    }
   ],
   "source": [
    "# Plot outputs\n",
    "plt.scatter(X_test, y_pred,  color='black')\n",
    "plt.plot(X_test, y_pred, color='blue', linewidth=3)\n",
    "\n",
    "plt.xticks(())\n",
    "plt.yticks(())\n",
    "\n",
    "plt.show()"
   ]
  },
  {
   "cell_type": "markdown",
   "metadata": {},
   "source": [
    "#### K-Neighbors Classification\n",
    "- Supervised neighbors classification for data with discrete labels"
   ]
  },
  {
   "cell_type": "code",
   "execution_count": 71,
   "metadata": {},
   "outputs": [
    {
     "data": {
      "text/plain": [
       "['State',\n",
       " 'State Population 2015',\n",
       " 'State GDP 2015',\n",
       " 'μ Age Maternal Mortality',\n",
       " 'Above(0)/Below(1) μ Pop Age',\n",
       " 'μ Age Variance',\n",
       " 'Total Maternal Mortality (n)',\n",
       " 'μ Age Adolescent Maternal Mortality',\n",
       " 'μ Age Adolescent Variance',\n",
       " 'Adolescent Maternal Mortality (n)',\n",
       " 'Total Percent Maternal Mortality 2015',\n",
       " 'Adolescent Percent Maternal Mortality 2015']"
      ]
     },
     "execution_count": 71,
     "metadata": {},
     "output_type": "execute_result"
    }
   ],
   "source": [
    "# Define features\n",
    "features = list(X.keys())\n",
    "features"
   ]
  },
  {
   "cell_type": "code",
   "execution_count": 290,
   "metadata": {},
   "outputs": [
    {
     "name": "stdout",
     "output_type": "stream",
     "text": [
      "[[1 1]\n",
      " [2 3]]\n",
      "             precision    recall  f1-score   support\n",
      "\n",
      "          0       0.33      0.50      0.40         2\n",
      "          1       0.75      0.60      0.67         5\n",
      "\n",
      "avg / total       0.63      0.57      0.59         7\n",
      "\n"
     ]
    }
   ],
   "source": [
    "# Define number of K-Neighbors\n",
    "neighbors = 8\n",
    "knn = KNeighborsClassifier(neighbors)\n",
    "\n",
    "# Fit the classifier to the training data\n",
    "knn.fit(X_train, y_train)\n",
    "\n",
    "# Predict the labels of the test data: y_pred\n",
    "y_pred_knn = knn.predict(X_test)\n",
    "\n",
    "# Generate the confusion matrix and classification report\n",
    "print(confusion_matrix(y_test, y_pred_knn))\n",
    "print(classification_report(y_test, y_pred_knn))"
   ]
  },
  {
   "cell_type": "code",
   "execution_count": 291,
   "metadata": {},
   "outputs": [
    {
     "name": "stdout",
     "output_type": "stream",
     "text": [
      "[[1 1]\n",
      " [2 3]]\n",
      "             precision    recall  f1-score   support\n",
      "\n",
      "          0       0.33      0.50      0.40         2\n",
      "          1       0.75      0.60      0.67         5\n",
      "\n",
      "avg / total       0.63      0.57      0.59         7\n",
      "\n"
     ]
    }
   ],
   "source": [
    "# Predict the labels of the test data: y_pred\n",
    "y_pred_knn = knn.predict(X_test)\n",
    "\n",
    "# Generate the confusion matrix and classification report\n",
    "print(confusion_matrix(y_test, y_pred_knn))\n",
    "print(classification_report(y_test, y_pred_knn))"
   ]
  },
  {
   "cell_type": "code",
   "execution_count": null,
   "metadata": {},
   "outputs": [
    {
     "name": "stderr",
     "output_type": "stream",
     "text": [
      "/anaconda3/lib/python3.7/site-packages/ipykernel_launcher.py:20: DeprecationWarning: elementwise == comparison failed; this will raise an error in the future.\n"
     ]
    },
    {
     "name": "stdout",
     "output_type": "stream",
     "text": [
      "None 0.0\n"
     ]
    }
   ],
   "source": [
    "# Plot the decision boundary\n",
    "\n",
    "# step size in the mesh\n",
    "h = .02\n",
    "\n",
    "# Create color maps\n",
    "cmap_light = ListedColormap(['#FFAAAA', '#AAFFAA', '#AAAAFF'])\n",
    "cmap_bold = ListedColormap(['#FF0000', '#00FF00', '#0000FF'])\n",
    "\n",
    "for shrinkage in [None, .2]:\n",
    "    \n",
    "    #create an instance of Neighbours Classifier\n",
    "    clf = NearestCentroid(shrink_threshold=shrinkage)\n",
    "    \n",
    "    #fit training data\n",
    "    clf.fit(X_train, y_train)\n",
    "    \n",
    "    #predict testing data\n",
    "    y_pred = clf.predict(X_test)\n",
    "    print(shrinkage, np.mean(y_train == y_pred))\n",
    "    \n",
    "    # assign a color to each point in the mesh [x_min, x_max] x[y_min, y_max]\n",
    "    x_min, x_max = X['State GDP 2015'].min() - 1, X['State GDP 2015'].max() + 1\n",
    "    \n",
    "    # target variable is binary\n",
    "    y_min, y_max = 0, 1\n",
    "    \n",
    "    xx, yy = np.meshgrid(np.arange(x_min, x_max, h),\n",
    "                         np.arange(y_min, y_max, h))\n",
    "    Z = clf.predict(np.c_[xx.ravel(), yy.ravel()])\n",
    "\n",
    "    # Put the result into a color plot\n",
    "    Z = Z.reshape(xx.shape)\n",
    "    plt.figure()\n",
    "    plt.pcolormesh(xx, yy, Z, cmap=cmap_light)\n",
    "\n",
    "    # Plot also the training points\n",
    "    plt.scatter(X_train, y_train, c=y, cmap=cmap_bold,\n",
    "                edgecolor='k', s=20)\n",
    "    plt.title(\"3-Class classification (shrink_threshold=%r)\"\n",
    "              % shrinkage)\n",
    "    plt.axis('tight')\n",
    "\n",
    "plt.show()"
   ]
  }
 ],
 "metadata": {
  "kernelspec": {
   "display_name": "Python 3",
   "language": "python",
   "name": "python3"
  },
  "language_info": {
   "codemirror_mode": {
    "name": "ipython",
    "version": 3
   },
   "file_extension": ".py",
   "mimetype": "text/x-python",
   "name": "python",
   "nbconvert_exporter": "python",
   "pygments_lexer": "ipython3",
   "version": "3.7.2"
  }
 },
 "nbformat": 4,
 "nbformat_minor": 2
}
