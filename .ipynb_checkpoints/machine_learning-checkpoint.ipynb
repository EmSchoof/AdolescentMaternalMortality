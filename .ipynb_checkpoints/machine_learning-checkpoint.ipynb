{
 "cells": [
  {
   "cell_type": "markdown",
   "metadata": {},
   "source": [
    "## What factors contribute to lower rates of adolescent maternal mortality long-term?"
   ]
  },
  {
   "cell_type": "markdown",
   "metadata": {},
   "source": [
    "Machine learning methods are becoming increasingly relevant as data becomes more readily available. These methods enable researchers to expand on their general understanding of the complex dynamic changes in indicators with a significant number of interrelated factors. Additionally, it is possible to make the results, like external factors affecting the incidence of adolescent maternal mortality, interpretable from a clinical point of view.\n",
    "\n",
    "The following methods consist of: Random Forest Classifier, KNeighbors Classifier, Logistic Regression, and Gaussian Naive Bayes.  For the interpretation of differences between individual parameters of the mothers in two classes predicted failure (maternal mortality) verses prediction success (maternal vitality), the problem of classification via using the decision tree can be solved. The target is prediction failure class.\n",
    "\n",
    "**The primary purpose of this study was to assess the rates of adolescent maternal mortality within Mexico, and calculate the risk probability of an adolescent maternal mortality by region in Mexico based on some of the top features contributing to maternal mortality. **\n",
    "\n",
    "------------------------------------------------------------------------------------------\n",
    "\n",
    "Linear Regression - Predict Maternal Mortality based off these factors (continuous):\n",
    "\n",
    "**PEARSON CORRELATION** Determine which factors are more highly correlated. \n",
    "\n",
    "target - \n",
    "features -\n",
    "\n",
    "\n",
    "2010 version and 2015 version \n",
    "- what states improved\n",
    "- principle component analysis of each"
   ]
  },
  {
   "cell_type": "code",
   "execution_count": 358,
   "metadata": {},
   "outputs": [],
   "source": [
    "# Import the relevant modules\n",
    "import pandas as pd\n",
    "import numpy as np\n",
    "import seaborn as sns\n",
    "import matplotlib.pyplot as plt \n",
    "from matplotlib.colors import ListedColormap\n",
    "\n",
    "# Machine Learning modules\n",
    "from sklearn.tree import DecisionTreeClassifier\n",
    "from sklearn.ensemble import RandomForestClassifier\n",
    "from sklearn.tree import export_graphviz\n",
    "from sklearn.naive_bayes import GaussianNB\n",
    "\n",
    "# Logistic Regression\n",
    "from sklearn.model_selection import train_test_split\n",
    "from sklearn.linear_model import LogisticRegression\n",
    "from sklearn.metrics import accuracy_score\n",
    "\n",
    "# Hyperparameters\n",
    "from sklearn.model_selection import GridSearchCV\n",
    "from sklearn.metrics import roc_auc_score\n",
    "from sklearn.model_selection import cross_val_score\n",
    "\n",
    "# ROC Curve\n",
    "from sklearn.metrics import roc_curve"
   ]
  },
  {
   "cell_type": "code",
   "execution_count": 129,
   "metadata": {},
   "outputs": [],
   "source": [
    "# Open merged materna_mortal_factors dataset\n",
    "%store -r metro_gdp_mortality"
   ]
  },
  {
   "cell_type": "code",
   "execution_count": 130,
   "metadata": {},
   "outputs": [
    {
     "data": {
      "text/html": [
       "<div>\n",
       "<style scoped>\n",
       "    .dataframe tbody tr th:only-of-type {\n",
       "        vertical-align: middle;\n",
       "    }\n",
       "\n",
       "    .dataframe tbody tr th {\n",
       "        vertical-align: top;\n",
       "    }\n",
       "\n",
       "    .dataframe thead th {\n",
       "        text-align: right;\n",
       "    }\n",
       "</style>\n",
       "<table border=\"1\" class=\"dataframe\">\n",
       "  <thead>\n",
       "    <tr style=\"text-align: right;\">\n",
       "      <th></th>\n",
       "      <th>State</th>\n",
       "      <th>State Population 2015</th>\n",
       "      <th>State GDP 2015</th>\n",
       "      <th>Increase(0)/Not(1) GDP 2010-15</th>\n",
       "      <th>μ Age Maternal Mortality</th>\n",
       "      <th>μ Age Variance</th>\n",
       "      <th>Above(0)/Not(1) Mexico μ Age Maternal Mortality</th>\n",
       "      <th>μ Age Adolescent Maternal Mortality</th>\n",
       "      <th>Above(0)/Not(1) Mexico μ *Ado* Age Maternal Mortality</th>\n",
       "      <th>Proportion Ado(n):Total(n)</th>\n",
       "      <th>Above(0)/Not(1) Proportion *Ado*(n):Total(n)</th>\n",
       "      <th>μ Region Education Level</th>\n",
       "      <th>μ Presence(0)/Not(1) Medical Assistance ATD</th>\n",
       "    </tr>\n",
       "  </thead>\n",
       "  <tbody>\n",
       "    <tr>\n",
       "      <th>0</th>\n",
       "      <td>Aguascalientes</td>\n",
       "      <td>1044049</td>\n",
       "      <td>19528.0</td>\n",
       "      <td>0</td>\n",
       "      <td>28.36</td>\n",
       "      <td>55.16</td>\n",
       "      <td>0</td>\n",
       "      <td>18.08</td>\n",
       "      <td>0</td>\n",
       "      <td>0.1969</td>\n",
       "      <td>0</td>\n",
       "      <td>4.56</td>\n",
       "      <td>0.16</td>\n",
       "    </tr>\n",
       "    <tr>\n",
       "      <th>1</th>\n",
       "      <td>Baja California</td>\n",
       "      <td>3315766</td>\n",
       "      <td>57136.0</td>\n",
       "      <td>0</td>\n",
       "      <td>27.15</td>\n",
       "      <td>46.31</td>\n",
       "      <td>1</td>\n",
       "      <td>18.00</td>\n",
       "      <td>0</td>\n",
       "      <td>0.1911</td>\n",
       "      <td>0</td>\n",
       "      <td>4.42</td>\n",
       "      <td>0.16</td>\n",
       "    </tr>\n",
       "    <tr>\n",
       "      <th>4</th>\n",
       "      <td>Baja California Sur</td>\n",
       "      <td>272711</td>\n",
       "      <td>21431.0</td>\n",
       "      <td>0</td>\n",
       "      <td>27.56</td>\n",
       "      <td>55.37</td>\n",
       "      <td>1</td>\n",
       "      <td>18.00</td>\n",
       "      <td>0</td>\n",
       "      <td>0.2424</td>\n",
       "      <td>0</td>\n",
       "      <td>4.83</td>\n",
       "      <td>0.16</td>\n",
       "    </tr>\n",
       "    <tr>\n",
       "      <th>5</th>\n",
       "      <td>Campeche</td>\n",
       "      <td>283025</td>\n",
       "      <td>NaN</td>\n",
       "      <td>1</td>\n",
       "      <td>26.87</td>\n",
       "      <td>44.29</td>\n",
       "      <td>1</td>\n",
       "      <td>18.00</td>\n",
       "      <td>0</td>\n",
       "      <td>0.1746</td>\n",
       "      <td>0</td>\n",
       "      <td>4.12</td>\n",
       "      <td>0.14</td>\n",
       "    </tr>\n",
       "    <tr>\n",
       "      <th>6</th>\n",
       "      <td>Chiapas</td>\n",
       "      <td>1162592</td>\n",
       "      <td>13392.0</td>\n",
       "      <td>1</td>\n",
       "      <td>28.02</td>\n",
       "      <td>45.02</td>\n",
       "      <td>1</td>\n",
       "      <td>18.33</td>\n",
       "      <td>0</td>\n",
       "      <td>0.1677</td>\n",
       "      <td>1</td>\n",
       "      <td>4.75</td>\n",
       "      <td>0.12</td>\n",
       "    </tr>\n",
       "    <tr>\n",
       "      <th>8</th>\n",
       "      <td>Chihuahua</td>\n",
       "      <td>2309519</td>\n",
       "      <td>36202.0</td>\n",
       "      <td>0</td>\n",
       "      <td>27.59</td>\n",
       "      <td>40.12</td>\n",
       "      <td>1</td>\n",
       "      <td>17.88</td>\n",
       "      <td>1</td>\n",
       "      <td>0.1633</td>\n",
       "      <td>1</td>\n",
       "      <td>4.61</td>\n",
       "      <td>0.13</td>\n",
       "    </tr>\n",
       "    <tr>\n",
       "      <th>10</th>\n",
       "      <td>Coahuila de Zaragoza</td>\n",
       "      <td>2629584</td>\n",
       "      <td>68995.0</td>\n",
       "      <td>0</td>\n",
       "      <td>28.24</td>\n",
       "      <td>61.58</td>\n",
       "      <td>1</td>\n",
       "      <td>17.92</td>\n",
       "      <td>1</td>\n",
       "      <td>0.2162</td>\n",
       "      <td>0</td>\n",
       "      <td>2.82</td>\n",
       "      <td>0.14</td>\n",
       "    </tr>\n",
       "    <tr>\n",
       "      <th>13</th>\n",
       "      <td>Colima</td>\n",
       "      <td>359392</td>\n",
       "      <td>16240.0</td>\n",
       "      <td>1</td>\n",
       "      <td>26.98</td>\n",
       "      <td>55.14</td>\n",
       "      <td>1</td>\n",
       "      <td>17.68</td>\n",
       "      <td>1</td>\n",
       "      <td>0.2484</td>\n",
       "      <td>0</td>\n",
       "      <td>3.34</td>\n",
       "      <td>0.15</td>\n",
       "    </tr>\n",
       "    <tr>\n",
       "      <th>14</th>\n",
       "      <td>Durango</td>\n",
       "      <td>654876</td>\n",
       "      <td>13849.0</td>\n",
       "      <td>0</td>\n",
       "      <td>28.65</td>\n",
       "      <td>57.71</td>\n",
       "      <td>0</td>\n",
       "      <td>17.93</td>\n",
       "      <td>1</td>\n",
       "      <td>0.1749</td>\n",
       "      <td>0</td>\n",
       "      <td>3.96</td>\n",
       "      <td>0.17</td>\n",
       "    </tr>\n",
       "    <tr>\n",
       "      <th>15</th>\n",
       "      <td>Guanajuato</td>\n",
       "      <td>2499860</td>\n",
       "      <td>28856.0</td>\n",
       "      <td>0</td>\n",
       "      <td>29.19</td>\n",
       "      <td>54.33</td>\n",
       "      <td>0</td>\n",
       "      <td>17.92</td>\n",
       "      <td>1</td>\n",
       "      <td>0.1358</td>\n",
       "      <td>1</td>\n",
       "      <td>3.87</td>\n",
       "      <td>0.15</td>\n",
       "    </tr>\n",
       "  </tbody>\n",
       "</table>\n",
       "</div>"
      ],
      "text/plain": [
       "                   State  State Population 2015  State GDP 2015  \\\n",
       "0         Aguascalientes                1044049         19528.0   \n",
       "1        Baja California                3315766         57136.0   \n",
       "4    Baja California Sur                 272711         21431.0   \n",
       "5               Campeche                 283025             NaN   \n",
       "6                Chiapas                1162592         13392.0   \n",
       "8              Chihuahua                2309519         36202.0   \n",
       "10  Coahuila de Zaragoza                2629584         68995.0   \n",
       "13                Colima                 359392         16240.0   \n",
       "14               Durango                 654876         13849.0   \n",
       "15            Guanajuato                2499860         28856.0   \n",
       "\n",
       "    Increase(0)/Not(1) GDP 2010-15  μ Age Maternal Mortality  μ Age Variance  \\\n",
       "0                                0                     28.36           55.16   \n",
       "1                                0                     27.15           46.31   \n",
       "4                                0                     27.56           55.37   \n",
       "5                                1                     26.87           44.29   \n",
       "6                                1                     28.02           45.02   \n",
       "8                                0                     27.59           40.12   \n",
       "10                               0                     28.24           61.58   \n",
       "13                               1                     26.98           55.14   \n",
       "14                               0                     28.65           57.71   \n",
       "15                               0                     29.19           54.33   \n",
       "\n",
       "    Above(0)/Not(1) Mexico μ Age Maternal Mortality  \\\n",
       "0                                                 0   \n",
       "1                                                 1   \n",
       "4                                                 1   \n",
       "5                                                 1   \n",
       "6                                                 1   \n",
       "8                                                 1   \n",
       "10                                                1   \n",
       "13                                                1   \n",
       "14                                                0   \n",
       "15                                                0   \n",
       "\n",
       "    μ Age Adolescent Maternal Mortality  \\\n",
       "0                                 18.08   \n",
       "1                                 18.00   \n",
       "4                                 18.00   \n",
       "5                                 18.00   \n",
       "6                                 18.33   \n",
       "8                                 17.88   \n",
       "10                                17.92   \n",
       "13                                17.68   \n",
       "14                                17.93   \n",
       "15                                17.92   \n",
       "\n",
       "    Above(0)/Not(1) Mexico μ *Ado* Age Maternal Mortality  \\\n",
       "0                                                   0       \n",
       "1                                                   0       \n",
       "4                                                   0       \n",
       "5                                                   0       \n",
       "6                                                   0       \n",
       "8                                                   1       \n",
       "10                                                  1       \n",
       "13                                                  1       \n",
       "14                                                  1       \n",
       "15                                                  1       \n",
       "\n",
       "    Proportion Ado(n):Total(n)  Above(0)/Not(1) Proportion *Ado*(n):Total(n)  \\\n",
       "0                       0.1969                                             0   \n",
       "1                       0.1911                                             0   \n",
       "4                       0.2424                                             0   \n",
       "5                       0.1746                                             0   \n",
       "6                       0.1677                                             1   \n",
       "8                       0.1633                                             1   \n",
       "10                      0.2162                                             0   \n",
       "13                      0.2484                                             0   \n",
       "14                      0.1749                                             0   \n",
       "15                      0.1358                                             1   \n",
       "\n",
       "    μ Region Education Level  μ Presence(0)/Not(1) Medical Assistance ATD  \n",
       "0                       4.56                                         0.16  \n",
       "1                       4.42                                         0.16  \n",
       "4                       4.83                                         0.16  \n",
       "5                       4.12                                         0.14  \n",
       "6                       4.75                                         0.12  \n",
       "8                       4.61                                         0.13  \n",
       "10                      2.82                                         0.14  \n",
       "13                      3.34                                         0.15  \n",
       "14                      3.96                                         0.17  \n",
       "15                      3.87                                         0.15  "
      ]
     },
     "execution_count": 130,
     "metadata": {},
     "output_type": "execute_result"
    }
   ],
   "source": [
    "data = metro_gdp_mortality\n",
    "data.head(10)"
   ]
  },
  {
   "cell_type": "markdown",
   "metadata": {},
   "source": [
    "### Dataset Target Variable: Above(0)/Not(1) Mexico μ Age Maternal Mortality"
   ]
  },
  {
   "cell_type": "markdown",
   "metadata": {},
   "source": [
    "### Visualize Data\n",
    "\n",
    "#### Assess potential correlation of various factors within each Region\n",
    "- Create a correlation dataframe\n",
    "- Plot the correlation dataframe on a sns heatmap:\n",
    "    - Cells that are in green show positive correlation\n",
    "    - Cells that are in red show negative correlation"
   ]
  },
  {
   "cell_type": "code",
   "execution_count": 131,
   "metadata": {},
   "outputs": [
    {
     "data": {
      "text/plain": [
       "<matplotlib.axes._subplots.AxesSubplot at 0x1ab18e1c88>"
      ]
     },
     "execution_count": 131,
     "metadata": {},
     "output_type": "execute_result"
    },
    {
     "data": {
      "image/png": "[encoded data removed]",
      "text/plain": [
       "<Figure size 432x288 with 2 Axes>"
      ]
     },
     "metadata": {
      "needs_background": "light"
     },
     "output_type": "display_data"
    }
   ],
   "source": [
    "# Create a correlation dataframe\n",
    "feature_corr = data.corr()\n",
    "\n",
    "# Plot a correlation heatmap\n",
    "sns.heatmap(feature_corr, square=True, cmap='RdYlGn')"
   ]
  },
  {
   "cell_type": "code",
   "execution_count": 332,
   "metadata": {},
   "outputs": [
    {
     "data": {
      "text/html": [
       "<div>\n",
       "<style scoped>\n",
       "    .dataframe tbody tr th:only-of-type {\n",
       "        vertical-align: middle;\n",
       "    }\n",
       "\n",
       "    .dataframe tbody tr th {\n",
       "        vertical-align: top;\n",
       "    }\n",
       "\n",
       "    .dataframe thead th {\n",
       "        text-align: right;\n",
       "    }\n",
       "</style>\n",
       "<table border=\"1\" class=\"dataframe\">\n",
       "  <thead>\n",
       "    <tr style=\"text-align: right;\">\n",
       "      <th></th>\n",
       "      <th>State</th>\n",
       "      <th>State Population 2015</th>\n",
       "      <th>State GDP 2015</th>\n",
       "      <th>Increase(0)/Not(1) GDP 2010-15</th>\n",
       "      <th>μ Age Maternal Mortality</th>\n",
       "      <th>μ Age Variance</th>\n",
       "      <th>Above(0)/Not(1) Mexico μ Age Maternal Mortality</th>\n",
       "      <th>μ Age Adolescent Maternal Mortality</th>\n",
       "      <th>Above(0)/Not(1) Mexico μ *Ado* Age Maternal Mortality</th>\n",
       "      <th>Proportion Ado(n):Total(n)</th>\n",
       "      <th>Above(0)/Not(1) Proportion *Ado*(n):Total(n)</th>\n",
       "      <th>μ Region Education Level</th>\n",
       "      <th>μ Presence(0)/Not(1) Medical Assistance ATD</th>\n",
       "    </tr>\n",
       "  </thead>\n",
       "  <tbody>\n",
       "    <tr>\n",
       "      <th>0</th>\n",
       "      <td>0</td>\n",
       "      <td>1044049</td>\n",
       "      <td>19528.0</td>\n",
       "      <td>0</td>\n",
       "      <td>28.36</td>\n",
       "      <td>55.16</td>\n",
       "      <td>0</td>\n",
       "      <td>18.08</td>\n",
       "      <td>0</td>\n",
       "      <td>0.1969</td>\n",
       "      <td>0</td>\n",
       "      <td>4.56</td>\n",
       "      <td>0.16</td>\n",
       "    </tr>\n",
       "    <tr>\n",
       "      <th>1</th>\n",
       "      <td>1</td>\n",
       "      <td>3315766</td>\n",
       "      <td>57136.0</td>\n",
       "      <td>0</td>\n",
       "      <td>27.15</td>\n",
       "      <td>46.31</td>\n",
       "      <td>1</td>\n",
       "      <td>18.00</td>\n",
       "      <td>0</td>\n",
       "      <td>0.1911</td>\n",
       "      <td>0</td>\n",
       "      <td>4.42</td>\n",
       "      <td>0.16</td>\n",
       "    </tr>\n",
       "    <tr>\n",
       "      <th>4</th>\n",
       "      <td>2</td>\n",
       "      <td>272711</td>\n",
       "      <td>21431.0</td>\n",
       "      <td>0</td>\n",
       "      <td>27.56</td>\n",
       "      <td>55.37</td>\n",
       "      <td>1</td>\n",
       "      <td>18.00</td>\n",
       "      <td>0</td>\n",
       "      <td>0.2424</td>\n",
       "      <td>0</td>\n",
       "      <td>4.83</td>\n",
       "      <td>0.16</td>\n",
       "    </tr>\n",
       "    <tr>\n",
       "      <th>5</th>\n",
       "      <td>3</td>\n",
       "      <td>283025</td>\n",
       "      <td>22120.5</td>\n",
       "      <td>1</td>\n",
       "      <td>26.87</td>\n",
       "      <td>44.29</td>\n",
       "      <td>1</td>\n",
       "      <td>18.00</td>\n",
       "      <td>0</td>\n",
       "      <td>0.1746</td>\n",
       "      <td>0</td>\n",
       "      <td>4.12</td>\n",
       "      <td>0.14</td>\n",
       "    </tr>\n",
       "    <tr>\n",
       "      <th>6</th>\n",
       "      <td>4</td>\n",
       "      <td>1162592</td>\n",
       "      <td>13392.0</td>\n",
       "      <td>1</td>\n",
       "      <td>28.02</td>\n",
       "      <td>45.02</td>\n",
       "      <td>1</td>\n",
       "      <td>18.33</td>\n",
       "      <td>0</td>\n",
       "      <td>0.1677</td>\n",
       "      <td>1</td>\n",
       "      <td>4.75</td>\n",
       "      <td>0.12</td>\n",
       "    </tr>\n",
       "  </tbody>\n",
       "</table>\n",
       "</div>"
      ],
      "text/plain": [
       "   State  State Population 2015  State GDP 2015  \\\n",
       "0      0                1044049         19528.0   \n",
       "1      1                3315766         57136.0   \n",
       "4      2                 272711         21431.0   \n",
       "5      3                 283025         22120.5   \n",
       "6      4                1162592         13392.0   \n",
       "\n",
       "   Increase(0)/Not(1) GDP 2010-15  μ Age Maternal Mortality  μ Age Variance  \\\n",
       "0                               0                     28.36           55.16   \n",
       "1                               0                     27.15           46.31   \n",
       "4                               0                     27.56           55.37   \n",
       "5                               1                     26.87           44.29   \n",
       "6                               1                     28.02           45.02   \n",
       "\n",
       "   Above(0)/Not(1) Mexico μ Age Maternal Mortality  \\\n",
       "0                                                0   \n",
       "1                                                1   \n",
       "4                                                1   \n",
       "5                                                1   \n",
       "6                                                1   \n",
       "\n",
       "   μ Age Adolescent Maternal Mortality  \\\n",
       "0                                18.08   \n",
       "1                                18.00   \n",
       "4                                18.00   \n",
       "5                                18.00   \n",
       "6                                18.33   \n",
       "\n",
       "   Above(0)/Not(1) Mexico μ *Ado* Age Maternal Mortality  \\\n",
       "0                                                  0       \n",
       "1                                                  0       \n",
       "4                                                  0       \n",
       "5                                                  0       \n",
       "6                                                  0       \n",
       "\n",
       "   Proportion Ado(n):Total(n)  Above(0)/Not(1) Proportion *Ado*(n):Total(n)  \\\n",
       "0                      0.1969                                             0   \n",
       "1                      0.1911                                             0   \n",
       "4                      0.2424                                             0   \n",
       "5                      0.1746                                             0   \n",
       "6                      0.1677                                             1   \n",
       "\n",
       "   μ Region Education Level  μ Presence(0)/Not(1) Medical Assistance ATD  \n",
       "0                      4.56                                         0.16  \n",
       "1                      4.42                                         0.16  \n",
       "4                      4.83                                         0.16  \n",
       "5                      4.12                                         0.14  \n",
       "6                      4.75                                         0.12  "
      ]
     },
     "execution_count": 332,
     "metadata": {},
     "output_type": "execute_result"
    }
   ],
   "source": [
    "data.head()"
   ]
  },
  {
   "cell_type": "markdown",
   "metadata": {},
   "source": [
    "#### *Preliminary Observations of Interest*: \n",
    "- **Positive (+) Correlation** *(as 'X' increases, so does 'Y')*\n",
    "    - State Population\n",
    "        - State GDP\n",
    "        - μ Age Maternal Mortality\n",
    "        - Above(0)/Not(1) Proportion *Ado*(n):Total(n)\n",
    "    - State GDP\n",
    "        - State Population\n",
    "        - Above(0)/Below(1) μ Pop Age\n",
    "        - Above(0)/Not(1) Proportion *Ado*(n):Total(n)\n",
    "    - μ Age Adolescent Maternal Mortality\n",
    "        - Increase(0)/Not(1) State GDP 2010-15\n",
    "- **Negative (-) Correlation** *(as 'X' increases, 'Y' decreases)*\n",
    "    - μ Region Education Level\n",
    "        - μ Age Variance\n",
    "        - Above(0)/Not(1) Mexico μ *Ado* Age Maternal Mortality"
   ]
  },
  {
   "cell_type": "markdown",
   "metadata": {},
   "source": [
    "#### ( + ) Correlation: State GDP and μ Age Maternal Mortality"
   ]
  },
  {
   "cell_type": "code",
   "execution_count": 330,
   "metadata": {},
   "outputs": [
    {
     "data": {
      "text/plain": [
       "<matplotlib.legend.Legend at 0x1ab5cb6860>"
      ]
     },
     "execution_count": 330,
     "metadata": {},
     "output_type": "execute_result"
    },
    {
     "data": {
      "image/png": "[encoded data removed]",
      "text/plain": [
       "<Figure size 432x288 with 1 Axes>"
      ]
     },
     "metadata": {
      "needs_background": "light"
     },
     "output_type": "display_data"
    }
   ],
   "source": [
    "plt.scatter(data['μ Age Maternal Mortality'], data['State GDP 2015'], label='2015')\n",
    "plt.xlabel(\"Region μ Age Maternal Mortality\")\n",
    "plt.ylabel(\"Region GDP\")\n",
    "plt.title(\"Relationship between Region GDP and Mean Maternal Mortality\")\n",
    "plt.legend()"
   ]
  },
  {
   "cell_type": "markdown",
   "metadata": {},
   "source": [
    "#### ( + ) Correlation: State GDP ad Region Above(0)/Not(1) Population Proportion Ado(n):Total(n)"
   ]
  },
  {
   "cell_type": "code",
   "execution_count": 336,
   "metadata": {},
   "outputs": [
    {
     "name": "stderr",
     "output_type": "stream",
     "text": [
      "No handles with labels found to put in legend.\n"
     ]
    },
    {
     "data": {
      "text/plain": [
       "<matplotlib.legend.Legend at 0x1ab4209c50>"
      ]
     },
     "execution_count": 336,
     "metadata": {},
     "output_type": "execute_result"
    },
    {
     "data": {
      "image/png": "[encoded data removed]",
      "text/plain": [
       "<Figure size 432x288 with 1 Axes>"
      ]
     },
     "metadata": {
      "needs_background": "light"
     },
     "output_type": "display_data"
    }
   ],
   "source": [
    "plt.bar(data['Above(0)/Not(1) Proportion *Ado*(n):Total(n)'], data['State GDP 2015'])\n",
    "plt.xlabel(\"Region Proportion Adolescent Maternal Mortality of Total Maternal Mortality\")\n",
    "plt.ylabel(\"Region GDP 2015\")\n",
    "plt.title(\"Relationship between Region Proportion Adolescent Maternal Mortality of Total Maternal Mortality and Region GDP\")\n",
    "plt.legend()"
   ]
  },
  {
   "cell_type": "markdown",
   "metadata": {},
   "source": [
    "#### ( + ) Correlation: Above(0)/Below(1) μ Age of Maternal Mortality in Mexico with State GDP"
   ]
  },
  {
   "cell_type": "code",
   "execution_count": 337,
   "metadata": {},
   "outputs": [
    {
     "data": {
      "text/plain": [
       "Text(0.5,1,'Relationship between μ Age of Maternal Mortality and State GDP')"
      ]
     },
     "execution_count": 337,
     "metadata": {},
     "output_type": "execute_result"
    },
    {
     "data": {
      "image/png": "[encoded data removed]",
      "text/plain": [
       "<Figure size 432x288 with 1 Axes>"
      ]
     },
     "metadata": {
      "needs_background": "light"
     },
     "output_type": "display_data"
    }
   ],
   "source": [
    "fig, ax = plt.subplots()\n",
    "\n",
    "#define dot colors\n",
    "cols = {0: 'grey', 1: 'blue'}\n",
    "labels = ['Above Country μ', 'Below Country μ']\n",
    "\n",
    "plt.scatter(x=data['State'], \n",
    "            y=data['State GDP 2015'], \n",
    "            c=data['Above(0)/Not(1) Proportion *Ado*(n):Total(n)'].map(cols))\n",
    "\n",
    "# label axes and title\n",
    "plt.xlabel(\"Region\")\n",
    "plt.xticks(rotation='vertical')\n",
    "plt.ylabel(\"Region GDP\")\n",
    "plt.title(\"Relationship between μ Age of Maternal Mortality and State GDP\")"
   ]
  },
  {
   "cell_type": "markdown",
   "metadata": {},
   "source": [
    "#### Purpose for Changing all Categorical Strings to a Numeric Value: \n",
    "- Machine Learning models will ignore string values (strings have no statistical value unless added)\n",
    "- Numeric values are comparable therefore string values should be categorically changed to numbers\n",
    "- This is how you compare a string value to a numeric value that the model can use"
   ]
  },
  {
   "cell_type": "code",
   "execution_count": 133,
   "metadata": {},
   "outputs": [],
   "source": [
    "# Convert Column value strings to a numeric value\n",
    "for i, column in enumerate(list([str(d) for d in data.dtypes])):\n",
    "    if column == \"object\":\n",
    "        data[data.columns[i]] = data[data.columns[i]].fillna(data[data.columns[i]].mode())\n",
    "        data[data.columns[i]] = data[data.columns[i]].astype(\"category\").cat.codes\n",
    "    else:\n",
    "        data[data.columns[i]] = data[data.columns[i]].fillna(data[data.columns[i]].median())"
   ]
  },
  {
   "cell_type": "code",
   "execution_count": 134,
   "metadata": {},
   "outputs": [
    {
     "data": {
      "text/html": [
       "<div>\n",
       "<style scoped>\n",
       "    .dataframe tbody tr th:only-of-type {\n",
       "        vertical-align: middle;\n",
       "    }\n",
       "\n",
       "    .dataframe tbody tr th {\n",
       "        vertical-align: top;\n",
       "    }\n",
       "\n",
       "    .dataframe thead th {\n",
       "        text-align: right;\n",
       "    }\n",
       "</style>\n",
       "<table border=\"1\" class=\"dataframe\">\n",
       "  <thead>\n",
       "    <tr style=\"text-align: right;\">\n",
       "      <th></th>\n",
       "      <th>State</th>\n",
       "      <th>State Population 2015</th>\n",
       "      <th>State GDP 2015</th>\n",
       "      <th>Increase(0)/Not(1) GDP 2010-15</th>\n",
       "      <th>μ Age Maternal Mortality</th>\n",
       "      <th>μ Age Variance</th>\n",
       "      <th>Above(0)/Not(1) Mexico μ Age Maternal Mortality</th>\n",
       "      <th>μ Age Adolescent Maternal Mortality</th>\n",
       "      <th>Above(0)/Not(1) Mexico μ *Ado* Age Maternal Mortality</th>\n",
       "      <th>Proportion Ado(n):Total(n)</th>\n",
       "      <th>Above(0)/Not(1) Proportion *Ado*(n):Total(n)</th>\n",
       "      <th>μ Region Education Level</th>\n",
       "      <th>μ Presence(0)/Not(1) Medical Assistance ATD</th>\n",
       "    </tr>\n",
       "  </thead>\n",
       "  <tbody>\n",
       "    <tr>\n",
       "      <th>0</th>\n",
       "      <td>0</td>\n",
       "      <td>1044049</td>\n",
       "      <td>19528.0</td>\n",
       "      <td>0</td>\n",
       "      <td>28.36</td>\n",
       "      <td>55.16</td>\n",
       "      <td>0</td>\n",
       "      <td>18.08</td>\n",
       "      <td>0</td>\n",
       "      <td>0.1969</td>\n",
       "      <td>0</td>\n",
       "      <td>4.56</td>\n",
       "      <td>0.16</td>\n",
       "    </tr>\n",
       "    <tr>\n",
       "      <th>1</th>\n",
       "      <td>1</td>\n",
       "      <td>3315766</td>\n",
       "      <td>57136.0</td>\n",
       "      <td>0</td>\n",
       "      <td>27.15</td>\n",
       "      <td>46.31</td>\n",
       "      <td>1</td>\n",
       "      <td>18.00</td>\n",
       "      <td>0</td>\n",
       "      <td>0.1911</td>\n",
       "      <td>0</td>\n",
       "      <td>4.42</td>\n",
       "      <td>0.16</td>\n",
       "    </tr>\n",
       "    <tr>\n",
       "      <th>4</th>\n",
       "      <td>2</td>\n",
       "      <td>272711</td>\n",
       "      <td>21431.0</td>\n",
       "      <td>0</td>\n",
       "      <td>27.56</td>\n",
       "      <td>55.37</td>\n",
       "      <td>1</td>\n",
       "      <td>18.00</td>\n",
       "      <td>0</td>\n",
       "      <td>0.2424</td>\n",
       "      <td>0</td>\n",
       "      <td>4.83</td>\n",
       "      <td>0.16</td>\n",
       "    </tr>\n",
       "    <tr>\n",
       "      <th>5</th>\n",
       "      <td>3</td>\n",
       "      <td>283025</td>\n",
       "      <td>22120.5</td>\n",
       "      <td>1</td>\n",
       "      <td>26.87</td>\n",
       "      <td>44.29</td>\n",
       "      <td>1</td>\n",
       "      <td>18.00</td>\n",
       "      <td>0</td>\n",
       "      <td>0.1746</td>\n",
       "      <td>0</td>\n",
       "      <td>4.12</td>\n",
       "      <td>0.14</td>\n",
       "    </tr>\n",
       "    <tr>\n",
       "      <th>6</th>\n",
       "      <td>4</td>\n",
       "      <td>1162592</td>\n",
       "      <td>13392.0</td>\n",
       "      <td>1</td>\n",
       "      <td>28.02</td>\n",
       "      <td>45.02</td>\n",
       "      <td>1</td>\n",
       "      <td>18.33</td>\n",
       "      <td>0</td>\n",
       "      <td>0.1677</td>\n",
       "      <td>1</td>\n",
       "      <td>4.75</td>\n",
       "      <td>0.12</td>\n",
       "    </tr>\n",
       "  </tbody>\n",
       "</table>\n",
       "</div>"
      ],
      "text/plain": [
       "   State  State Population 2015  State GDP 2015  \\\n",
       "0      0                1044049         19528.0   \n",
       "1      1                3315766         57136.0   \n",
       "4      2                 272711         21431.0   \n",
       "5      3                 283025         22120.5   \n",
       "6      4                1162592         13392.0   \n",
       "\n",
       "   Increase(0)/Not(1) GDP 2010-15  μ Age Maternal Mortality  μ Age Variance  \\\n",
       "0                               0                     28.36           55.16   \n",
       "1                               0                     27.15           46.31   \n",
       "4                               0                     27.56           55.37   \n",
       "5                               1                     26.87           44.29   \n",
       "6                               1                     28.02           45.02   \n",
       "\n",
       "   Above(0)/Not(1) Mexico μ Age Maternal Mortality  \\\n",
       "0                                                0   \n",
       "1                                                1   \n",
       "4                                                1   \n",
       "5                                                1   \n",
       "6                                                1   \n",
       "\n",
       "   μ Age Adolescent Maternal Mortality  \\\n",
       "0                                18.08   \n",
       "1                                18.00   \n",
       "4                                18.00   \n",
       "5                                18.00   \n",
       "6                                18.33   \n",
       "\n",
       "   Above(0)/Not(1) Mexico μ *Ado* Age Maternal Mortality  \\\n",
       "0                                                  0       \n",
       "1                                                  0       \n",
       "4                                                  0       \n",
       "5                                                  0       \n",
       "6                                                  0       \n",
       "\n",
       "   Proportion Ado(n):Total(n)  Above(0)/Not(1) Proportion *Ado*(n):Total(n)  \\\n",
       "0                      0.1969                                             0   \n",
       "1                      0.1911                                             0   \n",
       "4                      0.2424                                             0   \n",
       "5                      0.1746                                             0   \n",
       "6                      0.1677                                             1   \n",
       "\n",
       "   μ Region Education Level  μ Presence(0)/Not(1) Medical Assistance ATD  \n",
       "0                      4.56                                         0.16  \n",
       "1                      4.42                                         0.16  \n",
       "4                      4.83                                         0.16  \n",
       "5                      4.12                                         0.14  \n",
       "6                      4.75                                         0.12  "
      ]
     },
     "execution_count": 134,
     "metadata": {},
     "output_type": "execute_result"
    }
   ],
   "source": [
    "data.head()"
   ]
  },
  {
   "cell_type": "markdown",
   "metadata": {},
   "source": [
    "## Basic Logistic Regression:\n",
    "\n",
    "* Split the data into a training and test (hold-out) set\n",
    "* Train on the training set, and test for accuracy on the testing set"
   ]
  },
  {
   "cell_type": "markdown",
   "metadata": {},
   "source": [
    "#### Test-Train-Split:\n",
    "- X = copy of all features and the response variable of dataset\n",
    "- y = all features within dataset *excluding the response (target) variable*\n",
    "- test_size = represents the proportion of the dataset (as a percentage) to include in the test split\n",
    "- random_state = the seed used by the random number generator"
   ]
  },
  {
   "cell_type": "code",
   "execution_count": 287,
   "metadata": {},
   "outputs": [],
   "source": [
    "# Entire dataset (even with response variable)\n",
    "X = data.copy()\n",
    "\n",
    "# The response variable\n",
    "y = data.copy().pop('Above(0)/Not(1) Mexico μ Age Maternal Mortality')"
   ]
  },
  {
   "cell_type": "code",
   "execution_count": 304,
   "metadata": {},
   "outputs": [
    {
     "data": {
      "text/plain": [
       "(17, 8, 17, 8)"
      ]
     },
     "execution_count": 304,
     "metadata": {},
     "output_type": "execute_result"
    }
   ],
   "source": [
    "# Create train and test data sets with train_test_split\n",
    "X_train, X_test, y_train, y_test = train_test_split(X.values, y.values, test_size=0.3, random_state=10)\n",
    "len(X_train), len(X_test), len(y_train), len(y_test)"
   ]
  },
  {
   "cell_type": "markdown",
   "metadata": {},
   "source": [
    "#### Logistic Regression\n",
    "- Round One"
   ]
  },
  {
   "cell_type": "code",
   "execution_count": 305,
   "metadata": {},
   "outputs": [
    {
     "data": {
      "text/plain": [
       "LogisticRegression(C=1.0, class_weight=None, dual=False, fit_intercept=True,\n",
       "          intercept_scaling=1, max_iter=100, multi_class='ovr', n_jobs=1,\n",
       "          penalty='l2', random_state=None, solver='liblinear', tol=0.0001,\n",
       "          verbose=0, warm_start=False)"
      ]
     },
     "execution_count": 305,
     "metadata": {},
     "output_type": "execute_result"
    }
   ],
   "source": [
    "# Create a Logistic Regression Incidence \n",
    "clf_log = LogisticRegression()\n",
    "\n",
    "# Fit clf_log to training data\n",
    "clf_log.fit(X_train, y_train)"
   ]
  },
  {
   "cell_type": "code",
   "execution_count": 306,
   "metadata": {},
   "outputs": [
    {
     "data": {
      "text/plain": [
       "[array([3.18898225e-08]),\n",
       " array([-3.16569954e-07]),\n",
       " array([5.12197006e-05]),\n",
       " array([1.94852658e-09]),\n",
       " array([-1.0003266e-08]),\n",
       " array([-4.74233324e-08]),\n",
       " array([9.9734472e-09]),\n",
       " array([-1.49978067e-09]),\n",
       " array([-1.47227365e-09]),\n",
       " array([-8.63080476e-12]),\n",
       " array([-7.43673972e-10]),\n",
       " array([2.46236078e-09]),\n",
       " array([-3.73162997e-10])]"
      ]
     },
     "execution_count": 306,
     "metadata": {},
     "output_type": "execute_result"
    }
   ],
   "source": [
    "# Examine the coefficients\n",
    "list(np.transpose(clf_log.coef_))"
   ]
  },
  {
   "cell_type": "code",
   "execution_count": 307,
   "metadata": {},
   "outputs": [
    {
     "data": {
      "text/plain": [
       "array([[0.2454313 , 0.7545687 ],\n",
       "       [0.1327552 , 0.8672448 ],\n",
       "       [0.33279978, 0.66720022],\n",
       "       [0.26671487, 0.73328513],\n",
       "       [0.47121328, 0.52878672],\n",
       "       [0.25349478, 0.74650522],\n",
       "       [0.31820637, 0.68179363],\n",
       "       [0.32782637, 0.67217363]])"
      ]
     },
     "execution_count": 307,
     "metadata": {},
     "output_type": "execute_result"
    }
   ],
   "source": [
    "# Calculate the class probablity\n",
    "probability = clf_log.predict_proba(X_test)\n",
    "probability"
   ]
  },
  {
   "cell_type": "code",
   "execution_count": 308,
   "metadata": {},
   "outputs": [
    {
     "name": "stdout",
     "output_type": "stream",
     "text": [
      "             precision    recall  f1-score   support\n",
      "\n",
      "          0       0.00      0.00      0.00         2\n",
      "          1       0.75      1.00      0.86         6\n",
      "\n",
      "avg / total       0.56      0.75      0.64         8\n",
      "\n"
     ]
    },
    {
     "name": "stderr",
     "output_type": "stream",
     "text": [
      "/anaconda3/lib/python3.7/site-packages/sklearn/metrics/classification.py:1135: UndefinedMetricWarning: Precision and F-score are ill-defined and being set to 0.0 in labels with no predicted samples.\n",
      "  'precision', 'predicted', average, warn_for)\n"
     ]
    }
   ],
   "source": [
    "# Predict the model\n",
    "predict = clf_log.predict(X_test)\n",
    "\n",
    "# Compute classification report\n",
    "class_report = classification_report(y_test, predict)\n",
    "print(class_report)"
   ]
  },
  {
   "cell_type": "code",
   "execution_count": 309,
   "metadata": {},
   "outputs": [
    {
     "name": "stdout",
     "output_type": "stream",
     "text": [
      "[[0 2]\n",
      " [0 6]]\n"
     ]
    },
    {
     "data": {
      "text/plain": [
       "<matplotlib.axes._subplots.AxesSubplot at 0x1ab3fef9b0>"
      ]
     },
     "execution_count": 309,
     "metadata": {},
     "output_type": "execute_result"
    },
    {
     "data": {
      "image/png": "[encoded data removed]",
      "text/plain": [
       "<Figure size 720x504 with 2 Axes>"
      ]
     },
     "metadata": {
      "needs_background": "light"
     },
     "output_type": "display_data"
    }
   ],
   "source": [
    "# Compute the confusion_matrix to evaluate the accuracy of a classification\n",
    "conf_matrix = confusion_matrix(y_test, predict)\n",
    "print(conf_matrix)\n",
    "\n",
    "# Plot confusion_matrix\n",
    "plt.figure(figsize = (10,7))\n",
    "sns.heatmap(conf_matrix, annot=True)"
   ]
  },
  {
   "cell_type": "code",
   "execution_count": 310,
   "metadata": {},
   "outputs": [
    {
     "data": {
      "text/plain": [
       "0.75"
      ]
     },
     "execution_count": 310,
     "metadata": {},
     "output_type": "execute_result"
    }
   ],
   "source": [
    "# Print the accuracy from the testing data\n",
    "accuracy_score(y_test, predict)"
   ]
  },
  {
   "cell_type": "code",
   "execution_count": 357,
   "metadata": {},
   "outputs": [
    {
     "name": "stdout",
     "output_type": "stream",
     "text": [
      "AUC: 0.8333333333333333\n",
      "AUC scores computed using 5-fold cross-validation: [0.75       1.         0.5        0.66666667 1.        ]\n"
     ]
    }
   ],
   "source": [
    "# Compute predicted probabilities: y_pred_prob\n",
    "y_pred_prob = clf_log.predict_proba(X_test)[:,1]\n",
    "\n",
    "# Compute and print AUC score\n",
    "print(\"AUC: {}\".format(roc_auc_score(y_test, y_pred_prob)))\n",
    "\n",
    "# Compute cross-validated AUC scores: cv_auc\n",
    "cv_auc = cross_val_score(clf_log, X, y, scoring='roc_auc', cv=5)\n",
    "\n",
    "# Print list of AUC scores\n",
    "print(\"AUC scores computed using 5-fold cross-validation: {}\".format(cv_auc))"
   ]
  },
  {
   "cell_type": "markdown",
   "metadata": {},
   "source": [
    "#### Logistic Regression\n",
    "- Test Accuracy of Model with ROC"
   ]
  },
  {
   "cell_type": "code",
   "execution_count": 351,
   "metadata": {},
   "outputs": [
    {
     "data": {
      "text/plain": [
       "Text(0.5,1,'ROC Curve')"
      ]
     },
     "execution_count": 351,
     "metadata": {},
     "output_type": "execute_result"
    },
    {
     "data": {
      "image/png": "[encoded data removed]",
      "text/plain": [
       "<Figure size 432x288 with 1 Axes>"
      ]
     },
     "metadata": {
      "needs_background": "light"
     },
     "output_type": "display_data"
    }
   ],
   "source": [
    "# Compute predicted probabilities: y_pred_prob\n",
    "y_pred_prob = clf_log.predict_proba(X_test)[:,1]\n",
    "\n",
    "# Generate ROC curve values: fpr, tpr, thresholds\n",
    "fpr, tpr, thresholds = roc_curve(y_test, y_pred_prob)\n",
    "\n",
    "# Plot ROC curve\n",
    "plt.plot([0, 1], [0, 1], 'k--')\n",
    "plt.plot(fpr, tpr)\n",
    "plt.xlabel('False Positive Rate')\n",
    "plt.ylabel('True Positive Rate')\n",
    "plt.title('ROC Curve')"
   ]
  },
  {
   "cell_type": "markdown",
   "metadata": {},
   "source": [
    "#### Tuning the Model\n",
    "\n",
    "The f1-score in *class_report* represents the classifier model's accuracy in classifying the data points in that particular class compared to all other class. Since the resulting f1-score and accuracy score is ~75%, this is verification that the model is working. However, adding  **hyperparameters ('C')**, to the logistic regression instance may increase the accuracy of the model. "
   ]
  },
  {
   "cell_type": "markdown",
   "metadata": {},
   "source": [
    "#### Find Optimal 'C' Hyperparameter Value with GridSearchCV"
   ]
  },
  {
   "cell_type": "code",
   "execution_count": 356,
   "metadata": {},
   "outputs": [
    {
     "name": "stdout",
     "output_type": "stream",
     "text": [
      "Tuned Logistic Regression Parameters: {'C': 1e-05}\n",
      "Best score is 0.68\n"
     ]
    }
   ],
   "source": [
    "# Setup the hyperparameter grid\n",
    "c_space = np.logspace(-5, 8, 15)\n",
    "param_grid = {'C': c_space}\n",
    "\n",
    "# Instantiate a logistic regression classifier: logreg\n",
    "logreg = LogisticRegression()\n",
    "\n",
    "# Instantiate the GridSearchCV object: logreg_cv\n",
    "logreg_cv = GridSearchCV(logreg, param_grid, cv=5)\n",
    "\n",
    "# Fit it to the data\n",
    "logreg_cv.fit(X,y)\n",
    "\n",
    "# Print the tuned parameters and score\n",
    "print(\"Tuned Logistic Regression Parameters: {}\".format(logreg_cv.best_params_)) \n",
    "print(\"Best score is {}\".format(logreg_cv.best_score_))"
   ]
  },
  {
   "cell_type": "code",
   "execution_count": 354,
   "metadata": {},
   "outputs": [],
   "source": [
    "# calculate best 'C' with GridSearchCV\n",
    "def cv_optimize(clf, parameters, X_train, y_train, n_folds=5):\n",
    "    \n",
    "    #Use GridSearchCV to find the best C parameter\n",
    "    gs = GridSearchCV(clf, param_grid=parameters, cv=n_folds)\n",
    "    gs.fit(X_train, y_train)\n",
    "    print(\"BEST PARAMS\", gs.best_params_)\n",
    "    best = gs.best_estimator_\n",
    "    return best"
   ]
  },
  {
   "cell_type": "code",
   "execution_count": 355,
   "metadata": {},
   "outputs": [
    {
     "name": "stdout",
     "output_type": "stream",
     "text": [
      "BEST PARAMS {'C': 100000}\n",
      "Accuracy on training data: 0.5294\n",
      "Accuracy on test data:     0.7500\n"
     ]
    }
   ],
   "source": [
    "#Define possible parameter 'C' range of values\n",
    "parameters = {\"C\": [100000, 10000, 1000, 100, 10, 1.0, 0.1, 0.01, 0.001, 0.0001]}\n",
    "\n",
    "#Apply cv_optimize function to Logistic Regression\n",
    "clf = cv_optimize(clf_log, parameters, X_train, y_train)\n",
    "    \n",
    "#Fit to training data\n",
    "clf = clf.fit(X_train, y_train)\n",
    "    \n",
    "#Assess model accuracy (train and test)\n",
    "training_accuracy = clf.score(X_train, y_train)\n",
    "test_accuracy = clf.score(X_test, y_test)\n",
    "print(\"Accuracy on training data: {:0.4f}\".format(training_accuracy))\n",
    "print(\"Accuracy on test data:     {:0.4f}\".format(test_accuracy))"
   ]
  },
  {
   "cell_type": "markdown",
   "metadata": {},
   "source": [
    "#### Test Accuracy of New Model with ROC"
   ]
  },
  {
   "cell_type": "code",
   "execution_count": 359,
   "metadata": {},
   "outputs": [
    {
     "data": {
      "text/plain": [
       "Text(0.5,1,'ROC Curve')"
      ]
     },
     "execution_count": 359,
     "metadata": {},
     "output_type": "execute_result"
    },
    {
     "data": {
      "image/png": "[encoded data removed]",
      "text/plain": [
       "<Figure size 432x288 with 1 Axes>"
      ]
     },
     "metadata": {
      "needs_background": "light"
     },
     "output_type": "display_data"
    }
   ],
   "source": [
    "# Compute predicted probabilities: y_pred_prob\n",
    "y_pred_prob = logreg_cv.predict_proba(X_test)[:,1]\n",
    "\n",
    "# Generate ROC curve values: fpr, tpr, thresholds\n",
    "fpr, tpr, thresholds = roc_curve(y_test, y_pred_prob)\n",
    "\n",
    "# Plot ROC curve\n",
    "plt.plot([0, 1], [0, 1], 'k--')\n",
    "plt.plot(fpr, tpr)\n",
    "plt.xlabel('False Positive Rate')\n",
    "plt.ylabel('True Positive Rate')\n",
    "plt.title('ROC Curve')"
   ]
  },
  {
   "cell_type": "markdown",
   "metadata": {},
   "source": [
    "### Create Maternal Mortality Strategy Using The Model"
   ]
  },
  {
   "cell_type": "code",
   "execution_count": 360,
   "metadata": {},
   "outputs": [
    {
     "data": {
      "text/plain": [
       "Index(['State', 'State Population 2015', 'State GDP 2015',\n",
       "       'Increase(0)/Not(1) GDP 2010-15', 'μ Age Maternal Mortality',\n",
       "       'μ Age Variance', 'Above(0)/Not(1) Mexico μ Age Maternal Mortality',\n",
       "       'μ Age Adolescent Maternal Mortality',\n",
       "       'Above(0)/Not(1) Mexico μ *Ado* Age Maternal Mortality',\n",
       "       'Proportion Ado(n):Total(n)',\n",
       "       'Above(0)/Not(1) Proportion *Ado*(n):Total(n)',\n",
       "       'μ Region Education Level',\n",
       "       'μ Presence(0)/Not(1) Medical Assistance ATD'],\n",
       "      dtype='object')"
      ]
     },
     "execution_count": 360,
     "metadata": {},
     "output_type": "execute_result"
    }
   ],
   "source": [
    "data.columns"
   ]
  },
  {
   "cell_type": "markdown",
   "metadata": {},
   "source": [
    "### It can be observed that the Logistic Regression model in Python predicts the classes with an accuracy of approximately ~68% with added Hyperparameters and 5-fold Cross Validation. Additionally, generates reasonably good predictions."
   ]
  }
 ],
 "metadata": {
  "kernelspec": {
   "display_name": "Python 3",
   "language": "python",
   "name": "python3"
  },
  "language_info": {
   "codemirror_mode": {
    "name": "ipython",
    "version": 3
   },
   "file_extension": ".py",
   "mimetype": "text/x-python",
   "name": "python",
   "nbconvert_exporter": "python",
   "pygments_lexer": "ipython3",
   "version": "3.7.2"
  }
 },
 "nbformat": 4,
 "nbformat_minor": 2
}
