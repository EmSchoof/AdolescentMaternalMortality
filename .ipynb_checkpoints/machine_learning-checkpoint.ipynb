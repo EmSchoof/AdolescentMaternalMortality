{
 "cells": [
  {
   "cell_type": "markdown",
   "metadata": {},
   "source": [
    "## What factors contribute to lower rates of maternal mortality long-term?"
   ]
  },
  {
   "cell_type": "markdown",
   "metadata": {},
   "source": [
    "The primary purpose of this study was to identify maternal mortality statistics in Mexico. Given that most of maternal deaths can be prevented, the prediction of the likelihood of death of maternal patients is a massively important task. It should be noted that any misinterpretation of data can be misleading, and averages are no expecption. Averages hide the range of different data points within a single number which can result in a dichotomized perception of the sample data. In order to compensate for this overdramatization of the data, one needs to look for the majority and assess where the spreads overlap.\n",
    "\n",
    "Truthfully, the incidence of maternal mortality has decreased since the UN initiative in 2015, but it is important to assess which regions accomplished the largest changes over time, and which factors contributed to the reduction of maternal mortality. Creating a predictive model that incorporate these factors is an effective tool to maintain a low rate or maternal mortality long term. The proposed method is based on Random Forest, which allowed the identification of \"11\" independent predictors from \"32\" predictive factors in order to create a predictive model to assess the factors associated with reducing the rate of maternal mortality within each State of Mexico.  \n",
    "\n",
    "Machine learning methods are becoming increasingly relevant as data availability increases, as well as the general understanding of the complex dynamic changes in indicators with a significant number of interrelated factors. Additionally, since scientific significance is the foundation of the results, it is possible to make the results interpretable from a clinical point of view.\n",
    "\n",
    "The following methods consist of: Random Forest Classifier, KNeighbors Classifier, Logistic Regression, and Gaussian Naive Bayes.  For the interpretation of differences between individual parameters of the mothers in two classes predicted failure (maternal mortality) verses prediction success (maternal vitality), the problem of classification via using the decision tree can be solved. The target is prediction failure class."
   ]
  },
  {
   "cell_type": "code",
   "execution_count": null,
   "metadata": {},
   "outputs": [],
   "source": [
    "# Import the relevant python notebooks\n"
   ]
  },
  {
   "cell_type": "code",
   "execution_count": null,
   "metadata": {},
   "outputs": [],
   "source": []
  }
 ],
 "metadata": {
  "kernelspec": {
   "display_name": "Python 3",
   "language": "python",
   "name": "python3"
  },
  "language_info": {
   "codemirror_mode": {
    "name": "ipython",
    "version": 3
   },
   "file_extension": ".py",
   "mimetype": "text/x-python",
   "name": "python",
   "nbconvert_exporter": "python",
   "pygments_lexer": "ipython3",
   "version": "3.7.0"
  }
 },
 "nbformat": 4,
 "nbformat_minor": 2
}
