{
 "cells": [
  {
   "cell_type": "markdown",
   "metadata": {},
   "source": [
    "# Inferential Statistics: Bootstrap Simulation & ANOVA Analysis"
   ]
  },
  {
   "cell_type": "code",
   "execution_count": 12,
   "metadata": {},
   "outputs": [],
   "source": [
    "# Import the relevant python libraries for the analysis\n",
    "import math\n",
    "import numpy as np\n",
    "import pandas as pd\n",
    "import pylab as pl\n",
    "import random\n",
    "import seaborn as sns\n",
    "import scipy.stats as stats\n",
    "import statistics"
   ]
  },
  {
   "cell_type": "code",
   "execution_count": 16,
   "metadata": {},
   "outputs": [],
   "source": [
    "# Load datasets\n",
    "%store -r  materna\n",
    "%store -r res_dataset \n",
    "%store -r age_by_state\n",
    "%store -r state_pop"
   ]
  },
  {
   "cell_type": "markdown",
   "metadata": {},
   "source": [
    "## Bootstrap Simulation "
   ]
  },
  {
   "cell_type": "markdown",
   "metadata": {},
   "source": [
    "#### Statistical Testing of Data Mean\n",
    "\n",
    "$H$o: The mean age maternal mortality of women in Mexico is equal to mean age maternal mortality within the dataset ($28.35 yoa$). <br>  Empirical Mean ($μ$) − Population Mean ($μ$) = 0\n",
    "\n",
    "$H$a: The mean age maternal mortality of women in Mexico is *not* equal to mean age maternal mortality within the dataset  ($28.35 yoa$). <br> Empirical Mean ($μ$) − Population Mean ($μ$) ≠ 0\n",
    "\n",
    "Significance Level: *95%* Confidence. <br> $α$ = 0.05"
   ]
  },
  {
   "cell_type": "code",
   "execution_count": 4,
   "metadata": {},
   "outputs": [
    {
     "data": {
      "text/html": [
       "<div>\n",
       "<style scoped>\n",
       "    .dataframe tbody tr th:only-of-type {\n",
       "        vertical-align: middle;\n",
       "    }\n",
       "\n",
       "    .dataframe tbody tr th {\n",
       "        vertical-align: top;\n",
       "    }\n",
       "\n",
       "    .dataframe thead th {\n",
       "        text-align: right;\n",
       "    }\n",
       "</style>\n",
       "<table border=\"1\" class=\"dataframe\">\n",
       "  <thead>\n",
       "    <tr style=\"text-align: right;\">\n",
       "      <th></th>\n",
       "      <th>Residence Code</th>\n",
       "      <th>Residence Name</th>\n",
       "      <th>Local Community Size</th>\n",
       "      <th>Education Completed</th>\n",
       "      <th>Age at Death</th>\n",
       "      <th>Received(0)/Not(1) Medical Assistance</th>\n",
       "    </tr>\n",
       "  </thead>\n",
       "  <tbody>\n",
       "    <tr>\n",
       "      <th>0</th>\n",
       "      <td>7</td>\n",
       "      <td>Chiapas</td>\n",
       "      <td>1 a 999            habitantes</td>\n",
       "      <td>2</td>\n",
       "      <td>11</td>\n",
       "      <td>0.0</td>\n",
       "    </tr>\n",
       "    <tr>\n",
       "      <th>1</th>\n",
       "      <td>30</td>\n",
       "      <td>Veracruz de Ignacio de la Llave</td>\n",
       "      <td>50000 a 74999   habitantes</td>\n",
       "      <td>3</td>\n",
       "      <td>12</td>\n",
       "      <td>0.0</td>\n",
       "    </tr>\n",
       "  </tbody>\n",
       "</table>\n",
       "</div>"
      ],
      "text/plain": [
       "   Residence Code                   Residence Name  \\\n",
       "0               7                          Chiapas   \n",
       "1              30  Veracruz de Ignacio de la Llave   \n",
       "\n",
       "            Local Community Size  Education Completed  Age at Death  \\\n",
       "0  1 a 999            habitantes                    2            11   \n",
       "1     50000 a 74999   habitantes                    3            12   \n",
       "\n",
       "   Received(0)/Not(1) Medical Assistance  \n",
       "0                                    0.0  \n",
       "1                                    0.0  "
      ]
     },
     "execution_count": 4,
     "metadata": {},
     "output_type": "execute_result"
    }
   ],
   "source": [
    "materna.head(2)"
   ]
  },
  {
   "cell_type": "markdown",
   "metadata": {},
   "source": [
    "#### Create a boostrap replicate function with another function to repeat the bootstrap replication 'x' number of times"
   ]
  },
  {
   "cell_type": "code",
   "execution_count": 5,
   "metadata": {},
   "outputs": [],
   "source": [
    "# Bootstrap replicate function for repeatability\n",
    "def bootstrap_replicate_1d(data, func):\n",
    "    \"\"\"Create a bootstrap replicates.\"\"\"\n",
    "    \n",
    "    boot_sample = np.random.choice(data, size=len(data))  # create bootstrap sample\n",
    "    return func(boot_sample) # apply function to bootstrap\n",
    "\n",
    "# Apply bootstrap replicate function 'n' and return an array\n",
    "def draw_bs_reps(data, func, size=1):\n",
    "    \"\"\"Draw bootstrap replicates.\"\"\"\n",
    "\n",
    "    boot_rep = np.empty(size) # initialize array of replicates: bs_replicates\n",
    "    for i in range(size):  # generate 'n' number of replicates\n",
    "        boot_rep[i] = bootstrap_replicate_1d(data, func)\n",
    "    return boot_rep"
   ]
  },
  {
   "cell_type": "markdown",
   "metadata": {},
   "source": [
    "#### Calculate the size, mean, and standard deviation of *materna*[ 'Age at Death' ]"
   ]
  },
  {
   "cell_type": "code",
   "execution_count": 6,
   "metadata": {},
   "outputs": [],
   "source": [
    "# Define a variable for the materna['Age at Death'] Series\n",
    "age_mortality = materna['Age at Death']"
   ]
  },
  {
   "cell_type": "code",
   "execution_count": 7,
   "metadata": {},
   "outputs": [
    {
     "name": "stdout",
     "output_type": "stream",
     "text": [
      "sample size:  16631\n",
      "sample mean age of death:  28.35644278756539\n",
      "sample standard deviation:  7.3228323038164245\n",
      "sample variation:  53.62064861736894\n"
     ]
    }
   ],
   "source": [
    "# Create variables for sample statistical information\n",
    "materna_age_std = age_mortality.std()\n",
    "materna_sample_size = len(age_mortality)\n",
    "materna_age_var = np.var(age_mortality)\n",
    "mean_age = materna['Age at Death'].mean()\n",
    "\n",
    "# Create an array of the sample mean that is equal to the boostrap array length\n",
    "materna_mean_arr = np.full(10000, mean_age)\n",
    "\n",
    "print('sample size: ', materna_sample_size)\n",
    "print('sample mean age of death: ', mean_age)\n",
    "print('sample standard deviation: ', materna_age_std)\n",
    "print('sample variation: ', materna_age_var)"
   ]
  },
  {
   "cell_type": "markdown",
   "metadata": {},
   "source": [
    "#### Create a 10,000 bootstrap replication"
   ]
  },
  {
   "cell_type": "code",
   "execution_count": 8,
   "metadata": {},
   "outputs": [
    {
     "name": "stdout",
     "output_type": "stream",
     "text": [
      "bootstrap mean age of death: 28.357276928627257\n"
     ]
    }
   ],
   "source": [
    "# Create 10000 bootstrap replicates of the mean and take the mean of the returned array\n",
    "boot_tenthousand =  draw_bs_reps(age_mortality, np.mean, size=10000)\n",
    "print('bootstrap mean age of death: ' + str(np.mean(boot_tenthousand)))"
   ]
  },
  {
   "cell_type": "markdown",
   "metadata": {},
   "source": [
    "#### Calculate the difference between the bootrap and sample means with p-value and standard deviation"
   ]
  },
  {
   "cell_type": "code",
   "execution_count": 9,
   "metadata": {},
   "outputs": [
    {
     "name": "stdout",
     "output_type": "stream",
     "text": [
      "p-value: 0.5092\n",
      "95% Confidence Interval: [28.2440  28.4689]\n"
     ]
    }
   ],
   "source": [
    "# Compute p-value\n",
    "p_val = np.sum(boot_tenthousand >= materna_mean_arr) / len(boot_tenthousand)\n",
    "print('p-value: {0:0.4f}'.format(p_val))\n",
    "\n",
    "# Calculate the standard margin of error for a 95% confidence interval\n",
    "conf_int_low = mean_age-(1.98*(materna_age_std/math.sqrt(materna_sample_size)))\n",
    "conf_int_high = mean_age+(1.98*(materna_age_std/math.sqrt(materna_sample_size)))\n",
    "print('95% Confidence Interval: [{0:0.4f}  {1:0.4f}]'.format(conf_int_low, conf_int_high))"
   ]
  },
  {
   "cell_type": "markdown",
   "metadata": {},
   "source": [
    "**Conclusion from the Bootstrap Hypothesis Test:** The resulting population mean of maternal death approximation based on 10,000 bootstrap replicate samples was *28.3564 years of age (yoa)*, which is close to the sample mean of *28.3568 yoa* old from the dataset. Additionally, the bootstrap population mean is within the 95% Confidence Interval, *28.2443 to 28.4692 yoa* with a p-value of 0.4959, which is greater than α = 0.05. Therefore, the null hypothesis that the mean age of death of maternal women in Mexico is equal to the mean age of death presented in the dataset can be accepted. **$Ho$ is accepted**."
   ]
  },
  {
   "cell_type": "markdown",
   "metadata": {},
   "source": [
    "## ANOVA Analysis"
   ]
  },
  {
   "cell_type": "markdown",
   "metadata": {},
   "source": [
    "A **One-Way Analysis of Variance (ANOVA)** test compares the means of two or more groups to determine if at least one group mean is statistically different from the others. These assumptions that must be satisfied in order for the associated p-value to be valid:\n",
    "\n",
    "1. The samples are independent.\n",
    "2. Each sample is from a normally distributed population.\n",
    "3. The population standard deviations of the groups are all equal. (homoscedasticity)"
   ]
  },
  {
   "cell_type": "markdown",
   "metadata": {},
   "source": [
    "#### 1. Samples must be Random / Independent\n",
    "10% Rule: If sample size (n) for each Mexican State is less than 10% of the total population within that State, than each sample selection can be treated as an independent event"
   ]
  },
  {
   "cell_type": "code",
   "execution_count": 17,
   "metadata": {},
   "outputs": [
    {
     "data": {
      "text/plain": [
       "(32, 32)"
      ]
     },
     "execution_count": 17,
     "metadata": {},
     "output_type": "execute_result"
    }
   ],
   "source": [
    "# Verify both age_by_state and state_pop both contain all 32 Mexican States/Regions \n",
    "len(list(age_by_state.keys())), len(state_pop)"
   ]
  },
  {
   "cell_type": "code",
   "execution_count": 18,
   "metadata": {},
   "outputs": [
    {
     "data": {
      "text/html": [
       "<div>\n",
       "<style scoped>\n",
       "    .dataframe tbody tr th:only-of-type {\n",
       "        vertical-align: middle;\n",
       "    }\n",
       "\n",
       "    .dataframe tbody tr th {\n",
       "        vertical-align: top;\n",
       "    }\n",
       "\n",
       "    .dataframe thead th {\n",
       "        text-align: right;\n",
       "    }\n",
       "</style>\n",
       "<table border=\"1\" class=\"dataframe\">\n",
       "  <thead>\n",
       "    <tr style=\"text-align: right;\">\n",
       "      <th></th>\n",
       "      <th>State(s)</th>\n",
       "      <th>Population 2010</th>\n",
       "      <th>Population 2015</th>\n",
       "      <th>State</th>\n",
       "    </tr>\n",
       "  </thead>\n",
       "  <tbody>\n",
       "    <tr>\n",
       "      <th>0</th>\n",
       "      <td>Aguascalientes</td>\n",
       "      <td>932369.0</td>\n",
       "      <td>1044049.0</td>\n",
       "      <td>Aguascalientes</td>\n",
       "    </tr>\n",
       "    <tr>\n",
       "      <th>1</th>\n",
       "      <td>Baja California</td>\n",
       "      <td>3155070.0</td>\n",
       "      <td>3315766.0</td>\n",
       "      <td>Baja California</td>\n",
       "    </tr>\n",
       "    <tr>\n",
       "      <th>2</th>\n",
       "      <td>Baja California Sur</td>\n",
       "      <td>251871.0</td>\n",
       "      <td>272711.0</td>\n",
       "      <td>Baja California Sur</td>\n",
       "    </tr>\n",
       "    <tr>\n",
       "      <th>3</th>\n",
       "      <td>Campeche</td>\n",
       "      <td>259005.0</td>\n",
       "      <td>283025.0</td>\n",
       "      <td>Campeche</td>\n",
       "    </tr>\n",
       "    <tr>\n",
       "      <th>4</th>\n",
       "      <td>Chiapas</td>\n",
       "      <td>1058712.0</td>\n",
       "      <td>1162592.0</td>\n",
       "      <td>Chiapas</td>\n",
       "    </tr>\n",
       "  </tbody>\n",
       "</table>\n",
       "</div>"
      ],
      "text/plain": [
       "              State(s)  Population 2010  Population 2015                State\n",
       "0       Aguascalientes         932369.0        1044049.0       Aguascalientes\n",
       "1      Baja California        3155070.0        3315766.0      Baja California\n",
       "2  Baja California Sur         251871.0         272711.0  Baja California Sur\n",
       "3             Campeche         259005.0         283025.0             Campeche\n",
       "4              Chiapas        1058712.0        1162592.0              Chiapas"
      ]
     },
     "execution_count": 18,
     "metadata": {},
     "output_type": "execute_result"
    }
   ],
   "source": [
    "# Modify state_pop to contain the extact same string value for State\n",
    "state_pop['State'] = age_by_state.keys()\n",
    "state_pop.head()"
   ]
  },
  {
   "cell_type": "code",
   "execution_count": 19,
   "metadata": {},
   "outputs": [
    {
     "name": "stdout",
     "output_type": "stream",
     "text": [
      "Accept Independence:  Aguascalientes\n",
      "Accept Independence - Over-Estimation:  Aguascalientes\n",
      "Accept Independence:  Baja California\n",
      "Accept Independence - Over-Estimation:  Baja California\n",
      "Accept Independence:  Baja California Sur\n",
      "Accept Independence - Over-Estimation:  Baja California Sur\n",
      "Accept Independence:  Campeche\n",
      "Accept Independence - Over-Estimation:  Campeche\n",
      "Accept Independence:  Chiapas\n",
      "Accept Independence - Over-Estimation:  Chiapas\n",
      "Accept Independence:  Chihuahua\n",
      "Accept Independence - Over-Estimation:  Chihuahua\n",
      "Accept Independence:  Coahuila de Zaragoza\n",
      "Accept Independence - Over-Estimation:  Coahuila de Zaragoza\n",
      "Accept Independence:  Colima\n",
      "Accept Independence - Over-Estimation:  Colima\n",
      "Accept Independence:  Distrito Federal\n",
      "Accept Independence - Over-Estimation:  Distrito Federal\n",
      "Accept Independence:  Durango\n",
      "Accept Independence - Over-Estimation:  Durango\n",
      "Accept Independence:  Guanajuato\n",
      "Accept Independence - Over-Estimation:  Guanajuato\n",
      "Accept Independence:  Guerrero\n",
      "Accept Independence - Over-Estimation:  Guerrero\n",
      "Accept Independence:  Hidalgo\n",
      "Accept Independence - Over-Estimation:  Hidalgo\n",
      "Accept Independence:  Jalisco\n",
      "Accept Independence - Over-Estimation:  Jalisco\n",
      "Accept Independence:  Michoacán de Ocampo\n",
      "Accept Independence - Over-Estimation:  Michoacán de Ocampo\n",
      "Accept Independence:  Morelos\n",
      "Accept Independence - Over-Estimation:  Morelos\n",
      "Accept Independence:  México\n",
      "Accept Independence - Over-Estimation:  México\n",
      "Accept Independence:  Nayarit\n",
      "Accept Independence - Over-Estimation:  Nayarit\n",
      "Accept Independence:  Nuevo León\n",
      "Accept Independence - Over-Estimation:  Nuevo León\n",
      "Accept Independence:  Oaxaca\n",
      "Accept Independence - Over-Estimation:  Oaxaca\n",
      "Accept Independence:  Puebla\n",
      "Accept Independence - Over-Estimation:  Puebla\n",
      "Accept Independence:  Querétaro Arteaga\n",
      "Accept Independence - Over-Estimation:  Querétaro Arteaga\n",
      "Accept Independence:  Quintana Roo\n",
      "Accept Independence - Over-Estimation:  Quintana Roo\n",
      "Accept Independence:  San Luis Potosí\n",
      "Accept Independence - Over-Estimation:  San Luis Potosí\n",
      "Accept Independence:  Sinaloa\n",
      "Accept Independence - Over-Estimation:  Sinaloa\n",
      "Accept Independence:  Sonora\n",
      "Accept Independence - Over-Estimation:  Sonora\n",
      "Accept Independence:  Tabasco\n",
      "Accept Independence - Over-Estimation:  Tabasco\n",
      "Accept Independence:  Tamaulipas\n",
      "Accept Independence - Over-Estimation:  Tamaulipas\n",
      "Accept Independence:  Tlaxcala\n",
      "Accept Independence - Over-Estimation:  Tlaxcala\n",
      "Accept Independence:  Veracruz de Ignacio de la Llave\n",
      "Accept Independence - Over-Estimation:  Veracruz de Ignacio de la Llave\n",
      "Accept Independence:  Yucatán\n",
      "Accept Independence - Over-Estimation:  Yucatán\n",
      "Accept Independence:  Zacatecas\n",
      "Accept Independence - Over-Estimation:  Zacatecas\n"
     ]
    }
   ],
   "source": [
    "### OVER ESTIMATION - If Women are only 30% of Population ###\n",
    "for state in age_by_state:\n",
    "    age_arr = age_by_state[state]  # select age arr\n",
    "    age_length = len(age_arr) # calculate State age sample size\n",
    "    state_row = state_pop[state_pop['State'] == state] # select State row in state_pop\n",
    "    \n",
    "    # Calculate 10% state_pop State populations in 2010 and 2015\n",
    "    ten_percent_2010 = round(float(state_row['Population 2010'])**0.1, 2)\n",
    "    ten_percent_2015 = round(float(state_row['Population 2015'])**0.1, 2)\n",
    "    \n",
    "    # Calculate 10% of 30% of state_pop State populations in 2010 and 2015\n",
    "    state_10_30 = round(float(state_row['Population 2010'])**0.3, 2)\n",
    "    ten_percent_10_30 = round(state_10_30**0.1,2)\n",
    "    state_15_30 = round(float(state_row['Population 2015'])**0.3, 2)\n",
    "    ten_percent_15_30 = round(state_10_30**0.1,2)\n",
    "        \n",
    "    # Set condition: Compare age_length to 10% and 30% State populations in 2010 and 2015\n",
    "    if age_length > ten_percent_2010 and age_length > ten_percent_2015:\n",
    "        print('Accept Independence: ', state)\n",
    "    else: \n",
    "        print('REJECT: ', state)\n",
    "    \n",
    "    if age_length > ten_percent_10_30 and ten_percent_10_30:\n",
    "         print('Accept Independence - Over-Estimation: ', state)\n",
    "    else: \n",
    "        print('REJECT - Over-Estimation: ', state)"
   ]
  },
  {
   "cell_type": "markdown",
   "metadata": {},
   "source": [
    "**Independence Conclusion**: Since the dataset for the incidence of maternal mortality within each Mexican States/Region is less than 10% of the recorded populations of each State in both 2010 and 2015, each data point can be treated as an independent variable. **Independence is Accepted**"
   ]
  },
  {
   "cell_type": "markdown",
   "metadata": {},
   "source": [
    "#### 2. Samples must be Normally Distributed\n",
    "Within the SciPy module of python 3, there is a normalcy function that tests the null hypothesis that a sample comes from a normal distribution. It is based on **D’Agostino** and **Pearson’s test** that combines skew and kurtosis to test of normality. This function be used to further determine if the distribution of each Province sample population is normally distributed."
   ]
  },
  {
   "cell_type": "code",
   "execution_count": 20,
   "metadata": {},
   "outputs": [],
   "source": [
    "# Create a variable to hold list of Regions with normally-distributed sample sizes\n",
    "norm_distr_regions = []\n",
    "\n",
    "# Create a variable to hold list of Regions without normally-distributed sample sizes\n",
    "not_norm_distr_regions = []"
   ]
  },
  {
   "cell_type": "code",
   "execution_count": 21,
   "metadata": {},
   "outputs": [
    {
     "name": "stdout",
     "output_type": "stream",
     "text": [
      "p = 8.92987e-06\n",
      "n = 127\n",
      "Aguascalientes IS normally distributed.\n",
      "p = 9.69442e-10\n",
      "n = 361\n",
      "Baja California IS normally distributed.\n",
      "p = 0.00564503\n",
      "n = 66\n",
      "Baja California Sur IS normally distributed.\n",
      "p = 0.00137276\n",
      "n = 126\n",
      "Campeche IS normally distributed.\n",
      "p = 1.03976e-37\n",
      "n = 1235\n",
      "Chiapas IS normally distributed.\n",
      "p = 8.42917e-19\n",
      "n = 628\n",
      "Chihuahua IS normally distributed.\n",
      "p = 1.6423e-09\n",
      "n = 310\n",
      "Coahuila de Zaragoza IS normally distributed.\n",
      "p = 0.788087\n",
      "n = 49\n",
      "Colima *IS NOT* normally distributed.\n",
      "p = 2.13913e-21\n",
      "n = 1082\n",
      "Distrito Federal IS normally distributed.\n",
      "p = 8.83805e-06\n",
      "n = 263\n",
      "Durango IS normally distributed.\n",
      "p = 6.25818e-14\n",
      "n = 707\n",
      "Guanajuato IS normally distributed.\n",
      "p = 6.26788e-20\n",
      "n = 977\n",
      "Guerrero IS normally distributed.\n",
      "p = 1.22187e-06\n",
      "n = 428\n",
      "Hidalgo IS normally distributed.\n",
      "p = 3.85647e-24\n",
      "n = 802\n",
      "Jalisco IS normally distributed.\n",
      "p = 3.0739e-14\n",
      "n = 654\n",
      "Michoacán de Ocampo IS normally distributed.\n",
      "p = 1.07763e-05\n",
      "n = 243\n",
      "Morelos IS normally distributed.\n",
      "p = 1.9078e-37\n",
      "n = 2299\n",
      "México IS normally distributed.\n",
      "p = 0.00736818\n",
      "n = 164\n",
      "Nayarit IS normally distributed.\n",
      "p = 5.47165e-05\n",
      "n = 323\n",
      "Nuevo León IS normally distributed.\n",
      "p = 8.38578e-16\n",
      "n = 874\n",
      "Oaxaca IS normally distributed.\n",
      "p = 1.30332e-29\n",
      "n = 990\n",
      "Puebla IS normally distributed.\n",
      "p = 0.000162015\n",
      "n = 227\n",
      "Querétaro Arteaga IS normally distributed.\n",
      "p = 0.133082\n",
      "n = 190\n",
      "Quintana Roo *IS NOT* normally distributed.\n",
      "p = 0.00022599\n",
      "n = 375\n",
      "San Luis Potosí IS normally distributed.\n",
      "p = 0.00551234\n",
      "n = 270\n",
      "Sinaloa IS normally distributed.\n",
      "p = 4.5582e-05\n",
      "n = 303\n",
      "Sonora IS normally distributed.\n",
      "p = 6.95067e-06\n",
      "n = 315\n",
      "Tabasco IS normally distributed.\n",
      "p = 0.000130459\n",
      "n = 377\n",
      "Tamaulipas IS normally distributed.\n",
      "p = 0.000375517\n",
      "n = 178\n",
      "Tlaxcala IS normally distributed.\n",
      "p = 1.47213e-39\n",
      "n = 1239\n",
      "Veracruz de Ignacio de la Llave IS normally distributed.\n",
      "p = 9.32947e-09\n",
      "n = 258\n",
      "Yucatán IS normally distributed.\n",
      "p = 4.93191e-05\n",
      "n = 191\n",
      "Zacatecas IS normally distributed.\n"
     ]
    }
   ],
   "source": [
    "# Determine if each Province has a normally distributed sample population of ages\n",
    "for region in age_by_state:\n",
    "    \"\"\"Determine if Region Age Distribution is Normal\"\"\"\n",
    "    \n",
    "    region_name = str(region)\n",
    "    arr = age_by_state[region_name]\n",
    "    \n",
    "    if len(arr) > 8: # skewtest (k2): not valid with less than 8 samples \n",
    "        k2, p = stats.normaltest(arr)\n",
    "        alpha = 0.05 # 95% confidence\n",
    "        print(\"p = {:g}\".format(p))\n",
    "        print(\"n = \" + str(len(arr)))\n",
    "        \n",
    "        if p < alpha: # if norm\n",
    "            print(str(region)+ \" IS normally distributed.\")\n",
    "            norm_distr_regions.append(region_name) # add region to norm list  \n",
    "        else:\n",
    "            print(str(region)+ \" *IS NOT* normally distributed.\")\n",
    "            not_norm_distr_regions.append(region_name) # add region to norm list     \n",
    "    else: \n",
    "        print(str(region)+ \" *sample size is too small*\")\n",
    "        not_norm_distr_regions.append(region_name) # add region to non-norm list of regions"
   ]
  },
  {
   "cell_type": "code",
   "execution_count": 22,
   "metadata": {},
   "outputs": [
    {
     "name": "stdout",
     "output_type": "stream",
     "text": [
      "Not Normally Distributed:  ['Colima', 'Quintana Roo']\n"
     ]
    }
   ],
   "source": [
    "print('Not Normally Distributed: ', list(np.unique(not_norm_distr_regions)))"
   ]
  },
  {
   "cell_type": "markdown",
   "metadata": {},
   "source": [
    "**Normalcy Conclusion**: After assessing the distribution of age of maternal death within each Province of Mexico, **all Province sample populations are considered to be normally distributed** *aside from* Colima (p-value: 2.13913e-21, n=1082) Quintana Roo (p-value: 0.00022599, n=375), which were found to *not be normally distributed*. \n",
    "​\n",
    "However, under the Central Limit Theorem (CLT), the sampling distribution of the sample means approaches a normal distribution as the sample size ( n ) gets larger - regardless of what the shape of the population distribution. Under this theorem,  n>30  is considered a large sample size. *Since the current database sample size (n) of Colima and Quintana Roo of 1082 and 375, respectively, justify CLT being assumed.* "
   ]
  },
  {
   "cell_type": "markdown",
   "metadata": {},
   "source": [
    "#### Bartlett’s Test for Homogeneity of Variance\n",
    "$H$o: All region age of maternal mortality populations have equal variance. <br>  $v$1 = $v$2 = $v$3 = .... = $v$32\n",
    "\n",
    "$H$a: There is at least one region age of maternal mortality population variance is statistically different from the rest. <br> $v$1 ≠ $v$2 = .... = $v$32\n",
    "\n",
    "Significance Level: *95%* Confidence. <br> $α$ = 0.05"
   ]
  },
  {
   "cell_type": "code",
   "execution_count": null,
   "metadata": {},
   "outputs": [],
   "source": [
    "# Calculate the age variance per region - This section has test trials per entry to help formulate an iteration function\n",
    "\n",
    "# Aquascalientes and Baja California\n",
    "print(stats.bartlett(age_by_state['Aguascalientes'], age_by_state['Baja California']))\n",
    "\n",
    "# Aquascalientes and Baja California Sur\n",
    "print(stats.bartlett(age_by_state['Aguascalientes'], age_by_state['Baja California Sur']))"
   ]
  },
  {
   "cell_type": "markdown",
   "metadata": {},
   "source": [
    "*Preliminary* **Conclusion for Homogeneity of Variance**: Even before calculating all Bartlett results between region populations, it is evident that not all regions have the same variance. Therefore, **the null hypothesis is rejected: there is at least one region age of maternal mortality with a population variance statistically different from the rest**. Luckily, the proof for ANOVA test is robust, so slight variations from its proof criteria are  OK (source: https://faculty.elgin.edu/dkernler/statistics/ch13/13-1.html). As a good rule of thumb, *as long as the largest variance is no more than double the smallest, we can assume ANOVA's requirement for Homogeneity of Variance is satisfied.*"
   ]
  },
  {
   "cell_type": "markdown",
   "metadata": {},
   "source": [
    "#### Evaluate the differences between the largest and smallest Region variances in Mexico."
   ]
  },
  {
   "cell_type": "code",
   "execution_count": 24,
   "metadata": {},
   "outputs": [
    {
     "data": {
      "text/html": [
       "<div>\n",
       "<style scoped>\n",
       "    .dataframe tbody tr th:only-of-type {\n",
       "        vertical-align: middle;\n",
       "    }\n",
       "\n",
       "    .dataframe tbody tr th {\n",
       "        vertical-align: top;\n",
       "    }\n",
       "\n",
       "    .dataframe thead th {\n",
       "        text-align: right;\n",
       "    }\n",
       "</style>\n",
       "<table border=\"1\" class=\"dataframe\">\n",
       "  <thead>\n",
       "    <tr style=\"text-align: right;\">\n",
       "      <th></th>\n",
       "      <th>Region</th>\n",
       "      <th>μ Age Maternal Mortality</th>\n",
       "      <th>Region (n)</th>\n",
       "    </tr>\n",
       "  </thead>\n",
       "  <tbody>\n",
       "    <tr>\n",
       "      <th>1</th>\n",
       "      <td>Aguascalientes</td>\n",
       "      <td>28.36</td>\n",
       "      <td>127.0</td>\n",
       "    </tr>\n",
       "    <tr>\n",
       "      <th>2</th>\n",
       "      <td>Baja California</td>\n",
       "      <td>27.15</td>\n",
       "      <td>361.0</td>\n",
       "    </tr>\n",
       "  </tbody>\n",
       "</table>\n",
       "</div>"
      ],
      "text/plain": [
       "            Region  μ Age Maternal Mortality  Region (n)\n",
       "1   Aguascalientes                     28.36       127.0\n",
       "2  Baja California                     27.15       361.0"
      ]
     },
     "execution_count": 24,
     "metadata": {},
     "output_type": "execute_result"
    }
   ],
   "source": [
    "res_dataset.head(2)"
   ]
  },
  {
   "cell_type": "code",
   "execution_count": 26,
   "metadata": {},
   "outputs": [
    {
     "name": "stdout",
     "output_type": "stream",
     "text": [
      "Max Variance:  61.58\n",
      "Min Variance:  40.12\n",
      "Double Min Variance:  80.24\n",
      "Accept ANOVA: The max variance is less than double the min variance.\n"
     ]
    }
   ],
   "source": [
    "# Create variables for minimum and maximum variation values in res_dataset\n",
    "max_variance = res_dataset['μ Age Variance'].max()\n",
    "print('Max Variance: ', max_variance)\n",
    "\n",
    "min_variance = res_dataset['μ Age Variance'].min()\n",
    "print('Min Variance: ', min_variance)\n",
    "print('Double Min Variance: ', min_variance*2)\n",
    "\n",
    "# Check if largest variance is more than double the smallest\n",
    "if (2*min_variance) >= max_variance:\n",
    "    print('Accept ANOVA: The max variance is less than double the min variance.')\n",
    "else: \n",
    "    print('Reject ANOVA: The max variance is more than double the min variance.')"
   ]
  },
  {
   "cell_type": "markdown",
   "metadata": {},
   "source": [
    "**Final Conclusion for Homogeneity of Variance**: Since the maximum variance within the dataset (61.68) is less than double the minimum variance within the dataset (40.12, whichs doubles to 80.24), we can assume ANOVA's requirement for Homogeneity of Variance is satisfied."
   ]
  },
  {
   "cell_type": "markdown",
   "metadata": {},
   "source": [
    "### Calculate One-Way Analysis of Variance\n",
    "\n",
    "$H$o: All mean age of death of maternal women within all Province of Mexico are statistically similar. <br>  $μ$1 = $μ$2 = $μ$3 = .... = $μ$32\n",
    "\n",
    "$H$a: There is at least one mean age of death of maternal women within a Province of Mexico that is statistically different from the rest. <br> $μ$1 ≠ $μ$2 = .... = $μ$32\n",
    "\n",
    "Significance Level: *95%* Confidence. <br> $α$ = 0.05"
   ]
  },
  {
   "cell_type": "code",
   "execution_count": 27,
   "metadata": {},
   "outputs": [
    {
     "name": "stdout",
     "output_type": "stream",
     "text": [
      "Number of Conditions(k):  32\n",
      "Number of Conditions times Data Points(N):  16631\n",
      "Number of Participants in Each Condition(n):  127\n"
     ]
    }
   ],
   "source": [
    "# Define the number of conditions (k) based on Region/State\n",
    "k = len(pd.unique(materna['Residence Name']))\n",
    "print('Number of Conditions(k): ', k)\n",
    "\n",
    "# Calculate the conditions times data points (N)\n",
    "N = len(materna.values)\n",
    "print('Number of Conditions times Data Points(N): ', N)\n",
    "\n",
    "# Participants in each condition\n",
    "n = materna.groupby('Residence Name').size()[0] \n",
    "print('Number of Participants in Each Condition(n): ', n)"
   ]
  },
  {
   "cell_type": "code",
   "execution_count": 28,
   "metadata": {},
   "outputs": [],
   "source": [
    "#Create a dict variable for key:value pairs of state:age_array\n",
    "grps = pd.unique(materna['Residence Name'].values)\n",
    "state_mean_ages = {grp:materna['Age at Death'][materna['Residence Name'] == grp] for grp in grps}"
   ]
  },
  {
   "cell_type": "markdown",
   "metadata": {},
   "source": [
    "#### Calculate the ANOVA F- value and p-value using stats module"
   ]
  },
  {
   "cell_type": "code",
   "execution_count": 29,
   "metadata": {},
   "outputs": [
    {
     "name": "stdout",
     "output_type": "stream",
     "text": [
      "ANOVA F-value:  3.9898710094367247\n",
      "ANOVA p-value:  5.792391015154357e-13\n",
      "alpha level: 0.05\n"
     ]
    }
   ],
   "source": [
    "F, p = stats.f_oneway(state_mean_ages['Aguascalientes'], \n",
    "                      state_mean_ages['Baja California'], \n",
    "                      state_mean_ages['Baja California Sur'],\n",
    "                      state_mean_ages['Campeche'],\n",
    "                      state_mean_ages['Chiapas'],\n",
    "                      state_mean_ages['Chihuahua'],\n",
    "                      state_mean_ages['Coahuila de Zaragoza'],\n",
    "                      state_mean_ages['Colima'],\n",
    "                      state_mean_ages['Distrito Federal'],\n",
    "                      state_mean_ages['Durango'],\n",
    "                      state_mean_ages['Guanajuato'],\n",
    "                      state_mean_ages['Guerrero'],\n",
    "                      state_mean_ages['Hidalgo'],\n",
    "                      state_mean_ages['Jalisco'],\n",
    "                      state_mean_ages['Michoacán de Ocampo'],\n",
    "                      state_mean_ages['Morelos'],\n",
    "                      state_mean_ages['México'],\n",
    "                      state_mean_ages['Nayarit'],\n",
    "                      state_mean_ages['Nuevo León'],\n",
    "                      state_mean_ages['Oaxaca'],\n",
    "                      state_mean_ages['Puebla'],\n",
    "                      state_mean_ages['Querétaro Arteaga'],\n",
    "                      state_mean_ages['Quintana Roo'],\n",
    "                      state_mean_ages['San Luis Potosí'],\n",
    "                      state_mean_ages['Sinaloa'],\n",
    "                      state_mean_ages['Sonora'],\n",
    "                      state_mean_ages['Tabasco'],\n",
    "                      state_mean_ages['Tamaulipas'],\n",
    "                      state_mean_ages['Tlaxcala'],\n",
    "                      state_mean_ages['Veracruz de Ignacio de la Llave'],\n",
    "                      state_mean_ages['Yucatán'],\n",
    "                      state_mean_ages['Zacatecas'])\n",
    "\n",
    "print('ANOVA F-value: ', str(F))\n",
    "print('ANOVA p-value: ', str(p))\n",
    "print('alpha level: 0.05')"
   ]
  },
  {
   "cell_type": "markdown",
   "metadata": {},
   "source": [
    "**ANOVA Conclusion**: ANOVA was performed using a confidence level of 95%. The resulting p-value was 5.79x10-13, which is substantially smaller than α = 0.05. Thus, **the null hypothesis is rejected: the differences in mean age of maternal mortality across the regions in Mexico are statistically different**. Since adolescent maternal mortality is one of the key factors that lowers the mean age per region, it would be beneficial to calculate the mean age adolescent maternal mortality in preparation for the machine learning assessment of mean maternal age of mortality."
   ]
  }
 ],
 "metadata": {
  "kernelspec": {
   "display_name": "Python 3",
   "language": "python",
   "name": "python3"
  },
  "language_info": {
   "codemirror_mode": {
    "name": "ipython",
    "version": 3
   },
   "file_extension": ".py",
   "mimetype": "text/x-python",
   "name": "python",
   "nbconvert_exporter": "python",
   "pygments_lexer": "ipython3",
   "version": "3.7.3"
  }
 },
 "nbformat": 4,
 "nbformat_minor": 2
}
