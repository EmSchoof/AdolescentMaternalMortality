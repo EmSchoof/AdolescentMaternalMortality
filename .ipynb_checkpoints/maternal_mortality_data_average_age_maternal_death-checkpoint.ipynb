{
 "cells": [
  {
   "cell_type": "code",
   "execution_count": 1,
   "metadata": {},
   "outputs": [],
   "source": [
    "# Step 1: Import the relevant python libraries for the analysis\n",
    "import pandas as pd\n",
    "from pandas import DataFrame\n",
    "import numpy as np\n",
    "import seaborn as sns\n",
    "import matplotlib.pyplot as plt\n",
    "\n",
    "import scipy.stats as stats\n",
    "import pylab as pl\n",
    "import math"
   ]
  },
  {
   "cell_type": "code",
   "execution_count": 2,
   "metadata": {},
   "outputs": [],
   "source": [
    "# Step 2: Load the dataset\n",
    "materna = pd.read_csv('mortalidad_materna.csv')\n",
    "#materna.info()"
   ]
  },
  {
   "cell_type": "markdown",
   "metadata": {},
   "source": [
    "## Question: What is the Average Age of Maternal Death within the dataset? How does this relate to the population?"
   ]
  },
  {
   "cell_type": "markdown",
   "metadata": {},
   "source": [
    "### Explore the Data and Create Clean Sub-Dataframe from Analysis"
   ]
  },
  {
   "cell_type": "code",
   "execution_count": 3,
   "metadata": {},
   "outputs": [
    {
     "name": "stdout",
     "output_type": "stream",
     "text": [
      "13088    0-0-0\n",
      "12833    0-0-0\n",
      "dtype: object\n"
     ]
    },
    {
     "data": {
      "text/plain": [
       "18163"
      ]
     },
     "execution_count": 3,
     "metadata": {},
     "output_type": "execute_result"
    }
   ],
   "source": [
    "# 1. Combine patient birthdate information into one column\n",
    "birth = DataFrame(materna, columns=['Año de nacimiento', 'Mes de nacimiento', 'Día de nacimiento'])\n",
    "birth = materna['Año de nacimiento'].map(str) + '-' + materna['Mes de nacimiento'].map(str) + '-' + materna['Mes de nacimiento'].map(str)\n",
    "print(birth.sort_values(ascending=True).head(2))\n",
    "len(birth)"
   ]
  },
  {
   "cell_type": "code",
   "execution_count": 4,
   "metadata": {},
   "outputs": [
    {
     "name": "stdout",
     "output_type": "stream",
     "text": [
      "17886       0-0-0\n",
      "17516    1914-3-3\n",
      "dtype: object\n"
     ]
    },
    {
     "data": {
      "text/plain": [
       "18163"
      ]
     },
     "execution_count": 4,
     "metadata": {},
     "output_type": "execute_result"
    }
   ],
   "source": [
    "# 2. Combine patient date of death information into one column\n",
    "death = DataFrame(materna, columns=['Año de la defunción', 'Mes de la defunción', 'Día de la defunción'])\n",
    "death = materna['Año de la defunción'].map(str) + '-' + materna['Mes de la defunción'].map(str) + '-' + materna['Mes de la defunción'].map(str)\n",
    "print(death.sort_values(ascending=True).head(2))\n",
    "len(death)"
   ]
  },
  {
   "cell_type": "code",
   "execution_count": 5,
   "metadata": {},
   "outputs": [],
   "source": [
    "# 3. Create variable to store age fulfilled by patient and mortality reason\n",
    "last_age = materna['Edad cumplida']\n",
    "mortality_reason = materna['Razón de mortalidad materna']"
   ]
  },
  {
   "cell_type": "code",
   "execution_count": 6,
   "metadata": {},
   "outputs": [
    {
     "data": {
      "text/html": [
       "<div>\n",
       "<style scoped>\n",
       "    .dataframe tbody tr th:only-of-type {\n",
       "        vertical-align: middle;\n",
       "    }\n",
       "\n",
       "    .dataframe tbody tr th {\n",
       "        vertical-align: top;\n",
       "    }\n",
       "\n",
       "    .dataframe thead th {\n",
       "        text-align: right;\n",
       "    }\n",
       "</style>\n",
       "<table border=\"1\" class=\"dataframe\">\n",
       "  <thead>\n",
       "    <tr style=\"text-align: right;\">\n",
       "      <th></th>\n",
       "      <th>Date of Birth</th>\n",
       "      <th>Date of Death</th>\n",
       "      <th>Age at Death</th>\n",
       "      <th>Reason for Mortality</th>\n",
       "    </tr>\n",
       "  </thead>\n",
       "  <tbody>\n",
       "    <tr>\n",
       "      <th>0</th>\n",
       "      <td>1972-7-7</td>\n",
       "      <td>2002-3-3</td>\n",
       "      <td>29</td>\n",
       "      <td>1</td>\n",
       "    </tr>\n",
       "    <tr>\n",
       "      <th>1</th>\n",
       "      <td>1967-4-4</td>\n",
       "      <td>2003-5-5</td>\n",
       "      <td>36</td>\n",
       "      <td>1</td>\n",
       "    </tr>\n",
       "  </tbody>\n",
       "</table>\n",
       "</div>"
      ],
      "text/plain": [
       "  Date of Birth Date of Death  Age at Death  Reason for Mortality\n",
       "0      1972-7-7      2002-3-3            29                     1\n",
       "1      1967-4-4      2003-5-5            36                     1"
      ]
     },
     "execution_count": 6,
     "metadata": {},
     "output_type": "execute_result"
    }
   ],
   "source": [
    "# 4. Create a sub-dataframe to hold all date- information \n",
    "dates = pd.concat([birth, death, last_age, mortality_reason], axis=1)\n",
    "dates.columns = ['Date of Birth', 'Date of Death', 'Age at Death', 'Reason for Mortality']\n",
    "dates.head(2)"
   ]
  },
  {
   "cell_type": "markdown",
   "metadata": {},
   "source": [
    "### Check for null or errors in Data"
   ]
  },
  {
   "cell_type": "code",
   "execution_count": 7,
   "metadata": {},
   "outputs": [
    {
     "data": {
      "text/html": [
       "<div>\n",
       "<style scoped>\n",
       "    .dataframe tbody tr th:only-of-type {\n",
       "        vertical-align: middle;\n",
       "    }\n",
       "\n",
       "    .dataframe tbody tr th {\n",
       "        vertical-align: top;\n",
       "    }\n",
       "\n",
       "    .dataframe thead th {\n",
       "        text-align: right;\n",
       "    }\n",
       "</style>\n",
       "<table border=\"1\" class=\"dataframe\">\n",
       "  <thead>\n",
       "    <tr style=\"text-align: right;\">\n",
       "      <th></th>\n",
       "      <th>Date of Birth</th>\n",
       "      <th>Date of Death</th>\n",
       "      <th>Age at Death</th>\n",
       "      <th>Reason for Mortality</th>\n",
       "    </tr>\n",
       "  </thead>\n",
       "  <tbody>\n",
       "    <tr>\n",
       "      <th>9598</th>\n",
       "      <td>1998-7-7</td>\n",
       "      <td>2009-7-7</td>\n",
       "      <td>11</td>\n",
       "      <td>1</td>\n",
       "    </tr>\n",
       "    <tr>\n",
       "      <th>6407</th>\n",
       "      <td>1996-1-1</td>\n",
       "      <td>2008-12-12</td>\n",
       "      <td>12</td>\n",
       "      <td>1</td>\n",
       "    </tr>\n",
       "    <tr>\n",
       "      <th>9084</th>\n",
       "      <td>2001-12-12</td>\n",
       "      <td>2014-5-5</td>\n",
       "      <td>12</td>\n",
       "      <td>1</td>\n",
       "    </tr>\n",
       "    <tr>\n",
       "      <th>10883</th>\n",
       "      <td>1983-11-11</td>\n",
       "      <td>2002-6-6</td>\n",
       "      <td>12</td>\n",
       "      <td>1</td>\n",
       "    </tr>\n",
       "    <tr>\n",
       "      <th>1266</th>\n",
       "      <td>1993-0-0</td>\n",
       "      <td>2005-1-1</td>\n",
       "      <td>12</td>\n",
       "      <td>1</td>\n",
       "    </tr>\n",
       "  </tbody>\n",
       "</table>\n",
       "</div>"
      ],
      "text/plain": [
       "      Date of Birth Date of Death  Age at Death  Reason for Mortality\n",
       "9598       1998-7-7      2009-7-7            11                     1\n",
       "6407       1996-1-1    2008-12-12            12                     1\n",
       "9084     2001-12-12      2014-5-5            12                     1\n",
       "10883    1983-11-11      2002-6-6            12                     1\n",
       "1266       1993-0-0      2005-1-1            12                     1"
      ]
     },
     "execution_count": 7,
     "metadata": {},
     "output_type": "execute_result"
    }
   ],
   "source": [
    "# 1. Order dates dataframe to list in ascending order of approx. age at death\n",
    "dates = dates.sort_values(by=['Age at Death'],ascending=True,)\n",
    "dates.head()"
   ]
  },
  {
   "cell_type": "code",
   "execution_count": 8,
   "metadata": {},
   "outputs": [
    {
     "data": {
      "text/html": [
       "<div>\n",
       "<style scoped>\n",
       "    .dataframe tbody tr th:only-of-type {\n",
       "        vertical-align: middle;\n",
       "    }\n",
       "\n",
       "    .dataframe tbody tr th {\n",
       "        vertical-align: top;\n",
       "    }\n",
       "\n",
       "    .dataframe thead th {\n",
       "        text-align: right;\n",
       "    }\n",
       "</style>\n",
       "<table border=\"1\" class=\"dataframe\">\n",
       "  <thead>\n",
       "    <tr style=\"text-align: right;\">\n",
       "      <th></th>\n",
       "      <th>Date of Birth</th>\n",
       "      <th>Date of Death</th>\n",
       "      <th>Age at Death</th>\n",
       "      <th>Reason for Mortality</th>\n",
       "    </tr>\n",
       "  </thead>\n",
       "  <tbody>\n",
       "    <tr>\n",
       "      <th>18158</th>\n",
       "      <td>0-0-0</td>\n",
       "      <td>1975-2-2</td>\n",
       "      <td>998</td>\n",
       "      <td>0</td>\n",
       "    </tr>\n",
       "    <tr>\n",
       "      <th>18159</th>\n",
       "      <td>0-0-0</td>\n",
       "      <td>2006-9-9</td>\n",
       "      <td>998</td>\n",
       "      <td>1</td>\n",
       "    </tr>\n",
       "    <tr>\n",
       "      <th>18160</th>\n",
       "      <td>0-0-0</td>\n",
       "      <td>2000-6-6</td>\n",
       "      <td>998</td>\n",
       "      <td>0</td>\n",
       "    </tr>\n",
       "    <tr>\n",
       "      <th>18161</th>\n",
       "      <td>0-0-0</td>\n",
       "      <td>0-0-0</td>\n",
       "      <td>998</td>\n",
       "      <td>0</td>\n",
       "    </tr>\n",
       "    <tr>\n",
       "      <th>18162</th>\n",
       "      <td>0-0-0</td>\n",
       "      <td>2002-4-4</td>\n",
       "      <td>998</td>\n",
       "      <td>1</td>\n",
       "    </tr>\n",
       "  </tbody>\n",
       "</table>\n",
       "</div>"
      ],
      "text/plain": [
       "      Date of Birth Date of Death  Age at Death  Reason for Mortality\n",
       "18158         0-0-0      1975-2-2           998                     0\n",
       "18159         0-0-0      2006-9-9           998                     1\n",
       "18160         0-0-0      2000-6-6           998                     0\n",
       "18161         0-0-0         0-0-0           998                     0\n",
       "18162         0-0-0      2002-4-4           998                     1"
      ]
     },
     "execution_count": 8,
     "metadata": {},
     "output_type": "execute_result"
    }
   ],
   "source": [
    "# 6: Reset Index \n",
    "dates = dates.reset_index(drop=True)\n",
    "dates.head()\n",
    "dates.tail()"
   ]
  },
  {
   "cell_type": "code",
   "execution_count": 9,
   "metadata": {},
   "outputs": [
    {
     "data": {
      "text/html": [
       "<div>\n",
       "<style scoped>\n",
       "    .dataframe tbody tr th:only-of-type {\n",
       "        vertical-align: middle;\n",
       "    }\n",
       "\n",
       "    .dataframe tbody tr th {\n",
       "        vertical-align: top;\n",
       "    }\n",
       "\n",
       "    .dataframe thead th {\n",
       "        text-align: right;\n",
       "    }\n",
       "</style>\n",
       "<table border=\"1\" class=\"dataframe\">\n",
       "  <thead>\n",
       "    <tr style=\"text-align: right;\">\n",
       "      <th></th>\n",
       "      <th>Date of Birth</th>\n",
       "      <th>Date of Death</th>\n",
       "      <th>Age at Death</th>\n",
       "      <th>Reason for Mortality</th>\n",
       "    </tr>\n",
       "  </thead>\n",
       "  <tbody>\n",
       "    <tr>\n",
       "      <th>18134</th>\n",
       "      <td>1933-12-12</td>\n",
       "      <td>2015-8-8</td>\n",
       "      <td>81</td>\n",
       "      <td>0</td>\n",
       "    </tr>\n",
       "    <tr>\n",
       "      <th>18135</th>\n",
       "      <td>1933-11-11</td>\n",
       "      <td>2015-12-12</td>\n",
       "      <td>82</td>\n",
       "      <td>0</td>\n",
       "    </tr>\n",
       "    <tr>\n",
       "      <th>18136</th>\n",
       "      <td>1933-8-8</td>\n",
       "      <td>2015-9-9</td>\n",
       "      <td>82</td>\n",
       "      <td>0</td>\n",
       "    </tr>\n",
       "    <tr>\n",
       "      <th>18137</th>\n",
       "      <td>1930-1-1</td>\n",
       "      <td>2016-2-2</td>\n",
       "      <td>86</td>\n",
       "      <td>0</td>\n",
       "    </tr>\n",
       "    <tr>\n",
       "      <th>18138</th>\n",
       "      <td>1930-8-8</td>\n",
       "      <td>2017-1-1</td>\n",
       "      <td>86</td>\n",
       "      <td>0</td>\n",
       "    </tr>\n",
       "  </tbody>\n",
       "</table>\n",
       "</div>"
      ],
      "text/plain": [
       "      Date of Birth Date of Death  Age at Death  Reason for Mortality\n",
       "18134    1933-12-12      2015-8-8            81                     0\n",
       "18135    1933-11-11    2015-12-12            82                     0\n",
       "18136      1933-8-8      2015-9-9            82                     0\n",
       "18137      1930-1-1      2016-2-2            86                     0\n",
       "18138      1930-8-8      2017-1-1            86                     0"
      ]
     },
     "execution_count": 9,
     "metadata": {},
     "output_type": "execute_result"
    }
   ],
   "source": [
    "# 7: Remove rows with NaN / '0-0-0' values in Date of Birth\n",
    "dates = dates[dates['Date of Birth'] != '0-0-0']\n",
    "dates.tail()"
   ]
  },
  {
   "cell_type": "code",
   "execution_count": 10,
   "metadata": {},
   "outputs": [
    {
     "data": {
      "text/html": [
       "<div>\n",
       "<style scoped>\n",
       "    .dataframe tbody tr th:only-of-type {\n",
       "        vertical-align: middle;\n",
       "    }\n",
       "\n",
       "    .dataframe tbody tr th {\n",
       "        vertical-align: top;\n",
       "    }\n",
       "\n",
       "    .dataframe thead th {\n",
       "        text-align: right;\n",
       "    }\n",
       "</style>\n",
       "<table border=\"1\" class=\"dataframe\">\n",
       "  <thead>\n",
       "    <tr style=\"text-align: right;\">\n",
       "      <th></th>\n",
       "      <th>Date of Birth</th>\n",
       "      <th>Date of Death</th>\n",
       "      <th>Age at Death</th>\n",
       "      <th>Reason for Mortality</th>\n",
       "    </tr>\n",
       "  </thead>\n",
       "  <tbody>\n",
       "    <tr>\n",
       "      <th>18113</th>\n",
       "      <td>1960-3-3</td>\n",
       "      <td>2010-10-10</td>\n",
       "      <td>50</td>\n",
       "      <td>1</td>\n",
       "    </tr>\n",
       "    <tr>\n",
       "      <th>18116</th>\n",
       "      <td>1960-1-1</td>\n",
       "      <td>2011-10-10</td>\n",
       "      <td>51</td>\n",
       "      <td>1</td>\n",
       "    </tr>\n",
       "    <tr>\n",
       "      <th>18121</th>\n",
       "      <td>1963-12-12</td>\n",
       "      <td>2017-10-10</td>\n",
       "      <td>53</td>\n",
       "      <td>1</td>\n",
       "    </tr>\n",
       "    <tr>\n",
       "      <th>18123</th>\n",
       "      <td>1961-8-8</td>\n",
       "      <td>2015-5-5</td>\n",
       "      <td>53</td>\n",
       "      <td>1</td>\n",
       "    </tr>\n",
       "    <tr>\n",
       "      <th>18125</th>\n",
       "      <td>1942-12-12</td>\n",
       "      <td>2002-12-12</td>\n",
       "      <td>54</td>\n",
       "      <td>1</td>\n",
       "    </tr>\n",
       "  </tbody>\n",
       "</table>\n",
       "</div>"
      ],
      "text/plain": [
       "      Date of Birth Date of Death  Age at Death  Reason for Mortality\n",
       "18113      1960-3-3    2010-10-10            50                     1\n",
       "18116      1960-1-1    2011-10-10            51                     1\n",
       "18121    1963-12-12    2017-10-10            53                     1\n",
       "18123      1961-8-8      2015-5-5            53                     1\n",
       "18125    1942-12-12    2002-12-12            54                     1"
      ]
     },
     "execution_count": 10,
     "metadata": {},
     "output_type": "execute_result"
    }
   ],
   "source": [
    "# 8: Remove rows with 0 values in Reason for Mortality\n",
    "dates = dates[dates['Reason for Mortality'] != 0 ]\n",
    "dates.tail()"
   ]
  },
  {
   "cell_type": "code",
   "execution_count": 11,
   "metadata": {},
   "outputs": [
    {
     "data": {
      "text/html": [
       "<div>\n",
       "<style scoped>\n",
       "    .dataframe tbody tr th:only-of-type {\n",
       "        vertical-align: middle;\n",
       "    }\n",
       "\n",
       "    .dataframe tbody tr th {\n",
       "        vertical-align: top;\n",
       "    }\n",
       "\n",
       "    .dataframe thead th {\n",
       "        text-align: right;\n",
       "    }\n",
       "</style>\n",
       "<table border=\"1\" class=\"dataframe\">\n",
       "  <thead>\n",
       "    <tr style=\"text-align: right;\">\n",
       "      <th></th>\n",
       "      <th>Age at Death</th>\n",
       "      <th>Reason for Mortality</th>\n",
       "    </tr>\n",
       "  </thead>\n",
       "  <tbody>\n",
       "    <tr>\n",
       "      <th>count</th>\n",
       "      <td>16636.000000</td>\n",
       "      <td>16636.0</td>\n",
       "    </tr>\n",
       "    <tr>\n",
       "      <th>mean</th>\n",
       "      <td>28.356756</td>\n",
       "      <td>1.0</td>\n",
       "    </tr>\n",
       "    <tr>\n",
       "      <th>std</th>\n",
       "      <td>7.323171</td>\n",
       "      <td>0.0</td>\n",
       "    </tr>\n",
       "    <tr>\n",
       "      <th>min</th>\n",
       "      <td>11.000000</td>\n",
       "      <td>1.0</td>\n",
       "    </tr>\n",
       "    <tr>\n",
       "      <th>25%</th>\n",
       "      <td>22.000000</td>\n",
       "      <td>1.0</td>\n",
       "    </tr>\n",
       "    <tr>\n",
       "      <th>50%</th>\n",
       "      <td>28.000000</td>\n",
       "      <td>1.0</td>\n",
       "    </tr>\n",
       "    <tr>\n",
       "      <th>75%</th>\n",
       "      <td>34.000000</td>\n",
       "      <td>1.0</td>\n",
       "    </tr>\n",
       "    <tr>\n",
       "      <th>max</th>\n",
       "      <td>54.000000</td>\n",
       "      <td>1.0</td>\n",
       "    </tr>\n",
       "  </tbody>\n",
       "</table>\n",
       "</div>"
      ],
      "text/plain": [
       "       Age at Death  Reason for Mortality\n",
       "count  16636.000000               16636.0\n",
       "mean      28.356756                   1.0\n",
       "std        7.323171                   0.0\n",
       "min       11.000000                   1.0\n",
       "25%       22.000000                   1.0\n",
       "50%       28.000000                   1.0\n",
       "75%       34.000000                   1.0\n",
       "max       54.000000                   1.0"
      ]
     },
     "execution_count": 11,
     "metadata": {},
     "output_type": "execute_result"
    }
   ],
   "source": [
    "# 9: Analyze new shape of data\n",
    "dates.describe()"
   ]
  },
  {
   "cell_type": "markdown",
   "metadata": {},
   "source": [
    "### Record the Mean Age of Maternal Death within a Variable and Plot Age Distribution"
   ]
  },
  {
   "cell_type": "code",
   "execution_count": 12,
   "metadata": {},
   "outputs": [
    {
     "data": {
      "text/plain": [
       "28.356756431834576"
      ]
     },
     "execution_count": 12,
     "metadata": {},
     "output_type": "execute_result"
    }
   ],
   "source": [
    "# 1. Record/calculate mean age of maternal death\n",
    "mean_age = dates['Age at Death'].mean()\n",
    "mean_age"
   ]
  },
  {
   "cell_type": "code",
   "execution_count": 13,
   "metadata": {},
   "outputs": [
    {
     "data": {
      "text/plain": [
       "<matplotlib.axes._subplots.AxesSubplot at 0x1a1dd3dc50>"
      ]
     },
     "execution_count": 13,
     "metadata": {},
     "output_type": "execute_result"
    },
    {
     "data": {
      "image/png": "[encoded data removed]",
      "text/plain": [
       "<Figure size 432x288 with 1 Axes>"
      ]
     },
     "metadata": {
      "needs_background": "light"
     },
     "output_type": "display_data"
    }
   ],
   "source": [
    "# 2. Plot spread of maternal death via bar graph \n",
    "dates['Age at Death'].value_counts().sort_index().plot(kind='bar')"
   ]
  },
  {
   "cell_type": "code",
   "execution_count": 14,
   "metadata": {},
   "outputs": [
    {
     "data": {
      "text/plain": [
       "16636"
      ]
     },
     "execution_count": 14,
     "metadata": {},
     "output_type": "execute_result"
    }
   ],
   "source": [
    "# Create variable for maternal death\n",
    "age_death = dates['Age at Death']\n",
    "\n",
    "# Determine sample size for maternal death \n",
    "sample_size = len(age_death)\n",
    "sample_size"
   ]
  },
  {
   "cell_type": "code",
   "execution_count": 19,
   "metadata": {},
   "outputs": [
    {
     "data": {
      "image/png": "[encoded data removed]",
      "text/plain": [
       "<Figure size 432x288 with 2 Axes>"
      ]
     },
     "metadata": {
      "needs_background": "light"
     },
     "output_type": "display_data"
    },
    {
     "data": {
      "text/plain": [
       "'The sample(n=16636) population mean age of maternal death is 28.36 years old with a standard deviation of 7.32.'"
      ]
     },
     "execution_count": 19,
     "metadata": {},
     "output_type": "execute_result"
    }
   ],
   "source": [
    "\n",
    "\n",
    "# Create a figure with two plots\n",
    "fig, (boxplot, histogram) = plt.subplots(2, sharex=True, gridspec_kw={\"height_ratios\": (.15, .85)})\n",
    "\n",
    "# Add boxplot for maternal death\n",
    "sns.boxplot(age_death, ax=boxplot)\n",
    "\n",
    "# Remove x-axis label from boxplot\n",
    "boxplot.set(xlabel='')\n",
    "\n",
    "# Add histogram and normal curve for maternal death\n",
    "fit = stats.norm.pdf(age_death, np.mean(age_death), np.std(age_death))\n",
    "pl.plot(age_death, fit, '-o')\n",
    "pl.hist(age_death, density=True, alpha=0.5, bins=20)\n",
    "\n",
    "# Label axis \n",
    "pl.xlabel('Age of Maternal Mortality')\n",
    "pl.ylabel('Probability Density Function')\n",
    "pl.title('Age Distribution Associated with the Incidence of Maternal Mortality in Mexico')\n",
    "\n",
    "# Show plot and add print mean and std sample information\n",
    "plt.show()\n",
    "'The sample(n=' + str(sample_size) + ') population mean age of maternal death is ' + str(round(np.mean(age_death), 2)) + ' years old with a standard deviation of ' + str(round(np.std(age_death), 2)) + '.'\n"
   ]
  },
  {
   "cell_type": "markdown",
   "metadata": {},
   "source": [
    "The distribution appears to be generally normally distributed based off of the histogram of the maternal age at time of death. Since binning bias can occur, the Cumulative Distribution Function (CDF) needs to be analyzed."
   ]
  },
  {
   "cell_type": "markdown",
   "metadata": {},
   "source": [
    "Based off of the Central Limit Theorem (CLT), the sampling distribution of the sample means approaches a normal distribution as the sample size ($n$) gets larger - regardless of what the shape of the population distribution. Under this theorem, $n>30$ is considered a large sample size. Since the current database sample size $n$ = 16636, CLT can be assumed."
   ]
  },
  {
   "cell_type": "markdown",
   "metadata": {},
   "source": [
    "### Create Empirical and Theoretical CDFs"
   ]
  },
  {
   "cell_type": "code",
   "execution_count": 34,
   "metadata": {},
   "outputs": [],
   "source": [
    "# Create an Empirical Cumulative Distribution Function (ECDF)\n",
    "def ecdf(data):\n",
    "    \"\"\"Compute ECDF for a one-dimensional array of measurements.\"\"\"\n",
    "    # x-data for the ECDF: x\n",
    "    x = np.sort(data)\n",
    "\n",
    "    # y-data for the ECDF: y\n",
    "    y = np.arange(1, len(data)+1) / len(data)\n",
    "\n",
    "    return x, y"
   ]
  },
  {
   "cell_type": "code",
   "execution_count": 33,
   "metadata": {},
   "outputs": [],
   "source": [
    "# Compute the ECDF of data\n",
    "x_death, y_death = ecdf(age_death)\n",
    "\n",
    "# Seed the random number generator:\n",
    "np.random.seed(15)\n",
    "\n",
    "# Compute the theoretical CDF \n",
    "cdf_mean = np.mean(age_death)\n",
    "cdf_std = np.std(age_death)\n",
    "cdf_samples = np.random.normal(cdf_mean, cdf_std, size=10000)\n",
    "x_norm, y_norm = ecdf(cdf_samples)"
   ]
  },
  {
   "cell_type": "code",
   "execution_count": 32,
   "metadata": {},
   "outputs": [
    {
     "data": {
      "image/png": "[encoded data removed]",
      "text/plain": [
       "<Figure size 432x288 with 1 Axes>"
      ]
     },
     "metadata": {
      "needs_background": "light"
     },
     "output_type": "display_data"
    }
   ],
   "source": [
    "# Graphically visualize data\n",
    "\n",
    "# Plot both ECDFs on same plot\n",
    "fig = plt.plot(x_death, y_death, marker='.', linestyle='none')\n",
    "fig = plt.plot(x_norm, x_norm, marker='.', linestyle='none')\n",
    "\n",
    "# Label figure\n",
    "fig = plt.xlabel('Age of Maternal Death')\n",
    "fig = plt.ylabel('ECDF')\n",
    "fig = plt.legend(('Sample Population', 'Expected Norm'))\n",
    "fig = plt.title('Distribution of Maternal-Associated Deaths in Mexico')\n",
    "\n",
    "# Save plots\n",
    "plt.show()"
   ]
  },
  {
   "cell_type": "markdown",
   "metadata": {},
   "source": [
    "*Conclusion*: The datat does not appear to be normally distributed. Therefore, while this data can be analyzed, it's statistical significance is diminished."
   ]
  },
  {
   "cell_type": "markdown",
   "metadata": {},
   "source": [
    "### Statistical Testing of Data Mean\n",
    "\n",
    "$H$o: The mean age of death of maternal women in Mexico is equal to the mean age of death presented in the dataset ($28.35 yoa$). <br>  Empirical Mean ($μ$) − Population Mean ($μ$) = 0\n",
    "\n",
    "$H$a: The mean age of death of maternal women in Mexico is *not* equal to the mean age of death presented in the dataset ($28.35 yoa$). <br> Empirical Mean ($μ$) − Population Mean ($μ$) ≠ 0\n",
    "\n",
    "Significance Level: *95%* Confidence. <br> $α$ = 0.05"
   ]
  },
  {
   "cell_type": "markdown",
   "metadata": {},
   "source": [
    "#### Bootstrap Simulation: Compare the Sample Mean to a Statistically-Likely Population Mean."
   ]
  },
  {
   "cell_type": "code",
   "execution_count": 35,
   "metadata": {},
   "outputs": [],
   "source": [
    "# Create a bootstrap replicate function for repeatability\n",
    "def bootstrap_replicate_1d(data, func):\n",
    "    \"\"\"Create a bootstrap replicates.\"\"\"\n",
    "    \n",
    "    # Create bootstrap sample\n",
    "    boot_sample = np.random.choice(data, size=len(data))\n",
    "    \n",
    "    # Apply function to the computed bootstrap sample\n",
    "    return func(boot_sample)\n",
    "\n",
    "\n",
    "# Create a function to apply the bootstrap replicate function 'n' and return an array\n",
    "def draw_bs_reps(data, func, size=1):\n",
    "    \"\"\"Draw bootstrap replicates.\"\"\"\n",
    "\n",
    "    # Initialize array of replicates: bs_replicates\n",
    "    boot_rep = np.empty(size)\n",
    "\n",
    "    # Generate 'n' number of replicates\n",
    "    for i in range(size):\n",
    "        boot_rep[i] = bootstrap_replicate_1d(data, func)\n",
    "\n",
    "    return boot_rep"
   ]
  },
  {
   "cell_type": "code",
   "execution_count": 36,
   "metadata": {},
   "outputs": [
    {
     "name": "stdout",
     "output_type": "stream",
     "text": [
      "sample size:  16636\n",
      "sample mean age of death:  28.356756431834576\n",
      "sample standard deviation:  7.3231710220967\n"
     ]
    }
   ],
   "source": [
    "# Create variables for sample statistical information\n",
    "materna_age_std = age_death.std()\n",
    "materna_sample_size = len(age_death)\n",
    "\n",
    "# Create an array of the sample mean that is equal to the boostrap array length\n",
    "materna_mean_arr = np.full(10000, mean_age)\n",
    "\n",
    "print('sample size: ', materna_sample_size)\n",
    "print('sample mean age of death: ', mean_age)\n",
    "print('sample standard deviation: ', materna_age_std)"
   ]
  },
  {
   "cell_type": "code",
   "execution_count": 37,
   "metadata": {},
   "outputs": [
    {
     "name": "stdout",
     "output_type": "stream",
     "text": [
      "bootstrap mean age of death: 28.356761968021157\n",
      "p-value: 0.4943\n",
      "95% Confidence Interval: [28.2443  28.4692]\n"
     ]
    }
   ],
   "source": [
    "# Create 10000 bootstrap replicates of the mean and take the mean of the returned array\n",
    "boot_tenthousand =  draw_bs_reps(age_death, np.mean, size=10000)\n",
    "print('bootstrap mean age of death: ' + str(np.mean(boot_tenthousand)))\n",
    "\n",
    "# Compute p-value\n",
    "p_val = np.sum(boot_tenthousand >= materna_mean_arr) / len(boot_tenthousand)\n",
    "print('p-value: {0:0.4f}'.format(p_val))\n",
    "\n",
    "# Calculate the standard margin of error for a 95% confidence interval\n",
    "conf_int_low = mean_age-(1.98*(materna_age_std/math.sqrt(materna_sample_size)))\n",
    "conf_int_high = mean_age+(1.98*(materna_age_std/math.sqrt(materna_sample_size)))\n",
    "print('95% Confidence Interval: [{0:0.4f}  {1:0.4f}]'.format(conf_int_low, conf_int_high))\n"
   ]
  },
  {
   "cell_type": "markdown",
   "metadata": {},
   "source": [
    "**Conclusion from the Bootstrap Hypothesis Test:** The resulting population mean of maternal death approximation based on 10,000 boostrap replicate samples was *28.3564 years of age (yoa)*, which is close to the sample mean of *28.3568 yoa* old from the dataset. Additionally, the bootstrap population mean is within the 95% Confidence Interval, *28.2443 to 28.4692 yoa* with a p-value of 0.4959, which is greater than α = 0.05. Therefore, the null hypothesis that the mean age of death of maternal women in Mexico is equal to the mean age of death presented in the dataset be accepted. **$Ho$ is accepted**."
   ]
  },
  {
   "cell_type": "code",
   "execution_count": null,
   "metadata": {},
   "outputs": [],
   "source": []
  }
 ],
 "metadata": {
  "kernelspec": {
   "display_name": "Python 3",
   "language": "python",
   "name": "python3"
  },
  "language_info": {
   "codemirror_mode": {
    "name": "ipython",
    "version": 3
   },
   "file_extension": ".py",
   "mimetype": "text/x-python",
   "name": "python",
   "nbconvert_exporter": "python",
   "pygments_lexer": "ipython3",
   "version": "3.7.0"
  }
 },
 "nbformat": 4,
 "nbformat_minor": 2
}
