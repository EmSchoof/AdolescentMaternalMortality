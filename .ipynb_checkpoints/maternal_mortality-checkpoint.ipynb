{
 "cells": [
  {
   "cell_type": "code",
   "execution_count": 1,
   "metadata": {},
   "outputs": [],
   "source": [
    "# Import the relevant python libraries for the analysis\n",
    "import pandas as pd\n",
    "from pandas import DataFrame\n",
    "import pylab as pl\n",
    "import math\n",
    "import matplotlib.pyplot as plt\n",
    "import numpy as np\n",
    "from numpy import histogram\n",
    "import random\n",
    "import seaborn as sns\n",
    "import scipy.stats as stats\n",
    "import statistics\n",
    "from statsmodels.distributions.empirical_distribution import ECDF\n",
    "from __future__ import division"
   ]
  },
  {
   "cell_type": "code",
   "execution_count": 2,
   "metadata": {},
   "outputs": [],
   "source": [
    "# Load the dataset\n",
    "mortalitad_materna = pd.read_csv('data/mortalidad_materna.csv')\n",
    "#materna.info()"
   ]
  },
  {
   "cell_type": "markdown",
   "metadata": {},
   "source": [
    "## Create a **materna** subdataset *in English* from the **maternalidad_materna** dataset *in Spanish* with information including: \n",
    "#### - Residence Area\n",
    "#### - Local Community Size\n",
    "#### - Total Education Completed \n",
    "#### - Last Recorded Age\n",
    "#### - Reason for Mortality\n",
    "#### - Medical Assistance"
   ]
  },
  {
   "cell_type": "markdown",
   "metadata": {},
   "source": [
    "### Step 1: Explore the Data and Create Clean Sub-Dataframe for Analysis"
   ]
  },
  {
   "cell_type": "code",
   "execution_count": 3,
   "metadata": {},
   "outputs": [
    {
     "name": "stdout",
     "output_type": "stream",
     "text": [
      "13088    0-0-0\n",
      "12833    0-0-0\n",
      "dtype: object\n"
     ]
    },
    {
     "data": {
      "text/plain": [
       "18163"
      ]
     },
     "execution_count": 3,
     "metadata": {},
     "output_type": "execute_result"
    }
   ],
   "source": [
    "# 1. Combine patient birthdate information into one column\n",
    "birth = DataFrame(mortalitad_materna, columns=['Año de nacimiento', 'Mes de nacimiento', 'Día de nacimiento'])\n",
    "birth = mortalitad_materna['Año de nacimiento'].map(str) + '-' + mortalitad_materna['Mes de nacimiento'].map(str) + '-' + mortalitad_materna['Mes de nacimiento'].map(str)\n",
    "print(birth.sort_values(ascending=True).head(2))\n",
    "len(birth)"
   ]
  },
  {
   "cell_type": "code",
   "execution_count": 4,
   "metadata": {},
   "outputs": [
    {
     "name": "stdout",
     "output_type": "stream",
     "text": [
      "17886       0-0-0\n",
      "17516    1914-3-3\n",
      "dtype: object\n"
     ]
    },
    {
     "data": {
      "text/plain": [
       "18163"
      ]
     },
     "execution_count": 4,
     "metadata": {},
     "output_type": "execute_result"
    }
   ],
   "source": [
    "# Combine patient date of death information into one column\n",
    "death = DataFrame(mortalitad_materna, columns=['Año de la defunción', 'Mes de la defunción', 'Día de la defunción'])\n",
    "death = mortalitad_materna['Año de la defunción'].map(str) + '-' + mortalitad_materna['Mes de la defunción'].map(str) + '-' + mortalitad_materna['Mes de la defunción'].map(str)\n",
    "print(death.sort_values(ascending=True).head(2))\n",
    "len(death)"
   ]
  },
  {
   "cell_type": "markdown",
   "metadata": {},
   "source": [
    "#### Create variables for important location, economic, and educational factors associated with the instance of maternal mortality:\n",
    "- Residence Area\n",
    "- Local Community Size\n",
    "- Total Education Completed \n",
    "- Last Recorded Age\n",
    "- Reason for Mortality\n",
    "- Medical Assistance"
   ]
  },
  {
   "cell_type": "code",
   "execution_count": 5,
   "metadata": {},
   "outputs": [],
   "source": [
    "# Create variable to store:\n",
    "\n",
    "#residence information \n",
    "residence_code = mortalitad_materna['Entidad de residencia']\n",
    "residence_name = mortalitad_materna['Descripción de entidad de residencia']\n",
    "\n",
    "#local community info\n",
    "local_size = mortalitad_materna['Descripción del tamaño de localidad']\n",
    "\n",
    "#educational level\n",
    "edu_reached_code = mortalitad_materna['Escolaridad'] \n",
    "edu_reached = mortalitad_materna['Descripción de la escolaridad']\n",
    "\n",
    "#age fulfilled by patient\n",
    "last_age = mortalitad_materna['Edad cumplida']\n",
    "\n",
    "#mortality reason\n",
    "mortality_reason = mortalitad_materna['Razón de mortalidad materna']\n",
    "\n",
    "#medical assistance\n",
    "medical_received = mortalitad_materna['Descripción de la asistencia médica']"
   ]
  },
  {
   "cell_type": "code",
   "execution_count": 6,
   "metadata": {},
   "outputs": [
    {
     "data": {
      "text/html": [
       "<div>\n",
       "<style scoped>\n",
       "    .dataframe tbody tr th:only-of-type {\n",
       "        vertical-align: middle;\n",
       "    }\n",
       "\n",
       "    .dataframe tbody tr th {\n",
       "        vertical-align: top;\n",
       "    }\n",
       "\n",
       "    .dataframe thead th {\n",
       "        text-align: right;\n",
       "    }\n",
       "</style>\n",
       "<table border=\"1\" class=\"dataframe\">\n",
       "  <thead>\n",
       "    <tr style=\"text-align: right;\">\n",
       "      <th></th>\n",
       "      <th>Date of Birth</th>\n",
       "      <th>Date of Mortality</th>\n",
       "      <th>Residence Code</th>\n",
       "      <th>Residence Name</th>\n",
       "      <th>Local Community Size</th>\n",
       "      <th>Education Code</th>\n",
       "      <th>Education Completed</th>\n",
       "      <th>Age at Death</th>\n",
       "      <th>Reason for Mortality</th>\n",
       "      <th>Medical Assistance Received</th>\n",
       "    </tr>\n",
       "  </thead>\n",
       "  <tbody>\n",
       "    <tr>\n",
       "      <th>0</th>\n",
       "      <td>1972-7-7</td>\n",
       "      <td>2002-3-3</td>\n",
       "      <td>29</td>\n",
       "      <td>Tlaxcala</td>\n",
       "      <td>40000 a 49999   habitantes</td>\n",
       "      <td>7</td>\n",
       "      <td>PROFESIONAL</td>\n",
       "      <td>29</td>\n",
       "      <td>1</td>\n",
       "      <td>CON ATENCION MEDICA</td>\n",
       "    </tr>\n",
       "    <tr>\n",
       "      <th>1</th>\n",
       "      <td>1967-4-4</td>\n",
       "      <td>2003-5-5</td>\n",
       "      <td>29</td>\n",
       "      <td>Tlaxcala</td>\n",
       "      <td>40000 a 49999   habitantes</td>\n",
       "      <td>6</td>\n",
       "      <td>BACHILLERATO O PREPARATORIA COMPLETA</td>\n",
       "      <td>36</td>\n",
       "      <td>1</td>\n",
       "      <td>CON ATENCION MEDICA</td>\n",
       "    </tr>\n",
       "  </tbody>\n",
       "</table>\n",
       "</div>"
      ],
      "text/plain": [
       "  Date of Birth Date of Mortality  Residence Code Residence Name  \\\n",
       "0      1972-7-7          2002-3-3              29       Tlaxcala   \n",
       "1      1967-4-4          2003-5-5              29       Tlaxcala   \n",
       "\n",
       "         Local Community Size  Education Code  \\\n",
       "0  40000 a 49999   habitantes               7   \n",
       "1  40000 a 49999   habitantes               6   \n",
       "\n",
       "                    Education Completed  Age at Death  Reason for Mortality  \\\n",
       "0                           PROFESIONAL            29                     1   \n",
       "1  BACHILLERATO O PREPARATORIA COMPLETA            36                     1   \n",
       "\n",
       "  Medical Assistance Received  \n",
       "0         CON ATENCION MEDICA  \n",
       "1         CON ATENCION MEDICA  "
      ]
     },
     "execution_count": 6,
     "metadata": {},
     "output_type": "execute_result"
    }
   ],
   "source": [
    "# Create a sub-dataframe to hold all date- information \n",
    "materna = pd.concat([birth, \n",
    "                   death, \n",
    "                   residence_code,\n",
    "                   residence_name,\n",
    "                   local_size,\n",
    "                   edu_reached_code,\n",
    "                   edu_reached,\n",
    "                   last_age,\n",
    "                   mortality_reason,\n",
    "                   medical_received], axis=1)\n",
    "materna.columns = ['Date of Birth', \n",
    "                 'Date of Mortality', \n",
    "                 'Residence Code',\n",
    "                 'Residence Name',\n",
    "                 'Local Community Size',\n",
    "                 'Education Code',\n",
    "                 'Education Completed',\n",
    "                 'Age at Death',\n",
    "                 'Reason for Mortality',\n",
    "                 'Medical Assistance Received']\n",
    "    \n",
    "materna.head(2)"
   ]
  },
  {
   "cell_type": "markdown",
   "metadata": {},
   "source": [
    "### Data Wrangling: \n",
    "**Part 1**: Check for null or errors within **materna**\n",
    "\n",
    "**Part 2**: Translate important columns in **materna** into English *using translation_english.txt*"
   ]
  },
  {
   "cell_type": "markdown",
   "metadata": {},
   "source": [
    "#### Part 1: Check for null or errors within materna"
   ]
  },
  {
   "cell_type": "code",
   "execution_count": 7,
   "metadata": {},
   "outputs": [
    {
     "data": {
      "text/html": [
       "<div>\n",
       "<style scoped>\n",
       "    .dataframe tbody tr th:only-of-type {\n",
       "        vertical-align: middle;\n",
       "    }\n",
       "\n",
       "    .dataframe tbody tr th {\n",
       "        vertical-align: top;\n",
       "    }\n",
       "\n",
       "    .dataframe thead th {\n",
       "        text-align: right;\n",
       "    }\n",
       "</style>\n",
       "<table border=\"1\" class=\"dataframe\">\n",
       "  <thead>\n",
       "    <tr style=\"text-align: right;\">\n",
       "      <th></th>\n",
       "      <th>Date of Birth</th>\n",
       "      <th>Date of Mortality</th>\n",
       "      <th>Residence Code</th>\n",
       "      <th>Residence Name</th>\n",
       "      <th>Local Community Size</th>\n",
       "      <th>Education Code</th>\n",
       "      <th>Education Completed</th>\n",
       "      <th>Age at Death</th>\n",
       "      <th>Reason for Mortality</th>\n",
       "      <th>Medical Assistance Received</th>\n",
       "    </tr>\n",
       "  </thead>\n",
       "  <tbody>\n",
       "    <tr>\n",
       "      <th>9598</th>\n",
       "      <td>1998-7-7</td>\n",
       "      <td>2009-7-7</td>\n",
       "      <td>7</td>\n",
       "      <td>Chiapas</td>\n",
       "      <td>1 a 999            habitantes</td>\n",
       "      <td>2</td>\n",
       "      <td>PRIMARIA INCOMPLETA</td>\n",
       "      <td>11</td>\n",
       "      <td>1</td>\n",
       "      <td>CON ATENCION MEDICA</td>\n",
       "    </tr>\n",
       "    <tr>\n",
       "      <th>6407</th>\n",
       "      <td>1996-1-1</td>\n",
       "      <td>2008-12-12</td>\n",
       "      <td>30</td>\n",
       "      <td>Veracruz de Ignacio de la Llave</td>\n",
       "      <td>50000 a 74999   habitantes</td>\n",
       "      <td>3</td>\n",
       "      <td>PRIMARIA COMPLETA</td>\n",
       "      <td>12</td>\n",
       "      <td>1</td>\n",
       "      <td>CON ATENCION MEDICA</td>\n",
       "    </tr>\n",
       "    <tr>\n",
       "      <th>9084</th>\n",
       "      <td>2001-12-12</td>\n",
       "      <td>2014-5-5</td>\n",
       "      <td>27</td>\n",
       "      <td>Tabasco</td>\n",
       "      <td>250000 a 499999 habitantes</td>\n",
       "      <td>4</td>\n",
       "      <td>SECUNDARIA INCOMPLETA</td>\n",
       "      <td>12</td>\n",
       "      <td>1</td>\n",
       "      <td>CON ATENCION MEDICA</td>\n",
       "    </tr>\n",
       "    <tr>\n",
       "      <th>10883</th>\n",
       "      <td>1983-11-11</td>\n",
       "      <td>2002-6-6</td>\n",
       "      <td>15</td>\n",
       "      <td>México</td>\n",
       "      <td>2500 a 4999    habitantes</td>\n",
       "      <td>5</td>\n",
       "      <td>SECUNDARIA COMPLETA</td>\n",
       "      <td>12</td>\n",
       "      <td>1</td>\n",
       "      <td>CON ATENCION MEDICA</td>\n",
       "    </tr>\n",
       "    <tr>\n",
       "      <th>1266</th>\n",
       "      <td>1993-0-0</td>\n",
       "      <td>2005-1-1</td>\n",
       "      <td>12</td>\n",
       "      <td>Guerrero</td>\n",
       "      <td>2500 a 4999    habitantes</td>\n",
       "      <td>2</td>\n",
       "      <td>PRIMARIA INCOMPLETA</td>\n",
       "      <td>12</td>\n",
       "      <td>1</td>\n",
       "      <td>SIN ATENCION MEDICA</td>\n",
       "    </tr>\n",
       "  </tbody>\n",
       "</table>\n",
       "</div>"
      ],
      "text/plain": [
       "      Date of Birth Date of Mortality  Residence Code  \\\n",
       "9598       1998-7-7          2009-7-7               7   \n",
       "6407       1996-1-1        2008-12-12              30   \n",
       "9084     2001-12-12          2014-5-5              27   \n",
       "10883    1983-11-11          2002-6-6              15   \n",
       "1266       1993-0-0          2005-1-1              12   \n",
       "\n",
       "                        Residence Name           Local Community Size  \\\n",
       "9598                           Chiapas  1 a 999            habitantes   \n",
       "6407   Veracruz de Ignacio de la Llave     50000 a 74999   habitantes   \n",
       "9084                           Tabasco     250000 a 499999 habitantes   \n",
       "10883                           México      2500 a 4999    habitantes   \n",
       "1266                          Guerrero      2500 a 4999    habitantes   \n",
       "\n",
       "       Education Code    Education Completed  Age at Death  \\\n",
       "9598                2    PRIMARIA INCOMPLETA            11   \n",
       "6407                3      PRIMARIA COMPLETA            12   \n",
       "9084                4  SECUNDARIA INCOMPLETA            12   \n",
       "10883               5    SECUNDARIA COMPLETA            12   \n",
       "1266                2    PRIMARIA INCOMPLETA            12   \n",
       "\n",
       "       Reason for Mortality Medical Assistance Received  \n",
       "9598                      1         CON ATENCION MEDICA  \n",
       "6407                      1         CON ATENCION MEDICA  \n",
       "9084                      1         CON ATENCION MEDICA  \n",
       "10883                     1         CON ATENCION MEDICA  \n",
       "1266                      1         SIN ATENCION MEDICA  "
      ]
     },
     "execution_count": 7,
     "metadata": {},
     "output_type": "execute_result"
    }
   ],
   "source": [
    "# Order dataframe to list in ascending order of approx. age at death\n",
    "materna = materna.sort_values(by=['Age at Death'],ascending=True)\n",
    "materna.head()"
   ]
  },
  {
   "cell_type": "code",
   "execution_count": 8,
   "metadata": {},
   "outputs": [
    {
     "data": {
      "text/html": [
       "<div>\n",
       "<style scoped>\n",
       "    .dataframe tbody tr th:only-of-type {\n",
       "        vertical-align: middle;\n",
       "    }\n",
       "\n",
       "    .dataframe tbody tr th {\n",
       "        vertical-align: top;\n",
       "    }\n",
       "\n",
       "    .dataframe thead th {\n",
       "        text-align: right;\n",
       "    }\n",
       "</style>\n",
       "<table border=\"1\" class=\"dataframe\">\n",
       "  <thead>\n",
       "    <tr style=\"text-align: right;\">\n",
       "      <th></th>\n",
       "      <th>Date of Birth</th>\n",
       "      <th>Date of Mortality</th>\n",
       "      <th>Residence Code</th>\n",
       "      <th>Residence Name</th>\n",
       "      <th>Local Community Size</th>\n",
       "      <th>Education Code</th>\n",
       "      <th>Education Completed</th>\n",
       "      <th>Age at Death</th>\n",
       "      <th>Reason for Mortality</th>\n",
       "      <th>Medical Assistance Received</th>\n",
       "    </tr>\n",
       "  </thead>\n",
       "  <tbody>\n",
       "    <tr>\n",
       "      <th>18158</th>\n",
       "      <td>0-0-0</td>\n",
       "      <td>1975-2-2</td>\n",
       "      <td>25</td>\n",
       "      <td>Sinaloa</td>\n",
       "      <td>1 a 999            habitantes</td>\n",
       "      <td>0</td>\n",
       "      <td>NO ESPECIFICADO</td>\n",
       "      <td>998</td>\n",
       "      <td>0</td>\n",
       "      <td>NO ESPECIFICADO</td>\n",
       "    </tr>\n",
       "    <tr>\n",
       "      <th>18159</th>\n",
       "      <td>0-0-0</td>\n",
       "      <td>2006-9-9</td>\n",
       "      <td>27</td>\n",
       "      <td>Tabasco</td>\n",
       "      <td>75000 a 99999   habitantes</td>\n",
       "      <td>1</td>\n",
       "      <td>NINGUNA</td>\n",
       "      <td>998</td>\n",
       "      <td>1</td>\n",
       "      <td>NO ESPECIFICADO</td>\n",
       "    </tr>\n",
       "    <tr>\n",
       "      <th>18160</th>\n",
       "      <td>0-0-0</td>\n",
       "      <td>2000-6-6</td>\n",
       "      <td>16</td>\n",
       "      <td>Michoacán de Ocampo</td>\n",
       "      <td>No Especificado.</td>\n",
       "      <td>0</td>\n",
       "      <td>NO ESPECIFICADO</td>\n",
       "      <td>998</td>\n",
       "      <td>0</td>\n",
       "      <td>NO ESPECIFICADO</td>\n",
       "    </tr>\n",
       "    <tr>\n",
       "      <th>18161</th>\n",
       "      <td>0-0-0</td>\n",
       "      <td>0-0-0</td>\n",
       "      <td>0</td>\n",
       "      <td>No especificado</td>\n",
       "      <td>No Especificado.</td>\n",
       "      <td>0</td>\n",
       "      <td>NO ESPECIFICADO</td>\n",
       "      <td>998</td>\n",
       "      <td>0</td>\n",
       "      <td>SIN ATENCION MEDICA</td>\n",
       "    </tr>\n",
       "    <tr>\n",
       "      <th>18162</th>\n",
       "      <td>0-0-0</td>\n",
       "      <td>2002-4-4</td>\n",
       "      <td>8</td>\n",
       "      <td>Chihuahua</td>\n",
       "      <td>1 a 999            habitantes</td>\n",
       "      <td>2</td>\n",
       "      <td>PRIMARIA INCOMPLETA</td>\n",
       "      <td>998</td>\n",
       "      <td>1</td>\n",
       "      <td>CON ATENCION MEDICA</td>\n",
       "    </tr>\n",
       "  </tbody>\n",
       "</table>\n",
       "</div>"
      ],
      "text/plain": [
       "      Date of Birth Date of Mortality  Residence Code       Residence Name  \\\n",
       "18158         0-0-0          1975-2-2              25              Sinaloa   \n",
       "18159         0-0-0          2006-9-9              27              Tabasco   \n",
       "18160         0-0-0          2000-6-6              16  Michoacán de Ocampo   \n",
       "18161         0-0-0             0-0-0               0      No especificado   \n",
       "18162         0-0-0          2002-4-4               8            Chihuahua   \n",
       "\n",
       "                Local Community Size  Education Code  Education Completed  \\\n",
       "18158  1 a 999            habitantes               0      NO ESPECIFICADO   \n",
       "18159     75000 a 99999   habitantes               1              NINGUNA   \n",
       "18160               No Especificado.               0      NO ESPECIFICADO   \n",
       "18161               No Especificado.               0      NO ESPECIFICADO   \n",
       "18162  1 a 999            habitantes               2  PRIMARIA INCOMPLETA   \n",
       "\n",
       "       Age at Death  Reason for Mortality Medical Assistance Received  \n",
       "18158           998                     0             NO ESPECIFICADO  \n",
       "18159           998                     1             NO ESPECIFICADO  \n",
       "18160           998                     0             NO ESPECIFICADO  \n",
       "18161           998                     0         SIN ATENCION MEDICA  \n",
       "18162           998                     1         CON ATENCION MEDICA  "
      ]
     },
     "execution_count": 8,
     "metadata": {},
     "output_type": "execute_result"
    }
   ],
   "source": [
    "# Reset Index \n",
    "materna = materna.reset_index(drop=True)\n",
    "materna.head()\n",
    "materna.tail()"
   ]
  },
  {
   "cell_type": "markdown",
   "metadata": {},
   "source": [
    "#### Check if all values make sense\n",
    "- Case 1: It is biologically impossible to reach 998 years of age. These data entries appear to all have '0-0-0' in the 'Date of Birth' column and should therefore be removed from the sub-dataset, dates.\n",
    "- Case 2: What do the '0' and '1' entires for 'Reason for Mortality' mean? If one of these keys is not associated with maternal death, then those entries should also be removed from the sub-dataset, dates."
   ]
  },
  {
   "cell_type": "code",
   "execution_count": 9,
   "metadata": {},
   "outputs": [
    {
     "data": {
      "text/html": [
       "<div>\n",
       "<style scoped>\n",
       "    .dataframe tbody tr th:only-of-type {\n",
       "        vertical-align: middle;\n",
       "    }\n",
       "\n",
       "    .dataframe tbody tr th {\n",
       "        vertical-align: top;\n",
       "    }\n",
       "\n",
       "    .dataframe thead th {\n",
       "        text-align: right;\n",
       "    }\n",
       "</style>\n",
       "<table border=\"1\" class=\"dataframe\">\n",
       "  <thead>\n",
       "    <tr style=\"text-align: right;\">\n",
       "      <th></th>\n",
       "      <th>Date of Birth</th>\n",
       "      <th>Date of Mortality</th>\n",
       "      <th>Residence Code</th>\n",
       "      <th>Residence Name</th>\n",
       "      <th>Local Community Size</th>\n",
       "      <th>Education Code</th>\n",
       "      <th>Education Completed</th>\n",
       "      <th>Age at Death</th>\n",
       "      <th>Reason for Mortality</th>\n",
       "      <th>Medical Assistance Received</th>\n",
       "    </tr>\n",
       "  </thead>\n",
       "  <tbody>\n",
       "    <tr>\n",
       "      <th>18134</th>\n",
       "      <td>1933-12-12</td>\n",
       "      <td>2015-8-8</td>\n",
       "      <td>9</td>\n",
       "      <td>Distrito Federal</td>\n",
       "      <td>500000 a 999999  habitantes</td>\n",
       "      <td>3</td>\n",
       "      <td>PRIMARIA COMPLETA</td>\n",
       "      <td>81</td>\n",
       "      <td>0</td>\n",
       "      <td>CON ATENCION MEDICA</td>\n",
       "    </tr>\n",
       "    <tr>\n",
       "      <th>18135</th>\n",
       "      <td>1933-11-11</td>\n",
       "      <td>2015-12-12</td>\n",
       "      <td>15</td>\n",
       "      <td>México</td>\n",
       "      <td>250000 a 499999 habitantes</td>\n",
       "      <td>2</td>\n",
       "      <td>PRIMARIA INCOMPLETA</td>\n",
       "      <td>82</td>\n",
       "      <td>0</td>\n",
       "      <td>CON ATENCION MEDICA</td>\n",
       "    </tr>\n",
       "    <tr>\n",
       "      <th>18136</th>\n",
       "      <td>1933-8-8</td>\n",
       "      <td>2015-9-9</td>\n",
       "      <td>24</td>\n",
       "      <td>San Luis Potosí</td>\n",
       "      <td>500000 a 999999  habitantes</td>\n",
       "      <td>2</td>\n",
       "      <td>PRIMARIA INCOMPLETA</td>\n",
       "      <td>82</td>\n",
       "      <td>0</td>\n",
       "      <td>CON ATENCION MEDICA</td>\n",
       "    </tr>\n",
       "    <tr>\n",
       "      <th>18137</th>\n",
       "      <td>1930-1-1</td>\n",
       "      <td>2016-2-2</td>\n",
       "      <td>14</td>\n",
       "      <td>Jalisco</td>\n",
       "      <td>500000 a 999999  habitantes</td>\n",
       "      <td>2</td>\n",
       "      <td>PRIMARIA INCOMPLETA</td>\n",
       "      <td>86</td>\n",
       "      <td>0</td>\n",
       "      <td>CON ATENCION MEDICA</td>\n",
       "    </tr>\n",
       "    <tr>\n",
       "      <th>18138</th>\n",
       "      <td>1930-8-8</td>\n",
       "      <td>2017-1-1</td>\n",
       "      <td>30</td>\n",
       "      <td>Veracruz de Ignacio de la Llave</td>\n",
       "      <td>1000 a 1999    habitantes</td>\n",
       "      <td>2</td>\n",
       "      <td>PRIMARIA INCOMPLETA</td>\n",
       "      <td>86</td>\n",
       "      <td>0</td>\n",
       "      <td>CON ATENCION MEDICA</td>\n",
       "    </tr>\n",
       "  </tbody>\n",
       "</table>\n",
       "</div>"
      ],
      "text/plain": [
       "      Date of Birth Date of Mortality  Residence Code  \\\n",
       "18134    1933-12-12          2015-8-8               9   \n",
       "18135    1933-11-11        2015-12-12              15   \n",
       "18136      1933-8-8          2015-9-9              24   \n",
       "18137      1930-1-1          2016-2-2              14   \n",
       "18138      1930-8-8          2017-1-1              30   \n",
       "\n",
       "                        Residence Name         Local Community Size  \\\n",
       "18134                 Distrito Federal  500000 a 999999  habitantes   \n",
       "18135                           México   250000 a 499999 habitantes   \n",
       "18136                  San Luis Potosí  500000 a 999999  habitantes   \n",
       "18137                          Jalisco  500000 a 999999  habitantes   \n",
       "18138  Veracruz de Ignacio de la Llave    1000 a 1999    habitantes   \n",
       "\n",
       "       Education Code  Education Completed  Age at Death  \\\n",
       "18134               3    PRIMARIA COMPLETA            81   \n",
       "18135               2  PRIMARIA INCOMPLETA            82   \n",
       "18136               2  PRIMARIA INCOMPLETA            82   \n",
       "18137               2  PRIMARIA INCOMPLETA            86   \n",
       "18138               2  PRIMARIA INCOMPLETA            86   \n",
       "\n",
       "       Reason for Mortality Medical Assistance Received  \n",
       "18134                     0         CON ATENCION MEDICA  \n",
       "18135                     0         CON ATENCION MEDICA  \n",
       "18136                     0         CON ATENCION MEDICA  \n",
       "18137                     0         CON ATENCION MEDICA  \n",
       "18138                     0         CON ATENCION MEDICA  "
      ]
     },
     "execution_count": 9,
     "metadata": {},
     "output_type": "execute_result"
    }
   ],
   "source": [
    "# Remove rows with NaN / '0-0-0' values in Date of Birth\n",
    "materna = materna[materna['Date of Birth'] != '0-0-0']\n",
    "materna.tail()"
   ]
  },
  {
   "cell_type": "code",
   "execution_count": 10,
   "metadata": {},
   "outputs": [
    {
     "data": {
      "text/html": [
       "<div>\n",
       "<style scoped>\n",
       "    .dataframe tbody tr th:only-of-type {\n",
       "        vertical-align: middle;\n",
       "    }\n",
       "\n",
       "    .dataframe tbody tr th {\n",
       "        vertical-align: top;\n",
       "    }\n",
       "\n",
       "    .dataframe thead th {\n",
       "        text-align: right;\n",
       "    }\n",
       "</style>\n",
       "<table border=\"1\" class=\"dataframe\">\n",
       "  <thead>\n",
       "    <tr style=\"text-align: right;\">\n",
       "      <th></th>\n",
       "      <th>Date of Birth</th>\n",
       "      <th>Date of Mortality</th>\n",
       "      <th>Residence Code</th>\n",
       "      <th>Residence Name</th>\n",
       "      <th>Local Community Size</th>\n",
       "      <th>Education Code</th>\n",
       "      <th>Education Completed</th>\n",
       "      <th>Age at Death</th>\n",
       "      <th>Reason for Mortality</th>\n",
       "      <th>Medical Assistance Received</th>\n",
       "    </tr>\n",
       "  </thead>\n",
       "  <tbody>\n",
       "    <tr>\n",
       "      <th>0</th>\n",
       "      <td>1998-7-7</td>\n",
       "      <td>2009-7-7</td>\n",
       "      <td>7</td>\n",
       "      <td>Chiapas</td>\n",
       "      <td>1 a 999            habitantes</td>\n",
       "      <td>2</td>\n",
       "      <td>PRIMARIA INCOMPLETA</td>\n",
       "      <td>11</td>\n",
       "      <td>1</td>\n",
       "      <td>CON ATENCION MEDICA</td>\n",
       "    </tr>\n",
       "    <tr>\n",
       "      <th>1</th>\n",
       "      <td>1996-1-1</td>\n",
       "      <td>2008-12-12</td>\n",
       "      <td>30</td>\n",
       "      <td>Veracruz de Ignacio de la Llave</td>\n",
       "      <td>50000 a 74999   habitantes</td>\n",
       "      <td>3</td>\n",
       "      <td>PRIMARIA COMPLETA</td>\n",
       "      <td>12</td>\n",
       "      <td>1</td>\n",
       "      <td>CON ATENCION MEDICA</td>\n",
       "    </tr>\n",
       "    <tr>\n",
       "      <th>2</th>\n",
       "      <td>2001-12-12</td>\n",
       "      <td>2014-5-5</td>\n",
       "      <td>27</td>\n",
       "      <td>Tabasco</td>\n",
       "      <td>250000 a 499999 habitantes</td>\n",
       "      <td>4</td>\n",
       "      <td>SECUNDARIA INCOMPLETA</td>\n",
       "      <td>12</td>\n",
       "      <td>1</td>\n",
       "      <td>CON ATENCION MEDICA</td>\n",
       "    </tr>\n",
       "    <tr>\n",
       "      <th>3</th>\n",
       "      <td>1983-11-11</td>\n",
       "      <td>2002-6-6</td>\n",
       "      <td>15</td>\n",
       "      <td>México</td>\n",
       "      <td>2500 a 4999    habitantes</td>\n",
       "      <td>5</td>\n",
       "      <td>SECUNDARIA COMPLETA</td>\n",
       "      <td>12</td>\n",
       "      <td>1</td>\n",
       "      <td>CON ATENCION MEDICA</td>\n",
       "    </tr>\n",
       "    <tr>\n",
       "      <th>4</th>\n",
       "      <td>1993-0-0</td>\n",
       "      <td>2005-1-1</td>\n",
       "      <td>12</td>\n",
       "      <td>Guerrero</td>\n",
       "      <td>2500 a 4999    habitantes</td>\n",
       "      <td>2</td>\n",
       "      <td>PRIMARIA INCOMPLETA</td>\n",
       "      <td>12</td>\n",
       "      <td>1</td>\n",
       "      <td>SIN ATENCION MEDICA</td>\n",
       "    </tr>\n",
       "  </tbody>\n",
       "</table>\n",
       "</div>"
      ],
      "text/plain": [
       "  Date of Birth Date of Mortality  Residence Code  \\\n",
       "0      1998-7-7          2009-7-7               7   \n",
       "1      1996-1-1        2008-12-12              30   \n",
       "2    2001-12-12          2014-5-5              27   \n",
       "3    1983-11-11          2002-6-6              15   \n",
       "4      1993-0-0          2005-1-1              12   \n",
       "\n",
       "                    Residence Name           Local Community Size  \\\n",
       "0                          Chiapas  1 a 999            habitantes   \n",
       "1  Veracruz de Ignacio de la Llave     50000 a 74999   habitantes   \n",
       "2                          Tabasco     250000 a 499999 habitantes   \n",
       "3                           México      2500 a 4999    habitantes   \n",
       "4                         Guerrero      2500 a 4999    habitantes   \n",
       "\n",
       "   Education Code    Education Completed  Age at Death  Reason for Mortality  \\\n",
       "0               2    PRIMARIA INCOMPLETA            11                     1   \n",
       "1               3      PRIMARIA COMPLETA            12                     1   \n",
       "2               4  SECUNDARIA INCOMPLETA            12                     1   \n",
       "3               5    SECUNDARIA COMPLETA            12                     1   \n",
       "4               2    PRIMARIA INCOMPLETA            12                     1   \n",
       "\n",
       "  Medical Assistance Received  \n",
       "0         CON ATENCION MEDICA  \n",
       "1         CON ATENCION MEDICA  \n",
       "2         CON ATENCION MEDICA  \n",
       "3         CON ATENCION MEDICA  \n",
       "4         SIN ATENCION MEDICA  "
      ]
     },
     "execution_count": 10,
     "metadata": {},
     "output_type": "execute_result"
    }
   ],
   "source": [
    "materna.head()"
   ]
  },
  {
   "cell_type": "markdown",
   "metadata": {},
   "source": [
    "**Case 1 Conclusion**: It appears that removing rows with '0-0-0' in the 'Date of Birth' column did remove all entries outside of the biological scope of maximum age at death. However, it is unlikely that a women who reached the age of 81 died due to maternal reasons since this age is outside the childe-bearing years. The analysis of the '0' and '1' in the 'Reason for Mortality' column may shed more light since all younger ages seem to be associated with '1' while older ages are associated with '0'. "
   ]
  },
  {
   "cell_type": "code",
   "execution_count": 11,
   "metadata": {},
   "outputs": [
    {
     "data": {
      "text/html": [
       "<div>\n",
       "<style scoped>\n",
       "    .dataframe tbody tr th:only-of-type {\n",
       "        vertical-align: middle;\n",
       "    }\n",
       "\n",
       "    .dataframe tbody tr th {\n",
       "        vertical-align: top;\n",
       "    }\n",
       "\n",
       "    .dataframe thead th {\n",
       "        text-align: right;\n",
       "    }\n",
       "</style>\n",
       "<table border=\"1\" class=\"dataframe\">\n",
       "  <thead>\n",
       "    <tr style=\"text-align: right;\">\n",
       "      <th></th>\n",
       "      <th>Reason Mortality Code</th>\n",
       "      <th>Reason Mortality Description</th>\n",
       "    </tr>\n",
       "  </thead>\n",
       "  <tbody>\n",
       "    <tr>\n",
       "      <th>0</th>\n",
       "      <td>1</td>\n",
       "      <td>Muertes Maternas para la razón de Mortalidad M...</td>\n",
       "    </tr>\n",
       "    <tr>\n",
       "      <th>1</th>\n",
       "      <td>1</td>\n",
       "      <td>Muertes Maternas para la razón de Mortalidad M...</td>\n",
       "    </tr>\n",
       "    <tr>\n",
       "      <th>2</th>\n",
       "      <td>1</td>\n",
       "      <td>Muertes Maternas para la razón de Mortalidad M...</td>\n",
       "    </tr>\n",
       "    <tr>\n",
       "      <th>3</th>\n",
       "      <td>1</td>\n",
       "      <td>Muertes Maternas para la razón de Mortalidad M...</td>\n",
       "    </tr>\n",
       "    <tr>\n",
       "      <th>4</th>\n",
       "      <td>1</td>\n",
       "      <td>Muertes Maternas para la razón de Mortalidad M...</td>\n",
       "    </tr>\n",
       "  </tbody>\n",
       "</table>\n",
       "</div>"
      ],
      "text/plain": [
       "   Reason Mortality Code                       Reason Mortality Description\n",
       "0                      1  Muertes Maternas para la razón de Mortalidad M...\n",
       "1                      1  Muertes Maternas para la razón de Mortalidad M...\n",
       "2                      1  Muertes Maternas para la razón de Mortalidad M...\n",
       "3                      1  Muertes Maternas para la razón de Mortalidad M...\n",
       "4                      1  Muertes Maternas para la razón de Mortalidad M..."
      ]
     },
     "execution_count": 11,
     "metadata": {},
     "output_type": "execute_result"
    }
   ],
   "source": [
    "# Create a variable for the description of Reason for Mortality Description\n",
    "mortality_description = mortalitad_materna['Descripción de la razón de mortalidad materna']\n",
    "\n",
    "# Create a sub-dataframe to show interaction of Reason for Mortality Code and Description\n",
    "mortality = pd.concat([mortality_reason, mortality_description], axis=1)\n",
    "mortality.columns = ['Reason Mortality Code', 'Reason Mortality Description']\n",
    "mortality.head()"
   ]
  },
  {
   "cell_type": "code",
   "execution_count": 12,
   "metadata": {},
   "outputs": [
    {
     "data": {
      "text/html": [
       "<div>\n",
       "<style scoped>\n",
       "    .dataframe tbody tr th:only-of-type {\n",
       "        vertical-align: middle;\n",
       "    }\n",
       "\n",
       "    .dataframe tbody tr th {\n",
       "        vertical-align: top;\n",
       "    }\n",
       "\n",
       "    .dataframe thead th {\n",
       "        text-align: right;\n",
       "    }\n",
       "</style>\n",
       "<table border=\"1\" class=\"dataframe\">\n",
       "  <thead>\n",
       "    <tr style=\"text-align: right;\">\n",
       "      <th></th>\n",
       "      <th>Reason Mortality Code</th>\n",
       "      <th>Reason Mortality Description</th>\n",
       "    </tr>\n",
       "  </thead>\n",
       "  <tbody>\n",
       "    <tr>\n",
       "      <th>18158</th>\n",
       "      <td>0</td>\n",
       "      <td>Muertes Maternas excluidas para la razón de Mo...</td>\n",
       "    </tr>\n",
       "    <tr>\n",
       "      <th>18159</th>\n",
       "      <td>0</td>\n",
       "      <td>Muertes Maternas excluidas para la razón de Mo...</td>\n",
       "    </tr>\n",
       "    <tr>\n",
       "      <th>18160</th>\n",
       "      <td>0</td>\n",
       "      <td>Muertes Maternas excluidas para la razón de Mo...</td>\n",
       "    </tr>\n",
       "    <tr>\n",
       "      <th>18161</th>\n",
       "      <td>0</td>\n",
       "      <td>Muertes Maternas excluidas para la razón de Mo...</td>\n",
       "    </tr>\n",
       "    <tr>\n",
       "      <th>18162</th>\n",
       "      <td>0</td>\n",
       "      <td>Muertes Maternas excluidas para la razón de Mo...</td>\n",
       "    </tr>\n",
       "  </tbody>\n",
       "</table>\n",
       "</div>"
      ],
      "text/plain": [
       "       Reason Mortality Code  \\\n",
       "18158                      0   \n",
       "18159                      0   \n",
       "18160                      0   \n",
       "18161                      0   \n",
       "18162                      0   \n",
       "\n",
       "                            Reason Mortality Description  \n",
       "18158  Muertes Maternas excluidas para la razón de Mo...  \n",
       "18159  Muertes Maternas excluidas para la razón de Mo...  \n",
       "18160  Muertes Maternas excluidas para la razón de Mo...  \n",
       "18161  Muertes Maternas excluidas para la razón de Mo...  \n",
       "18162  Muertes Maternas excluidas para la razón de Mo...  "
      ]
     },
     "execution_count": 12,
     "metadata": {},
     "output_type": "execute_result"
    }
   ],
   "source": [
    "mortality.tail()"
   ]
  },
  {
   "cell_type": "code",
   "execution_count": 13,
   "metadata": {},
   "outputs": [
    {
     "name": "stdout",
     "output_type": "stream",
     "text": [
      "0 Description:\n",
      "Spanish: Muertes Maternas excluidas para la razón de Mortalidad Materna\n",
      "English: Maternal deaths excluded for the reason of Maternal Mortality\n"
     ]
    }
   ],
   "source": [
    "print('0 Description:')\n",
    "print('Spanish: Muertes Maternas excluidas para la razón de Mortalidad Materna')\n",
    "print('English: Maternal deaths excluded for the reason of Maternal Mortality')"
   ]
  },
  {
   "cell_type": "code",
   "execution_count": 14,
   "metadata": {},
   "outputs": [
    {
     "name": "stdout",
     "output_type": "stream",
     "text": [
      "1 Description:\n",
      "Spanish: Muertes Maternas para la razón de Mortalidad Materna\n",
      "English: Maternal deaths for the reason of Maternal Mortality\n"
     ]
    }
   ],
   "source": [
    "print('1 Description:')\n",
    "print('Spanish: Muertes Maternas para la razón de Mortalidad Materna')\n",
    "print('English: Maternal deaths for the reason of Maternal Mortality')"
   ]
  },
  {
   "cell_type": "markdown",
   "metadata": {},
   "source": [
    "**Case 2 Conclusion**: Since '1' refers to recorded maternal-deaths and '0' refers to recorded deaths that are *not* associated with maternity, all rows containing '0' in the 'Reason for Mortality' column should be removed."
   ]
  },
  {
   "cell_type": "code",
   "execution_count": 15,
   "metadata": {},
   "outputs": [
    {
     "data": {
      "text/html": [
       "<div>\n",
       "<style scoped>\n",
       "    .dataframe tbody tr th:only-of-type {\n",
       "        vertical-align: middle;\n",
       "    }\n",
       "\n",
       "    .dataframe tbody tr th {\n",
       "        vertical-align: top;\n",
       "    }\n",
       "\n",
       "    .dataframe thead th {\n",
       "        text-align: right;\n",
       "    }\n",
       "</style>\n",
       "<table border=\"1\" class=\"dataframe\">\n",
       "  <thead>\n",
       "    <tr style=\"text-align: right;\">\n",
       "      <th></th>\n",
       "      <th>Date of Birth</th>\n",
       "      <th>Date of Mortality</th>\n",
       "      <th>Residence Code</th>\n",
       "      <th>Residence Name</th>\n",
       "      <th>Local Community Size</th>\n",
       "      <th>Education Code</th>\n",
       "      <th>Education Completed</th>\n",
       "      <th>Age at Death</th>\n",
       "      <th>Reason for Mortality</th>\n",
       "      <th>Medical Assistance Received</th>\n",
       "    </tr>\n",
       "  </thead>\n",
       "  <tbody>\n",
       "    <tr>\n",
       "      <th>18113</th>\n",
       "      <td>1960-3-3</td>\n",
       "      <td>2010-10-10</td>\n",
       "      <td>12</td>\n",
       "      <td>Guerrero</td>\n",
       "      <td>1 a 999            habitantes</td>\n",
       "      <td>7</td>\n",
       "      <td>PROFESIONAL</td>\n",
       "      <td>50</td>\n",
       "      <td>1</td>\n",
       "      <td>CON ATENCION MEDICA</td>\n",
       "    </tr>\n",
       "    <tr>\n",
       "      <th>18116</th>\n",
       "      <td>1960-1-1</td>\n",
       "      <td>2011-10-10</td>\n",
       "      <td>12</td>\n",
       "      <td>Guerrero</td>\n",
       "      <td>1 a 999            habitantes</td>\n",
       "      <td>0</td>\n",
       "      <td>NO ESPECIFICADO</td>\n",
       "      <td>51</td>\n",
       "      <td>1</td>\n",
       "      <td>CON ATENCION MEDICA</td>\n",
       "    </tr>\n",
       "    <tr>\n",
       "      <th>18121</th>\n",
       "      <td>1963-12-12</td>\n",
       "      <td>2017-10-10</td>\n",
       "      <td>15</td>\n",
       "      <td>México</td>\n",
       "      <td>10000 a 14999  habitantes</td>\n",
       "      <td>7</td>\n",
       "      <td>PROFESIONAL</td>\n",
       "      <td>53</td>\n",
       "      <td>1</td>\n",
       "      <td>CON ATENCION MEDICA</td>\n",
       "    </tr>\n",
       "    <tr>\n",
       "      <th>18123</th>\n",
       "      <td>1961-8-8</td>\n",
       "      <td>2015-5-5</td>\n",
       "      <td>7</td>\n",
       "      <td>Chiapas</td>\n",
       "      <td>1000 a 1999    habitantes</td>\n",
       "      <td>1</td>\n",
       "      <td>NINGUNA</td>\n",
       "      <td>53</td>\n",
       "      <td>1</td>\n",
       "      <td>CON ATENCION MEDICA</td>\n",
       "    </tr>\n",
       "    <tr>\n",
       "      <th>18125</th>\n",
       "      <td>1942-12-12</td>\n",
       "      <td>2002-12-12</td>\n",
       "      <td>20</td>\n",
       "      <td>Oaxaca</td>\n",
       "      <td>2000 a 2499    habitantes</td>\n",
       "      <td>2</td>\n",
       "      <td>PRIMARIA INCOMPLETA</td>\n",
       "      <td>54</td>\n",
       "      <td>1</td>\n",
       "      <td>CON ATENCION MEDICA</td>\n",
       "    </tr>\n",
       "  </tbody>\n",
       "</table>\n",
       "</div>"
      ],
      "text/plain": [
       "      Date of Birth Date of Mortality  Residence Code Residence Name  \\\n",
       "18113      1960-3-3        2010-10-10              12       Guerrero   \n",
       "18116      1960-1-1        2011-10-10              12       Guerrero   \n",
       "18121    1963-12-12        2017-10-10              15         México   \n",
       "18123      1961-8-8          2015-5-5               7        Chiapas   \n",
       "18125    1942-12-12        2002-12-12              20         Oaxaca   \n",
       "\n",
       "                Local Community Size  Education Code  Education Completed  \\\n",
       "18113  1 a 999            habitantes               7          PROFESIONAL   \n",
       "18116  1 a 999            habitantes               0      NO ESPECIFICADO   \n",
       "18121      10000 a 14999  habitantes               7          PROFESIONAL   \n",
       "18123      1000 a 1999    habitantes               1              NINGUNA   \n",
       "18125      2000 a 2499    habitantes               2  PRIMARIA INCOMPLETA   \n",
       "\n",
       "       Age at Death  Reason for Mortality Medical Assistance Received  \n",
       "18113            50                     1         CON ATENCION MEDICA  \n",
       "18116            51                     1         CON ATENCION MEDICA  \n",
       "18121            53                     1         CON ATENCION MEDICA  \n",
       "18123            53                     1         CON ATENCION MEDICA  \n",
       "18125            54                     1         CON ATENCION MEDICA  "
      ]
     },
     "execution_count": 15,
     "metadata": {},
     "output_type": "execute_result"
    }
   ],
   "source": [
    "# Remove rows with 0 values in Reason for Mortality\n",
    "materna = materna[materna['Reason for Mortality'] != 0 ]\n",
    "materna.tail()"
   ]
  },
  {
   "cell_type": "markdown",
   "metadata": {},
   "source": [
    "#### Part 2: Translating Important Columns in **materna** from Spanish *using translation_english.txt*\n",
    "- Important columns that need translation include: \n",
    "    - *Education Completed*\n",
    "        - Translate Spanish Descriptions into Integer Values that Are Comparable\n",
    "    - *Medical Assistance Received*\n",
    "        - Translate Medical Assistance Received into a Binary Column"
   ]
  },
  {
   "cell_type": "markdown",
   "metadata": {},
   "source": [
    "**Education Completed**\n",
    "- 9\n",
    "    - 'POSGRADO' = Post-Graduate Education\n",
    "- 8\n",
    "    - 'PROFESIONAL' = Professional School\n",
    "- 7\n",
    "    - 'BACHILLERATO O PREPARATORIA COMPLETA' = High School (grades 10-12) complete\n",
    "- 6\n",
    "    - 'BACHILLERATO O PREPARATORIA INCOMPLETA' = High School (grades 10-12) incomplete\n",
    "- 5 \n",
    "    - 'PRIMARIA COMPLETA' = Elementary School (grades 1-6) complete \n",
    "- 4 \n",
    "    - 'PRIMARIA INCOMPLETA' = Elementary School (grades 1-6) incomplete\n",
    "- 3 \n",
    "    - 'SECUNDARIA COMPLETA' = Junior High (grades 7-9) complete\n",
    "- 2\n",
    "    - 'SECUNDARIA INCOMPLETA' = Junior High (grades 7-9) incomplete\n",
    "- 1\n",
    "   - 'PREESCOLAR' = Preschool complete\n",
    "-  0 \n",
    "    - Combine the following entries:'SE IGNORA' = It was 'ignored' / 'NO ESPECIFICADO' = Not specified / 'NINGUNA' = NONE"
   ]
  },
  {
   "cell_type": "code",
   "execution_count": 16,
   "metadata": {},
   "outputs": [
    {
     "name": "stdout",
     "output_type": "stream",
     "text": [
      "12\n"
     ]
    },
    {
     "data": {
      "text/html": [
       "<div>\n",
       "<style scoped>\n",
       "    .dataframe tbody tr th:only-of-type {\n",
       "        vertical-align: middle;\n",
       "    }\n",
       "\n",
       "    .dataframe tbody tr th {\n",
       "        vertical-align: top;\n",
       "    }\n",
       "\n",
       "    .dataframe thead th {\n",
       "        text-align: right;\n",
       "    }\n",
       "</style>\n",
       "<table border=\"1\" class=\"dataframe\">\n",
       "  <thead>\n",
       "    <tr style=\"text-align: right;\">\n",
       "      <th></th>\n",
       "      <th>Education Code</th>\n",
       "      <th>Education Completed</th>\n",
       "    </tr>\n",
       "  </thead>\n",
       "  <tbody>\n",
       "    <tr>\n",
       "      <th>12865</th>\n",
       "      <td>0</td>\n",
       "      <td>NO ESPECIFICADO</td>\n",
       "    </tr>\n",
       "    <tr>\n",
       "      <th>13582</th>\n",
       "      <td>1</td>\n",
       "      <td>NINGUNA</td>\n",
       "    </tr>\n",
       "    <tr>\n",
       "      <th>10135</th>\n",
       "      <td>2</td>\n",
       "      <td>PRIMARIA INCOMPLETA</td>\n",
       "    </tr>\n",
       "    <tr>\n",
       "      <th>9046</th>\n",
       "      <td>3</td>\n",
       "      <td>PRIMARIA COMPLETA</td>\n",
       "    </tr>\n",
       "    <tr>\n",
       "      <th>13586</th>\n",
       "      <td>4</td>\n",
       "      <td>SECUNDARIA INCOMPLETA</td>\n",
       "    </tr>\n",
       "    <tr>\n",
       "      <th>2278</th>\n",
       "      <td>5</td>\n",
       "      <td>SECUNDARIA COMPLETA</td>\n",
       "    </tr>\n",
       "    <tr>\n",
       "      <th>4727</th>\n",
       "      <td>6</td>\n",
       "      <td>BACHILLERATO O PREPARATORIA COMPLETA</td>\n",
       "    </tr>\n",
       "    <tr>\n",
       "      <th>11751</th>\n",
       "      <td>7</td>\n",
       "      <td>PROFESIONAL</td>\n",
       "    </tr>\n",
       "    <tr>\n",
       "      <th>8506</th>\n",
       "      <td>10</td>\n",
       "      <td>POSGRADO</td>\n",
       "    </tr>\n",
       "    <tr>\n",
       "      <th>10179</th>\n",
       "      <td>11</td>\n",
       "      <td>BACHILLERATO O PREPARATORIA INCOMPLETA</td>\n",
       "    </tr>\n",
       "    <tr>\n",
       "      <th>14959</th>\n",
       "      <td>12</td>\n",
       "      <td>PREESCOLAR</td>\n",
       "    </tr>\n",
       "    <tr>\n",
       "      <th>4866</th>\n",
       "      <td>99</td>\n",
       "      <td>SE IGNORA</td>\n",
       "    </tr>\n",
       "  </tbody>\n",
       "</table>\n",
       "</div>"
      ],
      "text/plain": [
       "       Education Code                     Education Completed\n",
       "12865               0                         NO ESPECIFICADO\n",
       "13582               1                                 NINGUNA\n",
       "10135               2                     PRIMARIA INCOMPLETA\n",
       "9046                3                       PRIMARIA COMPLETA\n",
       "13586               4                   SECUNDARIA INCOMPLETA\n",
       "2278                5                     SECUNDARIA COMPLETA\n",
       "4727                6    BACHILLERATO O PREPARATORIA COMPLETA\n",
       "11751               7                             PROFESIONAL\n",
       "8506               10                                POSGRADO\n",
       "10179              11  BACHILLERATO O PREPARATORIA INCOMPLETA\n",
       "14959              12                              PREESCOLAR\n",
       "4866               99                               SE IGNORA"
      ]
     },
     "execution_count": 16,
     "metadata": {},
     "output_type": "execute_result"
    }
   ],
   "source": [
    "# Create a sub-dataframe to show interaction of Education Code and Education Completed\n",
    "education = materna[['Education Code', 'Education Completed']].sort_values(by='Education Code')\n",
    "education = education.drop_duplicates()\n",
    "print(len(education))\n",
    "education"
   ]
  },
  {
   "cell_type": "code",
   "execution_count": 17,
   "metadata": {},
   "outputs": [],
   "source": [
    "# Overwriting column with replaced value of Education\n",
    "\n",
    "# SE IGNORA / NINGUNA / NO ESPECIFICADO\n",
    "materna[\"Education Completed\"]= materna[\"Education Completed\"].replace(['SE IGNORA', 'NINGUNA', 'NO ESPECIFICADO'], 0)\n",
    "\n",
    "# PREESCOLAR\n",
    "materna[\"Education Completed\"]= materna[\"Education Completed\"].replace('PREESCOLAR', 1)\n",
    "\n",
    "# PRIMARIA\n",
    "#INCOMPLETA\n",
    "materna[\"Education Completed\"]= materna[\"Education Completed\"].replace('PRIMARIA INCOMPLETA', 2)\n",
    "#COMPLETA\n",
    "materna[\"Education Completed\"]= materna[\"Education Completed\"].replace('PRIMARIA COMPLETA', 3)\n",
    "\n",
    "# SECUNDARIA\n",
    "#INCOMPLETA\n",
    "materna[\"Education Completed\"]= materna[\"Education Completed\"].replace('SECUNDARIA INCOMPLETA', 4)\n",
    "#COMPLETA\n",
    "materna[\"Education Completed\"]= materna[\"Education Completed\"].replace('SECUNDARIA COMPLETA', 5)\n",
    "\n",
    "# BACHILLERATO O PREPARATORIA\n",
    "#INCOMPLETA\n",
    "materna[\"Education Completed\"]= materna[\"Education Completed\"].replace('BACHILLERATO O PREPARATORIA INCOMPLETA', 6)\n",
    "#COMPLETA\n",
    "materna[\"Education Completed\"]= materna[\"Education Completed\"].replace('BACHILLERATO O PREPARATORIA COMPLETA', 7)\n",
    "\n",
    "# PROFESIONAL\n",
    "materna[\"Education Completed\"]= materna[\"Education Completed\"].replace('PROFESIONAL', 8)\n",
    "\n",
    "#POSGRADO\n",
    "materna[\"Education Completed\"]= materna[\"Education Completed\"].replace('POSGRADO', 9)\n"
   ]
  },
  {
   "cell_type": "code",
   "execution_count": 18,
   "metadata": {},
   "outputs": [
    {
     "data": {
      "text/plain": [
       "[0, 1, 2, 3, 4, 5, 6, 7, 8, 9]"
      ]
     },
     "execution_count": 18,
     "metadata": {},
     "output_type": "execute_result"
    }
   ],
   "source": [
    "# Test output\n",
    "list(materna['Education Completed'].sort_values().unique())"
   ]
  },
  {
   "cell_type": "markdown",
   "metadata": {},
   "source": [
    "#### Medical Assistance Received\n",
    "- 0: WITH Medical Assistance\n",
    "- 1: Unspecified/WITHOUT Medical Assistance"
   ]
  },
  {
   "cell_type": "code",
   "execution_count": 19,
   "metadata": {},
   "outputs": [],
   "source": [
    "# Create a list item to hold comparison response\n",
    "binary_medassist = []\n",
    "\n",
    "# Create an iteration function to compare region mean to popupation mean\n",
    "for medassist in materna['Medical Assistance Received']:\n",
    "    \n",
    "    #test for assistance\n",
    "    if medassist == 'CON ATENCION MEDICA':\n",
    "        binary_medassist.append(0)\n",
    "    else:\n",
    "        binary_medassist.append(1)"
   ]
  },
  {
   "cell_type": "code",
   "execution_count": 20,
   "metadata": {},
   "outputs": [],
   "source": [
    "# Test output\n",
    "#binary_medassist"
   ]
  },
  {
   "cell_type": "code",
   "execution_count": 21,
   "metadata": {},
   "outputs": [
    {
     "data": {
      "text/html": [
       "<div>\n",
       "<style scoped>\n",
       "    .dataframe tbody tr th:only-of-type {\n",
       "        vertical-align: middle;\n",
       "    }\n",
       "\n",
       "    .dataframe tbody tr th {\n",
       "        vertical-align: top;\n",
       "    }\n",
       "\n",
       "    .dataframe thead th {\n",
       "        text-align: right;\n",
       "    }\n",
       "</style>\n",
       "<table border=\"1\" class=\"dataframe\">\n",
       "  <thead>\n",
       "    <tr style=\"text-align: right;\">\n",
       "      <th></th>\n",
       "      <th>Date of Birth</th>\n",
       "      <th>Date of Mortality</th>\n",
       "      <th>Residence Code</th>\n",
       "      <th>Residence Name</th>\n",
       "      <th>Local Community Size</th>\n",
       "      <th>Education Code</th>\n",
       "      <th>Education Completed</th>\n",
       "      <th>Age at Death</th>\n",
       "      <th>Reason for Mortality</th>\n",
       "      <th>Medical Assistance Received</th>\n",
       "      <th>Received(0)/Not(1) Medical Assistance</th>\n",
       "    </tr>\n",
       "  </thead>\n",
       "  <tbody>\n",
       "    <tr>\n",
       "      <th>0</th>\n",
       "      <td>1998-7-7</td>\n",
       "      <td>2009-7-7</td>\n",
       "      <td>7</td>\n",
       "      <td>Chiapas</td>\n",
       "      <td>1 a 999            habitantes</td>\n",
       "      <td>2</td>\n",
       "      <td>2</td>\n",
       "      <td>11</td>\n",
       "      <td>1</td>\n",
       "      <td>CON ATENCION MEDICA</td>\n",
       "      <td>0.0</td>\n",
       "    </tr>\n",
       "    <tr>\n",
       "      <th>1</th>\n",
       "      <td>1996-1-1</td>\n",
       "      <td>2008-12-12</td>\n",
       "      <td>30</td>\n",
       "      <td>Veracruz de Ignacio de la Llave</td>\n",
       "      <td>50000 a 74999   habitantes</td>\n",
       "      <td>3</td>\n",
       "      <td>3</td>\n",
       "      <td>12</td>\n",
       "      <td>1</td>\n",
       "      <td>CON ATENCION MEDICA</td>\n",
       "      <td>0.0</td>\n",
       "    </tr>\n",
       "    <tr>\n",
       "      <th>2</th>\n",
       "      <td>2001-12-12</td>\n",
       "      <td>2014-5-5</td>\n",
       "      <td>27</td>\n",
       "      <td>Tabasco</td>\n",
       "      <td>250000 a 499999 habitantes</td>\n",
       "      <td>4</td>\n",
       "      <td>4</td>\n",
       "      <td>12</td>\n",
       "      <td>1</td>\n",
       "      <td>CON ATENCION MEDICA</td>\n",
       "      <td>0.0</td>\n",
       "    </tr>\n",
       "    <tr>\n",
       "      <th>3</th>\n",
       "      <td>1983-11-11</td>\n",
       "      <td>2002-6-6</td>\n",
       "      <td>15</td>\n",
       "      <td>México</td>\n",
       "      <td>2500 a 4999    habitantes</td>\n",
       "      <td>5</td>\n",
       "      <td>5</td>\n",
       "      <td>12</td>\n",
       "      <td>1</td>\n",
       "      <td>CON ATENCION MEDICA</td>\n",
       "      <td>0.0</td>\n",
       "    </tr>\n",
       "    <tr>\n",
       "      <th>4</th>\n",
       "      <td>1993-0-0</td>\n",
       "      <td>2005-1-1</td>\n",
       "      <td>12</td>\n",
       "      <td>Guerrero</td>\n",
       "      <td>2500 a 4999    habitantes</td>\n",
       "      <td>2</td>\n",
       "      <td>2</td>\n",
       "      <td>12</td>\n",
       "      <td>1</td>\n",
       "      <td>SIN ATENCION MEDICA</td>\n",
       "      <td>1.0</td>\n",
       "    </tr>\n",
       "  </tbody>\n",
       "</table>\n",
       "</div>"
      ],
      "text/plain": [
       "  Date of Birth Date of Mortality  Residence Code  \\\n",
       "0      1998-7-7          2009-7-7               7   \n",
       "1      1996-1-1        2008-12-12              30   \n",
       "2    2001-12-12          2014-5-5              27   \n",
       "3    1983-11-11          2002-6-6              15   \n",
       "4      1993-0-0          2005-1-1              12   \n",
       "\n",
       "                    Residence Name           Local Community Size  \\\n",
       "0                          Chiapas  1 a 999            habitantes   \n",
       "1  Veracruz de Ignacio de la Llave     50000 a 74999   habitantes   \n",
       "2                          Tabasco     250000 a 499999 habitantes   \n",
       "3                           México      2500 a 4999    habitantes   \n",
       "4                         Guerrero      2500 a 4999    habitantes   \n",
       "\n",
       "   Education Code  Education Completed  Age at Death  Reason for Mortality  \\\n",
       "0               2                    2            11                     1   \n",
       "1               3                    3            12                     1   \n",
       "2               4                    4            12                     1   \n",
       "3               5                    5            12                     1   \n",
       "4               2                    2            12                     1   \n",
       "\n",
       "  Medical Assistance Received  Received(0)/Not(1) Medical Assistance  \n",
       "0         CON ATENCION MEDICA                                    0.0  \n",
       "1         CON ATENCION MEDICA                                    0.0  \n",
       "2         CON ATENCION MEDICA                                    0.0  \n",
       "3         CON ATENCION MEDICA                                    0.0  \n",
       "4         SIN ATENCION MEDICA                                    1.0  "
      ]
     },
     "execution_count": 21,
     "metadata": {},
     "output_type": "execute_result"
    }
   ],
   "source": [
    "# Convert the list to a Series and add as new column\n",
    "materna['Received(0)/Not(1) Medical Assistance'] = pd.Series(binary_medassist)\n",
    "materna.head()"
   ]
  },
  {
   "cell_type": "code",
   "execution_count": 22,
   "metadata": {},
   "outputs": [
    {
     "data": {
      "text/html": [
       "<div>\n",
       "<style scoped>\n",
       "    .dataframe tbody tr th:only-of-type {\n",
       "        vertical-align: middle;\n",
       "    }\n",
       "\n",
       "    .dataframe tbody tr th {\n",
       "        vertical-align: top;\n",
       "    }\n",
       "\n",
       "    .dataframe thead th {\n",
       "        text-align: right;\n",
       "    }\n",
       "</style>\n",
       "<table border=\"1\" class=\"dataframe\">\n",
       "  <thead>\n",
       "    <tr style=\"text-align: right;\">\n",
       "      <th></th>\n",
       "      <th>Residence Code</th>\n",
       "      <th>Residence Name</th>\n",
       "      <th>Local Community Size</th>\n",
       "      <th>Education Completed</th>\n",
       "      <th>Age at Death</th>\n",
       "      <th>Received(0)/Not(1) Medical Assistance</th>\n",
       "    </tr>\n",
       "  </thead>\n",
       "  <tbody>\n",
       "    <tr>\n",
       "      <th>0</th>\n",
       "      <td>7</td>\n",
       "      <td>Chiapas</td>\n",
       "      <td>1 a 999            habitantes</td>\n",
       "      <td>2</td>\n",
       "      <td>11</td>\n",
       "      <td>0.0</td>\n",
       "    </tr>\n",
       "    <tr>\n",
       "      <th>1</th>\n",
       "      <td>30</td>\n",
       "      <td>Veracruz de Ignacio de la Llave</td>\n",
       "      <td>50000 a 74999   habitantes</td>\n",
       "      <td>3</td>\n",
       "      <td>12</td>\n",
       "      <td>0.0</td>\n",
       "    </tr>\n",
       "    <tr>\n",
       "      <th>2</th>\n",
       "      <td>27</td>\n",
       "      <td>Tabasco</td>\n",
       "      <td>250000 a 499999 habitantes</td>\n",
       "      <td>4</td>\n",
       "      <td>12</td>\n",
       "      <td>0.0</td>\n",
       "    </tr>\n",
       "    <tr>\n",
       "      <th>3</th>\n",
       "      <td>15</td>\n",
       "      <td>México</td>\n",
       "      <td>2500 a 4999    habitantes</td>\n",
       "      <td>5</td>\n",
       "      <td>12</td>\n",
       "      <td>0.0</td>\n",
       "    </tr>\n",
       "    <tr>\n",
       "      <th>4</th>\n",
       "      <td>12</td>\n",
       "      <td>Guerrero</td>\n",
       "      <td>2500 a 4999    habitantes</td>\n",
       "      <td>2</td>\n",
       "      <td>12</td>\n",
       "      <td>1.0</td>\n",
       "    </tr>\n",
       "  </tbody>\n",
       "</table>\n",
       "</div>"
      ],
      "text/plain": [
       "   Residence Code                   Residence Name  \\\n",
       "0               7                          Chiapas   \n",
       "1              30  Veracruz de Ignacio de la Llave   \n",
       "2              27                          Tabasco   \n",
       "3              15                           México   \n",
       "4              12                         Guerrero   \n",
       "\n",
       "            Local Community Size  Education Completed  Age at Death  \\\n",
       "0  1 a 999            habitantes                    2            11   \n",
       "1     50000 a 74999   habitantes                    3            12   \n",
       "2     250000 a 499999 habitantes                    4            12   \n",
       "3      2500 a 4999    habitantes                    5            12   \n",
       "4      2500 a 4999    habitantes                    2            12   \n",
       "\n",
       "   Received(0)/Not(1) Medical Assistance  \n",
       "0                                    0.0  \n",
       "1                                    0.0  \n",
       "2                                    0.0  \n",
       "3                                    0.0  \n",
       "4                                    1.0  "
      ]
     },
     "execution_count": 22,
     "metadata": {},
     "output_type": "execute_result"
    }
   ],
   "source": [
    "# Drop 'Metropolitan Areas' column as it is unnecessary\n",
    "materna = materna.drop(columns=['Date of Birth', 'Date of Mortality', 'Medical Assistance Received', 'Education Code', 'Reason for Mortality'])\n",
    "materna.head()"
   ]
  },
  {
   "cell_type": "code",
   "execution_count": 23,
   "metadata": {},
   "outputs": [
    {
     "data": {
      "text/html": [
       "<div>\n",
       "<style scoped>\n",
       "    .dataframe tbody tr th:only-of-type {\n",
       "        vertical-align: middle;\n",
       "    }\n",
       "\n",
       "    .dataframe tbody tr th {\n",
       "        vertical-align: top;\n",
       "    }\n",
       "\n",
       "    .dataframe thead th {\n",
       "        text-align: right;\n",
       "    }\n",
       "</style>\n",
       "<table border=\"1\" class=\"dataframe\">\n",
       "  <thead>\n",
       "    <tr style=\"text-align: right;\">\n",
       "      <th></th>\n",
       "      <th>Residence Code</th>\n",
       "      <th>Education Completed</th>\n",
       "      <th>Age at Death</th>\n",
       "      <th>Received(0)/Not(1) Medical Assistance</th>\n",
       "    </tr>\n",
       "  </thead>\n",
       "  <tbody>\n",
       "    <tr>\n",
       "      <th>count</th>\n",
       "      <td>16636.000000</td>\n",
       "      <td>16636.000000</td>\n",
       "      <td>16636.000000</td>\n",
       "      <td>15302.000000</td>\n",
       "    </tr>\n",
       "    <tr>\n",
       "      <th>mean</th>\n",
       "      <td>16.279574</td>\n",
       "      <td>4.023684</td>\n",
       "      <td>28.356756</td>\n",
       "      <td>0.142269</td>\n",
       "    </tr>\n",
       "    <tr>\n",
       "      <th>std</th>\n",
       "      <td>7.850170</td>\n",
       "      <td>2.387759</td>\n",
       "      <td>7.323171</td>\n",
       "      <td>0.349337</td>\n",
       "    </tr>\n",
       "    <tr>\n",
       "      <th>min</th>\n",
       "      <td>1.000000</td>\n",
       "      <td>0.000000</td>\n",
       "      <td>11.000000</td>\n",
       "      <td>0.000000</td>\n",
       "    </tr>\n",
       "    <tr>\n",
       "      <th>25%</th>\n",
       "      <td>10.000000</td>\n",
       "      <td>2.000000</td>\n",
       "      <td>22.000000</td>\n",
       "      <td>0.000000</td>\n",
       "    </tr>\n",
       "    <tr>\n",
       "      <th>50%</th>\n",
       "      <td>15.000000</td>\n",
       "      <td>4.000000</td>\n",
       "      <td>28.000000</td>\n",
       "      <td>0.000000</td>\n",
       "    </tr>\n",
       "    <tr>\n",
       "      <th>75%</th>\n",
       "      <td>21.000000</td>\n",
       "      <td>5.000000</td>\n",
       "      <td>34.000000</td>\n",
       "      <td>0.000000</td>\n",
       "    </tr>\n",
       "    <tr>\n",
       "      <th>max</th>\n",
       "      <td>34.000000</td>\n",
       "      <td>9.000000</td>\n",
       "      <td>54.000000</td>\n",
       "      <td>1.000000</td>\n",
       "    </tr>\n",
       "  </tbody>\n",
       "</table>\n",
       "</div>"
      ],
      "text/plain": [
       "       Residence Code  Education Completed  Age at Death  \\\n",
       "count    16636.000000         16636.000000  16636.000000   \n",
       "mean        16.279574             4.023684     28.356756   \n",
       "std          7.850170             2.387759      7.323171   \n",
       "min          1.000000             0.000000     11.000000   \n",
       "25%         10.000000             2.000000     22.000000   \n",
       "50%         15.000000             4.000000     28.000000   \n",
       "75%         21.000000             5.000000     34.000000   \n",
       "max         34.000000             9.000000     54.000000   \n",
       "\n",
       "       Received(0)/Not(1) Medical Assistance  \n",
       "count                           15302.000000  \n",
       "mean                                0.142269  \n",
       "std                                 0.349337  \n",
       "min                                 0.000000  \n",
       "25%                                 0.000000  \n",
       "50%                                 0.000000  \n",
       "75%                                 0.000000  \n",
       "max                                 1.000000  "
      ]
     },
     "execution_count": 23,
     "metadata": {},
     "output_type": "execute_result"
    }
   ],
   "source": [
    "# Analyze shape of cleaned data\n",
    "materna.describe()"
   ]
  },
  {
   "cell_type": "markdown",
   "metadata": {},
   "source": [
    "### Step 2: Exploratory Data Analysis"
   ]
  },
  {
   "cell_type": "markdown",
   "metadata": {},
   "source": [
    "## Question 1: What is the Mean Age of Maternal Mortality within the dataset? How does  compare to the Actual Mean Age of Maternal Mortality in Mexico?"
   ]
  },
  {
   "cell_type": "code",
   "execution_count": 24,
   "metadata": {},
   "outputs": [
    {
     "data": {
      "text/plain": [
       "16636"
      ]
     },
     "execution_count": 24,
     "metadata": {},
     "output_type": "execute_result"
    }
   ],
   "source": [
    "# Create variable for maternal death\n",
    "age_mortality = materna['Age at Death']\n",
    "\n",
    "# Determine sample size for maternal death \n",
    "sample_size = len(age_mortality)\n",
    "sample_size"
   ]
  },
  {
   "cell_type": "markdown",
   "metadata": {},
   "source": [
    "#### Plot Sample Age of Maternal Death Distribution"
   ]
  },
  {
   "cell_type": "code",
   "execution_count": 25,
   "metadata": {},
   "outputs": [
    {
     "data": {
      "image/png": "[encoded data removed]",
      "text/plain": [
       "<Figure size 432x288 with 2 Axes>"
      ]
     },
     "metadata": {
      "needs_background": "light"
     },
     "output_type": "display_data"
    },
    {
     "data": {
      "text/plain": [
       "'The sample(n=16636) population mean age of maternal death is 28.36 years old with a standard deviation of 7.32.'"
      ]
     },
     "execution_count": 25,
     "metadata": {},
     "output_type": "execute_result"
    }
   ],
   "source": [
    "# Create a figure with two plots\n",
    "fig, (boxplot, histogram) = plt.subplots(2, sharex=True, gridspec_kw={\"height_ratios\": (.15, .85)})\n",
    "\n",
    "# Add boxplot for maternal death\n",
    "sns.boxplot(age_mortality, ax=boxplot)\n",
    "\n",
    "# Remove x-axis label from boxplot\n",
    "boxplot.set(xlabel='')\n",
    "\n",
    "# Add histogram and normal curve for maternal death\n",
    "fit = stats.norm.pdf(age_mortality, np.mean(age_mortality), np.std(age_mortality))\n",
    "pl.plot(age_mortality, fit, '-o')\n",
    "pl.hist(age_mortality, density=True, alpha=0.5, bins=20)\n",
    "\n",
    "# Label axis \n",
    "pl.xlabel('Age of Maternal Mortality')\n",
    "pl.ylabel('Probability Density Function')\n",
    "pl.title('Age Distribution Associated with the Incidence of Maternal Mortality in Mexico')\n",
    "\n",
    "# Show plot and add print mean and std sample information\n",
    "plt.show()\n",
    "'The sample(n=' + str(sample_size) + ') population mean age of maternal death is ' + str(round(np.mean(age_mortality), 2)) + ' years old with a standard deviation of ' + str(round(np.std(age_mortality), 2)) + '.'\n"
   ]
  },
  {
   "cell_type": "markdown",
   "metadata": {},
   "source": [
    "*Preliminary* **Conclusion**: The distribution appears to be generally normally distributed based off of the histogram of the maternal age at time of death. Since binning bias can occur, the Cumulative Distribution Function (CDF) needs to be analyzed. Based off of the Central Limit Theorem (CLT), the sampling distribution of the sample means approaches a normal distribution as the sample size ( n ) gets larger - regardless of what the shape of the population distribution. Under this theorem,  n>30  is considered a large sample size. Since the current database sample size  n  = 16636, CLT can be assumed."
   ]
  },
  {
   "cell_type": "markdown",
   "metadata": {},
   "source": [
    "#### Create an Empirical and Theoretical Cumulative Distribution Function (CDF)"
   ]
  },
  {
   "cell_type": "code",
   "execution_count": 26,
   "metadata": {},
   "outputs": [],
   "source": [
    "# Create an Empirical Cumulative Distribution Function (ECDF)\n",
    "def ecdf(data):\n",
    "    \"\"\"Compute ECDF for a one-dimensional array of measurements.\"\"\"\n",
    "    # x-data for the ECDF: x\n",
    "    x = np.sort(data)\n",
    "\n",
    "    # y-data for the ECDF: y\n",
    "    y = np.arange(1, len(data)+1) / len(data)\n",
    "\n",
    "    return x, y"
   ]
  },
  {
   "cell_type": "markdown",
   "metadata": {},
   "source": [
    "#### Seed a Random Number Generator and Calculate Theoretical Dataset with Normal Distribution"
   ]
  },
  {
   "cell_type": "code",
   "execution_count": 27,
   "metadata": {},
   "outputs": [
    {
     "data": {
      "text/plain": [
       "array([26.06959029, 30.84132168, 27.21504589, ..., 33.86348911,\n",
       "       22.34975498, 28.10388849])"
      ]
     },
     "execution_count": 27,
     "metadata": {},
     "output_type": "execute_result"
    }
   ],
   "source": [
    "# Seed the random number generator\n",
    "np.random.seed(15)\n",
    "\n",
    "# Compute the theoretical CDF \n",
    "cdf_mean = np.mean(age_mortality)\n",
    "cdf_std = np.std(age_mortality)\n",
    "\n",
    "# Simulate a random sample with the same distribution and size of 10,000\n",
    "cdf_samples = np.random.normal(cdf_mean, cdf_std, size=10000)\n",
    "cdf_samples"
   ]
  },
  {
   "cell_type": "markdown",
   "metadata": {},
   "source": [
    "#### Apply the ecdf() function to Empirical and Theoretical Data to Calculate the CDFs"
   ]
  },
  {
   "cell_type": "code",
   "execution_count": 28,
   "metadata": {},
   "outputs": [],
   "source": [
    "# Compute the CDFs\n",
    "x_death, y_death = ecdf(age_mortality)\n",
    "x_norm, y_norm = ecdf(cdf_samples)"
   ]
  },
  {
   "cell_type": "markdown",
   "metadata": {},
   "source": [
    "#### Plot the Theoretical (normalized) CDF with the Empirical (sample) CDF"
   ]
  },
  {
   "cell_type": "code",
   "execution_count": 29,
   "metadata": {},
   "outputs": [
    {
     "data": {
      "image/png": "[encoded data removed]",
      "text/plain": [
       "<Figure size 432x288 with 1 Axes>"
      ]
     },
     "metadata": {
      "needs_background": "light"
     },
     "output_type": "display_data"
    }
   ],
   "source": [
    "# Plot both ECDFs on same the same figure\n",
    "fig = plt.plot(x_death, y_death, marker='.', linestyle='none', alpha=0.5)\n",
    "fig = plt.plot(x_norm, y_norm, marker='.', linestyle='none', alpha=0.5)\n",
    "\n",
    "# Label figure\n",
    "fig = plt.xlabel('Age of Maternal Death')\n",
    "fig = plt.ylabel('CDF')\n",
    "fig = plt.legend(('Sample Population', 'Expected Norm'))\n",
    "fig = plt.title('Distribution of Maternal-Associated Deaths in Mexico')\n",
    "\n",
    "# Save plots\n",
    "plt.show()"
   ]
  },
  {
   "cell_type": "markdown",
   "metadata": {},
   "source": [
    "**Conclusion**: Since the normalized data and the sample population's empirical data follow along the same line, it can be assumed that the population sample is normally distributed.Therefore, based off of both the Central Limit Theorem (CLT) and the Empirical Cumulative Distribution Function (ECDF), the sample population of age of maternal death is normally distributed. "
   ]
  },
  {
   "cell_type": "markdown",
   "metadata": {},
   "source": [
    "### Step 3: Inferential Statistics: Bootstrap Simulation "
   ]
  },
  {
   "cell_type": "markdown",
   "metadata": {},
   "source": [
    "#### Statistical Testing of Data Mean\n",
    "\n",
    "$H$o: The mean age maternal mortality of women in Mexico is equal to mean age maternal mortality within the dataset ($28.35 yoa$). <br>  Empirical Mean ($μ$) − Population Mean ($μ$) = 0\n",
    "\n",
    "$H$a: The mean age maternal mortality of women in Mexico is *not* equal to mean age maternal mortality within the dataset  ($28.35 yoa$). <br> Empirical Mean ($μ$) − Population Mean ($μ$) ≠ 0\n",
    "\n",
    "Significance Level: *95%* Confidence. <br> $α$ = 0.05"
   ]
  },
  {
   "cell_type": "markdown",
   "metadata": {},
   "source": [
    "#### Create a boostrap replicate function with another function to repeat the bootstrap replication 'x' number of times"
   ]
  },
  {
   "cell_type": "code",
   "execution_count": 30,
   "metadata": {},
   "outputs": [],
   "source": [
    "# Create a bootstrap replicate function for repeatability\n",
    "def bootstrap_replicate_1d(data, func):\n",
    "    \"\"\"Create a bootstrap replicates.\"\"\"\n",
    "    \n",
    "    # Create bootstrap sample\n",
    "    boot_sample = np.random.choice(data, size=len(data))\n",
    "    \n",
    "    # Apply function to the computed bootstrap sample\n",
    "    return func(boot_sample)\n",
    "\n",
    "\n",
    "# Create a function to apply the bootstrap replicate function 'n' and return an array\n",
    "def draw_bs_reps(data, func, size=1):\n",
    "    \"\"\"Draw bootstrap replicates.\"\"\"\n",
    "\n",
    "    # Initialize array of replicates: bs_replicates\n",
    "    boot_rep = np.empty(size)\n",
    "\n",
    "    # Generate 'n' number of replicates\n",
    "    for i in range(size):\n",
    "        boot_rep[i] = bootstrap_replicate_1d(data, func)\n",
    "\n",
    "    return boot_rep"
   ]
  },
  {
   "cell_type": "markdown",
   "metadata": {},
   "source": [
    "#### Calculate the size, mean, and standard deviation of *dates*[ 'Age at Death' ]"
   ]
  },
  {
   "cell_type": "code",
   "execution_count": 31,
   "metadata": {},
   "outputs": [
    {
     "name": "stdout",
     "output_type": "stream",
     "text": [
      "sample size:  16636\n",
      "sample mean age of death:  28.356756431834576\n",
      "sample standard deviation:  7.3231710220967\n",
      "sample variation:  53.62561015731041\n"
     ]
    }
   ],
   "source": [
    "# Create variables for sample statistical information\n",
    "materna_age_std = age_mortality.std()\n",
    "materna_sample_size = len(age_mortality)\n",
    "materna_age_var = np.var(age_mortality)\n",
    "mean_age = materna['Age at Death'].mean()\n",
    "\n",
    "# Create an array of the sample mean that is equal to the boostrap array length\n",
    "materna_mean_arr = np.full(10000, mean_age)\n",
    "\n",
    "print('sample size: ', materna_sample_size)\n",
    "print('sample mean age of death: ', mean_age)\n",
    "print('sample standard deviation: ', materna_age_std)\n",
    "print('sample variation: ', materna_age_var)"
   ]
  },
  {
   "cell_type": "markdown",
   "metadata": {},
   "source": [
    "#### Create a 10,000 bootstrap replication"
   ]
  },
  {
   "cell_type": "code",
   "execution_count": 32,
   "metadata": {},
   "outputs": [
    {
     "name": "stdout",
     "output_type": "stream",
     "text": [
      "bootstrap mean age of death: 28.356761968021157\n"
     ]
    }
   ],
   "source": [
    "# Create 10000 bootstrap replicates of the mean and take the mean of the returned array\n",
    "boot_tenthousand =  draw_bs_reps(age_mortality, np.mean, size=10000)\n",
    "print('bootstrap mean age of death: ' + str(np.mean(boot_tenthousand)))"
   ]
  },
  {
   "cell_type": "markdown",
   "metadata": {},
   "source": [
    "#### Calculate the difference between the bootrap and sample means with p-value and standard deviation"
   ]
  },
  {
   "cell_type": "code",
   "execution_count": 33,
   "metadata": {},
   "outputs": [
    {
     "name": "stdout",
     "output_type": "stream",
     "text": [
      "p-value: 0.4943\n",
      "95% Confidence Interval: [28.2443  28.4692]\n"
     ]
    }
   ],
   "source": [
    "# Compute p-value\n",
    "p_val = np.sum(boot_tenthousand >= materna_mean_arr) / len(boot_tenthousand)\n",
    "print('p-value: {0:0.4f}'.format(p_val))\n",
    "\n",
    "# Calculate the standard margin of error for a 95% confidence interval\n",
    "conf_int_low = mean_age-(1.98*(materna_age_std/math.sqrt(materna_sample_size)))\n",
    "conf_int_high = mean_age+(1.98*(materna_age_std/math.sqrt(materna_sample_size)))\n",
    "print('95% Confidence Interval: [{0:0.4f}  {1:0.4f}]'.format(conf_int_low, conf_int_high))"
   ]
  },
  {
   "cell_type": "markdown",
   "metadata": {},
   "source": [
    "**Conclusion from the Bootstrap Hypothesis Test:** The resulting population mean of maternal death approximation based on 10,000 bootstrap replicate samples was *28.3564 years of age (yoa)*, which is close to the sample mean of *28.3568 yoa* old from the dataset. Additionally, the bootstrap population mean is within the 95% Confidence Interval, *28.2443 to 28.4692 yoa* with a p-value of 0.4959, which is greater than α = 0.05. Therefore, the null hypothesis that the mean age of death of maternal women in Mexico is equal to the mean age of death presented in the dataset can be accepted. **$Ho$ is accepted**."
   ]
  },
  {
   "cell_type": "markdown",
   "metadata": {},
   "source": [
    "## Question 2: What is the Average Age of Maternal Death within each Region of Mexico in the dataset? How does each Region Mean compare to the Sample Population mean (28.35)?"
   ]
  },
  {
   "cell_type": "markdown",
   "metadata": {},
   "source": [
    "### Step 1: Explore the Data and Create Clean Sub-Dataframe for Analysis"
   ]
  },
  {
   "cell_type": "code",
   "execution_count": 34,
   "metadata": {},
   "outputs": [
    {
     "data": {
      "text/html": [
       "<div>\n",
       "<style scoped>\n",
       "    .dataframe tbody tr th:only-of-type {\n",
       "        vertical-align: middle;\n",
       "    }\n",
       "\n",
       "    .dataframe tbody tr th {\n",
       "        vertical-align: top;\n",
       "    }\n",
       "\n",
       "    .dataframe thead th {\n",
       "        text-align: right;\n",
       "    }\n",
       "</style>\n",
       "<table border=\"1\" class=\"dataframe\">\n",
       "  <thead>\n",
       "    <tr style=\"text-align: right;\">\n",
       "      <th></th>\n",
       "      <th>Residence Code</th>\n",
       "      <th>Residence Name</th>\n",
       "      <th>Local Community Size</th>\n",
       "      <th>Education Completed</th>\n",
       "      <th>Age at Death</th>\n",
       "      <th>Received(0)/Not(1) Medical Assistance</th>\n",
       "    </tr>\n",
       "  </thead>\n",
       "  <tbody>\n",
       "    <tr>\n",
       "      <th>0</th>\n",
       "      <td>7</td>\n",
       "      <td>Chiapas</td>\n",
       "      <td>1 a 999            habitantes</td>\n",
       "      <td>2</td>\n",
       "      <td>11</td>\n",
       "      <td>0.0</td>\n",
       "    </tr>\n",
       "    <tr>\n",
       "      <th>1</th>\n",
       "      <td>30</td>\n",
       "      <td>Veracruz de Ignacio de la Llave</td>\n",
       "      <td>50000 a 74999   habitantes</td>\n",
       "      <td>3</td>\n",
       "      <td>12</td>\n",
       "      <td>0.0</td>\n",
       "    </tr>\n",
       "    <tr>\n",
       "      <th>2</th>\n",
       "      <td>27</td>\n",
       "      <td>Tabasco</td>\n",
       "      <td>250000 a 499999 habitantes</td>\n",
       "      <td>4</td>\n",
       "      <td>12</td>\n",
       "      <td>0.0</td>\n",
       "    </tr>\n",
       "    <tr>\n",
       "      <th>3</th>\n",
       "      <td>15</td>\n",
       "      <td>México</td>\n",
       "      <td>2500 a 4999    habitantes</td>\n",
       "      <td>5</td>\n",
       "      <td>12</td>\n",
       "      <td>0.0</td>\n",
       "    </tr>\n",
       "    <tr>\n",
       "      <th>4</th>\n",
       "      <td>12</td>\n",
       "      <td>Guerrero</td>\n",
       "      <td>2500 a 4999    habitantes</td>\n",
       "      <td>2</td>\n",
       "      <td>12</td>\n",
       "      <td>1.0</td>\n",
       "    </tr>\n",
       "  </tbody>\n",
       "</table>\n",
       "</div>"
      ],
      "text/plain": [
       "   Residence Code                   Residence Name  \\\n",
       "0               7                          Chiapas   \n",
       "1              30  Veracruz de Ignacio de la Llave   \n",
       "2              27                          Tabasco   \n",
       "3              15                           México   \n",
       "4              12                         Guerrero   \n",
       "\n",
       "            Local Community Size  Education Completed  Age at Death  \\\n",
       "0  1 a 999            habitantes                    2            11   \n",
       "1     50000 a 74999   habitantes                    3            12   \n",
       "2     250000 a 499999 habitantes                    4            12   \n",
       "3      2500 a 4999    habitantes                    5            12   \n",
       "4      2500 a 4999    habitantes                    2            12   \n",
       "\n",
       "   Received(0)/Not(1) Medical Assistance  \n",
       "0                                    0.0  \n",
       "1                                    0.0  \n",
       "2                                    0.0  \n",
       "3                                    0.0  \n",
       "4                                    1.0  "
      ]
     },
     "execution_count": 34,
     "metadata": {},
     "output_type": "execute_result"
    }
   ],
   "source": [
    "materna.head()"
   ]
  },
  {
   "cell_type": "code",
   "execution_count": 35,
   "metadata": {},
   "outputs": [
    {
     "name": "stdout",
     "output_type": "stream",
     "text": [
      "There are 34 Provinces in Mexico.\n"
     ]
    },
    {
     "data": {
      "text/plain": [
       "['Aguascalientes',\n",
       " 'Baja California',\n",
       " 'Baja California Sur',\n",
       " 'Campeche',\n",
       " 'Chiapas',\n",
       " 'Chihuahua',\n",
       " 'Coahuila de Zaragoza',\n",
       " 'Colima',\n",
       " 'Distrito Federal',\n",
       " 'Durango',\n",
       " 'Estados Unidos de Norteamérica',\n",
       " 'Guanajuato',\n",
       " 'Guerrero',\n",
       " 'Hidalgo',\n",
       " 'Jalisco',\n",
       " 'Michoacán de Ocampo',\n",
       " 'Morelos',\n",
       " 'México',\n",
       " 'Nayarit',\n",
       " 'Nuevo León',\n",
       " 'Oaxaca',\n",
       " 'Otros paises latinoamericanos',\n",
       " 'Puebla',\n",
       " 'Querétaro Arteaga',\n",
       " 'Quintana Roo',\n",
       " 'San Luis Potosí',\n",
       " 'Sinaloa',\n",
       " 'Sonora',\n",
       " 'Tabasco',\n",
       " 'Tamaulipas',\n",
       " 'Tlaxcala',\n",
       " 'Veracruz de Ignacio de la Llave',\n",
       " 'Yucatán',\n",
       " 'Zacatecas']"
      ]
     },
     "execution_count": 35,
     "metadata": {},
     "output_type": "execute_result"
    }
   ],
   "source": [
    "print('There are '+ str(len(np.unique(materna['Residence Name']))) + ' Provinces in Mexico.')\n",
    "list(np.unique(materna['Residence Name']))"
   ]
  },
  {
   "cell_type": "markdown",
   "metadata": {},
   "source": [
    "### Cleaning of Data: \n",
    "There are 31 states and 1 federal entity in Mexico, so the length of the 'Regions' column should be 32, not 34. When translating the list of regions within the sub-dataset, it becomes apparent that not all entries are Provinces within Mexico, and need to be removed. Namely:\n",
    "- Estados Unidos de Norteamérica - 'United States of America'\n",
    "- Otros paises latinoamericanos - 'Other Latin American countries'\n",
    "- No especificado - 'Not Specified'\n",
    "- Otros paises - 'Other Countries'"
   ]
  },
  {
   "cell_type": "code",
   "execution_count": 36,
   "metadata": {},
   "outputs": [
    {
     "name": "stdout",
     "output_type": "stream",
     "text": [
      "There are 32 Provinces in Mexico.\n"
     ]
    },
    {
     "data": {
      "text/plain": [
       "['Aguascalientes',\n",
       " 'Baja California',\n",
       " 'Baja California Sur',\n",
       " 'Campeche',\n",
       " 'Chiapas',\n",
       " 'Chihuahua',\n",
       " 'Coahuila de Zaragoza',\n",
       " 'Colima',\n",
       " 'Distrito Federal',\n",
       " 'Durango',\n",
       " 'Guanajuato',\n",
       " 'Guerrero',\n",
       " 'Hidalgo',\n",
       " 'Jalisco',\n",
       " 'Michoacán de Ocampo',\n",
       " 'Morelos',\n",
       " 'México',\n",
       " 'Nayarit',\n",
       " 'Nuevo León',\n",
       " 'Oaxaca',\n",
       " 'Puebla',\n",
       " 'Querétaro Arteaga',\n",
       " 'Quintana Roo',\n",
       " 'San Luis Potosí',\n",
       " 'Sinaloa',\n",
       " 'Sonora',\n",
       " 'Tabasco',\n",
       " 'Tamaulipas',\n",
       " 'Tlaxcala',\n",
       " 'Veracruz de Ignacio de la Llave',\n",
       " 'Yucatán',\n",
       " 'Zacatecas']"
      ]
     },
     "execution_count": 36,
     "metadata": {},
     "output_type": "execute_result"
    }
   ],
   "source": [
    "# Remove unnecessary rows from region_ages sub-dataset\n",
    "materna = materna[materna['Residence Name'] != 'Estados Unidos de Norteamérica' ]\n",
    "materna = materna[materna['Residence Name'] != 'Otros paises latinoamericanos' ]\n",
    "materna = materna[materna['Residence Name'] != 'No especificado' ]\n",
    "materna = materna[materna['Residence Name'] != 'Otros paises' ]\n",
    "\n",
    "print('There are '+ str(len(np.unique(materna['Residence Name']))) + ' Provinces in Mexico.')\n",
    "list(np.unique(materna['Residence Name']))"
   ]
  },
  {
   "cell_type": "code",
   "execution_count": 37,
   "metadata": {},
   "outputs": [
    {
     "data": {
      "text/plain": [
       "Text(0.5,1,'Incidence of Maternal Mortality in Each Providence of Mexico')"
      ]
     },
     "execution_count": 37,
     "metadata": {},
     "output_type": "execute_result"
    },
    {
     "data": {
      "image/png": "[encoded data removed]",
      "text/plain": [
       "<Figure size 1152x288 with 1 Axes>"
      ]
     },
     "metadata": {
      "needs_background": "light"
     },
     "output_type": "display_data"
    }
   ],
   "source": [
    "# Create a bar graph to show distribution of incidences of maternal death by region\n",
    "fig, ax = plt.subplots(figsize=(16, 4))\n",
    "plt.xticks(rotation='vertical')\n",
    "plt.grid(True)\n",
    "fig.subplots_adjust(bottom=0.2)\n",
    "sns.countplot(materna['Residence Name'])\n",
    "\n",
    "# Label axis \n",
    "pl.title('Incidence of Maternal Mortality in Each Providence of Mexico')"
   ]
  },
  {
   "cell_type": "markdown",
   "metadata": {},
   "source": [
    "*Preliminary Observation*: It appears that certain regions have the incidence of maternal death more prevenantly than others. Further analysis needs to be performed in order to assess the cause of these differences. For now, it's important to understand that each region has a different population size. Are these populations distributed normally?"
   ]
  },
  {
   "cell_type": "code",
   "execution_count": 38,
   "metadata": {},
   "outputs": [
    {
     "data": {
      "text/plain": [
       "Text(0.5,1,'Age Distribution of Maternal Mortality within Each Providence of Mexico')"
      ]
     },
     "execution_count": 38,
     "metadata": {},
     "output_type": "execute_result"
    },
    {
     "data": {
      "image/png": "[encoded data removed]",
      "text/plain": [
       "<Figure size 1152x576 with 1 Axes>"
      ]
     },
     "metadata": {
      "needs_background": "light"
     },
     "output_type": "display_data"
    }
   ],
   "source": [
    "# Create a boxplot to show the distribution of each region compared to its mean\n",
    "fig, ax = plt.subplots(figsize=(16, 8))\n",
    "plt.xticks(rotation='vertical')\n",
    "fig.subplots_adjust(bottom=0.2)\n",
    "sns.boxplot(x=materna['Residence Name'], y=materna['Age at Death'], data=materna)\n",
    "\n",
    "# Label axis \n",
    "pl.title('Age Distribution of Maternal Mortality within Each Providence of Mexico')"
   ]
  },
  {
   "cell_type": "markdown",
   "metadata": {},
   "source": [
    "*Preliminary Observation*: As noted above, some Mexican States appear to experience varying instances and age distributions of maternal death. Could this be due to the size of the region or possibly the economic status of the region?"
   ]
  },
  {
   "cell_type": "markdown",
   "metadata": {},
   "source": [
    "### Step 2: Prepare the Data for Analysis\n",
    "- Create variables for age distribution by region"
   ]
  },
  {
   "cell_type": "code",
   "execution_count": 39,
   "metadata": {},
   "outputs": [
    {
     "name": "stdout",
     "output_type": "stream",
     "text": [
      "Aguascalientes Sample Length: [15 15 16 16 17 17 17 17 17 17 18 18 18 18 19 19 19 19 20 20 20 20 20 20\n",
      " 20 21 21 21 21 22 22 22 22 22 22 23 23 23 23 23 23 24 24 24 25 25 25 25\n",
      " 25 25 26 26 26 27 27 27 28 28 28 28 28 28 29 29 29 29 29 29 30 30 30 30\n",
      " 30 30 31 31 31 31 31 31 31 32 32 32 32 33 33 33 33 33 33 34 34 34 35 35\n",
      " 35 35 35 35 35 35 35 36 36 36 36 36 37 37 37 38 38 38 39 39 39 39 39 40\n",
      " 40 41 42 42 42 43 43]\n",
      "México Sample Length: [12 12 14 ... 49 49 53]\n"
     ]
    }
   ],
   "source": [
    "# Create a sample region array variables to hold age distribution per region \n",
    "# as a model to construct a function to parse through subdataset, region_ages\n",
    "aqua = materna[materna['Residence Name'] == 'Aguascalientes']\n",
    "aqua = aqua['Age at Death']\n",
    "aqua = np.array(aqua)\n",
    "\n",
    "mex = materna[materna['Residence Name'] == 'México']\n",
    "mex = mex['Age at Death']\n",
    "mex = np.array(mex)\n",
    "\n",
    "print('Aguascalientes Sample Length: '+ str(aqua))\n",
    "print('México Sample Length: ' + str(mex))"
   ]
  },
  {
   "cell_type": "markdown",
   "metadata": {},
   "source": [
    "Since it appears that the sample size of ages of maternal death within the Provinces varies, the total sample per Province should be stored in unique age array variables. The process of creating the age array is repeatable, so a function should be created then applied to each Province. The array of ages variable can then be stored in a dictionary as a value with the associated Province as the key."
   ]
  },
  {
   "cell_type": "code",
   "execution_count": 40,
   "metadata": {},
   "outputs": [],
   "source": [
    "# Create a function to group all ages associated with materna death within a Province and store the ages in an array\n",
    "\n",
    "def age_array(str):\n",
    "    \"\"\"Create arrays for all Ages of Maternal Death within a Region\"\"\"\n",
    "    \n",
    "    # Select the region 'str' from the 'Region' column\n",
    "    ages = materna[materna['Residence Name'] == str]\n",
    "    \n",
    "    # Select the ages within the region\n",
    "    ages = ages['Age at Death'] \n",
    "    \n",
    "    # Store the ages in an array\n",
    "    ages = np.array(ages)\n",
    "    \n",
    "    # return the unique array\n",
    "    return ages"
   ]
  },
  {
   "cell_type": "code",
   "execution_count": 41,
   "metadata": {},
   "outputs": [
    {
     "name": "stdout",
     "output_type": "stream",
     "text": [
      "Aguascalientes [15 15 16 16 17 17 17 17 17 17 18 18 18 18 19 19 19 19 20 20 20 20 20 20\n",
      " 20 21 21 21 21 22 22 22 22 22 22 23 23 23 23 23 23 24 24 24 25 25 25 25\n",
      " 25 25 26 26 26 27 27 27 28 28 28 28 28 28 29 29 29 29 29 29 30 30 30 30\n",
      " 30 30 31 31 31 31 31 31 31 32 32 32 32 33 33 33 33 33 33 34 34 34 35 35\n",
      " 35 35 35 35 35 35 35 36 36 36 36 36 37 37 37 38 38 38 39 39 39 39 39 40\n",
      " 40 41 42 42 42 43 43]\n",
      "México [12 12 14 ... 49 49 53]\n"
     ]
    }
   ],
   "source": [
    "# Test output\n",
    "print('Aguascalientes', age_array('Aguascalientes'))\n",
    "print('México', age_array('México'))"
   ]
  },
  {
   "cell_type": "code",
   "execution_count": 42,
   "metadata": {},
   "outputs": [],
   "source": [
    "# Create a variable for 'Region' names using np.unique()\n",
    "list_regions = np.unique(materna['Residence Name'])\n",
    "\n",
    "# Create an empty dictionary to hold the {Region : region_age_array} key pairs\n",
    "age_by_state = {}"
   ]
  },
  {
   "cell_type": "code",
   "execution_count": 43,
   "metadata": {},
   "outputs": [],
   "source": [
    "# Use the age_array function with iteration over residence to create the {Region : region_age_array} key pairs\n",
    "for region in list_regions:\n",
    "    \n",
    "    # Add arrays as values in dictionary with region-key\n",
    "    age_by_state[region] = age_array(region)"
   ]
  },
  {
   "cell_type": "code",
   "execution_count": 44,
   "metadata": {},
   "outputs": [
    {
     "name": "stdout",
     "output_type": "stream",
     "text": [
      "Aguascalientes [15 15 16 16 17 17 17 17 17 17 18 18 18 18 19 19 19 19 20 20 20 20 20 20\n",
      " 20 21 21 21 21 22 22 22 22 22 22 23 23 23 23 23 23 24 24 24 25 25 25 25\n",
      " 25 25 26 26 26 27 27 27 28 28 28 28 28 28 29 29 29 29 29 29 30 30 30 30\n",
      " 30 30 31 31 31 31 31 31 31 32 32 32 32 33 33 33 33 33 33 34 34 34 35 35\n",
      " 35 35 35 35 35 35 35 36 36 36 36 36 37 37 37 38 38 38 39 39 39 39 39 40\n",
      " 40 41 42 42 42 43 43]\n"
     ]
    }
   ],
   "source": [
    "# Test output\n",
    "print('Aguascalientes', age_by_state['Aguascalientes'])"
   ]
  },
  {
   "cell_type": "code",
   "execution_count": 45,
   "metadata": {},
   "outputs": [
    {
     "data": {
      "text/html": [
       "<div>\n",
       "<style scoped>\n",
       "    .dataframe tbody tr th:only-of-type {\n",
       "        vertical-align: middle;\n",
       "    }\n",
       "\n",
       "    .dataframe tbody tr th {\n",
       "        vertical-align: top;\n",
       "    }\n",
       "\n",
       "    .dataframe thead th {\n",
       "        text-align: right;\n",
       "    }\n",
       "</style>\n",
       "<table border=\"1\" class=\"dataframe\">\n",
       "  <thead>\n",
       "    <tr style=\"text-align: right;\">\n",
       "      <th></th>\n",
       "      <th>Region</th>\n",
       "    </tr>\n",
       "  </thead>\n",
       "  <tbody>\n",
       "    <tr>\n",
       "      <th>1</th>\n",
       "      <td>Aguascalientes</td>\n",
       "    </tr>\n",
       "    <tr>\n",
       "      <th>2</th>\n",
       "      <td>Baja California</td>\n",
       "    </tr>\n",
       "    <tr>\n",
       "      <th>3</th>\n",
       "      <td>Baja California Sur</td>\n",
       "    </tr>\n",
       "    <tr>\n",
       "      <th>4</th>\n",
       "      <td>Campeche</td>\n",
       "    </tr>\n",
       "    <tr>\n",
       "      <th>5</th>\n",
       "      <td>Chiapas</td>\n",
       "    </tr>\n",
       "  </tbody>\n",
       "</table>\n",
       "</div>"
      ],
      "text/plain": [
       "                Region\n",
       "1       Aguascalientes\n",
       "2      Baja California\n",
       "3  Baja California Sur\n",
       "4             Campeche\n",
       "5              Chiapas"
      ]
     },
     "execution_count": 45,
     "metadata": {},
     "output_type": "execute_result"
    }
   ],
   "source": [
    "# Create a sub-dataframe with residence name, code, and population size (unique)\n",
    "\n",
    "# Var for residence name \n",
    "residence_uniq = np.unique(materna['Residence Name'])\n",
    "\n",
    "# Var for residence code\n",
    "residence_code = np.unique(materna['Residence Code'])\n",
    "\n",
    "# Create the sub-dateframe for region and region code\n",
    "res_dataset = pd.DataFrame(residence_uniq, index=residence_code)\n",
    "res_dataset = res_dataset.rename(columns={0:'Region'})\n",
    "res_dataset.head()"
   ]
  },
  {
   "cell_type": "code",
   "execution_count": 46,
   "metadata": {},
   "outputs": [
    {
     "name": "stdout",
     "output_type": "stream",
     "text": [
      "28.36\n",
      "['28.36']\n",
      "27.15\n",
      "['28.36', '27.15']\n"
     ]
    }
   ],
   "source": [
    "# Calculate the mean age per region\n",
    "# This section has test trials per entry to help formulate an iteration function\n",
    "\n",
    "mean_death_list_trial = []\n",
    "\n",
    "aguas = materna[materna['Residence Code'] == 1 ]\n",
    "aguas = aguas[['Residence Code', 'Age at Death']]\n",
    "aguas_mean = aguas['Age at Death'].mean()\n",
    "aguas_mean = '{0:0.2f}'.format(aguas_mean)\n",
    "print(aguas_mean)\n",
    "\n",
    "mean_death_list_trial.append(aguas_mean)\n",
    "print(mean_death_list_trial)\n",
    "\n",
    "baja = materna[materna['Residence Code'] == 2 ]\n",
    "baja = baja[['Residence Code', 'Age at Death']]\n",
    "baja_mean = baja['Age at Death'].mean()\n",
    "baja_mean = '{0:0.2f}'.format(baja_mean)\n",
    "print(baja_mean)\n",
    "\n",
    "mean_death_list_trial.append(baja_mean)\n",
    "print(mean_death_list_trial)"
   ]
  },
  {
   "cell_type": "code",
   "execution_count": 47,
   "metadata": {},
   "outputs": [],
   "source": [
    "# Create an empty list to store region sample size and mean age of maternal death\n",
    "region_mean = []\n",
    "region_n = []\n",
    "\n",
    "# Create an iteration function to calculate the mean age of maternal death per region\n",
    "for i in materna['Residence Code'].sort_values().unique():\n",
    "    \"\"\"Calculate Length of Age Array and Mean Age per Region\"\"\"\n",
    "    \n",
    "    #select one region\n",
    "    sub_df = materna[materna['Residence Code'] == (i - 1)]\n",
    "    \n",
    "    #calculate sample length\n",
    "    n = len(sub_df['Age at Death'])\n",
    "    \n",
    "    #calculate mean of region\n",
    "    mean = sub_df['Age at Death'].mean()\n",
    "    \n",
    "    # append n and mean to region list\n",
    "    region_n.append(round(n, 2))\n",
    "    region_mean.append(round(mean, 2)) "
   ]
  },
  {
   "cell_type": "code",
   "execution_count": 48,
   "metadata": {},
   "outputs": [
    {
     "name": "stdout",
     "output_type": "stream",
     "text": [
      "28.36 127 <class 'float'>\n",
      "27.15 361 <class 'float'>\n"
     ]
    }
   ],
   "source": [
    "# Test output\n",
    "print(region_mean[1], region_n[1], type(region_mean[1]))\n",
    "print(region_mean[2], region_n[2], type(region_mean[2]))"
   ]
  },
  {
   "cell_type": "code",
   "execution_count": 49,
   "metadata": {},
   "outputs": [
    {
     "data": {
      "text/html": [
       "<div>\n",
       "<style scoped>\n",
       "    .dataframe tbody tr th:only-of-type {\n",
       "        vertical-align: middle;\n",
       "    }\n",
       "\n",
       "    .dataframe tbody tr th {\n",
       "        vertical-align: top;\n",
       "    }\n",
       "\n",
       "    .dataframe thead th {\n",
       "        text-align: right;\n",
       "    }\n",
       "</style>\n",
       "<table border=\"1\" class=\"dataframe\">\n",
       "  <thead>\n",
       "    <tr style=\"text-align: right;\">\n",
       "      <th></th>\n",
       "      <th>Region</th>\n",
       "      <th>μ Age Maternal Mortality</th>\n",
       "      <th>Region (n)</th>\n",
       "    </tr>\n",
       "  </thead>\n",
       "  <tbody>\n",
       "    <tr>\n",
       "      <th>1</th>\n",
       "      <td>Aguascalientes</td>\n",
       "      <td>28.36</td>\n",
       "      <td>127.0</td>\n",
       "    </tr>\n",
       "    <tr>\n",
       "      <th>2</th>\n",
       "      <td>Baja California</td>\n",
       "      <td>27.15</td>\n",
       "      <td>361.0</td>\n",
       "    </tr>\n",
       "    <tr>\n",
       "      <th>3</th>\n",
       "      <td>Baja California Sur</td>\n",
       "      <td>27.56</td>\n",
       "      <td>66.0</td>\n",
       "    </tr>\n",
       "    <tr>\n",
       "      <th>4</th>\n",
       "      <td>Campeche</td>\n",
       "      <td>26.87</td>\n",
       "      <td>126.0</td>\n",
       "    </tr>\n",
       "    <tr>\n",
       "      <th>5</th>\n",
       "      <td>Chiapas</td>\n",
       "      <td>28.02</td>\n",
       "      <td>310.0</td>\n",
       "    </tr>\n",
       "    <tr>\n",
       "      <th>6</th>\n",
       "      <td>Chihuahua</td>\n",
       "      <td>27.59</td>\n",
       "      <td>49.0</td>\n",
       "    </tr>\n",
       "    <tr>\n",
       "      <th>7</th>\n",
       "      <td>Coahuila de Zaragoza</td>\n",
       "      <td>28.24</td>\n",
       "      <td>1235.0</td>\n",
       "    </tr>\n",
       "    <tr>\n",
       "      <th>8</th>\n",
       "      <td>Colima</td>\n",
       "      <td>26.98</td>\n",
       "      <td>628.0</td>\n",
       "    </tr>\n",
       "    <tr>\n",
       "      <th>9</th>\n",
       "      <td>Distrito Federal</td>\n",
       "      <td>28.84</td>\n",
       "      <td>1082.0</td>\n",
       "    </tr>\n",
       "    <tr>\n",
       "      <th>10</th>\n",
       "      <td>Durango</td>\n",
       "      <td>28.65</td>\n",
       "      <td>263.0</td>\n",
       "    </tr>\n",
       "    <tr>\n",
       "      <th>11</th>\n",
       "      <td>Guanajuato</td>\n",
       "      <td>29.19</td>\n",
       "      <td>707.0</td>\n",
       "    </tr>\n",
       "    <tr>\n",
       "      <th>12</th>\n",
       "      <td>Guerrero</td>\n",
       "      <td>28.61</td>\n",
       "      <td>977.0</td>\n",
       "    </tr>\n",
       "    <tr>\n",
       "      <th>13</th>\n",
       "      <td>Hidalgo</td>\n",
       "      <td>28.28</td>\n",
       "      <td>428.0</td>\n",
       "    </tr>\n",
       "    <tr>\n",
       "      <th>14</th>\n",
       "      <td>Jalisco</td>\n",
       "      <td>29.33</td>\n",
       "      <td>802.0</td>\n",
       "    </tr>\n",
       "    <tr>\n",
       "      <th>15</th>\n",
       "      <td>Michoacán de Ocampo</td>\n",
       "      <td>28.26</td>\n",
       "      <td>2299.0</td>\n",
       "    </tr>\n",
       "    <tr>\n",
       "      <th>16</th>\n",
       "      <td>Morelos</td>\n",
       "      <td>29.26</td>\n",
       "      <td>654.0</td>\n",
       "    </tr>\n",
       "    <tr>\n",
       "      <th>17</th>\n",
       "      <td>México</td>\n",
       "      <td>28.18</td>\n",
       "      <td>243.0</td>\n",
       "    </tr>\n",
       "    <tr>\n",
       "      <th>18</th>\n",
       "      <td>Nayarit</td>\n",
       "      <td>27.90</td>\n",
       "      <td>164.0</td>\n",
       "    </tr>\n",
       "    <tr>\n",
       "      <th>19</th>\n",
       "      <td>Nuevo León</td>\n",
       "      <td>28.17</td>\n",
       "      <td>323.0</td>\n",
       "    </tr>\n",
       "    <tr>\n",
       "      <th>20</th>\n",
       "      <td>Oaxaca</td>\n",
       "      <td>28.76</td>\n",
       "      <td>874.0</td>\n",
       "    </tr>\n",
       "    <tr>\n",
       "      <th>21</th>\n",
       "      <td>Puebla</td>\n",
       "      <td>28.41</td>\n",
       "      <td>990.0</td>\n",
       "    </tr>\n",
       "    <tr>\n",
       "      <th>22</th>\n",
       "      <td>Querétaro Arteaga</td>\n",
       "      <td>29.63</td>\n",
       "      <td>227.0</td>\n",
       "    </tr>\n",
       "    <tr>\n",
       "      <th>23</th>\n",
       "      <td>Quintana Roo</td>\n",
       "      <td>27.91</td>\n",
       "      <td>190.0</td>\n",
       "    </tr>\n",
       "    <tr>\n",
       "      <th>24</th>\n",
       "      <td>San Luis Potosí</td>\n",
       "      <td>29.15</td>\n",
       "      <td>375.0</td>\n",
       "    </tr>\n",
       "    <tr>\n",
       "      <th>25</th>\n",
       "      <td>Sinaloa</td>\n",
       "      <td>27.73</td>\n",
       "      <td>270.0</td>\n",
       "    </tr>\n",
       "    <tr>\n",
       "      <th>26</th>\n",
       "      <td>Sonora</td>\n",
       "      <td>27.29</td>\n",
       "      <td>303.0</td>\n",
       "    </tr>\n",
       "    <tr>\n",
       "      <th>27</th>\n",
       "      <td>Tabasco</td>\n",
       "      <td>27.10</td>\n",
       "      <td>315.0</td>\n",
       "    </tr>\n",
       "    <tr>\n",
       "      <th>28</th>\n",
       "      <td>Tamaulipas</td>\n",
       "      <td>28.26</td>\n",
       "      <td>377.0</td>\n",
       "    </tr>\n",
       "    <tr>\n",
       "      <th>29</th>\n",
       "      <td>Tlaxcala</td>\n",
       "      <td>28.45</td>\n",
       "      <td>178.0</td>\n",
       "    </tr>\n",
       "    <tr>\n",
       "      <th>30</th>\n",
       "      <td>Veracruz de Ignacio de la Llave</td>\n",
       "      <td>27.94</td>\n",
       "      <td>1239.0</td>\n",
       "    </tr>\n",
       "    <tr>\n",
       "      <th>31</th>\n",
       "      <td>Yucatán</td>\n",
       "      <td>27.50</td>\n",
       "      <td>258.0</td>\n",
       "    </tr>\n",
       "    <tr>\n",
       "      <th>32</th>\n",
       "      <td>Zacatecas</td>\n",
       "      <td>NaN</td>\n",
       "      <td>NaN</td>\n",
       "    </tr>\n",
       "  </tbody>\n",
       "</table>\n",
       "</div>"
      ],
      "text/plain": [
       "                             Region  μ Age Maternal Mortality  Region (n)\n",
       "1                    Aguascalientes                     28.36       127.0\n",
       "2                   Baja California                     27.15       361.0\n",
       "3               Baja California Sur                     27.56        66.0\n",
       "4                          Campeche                     26.87       126.0\n",
       "5                           Chiapas                     28.02       310.0\n",
       "6                         Chihuahua                     27.59        49.0\n",
       "7              Coahuila de Zaragoza                     28.24      1235.0\n",
       "8                            Colima                     26.98       628.0\n",
       "9                  Distrito Federal                     28.84      1082.0\n",
       "10                          Durango                     28.65       263.0\n",
       "11                       Guanajuato                     29.19       707.0\n",
       "12                         Guerrero                     28.61       977.0\n",
       "13                          Hidalgo                     28.28       428.0\n",
       "14                          Jalisco                     29.33       802.0\n",
       "15              Michoacán de Ocampo                     28.26      2299.0\n",
       "16                          Morelos                     29.26       654.0\n",
       "17                           México                     28.18       243.0\n",
       "18                          Nayarit                     27.90       164.0\n",
       "19                       Nuevo León                     28.17       323.0\n",
       "20                           Oaxaca                     28.76       874.0\n",
       "21                           Puebla                     28.41       990.0\n",
       "22                Querétaro Arteaga                     29.63       227.0\n",
       "23                     Quintana Roo                     27.91       190.0\n",
       "24                  San Luis Potosí                     29.15       375.0\n",
       "25                          Sinaloa                     27.73       270.0\n",
       "26                           Sonora                     27.29       303.0\n",
       "27                          Tabasco                     27.10       315.0\n",
       "28                       Tamaulipas                     28.26       377.0\n",
       "29                         Tlaxcala                     28.45       178.0\n",
       "30  Veracruz de Ignacio de la Llave                     27.94      1239.0\n",
       "31                          Yucatán                     27.50       258.0\n",
       "32                        Zacatecas                       NaN         NaN"
      ]
     },
     "execution_count": 49,
     "metadata": {},
     "output_type": "execute_result"
    }
   ],
   "source": [
    "# Convert the list to a Series and add as new column\n",
    "res_dataset['μ Age Maternal Mortality'] = pd.Series(region_mean)\n",
    "res_dataset['Region (n)'] = pd.Series(region_n)\n",
    "res_dataset"
   ]
  },
  {
   "cell_type": "markdown",
   "metadata": {},
   "source": [
    "*Preliminary Observation*: Since the region 'Zacatecas' has a NaN value for mean age of maternal death, the contents of 'Zacatecas' need to be adjusted from NaN to the actual mean of the data for the res_dataset. *With a quick reference, the initial values in the res_dataset match the individually calculated mean for both Aguascalientes and Baja California, so we know the NaN is not due to shifted values.*"
   ]
  },
  {
   "cell_type": "markdown",
   "metadata": {},
   "source": [
    "#### Clean Data by Replacing NaN/Null values with the Correct Data"
   ]
  },
  {
   "cell_type": "code",
   "execution_count": 50,
   "metadata": {},
   "outputs": [
    {
     "name": "stdout",
     "output_type": "stream",
     "text": [
      "27.5\n"
     ]
    },
    {
     "data": {
      "text/html": [
       "<div>\n",
       "<style scoped>\n",
       "    .dataframe tbody tr th:only-of-type {\n",
       "        vertical-align: middle;\n",
       "    }\n",
       "\n",
       "    .dataframe tbody tr th {\n",
       "        vertical-align: top;\n",
       "    }\n",
       "\n",
       "    .dataframe thead th {\n",
       "        text-align: right;\n",
       "    }\n",
       "</style>\n",
       "<table border=\"1\" class=\"dataframe\">\n",
       "  <thead>\n",
       "    <tr style=\"text-align: right;\">\n",
       "      <th></th>\n",
       "      <th>Region</th>\n",
       "      <th>μ Age Maternal Mortality</th>\n",
       "      <th>Region (n)</th>\n",
       "    </tr>\n",
       "  </thead>\n",
       "  <tbody>\n",
       "    <tr>\n",
       "      <th>28</th>\n",
       "      <td>Tamaulipas</td>\n",
       "      <td>28.26</td>\n",
       "      <td>377.0</td>\n",
       "    </tr>\n",
       "    <tr>\n",
       "      <th>29</th>\n",
       "      <td>Tlaxcala</td>\n",
       "      <td>28.45</td>\n",
       "      <td>178.0</td>\n",
       "    </tr>\n",
       "    <tr>\n",
       "      <th>30</th>\n",
       "      <td>Veracruz de Ignacio de la Llave</td>\n",
       "      <td>27.94</td>\n",
       "      <td>1239.0</td>\n",
       "    </tr>\n",
       "    <tr>\n",
       "      <th>31</th>\n",
       "      <td>Yucatán</td>\n",
       "      <td>27.50</td>\n",
       "      <td>258.0</td>\n",
       "    </tr>\n",
       "    <tr>\n",
       "      <th>32</th>\n",
       "      <td>Zacatecas</td>\n",
       "      <td>27.50</td>\n",
       "      <td>191.0</td>\n",
       "    </tr>\n",
       "  </tbody>\n",
       "</table>\n",
       "</div>"
      ],
      "text/plain": [
       "                             Region  μ Age Maternal Mortality  Region (n)\n",
       "28                       Tamaulipas                     28.26       377.0\n",
       "29                         Tlaxcala                     28.45       178.0\n",
       "30  Veracruz de Ignacio de la Llave                     27.94      1239.0\n",
       "31                          Yucatán                     27.50       258.0\n",
       "32                        Zacatecas                     27.50       191.0"
      ]
     },
     "execution_count": 50,
     "metadata": {},
     "output_type": "execute_result"
    }
   ],
   "source": [
    "# Calculate the mean Age of Death for region 'Zacatecas'\n",
    "zaca = materna[materna['Residence Code'] == 32 ]\n",
    "zaca = zaca['Age at Death']\n",
    "\n",
    "# Calculate sample size\n",
    "zaca_n = len(zaca)\n",
    "\n",
    "# Calculate mean\n",
    "zaca_mean = zaca.mean()\n",
    "zaca_mean = round(mean, 2)\n",
    "print(zaca_mean)\n",
    "\n",
    "# Change contents of res_dataset NaN to calculated mean\n",
    "res_dataset['μ Age Maternal Mortality'] = res_dataset['μ Age Maternal Mortality'].replace(np.nan, zaca_mean)\n",
    "res_dataset['Region (n)'] = res_dataset['Region (n)'].replace(np.nan, zaca_n)\n",
    "res_dataset.tail()"
   ]
  },
  {
   "cell_type": "markdown",
   "metadata": {},
   "source": [
    "#### Visualize Data"
   ]
  },
  {
   "cell_type": "code",
   "execution_count": 51,
   "metadata": {},
   "outputs": [
    {
     "data": {
      "text/plain": [
       "Text(0.5,1,'Regions Compared to Mexico Mean Age Maternal Mortality')"
      ]
     },
     "execution_count": 51,
     "metadata": {},
     "output_type": "execute_result"
    },
    {
     "data": {
      "image/png": "[encoded data removed]",
      "text/plain": [
       "<Figure size 1152x288 with 1 Axes>"
      ]
     },
     "metadata": {
      "needs_background": "light"
     },
     "output_type": "display_data"
    }
   ],
   "source": [
    "# Create a bar graph to show mean age maternal death by region\n",
    "fig, ax = plt.subplots(figsize=(16, 4))\n",
    "plt.xticks(rotation='vertical')\n",
    "plt.grid(True)\n",
    "plt.scatter(res_dataset['Region'], res_dataset['μ Age Maternal Mortality'])\n",
    "\n",
    "# Label axis \n",
    "pl.title('Regions Compared to Mexico Mean Age Maternal Mortality')"
   ]
  },
  {
   "cell_type": "markdown",
   "metadata": {},
   "source": [
    "***Further Investigation Needed***: The difference between the means of each region within Mexico needs to be analyzed to evaluate if theres differences are statistically significant. This can be accomplished by running an ANOVA analysis."
   ]
  },
  {
   "cell_type": "markdown",
   "metadata": {},
   "source": [
    "### Step 3: Statistical Inference - ANOVA Examination"
   ]
  },
  {
   "cell_type": "markdown",
   "metadata": {},
   "source": [
    "A **One-Way Analysis of Variance (ANOVA)** test compares the means of two or more groups to determine if at least one group mean is statistically different from the others. These assumptions that must be satisfied in order for the associated p-value to be valid:\n",
    "\n",
    "1. The samples are independent.\n",
    "2. Each sample is from a normally distributed population.\n",
    "3. The population standard deviations of the groups are all equal. (homoscedasticity)"
   ]
  },
  {
   "cell_type": "markdown",
   "metadata": {},
   "source": [
    "#### 1. Samples must be Random / Independent\n",
    "- 10% Rule: If sample size (n) for each Mexican State is less than 10% of the total population within that State, than each sample selection can be treated as an independent event"
   ]
  },
  {
   "cell_type": "code",
   "execution_count": 52,
   "metadata": {},
   "outputs": [
    {
     "data": {
      "text/html": [
       "<div>\n",
       "<style scoped>\n",
       "    .dataframe tbody tr th:only-of-type {\n",
       "        vertical-align: middle;\n",
       "    }\n",
       "\n",
       "    .dataframe tbody tr th {\n",
       "        vertical-align: top;\n",
       "    }\n",
       "\n",
       "    .dataframe thead th {\n",
       "        text-align: right;\n",
       "    }\n",
       "</style>\n",
       "<table border=\"1\" class=\"dataframe\">\n",
       "  <thead>\n",
       "    <tr style=\"text-align: right;\">\n",
       "      <th></th>\n",
       "      <th>State(s)</th>\n",
       "      <th>Population 2010</th>\n",
       "      <th>Population 2015</th>\n",
       "    </tr>\n",
       "  </thead>\n",
       "  <tbody>\n",
       "    <tr>\n",
       "      <th>0</th>\n",
       "      <td>Aguascalientes</td>\n",
       "      <td>932369.0</td>\n",
       "      <td>1044049.0</td>\n",
       "    </tr>\n",
       "    <tr>\n",
       "      <th>1</th>\n",
       "      <td>Baja California</td>\n",
       "      <td>3155070.0</td>\n",
       "      <td>3315766.0</td>\n",
       "    </tr>\n",
       "    <tr>\n",
       "      <th>2</th>\n",
       "      <td>Baja California Sur</td>\n",
       "      <td>251871.0</td>\n",
       "      <td>272711.0</td>\n",
       "    </tr>\n",
       "    <tr>\n",
       "      <th>3</th>\n",
       "      <td>Campeche</td>\n",
       "      <td>259005.0</td>\n",
       "      <td>283025.0</td>\n",
       "    </tr>\n",
       "    <tr>\n",
       "      <th>4</th>\n",
       "      <td>Chiapas</td>\n",
       "      <td>1058712.0</td>\n",
       "      <td>1162592.0</td>\n",
       "    </tr>\n",
       "    <tr>\n",
       "      <th>5</th>\n",
       "      <td>Chihuahua</td>\n",
       "      <td>2478246.0</td>\n",
       "      <td>2616912.0</td>\n",
       "    </tr>\n",
       "    <tr>\n",
       "      <th>6</th>\n",
       "      <td>Ciudad de México / Hidalgo / México</td>\n",
       "      <td>20116842.0</td>\n",
       "      <td>20892724.0</td>\n",
       "    </tr>\n",
       "    <tr>\n",
       "      <th>7</th>\n",
       "      <td>Coahuila de Zaragoza</td>\n",
       "      <td>2614817.0</td>\n",
       "      <td>2823877.0</td>\n",
       "    </tr>\n",
       "    <tr>\n",
       "      <th>8</th>\n",
       "      <td>Colima</td>\n",
       "      <td>475661.0</td>\n",
       "      <td>512182.0</td>\n",
       "    </tr>\n",
       "    <tr>\n",
       "      <th>9</th>\n",
       "      <td>Durango</td>\n",
       "      <td>582267.0</td>\n",
       "      <td>654876.0</td>\n",
       "    </tr>\n",
       "    <tr>\n",
       "      <th>10</th>\n",
       "      <td>Guanajuato</td>\n",
       "      <td>3012201.0</td>\n",
       "      <td>3250817.0</td>\n",
       "    </tr>\n",
       "    <tr>\n",
       "      <th>11</th>\n",
       "      <td>Guerrero</td>\n",
       "      <td>1151306.0</td>\n",
       "      <td>1211397.0</td>\n",
       "    </tr>\n",
       "    <tr>\n",
       "      <th>12</th>\n",
       "      <td>Hidalgo</td>\n",
       "      <td>957587.0</td>\n",
       "      <td>1038974.0</td>\n",
       "    </tr>\n",
       "    <tr>\n",
       "      <th>13</th>\n",
       "      <td>Jalisco</td>\n",
       "      <td>5065897.0</td>\n",
       "      <td>5489431.0</td>\n",
       "    </tr>\n",
       "    <tr>\n",
       "      <th>14</th>\n",
       "      <td>Michoacán de Ocampo</td>\n",
       "      <td>1079738.0</td>\n",
       "      <td>1177912.0</td>\n",
       "    </tr>\n",
       "    <tr>\n",
       "      <th>15</th>\n",
       "      <td>Morelos</td>\n",
       "      <td>1359111.0</td>\n",
       "      <td>1458806.0</td>\n",
       "    </tr>\n",
       "    <tr>\n",
       "      <th>16</th>\n",
       "      <td>México</td>\n",
       "      <td>2172035.0</td>\n",
       "      <td>2373347.0</td>\n",
       "    </tr>\n",
       "    <tr>\n",
       "      <th>17</th>\n",
       "      <td>Nayarit</td>\n",
       "      <td>429351.0</td>\n",
       "      <td>471026.0</td>\n",
       "    </tr>\n",
       "    <tr>\n",
       "      <th>18</th>\n",
       "      <td>Nuevo León</td>\n",
       "      <td>4226031.0</td>\n",
       "      <td>4689601.0</td>\n",
       "    </tr>\n",
       "    <tr>\n",
       "      <th>19</th>\n",
       "      <td>Oaxaca de Juarez</td>\n",
       "      <td>787985.0</td>\n",
       "      <td>851404.0</td>\n",
       "    </tr>\n",
       "    <tr>\n",
       "      <th>20</th>\n",
       "      <td>Puebla</td>\n",
       "      <td>3148189.0</td>\n",
       "      <td>3418377.0</td>\n",
       "    </tr>\n",
       "    <tr>\n",
       "      <th>21</th>\n",
       "      <td>Querétaro / Guanajuato</td>\n",
       "      <td>1161458.0</td>\n",
       "      <td>1323640.0</td>\n",
       "    </tr>\n",
       "    <tr>\n",
       "      <th>22</th>\n",
       "      <td>Quintana Roo</td>\n",
       "      <td>885189.0</td>\n",
       "      <td>987201.0</td>\n",
       "    </tr>\n",
       "    <tr>\n",
       "      <th>23</th>\n",
       "      <td>San Luis Potosi</td>\n",
       "      <td>1200491.0</td>\n",
       "      <td>1299383.0</td>\n",
       "    </tr>\n",
       "    <tr>\n",
       "      <th>24</th>\n",
       "      <td>Sinaloa</td>\n",
       "      <td>1297072.0</td>\n",
       "      <td>1407812.0</td>\n",
       "    </tr>\n",
       "    <tr>\n",
       "      <th>25</th>\n",
       "      <td>Sonora</td>\n",
       "      <td>1208064.0</td>\n",
       "      <td>1332448.0</td>\n",
       "    </tr>\n",
       "    <tr>\n",
       "      <th>26</th>\n",
       "      <td>Tabasco</td>\n",
       "      <td>755425.0</td>\n",
       "      <td>823213.0</td>\n",
       "    </tr>\n",
       "    <tr>\n",
       "      <th>27</th>\n",
       "      <td>Tamaulipas</td>\n",
       "      <td>2781748.0</td>\n",
       "      <td>2955770.0</td>\n",
       "    </tr>\n",
       "    <tr>\n",
       "      <th>28</th>\n",
       "      <td>Tlaxcala</td>\n",
       "      <td>499567.0</td>\n",
       "      <td>540273.0</td>\n",
       "    </tr>\n",
       "    <tr>\n",
       "      <th>29</th>\n",
       "      <td>Veracruz de Ignacio de la Llave</td>\n",
       "      <td>3621456.0</td>\n",
       "      <td>3884243.0</td>\n",
       "    </tr>\n",
       "    <tr>\n",
       "      <th>30</th>\n",
       "      <td>Yucatán</td>\n",
       "      <td>1053519.0</td>\n",
       "      <td>1143041.0</td>\n",
       "    </tr>\n",
       "    <tr>\n",
       "      <th>31</th>\n",
       "      <td>Zacatecas</td>\n",
       "      <td>335947.0</td>\n",
       "      <td>375628.0</td>\n",
       "    </tr>\n",
       "  </tbody>\n",
       "</table>\n",
       "</div>"
      ],
      "text/plain": [
       "                               State(s)  Population 2010  Population 2015\n",
       "0                        Aguascalientes         932369.0        1044049.0\n",
       "1                       Baja California        3155070.0        3315766.0\n",
       "2                   Baja California Sur         251871.0         272711.0\n",
       "3                              Campeche         259005.0         283025.0\n",
       "4                               Chiapas        1058712.0        1162592.0\n",
       "5                             Chihuahua        2478246.0        2616912.0\n",
       "6   Ciudad de México / Hidalgo / México       20116842.0       20892724.0\n",
       "7                  Coahuila de Zaragoza        2614817.0        2823877.0\n",
       "8                                Colima         475661.0         512182.0\n",
       "9                               Durango         582267.0         654876.0\n",
       "10                           Guanajuato        3012201.0        3250817.0\n",
       "11                             Guerrero        1151306.0        1211397.0\n",
       "12                              Hidalgo         957587.0        1038974.0\n",
       "13                              Jalisco        5065897.0        5489431.0\n",
       "14                  Michoacán de Ocampo        1079738.0        1177912.0\n",
       "15                              Morelos        1359111.0        1458806.0\n",
       "16                               México        2172035.0        2373347.0\n",
       "17                              Nayarit         429351.0         471026.0\n",
       "18                           Nuevo León        4226031.0        4689601.0\n",
       "19                     Oaxaca de Juarez         787985.0         851404.0\n",
       "20                               Puebla        3148189.0        3418377.0\n",
       "21               Querétaro / Guanajuato        1161458.0        1323640.0\n",
       "22                         Quintana Roo         885189.0         987201.0\n",
       "23                      San Luis Potosi        1200491.0        1299383.0\n",
       "24                              Sinaloa        1297072.0        1407812.0\n",
       "25                               Sonora        1208064.0        1332448.0\n",
       "26                              Tabasco         755425.0         823213.0\n",
       "27                           Tamaulipas        2781748.0        2955770.0\n",
       "28                             Tlaxcala         499567.0         540273.0\n",
       "29      Veracruz de Ignacio de la Llave        3621456.0        3884243.0\n",
       "30                              Yucatán        1053519.0        1143041.0\n",
       "31                            Zacatecas         335947.0         375628.0"
      ]
     },
     "execution_count": 52,
     "metadata": {},
     "output_type": "execute_result"
    }
   ],
   "source": [
    "# Open metro_by_region with specific population values of each Mexican State by region\n",
    "%store -r state_pop\n",
    "state_pop"
   ]
  },
  {
   "cell_type": "markdown",
   "metadata": {},
   "source": [
    "#### Assess if sample age arrays by State are Independent"
   ]
  },
  {
   "cell_type": "code",
   "execution_count": 53,
   "metadata": {},
   "outputs": [
    {
     "data": {
      "text/plain": [
       "(32, 32)"
      ]
     },
     "execution_count": 53,
     "metadata": {},
     "output_type": "execute_result"
    }
   ],
   "source": [
    "# Verify both age_by_state and state_pop both contain all 32 Mexican States/Regions \n",
    "len(list(age_by_state.keys())), len(state_pop)"
   ]
  },
  {
   "cell_type": "code",
   "execution_count": 54,
   "metadata": {
    "scrolled": true
   },
   "outputs": [
    {
     "data": {
      "text/html": [
       "<div>\n",
       "<style scoped>\n",
       "    .dataframe tbody tr th:only-of-type {\n",
       "        vertical-align: middle;\n",
       "    }\n",
       "\n",
       "    .dataframe tbody tr th {\n",
       "        vertical-align: top;\n",
       "    }\n",
       "\n",
       "    .dataframe thead th {\n",
       "        text-align: right;\n",
       "    }\n",
       "</style>\n",
       "<table border=\"1\" class=\"dataframe\">\n",
       "  <thead>\n",
       "    <tr style=\"text-align: right;\">\n",
       "      <th></th>\n",
       "      <th>State(s)</th>\n",
       "      <th>Population 2010</th>\n",
       "      <th>Population 2015</th>\n",
       "      <th>State</th>\n",
       "    </tr>\n",
       "  </thead>\n",
       "  <tbody>\n",
       "    <tr>\n",
       "      <th>0</th>\n",
       "      <td>Aguascalientes</td>\n",
       "      <td>932369.0</td>\n",
       "      <td>1044049.0</td>\n",
       "      <td>Aguascalientes</td>\n",
       "    </tr>\n",
       "    <tr>\n",
       "      <th>1</th>\n",
       "      <td>Baja California</td>\n",
       "      <td>3155070.0</td>\n",
       "      <td>3315766.0</td>\n",
       "      <td>Baja California</td>\n",
       "    </tr>\n",
       "    <tr>\n",
       "      <th>2</th>\n",
       "      <td>Baja California Sur</td>\n",
       "      <td>251871.0</td>\n",
       "      <td>272711.0</td>\n",
       "      <td>Baja California Sur</td>\n",
       "    </tr>\n",
       "    <tr>\n",
       "      <th>3</th>\n",
       "      <td>Campeche</td>\n",
       "      <td>259005.0</td>\n",
       "      <td>283025.0</td>\n",
       "      <td>Campeche</td>\n",
       "    </tr>\n",
       "    <tr>\n",
       "      <th>4</th>\n",
       "      <td>Chiapas</td>\n",
       "      <td>1058712.0</td>\n",
       "      <td>1162592.0</td>\n",
       "      <td>Chiapas</td>\n",
       "    </tr>\n",
       "  </tbody>\n",
       "</table>\n",
       "</div>"
      ],
      "text/plain": [
       "              State(s)  Population 2010  Population 2015                State\n",
       "0       Aguascalientes         932369.0        1044049.0       Aguascalientes\n",
       "1      Baja California        3155070.0        3315766.0      Baja California\n",
       "2  Baja California Sur         251871.0         272711.0  Baja California Sur\n",
       "3             Campeche         259005.0         283025.0             Campeche\n",
       "4              Chiapas        1058712.0        1162592.0              Chiapas"
      ]
     },
     "execution_count": 54,
     "metadata": {},
     "output_type": "execute_result"
    }
   ],
   "source": [
    "# Modify state_pop to contain the extact same string value for State\n",
    "state_pop['State'] = age_by_state.keys()\n",
    "state_pop.head()"
   ]
  },
  {
   "cell_type": "code",
   "execution_count": 55,
   "metadata": {},
   "outputs": [
    {
     "name": "stdout",
     "output_type": "stream",
     "text": [
      "Accept Independence:  Aguascalientes\n",
      "Accept Independence - Over-Estimation:  Aguascalientes\n",
      "Accept Independence:  Baja California\n",
      "Accept Independence - Over-Estimation:  Baja California\n",
      "Accept Independence:  Baja California Sur\n",
      "Accept Independence - Over-Estimation:  Baja California Sur\n",
      "Accept Independence:  Campeche\n",
      "Accept Independence - Over-Estimation:  Campeche\n",
      "Accept Independence:  Chiapas\n",
      "Accept Independence - Over-Estimation:  Chiapas\n",
      "Accept Independence:  Chihuahua\n",
      "Accept Independence - Over-Estimation:  Chihuahua\n",
      "Accept Independence:  Coahuila de Zaragoza\n",
      "Accept Independence - Over-Estimation:  Coahuila de Zaragoza\n",
      "Accept Independence:  Colima\n",
      "Accept Independence - Over-Estimation:  Colima\n",
      "Accept Independence:  Distrito Federal\n",
      "Accept Independence - Over-Estimation:  Distrito Federal\n",
      "Accept Independence:  Durango\n",
      "Accept Independence - Over-Estimation:  Durango\n",
      "Accept Independence:  Guanajuato\n",
      "Accept Independence - Over-Estimation:  Guanajuato\n",
      "Accept Independence:  Guerrero\n",
      "Accept Independence - Over-Estimation:  Guerrero\n",
      "Accept Independence:  Hidalgo\n",
      "Accept Independence - Over-Estimation:  Hidalgo\n",
      "Accept Independence:  Jalisco\n",
      "Accept Independence - Over-Estimation:  Jalisco\n",
      "Accept Independence:  Michoacán de Ocampo\n",
      "Accept Independence - Over-Estimation:  Michoacán de Ocampo\n",
      "Accept Independence:  Morelos\n",
      "Accept Independence - Over-Estimation:  Morelos\n",
      "Accept Independence:  México\n",
      "Accept Independence - Over-Estimation:  México\n",
      "Accept Independence:  Nayarit\n",
      "Accept Independence - Over-Estimation:  Nayarit\n",
      "Accept Independence:  Nuevo León\n",
      "Accept Independence - Over-Estimation:  Nuevo León\n",
      "Accept Independence:  Oaxaca\n",
      "Accept Independence - Over-Estimation:  Oaxaca\n",
      "Accept Independence:  Puebla\n",
      "Accept Independence - Over-Estimation:  Puebla\n",
      "Accept Independence:  Querétaro Arteaga\n",
      "Accept Independence - Over-Estimation:  Querétaro Arteaga\n",
      "Accept Independence:  Quintana Roo\n",
      "Accept Independence - Over-Estimation:  Quintana Roo\n",
      "Accept Independence:  San Luis Potosí\n",
      "Accept Independence - Over-Estimation:  San Luis Potosí\n",
      "Accept Independence:  Sinaloa\n",
      "Accept Independence - Over-Estimation:  Sinaloa\n",
      "Accept Independence:  Sonora\n",
      "Accept Independence - Over-Estimation:  Sonora\n",
      "Accept Independence:  Tabasco\n",
      "Accept Independence - Over-Estimation:  Tabasco\n",
      "Accept Independence:  Tamaulipas\n",
      "Accept Independence - Over-Estimation:  Tamaulipas\n",
      "Accept Independence:  Tlaxcala\n",
      "Accept Independence - Over-Estimation:  Tlaxcala\n",
      "Accept Independence:  Veracruz de Ignacio de la Llave\n",
      "Accept Independence - Over-Estimation:  Veracruz de Ignacio de la Llave\n",
      "Accept Independence:  Yucatán\n",
      "Accept Independence - Over-Estimation:  Yucatán\n",
      "Accept Independence:  Zacatecas\n",
      "Accept Independence - Over-Estimation:  Zacatecas\n"
     ]
    }
   ],
   "source": [
    "for state in age_by_state:\n",
    "    \n",
    "    # Select age arr\n",
    "    age_arr = age_by_state[state]\n",
    "    \n",
    "    # Calculate State age sample size\n",
    "    age_length = len(age_arr)\n",
    "    \n",
    "    # Select State row in state_pop\n",
    "    state_row = state_pop[state_pop['State'] == state]\n",
    "    \n",
    "    # Calculate 10% state_pop State populations in 2010 and 2015\n",
    "    #2010\n",
    "    ten_percent_2010 = round(float(state_row['Population 2010'])**0.1, 2)\n",
    "    #2015\n",
    "    ten_percent_2015 = round(float(state_row['Population 2015'])**0.1, 2)\n",
    "    \n",
    "### OVER ESTIMATION - If Women are only 30% of Population ###\n",
    "    \n",
    "    # Calculate 10% of 30% of state_pop State populations in 2010 and 2015\n",
    "    #2010\n",
    "    state_10_30 = round(float(state_row['Population 2010'])**0.3, 2)\n",
    "    ten_percent_10_30 = round(state_10_30**0.1,2)\n",
    "    #2015\n",
    "    state_15_30 = round(float(state_row['Population 2015'])**0.3, 2)\n",
    "    ten_percent_15_30 = round(state_10_30**0.1,2)\n",
    "        \n",
    "    # Set condition: Compare age_length to 10% State populations in 2010 and 2015\n",
    "    if age_length > ten_percent_2010 and age_length > ten_percent_2015:\n",
    "        print('Accept Independence: ', state)\n",
    "    else: \n",
    "        print('REJECT: ', state)\n",
    "    \n",
    "    if age_length > ten_percent_10_30 and ten_percent_10_30:\n",
    "         print('Accept Independence - Over-Estimation: ', state)\n",
    "    else: \n",
    "        print('REJECT - Over-Estimation: ', state)"
   ]
  },
  {
   "cell_type": "markdown",
   "metadata": {},
   "source": [
    "**Independence Conclusion**: Since the dataset for the incidence of maternal mortality within each Mexican States/Region is less than 10% of the recorded populations of each State in both 2010 and 2015, each data point can be treated as an independent variable. **Independence is Accepted**"
   ]
  },
  {
   "cell_type": "markdown",
   "metadata": {},
   "source": [
    "#### 2. Samples must be Normally Distributed"
   ]
  },
  {
   "cell_type": "markdown",
   "metadata": {},
   "source": [
    "Within the SciPy module of python 3, there is a normalcy function that tests the null hypothesis that a sample comes from a normal distribution. It is based on **D’Agostino** and **Pearson’s test** that combines skew and kurtosis to test of normality. This function be used to further determine if the distribution of each Province sample population is normally distributed."
   ]
  },
  {
   "cell_type": "code",
   "execution_count": 56,
   "metadata": {},
   "outputs": [
    {
     "name": "stdout",
     "output_type": "stream",
     "text": [
      "p = 8.92987e-06\n",
      "n = 127\n",
      "Aguascalientes IS normally distributed.\n",
      "p = 9.69442e-10\n",
      "n = 361\n",
      "Baja California IS normally distributed.\n",
      "p = 0.00564503\n",
      "n = 66\n",
      "Baja California Sur IS normally distributed.\n",
      "p = 0.00137276\n",
      "n = 126\n",
      "Campeche IS normally distributed.\n",
      "p = 1.03976e-37\n",
      "n = 1235\n",
      "Chiapas IS normally distributed.\n",
      "p = 8.42917e-19\n",
      "n = 628\n",
      "Chihuahua IS normally distributed.\n",
      "p = 1.6423e-09\n",
      "n = 310\n",
      "Coahuila de Zaragoza IS normally distributed.\n",
      "p = 0.788087\n",
      "n = 49\n",
      "Colima *IS NOT* normally distributed.\n",
      "p = 2.13913e-21\n",
      "n = 1082\n",
      "Distrito Federal IS normally distributed.\n",
      "p = 8.83805e-06\n",
      "n = 263\n",
      "Durango IS normally distributed.\n",
      "p = 6.25818e-14\n",
      "n = 707\n",
      "Guanajuato IS normally distributed.\n",
      "p = 6.26788e-20\n",
      "n = 977\n",
      "Guerrero IS normally distributed.\n",
      "p = 1.22187e-06\n",
      "n = 428\n",
      "Hidalgo IS normally distributed.\n",
      "p = 3.85647e-24\n",
      "n = 802\n",
      "Jalisco IS normally distributed.\n",
      "p = 3.0739e-14\n",
      "n = 654\n",
      "Michoacán de Ocampo IS normally distributed.\n",
      "p = 1.07763e-05\n",
      "n = 243\n",
      "Morelos IS normally distributed.\n",
      "p = 1.9078e-37\n",
      "n = 2299\n",
      "México IS normally distributed.\n",
      "p = 0.00736818\n",
      "n = 164\n",
      "Nayarit IS normally distributed.\n",
      "p = 5.47165e-05\n",
      "n = 323\n",
      "Nuevo León IS normally distributed.\n",
      "p = 8.38578e-16\n",
      "n = 874\n",
      "Oaxaca IS normally distributed.\n",
      "p = 1.30332e-29\n",
      "n = 990\n",
      "Puebla IS normally distributed.\n",
      "p = 0.000162015\n",
      "n = 227\n",
      "Querétaro Arteaga IS normally distributed.\n",
      "p = 0.133082\n",
      "n = 190\n",
      "Quintana Roo *IS NOT* normally distributed.\n",
      "p = 0.00022599\n",
      "n = 375\n",
      "San Luis Potosí IS normally distributed.\n",
      "p = 0.00551234\n",
      "n = 270\n",
      "Sinaloa IS normally distributed.\n",
      "p = 4.5582e-05\n",
      "n = 303\n",
      "Sonora IS normally distributed.\n",
      "p = 6.95067e-06\n",
      "n = 315\n",
      "Tabasco IS normally distributed.\n",
      "p = 0.000130459\n",
      "n = 377\n",
      "Tamaulipas IS normally distributed.\n",
      "p = 0.000375517\n",
      "n = 178\n",
      "Tlaxcala IS normally distributed.\n",
      "p = 1.47213e-39\n",
      "n = 1239\n",
      "Veracruz de Ignacio de la Llave IS normally distributed.\n",
      "p = 9.32947e-09\n",
      "n = 258\n",
      "Yucatán IS normally distributed.\n",
      "p = 4.93191e-05\n",
      "n = 191\n",
      "Zacatecas IS normally distributed.\n"
     ]
    }
   ],
   "source": [
    "# Create a variable to hold list of Regions with normally-distributed sample sizes\n",
    "norm_distr_regions = []\n",
    "\n",
    "# Create a variable to hold list of Regions without normally-distributed sample sizes\n",
    "not_norm_distr_regions = []\n",
    "\n",
    "# Determine if each Province has a normally distributed sample population of ages\n",
    "\n",
    "for region in age_by_state:\n",
    "    \"\"\"Determine if Region Age Distribution is Normal\"\"\"\n",
    "    \n",
    "    # Select age array by Region key in database\n",
    "    region_name = str(region)\n",
    "    arr = age_by_state[region_name]\n",
    "    \n",
    "    # Skewtest (k2) is not valid with less than 8 samples\n",
    "    if len(arr) > 8:\n",
    "        \n",
    "        # Test for normalcy of distribution (with Skewtest)   \n",
    "        k2, p = stats.normaltest(arr)\n",
    "\n",
    "        # Set significance level to 95% confidence\n",
    "        alpha = 0.05\n",
    "        print(\"p = {:g}\".format(p))\n",
    "        print(\"n = \" + str(len(arr)))\n",
    "\n",
    "        # Print result for each region normalcy test\n",
    "        if p < alpha:  # null hypothesis: x comes from a normal distribution\n",
    "            print(str(region)+ \" IS normally distributed.\")\n",
    "            \n",
    "            # Add region to list of regions for statistical analysis\n",
    "            norm_distr_regions.append(region_name)\n",
    "            \n",
    "        else:\n",
    "            print(str(region)+ \" *IS NOT* normally distributed.\")\n",
    "              \n",
    "            # Add region to list of regions NOT for statistical analysis\n",
    "            not_norm_distr_regions.append(region_name)\n",
    "                \n",
    "    else: \n",
    "        print(str(region)+ \" *sample size is too small*\")\n",
    "        \n",
    "        # Add region to list of regions NOT for statistical analysis\n",
    "        not_norm_distr_regions.append(region_name)"
   ]
  },
  {
   "cell_type": "code",
   "execution_count": 57,
   "metadata": {},
   "outputs": [
    {
     "name": "stdout",
     "output_type": "stream",
     "text": [
      "Not Normally Distributed:  ['Colima', 'Quintana Roo']\n"
     ]
    }
   ],
   "source": [
    "print('Not Normally Distributed: ', list(np.unique(not_norm_distr_regions)))"
   ]
  },
  {
   "cell_type": "markdown",
   "metadata": {},
   "source": [
    "**Normalcy Conclusion**: After assessing the distribution of age of maternal death within each Province of Mexico, **all Province sample populations are considered to be normally distributed** *aside from* Colima (p-value: 2.13913e-21, n=1082) Quintana Roo (p-value: 0.00022599, n=375), which were found to *not be normally distributed*. \n",
    "\n",
    "However, under the Central Limit Theorem (CLT), the sampling distribution of the sample means approaches a normal distribution as the sample size ( n ) gets larger - regardless of what the shape of the population distribution. Under this theorem,  n>30  is considered a large sample size. *Since the current database sample size (n) of Colima and Quintana Roo of 1082 and 375, respectively, justify CLT being assumed.* "
   ]
  },
  {
   "cell_type": "markdown",
   "metadata": {},
   "source": [
    "#### 3. Homogeneity of Variance: All comparison groups have the same variance with Barlett's Test.\n",
    "- Bartlett’s test tests the null hypothesis that all input samples are from populations with equal variances for samples from significantly normal population distributions. \n",
    "- *Extra Analysis*: Calculate the standard deviation and variance of each population"
   ]
  },
  {
   "cell_type": "markdown",
   "metadata": {},
   "source": [
    "#### Bartlett’s Test for Homogeneity of Variance\n",
    "$H$o: All region age of maternal mortality populations have equal variance. <br>  $v$1 = $v$2 = $v$3 = .... = $v$32\n",
    "\n",
    "$H$a: There is at least one region age of maternal mortality population variance is statistically different from the rest. <br> $v$1 ≠ $v$2 = .... = $v$32\n",
    "\n",
    "Significance Level: *95%* Confidence. <br> $α$ = 0.05"
   ]
  },
  {
   "cell_type": "code",
   "execution_count": 58,
   "metadata": {},
   "outputs": [
    {
     "name": "stdout",
     "output_type": "stream",
     "text": [
      "BartlettResult(statistic=1.5499938218119378, pvalue=0.2131363529440692)\n",
      "BartlettResult(statistic=0.0026360082272445526, pvalue=0.959052944694013)\n"
     ]
    }
   ],
   "source": [
    "# Calculate the age variance per region - This section has test trials per entry to help formulate an iteration function\n",
    "\n",
    "# Aquascalientes and Baja California\n",
    "print(stats.bartlett(age_by_state['Aguascalientes'], age_by_state['Baja California']))\n",
    "\n",
    "# Aquascalientes and Baja California Sur\n",
    "print(stats.bartlett(age_by_state['Aguascalientes'], age_by_state['Baja California Sur']))"
   ]
  },
  {
   "cell_type": "markdown",
   "metadata": {},
   "source": [
    "*Preliminary* **Conclusion for Homogeneity of Variance**: Even before calculating all Bartlett results between region populations, it is evident that not all regions have the same variance. Therefore, **the null hypothesis is rejected: there is at least one region age of maternal mortality with a population variance statistically different from the rest**. Luckily, the proof for ANOVA test is robust, so slight variations from its proof criteria are  OK (source: https://faculty.elgin.edu/dkernler/statistics/ch13/13-1.html). As a good rule of thumb, *as long as the largest variance is no more than double the smallest, we can assume ANOVA's requirement for Homogeneity of Variance is satisfied.*"
   ]
  },
  {
   "cell_type": "markdown",
   "metadata": {},
   "source": [
    "#### Evaluate the differences between the largest and smallest Region variances in Mexico."
   ]
  },
  {
   "cell_type": "code",
   "execution_count": 59,
   "metadata": {},
   "outputs": [
    {
     "name": "stdout",
     "output_type": "stream",
     "text": [
      "Aguas 55.16014632029264\n",
      "Baja Cal 46.31196814020764\n"
     ]
    }
   ],
   "source": [
    "# Calculate the age standard deviation and variance per region - \n",
    "# This section has test trials per entry to help formulate an iteration function\n",
    "\n",
    "aguas = materna[materna['Residence Code'] == 1 ]\n",
    "aguas = aguas[['Residence Code', 'Age at Death']]\n",
    "aguas_var = statistics.pvariance(aguas['Age at Death'])\n",
    "\n",
    "print('Aguas', aguas_var)\n",
    "\n",
    "baja = materna[materna['Residence Code'] == 2 ]\n",
    "baja = baja[['Residence Code', 'Age at Death']]\n",
    "baja_var = statistics.pvariance(baja['Age at Death'])\n",
    "\n",
    "print('Baja Cal', baja_var)"
   ]
  },
  {
   "cell_type": "code",
   "execution_count": 60,
   "metadata": {},
   "outputs": [],
   "source": [
    "# Create an empty list to store age of maternal death variance per region\n",
    "region_var = []\n",
    "\n",
    "# Create an iteration function\n",
    "for i in materna['Residence Code'].sort_values().unique():\n",
    "    \"\"\"Calculate Age Standard Deviation and Age Variance per Region\"\"\"\n",
    "    \n",
    "    #select one region\n",
    "    sub_df = materna[materna['Residence Code'] == i]\n",
    "    age = list(sub_df['Age at Death'])\n",
    "    \n",
    "    # calculate age variance of region population with pstdev()\n",
    "    var = statistics.pvariance(age)\n",
    "    \n",
    "    # prevent repeat entries in lists\n",
    "    for region in sub_df['Residence Name'].unique():\n",
    "   \n",
    "        # append var to region list\n",
    "        region_var.append(round(var, 2)) "
   ]
  },
  {
   "cell_type": "code",
   "execution_count": 61,
   "metadata": {},
   "outputs": [
    {
     "data": {
      "text/html": [
       "<div>\n",
       "<style scoped>\n",
       "    .dataframe tbody tr th:only-of-type {\n",
       "        vertical-align: middle;\n",
       "    }\n",
       "\n",
       "    .dataframe tbody tr th {\n",
       "        vertical-align: top;\n",
       "    }\n",
       "\n",
       "    .dataframe thead th {\n",
       "        text-align: right;\n",
       "    }\n",
       "</style>\n",
       "<table border=\"1\" class=\"dataframe\">\n",
       "  <thead>\n",
       "    <tr style=\"text-align: right;\">\n",
       "      <th></th>\n",
       "      <th>Region</th>\n",
       "      <th>μ Age Maternal Mortality</th>\n",
       "      <th>Region (n)</th>\n",
       "      <th>μ Age Variance</th>\n",
       "    </tr>\n",
       "  </thead>\n",
       "  <tbody>\n",
       "    <tr>\n",
       "      <th>1</th>\n",
       "      <td>Aguascalientes</td>\n",
       "      <td>28.36</td>\n",
       "      <td>127.0</td>\n",
       "      <td>55.16</td>\n",
       "    </tr>\n",
       "    <tr>\n",
       "      <th>2</th>\n",
       "      <td>Baja California</td>\n",
       "      <td>27.15</td>\n",
       "      <td>361.0</td>\n",
       "      <td>46.31</td>\n",
       "    </tr>\n",
       "    <tr>\n",
       "      <th>3</th>\n",
       "      <td>Baja California Sur</td>\n",
       "      <td>27.56</td>\n",
       "      <td>66.0</td>\n",
       "      <td>55.37</td>\n",
       "    </tr>\n",
       "    <tr>\n",
       "      <th>4</th>\n",
       "      <td>Campeche</td>\n",
       "      <td>26.87</td>\n",
       "      <td>126.0</td>\n",
       "      <td>44.29</td>\n",
       "    </tr>\n",
       "    <tr>\n",
       "      <th>5</th>\n",
       "      <td>Chiapas</td>\n",
       "      <td>28.02</td>\n",
       "      <td>310.0</td>\n",
       "      <td>45.02</td>\n",
       "    </tr>\n",
       "  </tbody>\n",
       "</table>\n",
       "</div>"
      ],
      "text/plain": [
       "                Region  μ Age Maternal Mortality  Region (n)  μ Age Variance\n",
       "1       Aguascalientes                     28.36       127.0           55.16\n",
       "2      Baja California                     27.15       361.0           46.31\n",
       "3  Baja California Sur                     27.56        66.0           55.37\n",
       "4             Campeche                     26.87       126.0           44.29\n",
       "5              Chiapas                     28.02       310.0           45.02"
      ]
     },
     "execution_count": 61,
     "metadata": {},
     "output_type": "execute_result"
    }
   ],
   "source": [
    "# Convert the list to a Series and add as new column\n",
    "res_dataset['μ Age Variance'] = pd.Series(region_var, index=np.arange(1,33))\n",
    "res_dataset.head()"
   ]
  },
  {
   "cell_type": "code",
   "execution_count": 62,
   "metadata": {},
   "outputs": [
    {
     "name": "stdout",
     "output_type": "stream",
     "text": [
      "Test Results - Aguas 55.16\n",
      "Function Results - Aguas 55.16\n"
     ]
    }
   ],
   "source": [
    "# Test output - Make sure it matches Test Results\n",
    "print('Test Results - Aguas', round(aguas_var,2))\n",
    "print('Function Results - Aguas', region_var[0])"
   ]
  },
  {
   "cell_type": "code",
   "execution_count": 63,
   "metadata": {},
   "outputs": [
    {
     "name": "stdout",
     "output_type": "stream",
     "text": [
      "Max Variance:  61.58\n",
      "Min Variance:  40.12\n",
      "Double Min Variance:  80.24\n",
      "Accept ANOVA: The max variance is less than double the min variance.\n"
     ]
    }
   ],
   "source": [
    "# Create variables for minimum and maximum variation values in res_dataset\n",
    "max_variance = res_dataset['μ Age Variance'].max()\n",
    "print('Max Variance: ', max_variance)\n",
    "\n",
    "min_variance = res_dataset['μ Age Variance'].min()\n",
    "print('Min Variance: ', min_variance)\n",
    "print('Double Min Variance: ', min_variance*2)\n",
    "\n",
    "# Check if largest variance is more than double the smallest\n",
    "if (2*min_variance) >= max_variance:\n",
    "    print('Accept ANOVA: The max variance is less than double the min variance.')\n",
    "else: \n",
    "    print('Reject ANOVA: The max variance is more than double the min variance.')"
   ]
  },
  {
   "cell_type": "markdown",
   "metadata": {},
   "source": [
    "**Final Conclusion for Homogeneity of Variance**: Since the maximum variance within the dataset (61.68) is less than double the minimum variance within the dataset (40.12, whichs doubles to 80.24), we can assume ANOVA's requirement for Homogeneity of Variance is satisfied."
   ]
  },
  {
   "cell_type": "markdown",
   "metadata": {},
   "source": [
    "## Calculate One-Way Analysis of Variance\n",
    "\n",
    "$H$o: All mean age of death of maternal women within all Province of Mexico are statistically similar. <br>  $μ$1 = $μ$2 = $μ$3 = .... = $μ$32\n",
    "\n",
    "$H$a: There is at least one mean age of death of maternal women within a Province of Mexico that is statistically different from the rest. <br> $μ$1 ≠ $μ$2 = .... = $μ$32\n",
    "\n",
    "Significance Level: *95%* Confidence. <br> $α$ = 0.05"
   ]
  },
  {
   "cell_type": "code",
   "execution_count": 64,
   "metadata": {},
   "outputs": [
    {
     "name": "stdout",
     "output_type": "stream",
     "text": [
      "Number of Conditions(k):  32\n",
      "Number of Conditions times Data Points(N):  16631\n",
      "Number of Participants in Each Condition(n):  127\n"
     ]
    }
   ],
   "source": [
    "# Define the number of conditions (k) based on Region/State\n",
    "k = len(pd.unique(materna['Residence Name']))\n",
    "print('Number of Conditions(k): ', k)\n",
    "\n",
    "# Calculate the conditions times data points (N)\n",
    "N = len(materna.values)\n",
    "print('Number of Conditions times Data Points(N): ', N)\n",
    "\n",
    "# Participants in each condition\n",
    "n = materna.groupby('Residence Name').size()[0] \n",
    "print('Number of Participants in Each Condition(n): ', n)"
   ]
  },
  {
   "cell_type": "markdown",
   "metadata": {},
   "source": [
    "#### Visualize the Data"
   ]
  },
  {
   "cell_type": "code",
   "execution_count": 65,
   "metadata": {},
   "outputs": [
    {
     "data": {
      "image/png": "[encoded data removed]",
      "text/plain": [
       "<Figure size 864x576 with 1 Axes>"
      ]
     },
     "metadata": {
      "needs_background": "light"
     },
     "output_type": "display_data"
    }
   ],
   "source": [
    "#Create a boxplot\n",
    "materna.boxplot('Age at Death', by='Residence Name', figsize=(12, 8))\n",
    "plt.xticks(rotation='vertical')\n",
    "\n",
    "#Create a dict variable for key:value pairs of state:age_array\n",
    "grps = pd.unique(materna['Residence Name'].values)\n",
    "state_mean_ages = {grp:materna['Age at Death'][materna['Residence Name'] == grp] for grp in grps}"
   ]
  },
  {
   "cell_type": "markdown",
   "metadata": {},
   "source": [
    "#### Calculate the ANOVA F- value and p-value using stats module"
   ]
  },
  {
   "cell_type": "code",
   "execution_count": 66,
   "metadata": {},
   "outputs": [
    {
     "name": "stdout",
     "output_type": "stream",
     "text": [
      "ANOVA F-value:  3.9898710094367247\n",
      "ANOVA p-value:  5.792391015154357e-13\n",
      "alpha level: 0.05\n"
     ]
    }
   ],
   "source": [
    "F, p = stats.f_oneway(state_mean_ages['Aguascalientes'], \n",
    "                      state_mean_ages['Baja California'], \n",
    "                      state_mean_ages['Baja California Sur'],\n",
    "                      state_mean_ages['Campeche'],\n",
    "                      state_mean_ages['Chiapas'],\n",
    "                      state_mean_ages['Chihuahua'],\n",
    "                      state_mean_ages['Coahuila de Zaragoza'],\n",
    "                      state_mean_ages['Colima'],\n",
    "                      state_mean_ages['Distrito Federal'],\n",
    "                      state_mean_ages['Durango'],\n",
    "                      state_mean_ages['Guanajuato'],\n",
    "                      state_mean_ages['Guerrero'],\n",
    "                      state_mean_ages['Hidalgo'],\n",
    "                      state_mean_ages['Jalisco'],\n",
    "                      state_mean_ages['Michoacán de Ocampo'],\n",
    "                      state_mean_ages['Morelos'],\n",
    "                      state_mean_ages['México'],\n",
    "                      state_mean_ages['Nayarit'],\n",
    "                      state_mean_ages['Nuevo León'],\n",
    "                      state_mean_ages['Oaxaca'],\n",
    "                      state_mean_ages['Puebla'],\n",
    "                      state_mean_ages['Querétaro Arteaga'],\n",
    "                      state_mean_ages['Quintana Roo'],\n",
    "                      state_mean_ages['San Luis Potosí'],\n",
    "                      state_mean_ages['Sinaloa'],\n",
    "                      state_mean_ages['Sonora'],\n",
    "                      state_mean_ages['Tabasco'],\n",
    "                      state_mean_ages['Tamaulipas'],\n",
    "                      state_mean_ages['Tlaxcala'],\n",
    "                      state_mean_ages['Veracruz de Ignacio de la Llave'],\n",
    "                      state_mean_ages['Yucatán'],\n",
    "                      state_mean_ages['Zacatecas'])\n",
    "\n",
    "print('ANOVA F-value: ', str(F))\n",
    "print('ANOVA p-value: ', str(p))\n",
    "print('alpha level: 0.05')"
   ]
  },
  {
   "cell_type": "markdown",
   "metadata": {},
   "source": [
    "**ANOVA Conclusion**: ANOVA was performed using a confidence level of 95%. The resulting p-value was 5.79x10-13, which is substantially smaller than α = 0.05. Thus, **the null hypothesis is rejected: the differences in mean age of maternal mortality across the regions in Mexico are statistically different**. Since adolescent maternal mortality is one of the key factors that lowers the mean age per region, it would be beneficial to calculate the mean age adolescent maternal mortality in preparation for the machine learning assessment of mean maternal age of mortality."
   ]
  },
  {
   "cell_type": "markdown",
   "metadata": {},
   "source": [
    "## Question 3: Since the Differences of Means Maternal is Statistically Significant, how do the Region Mean Ages Compare to the Mexico's National Mean Age Maternal Mortality?  \n",
    "**Create Binary Columns**: \n",
    "\n",
    "μ Age \n",
    "- 0 : Region μ Age Maternal Mortality is *greater than or equal to* the population mean\n",
    "- 1 : Region μ Age Maternal Mortality is *less than* the population mean"
   ]
  },
  {
   "cell_type": "code",
   "execution_count": 67,
   "metadata": {},
   "outputs": [
    {
     "name": "stdout",
     "output_type": "stream",
     "text": [
      "The population mean is:  28.36\n"
     ]
    }
   ],
   "source": [
    "print('The population mean is: ', round(mean_age, 2))"
   ]
  },
  {
   "cell_type": "code",
   "execution_count": 68,
   "metadata": {},
   "outputs": [],
   "source": [
    "# Create a dictionary item to hold comparison response\n",
    "binary_mean = []\n",
    "\n",
    "# Create an iteration function to compare region mean to popupation mean\n",
    "for mean in res_dataset['μ Age Maternal Mortality']:\n",
    "    \n",
    "    #test for mean\n",
    "    if mean >= mean_age:\n",
    "        binary_mean.append(0)\n",
    "    else:\n",
    "        binary_mean.append(1)"
   ]
  },
  {
   "cell_type": "code",
   "execution_count": 69,
   "metadata": {},
   "outputs": [],
   "source": [
    "# Test output\n",
    "#binary_mean"
   ]
  },
  {
   "cell_type": "code",
   "execution_count": 70,
   "metadata": {},
   "outputs": [
    {
     "data": {
      "text/html": [
       "<div>\n",
       "<style scoped>\n",
       "    .dataframe tbody tr th:only-of-type {\n",
       "        vertical-align: middle;\n",
       "    }\n",
       "\n",
       "    .dataframe tbody tr th {\n",
       "        vertical-align: top;\n",
       "    }\n",
       "\n",
       "    .dataframe thead th {\n",
       "        text-align: right;\n",
       "    }\n",
       "</style>\n",
       "<table border=\"1\" class=\"dataframe\">\n",
       "  <thead>\n",
       "    <tr style=\"text-align: right;\">\n",
       "      <th></th>\n",
       "      <th>Region</th>\n",
       "      <th>μ Age Maternal Mortality</th>\n",
       "      <th>Region (n)</th>\n",
       "      <th>μ Age Variance</th>\n",
       "      <th>Above(0) or Below(1) Average</th>\n",
       "    </tr>\n",
       "  </thead>\n",
       "  <tbody>\n",
       "    <tr>\n",
       "      <th>1</th>\n",
       "      <td>Aguascalientes</td>\n",
       "      <td>28.36</td>\n",
       "      <td>127.0</td>\n",
       "      <td>55.16</td>\n",
       "      <td>0</td>\n",
       "    </tr>\n",
       "    <tr>\n",
       "      <th>2</th>\n",
       "      <td>Baja California</td>\n",
       "      <td>27.15</td>\n",
       "      <td>361.0</td>\n",
       "      <td>46.31</td>\n",
       "      <td>1</td>\n",
       "    </tr>\n",
       "    <tr>\n",
       "      <th>3</th>\n",
       "      <td>Baja California Sur</td>\n",
       "      <td>27.56</td>\n",
       "      <td>66.0</td>\n",
       "      <td>55.37</td>\n",
       "      <td>1</td>\n",
       "    </tr>\n",
       "    <tr>\n",
       "      <th>4</th>\n",
       "      <td>Campeche</td>\n",
       "      <td>26.87</td>\n",
       "      <td>126.0</td>\n",
       "      <td>44.29</td>\n",
       "      <td>1</td>\n",
       "    </tr>\n",
       "    <tr>\n",
       "      <th>5</th>\n",
       "      <td>Chiapas</td>\n",
       "      <td>28.02</td>\n",
       "      <td>310.0</td>\n",
       "      <td>45.02</td>\n",
       "      <td>1</td>\n",
       "    </tr>\n",
       "  </tbody>\n",
       "</table>\n",
       "</div>"
      ],
      "text/plain": [
       "                Region  μ Age Maternal Mortality  Region (n)  μ Age Variance  \\\n",
       "1       Aguascalientes                     28.36       127.0           55.16   \n",
       "2      Baja California                     27.15       361.0           46.31   \n",
       "3  Baja California Sur                     27.56        66.0           55.37   \n",
       "4             Campeche                     26.87       126.0           44.29   \n",
       "5              Chiapas                     28.02       310.0           45.02   \n",
       "\n",
       "   Above(0) or Below(1) Average  \n",
       "1                             0  \n",
       "2                             1  \n",
       "3                             1  \n",
       "4                             1  \n",
       "5                             1  "
      ]
     },
     "execution_count": 70,
     "metadata": {},
     "output_type": "execute_result"
    }
   ],
   "source": [
    "# Convert the list to a Series and add as new column\n",
    "res_dataset['Above(0) or Below(1) Average'] = pd.Series(binary_mean, index=np.arange(1,33))\n",
    "res_dataset.head()"
   ]
  },
  {
   "cell_type": "markdown",
   "metadata": {},
   "source": [
    "#### Visualize Data"
   ]
  },
  {
   "cell_type": "code",
   "execution_count": 71,
   "metadata": {},
   "outputs": [
    {
     "data": {
      "text/plain": [
       "Text(0.5,1,'Mean Age Maternal Mortality in Each Providence of Mexico')"
      ]
     },
     "execution_count": 71,
     "metadata": {},
     "output_type": "execute_result"
    },
    {
     "data": {
      "image/png": "[encoded data removed]",
      "text/plain": [
       "<Figure size 1152x288 with 1 Axes>"
      ]
     },
     "metadata": {
      "needs_background": "light"
     },
     "output_type": "display_data"
    }
   ],
   "source": [
    "# Create a bar graph to show mean age maternal death by region\n",
    "fig, ax = plt.subplots(figsize=(16, 4))\n",
    "plt.grid(True)\n",
    "fig.subplots_adjust(bottom=0.2)\n",
    "sns.countplot(res_dataset['Above(0) or Below(1) Average'])\n",
    "\n",
    "# Label axis \n",
    "pl.title('Mean Age Maternal Mortality in Each Providence of Mexico')"
   ]
  },
  {
   "cell_type": "code",
   "execution_count": 72,
   "metadata": {},
   "outputs": [
    {
     "data": {
      "text/plain": [
       "20"
      ]
     },
     "execution_count": 72,
     "metadata": {},
     "output_type": "execute_result"
    }
   ],
   "source": [
    "# List Regions with a mean maternal mortality lower than population mean\n",
    "len(res_dataset[res_dataset['Above(0) or Below(1) Average'] == 1])"
   ]
  },
  {
   "cell_type": "markdown",
   "metadata": {},
   "source": [
    "*Preliminary Assessment*: It appears that more than half of Mexico's Regions (20 of 32) have a lower mean age of maternal mortality than the remaining 12. What are the major differences between these regions? "
   ]
  },
  {
   "cell_type": "markdown",
   "metadata": {},
   "source": [
    "## Question 4: Since the Differences of Means Maternal is Statistically Significant, how do the Region Mean Ages Compare to the Mexico's National Mean Age Maternal Mortality?  \n",
    "- The World Health Organization (WHO) states that an upwards of 13 million *adolescent girls (ages under 20)* give birth every year, and complications from those pregnancies and childbirth are a leading cause of death for those young mothers. "
   ]
  },
  {
   "cell_type": "markdown",
   "metadata": {},
   "source": [
    "#### Create a subdf for adolescent maternal mortality within the datase"
   ]
  },
  {
   "cell_type": "code",
   "execution_count": 73,
   "metadata": {},
   "outputs": [
    {
     "data": {
      "text/html": [
       "<div>\n",
       "<style scoped>\n",
       "    .dataframe tbody tr th:only-of-type {\n",
       "        vertical-align: middle;\n",
       "    }\n",
       "\n",
       "    .dataframe tbody tr th {\n",
       "        vertical-align: top;\n",
       "    }\n",
       "\n",
       "    .dataframe thead th {\n",
       "        text-align: right;\n",
       "    }\n",
       "</style>\n",
       "<table border=\"1\" class=\"dataframe\">\n",
       "  <thead>\n",
       "    <tr style=\"text-align: right;\">\n",
       "      <th></th>\n",
       "      <th>Residence Code</th>\n",
       "      <th>Residence Name</th>\n",
       "      <th>Local Community Size</th>\n",
       "      <th>Education Completed</th>\n",
       "      <th>Age at Death</th>\n",
       "      <th>Received(0)/Not(1) Medical Assistance</th>\n",
       "    </tr>\n",
       "  </thead>\n",
       "  <tbody>\n",
       "    <tr>\n",
       "      <th>0</th>\n",
       "      <td>7</td>\n",
       "      <td>Chiapas</td>\n",
       "      <td>1 a 999            habitantes</td>\n",
       "      <td>2</td>\n",
       "      <td>11</td>\n",
       "      <td>0.0</td>\n",
       "    </tr>\n",
       "    <tr>\n",
       "      <th>1</th>\n",
       "      <td>30</td>\n",
       "      <td>Veracruz de Ignacio de la Llave</td>\n",
       "      <td>50000 a 74999   habitantes</td>\n",
       "      <td>3</td>\n",
       "      <td>12</td>\n",
       "      <td>0.0</td>\n",
       "    </tr>\n",
       "    <tr>\n",
       "      <th>2</th>\n",
       "      <td>27</td>\n",
       "      <td>Tabasco</td>\n",
       "      <td>250000 a 499999 habitantes</td>\n",
       "      <td>4</td>\n",
       "      <td>12</td>\n",
       "      <td>0.0</td>\n",
       "    </tr>\n",
       "    <tr>\n",
       "      <th>3</th>\n",
       "      <td>15</td>\n",
       "      <td>México</td>\n",
       "      <td>2500 a 4999    habitantes</td>\n",
       "      <td>5</td>\n",
       "      <td>12</td>\n",
       "      <td>0.0</td>\n",
       "    </tr>\n",
       "    <tr>\n",
       "      <th>4</th>\n",
       "      <td>12</td>\n",
       "      <td>Guerrero</td>\n",
       "      <td>2500 a 4999    habitantes</td>\n",
       "      <td>2</td>\n",
       "      <td>12</td>\n",
       "      <td>1.0</td>\n",
       "    </tr>\n",
       "  </tbody>\n",
       "</table>\n",
       "</div>"
      ],
      "text/plain": [
       "   Residence Code                   Residence Name  \\\n",
       "0               7                          Chiapas   \n",
       "1              30  Veracruz de Ignacio de la Llave   \n",
       "2              27                          Tabasco   \n",
       "3              15                           México   \n",
       "4              12                         Guerrero   \n",
       "\n",
       "            Local Community Size  Education Completed  Age at Death  \\\n",
       "0  1 a 999            habitantes                    2            11   \n",
       "1     50000 a 74999   habitantes                    3            12   \n",
       "2     250000 a 499999 habitantes                    4            12   \n",
       "3      2500 a 4999    habitantes                    5            12   \n",
       "4      2500 a 4999    habitantes                    2            12   \n",
       "\n",
       "   Received(0)/Not(1) Medical Assistance  \n",
       "0                                    0.0  \n",
       "1                                    0.0  \n",
       "2                                    0.0  \n",
       "3                                    0.0  \n",
       "4                                    1.0  "
      ]
     },
     "execution_count": 73,
     "metadata": {},
     "output_type": "execute_result"
    }
   ],
   "source": [
    "adolescent_matern_mortality = materna[materna['Age at Death'] <= 20 ]\n",
    "adolescent_matern_mortality.head()"
   ]
  },
  {
   "cell_type": "markdown",
   "metadata": {},
   "source": [
    "#### Create variables for age distribution by region"
   ]
  },
  {
   "cell_type": "code",
   "execution_count": 74,
   "metadata": {},
   "outputs": [
    {
     "data": {
      "text/plain": [
       "2885"
      ]
     },
     "execution_count": 74,
     "metadata": {},
     "output_type": "execute_result"
    }
   ],
   "source": [
    "# Create a variable for adolescent_ages_maternal_mortality\n",
    "adolescent_ages = adolescent_matern_mortality['Age at Death']\n",
    "\n",
    "# Create a variable for adolsecent_sample_size\n",
    "adolsecent_sample_size = len(adolescent_ages)\n",
    "adolsecent_sample_size"
   ]
  },
  {
   "cell_type": "markdown",
   "metadata": {},
   "source": [
    "#### Visualize the Spread of the Data"
   ]
  },
  {
   "cell_type": "code",
   "execution_count": 75,
   "metadata": {},
   "outputs": [
    {
     "data": {
      "image/png": "[encoded data removed]",
      "text/plain": [
       "<Figure size 432x288 with 2 Axes>"
      ]
     },
     "metadata": {
      "needs_background": "light"
     },
     "output_type": "display_data"
    },
    {
     "data": {
      "text/plain": [
       "'The sample(n=2885) population mean age of adolescent maternal mortality is 17.98 years old with a standard deviation of 1.71.'"
      ]
     },
     "execution_count": 75,
     "metadata": {},
     "output_type": "execute_result"
    }
   ],
   "source": [
    "# Create a figure with two plots\n",
    "fig, (boxplot, histogram) = plt.subplots(2, sharex=True, gridspec_kw={\"height_ratios\": (.15, .85)})\n",
    "\n",
    "# Add boxplot for maternal death\n",
    "sns.boxplot(adolescent_ages, ax=boxplot)\n",
    "\n",
    "# Remove x-axis label from boxplot\n",
    "boxplot.set(xlabel='')\n",
    "\n",
    "# Add histogram and normal curve for maternal death\n",
    "fit = stats.norm.pdf(adolescent_ages, np.mean(adolescent_ages), np.std(adolescent_ages))\n",
    "pl.plot(adolescent_ages, fit, '-o')\n",
    "pl.hist(adolescent_ages, density=True, alpha=0.5, bins=20)\n",
    "\n",
    "# Label axis \n",
    "pl.xlabel('Adolescent Ages of Maternal Mortality')\n",
    "pl.ylabel('Probability Density Function')\n",
    "pl.title('Adolescent Age Distribution of Maternal Mortality in Mexico')\n",
    "\n",
    "# Show plot and add print mean and std sample information\n",
    "plt.show()\n",
    "'The sample(n=' + str(adolsecent_sample_size) + ') population mean age of adolescent maternal mortality is ' + str(round(np.mean(adolescent_ages), 2)) + ' years old with a standard deviation of ' + str(round(np.std(adolescent_ages), 2)) + '.'"
   ]
  },
  {
   "cell_type": "markdown",
   "metadata": {},
   "source": [
    "*Preliminary Observation*: The distribution appears to have a skewed-right distributed based off of the histogram and boxplot of instance of adolescent maternal mortality. "
   ]
  },
  {
   "cell_type": "markdown",
   "metadata": {},
   "source": [
    "### Step 3: Inferential Statistics - Bootstrap Simulation: Compare the Sample Mean to a Statistically-Likely Population Mean\n",
    "\n",
    "#### Statistical Testing of Data Mean Adolescent Mortality\n",
    "\n",
    "$H$o: The mean adolescent age of maternal mortality in Mexico is equal to the mean adolescent age of maternal mortality presented in the dataset ($17.98 yoa$). <br>  Empirical Mean ($μ$) − Population Mean ($μ$) = 0\n",
    "\n",
    "$H$a: The mean adolescent age of maternal mortality in Mexico is *not* equal to the mean adolescent age of maternal mortality presented in the dataset ($17.98 yoa$). <br> Empirical Mean ($μ$) − Population Mean ($μ$) ≠ 0\n",
    "\n",
    "Significance Level: *95%* Confidence. <br> $α$ = 0.05"
   ]
  },
  {
   "cell_type": "markdown",
   "metadata": {},
   "source": [
    "#### Calculate adolescent mean age maternal morality"
   ]
  },
  {
   "cell_type": "code",
   "execution_count": 76,
   "metadata": {},
   "outputs": [
    {
     "name": "stdout",
     "output_type": "stream",
     "text": [
      "sample size:  2885\n",
      "sample mean age of death:  17.97677642980936\n",
      "sample standard deviation:  1.7061774866900203\n"
     ]
    }
   ],
   "source": [
    "# Create variables for sample statistical information\n",
    "adolescent_ages_std = adolescent_ages.std()\n",
    "mean_adolescent_ages = adolescent_ages.mean()\n",
    "\n",
    "# Create an array of the sample mean that is equal to the boostrap array length\n",
    "adolescent_ages_arr = np.full(10000, mean_adolescent_ages)\n",
    "\n",
    "print('sample size: ', adolsecent_sample_size)\n",
    "print('sample mean age of death: ', mean_adolescent_ages)\n",
    "print('sample standard deviation: ', adolescent_ages_std)"
   ]
  },
  {
   "cell_type": "markdown",
   "metadata": {},
   "source": [
    "#### Create a 10,000 bootstrap replication with boostrap replicate functions"
   ]
  },
  {
   "cell_type": "code",
   "execution_count": 77,
   "metadata": {},
   "outputs": [
    {
     "name": "stdout",
     "output_type": "stream",
     "text": [
      "bootstrap mean adolescent age of death: 17.976516568457537\n"
     ]
    }
   ],
   "source": [
    "# Create 10000 bootstrap replicates of the mean and take the mean of the returned array\n",
    "boot_tenthousand =  draw_bs_reps(adolescent_ages, np.mean, size=10000)\n",
    "print('bootstrap mean adolescent age of death: ' + str(np.mean(boot_tenthousand)))"
   ]
  },
  {
   "cell_type": "markdown",
   "metadata": {},
   "source": [
    "#### Calculate the difference between the bootrap and sample means with p-value and standard deviation"
   ]
  },
  {
   "cell_type": "code",
   "execution_count": 78,
   "metadata": {},
   "outputs": [
    {
     "name": "stdout",
     "output_type": "stream",
     "text": [
      "p-value: 0.4990\n",
      "95% Confidence Interval: [17.9139  18.0397]\n"
     ]
    }
   ],
   "source": [
    "# Compute p-value\n",
    "p_val = np.sum(boot_tenthousand >= adolescent_ages_arr) / len(boot_tenthousand)\n",
    "print('p-value: {0:0.4f}'.format(p_val))\n",
    "\n",
    "# Calculate the standard margin of error for a 95% confidence interval\n",
    "conf_int_low = mean_adolescent_ages-(1.98*(adolescent_ages_std/math.sqrt(adolsecent_sample_size)))\n",
    "conf_int_high = mean_adolescent_ages+(1.98*(adolescent_ages_std/math.sqrt(adolsecent_sample_size)))\n",
    "print('95% Confidence Interval: [{0:0.4f}  {1:0.4f}]'.format(conf_int_low, conf_int_high))"
   ]
  },
  {
   "cell_type": "markdown",
   "metadata": {},
   "source": [
    "**Conclusion from the Bootstrap Hypothesis Test:** The resulting population mean of maternal death approximation based on 10,000 bootstrap replicate samples was *17.9765 years of age (yoa)*, which is close to the sample mean of *17.9767 (yoa)* from the dataset. Additionally, the bootstrap population mean is within the 95% Confidence Interval, *17.9139 to 18.0397 (yoa)* with a p-value of 0.4990, which is greater than α = 0.05. Therefore, the null hypothesis that the mean age of death of maternal women in Mexico is equal to the mean age of death presented in the dataset can be accepted. **$Ho$ is accepted**."
   ]
  },
  {
   "cell_type": "markdown",
   "metadata": {},
   "source": [
    "### Step 4: Exploratory Data Analysis of State Means\n",
    "\n",
    "#### Visualize the distribution of Mean Age of Adolsecent Maternal Death"
   ]
  },
  {
   "cell_type": "code",
   "execution_count": 79,
   "metadata": {},
   "outputs": [
    {
     "data": {
      "image/png": "[encoded data removed]",
      "text/plain": [
       "<Figure size 864x576 with 1 Axes>"
      ]
     },
     "metadata": {
      "needs_background": "light"
     },
     "output_type": "display_data"
    }
   ],
   "source": [
    "#Create a boxplot\n",
    "adolescent_matern_mortality.boxplot('Age at Death', by='Residence Name', figsize=(12, 8))\n",
    "plt.xticks(rotation='vertical')\n",
    "\n",
    "#Create a dict variable for key:value pairs of state:age_array\n",
    "grps = pd.unique(adolescent_matern_mortality['Residence Name'].values)\n",
    "state_mean_adolescent_ages = {grp:adolescent_matern_mortality['Age at Death'][adolescent_matern_mortality['Residence Name'] == grp] for grp in grps}"
   ]
  },
  {
   "cell_type": "markdown",
   "metadata": {},
   "source": [
    "*Preliminary Observations*: When visualizing the spread of adolescent maternal mortality by region, it appears there there are several regions with outliers of very young ages of maternal mortality. Since outliers not incorporated in the calculation of the mean, the adolescent age arrays should be added to the res_dataset and included in the Linear Regression analysis."
   ]
  },
  {
   "cell_type": "markdown",
   "metadata": {},
   "source": [
    "#### Calculate Mean Age, Variance, and Number Instances of Adolescent Maternal Mortality by Region"
   ]
  },
  {
   "cell_type": "code",
   "execution_count": 80,
   "metadata": {},
   "outputs": [],
   "source": [
    "# Create an empty list to store mean age and sample size of maternal death per region\n",
    "ado_region_mean = []\n",
    "ado_region_n = []\n",
    "\n",
    "# Create an iteration function\n",
    "for i in adolescent_matern_mortality['Residence Code'].sort_values().unique():\n",
    "    \"\"\"Calculate Mean Age Adolescent Maternal Mortality per Region\"\"\"\n",
    "    \n",
    "    #select one region\n",
    "    sub_df = adolescent_matern_mortality[adolescent_matern_mortality['Residence Code'] == i]\n",
    "    age = sub_df['Age at Death']\n",
    "   \n",
    "    #calculate sample length\n",
    "    ado_n = len(age)\n",
    "    \n",
    "    #calculate mean\n",
    "    ado_mean = age.mean()\n",
    "    \n",
    "    #prevent repeat entries in lists\n",
    "    for region in sub_df['Residence Name'].unique():\n",
    "       \n",
    "        # append mean to region list\n",
    "        ado_region_mean.append(round(ado_mean, 2))\n",
    "        \n",
    "        # append ado_n to region list\n",
    "        ado_region_n.append(round(ado_n, 2))"
   ]
  },
  {
   "cell_type": "code",
   "execution_count": 81,
   "metadata": {},
   "outputs": [
    {
     "data": {
      "text/plain": [
       "(32, 18.52)"
      ]
     },
     "execution_count": 81,
     "metadata": {},
     "output_type": "execute_result"
    }
   ],
   "source": [
    "# Test output\n",
    "len(ado_region_mean), ado_region_mean[31]"
   ]
  },
  {
   "cell_type": "code",
   "execution_count": 82,
   "metadata": {},
   "outputs": [
    {
     "data": {
      "text/plain": [
       "(32, 23)"
      ]
     },
     "execution_count": 82,
     "metadata": {},
     "output_type": "execute_result"
    }
   ],
   "source": [
    "# Test output\n",
    "len(ado_region_n), ado_region_n[31]"
   ]
  },
  {
   "cell_type": "markdown",
   "metadata": {},
   "source": [
    "#### Add Variables to res_dataset"
   ]
  },
  {
   "cell_type": "code",
   "execution_count": 83,
   "metadata": {},
   "outputs": [
    {
     "data": {
      "text/html": [
       "<div>\n",
       "<style scoped>\n",
       "    .dataframe tbody tr th:only-of-type {\n",
       "        vertical-align: middle;\n",
       "    }\n",
       "\n",
       "    .dataframe tbody tr th {\n",
       "        vertical-align: top;\n",
       "    }\n",
       "\n",
       "    .dataframe thead th {\n",
       "        text-align: right;\n",
       "    }\n",
       "</style>\n",
       "<table border=\"1\" class=\"dataframe\">\n",
       "  <thead>\n",
       "    <tr style=\"text-align: right;\">\n",
       "      <th></th>\n",
       "      <th>Region</th>\n",
       "      <th>μ Age Maternal Mortality</th>\n",
       "      <th>Region (n)</th>\n",
       "      <th>μ Age Variance</th>\n",
       "      <th>Above(0) or Below(1) Average</th>\n",
       "      <th>μ Age Adolescent Maternal Death</th>\n",
       "      <th>Region Ado (n)</th>\n",
       "    </tr>\n",
       "  </thead>\n",
       "  <tbody>\n",
       "    <tr>\n",
       "      <th>1</th>\n",
       "      <td>Aguascalientes</td>\n",
       "      <td>28.36</td>\n",
       "      <td>127.0</td>\n",
       "      <td>55.16</td>\n",
       "      <td>0</td>\n",
       "      <td>18.08</td>\n",
       "      <td>25</td>\n",
       "    </tr>\n",
       "    <tr>\n",
       "      <th>2</th>\n",
       "      <td>Baja California</td>\n",
       "      <td>27.15</td>\n",
       "      <td>361.0</td>\n",
       "      <td>46.31</td>\n",
       "      <td>1</td>\n",
       "      <td>18.00</td>\n",
       "      <td>69</td>\n",
       "    </tr>\n",
       "    <tr>\n",
       "      <th>3</th>\n",
       "      <td>Baja California Sur</td>\n",
       "      <td>27.56</td>\n",
       "      <td>66.0</td>\n",
       "      <td>55.37</td>\n",
       "      <td>1</td>\n",
       "      <td>18.00</td>\n",
       "      <td>16</td>\n",
       "    </tr>\n",
       "    <tr>\n",
       "      <th>4</th>\n",
       "      <td>Campeche</td>\n",
       "      <td>26.87</td>\n",
       "      <td>126.0</td>\n",
       "      <td>44.29</td>\n",
       "      <td>1</td>\n",
       "      <td>18.00</td>\n",
       "      <td>22</td>\n",
       "    </tr>\n",
       "    <tr>\n",
       "      <th>5</th>\n",
       "      <td>Chiapas</td>\n",
       "      <td>28.02</td>\n",
       "      <td>310.0</td>\n",
       "      <td>45.02</td>\n",
       "      <td>1</td>\n",
       "      <td>18.33</td>\n",
       "      <td>52</td>\n",
       "    </tr>\n",
       "  </tbody>\n",
       "</table>\n",
       "</div>"
      ],
      "text/plain": [
       "                Region  μ Age Maternal Mortality  Region (n)  μ Age Variance  \\\n",
       "1       Aguascalientes                     28.36       127.0           55.16   \n",
       "2      Baja California                     27.15       361.0           46.31   \n",
       "3  Baja California Sur                     27.56        66.0           55.37   \n",
       "4             Campeche                     26.87       126.0           44.29   \n",
       "5              Chiapas                     28.02       310.0           45.02   \n",
       "\n",
       "   Above(0) or Below(1) Average  μ Age Adolescent Maternal Death  \\\n",
       "1                             0                            18.08   \n",
       "2                             1                            18.00   \n",
       "3                             1                            18.00   \n",
       "4                             1                            18.00   \n",
       "5                             1                            18.33   \n",
       "\n",
       "   Region Ado (n)  \n",
       "1              25  \n",
       "2              69  \n",
       "3              16  \n",
       "4              22  \n",
       "5              52  "
      ]
     },
     "execution_count": 83,
     "metadata": {},
     "output_type": "execute_result"
    }
   ],
   "source": [
    "# Convert the list to a Series and add as new column\n",
    "res_dataset['μ Age Adolescent Maternal Death'] = pd.Series(ado_region_mean, index=np.arange(1,33))\n",
    "res_dataset['Region Ado (n)'] = pd.Series(ado_region_n, index=np.arange(1,33))\n",
    "res_dataset.head()"
   ]
  },
  {
   "cell_type": "code",
   "execution_count": 84,
   "metadata": {},
   "outputs": [
    {
     "data": {
      "text/html": [
       "<div>\n",
       "<style scoped>\n",
       "    .dataframe tbody tr th:only-of-type {\n",
       "        vertical-align: middle;\n",
       "    }\n",
       "\n",
       "    .dataframe tbody tr th {\n",
       "        vertical-align: top;\n",
       "    }\n",
       "\n",
       "    .dataframe thead th {\n",
       "        text-align: right;\n",
       "    }\n",
       "</style>\n",
       "<table border=\"1\" class=\"dataframe\">\n",
       "  <thead>\n",
       "    <tr style=\"text-align: right;\">\n",
       "      <th></th>\n",
       "      <th>Region</th>\n",
       "      <th>μ Age Maternal Mortality</th>\n",
       "      <th>Region (n)</th>\n",
       "      <th>μ Age Variance</th>\n",
       "      <th>Above(0) or Below(1) Average</th>\n",
       "      <th>μ Age Adolescent Maternal Death</th>\n",
       "      <th>Region Ado (n)</th>\n",
       "    </tr>\n",
       "  </thead>\n",
       "  <tbody>\n",
       "    <tr>\n",
       "      <th>28</th>\n",
       "      <td>Tamaulipas</td>\n",
       "      <td>28.26</td>\n",
       "      <td>377.0</td>\n",
       "      <td>45.45</td>\n",
       "      <td>1</td>\n",
       "      <td>17.88</td>\n",
       "      <td>59</td>\n",
       "    </tr>\n",
       "    <tr>\n",
       "      <th>29</th>\n",
       "      <td>Tlaxcala</td>\n",
       "      <td>28.45</td>\n",
       "      <td>178.0</td>\n",
       "      <td>55.16</td>\n",
       "      <td>0</td>\n",
       "      <td>18.37</td>\n",
       "      <td>35</td>\n",
       "    </tr>\n",
       "    <tr>\n",
       "      <th>30</th>\n",
       "      <td>Veracruz de Ignacio de la Llave</td>\n",
       "      <td>27.94</td>\n",
       "      <td>1239.0</td>\n",
       "      <td>53.60</td>\n",
       "      <td>1</td>\n",
       "      <td>17.95</td>\n",
       "      <td>236</td>\n",
       "    </tr>\n",
       "    <tr>\n",
       "      <th>31</th>\n",
       "      <td>Yucatán</td>\n",
       "      <td>27.50</td>\n",
       "      <td>258.0</td>\n",
       "      <td>54.89</td>\n",
       "      <td>1</td>\n",
       "      <td>18.12</td>\n",
       "      <td>58</td>\n",
       "    </tr>\n",
       "    <tr>\n",
       "      <th>32</th>\n",
       "      <td>Zacatecas</td>\n",
       "      <td>27.50</td>\n",
       "      <td>191.0</td>\n",
       "      <td>48.10</td>\n",
       "      <td>1</td>\n",
       "      <td>18.52</td>\n",
       "      <td>23</td>\n",
       "    </tr>\n",
       "  </tbody>\n",
       "</table>\n",
       "</div>"
      ],
      "text/plain": [
       "                             Region  μ Age Maternal Mortality  Region (n)  \\\n",
       "28                       Tamaulipas                     28.26       377.0   \n",
       "29                         Tlaxcala                     28.45       178.0   \n",
       "30  Veracruz de Ignacio de la Llave                     27.94      1239.0   \n",
       "31                          Yucatán                     27.50       258.0   \n",
       "32                        Zacatecas                     27.50       191.0   \n",
       "\n",
       "    μ Age Variance  Above(0) or Below(1) Average  \\\n",
       "28           45.45                             1   \n",
       "29           55.16                             0   \n",
       "30           53.60                             1   \n",
       "31           54.89                             1   \n",
       "32           48.10                             1   \n",
       "\n",
       "    μ Age Adolescent Maternal Death  Region Ado (n)  \n",
       "28                            17.88              59  \n",
       "29                            18.37              35  \n",
       "30                            17.95             236  \n",
       "31                            18.12              58  \n",
       "32                            18.52              23  "
      ]
     },
     "execution_count": 84,
     "metadata": {},
     "output_type": "execute_result"
    }
   ],
   "source": [
    "# Test output\n",
    "res_dataset.tail()"
   ]
  },
  {
   "cell_type": "markdown",
   "metadata": {},
   "source": [
    "#### Clean Data by Replacing NaN/Null values with the Correct Data"
   ]
  },
  {
   "cell_type": "code",
   "execution_count": 86,
   "metadata": {},
   "outputs": [
    {
     "data": {
      "text/html": [
       "<div>\n",
       "<style scoped>\n",
       "    .dataframe tbody tr th:only-of-type {\n",
       "        vertical-align: middle;\n",
       "    }\n",
       "\n",
       "    .dataframe tbody tr th {\n",
       "        vertical-align: top;\n",
       "    }\n",
       "\n",
       "    .dataframe thead th {\n",
       "        text-align: right;\n",
       "    }\n",
       "</style>\n",
       "<table border=\"1\" class=\"dataframe\">\n",
       "  <thead>\n",
       "    <tr style=\"text-align: right;\">\n",
       "      <th></th>\n",
       "      <th>Region</th>\n",
       "      <th>μ Age Maternal Mortality</th>\n",
       "      <th>Region (n)</th>\n",
       "      <th>μ Age Variance</th>\n",
       "      <th>Above(0) or Below(1) Average</th>\n",
       "      <th>μ Age Adolescent Maternal Death</th>\n",
       "      <th>Region Ado (n)</th>\n",
       "    </tr>\n",
       "  </thead>\n",
       "  <tbody>\n",
       "    <tr>\n",
       "      <th>28</th>\n",
       "      <td>Tamaulipas</td>\n",
       "      <td>28.26</td>\n",
       "      <td>377.0</td>\n",
       "      <td>45.45</td>\n",
       "      <td>1</td>\n",
       "      <td>17.88</td>\n",
       "      <td>59</td>\n",
       "    </tr>\n",
       "    <tr>\n",
       "      <th>29</th>\n",
       "      <td>Tlaxcala</td>\n",
       "      <td>28.45</td>\n",
       "      <td>178.0</td>\n",
       "      <td>55.16</td>\n",
       "      <td>0</td>\n",
       "      <td>18.37</td>\n",
       "      <td>35</td>\n",
       "    </tr>\n",
       "    <tr>\n",
       "      <th>30</th>\n",
       "      <td>Veracruz de Ignacio de la Llave</td>\n",
       "      <td>27.94</td>\n",
       "      <td>1239.0</td>\n",
       "      <td>53.60</td>\n",
       "      <td>1</td>\n",
       "      <td>17.95</td>\n",
       "      <td>236</td>\n",
       "    </tr>\n",
       "    <tr>\n",
       "      <th>31</th>\n",
       "      <td>Yucatán</td>\n",
       "      <td>27.50</td>\n",
       "      <td>258.0</td>\n",
       "      <td>54.89</td>\n",
       "      <td>1</td>\n",
       "      <td>18.12</td>\n",
       "      <td>58</td>\n",
       "    </tr>\n",
       "    <tr>\n",
       "      <th>32</th>\n",
       "      <td>Zacatecas</td>\n",
       "      <td>27.50</td>\n",
       "      <td>191.0</td>\n",
       "      <td>48.10</td>\n",
       "      <td>1</td>\n",
       "      <td>18.52</td>\n",
       "      <td>23</td>\n",
       "    </tr>\n",
       "  </tbody>\n",
       "</table>\n",
       "</div>"
      ],
      "text/plain": [
       "                             Region  μ Age Maternal Mortality  Region (n)  \\\n",
       "28                       Tamaulipas                     28.26       377.0   \n",
       "29                         Tlaxcala                     28.45       178.0   \n",
       "30  Veracruz de Ignacio de la Llave                     27.94      1239.0   \n",
       "31                          Yucatán                     27.50       258.0   \n",
       "32                        Zacatecas                     27.50       191.0   \n",
       "\n",
       "    μ Age Variance  Above(0) or Below(1) Average  \\\n",
       "28           45.45                             1   \n",
       "29           55.16                             0   \n",
       "30           53.60                             1   \n",
       "31           54.89                             1   \n",
       "32           48.10                             1   \n",
       "\n",
       "    μ Age Adolescent Maternal Death  Region Ado (n)  \n",
       "28                            17.88              59  \n",
       "29                            18.37              35  \n",
       "30                            17.95             236  \n",
       "31                            18.12              58  \n",
       "32                            18.52              23  "
      ]
     },
     "execution_count": 86,
     "metadata": {},
     "output_type": "execute_result"
    }
   ],
   "source": [
    "# Calculate the mean Age of Death for region 'Zacatecas'\n",
    "ado_zaca = adolescent_matern_mortality[adolescent_matern_mortality['Residence Code'] == 32 ]\n",
    "ado_zaca = ado_zaca['Age at Death']\n",
    "\n",
    "# Calculate sample size\n",
    "ado_zaca_n = len(ado_zaca)\n",
    "\n",
    "# Change contents of res_dataset NaN to calculated mean\n",
    "res_dataset['Region Ado (n)'] = res_dataset['Region Ado (n)'].replace(np.nan, ado_zaca_n)\n",
    "res_dataset.tail()"
   ]
  },
  {
   "cell_type": "markdown",
   "metadata": {},
   "source": [
    "### Since there is a statistically significant difference between the region mean ageas of maternal mortality, it is important to compare the binary values of region adolescent maternal mortality compared to Mexico's mean age adolescent mortality.\n",
    "**Create Binary Column**: \n",
    "μ Adolescent Age\n",
    "- 0 : Region μ Age Adolescent Maternal Mortality is *greater than or equal to* Mexico's μ Age Adolescent Maternal Mortality\n",
    "- 1 : Region μ Age Adolescent Maternal Mortality is *less than* Mexico's μ Age Adolescent Maternal Mortality"
   ]
  },
  {
   "cell_type": "code",
   "execution_count": 87,
   "metadata": {},
   "outputs": [
    {
     "name": "stdout",
     "output_type": "stream",
     "text": [
      "The adolescent population mean is:  17.98\n"
     ]
    }
   ],
   "source": [
    "print('The adolescent population mean is: ', round(mean_adolescent_ages, 2))"
   ]
  },
  {
   "cell_type": "code",
   "execution_count": 88,
   "metadata": {},
   "outputs": [],
   "source": [
    "# Create a list item to hold comparison response\n",
    "binary_ado_mean = []\n",
    "\n",
    "# Create an iteration function to compare region mean to popupation mean\n",
    "for ado_mean in res_dataset['μ Age Adolescent Maternal Death']:\n",
    "    \n",
    "    #test for mean\n",
    "    if ado_mean >= mean_adolescent_ages:\n",
    "        binary_ado_mean.append(0)\n",
    "    else:\n",
    "        binary_ado_mean.append(1)"
   ]
  },
  {
   "cell_type": "code",
   "execution_count": 89,
   "metadata": {},
   "outputs": [],
   "source": [
    "# Test output\n",
    "#binary_ado_mean"
   ]
  },
  {
   "cell_type": "code",
   "execution_count": 90,
   "metadata": {},
   "outputs": [
    {
     "data": {
      "text/html": [
       "<div>\n",
       "<style scoped>\n",
       "    .dataframe tbody tr th:only-of-type {\n",
       "        vertical-align: middle;\n",
       "    }\n",
       "\n",
       "    .dataframe tbody tr th {\n",
       "        vertical-align: top;\n",
       "    }\n",
       "\n",
       "    .dataframe thead th {\n",
       "        text-align: right;\n",
       "    }\n",
       "</style>\n",
       "<table border=\"1\" class=\"dataframe\">\n",
       "  <thead>\n",
       "    <tr style=\"text-align: right;\">\n",
       "      <th></th>\n",
       "      <th>Region</th>\n",
       "      <th>μ Age Maternal Mortality</th>\n",
       "      <th>Region (n)</th>\n",
       "      <th>μ Age Variance</th>\n",
       "      <th>Above(0) or Below(1) Average</th>\n",
       "      <th>μ Age Adolescent Maternal Death</th>\n",
       "      <th>Region Ado (n)</th>\n",
       "      <th>Above(0) or Below(1) *Ado* Average</th>\n",
       "    </tr>\n",
       "  </thead>\n",
       "  <tbody>\n",
       "    <tr>\n",
       "      <th>1</th>\n",
       "      <td>Aguascalientes</td>\n",
       "      <td>28.36</td>\n",
       "      <td>127.0</td>\n",
       "      <td>55.16</td>\n",
       "      <td>0</td>\n",
       "      <td>18.08</td>\n",
       "      <td>25</td>\n",
       "      <td>0</td>\n",
       "    </tr>\n",
       "    <tr>\n",
       "      <th>2</th>\n",
       "      <td>Baja California</td>\n",
       "      <td>27.15</td>\n",
       "      <td>361.0</td>\n",
       "      <td>46.31</td>\n",
       "      <td>1</td>\n",
       "      <td>18.00</td>\n",
       "      <td>69</td>\n",
       "      <td>0</td>\n",
       "    </tr>\n",
       "    <tr>\n",
       "      <th>3</th>\n",
       "      <td>Baja California Sur</td>\n",
       "      <td>27.56</td>\n",
       "      <td>66.0</td>\n",
       "      <td>55.37</td>\n",
       "      <td>1</td>\n",
       "      <td>18.00</td>\n",
       "      <td>16</td>\n",
       "      <td>0</td>\n",
       "    </tr>\n",
       "    <tr>\n",
       "      <th>4</th>\n",
       "      <td>Campeche</td>\n",
       "      <td>26.87</td>\n",
       "      <td>126.0</td>\n",
       "      <td>44.29</td>\n",
       "      <td>1</td>\n",
       "      <td>18.00</td>\n",
       "      <td>22</td>\n",
       "      <td>0</td>\n",
       "    </tr>\n",
       "    <tr>\n",
       "      <th>5</th>\n",
       "      <td>Chiapas</td>\n",
       "      <td>28.02</td>\n",
       "      <td>310.0</td>\n",
       "      <td>45.02</td>\n",
       "      <td>1</td>\n",
       "      <td>18.33</td>\n",
       "      <td>52</td>\n",
       "      <td>0</td>\n",
       "    </tr>\n",
       "  </tbody>\n",
       "</table>\n",
       "</div>"
      ],
      "text/plain": [
       "                Region  μ Age Maternal Mortality  Region (n)  μ Age Variance  \\\n",
       "1       Aguascalientes                     28.36       127.0           55.16   \n",
       "2      Baja California                     27.15       361.0           46.31   \n",
       "3  Baja California Sur                     27.56        66.0           55.37   \n",
       "4             Campeche                     26.87       126.0           44.29   \n",
       "5              Chiapas                     28.02       310.0           45.02   \n",
       "\n",
       "   Above(0) or Below(1) Average  μ Age Adolescent Maternal Death  \\\n",
       "1                             0                            18.08   \n",
       "2                             1                            18.00   \n",
       "3                             1                            18.00   \n",
       "4                             1                            18.00   \n",
       "5                             1                            18.33   \n",
       "\n",
       "   Region Ado (n)  Above(0) or Below(1) *Ado* Average  \n",
       "1              25                                   0  \n",
       "2              69                                   0  \n",
       "3              16                                   0  \n",
       "4              22                                   0  \n",
       "5              52                                   0  "
      ]
     },
     "execution_count": 90,
     "metadata": {},
     "output_type": "execute_result"
    }
   ],
   "source": [
    "# Convert the list to a Series and add as new column\n",
    "res_dataset['Above(0) or Below(1) *Ado* Average'] = pd.Series(binary_ado_mean, index=np.arange(1,33))\n",
    "res_dataset.head()"
   ]
  },
  {
   "cell_type": "markdown",
   "metadata": {},
   "source": [
    "### Additionally, the proportion of adolescent mortality of all maternal mortalities within a region should be calculated:\n",
    "**Create Proportion Column**:\n",
    "Proportion Adolescent Maternal Morality in Total Maternal Mortality"
   ]
  },
  {
   "cell_type": "code",
   "execution_count": 91,
   "metadata": {},
   "outputs": [],
   "source": [
    "# Create a list variable for proportion adolescent in sample size\n",
    "proportion_ado_n = []\n",
    "\n",
    "# Create an iteration function to calculate decimal percent adolescent maternal mortality within a region\n",
    "for region in res_dataset['Region']:\n",
    "    \n",
    "    #select one region\n",
    "    region_row = res_dataset[res_dataset['Region'] == region]\n",
    "    \n",
    "    #select total and adolescent sample size\n",
    "    total_n = int(region_row['Region (n)'])\n",
    "    ado_n = int(region_row['Region Ado (n)'])\n",
    "    \n",
    "    #take proportion\n",
    "    prop_ado = ado_n / total_n\n",
    "    \n",
    "    #append proportion to list\n",
    "    proportion_ado_n.append(round(prop_ado, 4))"
   ]
  },
  {
   "cell_type": "code",
   "execution_count": 92,
   "metadata": {},
   "outputs": [
    {
     "name": "stdout",
     "output_type": "stream",
     "text": [
      "32\n"
     ]
    }
   ],
   "source": [
    "# Test output\n",
    "print(len(proportion_ado_n))\n",
    "#proportion_ado_n"
   ]
  },
  {
   "cell_type": "code",
   "execution_count": 93,
   "metadata": {},
   "outputs": [
    {
     "data": {
      "text/html": [
       "<div>\n",
       "<style scoped>\n",
       "    .dataframe tbody tr th:only-of-type {\n",
       "        vertical-align: middle;\n",
       "    }\n",
       "\n",
       "    .dataframe tbody tr th {\n",
       "        vertical-align: top;\n",
       "    }\n",
       "\n",
       "    .dataframe thead th {\n",
       "        text-align: right;\n",
       "    }\n",
       "</style>\n",
       "<table border=\"1\" class=\"dataframe\">\n",
       "  <thead>\n",
       "    <tr style=\"text-align: right;\">\n",
       "      <th></th>\n",
       "      <th>Region</th>\n",
       "      <th>μ Age Maternal Mortality</th>\n",
       "      <th>Region (n)</th>\n",
       "      <th>μ Age Variance</th>\n",
       "      <th>Above(0) or Below(1) Average</th>\n",
       "      <th>μ Age Adolescent Maternal Death</th>\n",
       "      <th>Region Ado (n)</th>\n",
       "      <th>Above(0) or Below(1) *Ado* Average</th>\n",
       "      <th>Proportion Ado (n) in Total (n)</th>\n",
       "    </tr>\n",
       "  </thead>\n",
       "  <tbody>\n",
       "    <tr>\n",
       "      <th>28</th>\n",
       "      <td>Tamaulipas</td>\n",
       "      <td>28.26</td>\n",
       "      <td>377.0</td>\n",
       "      <td>45.45</td>\n",
       "      <td>1</td>\n",
       "      <td>17.88</td>\n",
       "      <td>59</td>\n",
       "      <td>1</td>\n",
       "      <td>0.1565</td>\n",
       "    </tr>\n",
       "    <tr>\n",
       "      <th>29</th>\n",
       "      <td>Tlaxcala</td>\n",
       "      <td>28.45</td>\n",
       "      <td>178.0</td>\n",
       "      <td>55.16</td>\n",
       "      <td>0</td>\n",
       "      <td>18.37</td>\n",
       "      <td>35</td>\n",
       "      <td>0</td>\n",
       "      <td>0.1966</td>\n",
       "    </tr>\n",
       "    <tr>\n",
       "      <th>30</th>\n",
       "      <td>Veracruz de Ignacio de la Llave</td>\n",
       "      <td>27.94</td>\n",
       "      <td>1239.0</td>\n",
       "      <td>53.60</td>\n",
       "      <td>1</td>\n",
       "      <td>17.95</td>\n",
       "      <td>236</td>\n",
       "      <td>1</td>\n",
       "      <td>0.1905</td>\n",
       "    </tr>\n",
       "    <tr>\n",
       "      <th>31</th>\n",
       "      <td>Yucatán</td>\n",
       "      <td>27.50</td>\n",
       "      <td>258.0</td>\n",
       "      <td>54.89</td>\n",
       "      <td>1</td>\n",
       "      <td>18.12</td>\n",
       "      <td>58</td>\n",
       "      <td>0</td>\n",
       "      <td>0.2248</td>\n",
       "    </tr>\n",
       "    <tr>\n",
       "      <th>32</th>\n",
       "      <td>Zacatecas</td>\n",
       "      <td>27.50</td>\n",
       "      <td>191.0</td>\n",
       "      <td>48.10</td>\n",
       "      <td>1</td>\n",
       "      <td>18.52</td>\n",
       "      <td>23</td>\n",
       "      <td>0</td>\n",
       "      <td>0.1204</td>\n",
       "    </tr>\n",
       "  </tbody>\n",
       "</table>\n",
       "</div>"
      ],
      "text/plain": [
       "                             Region  μ Age Maternal Mortality  Region (n)  \\\n",
       "28                       Tamaulipas                     28.26       377.0   \n",
       "29                         Tlaxcala                     28.45       178.0   \n",
       "30  Veracruz de Ignacio de la Llave                     27.94      1239.0   \n",
       "31                          Yucatán                     27.50       258.0   \n",
       "32                        Zacatecas                     27.50       191.0   \n",
       "\n",
       "    μ Age Variance  Above(0) or Below(1) Average  \\\n",
       "28           45.45                             1   \n",
       "29           55.16                             0   \n",
       "30           53.60                             1   \n",
       "31           54.89                             1   \n",
       "32           48.10                             1   \n",
       "\n",
       "    μ Age Adolescent Maternal Death  Region Ado (n)  \\\n",
       "28                            17.88              59   \n",
       "29                            18.37              35   \n",
       "30                            17.95             236   \n",
       "31                            18.12              58   \n",
       "32                            18.52              23   \n",
       "\n",
       "    Above(0) or Below(1) *Ado* Average  Proportion Ado (n) in Total (n)  \n",
       "28                                   1                           0.1565  \n",
       "29                                   0                           0.1966  \n",
       "30                                   1                           0.1905  \n",
       "31                                   0                           0.2248  \n",
       "32                                   0                           0.1204  "
      ]
     },
     "execution_count": 93,
     "metadata": {},
     "output_type": "execute_result"
    }
   ],
   "source": [
    "# Convert the list to a Series and add as new column\n",
    "res_dataset['Proportion Ado (n) in Total (n)'] = pd.Series(proportion_ado_n, index=np.arange(1,33))\n",
    "res_dataset.tail()"
   ]
  },
  {
   "cell_type": "markdown",
   "metadata": {},
   "source": [
    "### Compare region proportion of adolescent maternal mortality to total region maternal mortality to Mexico's proportion\n",
    "**Create Binary Column**: \n",
    "Proportion Adolescent:Total\n",
    "- 0 : Region Proportion Adolescent Maternal Mortality to Total is *greater than* Mexico's Proportion Adolescent Maternal Mortality to Total\n",
    "- 1 : Region Proportion Adolescent Maternal Mortality to Total is *less than or equal to* Mexico's Proportion Adolescent Maternal Mortality to Total"
   ]
  },
  {
   "cell_type": "code",
   "execution_count": 99,
   "metadata": {},
   "outputs": [
    {
     "name": "stdout",
     "output_type": "stream",
     "text": [
      "The total sample size in the dataset is:  16636\n",
      "The adolescent sample size in the dataset is:  2885\n",
      "The proportion of adolescent to total maternal mortality instances is:  0.1734\n"
     ]
    }
   ],
   "source": [
    "# Create a variable to calculate the proportion ado: total\n",
    "population_proportion = round(adolsecent_sample_size / sample_size, 4)\n",
    "\n",
    "print('The total sample size in the dataset is: ', sample_size)\n",
    "print('The adolescent sample size in the dataset is: ', adolsecent_sample_size)\n",
    "print('The proportion of adolescent to total maternal mortality instances is: ', population_proportion)"
   ]
  },
  {
   "cell_type": "code",
   "execution_count": 100,
   "metadata": {},
   "outputs": [],
   "source": [
    "# Create a list item to hold comparison response\n",
    "binary_ado_prop = []\n",
    "\n",
    "# Create an iteration function to compare region mean to popupation mean\n",
    "for ado_prop in res_dataset['Proportion Ado (n) in Total (n)']:\n",
    "    \n",
    "    #test for mean\n",
    "    if ado_prop >= population_proportion:\n",
    "        binary_ado_prop.append(0)\n",
    "    else:\n",
    "        binary_ado_prop.append(1)"
   ]
  },
  {
   "cell_type": "code",
   "execution_count": 102,
   "metadata": {},
   "outputs": [
    {
     "name": "stdout",
     "output_type": "stream",
     "text": [
      "32\n"
     ]
    }
   ],
   "source": [
    "# Test output\n",
    "print(len(binary_ado_prop))\n",
    "#binary_ado_prop"
   ]
  },
  {
   "cell_type": "code",
   "execution_count": 104,
   "metadata": {},
   "outputs": [
    {
     "data": {
      "text/html": [
       "<div>\n",
       "<style scoped>\n",
       "    .dataframe tbody tr th:only-of-type {\n",
       "        vertical-align: middle;\n",
       "    }\n",
       "\n",
       "    .dataframe tbody tr th {\n",
       "        vertical-align: top;\n",
       "    }\n",
       "\n",
       "    .dataframe thead th {\n",
       "        text-align: right;\n",
       "    }\n",
       "</style>\n",
       "<table border=\"1\" class=\"dataframe\">\n",
       "  <thead>\n",
       "    <tr style=\"text-align: right;\">\n",
       "      <th></th>\n",
       "      <th>Region</th>\n",
       "      <th>μ Age Maternal Mortality</th>\n",
       "      <th>Region (n)</th>\n",
       "      <th>μ Age Variance</th>\n",
       "      <th>Above(0) or Below(1) Average</th>\n",
       "      <th>μ Age Adolescent Maternal Death</th>\n",
       "      <th>Region Ado (n)</th>\n",
       "      <th>Above(0) or Below(1) *Ado* Average</th>\n",
       "      <th>Proportion Ado (n) in Total (n)</th>\n",
       "      <th>Above(0)/Not(1) Proportion *Ado*(n):Total(n)</th>\n",
       "    </tr>\n",
       "  </thead>\n",
       "  <tbody>\n",
       "    <tr>\n",
       "      <th>28</th>\n",
       "      <td>Tamaulipas</td>\n",
       "      <td>28.26</td>\n",
       "      <td>377.0</td>\n",
       "      <td>45.45</td>\n",
       "      <td>1</td>\n",
       "      <td>17.88</td>\n",
       "      <td>59</td>\n",
       "      <td>1</td>\n",
       "      <td>0.1565</td>\n",
       "      <td>1</td>\n",
       "    </tr>\n",
       "    <tr>\n",
       "      <th>29</th>\n",
       "      <td>Tlaxcala</td>\n",
       "      <td>28.45</td>\n",
       "      <td>178.0</td>\n",
       "      <td>55.16</td>\n",
       "      <td>0</td>\n",
       "      <td>18.37</td>\n",
       "      <td>35</td>\n",
       "      <td>0</td>\n",
       "      <td>0.1966</td>\n",
       "      <td>0</td>\n",
       "    </tr>\n",
       "    <tr>\n",
       "      <th>30</th>\n",
       "      <td>Veracruz de Ignacio de la Llave</td>\n",
       "      <td>27.94</td>\n",
       "      <td>1239.0</td>\n",
       "      <td>53.60</td>\n",
       "      <td>1</td>\n",
       "      <td>17.95</td>\n",
       "      <td>236</td>\n",
       "      <td>1</td>\n",
       "      <td>0.1905</td>\n",
       "      <td>0</td>\n",
       "    </tr>\n",
       "    <tr>\n",
       "      <th>31</th>\n",
       "      <td>Yucatán</td>\n",
       "      <td>27.50</td>\n",
       "      <td>258.0</td>\n",
       "      <td>54.89</td>\n",
       "      <td>1</td>\n",
       "      <td>18.12</td>\n",
       "      <td>58</td>\n",
       "      <td>0</td>\n",
       "      <td>0.2248</td>\n",
       "      <td>0</td>\n",
       "    </tr>\n",
       "    <tr>\n",
       "      <th>32</th>\n",
       "      <td>Zacatecas</td>\n",
       "      <td>27.50</td>\n",
       "      <td>191.0</td>\n",
       "      <td>48.10</td>\n",
       "      <td>1</td>\n",
       "      <td>18.52</td>\n",
       "      <td>23</td>\n",
       "      <td>0</td>\n",
       "      <td>0.1204</td>\n",
       "      <td>1</td>\n",
       "    </tr>\n",
       "  </tbody>\n",
       "</table>\n",
       "</div>"
      ],
      "text/plain": [
       "                             Region  μ Age Maternal Mortality  Region (n)  \\\n",
       "28                       Tamaulipas                     28.26       377.0   \n",
       "29                         Tlaxcala                     28.45       178.0   \n",
       "30  Veracruz de Ignacio de la Llave                     27.94      1239.0   \n",
       "31                          Yucatán                     27.50       258.0   \n",
       "32                        Zacatecas                     27.50       191.0   \n",
       "\n",
       "    μ Age Variance  Above(0) or Below(1) Average  \\\n",
       "28           45.45                             1   \n",
       "29           55.16                             0   \n",
       "30           53.60                             1   \n",
       "31           54.89                             1   \n",
       "32           48.10                             1   \n",
       "\n",
       "    μ Age Adolescent Maternal Death  Region Ado (n)  \\\n",
       "28                            17.88              59   \n",
       "29                            18.37              35   \n",
       "30                            17.95             236   \n",
       "31                            18.12              58   \n",
       "32                            18.52              23   \n",
       "\n",
       "    Above(0) or Below(1) *Ado* Average  Proportion Ado (n) in Total (n)  \\\n",
       "28                                   1                           0.1565   \n",
       "29                                   0                           0.1966   \n",
       "30                                   1                           0.1905   \n",
       "31                                   0                           0.2248   \n",
       "32                                   0                           0.1204   \n",
       "\n",
       "    Above(0)/Not(1) Proportion *Ado*(n):Total(n)  \n",
       "28                                             1  \n",
       "29                                             0  \n",
       "30                                             0  \n",
       "31                                             0  \n",
       "32                                             1  "
      ]
     },
     "execution_count": 104,
     "metadata": {},
     "output_type": "execute_result"
    }
   ],
   "source": [
    "# Convert the list to a Series and add as new column\n",
    "res_dataset['Above(0)/Not(1) Proportion *Ado*(n):Total(n)'] = pd.Series(binary_ado_prop, index=np.arange(1,33))\n",
    "res_dataset.tail()"
   ]
  },
  {
   "cell_type": "code",
   "execution_count": 105,
   "metadata": {},
   "outputs": [
    {
     "data": {
      "text/html": [
       "<div>\n",
       "<style scoped>\n",
       "    .dataframe tbody tr th:only-of-type {\n",
       "        vertical-align: middle;\n",
       "    }\n",
       "\n",
       "    .dataframe tbody tr th {\n",
       "        vertical-align: top;\n",
       "    }\n",
       "\n",
       "    .dataframe thead th {\n",
       "        text-align: right;\n",
       "    }\n",
       "</style>\n",
       "<table border=\"1\" class=\"dataframe\">\n",
       "  <thead>\n",
       "    <tr style=\"text-align: right;\">\n",
       "      <th></th>\n",
       "      <th>Region</th>\n",
       "      <th>μ Age Maternal Mortality</th>\n",
       "      <th>μ Age Variance</th>\n",
       "      <th>Above(0) or Below(1) Average</th>\n",
       "      <th>μ Age Adolescent Maternal Death</th>\n",
       "      <th>Above(0) or Below(1) *Ado* Average</th>\n",
       "      <th>Proportion Ado (n) in Total (n)</th>\n",
       "      <th>Above(0)/Not(1) Proportion *Ado*(n):Total(n)</th>\n",
       "    </tr>\n",
       "  </thead>\n",
       "  <tbody>\n",
       "    <tr>\n",
       "      <th>1</th>\n",
       "      <td>Aguascalientes</td>\n",
       "      <td>28.36</td>\n",
       "      <td>55.16</td>\n",
       "      <td>0</td>\n",
       "      <td>18.08</td>\n",
       "      <td>0</td>\n",
       "      <td>0.1969</td>\n",
       "      <td>0</td>\n",
       "    </tr>\n",
       "    <tr>\n",
       "      <th>2</th>\n",
       "      <td>Baja California</td>\n",
       "      <td>27.15</td>\n",
       "      <td>46.31</td>\n",
       "      <td>1</td>\n",
       "      <td>18.00</td>\n",
       "      <td>0</td>\n",
       "      <td>0.1911</td>\n",
       "      <td>0</td>\n",
       "    </tr>\n",
       "    <tr>\n",
       "      <th>3</th>\n",
       "      <td>Baja California Sur</td>\n",
       "      <td>27.56</td>\n",
       "      <td>55.37</td>\n",
       "      <td>1</td>\n",
       "      <td>18.00</td>\n",
       "      <td>0</td>\n",
       "      <td>0.2424</td>\n",
       "      <td>0</td>\n",
       "    </tr>\n",
       "    <tr>\n",
       "      <th>4</th>\n",
       "      <td>Campeche</td>\n",
       "      <td>26.87</td>\n",
       "      <td>44.29</td>\n",
       "      <td>1</td>\n",
       "      <td>18.00</td>\n",
       "      <td>0</td>\n",
       "      <td>0.1746</td>\n",
       "      <td>0</td>\n",
       "    </tr>\n",
       "    <tr>\n",
       "      <th>5</th>\n",
       "      <td>Chiapas</td>\n",
       "      <td>28.02</td>\n",
       "      <td>45.02</td>\n",
       "      <td>1</td>\n",
       "      <td>18.33</td>\n",
       "      <td>0</td>\n",
       "      <td>0.1677</td>\n",
       "      <td>1</td>\n",
       "    </tr>\n",
       "  </tbody>\n",
       "</table>\n",
       "</div>"
      ],
      "text/plain": [
       "                Region  μ Age Maternal Mortality  μ Age Variance  \\\n",
       "1       Aguascalientes                     28.36           55.16   \n",
       "2      Baja California                     27.15           46.31   \n",
       "3  Baja California Sur                     27.56           55.37   \n",
       "4             Campeche                     26.87           44.29   \n",
       "5              Chiapas                     28.02           45.02   \n",
       "\n",
       "   Above(0) or Below(1) Average  μ Age Adolescent Maternal Death  \\\n",
       "1                             0                            18.08   \n",
       "2                             1                            18.00   \n",
       "3                             1                            18.00   \n",
       "4                             1                            18.00   \n",
       "5                             1                            18.33   \n",
       "\n",
       "   Above(0) or Below(1) *Ado* Average  Proportion Ado (n) in Total (n)  \\\n",
       "1                                   0                           0.1969   \n",
       "2                                   0                           0.1911   \n",
       "3                                   0                           0.2424   \n",
       "4                                   0                           0.1746   \n",
       "5                                   0                           0.1677   \n",
       "\n",
       "   Above(0)/Not(1) Proportion *Ado*(n):Total(n)  \n",
       "1                                             0  \n",
       "2                                             0  \n",
       "3                                             0  \n",
       "4                                             0  \n",
       "5                                             1  "
      ]
     },
     "execution_count": 105,
     "metadata": {},
     "output_type": "execute_result"
    }
   ],
   "source": [
    "# Drop unnecessary columns\n",
    "res_dataset = res_dataset.drop(columns=['Region (n)', 'Region Ado (n)'])\n",
    "res_dataset.head()"
   ]
  },
  {
   "cell_type": "markdown",
   "metadata": {},
   "source": [
    "## Question 5: How does the average level of Education Completed by individuals who suffered maternal mortality change by Region?\n",
    "- The World Health Organization (WHO) states that better educated women tend to be healthier, participate more in the formal labor market, earn higher incomes, have fewer children, marry at a later age, and enable better health care and education for their children, should they choose to become mothers. All these factors combined can help lift households, communities, and nations out of poverty."
   ]
  },
  {
   "cell_type": "code",
   "execution_count": 106,
   "metadata": {},
   "outputs": [
    {
     "data": {
      "text/html": [
       "<div>\n",
       "<style scoped>\n",
       "    .dataframe tbody tr th:only-of-type {\n",
       "        vertical-align: middle;\n",
       "    }\n",
       "\n",
       "    .dataframe tbody tr th {\n",
       "        vertical-align: top;\n",
       "    }\n",
       "\n",
       "    .dataframe thead th {\n",
       "        text-align: right;\n",
       "    }\n",
       "</style>\n",
       "<table border=\"1\" class=\"dataframe\">\n",
       "  <thead>\n",
       "    <tr style=\"text-align: right;\">\n",
       "      <th></th>\n",
       "      <th>Residence Code</th>\n",
       "      <th>Residence Name</th>\n",
       "      <th>Local Community Size</th>\n",
       "      <th>Education Completed</th>\n",
       "      <th>Age at Death</th>\n",
       "      <th>Received(0)/Not(1) Medical Assistance</th>\n",
       "    </tr>\n",
       "  </thead>\n",
       "  <tbody>\n",
       "    <tr>\n",
       "      <th>0</th>\n",
       "      <td>7</td>\n",
       "      <td>Chiapas</td>\n",
       "      <td>1 a 999            habitantes</td>\n",
       "      <td>2</td>\n",
       "      <td>11</td>\n",
       "      <td>0.0</td>\n",
       "    </tr>\n",
       "    <tr>\n",
       "      <th>1</th>\n",
       "      <td>30</td>\n",
       "      <td>Veracruz de Ignacio de la Llave</td>\n",
       "      <td>50000 a 74999   habitantes</td>\n",
       "      <td>3</td>\n",
       "      <td>12</td>\n",
       "      <td>0.0</td>\n",
       "    </tr>\n",
       "    <tr>\n",
       "      <th>2</th>\n",
       "      <td>27</td>\n",
       "      <td>Tabasco</td>\n",
       "      <td>250000 a 499999 habitantes</td>\n",
       "      <td>4</td>\n",
       "      <td>12</td>\n",
       "      <td>0.0</td>\n",
       "    </tr>\n",
       "    <tr>\n",
       "      <th>3</th>\n",
       "      <td>15</td>\n",
       "      <td>México</td>\n",
       "      <td>2500 a 4999    habitantes</td>\n",
       "      <td>5</td>\n",
       "      <td>12</td>\n",
       "      <td>0.0</td>\n",
       "    </tr>\n",
       "    <tr>\n",
       "      <th>4</th>\n",
       "      <td>12</td>\n",
       "      <td>Guerrero</td>\n",
       "      <td>2500 a 4999    habitantes</td>\n",
       "      <td>2</td>\n",
       "      <td>12</td>\n",
       "      <td>1.0</td>\n",
       "    </tr>\n",
       "  </tbody>\n",
       "</table>\n",
       "</div>"
      ],
      "text/plain": [
       "   Residence Code                   Residence Name  \\\n",
       "0               7                          Chiapas   \n",
       "1              30  Veracruz de Ignacio de la Llave   \n",
       "2              27                          Tabasco   \n",
       "3              15                           México   \n",
       "4              12                         Guerrero   \n",
       "\n",
       "            Local Community Size  Education Completed  Age at Death  \\\n",
       "0  1 a 999            habitantes                    2            11   \n",
       "1     50000 a 74999   habitantes                    3            12   \n",
       "2     250000 a 499999 habitantes                    4            12   \n",
       "3      2500 a 4999    habitantes                    5            12   \n",
       "4      2500 a 4999    habitantes                    2            12   \n",
       "\n",
       "   Received(0)/Not(1) Medical Assistance  \n",
       "0                                    0.0  \n",
       "1                                    0.0  \n",
       "2                                    0.0  \n",
       "3                                    0.0  \n",
       "4                                    1.0  "
      ]
     },
     "execution_count": 106,
     "metadata": {},
     "output_type": "execute_result"
    }
   ],
   "source": [
    "materna.head()"
   ]
  },
  {
   "cell_type": "markdown",
   "metadata": {},
   "source": [
    "#### Calculate mean educational level per Region"
   ]
  },
  {
   "cell_type": "code",
   "execution_count": 107,
   "metadata": {},
   "outputs": [],
   "source": [
    "# Create an empty list to store region sample size and mean age of maternal death\n",
    "region_education = []\n",
    "\n",
    "# Create an iteration function to calculate the mean age of maternal death per region\n",
    "for i in materna['Residence Code'].sort_values().unique():\n",
    "    \"\"\"Calculate Mean Education per Region\"\"\"\n",
    "    \n",
    "    #select one region\n",
    "    sub_df = materna[materna['Residence Code'] == i ]\n",
    "    \n",
    "    #calculate mean of region\n",
    "    education = sub_df['Education Completed'].mean()\n",
    "    \n",
    "    # append mean to region list\n",
    "    region_education.append(round(education, 2)) "
   ]
  },
  {
   "cell_type": "code",
   "execution_count": 108,
   "metadata": {},
   "outputs": [
    {
     "name": "stdout",
     "output_type": "stream",
     "text": [
      "32\n"
     ]
    }
   ],
   "source": [
    "# Test output\n",
    "print(len(region_education))\n",
    "#region_education"
   ]
  },
  {
   "cell_type": "code",
   "execution_count": 109,
   "metadata": {},
   "outputs": [
    {
     "data": {
      "text/html": [
       "<div>\n",
       "<style scoped>\n",
       "    .dataframe tbody tr th:only-of-type {\n",
       "        vertical-align: middle;\n",
       "    }\n",
       "\n",
       "    .dataframe tbody tr th {\n",
       "        vertical-align: top;\n",
       "    }\n",
       "\n",
       "    .dataframe thead th {\n",
       "        text-align: right;\n",
       "    }\n",
       "</style>\n",
       "<table border=\"1\" class=\"dataframe\">\n",
       "  <thead>\n",
       "    <tr style=\"text-align: right;\">\n",
       "      <th></th>\n",
       "      <th>Region</th>\n",
       "      <th>μ Age Maternal Mortality</th>\n",
       "      <th>μ Age Variance</th>\n",
       "      <th>Above(0) or Below(1) Average</th>\n",
       "      <th>μ Age Adolescent Maternal Death</th>\n",
       "      <th>Above(0) or Below(1) *Ado* Average</th>\n",
       "      <th>Proportion Ado (n) in Total (n)</th>\n",
       "      <th>Above(0)/Not(1) Proportion *Ado*(n):Total(n)</th>\n",
       "      <th>μ Region Education Level</th>\n",
       "    </tr>\n",
       "  </thead>\n",
       "  <tbody>\n",
       "    <tr>\n",
       "      <th>1</th>\n",
       "      <td>Aguascalientes</td>\n",
       "      <td>28.36</td>\n",
       "      <td>55.16</td>\n",
       "      <td>0</td>\n",
       "      <td>18.08</td>\n",
       "      <td>0</td>\n",
       "      <td>0.1969</td>\n",
       "      <td>0</td>\n",
       "      <td>4.56</td>\n",
       "    </tr>\n",
       "    <tr>\n",
       "      <th>2</th>\n",
       "      <td>Baja California</td>\n",
       "      <td>27.15</td>\n",
       "      <td>46.31</td>\n",
       "      <td>1</td>\n",
       "      <td>18.00</td>\n",
       "      <td>0</td>\n",
       "      <td>0.1911</td>\n",
       "      <td>0</td>\n",
       "      <td>4.42</td>\n",
       "    </tr>\n",
       "    <tr>\n",
       "      <th>3</th>\n",
       "      <td>Baja California Sur</td>\n",
       "      <td>27.56</td>\n",
       "      <td>55.37</td>\n",
       "      <td>1</td>\n",
       "      <td>18.00</td>\n",
       "      <td>0</td>\n",
       "      <td>0.2424</td>\n",
       "      <td>0</td>\n",
       "      <td>4.83</td>\n",
       "    </tr>\n",
       "    <tr>\n",
       "      <th>4</th>\n",
       "      <td>Campeche</td>\n",
       "      <td>26.87</td>\n",
       "      <td>44.29</td>\n",
       "      <td>1</td>\n",
       "      <td>18.00</td>\n",
       "      <td>0</td>\n",
       "      <td>0.1746</td>\n",
       "      <td>0</td>\n",
       "      <td>4.12</td>\n",
       "    </tr>\n",
       "    <tr>\n",
       "      <th>5</th>\n",
       "      <td>Chiapas</td>\n",
       "      <td>28.02</td>\n",
       "      <td>45.02</td>\n",
       "      <td>1</td>\n",
       "      <td>18.33</td>\n",
       "      <td>0</td>\n",
       "      <td>0.1677</td>\n",
       "      <td>1</td>\n",
       "      <td>4.75</td>\n",
       "    </tr>\n",
       "  </tbody>\n",
       "</table>\n",
       "</div>"
      ],
      "text/plain": [
       "                Region  μ Age Maternal Mortality  μ Age Variance  \\\n",
       "1       Aguascalientes                     28.36           55.16   \n",
       "2      Baja California                     27.15           46.31   \n",
       "3  Baja California Sur                     27.56           55.37   \n",
       "4             Campeche                     26.87           44.29   \n",
       "5              Chiapas                     28.02           45.02   \n",
       "\n",
       "   Above(0) or Below(1) Average  μ Age Adolescent Maternal Death  \\\n",
       "1                             0                            18.08   \n",
       "2                             1                            18.00   \n",
       "3                             1                            18.00   \n",
       "4                             1                            18.00   \n",
       "5                             1                            18.33   \n",
       "\n",
       "   Above(0) or Below(1) *Ado* Average  Proportion Ado (n) in Total (n)  \\\n",
       "1                                   0                           0.1969   \n",
       "2                                   0                           0.1911   \n",
       "3                                   0                           0.2424   \n",
       "4                                   0                           0.1746   \n",
       "5                                   0                           0.1677   \n",
       "\n",
       "   Above(0)/Not(1) Proportion *Ado*(n):Total(n)  μ Region Education Level  \n",
       "1                                             0                      4.56  \n",
       "2                                             0                      4.42  \n",
       "3                                             0                      4.83  \n",
       "4                                             0                      4.12  \n",
       "5                                             1                      4.75  "
      ]
     },
     "execution_count": 109,
     "metadata": {},
     "output_type": "execute_result"
    }
   ],
   "source": [
    "# Convert the list to a Series and add as new column\n",
    "res_dataset['μ Region Education Level'] = pd.Series(region_education, index=np.arange(1,33))\n",
    "res_dataset.head()"
   ]
  },
  {
   "cell_type": "markdown",
   "metadata": {},
   "source": [
    "## Question 6: How does the presence of medical care at time of recorded maternal mortality change by region, based off the materna dataset? "
   ]
  },
  {
   "cell_type": "markdown",
   "metadata": {},
   "source": [
    "#### Calculate mean presence of medical care per Region"
   ]
  },
  {
   "cell_type": "code",
   "execution_count": 110,
   "metadata": {},
   "outputs": [],
   "source": [
    "# Create an empty list to store region sample size and mean age of maternal death\n",
    "region_medical = []\n",
    "\n",
    "# Create an iteration function to calculate the mean age of maternal death per region\n",
    "for i in materna['Residence Code'].sort_values().unique():\n",
    "    \"\"\"Calculate Mean Education per Region\"\"\"\n",
    "    \n",
    "    #select one region\n",
    "    sub_df = materna[materna['Residence Code'] == i ]\n",
    "    \n",
    "    #calculate mean of region\n",
    "    med_assist = sub_df['Received(0)/Not(1) Medical Assistance'].mean()\n",
    "    \n",
    "    # append mean to region list\n",
    "    region_medical.append(round(med_assist, 2)) "
   ]
  },
  {
   "cell_type": "code",
   "execution_count": 111,
   "metadata": {},
   "outputs": [
    {
     "name": "stdout",
     "output_type": "stream",
     "text": [
      "32\n"
     ]
    }
   ],
   "source": [
    "# Test output\n",
    "print(len(region_medical))\n",
    "#region_medical"
   ]
  },
  {
   "cell_type": "code",
   "execution_count": 112,
   "metadata": {},
   "outputs": [
    {
     "data": {
      "text/html": [
       "<div>\n",
       "<style scoped>\n",
       "    .dataframe tbody tr th:only-of-type {\n",
       "        vertical-align: middle;\n",
       "    }\n",
       "\n",
       "    .dataframe tbody tr th {\n",
       "        vertical-align: top;\n",
       "    }\n",
       "\n",
       "    .dataframe thead th {\n",
       "        text-align: right;\n",
       "    }\n",
       "</style>\n",
       "<table border=\"1\" class=\"dataframe\">\n",
       "  <thead>\n",
       "    <tr style=\"text-align: right;\">\n",
       "      <th></th>\n",
       "      <th>Region</th>\n",
       "      <th>μ Age Maternal Mortality</th>\n",
       "      <th>μ Age Variance</th>\n",
       "      <th>Above(0) or Below(1) Average</th>\n",
       "      <th>μ Age Adolescent Maternal Death</th>\n",
       "      <th>Above(0) or Below(1) *Ado* Average</th>\n",
       "      <th>Proportion Ado (n) in Total (n)</th>\n",
       "      <th>Above(0)/Not(1) Proportion *Ado*(n):Total(n)</th>\n",
       "      <th>μ Region Education Level</th>\n",
       "      <th>μ Presence(0)/Not(1) of Medical Assistance ATD</th>\n",
       "    </tr>\n",
       "  </thead>\n",
       "  <tbody>\n",
       "    <tr>\n",
       "      <th>1</th>\n",
       "      <td>Aguascalientes</td>\n",
       "      <td>28.36</td>\n",
       "      <td>55.16</td>\n",
       "      <td>0</td>\n",
       "      <td>18.08</td>\n",
       "      <td>0</td>\n",
       "      <td>0.1969</td>\n",
       "      <td>0</td>\n",
       "      <td>4.56</td>\n",
       "      <td>0.16</td>\n",
       "    </tr>\n",
       "    <tr>\n",
       "      <th>2</th>\n",
       "      <td>Baja California</td>\n",
       "      <td>27.15</td>\n",
       "      <td>46.31</td>\n",
       "      <td>1</td>\n",
       "      <td>18.00</td>\n",
       "      <td>0</td>\n",
       "      <td>0.1911</td>\n",
       "      <td>0</td>\n",
       "      <td>4.42</td>\n",
       "      <td>0.16</td>\n",
       "    </tr>\n",
       "    <tr>\n",
       "      <th>3</th>\n",
       "      <td>Baja California Sur</td>\n",
       "      <td>27.56</td>\n",
       "      <td>55.37</td>\n",
       "      <td>1</td>\n",
       "      <td>18.00</td>\n",
       "      <td>0</td>\n",
       "      <td>0.2424</td>\n",
       "      <td>0</td>\n",
       "      <td>4.83</td>\n",
       "      <td>0.16</td>\n",
       "    </tr>\n",
       "    <tr>\n",
       "      <th>4</th>\n",
       "      <td>Campeche</td>\n",
       "      <td>26.87</td>\n",
       "      <td>44.29</td>\n",
       "      <td>1</td>\n",
       "      <td>18.00</td>\n",
       "      <td>0</td>\n",
       "      <td>0.1746</td>\n",
       "      <td>0</td>\n",
       "      <td>4.12</td>\n",
       "      <td>0.14</td>\n",
       "    </tr>\n",
       "    <tr>\n",
       "      <th>5</th>\n",
       "      <td>Chiapas</td>\n",
       "      <td>28.02</td>\n",
       "      <td>45.02</td>\n",
       "      <td>1</td>\n",
       "      <td>18.33</td>\n",
       "      <td>0</td>\n",
       "      <td>0.1677</td>\n",
       "      <td>1</td>\n",
       "      <td>4.75</td>\n",
       "      <td>0.12</td>\n",
       "    </tr>\n",
       "  </tbody>\n",
       "</table>\n",
       "</div>"
      ],
      "text/plain": [
       "                Region  μ Age Maternal Mortality  μ Age Variance  \\\n",
       "1       Aguascalientes                     28.36           55.16   \n",
       "2      Baja California                     27.15           46.31   \n",
       "3  Baja California Sur                     27.56           55.37   \n",
       "4             Campeche                     26.87           44.29   \n",
       "5              Chiapas                     28.02           45.02   \n",
       "\n",
       "   Above(0) or Below(1) Average  μ Age Adolescent Maternal Death  \\\n",
       "1                             0                            18.08   \n",
       "2                             1                            18.00   \n",
       "3                             1                            18.00   \n",
       "4                             1                            18.00   \n",
       "5                             1                            18.33   \n",
       "\n",
       "   Above(0) or Below(1) *Ado* Average  Proportion Ado (n) in Total (n)  \\\n",
       "1                                   0                           0.1969   \n",
       "2                                   0                           0.1911   \n",
       "3                                   0                           0.2424   \n",
       "4                                   0                           0.1746   \n",
       "5                                   0                           0.1677   \n",
       "\n",
       "   Above(0)/Not(1) Proportion *Ado*(n):Total(n)  μ Region Education Level  \\\n",
       "1                                             0                      4.56   \n",
       "2                                             0                      4.42   \n",
       "3                                             0                      4.83   \n",
       "4                                             0                      4.12   \n",
       "5                                             1                      4.75   \n",
       "\n",
       "   μ Presence(0)/Not(1) of Medical Assistance ATD  \n",
       "1                                            0.16  \n",
       "2                                            0.16  \n",
       "3                                            0.16  \n",
       "4                                            0.14  \n",
       "5                                            0.12  "
      ]
     },
     "execution_count": 112,
     "metadata": {},
     "output_type": "execute_result"
    }
   ],
   "source": [
    "# Convert the list to a Series and add as new column\n",
    "res_dataset['μ Presence(0)/Not(1) of Medical Assistance ATD'] = pd.Series(region_medical, index=np.arange(1,33))\n",
    "res_dataset.head()"
   ]
  },
  {
   "cell_type": "code",
   "execution_count": 113,
   "metadata": {},
   "outputs": [
    {
     "name": "stdout",
     "output_type": "stream",
     "text": [
      "Stored 'res_dataset' (DataFrame)\n"
     ]
    }
   ],
   "source": [
    "# Store new dates as a global variable that can be uploaded to other Jupyter Notebooks\n",
    "%store res_dataset"
   ]
  },
  {
   "cell_type": "markdown",
   "metadata": {},
   "source": [
    "#### Now that res_dataset has been completed with all mean age and mean adolescent age maternal mortality by region, it is now time to merge this information with region population and GDP information.\n",
    "- This requires the combination of res_dataset (with each Region mean and variance for total and adolescent maternal mortality), metro_by_region (with Metropolitan Areas organized by Region), and mexico_gdp (with GDP values organized by Metropolitan Areas)."
   ]
  }
 ],
 "metadata": {
  "kernelspec": {
   "display_name": "Python 3",
   "language": "python",
   "name": "python3"
  },
  "language_info": {
   "codemirror_mode": {
    "name": "ipython",
    "version": 3
   },
   "file_extension": ".py",
   "mimetype": "text/x-python",
   "name": "python",
   "nbconvert_exporter": "python",
   "pygments_lexer": "ipython3",
   "version": "3.7.2"
  }
 },
 "nbformat": 4,
 "nbformat_minor": 2
}
