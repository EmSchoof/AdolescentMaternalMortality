{
 "cells": [
  {
   "cell_type": "markdown",
   "metadata": {},
   "source": [
    "The primary purpose of this study was to identify maternal mortality statistics in Mexico. Given that most of maternal deaths could have been prevented, the prediction of the likelihood of death of maternal patients is an urgent task.The proposed method is based on Random Forest, which allowed the identification of \"11\" independent predictors from \"32\" predictive factors. \n",
    "\n",
    "\n",
    "[\"The relevance of machine learning methods is due to data availability, data growing and complexity of medical data, complex dynamic changes in indicators the assessment of which is subjectively complicated because of the significant number of interrelated factors, their heterogeneity, different types of dependencies. The scientific significance is also in the step-by-step interpretation of the results. It is possible to make the results interpretable from a clinical point of view.\"\n",
    "\n",
    "\n",
    "\n",
    "The first ensemble consisted of the following models: Random Forest Classifier [11],\n",
    "KNeighbors Classifier [12], Logistic Regression [13], Gaussian Naive Bayes. \n",
    "\n",
    "\n",
    "For the interpretation of differences between individual parameters of the patients in two classes (Prediction failure/Prediction success), the problem of classification via using the decision tree was solved [14]. The target is prediction failure class."
   ]
  },
  {
   "cell_type": "code",
   "execution_count": null,
   "metadata": {},
   "outputs": [],
   "source": [
    "# Import the relevant python notebooks\n"
   ]
  },
  {
   "cell_type": "code",
   "execution_count": null,
   "metadata": {},
   "outputs": [],
   "source": []
  }
 ],
 "metadata": {
  "kernelspec": {
   "display_name": "Python 3",
   "language": "python",
   "name": "python3"
  },
  "language_info": {
   "codemirror_mode": {
    "name": "ipython",
    "version": 3
   },
   "file_extension": ".py",
   "mimetype": "text/x-python",
   "name": "python",
   "nbconvert_exporter": "python",
   "pygments_lexer": "ipython3",
   "version": "3.7.0"
  }
 },
 "nbformat": 4,
 "nbformat_minor": 2
}
