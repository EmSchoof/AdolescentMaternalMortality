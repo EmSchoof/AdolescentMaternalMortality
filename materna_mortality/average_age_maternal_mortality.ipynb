{
 "cells": [
  {
   "cell_type": "code",
   "execution_count": 70,
   "metadata": {},
   "outputs": [],
   "source": [
    "# Import the relevant python libraries for the analysis\n",
    "import pandas as pd\n",
    "from pandas import DataFrame\n",
    "import pylab as pl\n",
    "import math\n",
    "import matplotlib.pyplot as plt\n",
    "import numpy as np\n",
    "from numpy import histogram\n",
    "import random\n",
    "import seaborn as sns\n",
    "import scipy.stats as stats\n",
    "import statistics\n",
    "from statsmodels.distributions.empirical_distribution import ECDF"
   ]
  },
  {
   "cell_type": "code",
   "execution_count": 5,
   "metadata": {},
   "outputs": [],
   "source": [
    "# Load the dataset\n",
    "materna = pd.read_csv('../data/mortalidad_materna.csv')\n",
    "#materna.info()"
   ]
  },
  {
   "cell_type": "markdown",
   "metadata": {},
   "source": [
    "## Question 1: What is the Average Age of Maternal Death within the dataset?"
   ]
  },
  {
   "cell_type": "markdown",
   "metadata": {},
   "source": [
    "### Step 1: Explore the Data and Create Clean Sub-Dataframe for Analysis"
   ]
  },
  {
   "cell_type": "code",
   "execution_count": 6,
   "metadata": {},
   "outputs": [
    {
     "name": "stdout",
     "output_type": "stream",
     "text": [
      "13088    0-0-0\n",
      "12833    0-0-0\n",
      "dtype: object\n"
     ]
    },
    {
     "data": {
      "text/plain": [
       "18163"
      ]
     },
     "execution_count": 6,
     "metadata": {},
     "output_type": "execute_result"
    }
   ],
   "source": [
    "# 1. Combine patient birthdate information into one column\n",
    "birth = DataFrame(materna, columns=['Año de nacimiento', 'Mes de nacimiento', 'Día de nacimiento'])\n",
    "birth = materna['Año de nacimiento'].map(str) + '-' + materna['Mes de nacimiento'].map(str) + '-' + materna['Mes de nacimiento'].map(str)\n",
    "print(birth.sort_values(ascending=True).head(2))\n",
    "len(birth)"
   ]
  },
  {
   "cell_type": "code",
   "execution_count": 7,
   "metadata": {},
   "outputs": [
    {
     "name": "stdout",
     "output_type": "stream",
     "text": [
      "17886       0-0-0\n",
      "17516    1914-3-3\n",
      "dtype: object\n"
     ]
    },
    {
     "data": {
      "text/plain": [
       "18163"
      ]
     },
     "execution_count": 7,
     "metadata": {},
     "output_type": "execute_result"
    }
   ],
   "source": [
    "# Combine patient date of death information into one column\n",
    "death = DataFrame(materna, columns=['Año de la defunción', 'Mes de la defunción', 'Día de la defunción'])\n",
    "death = materna['Año de la defunción'].map(str) + '-' + materna['Mes de la defunción'].map(str) + '-' + materna['Mes de la defunción'].map(str)\n",
    "print(death.sort_values(ascending=True).head(2))\n",
    "len(death)"
   ]
  },
  {
   "cell_type": "code",
   "execution_count": 8,
   "metadata": {},
   "outputs": [],
   "source": [
    "# Create variable to store age fulfilled by patient and mortality reason\n",
    "last_age = materna['Edad cumplida']\n",
    "mortality_reason = materna['Razón de mortalidad materna']\n",
    "\n",
    "# Create variables:\n",
    "\n",
    "#providence information \n",
    "providence_code = materna['Entidad de residencia']\n",
    "providence_key = materna['Descripción de entidad de residencia']\n",
    "\n",
    "#local community info\n",
    "local_size = materna['Tamaño de localidad']\n",
    "population = materna['Descripción del tamaño de localidad']"
   ]
  },
  {
   "cell_type": "code",
   "execution_count": 9,
   "metadata": {},
   "outputs": [
    {
     "data": {
      "text/html": [
       "<div>\n",
       "<style scoped>\n",
       "    .dataframe tbody tr th:only-of-type {\n",
       "        vertical-align: middle;\n",
       "    }\n",
       "\n",
       "    .dataframe tbody tr th {\n",
       "        vertical-align: top;\n",
       "    }\n",
       "\n",
       "    .dataframe thead th {\n",
       "        text-align: right;\n",
       "    }\n",
       "</style>\n",
       "<table border=\"1\" class=\"dataframe\">\n",
       "  <thead>\n",
       "    <tr style=\"text-align: right;\">\n",
       "      <th></th>\n",
       "      <th>Date of Birth</th>\n",
       "      <th>Date of Death</th>\n",
       "      <th>Age at Death</th>\n",
       "      <th>Reason for Mortality</th>\n",
       "      <th>Residence Code</th>\n",
       "      <th>Residence Name</th>\n",
       "      <th>Local Community Size</th>\n",
       "      <th>Population</th>\n",
       "    </tr>\n",
       "  </thead>\n",
       "  <tbody>\n",
       "    <tr>\n",
       "      <th>0</th>\n",
       "      <td>1972-7-7</td>\n",
       "      <td>2002-3-3</td>\n",
       "      <td>29</td>\n",
       "      <td>1</td>\n",
       "      <td>29</td>\n",
       "      <td>Tlaxcala</td>\n",
       "      <td>10</td>\n",
       "      <td>40000 a 49999   habitantes</td>\n",
       "    </tr>\n",
       "    <tr>\n",
       "      <th>1</th>\n",
       "      <td>1967-4-4</td>\n",
       "      <td>2003-5-5</td>\n",
       "      <td>36</td>\n",
       "      <td>1</td>\n",
       "      <td>29</td>\n",
       "      <td>Tlaxcala</td>\n",
       "      <td>10</td>\n",
       "      <td>40000 a 49999   habitantes</td>\n",
       "    </tr>\n",
       "  </tbody>\n",
       "</table>\n",
       "</div>"
      ],
      "text/plain": [
       "  Date of Birth Date of Death  Age at Death  Reason for Mortality  \\\n",
       "0      1972-7-7      2002-3-3            29                     1   \n",
       "1      1967-4-4      2003-5-5            36                     1   \n",
       "\n",
       "   Residence Code Residence Name  Local Community Size  \\\n",
       "0              29       Tlaxcala                    10   \n",
       "1              29       Tlaxcala                    10   \n",
       "\n",
       "                   Population  \n",
       "0  40000 a 49999   habitantes  \n",
       "1  40000 a 49999   habitantes  "
      ]
     },
     "execution_count": 9,
     "metadata": {},
     "output_type": "execute_result"
    }
   ],
   "source": [
    "# Create a sub-dataframe to hold all date- information \n",
    "dates = pd.concat([birth, death, last_age, mortality_reason, providence_code, providence_key, local_size, population], axis=1)\n",
    "dates.columns = ['Date of Birth', 'Date of Death', 'Age at Death', 'Reason for Mortality', 'Residence Code', 'Residence Name', 'Local Community Size', 'Population']\n",
    "dates.head(2)"
   ]
  },
  {
   "cell_type": "markdown",
   "metadata": {},
   "source": [
    "#### Check for null or errors in the dates sub-dataset"
   ]
  },
  {
   "cell_type": "code",
   "execution_count": 10,
   "metadata": {},
   "outputs": [
    {
     "data": {
      "text/html": [
       "<div>\n",
       "<style scoped>\n",
       "    .dataframe tbody tr th:only-of-type {\n",
       "        vertical-align: middle;\n",
       "    }\n",
       "\n",
       "    .dataframe tbody tr th {\n",
       "        vertical-align: top;\n",
       "    }\n",
       "\n",
       "    .dataframe thead th {\n",
       "        text-align: right;\n",
       "    }\n",
       "</style>\n",
       "<table border=\"1\" class=\"dataframe\">\n",
       "  <thead>\n",
       "    <tr style=\"text-align: right;\">\n",
       "      <th></th>\n",
       "      <th>Date of Birth</th>\n",
       "      <th>Date of Death</th>\n",
       "      <th>Age at Death</th>\n",
       "      <th>Reason for Mortality</th>\n",
       "      <th>Residence Code</th>\n",
       "      <th>Residence Name</th>\n",
       "      <th>Local Community Size</th>\n",
       "      <th>Population</th>\n",
       "    </tr>\n",
       "  </thead>\n",
       "  <tbody>\n",
       "    <tr>\n",
       "      <th>9598</th>\n",
       "      <td>1998-7-7</td>\n",
       "      <td>2009-7-7</td>\n",
       "      <td>11</td>\n",
       "      <td>1</td>\n",
       "      <td>7</td>\n",
       "      <td>Chiapas</td>\n",
       "      <td>1</td>\n",
       "      <td>1 a 999            habitantes</td>\n",
       "    </tr>\n",
       "    <tr>\n",
       "      <th>6407</th>\n",
       "      <td>1996-1-1</td>\n",
       "      <td>2008-12-12</td>\n",
       "      <td>12</td>\n",
       "      <td>1</td>\n",
       "      <td>30</td>\n",
       "      <td>Veracruz de Ignacio de la Llave</td>\n",
       "      <td>11</td>\n",
       "      <td>50000 a 74999   habitantes</td>\n",
       "    </tr>\n",
       "    <tr>\n",
       "      <th>9084</th>\n",
       "      <td>2001-12-12</td>\n",
       "      <td>2014-5-5</td>\n",
       "      <td>12</td>\n",
       "      <td>1</td>\n",
       "      <td>27</td>\n",
       "      <td>Tabasco</td>\n",
       "      <td>14</td>\n",
       "      <td>250000 a 499999 habitantes</td>\n",
       "    </tr>\n",
       "    <tr>\n",
       "      <th>10883</th>\n",
       "      <td>1983-11-11</td>\n",
       "      <td>2002-6-6</td>\n",
       "      <td>12</td>\n",
       "      <td>1</td>\n",
       "      <td>15</td>\n",
       "      <td>México</td>\n",
       "      <td>4</td>\n",
       "      <td>2500 a 4999    habitantes</td>\n",
       "    </tr>\n",
       "    <tr>\n",
       "      <th>1266</th>\n",
       "      <td>1993-0-0</td>\n",
       "      <td>2005-1-1</td>\n",
       "      <td>12</td>\n",
       "      <td>1</td>\n",
       "      <td>12</td>\n",
       "      <td>Guerrero</td>\n",
       "      <td>4</td>\n",
       "      <td>2500 a 4999    habitantes</td>\n",
       "    </tr>\n",
       "  </tbody>\n",
       "</table>\n",
       "</div>"
      ],
      "text/plain": [
       "      Date of Birth Date of Death  Age at Death  Reason for Mortality  \\\n",
       "9598       1998-7-7      2009-7-7            11                     1   \n",
       "6407       1996-1-1    2008-12-12            12                     1   \n",
       "9084     2001-12-12      2014-5-5            12                     1   \n",
       "10883    1983-11-11      2002-6-6            12                     1   \n",
       "1266       1993-0-0      2005-1-1            12                     1   \n",
       "\n",
       "       Residence Code                   Residence Name  Local Community Size  \\\n",
       "9598                7                          Chiapas                     1   \n",
       "6407               30  Veracruz de Ignacio de la Llave                    11   \n",
       "9084               27                          Tabasco                    14   \n",
       "10883              15                           México                     4   \n",
       "1266               12                         Guerrero                     4   \n",
       "\n",
       "                          Population  \n",
       "9598   1 a 999            habitantes  \n",
       "6407      50000 a 74999   habitantes  \n",
       "9084      250000 a 499999 habitantes  \n",
       "10883      2500 a 4999    habitantes  \n",
       "1266       2500 a 4999    habitantes  "
      ]
     },
     "execution_count": 10,
     "metadata": {},
     "output_type": "execute_result"
    }
   ],
   "source": [
    "# Order dates dataframe to list in ascending order of approx. age at death\n",
    "dates = dates.sort_values(by=['Age at Death'],ascending=True)\n",
    "dates.head()"
   ]
  },
  {
   "cell_type": "code",
   "execution_count": 11,
   "metadata": {},
   "outputs": [
    {
     "data": {
      "text/html": [
       "<div>\n",
       "<style scoped>\n",
       "    .dataframe tbody tr th:only-of-type {\n",
       "        vertical-align: middle;\n",
       "    }\n",
       "\n",
       "    .dataframe tbody tr th {\n",
       "        vertical-align: top;\n",
       "    }\n",
       "\n",
       "    .dataframe thead th {\n",
       "        text-align: right;\n",
       "    }\n",
       "</style>\n",
       "<table border=\"1\" class=\"dataframe\">\n",
       "  <thead>\n",
       "    <tr style=\"text-align: right;\">\n",
       "      <th></th>\n",
       "      <th>Date of Birth</th>\n",
       "      <th>Date of Death</th>\n",
       "      <th>Age at Death</th>\n",
       "      <th>Reason for Mortality</th>\n",
       "      <th>Residence Code</th>\n",
       "      <th>Residence Name</th>\n",
       "      <th>Local Community Size</th>\n",
       "      <th>Population</th>\n",
       "    </tr>\n",
       "  </thead>\n",
       "  <tbody>\n",
       "    <tr>\n",
       "      <th>18158</th>\n",
       "      <td>0-0-0</td>\n",
       "      <td>1975-2-2</td>\n",
       "      <td>998</td>\n",
       "      <td>0</td>\n",
       "      <td>25</td>\n",
       "      <td>Sinaloa</td>\n",
       "      <td>1</td>\n",
       "      <td>1 a 999            habitantes</td>\n",
       "    </tr>\n",
       "    <tr>\n",
       "      <th>18159</th>\n",
       "      <td>0-0-0</td>\n",
       "      <td>2006-9-9</td>\n",
       "      <td>998</td>\n",
       "      <td>1</td>\n",
       "      <td>27</td>\n",
       "      <td>Tabasco</td>\n",
       "      <td>12</td>\n",
       "      <td>75000 a 99999   habitantes</td>\n",
       "    </tr>\n",
       "    <tr>\n",
       "      <th>18160</th>\n",
       "      <td>0-0-0</td>\n",
       "      <td>2000-6-6</td>\n",
       "      <td>998</td>\n",
       "      <td>0</td>\n",
       "      <td>16</td>\n",
       "      <td>Michoacán de Ocampo</td>\n",
       "      <td>0</td>\n",
       "      <td>No Especificado.</td>\n",
       "    </tr>\n",
       "    <tr>\n",
       "      <th>18161</th>\n",
       "      <td>0-0-0</td>\n",
       "      <td>0-0-0</td>\n",
       "      <td>998</td>\n",
       "      <td>0</td>\n",
       "      <td>0</td>\n",
       "      <td>No especificado</td>\n",
       "      <td>0</td>\n",
       "      <td>No Especificado.</td>\n",
       "    </tr>\n",
       "    <tr>\n",
       "      <th>18162</th>\n",
       "      <td>0-0-0</td>\n",
       "      <td>2002-4-4</td>\n",
       "      <td>998</td>\n",
       "      <td>1</td>\n",
       "      <td>8</td>\n",
       "      <td>Chihuahua</td>\n",
       "      <td>1</td>\n",
       "      <td>1 a 999            habitantes</td>\n",
       "    </tr>\n",
       "  </tbody>\n",
       "</table>\n",
       "</div>"
      ],
      "text/plain": [
       "      Date of Birth Date of Death  Age at Death  Reason for Mortality  \\\n",
       "18158         0-0-0      1975-2-2           998                     0   \n",
       "18159         0-0-0      2006-9-9           998                     1   \n",
       "18160         0-0-0      2000-6-6           998                     0   \n",
       "18161         0-0-0         0-0-0           998                     0   \n",
       "18162         0-0-0      2002-4-4           998                     1   \n",
       "\n",
       "       Residence Code       Residence Name  Local Community Size  \\\n",
       "18158              25              Sinaloa                     1   \n",
       "18159              27              Tabasco                    12   \n",
       "18160              16  Michoacán de Ocampo                     0   \n",
       "18161               0      No especificado                     0   \n",
       "18162               8            Chihuahua                     1   \n",
       "\n",
       "                          Population  \n",
       "18158  1 a 999            habitantes  \n",
       "18159     75000 a 99999   habitantes  \n",
       "18160               No Especificado.  \n",
       "18161               No Especificado.  \n",
       "18162  1 a 999            habitantes  "
      ]
     },
     "execution_count": 11,
     "metadata": {},
     "output_type": "execute_result"
    }
   ],
   "source": [
    "# Reset Index \n",
    "dates = dates.reset_index(drop=True)\n",
    "dates.head()\n",
    "dates.tail()"
   ]
  },
  {
   "cell_type": "markdown",
   "metadata": {},
   "source": [
    "#### Check if all values make sense\n",
    "- Case 1: It is biologically impossible to reach 998 years of age. These data entries appear to all have '0-0-0' in the 'Date of Birth' column and should therefore be removed from the sub-dataset, dates.\n",
    "- Case 2: What do the '0' and '1' entires for 'Reason for Mortality' mean? If one of these keys is not associated with maternal death, then those entries should also be removed from the sub-dataset, dates."
   ]
  },
  {
   "cell_type": "code",
   "execution_count": 12,
   "metadata": {},
   "outputs": [
    {
     "data": {
      "text/html": [
       "<div>\n",
       "<style scoped>\n",
       "    .dataframe tbody tr th:only-of-type {\n",
       "        vertical-align: middle;\n",
       "    }\n",
       "\n",
       "    .dataframe tbody tr th {\n",
       "        vertical-align: top;\n",
       "    }\n",
       "\n",
       "    .dataframe thead th {\n",
       "        text-align: right;\n",
       "    }\n",
       "</style>\n",
       "<table border=\"1\" class=\"dataframe\">\n",
       "  <thead>\n",
       "    <tr style=\"text-align: right;\">\n",
       "      <th></th>\n",
       "      <th>Date of Birth</th>\n",
       "      <th>Date of Death</th>\n",
       "      <th>Age at Death</th>\n",
       "      <th>Reason for Mortality</th>\n",
       "      <th>Residence Code</th>\n",
       "      <th>Residence Name</th>\n",
       "      <th>Local Community Size</th>\n",
       "      <th>Population</th>\n",
       "    </tr>\n",
       "  </thead>\n",
       "  <tbody>\n",
       "    <tr>\n",
       "      <th>18134</th>\n",
       "      <td>1933-12-12</td>\n",
       "      <td>2015-8-8</td>\n",
       "      <td>81</td>\n",
       "      <td>0</td>\n",
       "      <td>9</td>\n",
       "      <td>Distrito Federal</td>\n",
       "      <td>15</td>\n",
       "      <td>500000 a 999999  habitantes</td>\n",
       "    </tr>\n",
       "    <tr>\n",
       "      <th>18135</th>\n",
       "      <td>1933-11-11</td>\n",
       "      <td>2015-12-12</td>\n",
       "      <td>82</td>\n",
       "      <td>0</td>\n",
       "      <td>15</td>\n",
       "      <td>México</td>\n",
       "      <td>14</td>\n",
       "      <td>250000 a 499999 habitantes</td>\n",
       "    </tr>\n",
       "    <tr>\n",
       "      <th>18136</th>\n",
       "      <td>1933-8-8</td>\n",
       "      <td>2015-9-9</td>\n",
       "      <td>82</td>\n",
       "      <td>0</td>\n",
       "      <td>24</td>\n",
       "      <td>San Luis Potosí</td>\n",
       "      <td>15</td>\n",
       "      <td>500000 a 999999  habitantes</td>\n",
       "    </tr>\n",
       "    <tr>\n",
       "      <th>18137</th>\n",
       "      <td>1930-1-1</td>\n",
       "      <td>2016-2-2</td>\n",
       "      <td>86</td>\n",
       "      <td>0</td>\n",
       "      <td>14</td>\n",
       "      <td>Jalisco</td>\n",
       "      <td>15</td>\n",
       "      <td>500000 a 999999  habitantes</td>\n",
       "    </tr>\n",
       "    <tr>\n",
       "      <th>18138</th>\n",
       "      <td>1930-8-8</td>\n",
       "      <td>2017-1-1</td>\n",
       "      <td>86</td>\n",
       "      <td>0</td>\n",
       "      <td>30</td>\n",
       "      <td>Veracruz de Ignacio de la Llave</td>\n",
       "      <td>2</td>\n",
       "      <td>1000 a 1999    habitantes</td>\n",
       "    </tr>\n",
       "  </tbody>\n",
       "</table>\n",
       "</div>"
      ],
      "text/plain": [
       "      Date of Birth Date of Death  Age at Death  Reason for Mortality  \\\n",
       "18134    1933-12-12      2015-8-8            81                     0   \n",
       "18135    1933-11-11    2015-12-12            82                     0   \n",
       "18136      1933-8-8      2015-9-9            82                     0   \n",
       "18137      1930-1-1      2016-2-2            86                     0   \n",
       "18138      1930-8-8      2017-1-1            86                     0   \n",
       "\n",
       "       Residence Code                   Residence Name  Local Community Size  \\\n",
       "18134               9                 Distrito Federal                    15   \n",
       "18135              15                           México                    14   \n",
       "18136              24                  San Luis Potosí                    15   \n",
       "18137              14                          Jalisco                    15   \n",
       "18138              30  Veracruz de Ignacio de la Llave                     2   \n",
       "\n",
       "                        Population  \n",
       "18134  500000 a 999999  habitantes  \n",
       "18135   250000 a 499999 habitantes  \n",
       "18136  500000 a 999999  habitantes  \n",
       "18137  500000 a 999999  habitantes  \n",
       "18138    1000 a 1999    habitantes  "
      ]
     },
     "execution_count": 12,
     "metadata": {},
     "output_type": "execute_result"
    }
   ],
   "source": [
    "# Remove rows with NaN / '0-0-0' values in Date of Birth\n",
    "dates = dates[dates['Date of Birth'] != '0-0-0']\n",
    "dates.tail()"
   ]
  },
  {
   "cell_type": "code",
   "execution_count": 13,
   "metadata": {},
   "outputs": [
    {
     "data": {
      "text/html": [
       "<div>\n",
       "<style scoped>\n",
       "    .dataframe tbody tr th:only-of-type {\n",
       "        vertical-align: middle;\n",
       "    }\n",
       "\n",
       "    .dataframe tbody tr th {\n",
       "        vertical-align: top;\n",
       "    }\n",
       "\n",
       "    .dataframe thead th {\n",
       "        text-align: right;\n",
       "    }\n",
       "</style>\n",
       "<table border=\"1\" class=\"dataframe\">\n",
       "  <thead>\n",
       "    <tr style=\"text-align: right;\">\n",
       "      <th></th>\n",
       "      <th>Date of Birth</th>\n",
       "      <th>Date of Death</th>\n",
       "      <th>Age at Death</th>\n",
       "      <th>Reason for Mortality</th>\n",
       "      <th>Residence Code</th>\n",
       "      <th>Residence Name</th>\n",
       "      <th>Local Community Size</th>\n",
       "      <th>Population</th>\n",
       "    </tr>\n",
       "  </thead>\n",
       "  <tbody>\n",
       "    <tr>\n",
       "      <th>0</th>\n",
       "      <td>1998-7-7</td>\n",
       "      <td>2009-7-7</td>\n",
       "      <td>11</td>\n",
       "      <td>1</td>\n",
       "      <td>7</td>\n",
       "      <td>Chiapas</td>\n",
       "      <td>1</td>\n",
       "      <td>1 a 999            habitantes</td>\n",
       "    </tr>\n",
       "    <tr>\n",
       "      <th>1</th>\n",
       "      <td>1996-1-1</td>\n",
       "      <td>2008-12-12</td>\n",
       "      <td>12</td>\n",
       "      <td>1</td>\n",
       "      <td>30</td>\n",
       "      <td>Veracruz de Ignacio de la Llave</td>\n",
       "      <td>11</td>\n",
       "      <td>50000 a 74999   habitantes</td>\n",
       "    </tr>\n",
       "    <tr>\n",
       "      <th>2</th>\n",
       "      <td>2001-12-12</td>\n",
       "      <td>2014-5-5</td>\n",
       "      <td>12</td>\n",
       "      <td>1</td>\n",
       "      <td>27</td>\n",
       "      <td>Tabasco</td>\n",
       "      <td>14</td>\n",
       "      <td>250000 a 499999 habitantes</td>\n",
       "    </tr>\n",
       "    <tr>\n",
       "      <th>3</th>\n",
       "      <td>1983-11-11</td>\n",
       "      <td>2002-6-6</td>\n",
       "      <td>12</td>\n",
       "      <td>1</td>\n",
       "      <td>15</td>\n",
       "      <td>México</td>\n",
       "      <td>4</td>\n",
       "      <td>2500 a 4999    habitantes</td>\n",
       "    </tr>\n",
       "    <tr>\n",
       "      <th>4</th>\n",
       "      <td>1993-0-0</td>\n",
       "      <td>2005-1-1</td>\n",
       "      <td>12</td>\n",
       "      <td>1</td>\n",
       "      <td>12</td>\n",
       "      <td>Guerrero</td>\n",
       "      <td>4</td>\n",
       "      <td>2500 a 4999    habitantes</td>\n",
       "    </tr>\n",
       "  </tbody>\n",
       "</table>\n",
       "</div>"
      ],
      "text/plain": [
       "  Date of Birth Date of Death  Age at Death  Reason for Mortality  \\\n",
       "0      1998-7-7      2009-7-7            11                     1   \n",
       "1      1996-1-1    2008-12-12            12                     1   \n",
       "2    2001-12-12      2014-5-5            12                     1   \n",
       "3    1983-11-11      2002-6-6            12                     1   \n",
       "4      1993-0-0      2005-1-1            12                     1   \n",
       "\n",
       "   Residence Code                   Residence Name  Local Community Size  \\\n",
       "0               7                          Chiapas                     1   \n",
       "1              30  Veracruz de Ignacio de la Llave                    11   \n",
       "2              27                          Tabasco                    14   \n",
       "3              15                           México                     4   \n",
       "4              12                         Guerrero                     4   \n",
       "\n",
       "                      Population  \n",
       "0  1 a 999            habitantes  \n",
       "1     50000 a 74999   habitantes  \n",
       "2     250000 a 499999 habitantes  \n",
       "3      2500 a 4999    habitantes  \n",
       "4      2500 a 4999    habitantes  "
      ]
     },
     "execution_count": 13,
     "metadata": {},
     "output_type": "execute_result"
    }
   ],
   "source": [
    "dates.head()"
   ]
  },
  {
   "cell_type": "markdown",
   "metadata": {},
   "source": [
    "**Case 1 Conclusion**: It appears that removing rows with '0-0-0' in the 'Date of Birth' column did remove all entries outside of the biological scope of maximum age at death. However, it is unlikely that a women who reached the age of 81 died due to maternal reasons since this age is outside the childe-bearing years. The analysis of the '0' and '1' in the 'Reason for Mortality' column may shed more light since all younger ages seem to be associated with '1' while older ages are associated with '0'. "
   ]
  },
  {
   "cell_type": "code",
   "execution_count": 14,
   "metadata": {},
   "outputs": [
    {
     "data": {
      "text/html": [
       "<div>\n",
       "<style scoped>\n",
       "    .dataframe tbody tr th:only-of-type {\n",
       "        vertical-align: middle;\n",
       "    }\n",
       "\n",
       "    .dataframe tbody tr th {\n",
       "        vertical-align: top;\n",
       "    }\n",
       "\n",
       "    .dataframe thead th {\n",
       "        text-align: right;\n",
       "    }\n",
       "</style>\n",
       "<table border=\"1\" class=\"dataframe\">\n",
       "  <thead>\n",
       "    <tr style=\"text-align: right;\">\n",
       "      <th></th>\n",
       "      <th>Reason Mortality Code</th>\n",
       "      <th>Reason Mortality Description</th>\n",
       "    </tr>\n",
       "  </thead>\n",
       "  <tbody>\n",
       "    <tr>\n",
       "      <th>0</th>\n",
       "      <td>1</td>\n",
       "      <td>Muertes Maternas para la razón de Mortalidad M...</td>\n",
       "    </tr>\n",
       "    <tr>\n",
       "      <th>1</th>\n",
       "      <td>1</td>\n",
       "      <td>Muertes Maternas para la razón de Mortalidad M...</td>\n",
       "    </tr>\n",
       "    <tr>\n",
       "      <th>2</th>\n",
       "      <td>1</td>\n",
       "      <td>Muertes Maternas para la razón de Mortalidad M...</td>\n",
       "    </tr>\n",
       "    <tr>\n",
       "      <th>3</th>\n",
       "      <td>1</td>\n",
       "      <td>Muertes Maternas para la razón de Mortalidad M...</td>\n",
       "    </tr>\n",
       "    <tr>\n",
       "      <th>4</th>\n",
       "      <td>1</td>\n",
       "      <td>Muertes Maternas para la razón de Mortalidad M...</td>\n",
       "    </tr>\n",
       "  </tbody>\n",
       "</table>\n",
       "</div>"
      ],
      "text/plain": [
       "   Reason Mortality Code                       Reason Mortality Description\n",
       "0                      1  Muertes Maternas para la razón de Mortalidad M...\n",
       "1                      1  Muertes Maternas para la razón de Mortalidad M...\n",
       "2                      1  Muertes Maternas para la razón de Mortalidad M...\n",
       "3                      1  Muertes Maternas para la razón de Mortalidad M...\n",
       "4                      1  Muertes Maternas para la razón de Mortalidad M..."
      ]
     },
     "execution_count": 14,
     "metadata": {},
     "output_type": "execute_result"
    }
   ],
   "source": [
    "# Create a variable for the description of Reason for Mortality Description\n",
    "mortality_description = materna['Descripción de la razón de mortalidad materna']\n",
    "\n",
    "# Create a sub-dataframe to show interaction of Reason for Mortality Code and Description\n",
    "mortality = pd.concat([mortality_reason, mortality_description], axis=1)\n",
    "mortality.columns = ['Reason Mortality Code', 'Reason Mortality Description']\n",
    "mortality.head()"
   ]
  },
  {
   "cell_type": "code",
   "execution_count": 15,
   "metadata": {},
   "outputs": [
    {
     "data": {
      "text/html": [
       "<div>\n",
       "<style scoped>\n",
       "    .dataframe tbody tr th:only-of-type {\n",
       "        vertical-align: middle;\n",
       "    }\n",
       "\n",
       "    .dataframe tbody tr th {\n",
       "        vertical-align: top;\n",
       "    }\n",
       "\n",
       "    .dataframe thead th {\n",
       "        text-align: right;\n",
       "    }\n",
       "</style>\n",
       "<table border=\"1\" class=\"dataframe\">\n",
       "  <thead>\n",
       "    <tr style=\"text-align: right;\">\n",
       "      <th></th>\n",
       "      <th>Reason Mortality Code</th>\n",
       "      <th>Reason Mortality Description</th>\n",
       "    </tr>\n",
       "  </thead>\n",
       "  <tbody>\n",
       "    <tr>\n",
       "      <th>18158</th>\n",
       "      <td>0</td>\n",
       "      <td>Muertes Maternas excluidas para la razón de Mo...</td>\n",
       "    </tr>\n",
       "    <tr>\n",
       "      <th>18159</th>\n",
       "      <td>0</td>\n",
       "      <td>Muertes Maternas excluidas para la razón de Mo...</td>\n",
       "    </tr>\n",
       "    <tr>\n",
       "      <th>18160</th>\n",
       "      <td>0</td>\n",
       "      <td>Muertes Maternas excluidas para la razón de Mo...</td>\n",
       "    </tr>\n",
       "    <tr>\n",
       "      <th>18161</th>\n",
       "      <td>0</td>\n",
       "      <td>Muertes Maternas excluidas para la razón de Mo...</td>\n",
       "    </tr>\n",
       "    <tr>\n",
       "      <th>18162</th>\n",
       "      <td>0</td>\n",
       "      <td>Muertes Maternas excluidas para la razón de Mo...</td>\n",
       "    </tr>\n",
       "  </tbody>\n",
       "</table>\n",
       "</div>"
      ],
      "text/plain": [
       "       Reason Mortality Code  \\\n",
       "18158                      0   \n",
       "18159                      0   \n",
       "18160                      0   \n",
       "18161                      0   \n",
       "18162                      0   \n",
       "\n",
       "                            Reason Mortality Description  \n",
       "18158  Muertes Maternas excluidas para la razón de Mo...  \n",
       "18159  Muertes Maternas excluidas para la razón de Mo...  \n",
       "18160  Muertes Maternas excluidas para la razón de Mo...  \n",
       "18161  Muertes Maternas excluidas para la razón de Mo...  \n",
       "18162  Muertes Maternas excluidas para la razón de Mo...  "
      ]
     },
     "execution_count": 15,
     "metadata": {},
     "output_type": "execute_result"
    }
   ],
   "source": [
    "mortality.tail()"
   ]
  },
  {
   "cell_type": "code",
   "execution_count": 16,
   "metadata": {},
   "outputs": [
    {
     "name": "stdout",
     "output_type": "stream",
     "text": [
      "0 Description:\n",
      "Spanish: Muertes Maternas excluidas para la razón de Mortalidad Materna\n",
      "English: Maternal deaths excluded for the reason of Maternal Mortality\n"
     ]
    }
   ],
   "source": [
    "print('0 Description:')\n",
    "print('Spanish: Muertes Maternas excluidas para la razón de Mortalidad Materna')\n",
    "print('English: Maternal deaths excluded for the reason of Maternal Mortality')"
   ]
  },
  {
   "cell_type": "code",
   "execution_count": 17,
   "metadata": {},
   "outputs": [
    {
     "name": "stdout",
     "output_type": "stream",
     "text": [
      "1 Description:\n",
      "Spanish: Muertes Maternas para la razón de Mortalidad Materna\n",
      "English: Maternal deaths for the reason of Maternal Mortality\n"
     ]
    }
   ],
   "source": [
    "print('1 Description:')\n",
    "print('Spanish: Muertes Maternas para la razón de Mortalidad Materna')\n",
    "print('English: Maternal deaths for the reason of Maternal Mortality')"
   ]
  },
  {
   "cell_type": "markdown",
   "metadata": {},
   "source": [
    "**Case 2 Conclusion**: Since '1' refers to recorded maternal-deaths and '0' refers to recorded deaths that are *not* associated with maternity, all rows containing '0' in the 'Reason for Mortality' column should be removed."
   ]
  },
  {
   "cell_type": "code",
   "execution_count": 18,
   "metadata": {},
   "outputs": [
    {
     "data": {
      "text/html": [
       "<div>\n",
       "<style scoped>\n",
       "    .dataframe tbody tr th:only-of-type {\n",
       "        vertical-align: middle;\n",
       "    }\n",
       "\n",
       "    .dataframe tbody tr th {\n",
       "        vertical-align: top;\n",
       "    }\n",
       "\n",
       "    .dataframe thead th {\n",
       "        text-align: right;\n",
       "    }\n",
       "</style>\n",
       "<table border=\"1\" class=\"dataframe\">\n",
       "  <thead>\n",
       "    <tr style=\"text-align: right;\">\n",
       "      <th></th>\n",
       "      <th>Date of Birth</th>\n",
       "      <th>Date of Death</th>\n",
       "      <th>Age at Death</th>\n",
       "      <th>Reason for Mortality</th>\n",
       "      <th>Residence Code</th>\n",
       "      <th>Residence Name</th>\n",
       "      <th>Local Community Size</th>\n",
       "      <th>Population</th>\n",
       "    </tr>\n",
       "  </thead>\n",
       "  <tbody>\n",
       "    <tr>\n",
       "      <th>18113</th>\n",
       "      <td>1960-3-3</td>\n",
       "      <td>2010-10-10</td>\n",
       "      <td>50</td>\n",
       "      <td>1</td>\n",
       "      <td>12</td>\n",
       "      <td>Guerrero</td>\n",
       "      <td>1</td>\n",
       "      <td>1 a 999            habitantes</td>\n",
       "    </tr>\n",
       "    <tr>\n",
       "      <th>18116</th>\n",
       "      <td>1960-1-1</td>\n",
       "      <td>2011-10-10</td>\n",
       "      <td>51</td>\n",
       "      <td>1</td>\n",
       "      <td>12</td>\n",
       "      <td>Guerrero</td>\n",
       "      <td>1</td>\n",
       "      <td>1 a 999            habitantes</td>\n",
       "    </tr>\n",
       "    <tr>\n",
       "      <th>18121</th>\n",
       "      <td>1963-12-12</td>\n",
       "      <td>2017-10-10</td>\n",
       "      <td>53</td>\n",
       "      <td>1</td>\n",
       "      <td>15</td>\n",
       "      <td>México</td>\n",
       "      <td>6</td>\n",
       "      <td>10000 a 14999  habitantes</td>\n",
       "    </tr>\n",
       "    <tr>\n",
       "      <th>18123</th>\n",
       "      <td>1961-8-8</td>\n",
       "      <td>2015-5-5</td>\n",
       "      <td>53</td>\n",
       "      <td>1</td>\n",
       "      <td>7</td>\n",
       "      <td>Chiapas</td>\n",
       "      <td>2</td>\n",
       "      <td>1000 a 1999    habitantes</td>\n",
       "    </tr>\n",
       "    <tr>\n",
       "      <th>18125</th>\n",
       "      <td>1942-12-12</td>\n",
       "      <td>2002-12-12</td>\n",
       "      <td>54</td>\n",
       "      <td>1</td>\n",
       "      <td>20</td>\n",
       "      <td>Oaxaca</td>\n",
       "      <td>3</td>\n",
       "      <td>2000 a 2499    habitantes</td>\n",
       "    </tr>\n",
       "  </tbody>\n",
       "</table>\n",
       "</div>"
      ],
      "text/plain": [
       "      Date of Birth Date of Death  Age at Death  Reason for Mortality  \\\n",
       "18113      1960-3-3    2010-10-10            50                     1   \n",
       "18116      1960-1-1    2011-10-10            51                     1   \n",
       "18121    1963-12-12    2017-10-10            53                     1   \n",
       "18123      1961-8-8      2015-5-5            53                     1   \n",
       "18125    1942-12-12    2002-12-12            54                     1   \n",
       "\n",
       "       Residence Code Residence Name  Local Community Size  \\\n",
       "18113              12       Guerrero                     1   \n",
       "18116              12       Guerrero                     1   \n",
       "18121              15         México                     6   \n",
       "18123               7        Chiapas                     2   \n",
       "18125              20         Oaxaca                     3   \n",
       "\n",
       "                          Population  \n",
       "18113  1 a 999            habitantes  \n",
       "18116  1 a 999            habitantes  \n",
       "18121      10000 a 14999  habitantes  \n",
       "18123      1000 a 1999    habitantes  \n",
       "18125      2000 a 2499    habitantes  "
      ]
     },
     "execution_count": 18,
     "metadata": {},
     "output_type": "execute_result"
    }
   ],
   "source": [
    "# Remove rows with 0 values in Reason for Mortality\n",
    "dates = dates[dates['Reason for Mortality'] != 0 ]\n",
    "dates.tail()"
   ]
  },
  {
   "cell_type": "code",
   "execution_count": 19,
   "metadata": {},
   "outputs": [
    {
     "data": {
      "text/html": [
       "<div>\n",
       "<style scoped>\n",
       "    .dataframe tbody tr th:only-of-type {\n",
       "        vertical-align: middle;\n",
       "    }\n",
       "\n",
       "    .dataframe tbody tr th {\n",
       "        vertical-align: top;\n",
       "    }\n",
       "\n",
       "    .dataframe thead th {\n",
       "        text-align: right;\n",
       "    }\n",
       "</style>\n",
       "<table border=\"1\" class=\"dataframe\">\n",
       "  <thead>\n",
       "    <tr style=\"text-align: right;\">\n",
       "      <th></th>\n",
       "      <th>Age at Death</th>\n",
       "      <th>Reason for Mortality</th>\n",
       "      <th>Residence Code</th>\n",
       "      <th>Local Community Size</th>\n",
       "    </tr>\n",
       "  </thead>\n",
       "  <tbody>\n",
       "    <tr>\n",
       "      <th>count</th>\n",
       "      <td>16636.000000</td>\n",
       "      <td>16636.0</td>\n",
       "      <td>16636.000000</td>\n",
       "      <td>16636.000000</td>\n",
       "    </tr>\n",
       "    <tr>\n",
       "      <th>mean</th>\n",
       "      <td>28.356756</td>\n",
       "      <td>1.0</td>\n",
       "      <td>16.279574</td>\n",
       "      <td>7.810050</td>\n",
       "    </tr>\n",
       "    <tr>\n",
       "      <th>std</th>\n",
       "      <td>7.323171</td>\n",
       "      <td>0.0</td>\n",
       "      <td>7.850170</td>\n",
       "      <td>5.912597</td>\n",
       "    </tr>\n",
       "    <tr>\n",
       "      <th>min</th>\n",
       "      <td>11.000000</td>\n",
       "      <td>1.0</td>\n",
       "      <td>1.000000</td>\n",
       "      <td>0.000000</td>\n",
       "    </tr>\n",
       "    <tr>\n",
       "      <th>25%</th>\n",
       "      <td>22.000000</td>\n",
       "      <td>1.0</td>\n",
       "      <td>10.000000</td>\n",
       "      <td>2.000000</td>\n",
       "    </tr>\n",
       "    <tr>\n",
       "      <th>50%</th>\n",
       "      <td>28.000000</td>\n",
       "      <td>1.0</td>\n",
       "      <td>15.000000</td>\n",
       "      <td>6.000000</td>\n",
       "    </tr>\n",
       "    <tr>\n",
       "      <th>75%</th>\n",
       "      <td>34.000000</td>\n",
       "      <td>1.0</td>\n",
       "      <td>21.000000</td>\n",
       "      <td>14.000000</td>\n",
       "    </tr>\n",
       "    <tr>\n",
       "      <th>max</th>\n",
       "      <td>54.000000</td>\n",
       "      <td>1.0</td>\n",
       "      <td>34.000000</td>\n",
       "      <td>17.000000</td>\n",
       "    </tr>\n",
       "  </tbody>\n",
       "</table>\n",
       "</div>"
      ],
      "text/plain": [
       "       Age at Death  Reason for Mortality  Residence Code  \\\n",
       "count  16636.000000               16636.0    16636.000000   \n",
       "mean      28.356756                   1.0       16.279574   \n",
       "std        7.323171                   0.0        7.850170   \n",
       "min       11.000000                   1.0        1.000000   \n",
       "25%       22.000000                   1.0       10.000000   \n",
       "50%       28.000000                   1.0       15.000000   \n",
       "75%       34.000000                   1.0       21.000000   \n",
       "max       54.000000                   1.0       34.000000   \n",
       "\n",
       "       Local Community Size  \n",
       "count          16636.000000  \n",
       "mean               7.810050  \n",
       "std                5.912597  \n",
       "min                0.000000  \n",
       "25%                2.000000  \n",
       "50%                6.000000  \n",
       "75%               14.000000  \n",
       "max               17.000000  "
      ]
     },
     "execution_count": 19,
     "metadata": {},
     "output_type": "execute_result"
    }
   ],
   "source": [
    "# Analyze shape of cleaned data\n",
    "dates.describe()"
   ]
  },
  {
   "cell_type": "markdown",
   "metadata": {},
   "source": [
    "### Step 2: Exploratory Data Analysis\n",
    "#### Record the Mean Age of Maternal Death within a Variable"
   ]
  },
  {
   "cell_type": "code",
   "execution_count": 22,
   "metadata": {},
   "outputs": [
    {
     "data": {
      "text/plain": [
       "16636"
      ]
     },
     "execution_count": 22,
     "metadata": {},
     "output_type": "execute_result"
    }
   ],
   "source": [
    "# Create variable for maternal death\n",
    "age_death = dates['Age at Death']\n",
    "\n",
    "# Determine sample size for maternal death \n",
    "sample_size = len(age_death)\n",
    "sample_size"
   ]
  },
  {
   "cell_type": "markdown",
   "metadata": {},
   "source": [
    "#### Plot Sample Age of Maternal Death Distribution"
   ]
  },
  {
   "cell_type": "code",
   "execution_count": 23,
   "metadata": {},
   "outputs": [
    {
     "data": {
      "image/png": "[encoded data removed]",
      "text/plain": [
       "<Figure size 432x288 with 2 Axes>"
      ]
     },
     "metadata": {
      "needs_background": "light"
     },
     "output_type": "display_data"
    },
    {
     "data": {
      "text/plain": [
       "'The sample(n=16636) population mean age of maternal death is 28.36 years old with a standard deviation of 7.32.'"
      ]
     },
     "execution_count": 23,
     "metadata": {},
     "output_type": "execute_result"
    }
   ],
   "source": [
    "# Create a figure with two plots\n",
    "fig, (boxplot, histogram) = plt.subplots(2, sharex=True, gridspec_kw={\"height_ratios\": (.15, .85)})\n",
    "\n",
    "# Add boxplot for maternal death\n",
    "sns.boxplot(age_death, ax=boxplot)\n",
    "\n",
    "# Remove x-axis label from boxplot\n",
    "boxplot.set(xlabel='')\n",
    "\n",
    "# Add histogram and normal curve for maternal death\n",
    "fit = stats.norm.pdf(age_death, np.mean(age_death), np.std(age_death))\n",
    "pl.plot(age_death, fit, '-o')\n",
    "pl.hist(age_death, density=True, alpha=0.5, bins=20)\n",
    "\n",
    "# Label axis \n",
    "pl.xlabel('Age of Maternal Mortality')\n",
    "pl.ylabel('Probability Density Function')\n",
    "pl.title('Age Distribution Associated with the Incidence of Maternal Mortality in Mexico')\n",
    "\n",
    "# Show plot and add print mean and std sample information\n",
    "plt.show()\n",
    "'The sample(n=' + str(sample_size) + ') population mean age of maternal death is ' + str(round(np.mean(age_death), 2)) + ' years old with a standard deviation of ' + str(round(np.std(age_death), 2)) + '.'\n"
   ]
  },
  {
   "cell_type": "markdown",
   "metadata": {},
   "source": [
    "*Preliminary* **Conclusion**: The distribution appears to be generally normally distributed based off of the histogram of the maternal age at time of death. Since binning bias can occur, the Cumulative Distribution Function (CDF) needs to be analyzed. Based off of the Central Limit Theorem (CLT), the sampling distribution of the sample means approaches a normal distribution as the sample size ( n ) gets larger - regardless of what the shape of the population distribution. Under this theorem,  n>30  is considered a large sample size. Since the current database sample size  n  = 16636, CLT can be assumed."
   ]
  },
  {
   "cell_type": "markdown",
   "metadata": {},
   "source": [
    "#### Create an Empirical and Theoretical Cumulative Distribution Function (CDF)"
   ]
  },
  {
   "cell_type": "code",
   "execution_count": 24,
   "metadata": {},
   "outputs": [],
   "source": [
    "# Create an Empirical Cumulative Distribution Function (ECDF)\n",
    "def ecdf(data):\n",
    "    \"\"\"Compute ECDF for a one-dimensional array of measurements.\"\"\"\n",
    "    # x-data for the ECDF: x\n",
    "    x = np.sort(data)\n",
    "\n",
    "    # y-data for the ECDF: y\n",
    "    y = np.arange(1, len(data)+1) / len(data)\n",
    "\n",
    "    return x, y"
   ]
  },
  {
   "cell_type": "markdown",
   "metadata": {},
   "source": [
    "#### Seed a Random Number Generator and Calculate Theoretical Dataset with Normal Distribution"
   ]
  },
  {
   "cell_type": "code",
   "execution_count": 25,
   "metadata": {},
   "outputs": [
    {
     "data": {
      "text/plain": [
       "array([26.06959029, 30.84132168, 27.21504589, ..., 33.86348911,\n",
       "       22.34975498, 28.10388849])"
      ]
     },
     "execution_count": 25,
     "metadata": {},
     "output_type": "execute_result"
    }
   ],
   "source": [
    "# Seed the random number generator\n",
    "np.random.seed(15)\n",
    "\n",
    "# Compute the theoretical CDF \n",
    "cdf_mean = np.mean(age_death)\n",
    "cdf_std = np.std(age_death)\n",
    "\n",
    "# Simulate a random sample with the same distribution and size of 10,000\n",
    "cdf_samples = np.random.normal(cdf_mean, cdf_std, size=10000)\n",
    "cdf_samples"
   ]
  },
  {
   "cell_type": "markdown",
   "metadata": {},
   "source": [
    "#### Apply the ecdf() function to Empirical and Theoretical Data to Calculate the CDFs"
   ]
  },
  {
   "cell_type": "code",
   "execution_count": 26,
   "metadata": {},
   "outputs": [],
   "source": [
    "# Compute the CDFs\n",
    "x_death, y_death = ecdf(age_death)\n",
    "x_norm, y_norm = ecdf(cdf_samples)"
   ]
  },
  {
   "cell_type": "markdown",
   "metadata": {},
   "source": [
    "#### Plot the Theoretical (normalized) CDF with the Empirical (sample) CDF"
   ]
  },
  {
   "cell_type": "code",
   "execution_count": 27,
   "metadata": {},
   "outputs": [
    {
     "data": {
      "image/png": "[encoded data removed]",
      "text/plain": [
       "<Figure size 432x288 with 1 Axes>"
      ]
     },
     "metadata": {
      "needs_background": "light"
     },
     "output_type": "display_data"
    }
   ],
   "source": [
    "# Plot both ECDFs on same the same figure\n",
    "fig = plt.plot(x_death, y_death, marker='.', linestyle='none', alpha=0.5)\n",
    "fig = plt.plot(x_norm, y_norm, marker='.', linestyle='none', alpha=0.5)\n",
    "\n",
    "# Label figure\n",
    "fig = plt.xlabel('Age of Maternal Death')\n",
    "fig = plt.ylabel('CDF')\n",
    "fig = plt.legend(('Sample Population', 'Expected Norm'))\n",
    "fig = plt.title('Distribution of Maternal-Associated Deaths in Mexico')\n",
    "\n",
    "# Save plots\n",
    "plt.show()"
   ]
  },
  {
   "cell_type": "markdown",
   "metadata": {},
   "source": [
    "**Conclusion**: Since the normalized data and the sample population's empirical data follow along the same line, it can be assumed that the population sample is normally distributed.Therefore, based off of both the Central Limit Theorem (CLT) and the Empirical Cumulative Distribution Function (ECDF), the sample population of age of maternal death is normally distributed. "
   ]
  },
  {
   "cell_type": "markdown",
   "metadata": {},
   "source": [
    "### Step 3: Inferential Statistics: Bootstrap Simulation \n",
    "\n",
    "### How does the dataset's mean age of Maternal Mortality (28.36 years) compare to a Statistically-Likely Population Mean?"
   ]
  },
  {
   "cell_type": "markdown",
   "metadata": {},
   "source": [
    "#### Statistical Testing of Data Mean\n",
    "\n",
    "$H$o: The mean age of death of maternal women in Mexico is equal to the mean age of death presented in the dataset ($28.35 yoa$). <br>  Empirical Mean ($μ$) − Population Mean ($μ$) = 0\n",
    "\n",
    "$H$a: The mean age of death of maternal women in Mexico is *not* equal to the mean age of death presented in the dataset ($28.35 yoa$). <br> Empirical Mean ($μ$) − Population Mean ($μ$) ≠ 0\n",
    "\n",
    "Significance Level: *95%* Confidence. <br> $α$ = 0.05"
   ]
  },
  {
   "cell_type": "markdown",
   "metadata": {},
   "source": [
    "#### Create a boostrap replicate function with another function to repeat the bootstrap replication 'x' number of times"
   ]
  },
  {
   "cell_type": "code",
   "execution_count": 28,
   "metadata": {},
   "outputs": [],
   "source": [
    "# Create a bootstrap replicate function for repeatability\n",
    "def bootstrap_replicate_1d(data, func):\n",
    "    \"\"\"Create a bootstrap replicates.\"\"\"\n",
    "    \n",
    "    # Create bootstrap sample\n",
    "    boot_sample = np.random.choice(data, size=len(data))\n",
    "    \n",
    "    # Apply function to the computed bootstrap sample\n",
    "    return func(boot_sample)\n",
    "\n",
    "\n",
    "# Create a function to apply the bootstrap replicate function 'n' and return an array\n",
    "def draw_bs_reps(data, func, size=1):\n",
    "    \"\"\"Draw bootstrap replicates.\"\"\"\n",
    "\n",
    "    # Initialize array of replicates: bs_replicates\n",
    "    boot_rep = np.empty(size)\n",
    "\n",
    "    # Generate 'n' number of replicates\n",
    "    for i in range(size):\n",
    "        boot_rep[i] = bootstrap_replicate_1d(data, func)\n",
    "\n",
    "    return boot_rep"
   ]
  },
  {
   "cell_type": "markdown",
   "metadata": {},
   "source": [
    "#### Calculate the size, mean, and standard deviation of *dates*[ 'Age at Death' ]"
   ]
  },
  {
   "cell_type": "code",
   "execution_count": 29,
   "metadata": {},
   "outputs": [
    {
     "name": "stdout",
     "output_type": "stream",
     "text": [
      "sample size:  16636\n",
      "sample mean age of death:  28.356756431834576\n",
      "sample standard deviation:  7.3231710220967\n"
     ]
    }
   ],
   "source": [
    "# Create variables for sample statistical information\n",
    "materna_age_std = age_death.std()\n",
    "materna_sample_size = len(age_death)\n",
    "mean_age = dates['Age at Death'].mean()\n",
    "\n",
    "# Create an array of the sample mean that is equal to the boostrap array length\n",
    "materna_mean_arr = np.full(10000, mean_age)\n",
    "\n",
    "print('sample size: ', materna_sample_size)\n",
    "print('sample mean age of death: ', mean_age)\n",
    "print('sample standard deviation: ', materna_age_std)"
   ]
  },
  {
   "cell_type": "markdown",
   "metadata": {},
   "source": [
    "#### Create a 10,000 bootstrap replication"
   ]
  },
  {
   "cell_type": "code",
   "execution_count": 30,
   "metadata": {},
   "outputs": [
    {
     "name": "stdout",
     "output_type": "stream",
     "text": [
      "bootstrap mean age of death: 28.356761968021157\n"
     ]
    }
   ],
   "source": [
    "# Create 10000 bootstrap replicates of the mean and take the mean of the returned array\n",
    "boot_tenthousand =  draw_bs_reps(age_death, np.mean, size=10000)\n",
    "print('bootstrap mean age of death: ' + str(np.mean(boot_tenthousand)))"
   ]
  },
  {
   "cell_type": "markdown",
   "metadata": {},
   "source": [
    "#### Calculate the difference between the bootrap and sample means with p-value and standard deviation"
   ]
  },
  {
   "cell_type": "code",
   "execution_count": 31,
   "metadata": {},
   "outputs": [
    {
     "name": "stdout",
     "output_type": "stream",
     "text": [
      "p-value: 0.4943\n",
      "95% Confidence Interval: [28.2443  28.4692]\n"
     ]
    }
   ],
   "source": [
    "# Compute p-value\n",
    "p_val = np.sum(boot_tenthousand >= materna_mean_arr) / len(boot_tenthousand)\n",
    "print('p-value: {0:0.4f}'.format(p_val))\n",
    "\n",
    "# Calculate the standard margin of error for a 95% confidence interval\n",
    "conf_int_low = mean_age-(1.98*(materna_age_std/math.sqrt(materna_sample_size)))\n",
    "conf_int_high = mean_age+(1.98*(materna_age_std/math.sqrt(materna_sample_size)))\n",
    "print('95% Confidence Interval: [{0:0.4f}  {1:0.4f}]'.format(conf_int_low, conf_int_high))"
   ]
  },
  {
   "cell_type": "markdown",
   "metadata": {},
   "source": [
    "**Conclusion from the Bootstrap Hypothesis Test:** The resulting population mean of maternal death approximation based on 10,000 bootstrap replicate samples was *28.3564 years of age (yoa)*, which is close to the sample mean of *28.3568 yoa* old from the dataset. Additionally, the bootstrap population mean is within the 95% Confidence Interval, *28.2443 to 28.4692 yoa* with a p-value of 0.4959, which is greater than α = 0.05. Therefore, the null hypothesis that the mean age of death of maternal women in Mexico is equal to the mean age of death presented in the dataset can be accepted. **$Ho$ is accepted**."
   ]
  },
  {
   "cell_type": "markdown",
   "metadata": {},
   "source": [
    "----------------------------------------------------------------------------------------------------------------------"
   ]
  },
  {
   "cell_type": "markdown",
   "metadata": {},
   "source": [
    "## Question 2: Are the differences in the average age and distribution of age of maternal death within each Mexican province statistically significant?"
   ]
  },
  {
   "cell_type": "markdown",
   "metadata": {},
   "source": [
    "### Step 1: Explore the Data and Create Clean Sub-Dataframe for Analysis"
   ]
  },
  {
   "cell_type": "code",
   "execution_count": 32,
   "metadata": {},
   "outputs": [
    {
     "data": {
      "text/html": [
       "<div>\n",
       "<style scoped>\n",
       "    .dataframe tbody tr th:only-of-type {\n",
       "        vertical-align: middle;\n",
       "    }\n",
       "\n",
       "    .dataframe tbody tr th {\n",
       "        vertical-align: top;\n",
       "    }\n",
       "\n",
       "    .dataframe thead th {\n",
       "        text-align: right;\n",
       "    }\n",
       "</style>\n",
       "<table border=\"1\" class=\"dataframe\">\n",
       "  <thead>\n",
       "    <tr style=\"text-align: right;\">\n",
       "      <th></th>\n",
       "      <th>Date of Birth</th>\n",
       "      <th>Date of Death</th>\n",
       "      <th>Age at Death</th>\n",
       "      <th>Reason for Mortality</th>\n",
       "      <th>Residence Code</th>\n",
       "      <th>Residence Name</th>\n",
       "      <th>Local Community Size</th>\n",
       "      <th>Population</th>\n",
       "    </tr>\n",
       "  </thead>\n",
       "  <tbody>\n",
       "    <tr>\n",
       "      <th>0</th>\n",
       "      <td>1998-7-7</td>\n",
       "      <td>2009-7-7</td>\n",
       "      <td>11</td>\n",
       "      <td>1</td>\n",
       "      <td>7</td>\n",
       "      <td>Chiapas</td>\n",
       "      <td>1</td>\n",
       "      <td>1 a 999            habitantes</td>\n",
       "    </tr>\n",
       "    <tr>\n",
       "      <th>1</th>\n",
       "      <td>1996-1-1</td>\n",
       "      <td>2008-12-12</td>\n",
       "      <td>12</td>\n",
       "      <td>1</td>\n",
       "      <td>30</td>\n",
       "      <td>Veracruz de Ignacio de la Llave</td>\n",
       "      <td>11</td>\n",
       "      <td>50000 a 74999   habitantes</td>\n",
       "    </tr>\n",
       "    <tr>\n",
       "      <th>2</th>\n",
       "      <td>2001-12-12</td>\n",
       "      <td>2014-5-5</td>\n",
       "      <td>12</td>\n",
       "      <td>1</td>\n",
       "      <td>27</td>\n",
       "      <td>Tabasco</td>\n",
       "      <td>14</td>\n",
       "      <td>250000 a 499999 habitantes</td>\n",
       "    </tr>\n",
       "    <tr>\n",
       "      <th>3</th>\n",
       "      <td>1983-11-11</td>\n",
       "      <td>2002-6-6</td>\n",
       "      <td>12</td>\n",
       "      <td>1</td>\n",
       "      <td>15</td>\n",
       "      <td>México</td>\n",
       "      <td>4</td>\n",
       "      <td>2500 a 4999    habitantes</td>\n",
       "    </tr>\n",
       "    <tr>\n",
       "      <th>4</th>\n",
       "      <td>1993-0-0</td>\n",
       "      <td>2005-1-1</td>\n",
       "      <td>12</td>\n",
       "      <td>1</td>\n",
       "      <td>12</td>\n",
       "      <td>Guerrero</td>\n",
       "      <td>4</td>\n",
       "      <td>2500 a 4999    habitantes</td>\n",
       "    </tr>\n",
       "  </tbody>\n",
       "</table>\n",
       "</div>"
      ],
      "text/plain": [
       "  Date of Birth Date of Death  Age at Death  Reason for Mortality  \\\n",
       "0      1998-7-7      2009-7-7            11                     1   \n",
       "1      1996-1-1    2008-12-12            12                     1   \n",
       "2    2001-12-12      2014-5-5            12                     1   \n",
       "3    1983-11-11      2002-6-6            12                     1   \n",
       "4      1993-0-0      2005-1-1            12                     1   \n",
       "\n",
       "   Residence Code                   Residence Name  Local Community Size  \\\n",
       "0               7                          Chiapas                     1   \n",
       "1              30  Veracruz de Ignacio de la Llave                    11   \n",
       "2              27                          Tabasco                    14   \n",
       "3              15                           México                     4   \n",
       "4              12                         Guerrero                     4   \n",
       "\n",
       "                      Population  \n",
       "0  1 a 999            habitantes  \n",
       "1     50000 a 74999   habitantes  \n",
       "2     250000 a 499999 habitantes  \n",
       "3      2500 a 4999    habitantes  \n",
       "4      2500 a 4999    habitantes  "
      ]
     },
     "execution_count": 32,
     "metadata": {},
     "output_type": "execute_result"
    }
   ],
   "source": [
    "dates.head()"
   ]
  },
  {
   "cell_type": "code",
   "execution_count": 36,
   "metadata": {},
   "outputs": [
    {
     "name": "stdout",
     "output_type": "stream",
     "text": [
      "There are 34 Provinces in Mexico.\n"
     ]
    },
    {
     "data": {
      "text/plain": [
       "['Aguascalientes',\n",
       " 'Baja California',\n",
       " 'Baja California Sur',\n",
       " 'Campeche',\n",
       " 'Chiapas',\n",
       " 'Chihuahua',\n",
       " 'Coahuila de Zaragoza',\n",
       " 'Colima',\n",
       " 'Distrito Federal',\n",
       " 'Durango',\n",
       " 'Estados Unidos de Norteamérica',\n",
       " 'Guanajuato',\n",
       " 'Guerrero',\n",
       " 'Hidalgo',\n",
       " 'Jalisco',\n",
       " 'Michoacán de Ocampo',\n",
       " 'Morelos',\n",
       " 'México',\n",
       " 'Nayarit',\n",
       " 'Nuevo León',\n",
       " 'Oaxaca',\n",
       " 'Otros paises latinoamericanos',\n",
       " 'Puebla',\n",
       " 'Querétaro Arteaga',\n",
       " 'Quintana Roo',\n",
       " 'San Luis Potosí',\n",
       " 'Sinaloa',\n",
       " 'Sonora',\n",
       " 'Tabasco',\n",
       " 'Tamaulipas',\n",
       " 'Tlaxcala',\n",
       " 'Veracruz de Ignacio de la Llave',\n",
       " 'Yucatán',\n",
       " 'Zacatecas']"
      ]
     },
     "execution_count": 36,
     "metadata": {},
     "output_type": "execute_result"
    }
   ],
   "source": [
    "print('There are '+ str(len(np.unique(dates['Residence Name']))) + ' Provinces in Mexico.')\n",
    "list(np.unique(dates['Residence Name']))"
   ]
  },
  {
   "cell_type": "markdown",
   "metadata": {},
   "source": [
    "### Cleaning of Data: \n",
    "There are 31 states and 1 federal entity in Mexico, so the length of the 'Regions' column should be 32, not 34. When translating the list of regions within the sub-dataset, it becomes apparent that not all entries are Provinces within Mexico, and need to be removed. Namely:\n",
    "- Estados Unidos de Norteamérica - 'United States of America'\n",
    "- Otros paises latinoamericanos - 'Other Latin American countries'\n",
    "- No especificado - 'Not Specified'\n",
    "- Otros paises - 'Other Countries'"
   ]
  },
  {
   "cell_type": "code",
   "execution_count": 37,
   "metadata": {},
   "outputs": [
    {
     "name": "stdout",
     "output_type": "stream",
     "text": [
      "There are 32 Provinces in Mexico.\n"
     ]
    },
    {
     "data": {
      "text/plain": [
       "['Aguascalientes',\n",
       " 'Baja California',\n",
       " 'Baja California Sur',\n",
       " 'Campeche',\n",
       " 'Chiapas',\n",
       " 'Chihuahua',\n",
       " 'Coahuila de Zaragoza',\n",
       " 'Colima',\n",
       " 'Distrito Federal',\n",
       " 'Durango',\n",
       " 'Guanajuato',\n",
       " 'Guerrero',\n",
       " 'Hidalgo',\n",
       " 'Jalisco',\n",
       " 'Michoacán de Ocampo',\n",
       " 'Morelos',\n",
       " 'México',\n",
       " 'Nayarit',\n",
       " 'Nuevo León',\n",
       " 'Oaxaca',\n",
       " 'Puebla',\n",
       " 'Querétaro Arteaga',\n",
       " 'Quintana Roo',\n",
       " 'San Luis Potosí',\n",
       " 'Sinaloa',\n",
       " 'Sonora',\n",
       " 'Tabasco',\n",
       " 'Tamaulipas',\n",
       " 'Tlaxcala',\n",
       " 'Veracruz de Ignacio de la Llave',\n",
       " 'Yucatán',\n",
       " 'Zacatecas']"
      ]
     },
     "execution_count": 37,
     "metadata": {},
     "output_type": "execute_result"
    }
   ],
   "source": [
    "# Remove unnecessary columns from region_ages sub-dataset\n",
    "dates = dates[dates['Residence Name'] != 'Estados Unidos de Norteamérica' ]\n",
    "dates = dates[dates['Residence Name'] != 'Otros paises latinoamericanos' ]\n",
    "dates = dates[dates['Residence Name'] != 'No especificado' ]\n",
    "dates = dates[dates['Residence Name'] != 'Otros paises' ]\n",
    "\n",
    "print('There are '+ str(len(np.unique(dates['Residence Name']))) + ' Provinces in Mexico.')\n",
    "list(np.unique(dates['Residence Name']))"
   ]
  },
  {
   "cell_type": "code",
   "execution_count": 44,
   "metadata": {},
   "outputs": [
    {
     "data": {
      "text/plain": [
       "Text(0.5,1,'Incidence of Maternal Mortality in Each Providence of Mexico')"
      ]
     },
     "execution_count": 44,
     "metadata": {},
     "output_type": "execute_result"
    },
    {
     "data": {
      "image/png": "[encoded data removed]",
      "text/plain": [
       "<Figure size 1152x288 with 1 Axes>"
      ]
     },
     "metadata": {
      "needs_background": "light"
     },
     "output_type": "display_data"
    }
   ],
   "source": [
    "# Create a bar graph to show distribution of incidences of maternal death by region\n",
    "fig, ax = plt.subplots(figsize=(16, 4))\n",
    "plt.xticks(rotation='vertical')\n",
    "plt.grid(True)\n",
    "fig.subplots_adjust(bottom=0.2)\n",
    "sns.countplot(dates['Residence Name'])\n",
    "\n",
    "# Label axis \n",
    "pl.title('Incidence of Maternal Mortality in Each Providence of Mexico')"
   ]
  },
  {
   "cell_type": "markdown",
   "metadata": {},
   "source": [
    "*Preliminary Observation*: It appears that certain regions have the incidence of maternal death more prevenantly than others. Further analysis needs to be performed in order to assess the cause of these differences. For now, it's important to understand that each region has a different population size. Are these populations distributed normally?"
   ]
  },
  {
   "cell_type": "code",
   "execution_count": 45,
   "metadata": {},
   "outputs": [
    {
     "data": {
      "text/plain": [
       "Text(0.5,1,'Age Distribution of Maternal Mortality within Each Providence of Mexico')"
      ]
     },
     "execution_count": 45,
     "metadata": {},
     "output_type": "execute_result"
    },
    {
     "data": {
      "image/png": "[encoded data removed]",
      "text/plain": [
       "<Figure size 1152x576 with 1 Axes>"
      ]
     },
     "metadata": {
      "needs_background": "light"
     },
     "output_type": "display_data"
    }
   ],
   "source": [
    "# Create a boxplot to show the distribution of each region compared to its mean\n",
    "fig, ax = plt.subplots(figsize=(16, 8))\n",
    "plt.xticks(rotation='vertical')\n",
    "fig.subplots_adjust(bottom=0.2)\n",
    "sns.boxplot(x=dates['Residence Name'], y=dates['Age at Death'], data=dates)\n",
    "\n",
    "# Label axis \n",
    "pl.title('Age Distribution of Maternal Mortality within Each Providence of Mexico')"
   ]
  },
  {
   "cell_type": "markdown",
   "metadata": {},
   "source": [
    "*Preliminary Observation*: As noted above, some Mexican States appear to experience varying instances and age distributions of maternal death. Could this be due to the size of the region or possibly the economic status of the region?"
   ]
  },
  {
   "cell_type": "markdown",
   "metadata": {},
   "source": [
    "### Step 2: Prepare the Data for Analysis\n",
    "- Create variables for age distribution by region"
   ]
  },
  {
   "cell_type": "code",
   "execution_count": 48,
   "metadata": {},
   "outputs": [
    {
     "name": "stdout",
     "output_type": "stream",
     "text": [
      "Aguascalientes Sample Length: [15 15 16 16 17 17 17 17 17 17 18 18 18 18 19 19 19 19 20 20 20 20 20 20\n",
      " 20 21 21 21 21 22 22 22 22 22 22 23 23 23 23 23 23 24 24 24 25 25 25 25\n",
      " 25 25 26 26 26 27 27 27 28 28 28 28 28 28 29 29 29 29 29 29 30 30 30 30\n",
      " 30 30 31 31 31 31 31 31 31 32 32 32 32 33 33 33 33 33 33 34 34 34 35 35\n",
      " 35 35 35 35 35 35 35 36 36 36 36 36 37 37 37 38 38 38 39 39 39 39 39 40\n",
      " 40 41 42 42 42 43 43]\n",
      "México Sample Length: [12 12 14 ... 49 49 53]\n"
     ]
    }
   ],
   "source": [
    "# Create a sample region array variables to hold age distribution per region \n",
    "# as a model to construct a function to parse through subdataset, region_ages\n",
    "aqua = dates[dates['Residence Name'] == 'Aguascalientes']\n",
    "aqua = aqua['Age at Death']\n",
    "aqua = np.array(aqua)\n",
    "\n",
    "mex = dates[dates['Residence Name'] == 'México']\n",
    "mex = mex['Age at Death']\n",
    "mex = np.array(mex)\n",
    "\n",
    "print('Aguascalientes Sample Length: '+ str(aqua))\n",
    "print('México Sample Length: ' + str(mex))"
   ]
  },
  {
   "cell_type": "markdown",
   "metadata": {},
   "source": [
    "Since it appears that the sample size of ages of maternal death within the Provinces varies, the total sample per Province should be stored in unique age array variables. The process of creating the age array is repeatable, so a function should be created then applied to each Province. The array of ages variable can then be stored in a dictionary as a value with the associated Province as the key."
   ]
  },
  {
   "cell_type": "code",
   "execution_count": 49,
   "metadata": {},
   "outputs": [],
   "source": [
    "# Create a function to group all ages associated with materna death within a Province and store the ages in an array\n",
    "\n",
    "def age_array(str):\n",
    "    \"\"\"Create arrays for all Ages of Maternal Death within a Region\"\"\"\n",
    "    \n",
    "    # Select the region 'str' from the 'Region' column\n",
    "    ages = dates[dates['Residence Name'] == str]\n",
    "    \n",
    "    # Select the ages within the region\n",
    "    ages = ages['Age at Death'] \n",
    "    \n",
    "    # Store the ages in an array\n",
    "    ages = np.array(ages)\n",
    "    \n",
    "    # return the unique array\n",
    "    return ages"
   ]
  },
  {
   "cell_type": "code",
   "execution_count": 50,
   "metadata": {},
   "outputs": [
    {
     "name": "stdout",
     "output_type": "stream",
     "text": [
      "Aguascalientes [15 15 16 16 17 17 17 17 17 17 18 18 18 18 19 19 19 19 20 20 20 20 20 20\n",
      " 20 21 21 21 21 22 22 22 22 22 22 23 23 23 23 23 23 24 24 24 25 25 25 25\n",
      " 25 25 26 26 26 27 27 27 28 28 28 28 28 28 29 29 29 29 29 29 30 30 30 30\n",
      " 30 30 31 31 31 31 31 31 31 32 32 32 32 33 33 33 33 33 33 34 34 34 35 35\n",
      " 35 35 35 35 35 35 35 36 36 36 36 36 37 37 37 38 38 38 39 39 39 39 39 40\n",
      " 40 41 42 42 42 43 43]\n",
      "México [12 12 14 ... 49 49 53]\n"
     ]
    }
   ],
   "source": [
    "# Test output\n",
    "print('Aguascalientes', age_array('Aguascalientes'))\n",
    "print('México', age_array('México'))"
   ]
  },
  {
   "cell_type": "code",
   "execution_count": 51,
   "metadata": {},
   "outputs": [],
   "source": [
    "# Create a variable for 'Region' names using np.unique()\n",
    "list_regions = np.unique(dates['Residence Name'])\n",
    "\n",
    "# Create an empty dictionary to hold the {Region : region_age_array} key pairs\n",
    "age_by_state = {}"
   ]
  },
  {
   "cell_type": "code",
   "execution_count": 52,
   "metadata": {},
   "outputs": [],
   "source": [
    "# Use the age_array function with iteration over residence to create the {Region : region_age_array} key pairs\n",
    "for region in list_regions:\n",
    "    \n",
    "    # Add arrays as values in dictionary with region-key\n",
    "    age_by_state[region] = age_array(region)"
   ]
  },
  {
   "cell_type": "code",
   "execution_count": 54,
   "metadata": {},
   "outputs": [
    {
     "name": "stdout",
     "output_type": "stream",
     "text": [
      "Aguascalientes [15 15 16 16 17 17 17 17 17 17 18 18 18 18 19 19 19 19 20 20 20 20 20 20\n",
      " 20 21 21 21 21 22 22 22 22 22 22 23 23 23 23 23 23 24 24 24 25 25 25 25\n",
      " 25 25 26 26 26 27 27 27 28 28 28 28 28 28 29 29 29 29 29 29 30 30 30 30\n",
      " 30 30 31 31 31 31 31 31 31 32 32 32 32 33 33 33 33 33 33 34 34 34 35 35\n",
      " 35 35 35 35 35 35 35 36 36 36 36 36 37 37 37 38 38 38 39 39 39 39 39 40\n",
      " 40 41 42 42 42 43 43]\n"
     ]
    }
   ],
   "source": [
    "# Test output\n",
    "print('Aguascalientes', age_by_state['Aguascalientes'])"
   ]
  },
  {
   "cell_type": "code",
   "execution_count": 55,
   "metadata": {},
   "outputs": [
    {
     "data": {
      "text/html": [
       "<div>\n",
       "<style scoped>\n",
       "    .dataframe tbody tr th:only-of-type {\n",
       "        vertical-align: middle;\n",
       "    }\n",
       "\n",
       "    .dataframe tbody tr th {\n",
       "        vertical-align: top;\n",
       "    }\n",
       "\n",
       "    .dataframe thead th {\n",
       "        text-align: right;\n",
       "    }\n",
       "</style>\n",
       "<table border=\"1\" class=\"dataframe\">\n",
       "  <thead>\n",
       "    <tr style=\"text-align: right;\">\n",
       "      <th></th>\n",
       "      <th>Region</th>\n",
       "    </tr>\n",
       "  </thead>\n",
       "  <tbody>\n",
       "    <tr>\n",
       "      <th>1</th>\n",
       "      <td>Aguascalientes</td>\n",
       "    </tr>\n",
       "    <tr>\n",
       "      <th>2</th>\n",
       "      <td>Baja California</td>\n",
       "    </tr>\n",
       "    <tr>\n",
       "      <th>3</th>\n",
       "      <td>Baja California Sur</td>\n",
       "    </tr>\n",
       "    <tr>\n",
       "      <th>4</th>\n",
       "      <td>Campeche</td>\n",
       "    </tr>\n",
       "    <tr>\n",
       "      <th>5</th>\n",
       "      <td>Chiapas</td>\n",
       "    </tr>\n",
       "  </tbody>\n",
       "</table>\n",
       "</div>"
      ],
      "text/plain": [
       "                Region\n",
       "1       Aguascalientes\n",
       "2      Baja California\n",
       "3  Baja California Sur\n",
       "4             Campeche\n",
       "5              Chiapas"
      ]
     },
     "execution_count": 55,
     "metadata": {},
     "output_type": "execute_result"
    }
   ],
   "source": [
    "# Create a sub-dataframe with residence name, code, and population size (unique)\n",
    "\n",
    "# Var for residence name \n",
    "residence_uniq = np.unique(dates['Residence Name'])\n",
    "\n",
    "# Var for residence code\n",
    "residence_code = np.unique(dates['Residence Code'])\n",
    "\n",
    "# Create the sub-dateframe for region and region code\n",
    "res_dataset = pd.DataFrame(residence_uniq, index=residence_code)\n",
    "res_dataset = res_dataset.rename(columns={0:'Region'})\n",
    "res_dataset.head()"
   ]
  },
  {
   "cell_type": "code",
   "execution_count": 56,
   "metadata": {},
   "outputs": [
    {
     "name": "stdout",
     "output_type": "stream",
     "text": [
      "28.36\n",
      "['28.36']\n",
      "27.15\n",
      "['28.36', '27.15']\n"
     ]
    }
   ],
   "source": [
    "# Calculate the mean age per region\n",
    "# This section has test trials per entry to help formulate an iteration function\n",
    "\n",
    "mean_death_list_trial = []\n",
    "\n",
    "aguas = dates[dates['Residence Code'] == 1 ]\n",
    "aguas = aguas[['Residence Code', 'Age at Death']]\n",
    "aguas_mean = aguas['Age at Death'].mean()\n",
    "aguas_mean = '{0:0.2f}'.format(aguas_mean)\n",
    "print(aguas_mean)\n",
    "\n",
    "mean_death_list_trial.append(aguas_mean)\n",
    "print(mean_death_list_trial)\n",
    "\n",
    "baja = dates[dates['Residence Code'] == 2 ]\n",
    "baja = baja[['Residence Code', 'Age at Death']]\n",
    "baja_mean = baja['Age at Death'].mean()\n",
    "baja_mean = '{0:0.2f}'.format(baja_mean)\n",
    "print(baja_mean)\n",
    "\n",
    "mean_death_list_trial.append(baja_mean)\n",
    "print(mean_death_list_trial)"
   ]
  },
  {
   "cell_type": "code",
   "execution_count": 57,
   "metadata": {},
   "outputs": [],
   "source": [
    "# Create an empty list to store mean age of maternal death per region\n",
    "region_list = []\n",
    "\n",
    "# Create an iteration function to calculate the mean age of maternal death per region\n",
    "for i in dates['Residence Code'].sort_values().unique():\n",
    "    \"\"\"Calculate Mean Age per Region\"\"\"\n",
    "    \n",
    "    #select one region\n",
    "    sub_df = dates[dates['Residence Code'] == (i - 1)]\n",
    "    \n",
    "    #calculate mean of region\n",
    "    mean = sub_df['Age at Death'].mean()\n",
    "    \n",
    "    # append mean to region list\n",
    "    region_list.append(round(mean, 2)) "
   ]
  },
  {
   "cell_type": "code",
   "execution_count": 58,
   "metadata": {},
   "outputs": [
    {
     "name": "stdout",
     "output_type": "stream",
     "text": [
      "27.15 <class 'float'>\n"
     ]
    }
   ],
   "source": [
    "# Test output\n",
    "print(region_list[2], type(region_list[2]))"
   ]
  },
  {
   "cell_type": "code",
   "execution_count": 59,
   "metadata": {},
   "outputs": [
    {
     "data": {
      "text/html": [
       "<div>\n",
       "<style scoped>\n",
       "    .dataframe tbody tr th:only-of-type {\n",
       "        vertical-align: middle;\n",
       "    }\n",
       "\n",
       "    .dataframe tbody tr th {\n",
       "        vertical-align: top;\n",
       "    }\n",
       "\n",
       "    .dataframe thead th {\n",
       "        text-align: right;\n",
       "    }\n",
       "</style>\n",
       "<table border=\"1\" class=\"dataframe\">\n",
       "  <thead>\n",
       "    <tr style=\"text-align: right;\">\n",
       "      <th></th>\n",
       "      <th>Region</th>\n",
       "      <th>μ Age Maternal Death</th>\n",
       "    </tr>\n",
       "  </thead>\n",
       "  <tbody>\n",
       "    <tr>\n",
       "      <th>1</th>\n",
       "      <td>Aguascalientes</td>\n",
       "      <td>28.36</td>\n",
       "    </tr>\n",
       "    <tr>\n",
       "      <th>2</th>\n",
       "      <td>Baja California</td>\n",
       "      <td>27.15</td>\n",
       "    </tr>\n",
       "    <tr>\n",
       "      <th>3</th>\n",
       "      <td>Baja California Sur</td>\n",
       "      <td>27.56</td>\n",
       "    </tr>\n",
       "    <tr>\n",
       "      <th>4</th>\n",
       "      <td>Campeche</td>\n",
       "      <td>26.87</td>\n",
       "    </tr>\n",
       "    <tr>\n",
       "      <th>5</th>\n",
       "      <td>Chiapas</td>\n",
       "      <td>28.02</td>\n",
       "    </tr>\n",
       "    <tr>\n",
       "      <th>6</th>\n",
       "      <td>Chihuahua</td>\n",
       "      <td>27.59</td>\n",
       "    </tr>\n",
       "    <tr>\n",
       "      <th>7</th>\n",
       "      <td>Coahuila de Zaragoza</td>\n",
       "      <td>28.24</td>\n",
       "    </tr>\n",
       "    <tr>\n",
       "      <th>8</th>\n",
       "      <td>Colima</td>\n",
       "      <td>26.98</td>\n",
       "    </tr>\n",
       "    <tr>\n",
       "      <th>9</th>\n",
       "      <td>Distrito Federal</td>\n",
       "      <td>28.84</td>\n",
       "    </tr>\n",
       "    <tr>\n",
       "      <th>10</th>\n",
       "      <td>Durango</td>\n",
       "      <td>28.65</td>\n",
       "    </tr>\n",
       "    <tr>\n",
       "      <th>11</th>\n",
       "      <td>Guanajuato</td>\n",
       "      <td>29.19</td>\n",
       "    </tr>\n",
       "    <tr>\n",
       "      <th>12</th>\n",
       "      <td>Guerrero</td>\n",
       "      <td>28.61</td>\n",
       "    </tr>\n",
       "    <tr>\n",
       "      <th>13</th>\n",
       "      <td>Hidalgo</td>\n",
       "      <td>28.28</td>\n",
       "    </tr>\n",
       "    <tr>\n",
       "      <th>14</th>\n",
       "      <td>Jalisco</td>\n",
       "      <td>29.33</td>\n",
       "    </tr>\n",
       "    <tr>\n",
       "      <th>15</th>\n",
       "      <td>Michoacán de Ocampo</td>\n",
       "      <td>28.26</td>\n",
       "    </tr>\n",
       "    <tr>\n",
       "      <th>16</th>\n",
       "      <td>Morelos</td>\n",
       "      <td>29.26</td>\n",
       "    </tr>\n",
       "    <tr>\n",
       "      <th>17</th>\n",
       "      <td>México</td>\n",
       "      <td>28.18</td>\n",
       "    </tr>\n",
       "    <tr>\n",
       "      <th>18</th>\n",
       "      <td>Nayarit</td>\n",
       "      <td>27.90</td>\n",
       "    </tr>\n",
       "    <tr>\n",
       "      <th>19</th>\n",
       "      <td>Nuevo León</td>\n",
       "      <td>28.17</td>\n",
       "    </tr>\n",
       "    <tr>\n",
       "      <th>20</th>\n",
       "      <td>Oaxaca</td>\n",
       "      <td>28.76</td>\n",
       "    </tr>\n",
       "    <tr>\n",
       "      <th>21</th>\n",
       "      <td>Puebla</td>\n",
       "      <td>28.41</td>\n",
       "    </tr>\n",
       "    <tr>\n",
       "      <th>22</th>\n",
       "      <td>Querétaro Arteaga</td>\n",
       "      <td>29.63</td>\n",
       "    </tr>\n",
       "    <tr>\n",
       "      <th>23</th>\n",
       "      <td>Quintana Roo</td>\n",
       "      <td>27.91</td>\n",
       "    </tr>\n",
       "    <tr>\n",
       "      <th>24</th>\n",
       "      <td>San Luis Potosí</td>\n",
       "      <td>29.15</td>\n",
       "    </tr>\n",
       "    <tr>\n",
       "      <th>25</th>\n",
       "      <td>Sinaloa</td>\n",
       "      <td>27.73</td>\n",
       "    </tr>\n",
       "    <tr>\n",
       "      <th>26</th>\n",
       "      <td>Sonora</td>\n",
       "      <td>27.29</td>\n",
       "    </tr>\n",
       "    <tr>\n",
       "      <th>27</th>\n",
       "      <td>Tabasco</td>\n",
       "      <td>27.10</td>\n",
       "    </tr>\n",
       "    <tr>\n",
       "      <th>28</th>\n",
       "      <td>Tamaulipas</td>\n",
       "      <td>28.26</td>\n",
       "    </tr>\n",
       "    <tr>\n",
       "      <th>29</th>\n",
       "      <td>Tlaxcala</td>\n",
       "      <td>28.45</td>\n",
       "    </tr>\n",
       "    <tr>\n",
       "      <th>30</th>\n",
       "      <td>Veracruz de Ignacio de la Llave</td>\n",
       "      <td>27.94</td>\n",
       "    </tr>\n",
       "    <tr>\n",
       "      <th>31</th>\n",
       "      <td>Yucatán</td>\n",
       "      <td>27.50</td>\n",
       "    </tr>\n",
       "    <tr>\n",
       "      <th>32</th>\n",
       "      <td>Zacatecas</td>\n",
       "      <td>NaN</td>\n",
       "    </tr>\n",
       "  </tbody>\n",
       "</table>\n",
       "</div>"
      ],
      "text/plain": [
       "                             Region  μ Age Maternal Death\n",
       "1                    Aguascalientes                 28.36\n",
       "2                   Baja California                 27.15\n",
       "3               Baja California Sur                 27.56\n",
       "4                          Campeche                 26.87\n",
       "5                           Chiapas                 28.02\n",
       "6                         Chihuahua                 27.59\n",
       "7              Coahuila de Zaragoza                 28.24\n",
       "8                            Colima                 26.98\n",
       "9                  Distrito Federal                 28.84\n",
       "10                          Durango                 28.65\n",
       "11                       Guanajuato                 29.19\n",
       "12                         Guerrero                 28.61\n",
       "13                          Hidalgo                 28.28\n",
       "14                          Jalisco                 29.33\n",
       "15              Michoacán de Ocampo                 28.26\n",
       "16                          Morelos                 29.26\n",
       "17                           México                 28.18\n",
       "18                          Nayarit                 27.90\n",
       "19                       Nuevo León                 28.17\n",
       "20                           Oaxaca                 28.76\n",
       "21                           Puebla                 28.41\n",
       "22                Querétaro Arteaga                 29.63\n",
       "23                     Quintana Roo                 27.91\n",
       "24                  San Luis Potosí                 29.15\n",
       "25                          Sinaloa                 27.73\n",
       "26                           Sonora                 27.29\n",
       "27                          Tabasco                 27.10\n",
       "28                       Tamaulipas                 28.26\n",
       "29                         Tlaxcala                 28.45\n",
       "30  Veracruz de Ignacio de la Llave                 27.94\n",
       "31                          Yucatán                 27.50\n",
       "32                        Zacatecas                   NaN"
      ]
     },
     "execution_count": 59,
     "metadata": {},
     "output_type": "execute_result"
    }
   ],
   "source": [
    "# Convert the list to a Series and add as new column to dates\n",
    "res_dataset['μ Age Maternal Death'] = pd.Series(region_list)\n",
    "res_dataset"
   ]
  },
  {
   "cell_type": "markdown",
   "metadata": {},
   "source": [
    "----------------------------------------------------------------------------------------------------------------------"
   ]
  },
  {
   "cell_type": "markdown",
   "metadata": {},
   "source": [
    "*Preliminary Observation*: Since the region 'Zacatecas' has a NaN value for mean age of maternal death, the contents of 'Zacatecas' need to be adjusted from NaN to the actual mean of the data for the res_dataset. *With a quick reference, the initial values in the res_dataset match the individually calculated mean for both Aguascalientes and Baja California, so we know the NaN is not due to shifted values.*"
   ]
  },
  {
   "cell_type": "markdown",
   "metadata": {},
   "source": [
    "#### Clean Data by Replacing NaN/Null values with the Correct Data"
   ]
  },
  {
   "cell_type": "code",
   "execution_count": 60,
   "metadata": {},
   "outputs": [
    {
     "name": "stdout",
     "output_type": "stream",
     "text": [
      "27.5\n"
     ]
    },
    {
     "data": {
      "text/html": [
       "<div>\n",
       "<style scoped>\n",
       "    .dataframe tbody tr th:only-of-type {\n",
       "        vertical-align: middle;\n",
       "    }\n",
       "\n",
       "    .dataframe tbody tr th {\n",
       "        vertical-align: top;\n",
       "    }\n",
       "\n",
       "    .dataframe thead th {\n",
       "        text-align: right;\n",
       "    }\n",
       "</style>\n",
       "<table border=\"1\" class=\"dataframe\">\n",
       "  <thead>\n",
       "    <tr style=\"text-align: right;\">\n",
       "      <th></th>\n",
       "      <th>Region</th>\n",
       "      <th>μ Age Maternal Death</th>\n",
       "    </tr>\n",
       "  </thead>\n",
       "  <tbody>\n",
       "    <tr>\n",
       "      <th>28</th>\n",
       "      <td>Tamaulipas</td>\n",
       "      <td>28.26</td>\n",
       "    </tr>\n",
       "    <tr>\n",
       "      <th>29</th>\n",
       "      <td>Tlaxcala</td>\n",
       "      <td>28.45</td>\n",
       "    </tr>\n",
       "    <tr>\n",
       "      <th>30</th>\n",
       "      <td>Veracruz de Ignacio de la Llave</td>\n",
       "      <td>27.94</td>\n",
       "    </tr>\n",
       "    <tr>\n",
       "      <th>31</th>\n",
       "      <td>Yucatán</td>\n",
       "      <td>27.50</td>\n",
       "    </tr>\n",
       "    <tr>\n",
       "      <th>32</th>\n",
       "      <td>Zacatecas</td>\n",
       "      <td>27.50</td>\n",
       "    </tr>\n",
       "  </tbody>\n",
       "</table>\n",
       "</div>"
      ],
      "text/plain": [
       "                             Region  μ Age Maternal Death\n",
       "28                       Tamaulipas                 28.26\n",
       "29                         Tlaxcala                 28.45\n",
       "30  Veracruz de Ignacio de la Llave                 27.94\n",
       "31                          Yucatán                 27.50\n",
       "32                        Zacatecas                 27.50"
      ]
     },
     "execution_count": 60,
     "metadata": {},
     "output_type": "execute_result"
    }
   ],
   "source": [
    "# Calculate the mean Age of Death for region 'Zacatecas'\n",
    "zaca = dates[dates['Residence Code'] == 32 ]\n",
    "zaca = zaca['Age at Death']\n",
    "zaca_mean = zaca.mean()\n",
    "zaca_mean = round(mean, 2)\n",
    "print(zaca_mean)\n",
    "\n",
    "# Change contents of res_dataset NaN to calculated mean\n",
    "res_dataset = res_dataset.fillna(zaca_mean)\n",
    "res_dataset.tail()"
   ]
  },
  {
   "cell_type": "code",
   "execution_count": 61,
   "metadata": {},
   "outputs": [
    {
     "data": {
      "text/plain": [
       "Text(0.5,1,'Mean Age Maternal Mortality in Each Providence of Mexico')"
      ]
     },
     "execution_count": 61,
     "metadata": {},
     "output_type": "execute_result"
    },
    {
     "data": {
      "image/png": "[encoded data removed]",
      "text/plain": [
       "<Figure size 1152x288 with 1 Axes>"
      ]
     },
     "metadata": {
      "needs_background": "light"
     },
     "output_type": "display_data"
    }
   ],
   "source": [
    "# Create a bar graph to show mean age maternal death by region\n",
    "fig, ax = plt.subplots(figsize=(16, 4))\n",
    "plt.xticks(rotation='vertical')\n",
    "plt.grid(True)\n",
    "plt.scatter(res_dataset['Region'], res_dataset['μ Age Maternal Death'])\n",
    "\n",
    "# Label axis \n",
    "pl.title('Mean Age Maternal Mortality in Each Providence of Mexico')"
   ]
  },
  {
   "cell_type": "markdown",
   "metadata": {},
   "source": [
    "***Further Investigation Needed***: The difference between the means of each region within Mexico needs to be analyzed to evaluate if theres differences are statistically significant. This can be accomplished by running an ANOVA analysis."
   ]
  },
  {
   "cell_type": "markdown",
   "metadata": {},
   "source": [
    "### Step 3: Statistical Inference - ANOVA Examination"
   ]
  },
  {
   "cell_type": "markdown",
   "metadata": {},
   "source": [
    "A **One-Way Analysis of Variance (ANOVA)** test compares the means of two or more groups to determine if at least one group mean is statistically different from the others. These assumptions that must be satisfied in order for the associated p-value to be valid:\n",
    "\n",
    "1. The samples are independent.\n",
    "2. Each sample is from a normally distributed population.\n",
    "3. The population standard deviations of the groups are all equal. (homoscedasticity)"
   ]
  },
  {
   "cell_type": "markdown",
   "metadata": {},
   "source": [
    "#### 1. Samples must be Random / Independent"
   ]
  },
  {
   "cell_type": "code",
   "execution_count": null,
   "metadata": {},
   "outputs": [],
   "source": []
  },
  {
   "cell_type": "markdown",
   "metadata": {},
   "source": [
    "#### 2. Samples must be Normally Distributed"
   ]
  },
  {
   "cell_type": "markdown",
   "metadata": {},
   "source": [
    "**Within the SciPy module of python 3, there is a normalcy function** that tests the null hypothesis that a sample comes from a normal distribution. It is based on **D’Agostino** and **Pearson’s test** that combines skew and kurtosis to test of normality. This function be used to further determine if the distribution of each Province sample population is normally distributed."
   ]
  },
  {
   "cell_type": "code",
   "execution_count": 62,
   "metadata": {},
   "outputs": [],
   "source": [
    "# Create a variable to hold list of Regions with normally-distributed sample sizes\n",
    "norm_distr_regions = []\n",
    "\n",
    "# Create a variable to hold list of Regions without normally-distributed sample sizes\n",
    "not_norm_distr_regions = []"
   ]
  },
  {
   "cell_type": "code",
   "execution_count": 63,
   "metadata": {},
   "outputs": [
    {
     "name": "stdout",
     "output_type": "stream",
     "text": [
      "p = 8.92987e-06\n",
      "n = 127\n",
      "Aguascalientes IS normally distributed.\n",
      "p = 9.69442e-10\n",
      "n = 361\n",
      "Baja California IS normally distributed.\n",
      "p = 0.00564503\n",
      "n = 66\n",
      "Baja California Sur IS normally distributed.\n",
      "p = 0.00137276\n",
      "n = 126\n",
      "Campeche IS normally distributed.\n",
      "p = 1.03976e-37\n",
      "n = 1235\n",
      "Chiapas IS normally distributed.\n",
      "p = 8.42917e-19\n",
      "n = 628\n",
      "Chihuahua IS normally distributed.\n",
      "p = 1.6423e-09\n",
      "n = 310\n",
      "Coahuila de Zaragoza IS normally distributed.\n",
      "p = 0.788087\n",
      "n = 49\n",
      "Colima *IS NOT* normally distributed.\n",
      "p = 2.13913e-21\n",
      "n = 1082\n",
      "Distrito Federal IS normally distributed.\n",
      "p = 8.83805e-06\n",
      "n = 263\n",
      "Durango IS normally distributed.\n",
      "p = 6.25818e-14\n",
      "n = 707\n",
      "Guanajuato IS normally distributed.\n",
      "p = 6.26788e-20\n",
      "n = 977\n",
      "Guerrero IS normally distributed.\n",
      "p = 1.22187e-06\n",
      "n = 428\n",
      "Hidalgo IS normally distributed.\n",
      "p = 3.85647e-24\n",
      "n = 802\n",
      "Jalisco IS normally distributed.\n",
      "p = 3.0739e-14\n",
      "n = 654\n",
      "Michoacán de Ocampo IS normally distributed.\n",
      "p = 1.07763e-05\n",
      "n = 243\n",
      "Morelos IS normally distributed.\n",
      "p = 1.9078e-37\n",
      "n = 2299\n",
      "México IS normally distributed.\n",
      "p = 0.00736818\n",
      "n = 164\n",
      "Nayarit IS normally distributed.\n",
      "p = 5.47165e-05\n",
      "n = 323\n",
      "Nuevo León IS normally distributed.\n",
      "p = 8.38578e-16\n",
      "n = 874\n",
      "Oaxaca IS normally distributed.\n",
      "p = 1.30332e-29\n",
      "n = 990\n",
      "Puebla IS normally distributed.\n",
      "p = 0.000162015\n",
      "n = 227\n",
      "Querétaro Arteaga IS normally distributed.\n",
      "p = 0.133082\n",
      "n = 190\n",
      "Quintana Roo *IS NOT* normally distributed.\n",
      "p = 0.00022599\n",
      "n = 375\n",
      "San Luis Potosí IS normally distributed.\n",
      "p = 0.00551234\n",
      "n = 270\n",
      "Sinaloa IS normally distributed.\n",
      "p = 4.5582e-05\n",
      "n = 303\n",
      "Sonora IS normally distributed.\n",
      "p = 6.95067e-06\n",
      "n = 315\n",
      "Tabasco IS normally distributed.\n",
      "p = 0.000130459\n",
      "n = 377\n",
      "Tamaulipas IS normally distributed.\n",
      "p = 0.000375517\n",
      "n = 178\n",
      "Tlaxcala IS normally distributed.\n",
      "p = 1.47213e-39\n",
      "n = 1239\n",
      "Veracruz de Ignacio de la Llave IS normally distributed.\n",
      "p = 9.32947e-09\n",
      "n = 258\n",
      "Yucatán IS normally distributed.\n",
      "p = 4.93191e-05\n",
      "n = 191\n",
      "Zacatecas IS normally distributed.\n"
     ]
    }
   ],
   "source": [
    "# Determine if each Province has a normally distributed sample population of ages\n",
    "\n",
    "for region in age_by_state:\n",
    "    \"\"\"Determine if Region Age Distribution is Normal\"\"\"\n",
    "    \n",
    "    # Select age array by Region key in database\n",
    "    region_name = str(region)\n",
    "    arr = age_by_state[region_name]\n",
    "    \n",
    "    # Skewtest (k2) is not valid with less than 8 samples\n",
    "    if len(arr) > 8:\n",
    "        \n",
    "        # Test for normalcy of distribution (with Skewtest)   \n",
    "        k2, p = stats.normaltest(arr)\n",
    "\n",
    "        # Set significance level to 95% confidence\n",
    "        alpha = 0.05\n",
    "        print(\"p = {:g}\".format(p))\n",
    "        print(\"n = \" + str(len(arr)))\n",
    "\n",
    "        # Print result for each region normalcy test\n",
    "        if p < alpha:  # null hypothesis: x comes from a normal distribution\n",
    "            print(str(region)+ \" IS normally distributed.\")\n",
    "            \n",
    "            # Add region to list of regions for statistical analysis\n",
    "            norm_distr_regions.append(region_name)\n",
    "            \n",
    "        else:\n",
    "            print(str(region)+ \" *IS NOT* normally distributed.\")\n",
    "              \n",
    "            # Add region to list of regions NOT for statistical analysis\n",
    "            not_norm_distr_regions.append(region_name)\n",
    "                \n",
    "    else: \n",
    "        print(str(region)+ \" *sample size is too small*\")\n",
    "        \n",
    "        # Add region to list of regions NOT for statistical analysis\n",
    "        not_norm_distr_regions.append(region_name)"
   ]
  },
  {
   "cell_type": "code",
   "execution_count": 68,
   "metadata": {},
   "outputs": [
    {
     "name": "stdout",
     "output_type": "stream",
     "text": [
      "Not Normally Distributed:  ['Colima', 'Quintana Roo']\n"
     ]
    }
   ],
   "source": [
    "print('Not Normally Distributed: ', list(np.unique(not_norm_distr_regions)))"
   ]
  },
  {
   "cell_type": "markdown",
   "metadata": {},
   "source": [
    "**Normalcy Conclusion**: After assessing the distribution of age of maternal death within each Province of Mexico, **all Province sample populations are considered to be normally distributed** *aside from* Colima (p-value: 2.13913e-21, n=1082) Quintana Roo (p-value: 0.00022599, n=375), which were found to *not be normally distributed*. \n",
    "\n",
    "However, under the Central Limit Theorem (CLT), the sampling distribution of the sample means approaches a normal distribution as the sample size ( n ) gets larger - regardless of what the shape of the population distribution. Under this theorem,  n>30  is considered a large sample size. *Since the current database sample size (n) of Colima and Quintana Roo of 1082 and 375, respectively, justify CLT being assumed.* "
   ]
  },
  {
   "cell_type": "markdown",
   "metadata": {},
   "source": [
    "#### 3. Homogeneity of Variance: All comparison groups have the same variance with Barlett's Test.\n",
    "- Bartlett’s test tests the null hypothesis that all input samples are from populations with equal variances for samples from significantly normal population distributions. \n",
    "- *Extra Analysis*: Calculate the standard deviation and variance of each population"
   ]
  },
  {
   "cell_type": "markdown",
   "metadata": {},
   "source": [
    "#### Bartlett’s Test for Homogeneity of Variance\n",
    "$H$o: All region age of maternal mortality populations have equal variance. <br>  $v$1 = $v$2 = $v$3 = .... = $v$32\n",
    "\n",
    "$H$a: There is at least one region age of maternal mortality population variance is statistically different from the rest. <br> $v$1 ≠ $v$2 = .... = $v$32\n",
    "\n",
    "Significance Level: *95%* Confidence. <br> $α$ = 0.05"
   ]
  },
  {
   "cell_type": "code",
   "execution_count": 81,
   "metadata": {},
   "outputs": [
    {
     "name": "stdout",
     "output_type": "stream",
     "text": [
      "BartlettResult(statistic=1.5499938218119378, pvalue=0.2131363529440692)\n",
      "BartlettResult(statistic=0.0026360082272445526, pvalue=0.959052944694013)\n"
     ]
    }
   ],
   "source": [
    "# Calculate the age variance per region - This section has test trials per entry to help formulate an iteration function\n",
    "\n",
    "# Aquascalientes and Baja California\n",
    "print(stats.bartlett(age_by_state['Aguascalientes'], age_by_state['Baja California']))\n",
    "\n",
    "# Aquascalientes and Baja California Sur\n",
    "print(stats.bartlett(age_by_state['Aguascalientes'], age_by_state['Baja California Sur']))"
   ]
  },
  {
   "cell_type": "markdown",
   "metadata": {},
   "source": [
    "*Preliminary Conclusion*: Even during the calculating all Bartlett results between region populations, it is evident that not all regions have the same variance."
   ]
  },
  {
   "cell_type": "code",
   "execution_count": 71,
   "metadata": {},
   "outputs": [
    {
     "name": "stdout",
     "output_type": "stream",
     "text": [
      "Aguas 7.426987701638709 55.16014632029264\n",
      "Baja Cal 6.805289717580556 46.31196814020764\n"
     ]
    }
   ],
   "source": [
    "# Calculate the age standard deviation and variance per region - \n",
    "# This section has test trials per entry to help formulate an iteration function\n",
    "\n",
    "aguas = dates[dates['Residence Code'] == 1 ]\n",
    "aguas = aguas[['Residence Code', 'Age at Death']]\n",
    "aguas_std = statistics.pstdev(aguas['Age at Death'])\n",
    "aguas_var = statistics.pvariance(aguas['Age at Death'])\n",
    "\n",
    "print('Aguas', aguas_std, aguas_var)\n",
    "\n",
    "baja = dates[dates['Residence Code'] == 2 ]\n",
    "baja = baja[['Residence Code', 'Age at Death']]\n",
    "baja_std = statistics.pstdev(baja['Age at Death'])\n",
    "baja_var = statistics.pvariance(baja['Age at Death'])\n",
    "\n",
    "print('Baja Cal', baja_std, baja_var)"
   ]
  },
  {
   "cell_type": "code",
   "execution_count": 82,
   "metadata": {},
   "outputs": [],
   "source": [
    "# Create an empty list to store the std of maternal death per region\n",
    "region_bartlett = {}"
   ]
  },
  {
   "cell_type": "code",
   "execution_count": 83,
   "metadata": {},
   "outputs": [],
   "source": [
    "# Use Bartlett to determine if the variance of ages from the mean is different between regions\n",
    "\n",
    "for region in age_by_state:\n",
    "    \"\"\"Calculate Bartlett between 2 Regions\"\"\"\n",
    "    \n",
    "    # Select first age array by Region key in database\n",
    "    region_name = str(region)\n",
    "    arr = age_by_state[region_name]\n",
    "    \n",
    "    for region_2 in age_by_state:\n",
    "        \n",
    "        # Select second age array by Region key in database\n",
    "        region_name_2 = str(region_2)\n",
    "        arr_2 = age_by_state[region_name_2]\n",
    "        \n",
    "        if region_name != region_name_2:\n",
    "            \n",
    "            # Compare the variations of the two populations\n",
    "            bartlett = stats.bartlett(arr, arr_2)\n",
    "            \n",
    "            # Create a combined key for new dictionary\n",
    "            combined_key = str(region_name) + \" + \" + str(region_name_2)\n",
    "            \n",
    "            # Avoid duplicate entries by testing for the reverse key\n",
    "            reversed_key = str(region_name_2) + \" + \" + str(region_name)\n",
    "    \n",
    "            if combined_key and reversed_key not in region_bartlett:\n",
    "            \n",
    "                # append bartlett value to combined region key bartlett\n",
    "                region_bartlett[combined_key] = bartlett"
   ]
  },
  {
   "cell_type": "code",
   "execution_count": 89,
   "metadata": {},
   "outputs": [
    {
     "name": "stdout",
     "output_type": "stream",
     "text": [
      "496\n",
      "BartlettResult(statistic=1.5499938218119378, pvalue=0.2131363529440692)\n",
      "BartlettResult(statistic=0.0026360082272445526, pvalue=0.959052944694013)\n"
     ]
    }
   ],
   "source": [
    "# Test output\n",
    "print(len(region_bartlett))\n",
    "print(region_bartlett['Aguascalientes + Baja California'])\n",
    "print(region_bartlett['Aguascalientes + Baja California Sur'])"
   ]
  },
  {
   "cell_type": "markdown",
   "metadata": {},
   "source": [
    "*Preliminary* **Conclusion for Homogeneity of Variance**: As stated above, it is clear that the Bartlett Result shows differing Variance relationships between different Mexican States. Luckily, the proof for ANOVA test is robust, so slight variations from its proof criteria are  OK (source: https://faculty.elgin.edu/dkernler/statistics/ch13/13-1.html). A good rule of thumb is that as long as the largest variance is no more than double the smallest, we can assume ANOVA's requirement for Homogeneity of Variance is satisfied."
   ]
  },
  {
   "cell_type": "markdown",
   "metadata": {},
   "source": [
    "#### Evaluate the differences between the largest and smallest Region variances in Mexico."
   ]
  },
  {
   "cell_type": "code",
   "execution_count": 90,
   "metadata": {},
   "outputs": [],
   "source": [
    "# Create an empty list to store age of maternal death standard deviation per region\n",
    "region_std = []\n",
    "\n",
    "# Create an empty list to store age of maternal death variance per region\n",
    "region_var = []\n",
    "\n",
    "# Create an iteration function\n",
    "for i in dates['Residence Code'].sort_values().unique():\n",
    "    \"\"\"Calculate Age Standard Deviation and Age Variance per Region\"\"\"\n",
    "    \n",
    "    #select one region\n",
    "    sub_df = dates[dates['Residence Code'] == i]\n",
    "    age = list(sub_df['Age at Death'])\n",
    "   \n",
    "    # calculate standard deviation of region population with pstdev()\n",
    "    std = statistics.pstdev(age)\n",
    "    \n",
    "    # calculate age variance of region population with pstdev()\n",
    "    var = statistics.pvariance(age)\n",
    "    \n",
    "    # prevent repeat entries in lists\n",
    "    for region in sub_df['Residence Name'].unique():\n",
    "        \n",
    "        # append std to region list\n",
    "        region_std.append(round(std, 2))\n",
    "   \n",
    "        # append var to region list\n",
    "        region_var.append(round(var, 2)) "
   ]
  },
  {
   "cell_type": "code",
   "execution_count": 91,
   "metadata": {},
   "outputs": [
    {
     "name": "stdout",
     "output_type": "stream",
     "text": [
      "Test Results - Aguas 7.43 55.16\n",
      "Function Results - Aguas 7.43 55.16\n"
     ]
    }
   ],
   "source": [
    "# Test output - Make sure it matches Test Results\n",
    "print('Test Results - Aguas', round(aguas_std, 2), round(aguas_var,2))\n",
    "print('Function Results - Aguas', region_std[0], region_var[0])"
   ]
  },
  {
   "cell_type": "code",
   "execution_count": 92,
   "metadata": {},
   "outputs": [
    {
     "data": {
      "text/html": [
       "<div>\n",
       "<style scoped>\n",
       "    .dataframe tbody tr th:only-of-type {\n",
       "        vertical-align: middle;\n",
       "    }\n",
       "\n",
       "    .dataframe tbody tr th {\n",
       "        vertical-align: top;\n",
       "    }\n",
       "\n",
       "    .dataframe thead th {\n",
       "        text-align: right;\n",
       "    }\n",
       "</style>\n",
       "<table border=\"1\" class=\"dataframe\">\n",
       "  <thead>\n",
       "    <tr style=\"text-align: right;\">\n",
       "      <th></th>\n",
       "      <th>Region</th>\n",
       "      <th>μ Age Maternal Death</th>\n",
       "      <th>Standard Deviation</th>\n",
       "      <th>Variance</th>\n",
       "    </tr>\n",
       "  </thead>\n",
       "  <tbody>\n",
       "    <tr>\n",
       "      <th>1</th>\n",
       "      <td>Aguascalientes</td>\n",
       "      <td>28.36</td>\n",
       "      <td>7.43</td>\n",
       "      <td>55.16</td>\n",
       "    </tr>\n",
       "    <tr>\n",
       "      <th>2</th>\n",
       "      <td>Baja California</td>\n",
       "      <td>27.15</td>\n",
       "      <td>6.81</td>\n",
       "      <td>46.31</td>\n",
       "    </tr>\n",
       "    <tr>\n",
       "      <th>3</th>\n",
       "      <td>Baja California Sur</td>\n",
       "      <td>27.56</td>\n",
       "      <td>7.44</td>\n",
       "      <td>55.37</td>\n",
       "    </tr>\n",
       "    <tr>\n",
       "      <th>4</th>\n",
       "      <td>Campeche</td>\n",
       "      <td>26.87</td>\n",
       "      <td>6.65</td>\n",
       "      <td>44.29</td>\n",
       "    </tr>\n",
       "    <tr>\n",
       "      <th>5</th>\n",
       "      <td>Chiapas</td>\n",
       "      <td>28.02</td>\n",
       "      <td>6.71</td>\n",
       "      <td>45.02</td>\n",
       "    </tr>\n",
       "    <tr>\n",
       "      <th>6</th>\n",
       "      <td>Chihuahua</td>\n",
       "      <td>27.59</td>\n",
       "      <td>6.33</td>\n",
       "      <td>40.12</td>\n",
       "    </tr>\n",
       "    <tr>\n",
       "      <th>7</th>\n",
       "      <td>Coahuila de Zaragoza</td>\n",
       "      <td>28.24</td>\n",
       "      <td>7.85</td>\n",
       "      <td>61.58</td>\n",
       "    </tr>\n",
       "    <tr>\n",
       "      <th>8</th>\n",
       "      <td>Colima</td>\n",
       "      <td>26.98</td>\n",
       "      <td>7.43</td>\n",
       "      <td>55.14</td>\n",
       "    </tr>\n",
       "    <tr>\n",
       "      <th>9</th>\n",
       "      <td>Distrito Federal</td>\n",
       "      <td>28.84</td>\n",
       "      <td>7.13</td>\n",
       "      <td>50.84</td>\n",
       "    </tr>\n",
       "    <tr>\n",
       "      <th>10</th>\n",
       "      <td>Durango</td>\n",
       "      <td>28.65</td>\n",
       "      <td>7.60</td>\n",
       "      <td>57.71</td>\n",
       "    </tr>\n",
       "    <tr>\n",
       "      <th>11</th>\n",
       "      <td>Guanajuato</td>\n",
       "      <td>29.19</td>\n",
       "      <td>7.37</td>\n",
       "      <td>54.33</td>\n",
       "    </tr>\n",
       "    <tr>\n",
       "      <th>12</th>\n",
       "      <td>Guerrero</td>\n",
       "      <td>28.61</td>\n",
       "      <td>7.68</td>\n",
       "      <td>59.06</td>\n",
       "    </tr>\n",
       "    <tr>\n",
       "      <th>13</th>\n",
       "      <td>Hidalgo</td>\n",
       "      <td>28.28</td>\n",
       "      <td>7.27</td>\n",
       "      <td>52.90</td>\n",
       "    </tr>\n",
       "    <tr>\n",
       "      <th>14</th>\n",
       "      <td>Jalisco</td>\n",
       "      <td>29.33</td>\n",
       "      <td>7.12</td>\n",
       "      <td>50.74</td>\n",
       "    </tr>\n",
       "    <tr>\n",
       "      <th>15</th>\n",
       "      <td>Michoacán de Ocampo</td>\n",
       "      <td>28.26</td>\n",
       "      <td>7.12</td>\n",
       "      <td>50.70</td>\n",
       "    </tr>\n",
       "    <tr>\n",
       "      <th>16</th>\n",
       "      <td>Morelos</td>\n",
       "      <td>29.26</td>\n",
       "      <td>7.43</td>\n",
       "      <td>55.15</td>\n",
       "    </tr>\n",
       "    <tr>\n",
       "      <th>17</th>\n",
       "      <td>México</td>\n",
       "      <td>28.18</td>\n",
       "      <td>7.60</td>\n",
       "      <td>57.74</td>\n",
       "    </tr>\n",
       "    <tr>\n",
       "      <th>18</th>\n",
       "      <td>Nayarit</td>\n",
       "      <td>27.90</td>\n",
       "      <td>7.59</td>\n",
       "      <td>57.64</td>\n",
       "    </tr>\n",
       "    <tr>\n",
       "      <th>19</th>\n",
       "      <td>Nuevo León</td>\n",
       "      <td>28.17</td>\n",
       "      <td>7.08</td>\n",
       "      <td>50.19</td>\n",
       "    </tr>\n",
       "    <tr>\n",
       "      <th>20</th>\n",
       "      <td>Oaxaca</td>\n",
       "      <td>28.76</td>\n",
       "      <td>7.53</td>\n",
       "      <td>56.63</td>\n",
       "    </tr>\n",
       "    <tr>\n",
       "      <th>21</th>\n",
       "      <td>Puebla</td>\n",
       "      <td>28.41</td>\n",
       "      <td>7.18</td>\n",
       "      <td>51.61</td>\n",
       "    </tr>\n",
       "    <tr>\n",
       "      <th>22</th>\n",
       "      <td>Querétaro Arteaga</td>\n",
       "      <td>29.63</td>\n",
       "      <td>7.11</td>\n",
       "      <td>50.52</td>\n",
       "    </tr>\n",
       "    <tr>\n",
       "      <th>23</th>\n",
       "      <td>Quintana Roo</td>\n",
       "      <td>27.91</td>\n",
       "      <td>7.55</td>\n",
       "      <td>57.02</td>\n",
       "    </tr>\n",
       "    <tr>\n",
       "      <th>24</th>\n",
       "      <td>San Luis Potosí</td>\n",
       "      <td>29.15</td>\n",
       "      <td>7.39</td>\n",
       "      <td>54.54</td>\n",
       "    </tr>\n",
       "    <tr>\n",
       "      <th>25</th>\n",
       "      <td>Sinaloa</td>\n",
       "      <td>27.73</td>\n",
       "      <td>7.10</td>\n",
       "      <td>50.41</td>\n",
       "    </tr>\n",
       "    <tr>\n",
       "      <th>26</th>\n",
       "      <td>Sonora</td>\n",
       "      <td>27.29</td>\n",
       "      <td>6.99</td>\n",
       "      <td>48.83</td>\n",
       "    </tr>\n",
       "    <tr>\n",
       "      <th>27</th>\n",
       "      <td>Tabasco</td>\n",
       "      <td>27.10</td>\n",
       "      <td>6.94</td>\n",
       "      <td>48.16</td>\n",
       "    </tr>\n",
       "    <tr>\n",
       "      <th>28</th>\n",
       "      <td>Tamaulipas</td>\n",
       "      <td>28.26</td>\n",
       "      <td>6.74</td>\n",
       "      <td>45.45</td>\n",
       "    </tr>\n",
       "    <tr>\n",
       "      <th>29</th>\n",
       "      <td>Tlaxcala</td>\n",
       "      <td>28.45</td>\n",
       "      <td>7.43</td>\n",
       "      <td>55.16</td>\n",
       "    </tr>\n",
       "    <tr>\n",
       "      <th>30</th>\n",
       "      <td>Veracruz de Ignacio de la Llave</td>\n",
       "      <td>27.94</td>\n",
       "      <td>7.32</td>\n",
       "      <td>53.60</td>\n",
       "    </tr>\n",
       "    <tr>\n",
       "      <th>31</th>\n",
       "      <td>Yucatán</td>\n",
       "      <td>27.50</td>\n",
       "      <td>7.41</td>\n",
       "      <td>54.89</td>\n",
       "    </tr>\n",
       "    <tr>\n",
       "      <th>32</th>\n",
       "      <td>Zacatecas</td>\n",
       "      <td>27.50</td>\n",
       "      <td>6.94</td>\n",
       "      <td>48.10</td>\n",
       "    </tr>\n",
       "  </tbody>\n",
       "</table>\n",
       "</div>"
      ],
      "text/plain": [
       "                             Region  μ Age Maternal Death  Standard Deviation  \\\n",
       "1                    Aguascalientes                 28.36                7.43   \n",
       "2                   Baja California                 27.15                6.81   \n",
       "3               Baja California Sur                 27.56                7.44   \n",
       "4                          Campeche                 26.87                6.65   \n",
       "5                           Chiapas                 28.02                6.71   \n",
       "6                         Chihuahua                 27.59                6.33   \n",
       "7              Coahuila de Zaragoza                 28.24                7.85   \n",
       "8                            Colima                 26.98                7.43   \n",
       "9                  Distrito Federal                 28.84                7.13   \n",
       "10                          Durango                 28.65                7.60   \n",
       "11                       Guanajuato                 29.19                7.37   \n",
       "12                         Guerrero                 28.61                7.68   \n",
       "13                          Hidalgo                 28.28                7.27   \n",
       "14                          Jalisco                 29.33                7.12   \n",
       "15              Michoacán de Ocampo                 28.26                7.12   \n",
       "16                          Morelos                 29.26                7.43   \n",
       "17                           México                 28.18                7.60   \n",
       "18                          Nayarit                 27.90                7.59   \n",
       "19                       Nuevo León                 28.17                7.08   \n",
       "20                           Oaxaca                 28.76                7.53   \n",
       "21                           Puebla                 28.41                7.18   \n",
       "22                Querétaro Arteaga                 29.63                7.11   \n",
       "23                     Quintana Roo                 27.91                7.55   \n",
       "24                  San Luis Potosí                 29.15                7.39   \n",
       "25                          Sinaloa                 27.73                7.10   \n",
       "26                           Sonora                 27.29                6.99   \n",
       "27                          Tabasco                 27.10                6.94   \n",
       "28                       Tamaulipas                 28.26                6.74   \n",
       "29                         Tlaxcala                 28.45                7.43   \n",
       "30  Veracruz de Ignacio de la Llave                 27.94                7.32   \n",
       "31                          Yucatán                 27.50                7.41   \n",
       "32                        Zacatecas                 27.50                6.94   \n",
       "\n",
       "    Variance  \n",
       "1      55.16  \n",
       "2      46.31  \n",
       "3      55.37  \n",
       "4      44.29  \n",
       "5      45.02  \n",
       "6      40.12  \n",
       "7      61.58  \n",
       "8      55.14  \n",
       "9      50.84  \n",
       "10     57.71  \n",
       "11     54.33  \n",
       "12     59.06  \n",
       "13     52.90  \n",
       "14     50.74  \n",
       "15     50.70  \n",
       "16     55.15  \n",
       "17     57.74  \n",
       "18     57.64  \n",
       "19     50.19  \n",
       "20     56.63  \n",
       "21     51.61  \n",
       "22     50.52  \n",
       "23     57.02  \n",
       "24     54.54  \n",
       "25     50.41  \n",
       "26     48.83  \n",
       "27     48.16  \n",
       "28     45.45  \n",
       "29     55.16  \n",
       "30     53.60  \n",
       "31     54.89  \n",
       "32     48.10  "
      ]
     },
     "execution_count": 92,
     "metadata": {},
     "output_type": "execute_result"
    }
   ],
   "source": [
    "# Convert the list to a Series and add as new column to dates\n",
    "res_dataset['Standard Deviation'] = pd.Series(region_std, index=np.arange(1,33))\n",
    "res_dataset['Variance'] = pd.Series(region_var, index=np.arange(1,33))\n",
    "res_dataset"
   ]
  },
  {
   "cell_type": "code",
   "execution_count": 96,
   "metadata": {},
   "outputs": [
    {
     "name": "stdout",
     "output_type": "stream",
     "text": [
      "Max Variance:  61.58\n",
      "Min Variance:  40.12\n",
      "Accept ANOVA: The max variance is less than double the min variance.\n"
     ]
    }
   ],
   "source": [
    "# Create variables for minimum and maximum variation values in res_dataset\n",
    "max_variance = res_dataset['Variance'].max()\n",
    "print('Max Variance: ', max_variance)\n",
    "\n",
    "min_variance = res_dataset['Variance'].min()\n",
    "print('Min Variance: ', min_variance)\n",
    "\n",
    "# Check if largest variance is more than double the smallest\n",
    "if (2*min_variance) >= max_variance:\n",
    "    print('Accept ANOVA: The max variance is less than double the min variance.')\n",
    "else: \n",
    "    print('Reject ANOVA: The max variance is more than double the min variance.')"
   ]
  },
  {
   "cell_type": "markdown",
   "metadata": {},
   "source": [
    "**Final Conclusion for Homogeneity of Variance**: Since the maximum variance within the dataset (61.68) is less than double the minimum variance within the dataset (40.12, whichs doubles to 80.24), we can assume ANOVA's requirement for Homogeneity of Variance is satisfied."
   ]
  },
  {
   "cell_type": "markdown",
   "metadata": {},
   "source": [
    "## One-Way Analysis of Variance\n",
    "\n",
    "$H$o: All mean age of death of maternal women within all Province of Mexico are statistically similar. <br>  $μ$1 = $μ$2 = $μ$3 = .... = $μ$32\n",
    "\n",
    "$H$a: There is at least one mean age of death of maternal women within a Province of Mexico that is statistically different from the rest. <br> $μ$1 ≠ $μ$2 = .... = $μ$32\n",
    "\n",
    "Significance Level: *95%* Confidence. <br> $α$ = 0.05"
   ]
  },
  {
   "cell_type": "code",
   "execution_count": 115,
   "metadata": {},
   "outputs": [],
   "source": [
    "# Create a list variable to hold all Region Age arrays \n",
    "all_age_arrays = []\n",
    "\n",
    "# Iterate over dictionary to create a list\n",
    "for key, value in age_by_state.items():\n",
    "    \n",
    "    # Append region age array to all_age_arrays\n",
    "    all_age_arrays.append(value)"
   ]
  },
  {
   "cell_type": "code",
   "execution_count": 117,
   "metadata": {},
   "outputs": [
    {
     "data": {
      "text/plain": [
       "array([15, 15, 16, 16, 17, 17, 17, 17, 17, 17, 18, 18, 18, 18, 19, 19, 19,\n",
       "       19, 20, 20, 20, 20, 20, 20, 20, 21, 21, 21, 21, 22, 22, 22, 22, 22,\n",
       "       22, 23, 23, 23, 23, 23, 23, 24, 24, 24, 25, 25, 25, 25, 25, 25, 26,\n",
       "       26, 26, 27, 27, 27, 28, 28, 28, 28, 28, 28, 29, 29, 29, 29, 29, 29,\n",
       "       30, 30, 30, 30, 30, 30, 31, 31, 31, 31, 31, 31, 31, 32, 32, 32, 32,\n",
       "       33, 33, 33, 33, 33, 33, 34, 34, 34, 35, 35, 35, 35, 35, 35, 35, 35,\n",
       "       35, 36, 36, 36, 36, 36, 37, 37, 37, 38, 38, 38, 39, 39, 39, 39, 39,\n",
       "       40, 40, 41, 42, 42, 42, 43, 43])"
      ]
     },
     "execution_count": 117,
     "metadata": {},
     "output_type": "execute_result"
    }
   ],
   "source": [
    "# Test output\n",
    "all_age_arrays[0]"
   ]
  },
  {
   "cell_type": "code",
   "execution_count": 118,
   "metadata": {},
   "outputs": [
    {
     "ename": "ValueError",
     "evalue": "setting an array element with a sequence.",
     "output_type": "error",
     "traceback": [
      "\u001b[0;31m---------------------------------------------------------------------------\u001b[0m",
      "\u001b[0;31mValueError\u001b[0m                                Traceback (most recent call last)",
      "\u001b[0;32m<ipython-input-118-3bca67019eef>\u001b[0m in \u001b[0;36m<module>\u001b[0;34m()\u001b[0m\n\u001b[1;32m      1\u001b[0m \u001b[0;31m# Perform the ANOVA test on all_age_arrays variable\u001b[0m\u001b[0;34m\u001b[0m\u001b[0;34m\u001b[0m\u001b[0m\n\u001b[0;32m----> 2\u001b[0;31m \u001b[0;34m[\u001b[0m\u001b[0mf_value\u001b[0m\u001b[0;34m,\u001b[0m \u001b[0mp_value\u001b[0m\u001b[0;34m]\u001b[0m \u001b[0;34m=\u001b[0m \u001b[0mstats\u001b[0m\u001b[0;34m.\u001b[0m\u001b[0mf_oneway\u001b[0m\u001b[0;34m(\u001b[0m\u001b[0mall_age_arrays\u001b[0m\u001b[0;34m)\u001b[0m\u001b[0;34m\u001b[0m\u001b[0m\n\u001b[0m",
      "\u001b[0;32m/anaconda3/lib/python3.7/site-packages/scipy/stats/stats.py\u001b[0m in \u001b[0;36mf_oneway\u001b[0;34m(*args)\u001b[0m\n\u001b[1;32m   2905\u001b[0m \u001b[0;34m\u001b[0m\u001b[0m\n\u001b[1;32m   2906\u001b[0m     \"\"\"\n\u001b[0;32m-> 2907\u001b[0;31m     \u001b[0margs\u001b[0m \u001b[0;34m=\u001b[0m \u001b[0;34m[\u001b[0m\u001b[0mnp\u001b[0m\u001b[0;34m.\u001b[0m\u001b[0masarray\u001b[0m\u001b[0;34m(\u001b[0m\u001b[0marg\u001b[0m\u001b[0;34m,\u001b[0m \u001b[0mdtype\u001b[0m\u001b[0;34m=\u001b[0m\u001b[0mfloat\u001b[0m\u001b[0;34m)\u001b[0m \u001b[0;32mfor\u001b[0m \u001b[0marg\u001b[0m \u001b[0;32min\u001b[0m \u001b[0margs\u001b[0m\u001b[0;34m]\u001b[0m\u001b[0;34m\u001b[0m\u001b[0m\n\u001b[0m\u001b[1;32m   2908\u001b[0m     \u001b[0;31m# ANOVA on N groups, each in its own array\u001b[0m\u001b[0;34m\u001b[0m\u001b[0;34m\u001b[0m\u001b[0m\n\u001b[1;32m   2909\u001b[0m     \u001b[0mnum_groups\u001b[0m \u001b[0;34m=\u001b[0m \u001b[0mlen\u001b[0m\u001b[0;34m(\u001b[0m\u001b[0margs\u001b[0m\u001b[0;34m)\u001b[0m\u001b[0;34m\u001b[0m\u001b[0m\n",
      "\u001b[0;32m/anaconda3/lib/python3.7/site-packages/scipy/stats/stats.py\u001b[0m in \u001b[0;36m<listcomp>\u001b[0;34m(.0)\u001b[0m\n\u001b[1;32m   2905\u001b[0m \u001b[0;34m\u001b[0m\u001b[0m\n\u001b[1;32m   2906\u001b[0m     \"\"\"\n\u001b[0;32m-> 2907\u001b[0;31m     \u001b[0margs\u001b[0m \u001b[0;34m=\u001b[0m \u001b[0;34m[\u001b[0m\u001b[0mnp\u001b[0m\u001b[0;34m.\u001b[0m\u001b[0masarray\u001b[0m\u001b[0;34m(\u001b[0m\u001b[0marg\u001b[0m\u001b[0;34m,\u001b[0m \u001b[0mdtype\u001b[0m\u001b[0;34m=\u001b[0m\u001b[0mfloat\u001b[0m\u001b[0;34m)\u001b[0m \u001b[0;32mfor\u001b[0m \u001b[0marg\u001b[0m \u001b[0;32min\u001b[0m \u001b[0margs\u001b[0m\u001b[0;34m]\u001b[0m\u001b[0;34m\u001b[0m\u001b[0m\n\u001b[0m\u001b[1;32m   2908\u001b[0m     \u001b[0;31m# ANOVA on N groups, each in its own array\u001b[0m\u001b[0;34m\u001b[0m\u001b[0;34m\u001b[0m\u001b[0m\n\u001b[1;32m   2909\u001b[0m     \u001b[0mnum_groups\u001b[0m \u001b[0;34m=\u001b[0m \u001b[0mlen\u001b[0m\u001b[0;34m(\u001b[0m\u001b[0margs\u001b[0m\u001b[0;34m)\u001b[0m\u001b[0;34m\u001b[0m\u001b[0m\n",
      "\u001b[0;32m/anaconda3/lib/python3.7/site-packages/numpy/core/numeric.py\u001b[0m in \u001b[0;36masarray\u001b[0;34m(a, dtype, order)\u001b[0m\n\u001b[1;32m    499\u001b[0m \u001b[0;34m\u001b[0m\u001b[0m\n\u001b[1;32m    500\u001b[0m     \"\"\"\n\u001b[0;32m--> 501\u001b[0;31m     \u001b[0;32mreturn\u001b[0m \u001b[0marray\u001b[0m\u001b[0;34m(\u001b[0m\u001b[0ma\u001b[0m\u001b[0;34m,\u001b[0m \u001b[0mdtype\u001b[0m\u001b[0;34m,\u001b[0m \u001b[0mcopy\u001b[0m\u001b[0;34m=\u001b[0m\u001b[0;32mFalse\u001b[0m\u001b[0;34m,\u001b[0m \u001b[0morder\u001b[0m\u001b[0;34m=\u001b[0m\u001b[0morder\u001b[0m\u001b[0;34m)\u001b[0m\u001b[0;34m\u001b[0m\u001b[0m\n\u001b[0m\u001b[1;32m    502\u001b[0m \u001b[0;34m\u001b[0m\u001b[0m\n\u001b[1;32m    503\u001b[0m \u001b[0;34m\u001b[0m\u001b[0m\n",
      "\u001b[0;31mValueError\u001b[0m: setting an array element with a sequence."
     ]
    }
   ],
   "source": [
    "# Perform the ANOVA test on all_age_arrays variable\n",
    "[f_value, p_value] = stats.f_oneway(all_age_arrays)"
   ]
  },
  {
   "cell_type": "code",
   "execution_count": null,
   "metadata": {},
   "outputs": [],
   "source": []
  },
  {
   "cell_type": "markdown",
   "metadata": {},
   "source": [
    "----------------------------------------------------------------------------------------------------------------------"
   ]
  },
  {
   "cell_type": "markdown",
   "metadata": {},
   "source": [
    "## Follow-Up Questions: How many instances of adolescent maternal mortality are within Mexico? How does this compare to the total instances of maternal mortality? \n",
    "- The World Health Organization (WHO) states that an upwards of 13 million *adolescent girls (ages under 20)* give birth every year, and complications from those pregnancies and childbirth are a leading cause of death for those young mothers."
   ]
  },
  {
   "cell_type": "markdown",
   "metadata": {},
   "source": [
    "### Step 1: Explore the Data and Create Clean Sub-Dataframe for Analysis"
   ]
  },
  {
   "cell_type": "code",
   "execution_count": 119,
   "metadata": {},
   "outputs": [
    {
     "data": {
      "text/html": [
       "<div>\n",
       "<style scoped>\n",
       "    .dataframe tbody tr th:only-of-type {\n",
       "        vertical-align: middle;\n",
       "    }\n",
       "\n",
       "    .dataframe tbody tr th {\n",
       "        vertical-align: top;\n",
       "    }\n",
       "\n",
       "    .dataframe thead th {\n",
       "        text-align: right;\n",
       "    }\n",
       "</style>\n",
       "<table border=\"1\" class=\"dataframe\">\n",
       "  <thead>\n",
       "    <tr style=\"text-align: right;\">\n",
       "      <th></th>\n",
       "      <th>Date of Birth</th>\n",
       "      <th>Date of Death</th>\n",
       "      <th>Age at Death</th>\n",
       "      <th>Reason for Mortality</th>\n",
       "      <th>Residence Code</th>\n",
       "      <th>Residence Name</th>\n",
       "      <th>Local Community Size</th>\n",
       "      <th>Population</th>\n",
       "    </tr>\n",
       "  </thead>\n",
       "  <tbody>\n",
       "    <tr>\n",
       "      <th>0</th>\n",
       "      <td>1998-7-7</td>\n",
       "      <td>2009-7-7</td>\n",
       "      <td>11</td>\n",
       "      <td>1</td>\n",
       "      <td>7</td>\n",
       "      <td>Chiapas</td>\n",
       "      <td>1</td>\n",
       "      <td>1 a 999            habitantes</td>\n",
       "    </tr>\n",
       "    <tr>\n",
       "      <th>1</th>\n",
       "      <td>1996-1-1</td>\n",
       "      <td>2008-12-12</td>\n",
       "      <td>12</td>\n",
       "      <td>1</td>\n",
       "      <td>30</td>\n",
       "      <td>Veracruz de Ignacio de la Llave</td>\n",
       "      <td>11</td>\n",
       "      <td>50000 a 74999   habitantes</td>\n",
       "    </tr>\n",
       "    <tr>\n",
       "      <th>2</th>\n",
       "      <td>2001-12-12</td>\n",
       "      <td>2014-5-5</td>\n",
       "      <td>12</td>\n",
       "      <td>1</td>\n",
       "      <td>27</td>\n",
       "      <td>Tabasco</td>\n",
       "      <td>14</td>\n",
       "      <td>250000 a 499999 habitantes</td>\n",
       "    </tr>\n",
       "    <tr>\n",
       "      <th>3</th>\n",
       "      <td>1983-11-11</td>\n",
       "      <td>2002-6-6</td>\n",
       "      <td>12</td>\n",
       "      <td>1</td>\n",
       "      <td>15</td>\n",
       "      <td>México</td>\n",
       "      <td>4</td>\n",
       "      <td>2500 a 4999    habitantes</td>\n",
       "    </tr>\n",
       "    <tr>\n",
       "      <th>4</th>\n",
       "      <td>1993-0-0</td>\n",
       "      <td>2005-1-1</td>\n",
       "      <td>12</td>\n",
       "      <td>1</td>\n",
       "      <td>12</td>\n",
       "      <td>Guerrero</td>\n",
       "      <td>4</td>\n",
       "      <td>2500 a 4999    habitantes</td>\n",
       "    </tr>\n",
       "  </tbody>\n",
       "</table>\n",
       "</div>"
      ],
      "text/plain": [
       "  Date of Birth Date of Death  Age at Death  Reason for Mortality  \\\n",
       "0      1998-7-7      2009-7-7            11                     1   \n",
       "1      1996-1-1    2008-12-12            12                     1   \n",
       "2    2001-12-12      2014-5-5            12                     1   \n",
       "3    1983-11-11      2002-6-6            12                     1   \n",
       "4      1993-0-0      2005-1-1            12                     1   \n",
       "\n",
       "   Residence Code                   Residence Name  Local Community Size  \\\n",
       "0               7                          Chiapas                     1   \n",
       "1              30  Veracruz de Ignacio de la Llave                    11   \n",
       "2              27                          Tabasco                    14   \n",
       "3              15                           México                     4   \n",
       "4              12                         Guerrero                     4   \n",
       "\n",
       "                      Population  \n",
       "0  1 a 999            habitantes  \n",
       "1     50000 a 74999   habitantes  \n",
       "2     250000 a 499999 habitantes  \n",
       "3      2500 a 4999    habitantes  \n",
       "4      2500 a 4999    habitantes  "
      ]
     },
     "execution_count": 119,
     "metadata": {},
     "output_type": "execute_result"
    }
   ],
   "source": [
    "adolescent_matern_mortality = dates[dates['Age at Death'] <= 20 ]\n",
    "adolescent_matern_mortality.head()"
   ]
  },
  {
   "cell_type": "code",
   "execution_count": 120,
   "metadata": {},
   "outputs": [
    {
     "data": {
      "text/plain": [
       "2885"
      ]
     },
     "execution_count": 120,
     "metadata": {},
     "output_type": "execute_result"
    }
   ],
   "source": [
    "# Create a variable for adolescent_ages_maternal_mortality\n",
    "adolescent_ages = adolescent_matern_mortality['Age at Death']\n",
    "\n",
    "# Create a variable for adolsecent_sample_size\n",
    "adolsecent_sample_size = len(adolescent_ages)\n",
    "adolsecent_sample_size"
   ]
  },
  {
   "cell_type": "code",
   "execution_count": 121,
   "metadata": {},
   "outputs": [
    {
     "data": {
      "image/png": "[encoded data removed]",
      "text/plain": [
       "<Figure size 432x288 with 2 Axes>"
      ]
     },
     "metadata": {
      "needs_background": "light"
     },
     "output_type": "display_data"
    },
    {
     "data": {
      "text/plain": [
       "'The sample(n=2885) population mean age of adolescent maternal mortality is 17.98 years old with a standard deviation of 1.71.'"
      ]
     },
     "execution_count": 121,
     "metadata": {},
     "output_type": "execute_result"
    }
   ],
   "source": [
    "# Create a figure with two plots\n",
    "fig, (boxplot, histogram) = plt.subplots(2, sharex=True, gridspec_kw={\"height_ratios\": (.15, .85)})\n",
    "\n",
    "# Add boxplot for maternal death\n",
    "sns.boxplot(adolescent_ages, ax=boxplot)\n",
    "\n",
    "# Remove x-axis label from boxplot\n",
    "boxplot.set(xlabel='')\n",
    "\n",
    "# Add histogram and normal curve for maternal death\n",
    "fit = stats.norm.pdf(adolescent_ages, np.mean(adolescent_ages), np.std(adolescent_ages))\n",
    "pl.plot(adolescent_ages, fit, '-o')\n",
    "pl.hist(adolescent_ages, density=True, alpha=0.5, bins=20)\n",
    "\n",
    "# Label axis \n",
    "pl.xlabel('Adolescent Ages of Maternal Mortality')\n",
    "pl.ylabel('Probability Density Function')\n",
    "pl.title('Adolescent Age Distribution of Maternal Mortality in Mexico')\n",
    "\n",
    "# Show plot and add print mean and std sample information\n",
    "plt.show()\n",
    "'The sample(n=' + str(adolsecent_sample_size) + ') population mean age of adolescent maternal mortality is ' + str(round(np.mean(adolescent_ages), 2)) + ' years old with a standard deviation of ' + str(round(np.std(adolescent_ages), 2)) + '.'"
   ]
  },
  {
   "cell_type": "markdown",
   "metadata": {},
   "source": [
    "*Preliminary Observation*: The distribution appears to have a skewed-right distributed based off of the histogram and boxplot of instance of adolescent maternal mortality. "
   ]
  },
  {
   "cell_type": "markdown",
   "metadata": {},
   "source": [
    "### Step 2: Prepare the Data for Analysis\n",
    "- Create variables for age distribution by region"
   ]
  },
  {
   "cell_type": "code",
   "execution_count": null,
   "metadata": {},
   "outputs": [],
   "source": []
  },
  {
   "cell_type": "markdown",
   "metadata": {},
   "source": [
    "### Step 3: Inferential Statistics\n",
    "#### Bootstrap Simulation: Compare the Sample Mean to a Statistically-Likely Population Mean"
   ]
  },
  {
   "cell_type": "markdown",
   "metadata": {},
   "source": [
    "#### Statistical Testing of Data Mean\n",
    "\n",
    "$H$o: The mean age of death of maternal women in Mexico is equal to the mean age of death presented in the dataset ($28.35 yoa$). <br>  Empirical Mean ($μ$) − Population Mean ($μ$) = 0\n",
    "\n",
    "$H$a: The mean age of death of maternal women in Mexico is *not* equal to the mean age of death presented in the dataset ($28.35 yoa$). <br> Empirical Mean ($μ$) − Population Mean ($μ$) ≠ 0\n",
    "\n",
    "Significance Level: *95%* Confidence. <br> $α$ = 0.05"
   ]
  },
  {
   "cell_type": "markdown",
   "metadata": {},
   "source": [
    "#### Calculate the size, mean, and standard deviation of *dates*[ 'Age at Death' ]"
   ]
  },
  {
   "cell_type": "code",
   "execution_count": 125,
   "metadata": {},
   "outputs": [
    {
     "name": "stdout",
     "output_type": "stream",
     "text": [
      "sample size:  2885\n",
      "sample mean age of death:  17.97677642980936\n",
      "sample standard deviation:  1.7061774866900203\n"
     ]
    }
   ],
   "source": [
    "# Create variables for sample statistical information\n",
    "adolescent_ages_std = adolescent_ages.std()\n",
    "mean_adolescent_ages = adolescent_ages.mean()\n",
    "\n",
    "# Create an array of the sample mean that is equal to the boostrap array length\n",
    "adolescent_ages_arr = np.full(10000, mean_adolescent_ages)\n",
    "\n",
    "print('sample size: ', adolsecent_sample_size)\n",
    "print('sample mean age of death: ', mean_adolescent_ages)\n",
    "print('sample standard deviation: ', adolescent_ages_std)"
   ]
  },
  {
   "cell_type": "markdown",
   "metadata": {},
   "source": [
    "#### Create a 10,000 bootstrap replication with boostrap replicate functions"
   ]
  },
  {
   "cell_type": "code",
   "execution_count": 126,
   "metadata": {},
   "outputs": [
    {
     "name": "stdout",
     "output_type": "stream",
     "text": [
      "bootstrap mean adolescent age of death: 17.976059514731368\n"
     ]
    }
   ],
   "source": [
    "# Create 10000 bootstrap replicates of the mean and take the mean of the returned array\n",
    "boot_tenthousand =  draw_bs_reps(adolescent_ages, np.mean, size=10000)\n",
    "print('bootstrap mean adolescent age of death: ' + str(np.mean(boot_tenthousand)))"
   ]
  },
  {
   "cell_type": "markdown",
   "metadata": {},
   "source": [
    "#### Calculate the difference between the bootrap and sample means with p-value and standard deviation"
   ]
  },
  {
   "cell_type": "code",
   "execution_count": 127,
   "metadata": {},
   "outputs": [
    {
     "name": "stdout",
     "output_type": "stream",
     "text": [
      "p-value: 0.0000\n",
      "95% Confidence Interval: [28.2440  28.4689]\n"
     ]
    }
   ],
   "source": [
    "# Compute p-value\n",
    "p_val = np.sum(boot_tenthousand >= materna_mean_arr) / len(boot_tenthousand)\n",
    "print('p-value: {0:0.4f}'.format(p_val))\n",
    "\n",
    "# Calculate the standard margin of error for a 95% confidence interval\n",
    "conf_int_low = mean_age-(1.98*(materna_age_std/math.sqrt(materna_sample_size)))\n",
    "conf_int_high = mean_age+(1.98*(materna_age_std/math.sqrt(materna_sample_size)))\n",
    "print('95% Confidence Interval: [{0:0.4f}  {1:0.4f}]'.format(conf_int_low, conf_int_high))"
   ]
  },
  {
   "cell_type": "markdown",
   "metadata": {},
   "source": [
    "**Conclusion from the Bootstrap Hypothesis Test:** The resulting population mean of maternal death approximation based on 10,000 bootstrap replicate samples was *28.3564 years of age (yoa)*, which is close to the sample mean of *28.3568 yoa* old from the dataset. Additionally, the bootstrap population mean is within the 95% Confidence Interval, *28.2443 to 28.4692 yoa* with a p-value of 0.4959, which is greater than α = 0.05. Therefore, the null hypothesis that the mean age of death of maternal women in Mexico is equal to the mean age of death presented in the dataset can be accepted. **$Ho$ is accepted**."
   ]
  },
  {
   "cell_type": "markdown",
   "metadata": {},
   "source": [
    "### Step 4: Exploratory Data Analysis of State Means\n",
    "\n",
    "#### Visualize the distribution of Mean Age of Maternal Death"
   ]
  },
  {
   "cell_type": "code",
   "execution_count": null,
   "metadata": {},
   "outputs": [],
   "source": []
  }
 ],
 "metadata": {
  "kernelspec": {
   "display_name": "Python 3",
   "language": "python",
   "name": "python3"
  },
  "language_info": {
   "codemirror_mode": {
    "name": "ipython",
    "version": 3
   },
   "file_extension": ".py",
   "mimetype": "text/x-python",
   "name": "python",
   "nbconvert_exporter": "python",
   "pygments_lexer": "ipython3",
   "version": "3.7.0"
  }
 },
 "nbformat": 4,
 "nbformat_minor": 2
}
