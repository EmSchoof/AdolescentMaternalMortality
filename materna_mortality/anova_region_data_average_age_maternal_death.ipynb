{
 "cells": [
  {
   "cell_type": "code",
   "execution_count": 1,
   "metadata": {},
   "outputs": [],
   "source": [
    "# Import the relevant python libraries for the analysis\n",
    "import pandas as pd\n",
    "from pandas import DataFrame\n",
    "import numpy as np\n",
    "from numpy import histogram\n",
    "import seaborn as sns\n",
    "import matplotlib.pyplot as plt\n",
    "import random\n",
    "import scipy.stats as stats\n",
    "from statsmodels.distributions.empirical_distribution import ECDF\n",
    "import pylab as pl\n",
    "import math"
   ]
  },
  {
   "cell_type": "code",
   "execution_count": 2,
   "metadata": {},
   "outputs": [],
   "source": [
    "# Load the dataset\n",
    "materna = pd.read_csv('mortalidad_materna.csv')\n",
    "#materna.info()"
   ]
  },
  {
   "cell_type": "code",
   "execution_count": 3,
   "metadata": {},
   "outputs": [],
   "source": [
    "# Create a variable to hold all Region Names for reference\n",
    "residence = materna['Descripción de entidad de residencia']\n",
    "residence = np.unique(residence)"
   ]
  },
  {
   "cell_type": "markdown",
   "metadata": {},
   "source": [
    "# Question 2 : Are the differences in the average age and distribution of age of maternal death within each Mexican province statistically significant? "
   ]
  },
  {
   "cell_type": "markdown",
   "metadata": {},
   "source": [
    "A One-Way Analysis of Variance (ANOVA) test compares the means of two or more groups to determine if at least one group mean is statistically different from the others. These assumptions that must be satisfied in order for the associated p-value to be valid:\n",
    "\n",
    "1. The samples are independent.\n",
    "2. Each sample is from a normally distributed population.\n",
    "3. The population standard deviations of the groups are all equal. (homoscedasticity)"
   ]
  },
  {
   "cell_type": "markdown",
   "metadata": {},
   "source": [
    "### Step 1: Explore the Data and Create Clean Sub-Dataframe for Analysis"
   ]
  },
  {
   "cell_type": "code",
   "execution_count": 12,
   "metadata": {},
   "outputs": [
    {
     "data": {
      "text/html": [
       "<div>\n",
       "<style scoped>\n",
       "    .dataframe tbody tr th:only-of-type {\n",
       "        vertical-align: middle;\n",
       "    }\n",
       "\n",
       "    .dataframe tbody tr th {\n",
       "        vertical-align: top;\n",
       "    }\n",
       "\n",
       "    .dataframe thead th {\n",
       "        text-align: right;\n",
       "    }\n",
       "</style>\n",
       "<table border=\"1\" class=\"dataframe\">\n",
       "  <thead>\n",
       "    <tr style=\"text-align: right;\">\n",
       "      <th></th>\n",
       "      <th>Region</th>\n",
       "      <th>Age of Maternal Death</th>\n",
       "      <th>Year of Birth</th>\n",
       "      <th>Mortality Reason</th>\n",
       "    </tr>\n",
       "  </thead>\n",
       "  <tbody>\n",
       "    <tr>\n",
       "      <th>16080</th>\n",
       "      <td>Guerrero</td>\n",
       "      <td>998</td>\n",
       "      <td>0</td>\n",
       "      <td>1</td>\n",
       "    </tr>\n",
       "    <tr>\n",
       "      <th>17886</th>\n",
       "      <td>No especificado</td>\n",
       "      <td>998</td>\n",
       "      <td>0</td>\n",
       "      <td>0</td>\n",
       "    </tr>\n",
       "    <tr>\n",
       "      <th>13358</th>\n",
       "      <td>Chihuahua</td>\n",
       "      <td>998</td>\n",
       "      <td>0</td>\n",
       "      <td>1</td>\n",
       "    </tr>\n",
       "    <tr>\n",
       "      <th>17887</th>\n",
       "      <td>Puebla</td>\n",
       "      <td>998</td>\n",
       "      <td>0</td>\n",
       "      <td>0</td>\n",
       "    </tr>\n",
       "    <tr>\n",
       "      <th>14622</th>\n",
       "      <td>Tamaulipas</td>\n",
       "      <td>998</td>\n",
       "      <td>0</td>\n",
       "      <td>1</td>\n",
       "    </tr>\n",
       "  </tbody>\n",
       "</table>\n",
       "</div>"
      ],
      "text/plain": [
       "                Region  Age of Maternal Death  Year of Birth  Mortality Reason\n",
       "16080         Guerrero                    998              0                 1\n",
       "17886  No especificado                    998              0                 0\n",
       "13358        Chihuahua                    998              0                 1\n",
       "17887           Puebla                    998              0                 0\n",
       "14622       Tamaulipas                    998              0                 1"
      ]
     },
     "execution_count": 12,
     "metadata": {},
     "output_type": "execute_result"
    }
   ],
   "source": [
    "# Create variables for Region and Last Recorded Age from materna\n",
    "residence = materna['Descripción de entidad de residencia']\n",
    "last_age = materna['Edad cumplida']\n",
    "\n",
    "# Create variable for Birth and Reason for Mortality in order to remove non-maternal deaths from subset\n",
    "birth = materna['Año de nacimiento']\n",
    "mortality_reason = materna['Razón de mortalidad materna']\n",
    "\n",
    "# Create a subdataset with Region and Last Recorded Age from materna\n",
    "region_ages = pd.concat([residence, last_age, birth, mortality_reason], axis=1)\n",
    "region_ages.columns = ['Region', 'Age of Maternal Death', 'Year of Birth', 'Mortality Reason']\n",
    "region_ages = region_ages.sort_values(by=['Age of Maternal Death'],ascending=False)\n",
    "region_ages.head()"
   ]
  },
  {
   "cell_type": "markdown",
   "metadata": {},
   "source": [
    "##### Remove Irregular Values\n",
    "- Case 1: Remove all rows with '0' in the 'Year of Birth' column.\n",
    "- Case 2: Remove all rows with '0' in the 'Mortality Reason' column."
   ]
  },
  {
   "cell_type": "code",
   "execution_count": 13,
   "metadata": {},
   "outputs": [
    {
     "data": {
      "text/html": [
       "<div>\n",
       "<style scoped>\n",
       "    .dataframe tbody tr th:only-of-type {\n",
       "        vertical-align: middle;\n",
       "    }\n",
       "\n",
       "    .dataframe tbody tr th {\n",
       "        vertical-align: top;\n",
       "    }\n",
       "\n",
       "    .dataframe thead th {\n",
       "        text-align: right;\n",
       "    }\n",
       "</style>\n",
       "<table border=\"1\" class=\"dataframe\">\n",
       "  <thead>\n",
       "    <tr style=\"text-align: right;\">\n",
       "      <th></th>\n",
       "      <th>Region</th>\n",
       "      <th>Age of Maternal Death</th>\n",
       "      <th>Year of Birth</th>\n",
       "      <th>Mortality Reason</th>\n",
       "    </tr>\n",
       "  </thead>\n",
       "  <tbody>\n",
       "    <tr>\n",
       "      <th>14960</th>\n",
       "      <td>Oaxaca</td>\n",
       "      <td>54</td>\n",
       "      <td>1942</td>\n",
       "      <td>1</td>\n",
       "    </tr>\n",
       "    <tr>\n",
       "      <th>9964</th>\n",
       "      <td>Chiapas</td>\n",
       "      <td>53</td>\n",
       "      <td>1961</td>\n",
       "      <td>1</td>\n",
       "    </tr>\n",
       "    <tr>\n",
       "      <th>7705</th>\n",
       "      <td>México</td>\n",
       "      <td>53</td>\n",
       "      <td>1963</td>\n",
       "      <td>1</td>\n",
       "    </tr>\n",
       "    <tr>\n",
       "      <th>16722</th>\n",
       "      <td>Guerrero</td>\n",
       "      <td>51</td>\n",
       "      <td>1960</td>\n",
       "      <td>1</td>\n",
       "    </tr>\n",
       "    <tr>\n",
       "      <th>15461</th>\n",
       "      <td>Distrito Federal</td>\n",
       "      <td>50</td>\n",
       "      <td>1960</td>\n",
       "      <td>1</td>\n",
       "    </tr>\n",
       "  </tbody>\n",
       "</table>\n",
       "</div>"
      ],
      "text/plain": [
       "                 Region  Age of Maternal Death  Year of Birth  \\\n",
       "14960            Oaxaca                     54           1942   \n",
       "9964            Chiapas                     53           1961   \n",
       "7705             México                     53           1963   \n",
       "16722          Guerrero                     51           1960   \n",
       "15461  Distrito Federal                     50           1960   \n",
       "\n",
       "       Mortality Reason  \n",
       "14960                 1  \n",
       "9964                  1  \n",
       "7705                  1  \n",
       "16722                 1  \n",
       "15461                 1  "
      ]
     },
     "execution_count": 13,
     "metadata": {},
     "output_type": "execute_result"
    }
   ],
   "source": [
    "#Remove rows with 0 values in Year of Birth\n",
    "region_ages = region_ages[region_ages['Year of Birth'] != 0]\n",
    "\n",
    "#Remove rows with 0 values in Mortality Reason\n",
    "region_ages = region_ages[region_ages['Mortality Reason'] != 0 ]\n",
    "region_ages.head()"
   ]
  },
  {
   "cell_type": "code",
   "execution_count": 6,
   "metadata": {},
   "outputs": [
    {
     "data": {
      "text/html": [
       "<div>\n",
       "<style scoped>\n",
       "    .dataframe tbody tr th:only-of-type {\n",
       "        vertical-align: middle;\n",
       "    }\n",
       "\n",
       "    .dataframe tbody tr th {\n",
       "        vertical-align: top;\n",
       "    }\n",
       "\n",
       "    .dataframe thead th {\n",
       "        text-align: right;\n",
       "    }\n",
       "</style>\n",
       "<table border=\"1\" class=\"dataframe\">\n",
       "  <thead>\n",
       "    <tr style=\"text-align: right;\">\n",
       "      <th></th>\n",
       "      <th>Region</th>\n",
       "      <th>Age of Maternal Death</th>\n",
       "    </tr>\n",
       "  </thead>\n",
       "  <tbody>\n",
       "    <tr>\n",
       "      <th>14960</th>\n",
       "      <td>Oaxaca</td>\n",
       "      <td>54</td>\n",
       "    </tr>\n",
       "    <tr>\n",
       "      <th>9964</th>\n",
       "      <td>Chiapas</td>\n",
       "      <td>53</td>\n",
       "    </tr>\n",
       "    <tr>\n",
       "      <th>7705</th>\n",
       "      <td>México</td>\n",
       "      <td>53</td>\n",
       "    </tr>\n",
       "    <tr>\n",
       "      <th>16722</th>\n",
       "      <td>Guerrero</td>\n",
       "      <td>51</td>\n",
       "    </tr>\n",
       "    <tr>\n",
       "      <th>15461</th>\n",
       "      <td>Distrito Federal</td>\n",
       "      <td>50</td>\n",
       "    </tr>\n",
       "  </tbody>\n",
       "</table>\n",
       "</div>"
      ],
      "text/plain": [
       "                 Region  Age of Maternal Death\n",
       "14960            Oaxaca                     54\n",
       "9964            Chiapas                     53\n",
       "7705             México                     53\n",
       "16722          Guerrero                     51\n",
       "15461  Distrito Federal                     50"
      ]
     },
     "execution_count": 6,
     "metadata": {},
     "output_type": "execute_result"
    }
   ],
   "source": [
    "# Remove Year of Birth and Mortality Reason columns as they are no longer necessary\n",
    "region_ages = region_ages.drop(['Year of Birth', 'Mortality Reason'], axis=1)\n",
    "region_ages.head()"
   ]
  },
  {
   "cell_type": "code",
   "execution_count": 7,
   "metadata": {},
   "outputs": [
    {
     "data": {
      "text/html": [
       "<div>\n",
       "<style scoped>\n",
       "    .dataframe tbody tr th:only-of-type {\n",
       "        vertical-align: middle;\n",
       "    }\n",
       "\n",
       "    .dataframe tbody tr th {\n",
       "        vertical-align: top;\n",
       "    }\n",
       "\n",
       "    .dataframe thead th {\n",
       "        text-align: right;\n",
       "    }\n",
       "</style>\n",
       "<table border=\"1\" class=\"dataframe\">\n",
       "  <thead>\n",
       "    <tr style=\"text-align: right;\">\n",
       "      <th></th>\n",
       "      <th>Region</th>\n",
       "      <th>Age of Maternal Death</th>\n",
       "    </tr>\n",
       "  </thead>\n",
       "  <tbody>\n",
       "    <tr>\n",
       "      <th>2614</th>\n",
       "      <td>Aguascalientes</td>\n",
       "      <td>28</td>\n",
       "    </tr>\n",
       "    <tr>\n",
       "      <th>2799</th>\n",
       "      <td>Aguascalientes</td>\n",
       "      <td>35</td>\n",
       "    </tr>\n",
       "    <tr>\n",
       "      <th>2735</th>\n",
       "      <td>Aguascalientes</td>\n",
       "      <td>30</td>\n",
       "    </tr>\n",
       "    <tr>\n",
       "      <th>2460</th>\n",
       "      <td>Aguascalientes</td>\n",
       "      <td>19</td>\n",
       "    </tr>\n",
       "    <tr>\n",
       "      <th>2515</th>\n",
       "      <td>Aguascalientes</td>\n",
       "      <td>28</td>\n",
       "    </tr>\n",
       "  </tbody>\n",
       "</table>\n",
       "</div>"
      ],
      "text/plain": [
       "              Region  Age of Maternal Death\n",
       "2614  Aguascalientes                     28\n",
       "2799  Aguascalientes                     35\n",
       "2735  Aguascalientes                     30\n",
       "2460  Aguascalientes                     19\n",
       "2515  Aguascalientes                     28"
      ]
     },
     "execution_count": 7,
     "metadata": {},
     "output_type": "execute_result"
    }
   ],
   "source": [
    "# Put region_ages in alphabetical order by Region\n",
    "region_ages = region_ages.sort_values(by=['Region'],ascending=True)\n",
    "region_ages.head()"
   ]
  },
  {
   "cell_type": "code",
   "execution_count": 8,
   "metadata": {},
   "outputs": [
    {
     "name": "stdout",
     "output_type": "stream",
     "text": [
      "There are 34 Provinces in Mexico.\n"
     ]
    },
    {
     "data": {
      "text/plain": [
       "['Aguascalientes',\n",
       " 'Baja California',\n",
       " 'Baja California Sur',\n",
       " 'Campeche',\n",
       " 'Chiapas',\n",
       " 'Chihuahua',\n",
       " 'Coahuila de Zaragoza',\n",
       " 'Colima',\n",
       " 'Distrito Federal',\n",
       " 'Durango',\n",
       " 'Estados Unidos de Norteamérica',\n",
       " 'Guanajuato',\n",
       " 'Guerrero',\n",
       " 'Hidalgo',\n",
       " 'Jalisco',\n",
       " 'Michoacán de Ocampo',\n",
       " 'Morelos',\n",
       " 'México',\n",
       " 'Nayarit',\n",
       " 'Nuevo León',\n",
       " 'Oaxaca',\n",
       " 'Otros paises latinoamericanos',\n",
       " 'Puebla',\n",
       " 'Querétaro Arteaga',\n",
       " 'Quintana Roo',\n",
       " 'San Luis Potosí',\n",
       " 'Sinaloa',\n",
       " 'Sonora',\n",
       " 'Tabasco',\n",
       " 'Tamaulipas',\n",
       " 'Tlaxcala',\n",
       " 'Veracruz de Ignacio de la Llave',\n",
       " 'Yucatán',\n",
       " 'Zacatecas']"
      ]
     },
     "execution_count": 8,
     "metadata": {},
     "output_type": "execute_result"
    }
   ],
   "source": [
    "print('There are '+ str(len(np.unique(region_ages['Region']))) + ' Provinces in Mexico.')\n",
    "list(np.unique(region_ages['Region']))"
   ]
  },
  {
   "cell_type": "markdown",
   "metadata": {},
   "source": [
    "#### Additional Cleaning of Database: \n",
    "There are 31 states and 1 federal entity in Mexico, so the length of the 'Regions' column should be 32, not 34. When translating the list of regions within the sub-dataset, it becomes apparent that not all entries are Provinces within Mexico, and need to be removed. Namely:\n",
    "- Estados Unidos de Norteamérica - 'United States of America'\n",
    "- Otros paises latinoamericanos - 'Other Latin American countries'"
   ]
  },
  {
   "cell_type": "code",
   "execution_count": 9,
   "metadata": {},
   "outputs": [
    {
     "name": "stdout",
     "output_type": "stream",
     "text": [
      "There are 32 Provinces in Mexico.\n"
     ]
    },
    {
     "data": {
      "text/plain": [
       "['Aguascalientes',\n",
       " 'Baja California',\n",
       " 'Baja California Sur',\n",
       " 'Campeche',\n",
       " 'Chiapas',\n",
       " 'Chihuahua',\n",
       " 'Coahuila de Zaragoza',\n",
       " 'Colima',\n",
       " 'Distrito Federal',\n",
       " 'Durango',\n",
       " 'Guanajuato',\n",
       " 'Guerrero',\n",
       " 'Hidalgo',\n",
       " 'Jalisco',\n",
       " 'Michoacán de Ocampo',\n",
       " 'Morelos',\n",
       " 'México',\n",
       " 'Nayarit',\n",
       " 'Nuevo León',\n",
       " 'Oaxaca',\n",
       " 'Puebla',\n",
       " 'Querétaro Arteaga',\n",
       " 'Quintana Roo',\n",
       " 'San Luis Potosí',\n",
       " 'Sinaloa',\n",
       " 'Sonora',\n",
       " 'Tabasco',\n",
       " 'Tamaulipas',\n",
       " 'Tlaxcala',\n",
       " 'Veracruz de Ignacio de la Llave',\n",
       " 'Yucatán',\n",
       " 'Zacatecas']"
      ]
     },
     "execution_count": 9,
     "metadata": {},
     "output_type": "execute_result"
    }
   ],
   "source": [
    "# Remove unnecessary columns from region_ages sub-dataset\n",
    "region_ages = region_ages[region_ages['Region'] != 'Estados Unidos de Norteamérica' ]\n",
    "region_ages = region_ages[region_ages['Region'] != 'Otros paises latinoamericanos' ]\n",
    "print('There are '+ str(len(np.unique(region_ages['Region']))) + ' Provinces in Mexico.')\n",
    "list(np.unique(region_ages['Region']))"
   ]
  },
  {
   "cell_type": "markdown",
   "metadata": {},
   "source": [
    "### Step 2: Prepare the Data for Analysis"
   ]
  },
  {
   "cell_type": "code",
   "execution_count": 17,
   "metadata": {},
   "outputs": [
    {
     "name": "stdout",
     "output_type": "stream",
     "text": [
      "Aguascalientes Sample Length: 127\n",
      "México Sample Length: 2299\n"
     ]
    }
   ],
   "source": [
    "# Create a sample region array variables to hold age distribution per region \n",
    "# as a model to construct a function to parse through subdataset, region_ages\n",
    "aqua = region_ages[region_ages['Region'] == 'Aguascalientes']\n",
    "aqua = aqua['Age of Maternal Death']\n",
    "aqua = np.array(aqua)\n",
    "\n",
    "mex = region_ages[region_ages['Region'] == 'México']\n",
    "mex = mex['Age of Maternal Death']\n",
    "mex = np.array(mex)\n",
    "\n",
    "print('Aguascalientes Sample Length: ' + str(len(aqua)))\n",
    "print('México Sample Length: ' + str(len(mex)))"
   ]
  },
  {
   "cell_type": "markdown",
   "metadata": {},
   "source": [
    "Since it appears that the sample size of ages of maternal death within the Provinces varies, the total sample per Province should be stored in unique age array variables. The process of creating the age array is repeatable, so a function should be created then applied to each Province. The array of ages variable can then be stored in a dictionary as a value with the associated Province as the key."
   ]
  },
  {
   "cell_type": "code",
   "execution_count": 10,
   "metadata": {},
   "outputs": [],
   "source": [
    "# Create a function to group all ages associated with materna death within a Province and store the ages in an array\n",
    "def age_array(str):\n",
    "    \"\"\"Create arrays for all Ages of Maternal Death within a Region\"\"\"\n",
    "    \n",
    "    # Select the region 'str' from the 'Region' column\n",
    "    ages = region_ages[region_ages['Region'] == str]\n",
    "    \n",
    "    # Select the ages within the region\n",
    "    ages = ages['Age of Maternal Death'] \n",
    "    \n",
    "    # Store the ages in an array\n",
    "    ages = np.array(ages)\n",
    "    \n",
    "    # return the unique array\n",
    "    return ages"
   ]
  },
  {
   "cell_type": "code",
   "execution_count": 19,
   "metadata": {},
   "outputs": [],
   "source": [
    "# Create a variable for 'Region' names using np.unique()\n",
    "list_regions = np.unique(region_ages['Region'])\n",
    "\n",
    "# Create an empty dictionary to hold the {Region : region_age_array} key pairs\n",
    "age_by_state = {}"
   ]
  },
  {
   "cell_type": "code",
   "execution_count": 20,
   "metadata": {},
   "outputs": [],
   "source": [
    "# Use the age_array function with iteration over residence to create the {Region : region_age_array} key pairs\n",
    "for region in list_regions:\n",
    "    \n",
    "    # Add arrays as values in dictionary with region-key\n",
    "    age_by_state[region] = age_array(region)"
   ]
  },
  {
   "cell_type": "code",
   "execution_count": 24,
   "metadata": {},
   "outputs": [
    {
     "data": {
      "text/plain": [
       "array([28, 35, 30, 19, 28, 33, 33, 18, 34, 24, 22, 18, 36, 31, 31, 33, 21,\n",
       "       38, 19, 19, 23, 24, 16, 28, 20, 42, 31, 29, 29, 25, 29, 33, 20, 26,\n",
       "       26, 35, 18, 32, 33, 19, 24, 20, 30, 27, 30, 36, 25, 21, 37, 28, 36,\n",
       "       35, 35, 35, 35, 15, 21, 15, 31, 23, 17, 17, 25, 17, 17, 17, 41, 38,\n",
       "       16, 23, 40, 43, 32, 35, 22, 36, 22, 18, 17, 35, 36, 30, 25, 39, 39,\n",
       "       31, 40, 32, 30, 31, 20, 29, 23, 35, 37, 22, 42, 25, 33, 29, 39, 23,\n",
       "       32, 26, 27, 39, 23, 31, 34, 25, 43, 22, 29, 42, 34, 28, 39, 22, 30,\n",
       "       27, 21, 20, 37, 20, 38, 28, 20])"
      ]
     },
     "execution_count": 24,
     "metadata": {},
     "output_type": "execute_result"
    }
   ],
   "source": [
    "age_by_state['Aguascalientes']"
   ]
  },
  {
   "cell_type": "markdown",
   "metadata": {},
   "source": [
    "### Step 3: Begin Proof for ANOVA Examination"
   ]
  },
  {
   "cell_type": "code",
   "execution_count": 25,
   "metadata": {},
   "outputs": [
    {
     "data": {
      "text/plain": [
       "16631"
      ]
     },
     "execution_count": 25,
     "metadata": {},
     "output_type": "execute_result"
    }
   ],
   "source": [
    "# Calculate the total sample size / length of materna death \n",
    "total_sample_length = len(region_ages['Age of Maternal Death'])\n",
    "total_sample_length"
   ]
  },
  {
   "cell_type": "markdown",
   "metadata": {},
   "source": [
    "#### 1. Samples must be Random / Independent"
   ]
  },
  {
   "cell_type": "markdown",
   "metadata": {},
   "source": [
    "Using the data provided by the National Institute of Statistics, Geography, and Data Processing's visualization of populations within the 32 Mexican Provinces, it can be determined that the *smallest population* within a Mexican province is > 500,000 people. "
   ]
  },
  {
   "cell_type": "markdown",
   "metadata": {},
   "source": [
    "<img src=\"mexico_pop.png\">"
   ]
  },
  {
   "cell_type": "markdown",
   "metadata": {},
   "source": [
    "Therefore, we can use the **10% Rule** justify treating each incidence of maternal death as an independent event so long as the sample population size is < 50,000. Since the total length of the cleaned region_ages dataset is n=16631, the length of each Province sample size is well under 50,000. Thus, **the samples can be treated as independent**."
   ]
  },
  {
   "cell_type": "markdown",
   "metadata": {},
   "source": [
    "#### 2. Samples must be Normally Distributed"
   ]
  },
  {
   "cell_type": "markdown",
   "metadata": {},
   "source": [
    "**Within the SciPy module of python 3, there is a normalcy function** that tests the null hypothesis that a sample comes from a normal distribution. It is based on **D’Agostino** and **Pearson’s test** that combines skew and kurtosis to test of normality. This function be used to further determine if the distribution of each Province sample population is normally distributed."
   ]
  },
  {
   "cell_type": "code",
   "execution_count": 27,
   "metadata": {},
   "outputs": [],
   "source": [
    "# Create a variable to hold list of Regions with normally-distributed sample sizes\n",
    "regions_for_stats_analysis = []\n",
    "\n",
    "# Create a variable to hold list of Regions without normally-distributed sample sizes\n",
    "regions_not_for_stats_analysis = []"
   ]
  },
  {
   "cell_type": "code",
   "execution_count": 28,
   "metadata": {},
   "outputs": [
    {
     "name": "stdout",
     "output_type": "stream",
     "text": [
      "p = 8.92987e-06\n",
      "n = 127\n",
      "Aguascalientes IS normally distributed.\n",
      "p = 9.69442e-10\n",
      "n = 361\n",
      "Baja California IS normally distributed.\n",
      "p = 0.00564503\n",
      "n = 66\n",
      "Baja California Sur IS normally distributed.\n",
      "p = 0.00137276\n",
      "n = 126\n",
      "Campeche IS normally distributed.\n",
      "p = 1.03976e-37\n",
      "n = 1235\n",
      "Chiapas IS normally distributed.\n",
      "p = 8.42917e-19\n",
      "n = 628\n",
      "Chihuahua IS normally distributed.\n",
      "p = 1.6423e-09\n",
      "n = 310\n",
      "Coahuila de Zaragoza IS normally distributed.\n",
      "p = 0.788087\n",
      "n = 49\n",
      "Colima *IS NOT* normally distributed.\n",
      "p = 2.13913e-21\n",
      "n = 1082\n",
      "Distrito Federal IS normally distributed.\n",
      "p = 8.83805e-06\n",
      "n = 263\n",
      "Durango IS normally distributed.\n",
      "p = 6.25818e-14\n",
      "n = 707\n",
      "Guanajuato IS normally distributed.\n",
      "p = 6.26788e-20\n",
      "n = 977\n",
      "Guerrero IS normally distributed.\n",
      "p = 1.22187e-06\n",
      "n = 428\n",
      "Hidalgo IS normally distributed.\n",
      "p = 3.85647e-24\n",
      "n = 802\n",
      "Jalisco IS normally distributed.\n",
      "p = 3.0739e-14\n",
      "n = 654\n",
      "Michoacán de Ocampo IS normally distributed.\n",
      "p = 1.07763e-05\n",
      "n = 243\n",
      "Morelos IS normally distributed.\n",
      "p = 1.9078e-37\n",
      "n = 2299\n",
      "México IS normally distributed.\n",
      "p = 0.00736818\n",
      "n = 164\n",
      "Nayarit IS normally distributed.\n",
      "p = 5.47165e-05\n",
      "n = 323\n",
      "Nuevo León IS normally distributed.\n",
      "p = 8.38578e-16\n",
      "n = 874\n",
      "Oaxaca IS normally distributed.\n",
      "p = 1.30332e-29\n",
      "n = 990\n",
      "Puebla IS normally distributed.\n",
      "p = 0.000162015\n",
      "n = 227\n",
      "Querétaro Arteaga IS normally distributed.\n",
      "p = 0.133082\n",
      "n = 190\n",
      "Quintana Roo *IS NOT* normally distributed.\n",
      "p = 0.00022599\n",
      "n = 375\n",
      "San Luis Potosí IS normally distributed.\n",
      "p = 0.00551234\n",
      "n = 270\n",
      "Sinaloa IS normally distributed.\n",
      "p = 4.5582e-05\n",
      "n = 303\n",
      "Sonora IS normally distributed.\n",
      "p = 6.95067e-06\n",
      "n = 315\n",
      "Tabasco IS normally distributed.\n",
      "p = 0.000130459\n",
      "n = 377\n",
      "Tamaulipas IS normally distributed.\n",
      "p = 0.000375517\n",
      "n = 178\n",
      "Tlaxcala IS normally distributed.\n",
      "p = 1.47213e-39\n",
      "n = 1239\n",
      "Veracruz de Ignacio de la Llave IS normally distributed.\n",
      "p = 9.32947e-09\n",
      "n = 258\n",
      "Yucatán IS normally distributed.\n",
      "p = 4.93191e-05\n",
      "n = 191\n",
      "Zacatecas IS normally distributed.\n"
     ]
    }
   ],
   "source": [
    "# Determine if each Province has a normally distributed sample population of ages\n",
    "\n",
    "for region in age_by_state:\n",
    "    \n",
    "    # Select age array by Region key in database\n",
    "    region_name = str(region)\n",
    "    arr = age_by_state[region]\n",
    "    \n",
    "    # Skewtest (k2) is not valid with less than 8 samples\n",
    "    if len(arr) > 8:\n",
    "        \n",
    "        # Test for normalcy of distribution (with Skewtest)   \n",
    "        k2, p = stats.normaltest(arr)\n",
    "\n",
    "        # Set significance level to 95% confidence\n",
    "        alpha = 0.05\n",
    "        print(\"p = {:g}\".format(p))\n",
    "        print(\"n = \" + str(len(arr)))\n",
    "\n",
    "        # Print result for each region normalcy test\n",
    "        if p < alpha:  # null hypothesis: x comes from a normal distribution\n",
    "            print(str(region)+ \" IS normally distributed.\")\n",
    "            \n",
    "            # Add region to list of regions for statistical analysis\n",
    "            regions_for_stats_analysis.append(region_name)\n",
    "            \n",
    "        else:\n",
    "            print(str(region)+ \" *IS NOT* normally distributed.\")\n",
    "              \n",
    "            # Add region to list of regions NOT for statistical analysis\n",
    "            regions_not_for_stats_analysis.append(region_name)\n",
    "                \n",
    "    else: \n",
    "        print(str(region)+ \" *sample size is too small*\")\n",
    "        \n",
    "        # Add region to list of regions NOT for statistical analysis\n",
    "        regions_not_for_stats_analysis.append(region_name)"
   ]
  },
  {
   "cell_type": "code",
   "execution_count": 29,
   "metadata": {},
   "outputs": [
    {
     "data": {
      "text/plain": [
       "['Aguascalientes',\n",
       " 'Baja California',\n",
       " 'Baja California Sur',\n",
       " 'Campeche',\n",
       " 'Chiapas',\n",
       " 'Chihuahua',\n",
       " 'Coahuila de Zaragoza',\n",
       " 'Distrito Federal',\n",
       " 'Durango',\n",
       " 'Guanajuato',\n",
       " 'Guerrero',\n",
       " 'Hidalgo',\n",
       " 'Jalisco',\n",
       " 'Michoacán de Ocampo',\n",
       " 'Morelos',\n",
       " 'México',\n",
       " 'Nayarit',\n",
       " 'Nuevo León',\n",
       " 'Oaxaca',\n",
       " 'Puebla',\n",
       " 'Querétaro Arteaga',\n",
       " 'San Luis Potosí',\n",
       " 'Sinaloa',\n",
       " 'Sonora',\n",
       " 'Tabasco',\n",
       " 'Tamaulipas',\n",
       " 'Tlaxcala',\n",
       " 'Veracruz de Ignacio de la Llave',\n",
       " 'Yucatán',\n",
       " 'Zacatecas']"
      ]
     },
     "execution_count": 29,
     "metadata": {},
     "output_type": "execute_result"
    }
   ],
   "source": [
    "list(np.unique(regions_for_stats_analysis))"
   ]
  },
  {
   "cell_type": "code",
   "execution_count": 30,
   "metadata": {},
   "outputs": [
    {
     "data": {
      "text/plain": [
       "['Colima', 'Quintana Roo']"
      ]
     },
     "execution_count": 30,
     "metadata": {},
     "output_type": "execute_result"
    }
   ],
   "source": [
    "list(np.unique(regions_not_for_stats_analysis))"
   ]
  },
  {
   "cell_type": "markdown",
   "metadata": {},
   "source": [
    "**Normalcy Conclusion**: After assessing the distribution of age of maternal death within each Province of Mexico, **almost all Province sample populations are considered to be normally distributed** *aside from* Colima (p-value: 2.13913e-21, n=1082) Quintana Roo (p-value: 0.00022599, n=375), which were found to *not be normally distributed*.\n",
    "\n",
    "However, under the Central Limit Theorem (CLT), the sampling distribution of the sample means approaches a normal distribution as the sample size ( n ) gets larger - regardless of what the shape of the population distribution. Under this theorem,  n>30  is considered a large sample size. *Since the current database sample size (n) of Colima and Quintana Roo of 1082 and 375, respectively, justify CLT being assumed.* \n"
   ]
  },
  {
   "cell_type": "markdown",
   "metadata": {},
   "source": [
    "#### 3. The population standard deviations of the groups are all equal. (homoscedasticity)"
   ]
  },
  {
   "cell_type": "code",
   "execution_count": null,
   "metadata": {},
   "outputs": [],
   "source": []
  },
  {
   "cell_type": "code",
   "execution_count": null,
   "metadata": {},
   "outputs": [],
   "source": []
  },
  {
   "cell_type": "code",
   "execution_count": null,
   "metadata": {},
   "outputs": [],
   "source": []
  },
  {
   "cell_type": "code",
   "execution_count": null,
   "metadata": {},
   "outputs": [],
   "source": []
  },
  {
   "cell_type": "markdown",
   "metadata": {},
   "source": [
    "## One-Way Analysis of Variance\n",
    "\n",
    "$H$o: All mean age of death of maternal women within all Province of Mexico are statistically similar. <br>  $μ$1 = $μ$2 = $μ$3 = .... = $μ$32\n",
    "\n",
    "$H$a: There is at least one mean age of death of maternal women within a Province of Mexico that is statistically different from the rest. <br> $μ$1 ≠ $μ$2 = .... = $μ$32\n",
    "\n",
    "Significance Level: *95%* Confidence. <br> $α$ = 0.05"
   ]
  },
  {
   "cell_type": "code",
   "execution_count": null,
   "metadata": {},
   "outputs": [],
   "source": []
  }
 ],
 "metadata": {
  "kernelspec": {
   "display_name": "Python 3",
   "language": "python",
   "name": "python3"
  },
  "language_info": {
   "codemirror_mode": {
    "name": "ipython",
    "version": 3
   },
   "file_extension": ".py",
   "mimetype": "text/x-python",
   "name": "python",
   "nbconvert_exporter": "python",
   "pygments_lexer": "ipython3",
   "version": "3.7.0"
  }
 },
 "nbformat": 4,
 "nbformat_minor": 2
}
