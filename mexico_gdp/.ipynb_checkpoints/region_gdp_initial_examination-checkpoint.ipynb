{
 "cells": [
  {
   "cell_type": "code",
   "execution_count": 34,
   "metadata": {},
   "outputs": [],
   "source": [
    "# Step 1: Import the relevant python libraries for the analysis\n",
    "import pandas as pd\n",
    "from pandas import DataFrame\n",
    "import numpy as np\n",
    "import matplotlib.pyplot as plt\n",
    "%matplotlib inline"
   ]
  },
  {
   "cell_type": "code",
   "execution_count": 35,
   "metadata": {},
   "outputs": [
    {
     "name": "stdout",
     "output_type": "stream",
     "text": [
      "<class 'pandas.core.frame.DataFrame'>\n",
      "RangeIndex: 64 entries, 0 to 63\n",
      "Data columns (total 3 columns):\n",
      "Metropolitan Areas    64 non-null object\n",
      "Year_2010             64 non-null object\n",
      "Year_2015             64 non-null object\n",
      "dtypes: object(3)\n",
      "memory usage: 1.6+ KB\n"
     ]
    }
   ],
   "source": [
    "# Step 2: Load and test dataset and set the index if applicable\n",
    "mexico_gdp = pd.read_csv('mexico_region_gdp_per_capita.csv')\n",
    "mexico_gdp.info()"
   ]
  },
  {
   "cell_type": "code",
   "execution_count": 36,
   "metadata": {},
   "outputs": [
    {
     "data": {
      "text/html": [
       "<div>\n",
       "<style scoped>\n",
       "    .dataframe tbody tr th:only-of-type {\n",
       "        vertical-align: middle;\n",
       "    }\n",
       "\n",
       "    .dataframe tbody tr th {\n",
       "        vertical-align: top;\n",
       "    }\n",
       "\n",
       "    .dataframe thead th {\n",
       "        text-align: right;\n",
       "    }\n",
       "</style>\n",
       "<table border=\"1\" class=\"dataframe\">\n",
       "  <thead>\n",
       "    <tr style=\"text-align: right;\">\n",
       "      <th></th>\n",
       "      <th>Metropolitan Areas</th>\n",
       "      <th>Year_2010</th>\n",
       "      <th>Year_2015</th>\n",
       "    </tr>\n",
       "  </thead>\n",
       "  <tbody>\n",
       "    <tr>\n",
       "      <th>0</th>\n",
       "      <td>MEX51: Minatitlan</td>\n",
       "      <td>12108</td>\n",
       "      <td>12105</td>\n",
       "    </tr>\n",
       "    <tr>\n",
       "      <th>1</th>\n",
       "      <td>MEX58: Campeche</td>\n",
       "      <td>..</td>\n",
       "      <td>..</td>\n",
       "    </tr>\n",
       "    <tr>\n",
       "      <th>2</th>\n",
       "      <td>MEX46: Victoria</td>\n",
       "      <td>17832</td>\n",
       "      <td>17581</td>\n",
       "    </tr>\n",
       "    <tr>\n",
       "      <th>3</th>\n",
       "      <td>MEX30: Durango</td>\n",
       "      <td>13269</td>\n",
       "      <td>13849</td>\n",
       "    </tr>\n",
       "    <tr>\n",
       "      <th>4</th>\n",
       "      <td>MEX04: Puebla</td>\n",
       "      <td>10304</td>\n",
       "      <td>10681</td>\n",
       "    </tr>\n",
       "  </tbody>\n",
       "</table>\n",
       "</div>"
      ],
      "text/plain": [
       "  Metropolitan Areas Year_2010 Year_2015\n",
       "0  MEX51: Minatitlan     12108     12105\n",
       "1    MEX58: Campeche        ..        ..\n",
       "2    MEX46: Victoria     17832     17581\n",
       "3     MEX30: Durango     13269     13849\n",
       "4      MEX04: Puebla     10304     10681"
      ]
     },
     "execution_count": 36,
     "metadata": {},
     "output_type": "execute_result"
    }
   ],
   "source": [
    "mexico_gdp.head()"
   ]
  },
  {
   "cell_type": "code",
   "execution_count": 37,
   "metadata": {},
   "outputs": [
    {
     "data": {
      "text/html": [
       "<div>\n",
       "<style scoped>\n",
       "    .dataframe tbody tr th:only-of-type {\n",
       "        vertical-align: middle;\n",
       "    }\n",
       "\n",
       "    .dataframe tbody tr th {\n",
       "        vertical-align: top;\n",
       "    }\n",
       "\n",
       "    .dataframe thead th {\n",
       "        text-align: right;\n",
       "    }\n",
       "</style>\n",
       "<table border=\"1\" class=\"dataframe\">\n",
       "  <thead>\n",
       "    <tr style=\"text-align: right;\">\n",
       "      <th></th>\n",
       "      <th>DataType</th>\n",
       "      <th>MissingVal</th>\n",
       "      <th>NumUnique</th>\n",
       "      <th>Count</th>\n",
       "    </tr>\n",
       "  </thead>\n",
       "  <tbody>\n",
       "    <tr>\n",
       "      <th>Metropolitan Areas</th>\n",
       "      <td>object</td>\n",
       "      <td>0</td>\n",
       "      <td>64</td>\n",
       "      <td>64</td>\n",
       "    </tr>\n",
       "    <tr>\n",
       "      <th>Year_2010</th>\n",
       "      <td>object</td>\n",
       "      <td>0</td>\n",
       "      <td>63</td>\n",
       "      <td>64</td>\n",
       "    </tr>\n",
       "    <tr>\n",
       "      <th>Year_2015</th>\n",
       "      <td>object</td>\n",
       "      <td>0</td>\n",
       "      <td>43</td>\n",
       "      <td>64</td>\n",
       "    </tr>\n",
       "  </tbody>\n",
       "</table>\n",
       "</div>"
      ],
      "text/plain": [
       "                   DataType  MissingVal  NumUnique  Count\n",
       "Metropolitan Areas   object           0         64     64\n",
       "Year_2010            object           0         63     64\n",
       "Year_2015            object           0         43     64"
      ]
     },
     "execution_count": 37,
     "metadata": {},
     "output_type": "execute_result"
    }
   ],
   "source": [
    "# Step 3: Create a Dataframe to store data types in materna\n",
    "mex_gdp_dtypes = pd.DataFrame(mexico_gdp.dtypes)\n",
    "\n",
    "#Rename column name to DataType\n",
    "mex_gdp_dtypes = mex_gdp_dtypes.rename(columns={0:'DataType'})\n",
    "\n",
    "#Analyze Missing Values\n",
    "mex_gdp_dtypes['MissingVal'] = mexico_gdp.isnull().sum()\n",
    "\n",
    "#Identify number of unique values\n",
    "mex_gdp_dtypes['NumUnique'] = mexico_gdp.nunique()\n",
    "\n",
    "#Identify the count for each variable\n",
    "mex_gdp_dtypes['Count']= mexico_gdp.count()\n",
    "mex_gdp_dtypes"
   ]
  },
  {
   "cell_type": "markdown",
   "metadata": {},
   "source": [
    "*Preliminary Observations*: Fortunately, the dataset seems rather clean as there are no missing values. However, the list of 'Metropolitan areas' appears to be twice as long as expected: there are 32 Provinces within Mexico, but the total list is twice that at 64. This requires further exploration."
   ]
  },
  {
   "cell_type": "code",
   "execution_count": 42,
   "metadata": {},
   "outputs": [
    {
     "data": {
      "text/plain": [
       "['MEX01: Mexico City',\n",
       " 'MEX02: Guadalajara',\n",
       " 'MEX03: Monterrey',\n",
       " 'MEX04: Puebla',\n",
       " 'MEX05: Toluca',\n",
       " 'MEX06: Tijuana',\n",
       " 'MEX07: Leon',\n",
       " 'MEX08: Queretaro',\n",
       " 'MEX09: Merida',\n",
       " 'MEX10: Juarez',\n",
       " 'MEX11: San Luis Potosi',\n",
       " 'MEX12: Torreon',\n",
       " 'MEX13: Mexicali',\n",
       " 'MEX14: Cuernavaca',\n",
       " 'MEX15: Centro',\n",
       " 'MEX16: Culiacan',\n",
       " 'MEX17: Morelia',\n",
       " 'MEX18: Chihuahua',\n",
       " 'MEX19: Veracruz',\n",
       " 'MEX20: Hermosillo',\n",
       " 'MEX21: Aguascalientes',\n",
       " 'MEX22: Acapulco de Juarez',\n",
       " 'MEX23: Tampico',\n",
       " 'MEX24: Oaxaca de Juarez',\n",
       " 'MEX25: Reynosa',\n",
       " 'MEX26: Xalapa',\n",
       " 'MEX27: Saltillo',\n",
       " 'MEX28: Benito Juarez',\n",
       " 'MEX29: Celaya',\n",
       " 'MEX30: Durango',\n",
       " 'MEX31: Tuxtla Gutierrez',\n",
       " 'MEX32: Pachuca de Soto',\n",
       " 'MEX33: Irapuato',\n",
       " 'MEX34: Ahome',\n",
       " 'MEX35: Matamoros',\n",
       " 'MEX36: Ensenada',\n",
       " 'MEX37: Poza Rica de Hidalgo',\n",
       " 'MEX38: Tepic',\n",
       " 'MEX39: Orizaba',\n",
       " 'MEX40: Mazatlan',\n",
       " 'MEX41: Cajeme',\n",
       " 'MEX42: Nuevo Laredo',\n",
       " 'MEX43: Guadalupe',\n",
       " 'MEX44: Coatzacoalcos',\n",
       " 'MEX45: Tapachula',\n",
       " 'MEX46: Victoria',\n",
       " 'MEX47: Tlaxcala',\n",
       " 'MEX48: Cordoba',\n",
       " 'MEX49: Uruapan',\n",
       " 'MEX50: Tehuacan',\n",
       " 'MEX51: Minatitlan',\n",
       " 'MEX52: Cuautla',\n",
       " 'MEX53: Chilpancingo de los Bravo',\n",
       " 'MEX54: Monclova',\n",
       " 'MEX55: Los Cabos',\n",
       " 'MEX56: Colima',\n",
       " 'MEX57: La Paz',\n",
       " 'MEX58: Campeche',\n",
       " 'MEX59: Puerto Vallarta',\n",
       " 'MEX60: Salamanca',\n",
       " 'MEX61: San Juan del Rio',\n",
       " 'MEX62: Zamora',\n",
       " 'MEX63: Tulancingo de Bravo',\n",
       " 'MEX: Mexico']"
      ]
     },
     "execution_count": 42,
     "metadata": {},
     "output_type": "execute_result"
    }
   ],
   "source": [
    "list(np.unique(mexico_gdp['Metropolitan Areas']))"
   ]
  },
  {
   "cell_type": "code",
   "execution_count": 49,
   "metadata": {},
   "outputs": [
    {
     "data": {
      "text/plain": [
       "Metropolitan Areas     object\n",
       "Year_2010             float64\n",
       "Year_2015             float64\n",
       "dtype: object"
      ]
     },
     "execution_count": 49,
     "metadata": {},
     "output_type": "execute_result"
    }
   ],
   "source": [
    "# Convert number objects in Year_2010 and Year_2015 to numbers\n",
    "\n",
    "# Year_2010\n",
    "mexico_gdp['Year_2010'] = pd.to_numeric(mexico_gdp['Year_2010'], errors='coerce')\n",
    "\n",
    "# Year_2015\n",
    "mexico_gdp['Year_2015'] = pd.to_numeric(mexico_gdp['Year_2015'], errors='coerce')\n",
    "\n",
    "# Verify object datatypes were switched to numbers\n",
    "mexico_gdp.dtypes"
   ]
  },
  {
   "cell_type": "code",
   "execution_count": 51,
   "metadata": {},
   "outputs": [
    {
     "data": {
      "text/html": [
       "<div>\n",
       "<style scoped>\n",
       "    .dataframe tbody tr th:only-of-type {\n",
       "        vertical-align: middle;\n",
       "    }\n",
       "\n",
       "    .dataframe tbody tr th {\n",
       "        vertical-align: top;\n",
       "    }\n",
       "\n",
       "    .dataframe thead th {\n",
       "        text-align: right;\n",
       "    }\n",
       "</style>\n",
       "<table border=\"1\" class=\"dataframe\">\n",
       "  <thead>\n",
       "    <tr style=\"text-align: right;\">\n",
       "      <th></th>\n",
       "      <th>Year_2010</th>\n",
       "      <th>Year_2015</th>\n",
       "    </tr>\n",
       "  </thead>\n",
       "  <tbody>\n",
       "    <tr>\n",
       "      <th>count</th>\n",
       "      <td>62.000000</td>\n",
       "      <td>62.000000</td>\n",
       "    </tr>\n",
       "    <tr>\n",
       "      <th>mean</th>\n",
       "      <td>15115.596774</td>\n",
       "      <td>15444.177419</td>\n",
       "    </tr>\n",
       "    <tr>\n",
       "      <th>std</th>\n",
       "      <td>5268.897192</td>\n",
       "      <td>4965.949402</td>\n",
       "    </tr>\n",
       "    <tr>\n",
       "      <th>min</th>\n",
       "      <td>7102.000000</td>\n",
       "      <td>6696.000000</td>\n",
       "    </tr>\n",
       "    <tr>\n",
       "      <th>25%</th>\n",
       "      <td>12094.500000</td>\n",
       "      <td>11947.000000</td>\n",
       "    </tr>\n",
       "    <tr>\n",
       "      <th>50%</th>\n",
       "      <td>13550.500000</td>\n",
       "      <td>14661.000000</td>\n",
       "    </tr>\n",
       "    <tr>\n",
       "      <th>75%</th>\n",
       "      <td>17804.750000</td>\n",
       "      <td>19045.500000</td>\n",
       "    </tr>\n",
       "    <tr>\n",
       "      <th>max</th>\n",
       "      <td>31370.000000</td>\n",
       "      <td>28251.000000</td>\n",
       "    </tr>\n",
       "  </tbody>\n",
       "</table>\n",
       "</div>"
      ],
      "text/plain": [
       "          Year_2010     Year_2015\n",
       "count     62.000000     62.000000\n",
       "mean   15115.596774  15444.177419\n",
       "std     5268.897192   4965.949402\n",
       "min     7102.000000   6696.000000\n",
       "25%    12094.500000  11947.000000\n",
       "50%    13550.500000  14661.000000\n",
       "75%    17804.750000  19045.500000\n",
       "max    31370.000000  28251.000000"
      ]
     },
     "execution_count": 51,
     "metadata": {},
     "output_type": "execute_result"
    }
   ],
   "source": [
    "# Step 4: Run descriptive statistics of number datatypes\n",
    "mexico_gdp.describe(include=['number'])"
   ]
  },
  {
   "cell_type": "code",
   "execution_count": null,
   "metadata": {},
   "outputs": [],
   "source": []
  },
  {
   "cell_type": "code",
   "execution_count": null,
   "metadata": {},
   "outputs": [],
   "source": []
  },
  {
   "cell_type": "code",
   "execution_count": null,
   "metadata": {},
   "outputs": [],
   "source": []
  }
 ],
 "metadata": {
  "kernelspec": {
   "display_name": "Python 3",
   "language": "python",
   "name": "python3"
  },
  "language_info": {
   "codemirror_mode": {
    "name": "ipython",
    "version": 3
   },
   "file_extension": ".py",
   "mimetype": "text/x-python",
   "name": "python",
   "nbconvert_exporter": "python",
   "pygments_lexer": "ipython3",
   "version": "3.7.0"
  }
 },
 "nbformat": 4,
 "nbformat_minor": 2
}
