{
 "cells": [
  {
   "cell_type": "code",
   "execution_count": 10,
   "metadata": {},
   "outputs": [],
   "source": [
    "# Import the relevant python libraries for the analysis\n",
    "import pandas as pd\n",
    "from pandas import DataFrame\n",
    "import numpy as np\n",
    "import seaborn as sns\n",
    "import matplotlib.pyplot as plt\n",
    "import random\n",
    "import scipy.stats as stats\n",
    "import pylab as pl\n",
    "import math"
   ]
  },
  {
   "cell_type": "code",
   "execution_count": 11,
   "metadata": {},
   "outputs": [
    {
     "name": "stdout",
     "output_type": "stream",
     "text": [
      "<class 'pandas.core.frame.DataFrame'>\n",
      "RangeIndex: 64 entries, 0 to 63\n",
      "Data columns (total 3 columns):\n",
      "Metropolitan Areas    64 non-null object\n",
      "Year_2010             64 non-null object\n",
      "Year_2015             64 non-null object\n",
      "dtypes: object(3)\n",
      "memory usage: 1.6+ KB\n"
     ]
    }
   ],
   "source": [
    "# Load and test dataset and set the index if applicable\n",
    "mexico_gdp = pd.read_csv('mexico_region_gdp_per_capita.csv')\n",
    "mexico_gdp.info()"
   ]
  },
  {
   "cell_type": "code",
   "execution_count": 18,
   "metadata": {},
   "outputs": [
    {
     "name": "stdout",
     "output_type": "stream",
     "text": [
      "<class 'pandas.core.frame.DataFrame'>\n",
      "RangeIndex: 76 entries, 0 to 75\n",
      "Data columns (total 5 columns):\n",
      "Name               74 non-null object\n",
      "Status             74 non-null object\n",
      "State(s)           74 non-null object\n",
      "Population 2010    74 non-null float64\n",
      "Population 2015    74 non-null float64\n",
      "dtypes: float64(2), object(3)\n",
      "memory usage: 3.0+ KB\n"
     ]
    }
   ],
   "source": [
    "# Load and test dataset and set the index if applicable\n",
    "metro_by_region = pd.read_excel('metro_area_by_state.xlsx')\n",
    "metro_by_region.info()"
   ]
  },
  {
   "cell_type": "markdown",
   "metadata": {},
   "source": [
    "# Question 1: What is the Average GDP per Capita for each Province of Mexico between 2007 and 2017? How does this relate to the Average GDP of Mexico as a whole?"
   ]
  },
  {
   "cell_type": "markdown",
   "metadata": {},
   "source": [
    "- The dataset found from the Organization for Economic Co-Operation and Development (OECD.stats.org) contains a record for GDP per Capita within each Metropolitan Area of Mexico for the years 2010 and 2015. Therefore, the Metropolitan Areas need to be grouped by Province then averaged in order to make a rough approximation of the GDP per Capita per Province during the period of time of interest. "
   ]
  },
  {
   "cell_type": "markdown",
   "metadata": {},
   "source": [
    "### Step 1: Explore the Data and Create Clean Sub-Dataframe for Analysis"
   ]
  },
  {
   "cell_type": "code",
   "execution_count": 15,
   "metadata": {},
   "outputs": [
    {
     "data": {
      "text/plain": [
       "Metropolitan Areas     object\n",
       "Year_2010             float64\n",
       "Year_2015             float64\n",
       "dtype: object"
      ]
     },
     "execution_count": 15,
     "metadata": {},
     "output_type": "execute_result"
    }
   ],
   "source": [
    "# Convert number objects in Year_2010 and Year_2015 to numbers\n",
    "\n",
    "# Year_2010\n",
    "mexico_gdp['Year_2010'] = pd.to_numeric(mexico_gdp['Year_2010'], errors='coerce')\n",
    "\n",
    "# Year_2015\n",
    "mexico_gdp['Year_2015'] = pd.to_numeric(mexico_gdp['Year_2015'], errors='coerce')\n",
    "\n",
    "# Verify object datatypes were switched to numbers\n",
    "mexico_gdp.dtypes"
   ]
  },
  {
   "cell_type": "code",
   "execution_count": 16,
   "metadata": {},
   "outputs": [
    {
     "data": {
      "text/html": [
       "<div>\n",
       "<style scoped>\n",
       "    .dataframe tbody tr th:only-of-type {\n",
       "        vertical-align: middle;\n",
       "    }\n",
       "\n",
       "    .dataframe tbody tr th {\n",
       "        vertical-align: top;\n",
       "    }\n",
       "\n",
       "    .dataframe thead th {\n",
       "        text-align: right;\n",
       "    }\n",
       "</style>\n",
       "<table border=\"1\" class=\"dataframe\">\n",
       "  <thead>\n",
       "    <tr style=\"text-align: right;\">\n",
       "      <th></th>\n",
       "      <th>Metropolitan Areas</th>\n",
       "      <th>Year_2010</th>\n",
       "      <th>Year_2015</th>\n",
       "    </tr>\n",
       "  </thead>\n",
       "  <tbody>\n",
       "    <tr>\n",
       "      <th>0</th>\n",
       "      <td>MEX51: Minatitlan</td>\n",
       "      <td>12108.0</td>\n",
       "      <td>12105.0</td>\n",
       "    </tr>\n",
       "    <tr>\n",
       "      <th>1</th>\n",
       "      <td>MEX58: Campeche</td>\n",
       "      <td>NaN</td>\n",
       "      <td>NaN</td>\n",
       "    </tr>\n",
       "    <tr>\n",
       "      <th>2</th>\n",
       "      <td>MEX46: Victoria</td>\n",
       "      <td>17832.0</td>\n",
       "      <td>17581.0</td>\n",
       "    </tr>\n",
       "    <tr>\n",
       "      <th>3</th>\n",
       "      <td>MEX30: Durango</td>\n",
       "      <td>13269.0</td>\n",
       "      <td>13849.0</td>\n",
       "    </tr>\n",
       "    <tr>\n",
       "      <th>4</th>\n",
       "      <td>MEX04: Puebla</td>\n",
       "      <td>10304.0</td>\n",
       "      <td>10681.0</td>\n",
       "    </tr>\n",
       "  </tbody>\n",
       "</table>\n",
       "</div>"
      ],
      "text/plain": [
       "  Metropolitan Areas  Year_2010  Year_2015\n",
       "0  MEX51: Minatitlan    12108.0    12105.0\n",
       "1    MEX58: Campeche        NaN        NaN\n",
       "2    MEX46: Victoria    17832.0    17581.0\n",
       "3     MEX30: Durango    13269.0    13849.0\n",
       "4      MEX04: Puebla    10304.0    10681.0"
      ]
     },
     "execution_count": 16,
     "metadata": {},
     "output_type": "execute_result"
    }
   ],
   "source": [
    "mexico_gdp.head()"
   ]
  },
  {
   "cell_type": "markdown",
   "metadata": {},
   "source": [
    "Since the goal of this analysis is to show the average GDP per Capita in each *province* of Mexico between the timeframe, 2007 to 2017, the Metropolitan Areas needs to be grouped together by Region, then the GDP per Captia needs to be averaged for the 2010 and 2015 recorded values."
   ]
  },
  {
   "cell_type": "code",
   "execution_count": null,
   "metadata": {},
   "outputs": [],
   "source": []
  }
 ],
 "metadata": {
  "kernelspec": {
   "display_name": "Python 3",
   "language": "python",
   "name": "python3"
  },
  "language_info": {
   "codemirror_mode": {
    "name": "ipython",
    "version": 3
   },
   "file_extension": ".py",
   "mimetype": "text/x-python",
   "name": "python",
   "nbconvert_exporter": "python",
   "pygments_lexer": "ipython3",
   "version": "3.7.0"
  }
 },
 "nbformat": 4,
 "nbformat_minor": 2
}
