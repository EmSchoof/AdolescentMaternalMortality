{
 "cells": [
  {
   "cell_type": "markdown",
   "metadata": {},
   "source": [
    "# Inferential Statistics: Bootstrap Simulation & ANOVA Analysis"
   ]
  },
  {
   "cell_type": "code",
   "execution_count": 1,
   "metadata": {},
   "outputs": [],
   "source": [
    "# Import the relevant python libraries for the analysis\n",
    "import math\n",
    "import numpy as np\n",
    "import pandas as pd\n",
    "import pylab as pl\n",
    "import random\n",
    "import seaborn as sns\n",
    "import scipy.stats as stats\n",
    "import statistics"
   ]
  },
  {
   "cell_type": "code",
   "execution_count": 2,
   "metadata": {},
   "outputs": [
    {
     "name": "stdout",
     "output_type": "stream",
     "text": [
      "no stored variable or alias state_pop\n"
     ]
    }
   ],
   "source": [
    "# Load datasets\n",
    "%store -r  materna\n",
    "%store -r res_dataset \n",
    "%store -r age_by_state\n",
    "%store -r state_pop"
   ]
  },
  {
   "cell_type": "markdown",
   "metadata": {},
   "source": [
    "## Bootstrap Simulation "
   ]
  },
  {
   "cell_type": "markdown",
   "metadata": {},
   "source": [
    "#### Statistical Testing of Data Mean\n",
    "\n",
    "$H$o: The mean age maternal mortality of women in Mexico is equal to mean age maternal mortality within the dataset ($28.35 yoa$). <br>  Empirical Mean ($μ$) − Population Mean ($μ$) = 0\n",
    "\n",
    "$H$a: The mean age maternal mortality of women in Mexico is *not* equal to mean age maternal mortality within the dataset  ($28.35 yoa$). <br> Empirical Mean ($μ$) − Population Mean ($μ$) ≠ 0\n",
    "\n",
    "Significance Level: *95%* Confidence. <br> $α$ = 0.05"
   ]
  },
  {
   "cell_type": "code",
   "execution_count": 3,
   "metadata": {},
   "outputs": [
    {
     "data": {
      "text/html": [
       "<div>\n",
       "<style scoped>\n",
       "    .dataframe tbody tr th:only-of-type {\n",
       "        vertical-align: middle;\n",
       "    }\n",
       "\n",
       "    .dataframe tbody tr th {\n",
       "        vertical-align: top;\n",
       "    }\n",
       "\n",
       "    .dataframe thead th {\n",
       "        text-align: right;\n",
       "    }\n",
       "</style>\n",
       "<table border=\"1\" class=\"dataframe\">\n",
       "  <thead>\n",
       "    <tr style=\"text-align: right;\">\n",
       "      <th></th>\n",
       "      <th>Residence Code</th>\n",
       "      <th>Residence Name</th>\n",
       "      <th>Local Size Code</th>\n",
       "      <th>Education Completed</th>\n",
       "      <th>Age at Death</th>\n",
       "      <th>Received(0)/Not(1) Medical Assistance</th>\n",
       "    </tr>\n",
       "  </thead>\n",
       "  <tbody>\n",
       "    <tr>\n",
       "      <th>0</th>\n",
       "      <td>7</td>\n",
       "      <td>Chiapas</td>\n",
       "      <td>1</td>\n",
       "      <td>2</td>\n",
       "      <td>11</td>\n",
       "      <td>0.0</td>\n",
       "    </tr>\n",
       "    <tr>\n",
       "      <th>1</th>\n",
       "      <td>30</td>\n",
       "      <td>Veracruz de Ignacio de la Llave</td>\n",
       "      <td>11</td>\n",
       "      <td>3</td>\n",
       "      <td>12</td>\n",
       "      <td>0.0</td>\n",
       "    </tr>\n",
       "  </tbody>\n",
       "</table>\n",
       "</div>"
      ],
      "text/plain": [
       "   Residence Code                   Residence Name  Local Size Code  \\\n",
       "0               7                          Chiapas                1   \n",
       "1              30  Veracruz de Ignacio de la Llave               11   \n",
       "\n",
       "   Education Completed  Age at Death  Received(0)/Not(1) Medical Assistance  \n",
       "0                    2            11                                    0.0  \n",
       "1                    3            12                                    0.0  "
      ]
     },
     "execution_count": 3,
     "metadata": {},
     "output_type": "execute_result"
    }
   ],
   "source": [
    "materna.head(2)"
   ]
  },
  {
   "cell_type": "markdown",
   "metadata": {},
   "source": [
    "#### Create a boostrap replicate function with another function to repeat the bootstrap replication 'x' number of times"
   ]
  },
  {
   "cell_type": "code",
   "execution_count": 4,
   "metadata": {},
   "outputs": [],
   "source": [
    "# Bootstrap replicate function for repeatability\n",
    "def bootstrap_replicate_1d(data, func):\n",
    "    \"\"\"Create a bootstrap replicates.\"\"\"\n",
    "    \n",
    "    boot_sample = np.random.choice(data, size=len(data))  # create bootstrap sample\n",
    "    return func(boot_sample) # apply function to bootstrap\n",
    "\n",
    "# Apply bootstrap replicate function 'n' and return an array\n",
    "def draw_bs_reps(data, func, size=1):\n",
    "    \"\"\"Draw bootstrap replicates.\"\"\"\n",
    "\n",
    "    boot_rep = np.empty(size) # initialize array of replicates: bs_replicates\n",
    "    for i in range(size):  # generate 'n' number of replicates\n",
    "        boot_rep[i] = bootstrap_replicate_1d(data, func)\n",
    "    return boot_rep"
   ]
  },
  {
   "cell_type": "markdown",
   "metadata": {},
   "source": [
    "#### Calculate the size, mean, and standard deviation of *materna*[ 'Age at Death' ]"
   ]
  },
  {
   "cell_type": "code",
   "execution_count": 5,
   "metadata": {},
   "outputs": [],
   "source": [
    "# Define a variable for the materna['Age at Death'] Series\n",
    "age_mortality = materna['Age at Death']"
   ]
  },
  {
   "cell_type": "code",
   "execution_count": 6,
   "metadata": {},
   "outputs": [
    {
     "name": "stdout",
     "output_type": "stream",
     "text": [
      "sample size:  16631\n",
      "sample mean age of death:  28.35644278756539\n",
      "sample standard deviation:  7.322832303815807\n",
      "sample variation:  53.6206486173599\n"
     ]
    }
   ],
   "source": [
    "# Create variables for sample statistical information\n",
    "materna_age_std = age_mortality.std()\n",
    "materna_sample_size = len(age_mortality)\n",
    "materna_age_var = np.var(age_mortality)\n",
    "mean_age = materna['Age at Death'].mean()\n",
    "\n",
    "# Create an array of the sample mean that is equal to the boostrap array length\n",
    "materna_mean_arr = np.full(10000, mean_age)\n",
    "\n",
    "print('sample size: ', materna_sample_size)\n",
    "print('sample mean age of death: ', mean_age)\n",
    "print('sample standard deviation: ', materna_age_std)\n",
    "print('sample variation: ', materna_age_var)"
   ]
  },
  {
   "cell_type": "markdown",
   "metadata": {},
   "source": [
    "#### Create a 10,000 bootstrap replication"
   ]
  },
  {
   "cell_type": "code",
   "execution_count": 7,
   "metadata": {},
   "outputs": [
    {
     "name": "stdout",
     "output_type": "stream",
     "text": [
      "bootstrap mean age of death: 28.35673449582106\n"
     ]
    }
   ],
   "source": [
    "# Create 10000 bootstrap replicates of the mean and take the mean of the returned array\n",
    "boot_tenthousand =  draw_bs_reps(age_mortality, np.mean, size=10000)\n",
    "print('bootstrap mean age of death: ' + str(np.mean(boot_tenthousand)))"
   ]
  },
  {
   "cell_type": "markdown",
   "metadata": {},
   "source": [
    "#### Calculate the difference between the bootrap and sample means with p-value and standard deviation"
   ]
  },
  {
   "cell_type": "code",
   "execution_count": 8,
   "metadata": {},
   "outputs": [
    {
     "name": "stdout",
     "output_type": "stream",
     "text": [
      "p-value: 0.5018\n",
      "95% Confidence Interval: [28.2440  28.4689]\n"
     ]
    }
   ],
   "source": [
    "# Compute p-value\n",
    "p_val = np.sum(boot_tenthousand >= materna_mean_arr) / len(boot_tenthousand)\n",
    "print('p-value: {0:0.4f}'.format(p_val))\n",
    "\n",
    "# Calculate the standard margin of error for a 95% confidence interval\n",
    "conf_int_low = mean_age-(1.98*(materna_age_std/math.sqrt(materna_sample_size)))\n",
    "conf_int_high = mean_age+(1.98*(materna_age_std/math.sqrt(materna_sample_size)))\n",
    "print('95% Confidence Interval: [{0:0.4f}  {1:0.4f}]'.format(conf_int_low, conf_int_high))"
   ]
  },
  {
   "cell_type": "markdown",
   "metadata": {},
   "source": [
    "**Conclusion from the Bootstrap Hypothesis Test:** The resulting population mean of maternal death approximation based on 10,000 bootstrap replicate samples was *28.3564 years of age (yoa)*, which is close to the sample mean of *28.3568 yoa* old from the dataset. Additionally, the bootstrap population mean is within the 95% Confidence Interval, *28.2443 to 28.4692 yoa* with a p-value of 0.4959, which is greater than α = 0.05. Therefore, the null hypothesis that the mean age of death of maternal women in Mexico is equal to the mean age of death presented in the dataset can be accepted. **$Ho$ is accepted**."
   ]
  },
  {
   "cell_type": "markdown",
   "metadata": {},
   "source": [
    "## ANOVA Analysis"
   ]
  },
  {
   "cell_type": "markdown",
   "metadata": {},
   "source": [
    "A **One-Way Analysis of Variance (ANOVA)** test compares the means of two or more groups to determine if at least one group mean is statistically different from the others. These assumptions that must be satisfied in order for the associated p-value to be valid:\n",
    "\n",
    "1. The samples are independent.\n",
    "2. Each sample is from a normally distributed population.\n",
    "3. The population standard deviations of the groups are all equal. (homoscedasticity)"
   ]
  },
  {
   "cell_type": "markdown",
   "metadata": {},
   "source": [
    "#### 1. Samples must be Random / Independent\n",
    "10% Rule: If sample size (n) for each Mexican State is less than 10% of the total population within that State, than each sample selection can be treated as an independent event"
   ]
  },
  {
   "cell_type": "code",
   "execution_count": 9,
   "metadata": {},
   "outputs": [
    {
     "ename": "NameError",
     "evalue": "name 'state_pop' is not defined",
     "output_type": "error",
     "traceback": [
      "\u001b[0;31m---------------------------------------------------------------------------\u001b[0m",
      "\u001b[0;31mNameError\u001b[0m                                 Traceback (most recent call last)",
      "\u001b[0;32m<ipython-input-9-fb5d9605a8ad>\u001b[0m in \u001b[0;36m<module>\u001b[0;34m\u001b[0m\n\u001b[1;32m      1\u001b[0m \u001b[0;31m# Verify both age_by_state and state_pop both contain all 32 Mexican States/Regions\u001b[0m\u001b[0;34m\u001b[0m\u001b[0;34m\u001b[0m\u001b[0;34m\u001b[0m\u001b[0m\n\u001b[0;32m----> 2\u001b[0;31m \u001b[0mlen\u001b[0m\u001b[0;34m(\u001b[0m\u001b[0mlist\u001b[0m\u001b[0;34m(\u001b[0m\u001b[0mage_by_state\u001b[0m\u001b[0;34m.\u001b[0m\u001b[0mkeys\u001b[0m\u001b[0;34m(\u001b[0m\u001b[0;34m)\u001b[0m\u001b[0;34m)\u001b[0m\u001b[0;34m)\u001b[0m\u001b[0;34m,\u001b[0m \u001b[0mlen\u001b[0m\u001b[0;34m(\u001b[0m\u001b[0mstate_pop\u001b[0m\u001b[0;34m)\u001b[0m\u001b[0;34m\u001b[0m\u001b[0;34m\u001b[0m\u001b[0m\n\u001b[0m",
      "\u001b[0;31mNameError\u001b[0m: name 'state_pop' is not defined"
     ]
    }
   ],
   "source": [
    "# Verify both age_by_state and state_pop both contain all 32 Mexican States/Regions \n",
    "len(list(age_by_state.keys())), len(state_pop)"
   ]
  },
  {
   "cell_type": "code",
   "execution_count": null,
   "metadata": {},
   "outputs": [],
   "source": [
    "# Modify state_pop to contain the extact same string value for State\n",
    "state_pop['State'] = age_by_state.keys()\n",
    "state_pop.head()"
   ]
  },
  {
   "cell_type": "code",
   "execution_count": null,
   "metadata": {},
   "outputs": [],
   "source": [
    "### OVER ESTIMATION - If Women are only 30% of Population ###\n",
    "for state in age_by_state:\n",
    "    age_arr = age_by_state[state]  # select age arr\n",
    "    age_length = len(age_arr) # calculate State age sample size\n",
    "    state_row = state_pop[state_pop['State'] == state] # select State row in state_pop\n",
    "    \n",
    "    # Calculate 10% state_pop State populations in 2010 and 2015\n",
    "    ten_percent_2010 = round(float(state_row['Population 2010'])**0.1, 2)\n",
    "    ten_percent_2015 = round(float(state_row['Population 2015'])**0.1, 2)\n",
    "    \n",
    "    # Calculate 10% of 30% of state_pop State populations in 2010 and 2015\n",
    "    state_10_30 = round(float(state_row['Population 2010'])**0.3, 2)\n",
    "    ten_percent_10_30 = round(state_10_30**0.1,2)\n",
    "    state_15_30 = round(float(state_row['Population 2015'])**0.3, 2)\n",
    "    ten_percent_15_30 = round(state_10_30**0.1,2)\n",
    "        \n",
    "    # Set condition: Compare age_length to 10% and 30% State populations in 2010 and 2015\n",
    "    if age_length > ten_percent_2010 and age_length > ten_percent_2015:\n",
    "        print('Accept Independence: ', state)\n",
    "    else: \n",
    "        print('REJECT: ', state)\n",
    "    \n",
    "    if age_length > ten_percent_10_30 and ten_percent_10_30:\n",
    "         print('Accept Independence - Over-Estimation: ', state)\n",
    "    else: \n",
    "        print('REJECT - Over-Estimation: ', state)"
   ]
  },
  {
   "cell_type": "markdown",
   "metadata": {},
   "source": [
    "**Independence Conclusion**: Since the dataset for the incidence of maternal mortality within each Mexican States/Region is less than 10% of the recorded populations of each State in both 2010 and 2015, each data point can be treated as an independent variable. **Independence is Accepted**"
   ]
  },
  {
   "cell_type": "markdown",
   "metadata": {},
   "source": [
    "#### 2. Samples must be Normally Distributed\n",
    "Within the SciPy module of python 3, there is a normalcy function that tests the null hypothesis that a sample comes from a normal distribution. It is based on **D’Agostino** and **Pearson’s test** that combines skew and kurtosis to test of normality. This function be used to further determine if the distribution of each Province sample population is normally distributed."
   ]
  },
  {
   "cell_type": "code",
   "execution_count": null,
   "metadata": {},
   "outputs": [],
   "source": [
    "# Create a variable to hold list of Regions with normally-distributed sample sizes\n",
    "norm_distr_regions = []\n",
    "\n",
    "# Create a variable to hold list of Regions without normally-distributed sample sizes\n",
    "not_norm_distr_regions = []"
   ]
  },
  {
   "cell_type": "code",
   "execution_count": null,
   "metadata": {},
   "outputs": [],
   "source": [
    "# Determine if each Province has a normally distributed sample population of ages\n",
    "for region in age_by_state:\n",
    "    \"\"\"Determine if Region Age Distribution is Normal\"\"\"\n",
    "    \n",
    "    region_name = str(region)\n",
    "    arr = age_by_state[region_name]\n",
    "    \n",
    "    if len(arr) > 8: # skewtest (k2): not valid with less than 8 samples \n",
    "        k2, p = stats.normaltest(arr)\n",
    "        alpha = 0.05 # 95% confidence\n",
    "        print(\"p = {:g}\".format(p))\n",
    "        print(\"n = \" + str(len(arr)))\n",
    "        \n",
    "        if p < alpha: # if norm\n",
    "            print(str(region)+ \" IS normally distributed.\")\n",
    "            norm_distr_regions.append(region_name) # add region to norm list  \n",
    "        else:\n",
    "            print(str(region)+ \" *IS NOT* normally distributed.\")\n",
    "            not_norm_distr_regions.append(region_name) # add region to norm list     \n",
    "    else: \n",
    "        print(str(region)+ \" *sample size is too small*\")\n",
    "        not_norm_distr_regions.append(region_name) # add region to non-norm list of regions"
   ]
  },
  {
   "cell_type": "code",
   "execution_count": null,
   "metadata": {},
   "outputs": [],
   "source": [
    "print('Not Normally Distributed: ', list(np.unique(not_norm_distr_regions)))"
   ]
  },
  {
   "cell_type": "markdown",
   "metadata": {},
   "source": [
    "**Normalcy Conclusion**: After assessing the distribution of age of maternal death within each Province of Mexico, **all Province sample populations are considered to be normally distributed** *aside from* Colima (p-value: 2.13913e-21, n=1082) Quintana Roo (p-value: 0.00022599, n=375), which were found to *not be normally distributed*. \n",
    "​\n",
    "However, under the Central Limit Theorem (CLT), the sampling distribution of the sample means approaches a normal distribution as the sample size ( n ) gets larger - regardless of what the shape of the population distribution. Under this theorem,  n>30  is considered a large sample size. *Since the current database sample size (n) of Colima and Quintana Roo of 1082 and 375, respectively, justify CLT being assumed.* "
   ]
  },
  {
   "cell_type": "markdown",
   "metadata": {},
   "source": [
    "#### Bartlett’s Test for Homogeneity of Variance\n",
    "$H$o: All region age of maternal mortality populations have equal variance. <br>  $v$1 = $v$2 = $v$3 = .... = $v$32\n",
    "\n",
    "$H$a: There is at least one region age of maternal mortality population variance is statistically different from the rest. <br> $v$1 ≠ $v$2 = .... = $v$32\n",
    "\n",
    "Significance Level: *95%* Confidence. <br> $α$ = 0.05"
   ]
  },
  {
   "cell_type": "code",
   "execution_count": null,
   "metadata": {},
   "outputs": [],
   "source": [
    "# Calculate the age variance per region - This section has test trials per entry to help formulate an iteration function\n",
    "\n",
    "# Aquascalientes and Baja California\n",
    "print(stats.bartlett(age_by_state['Aguascalientes'], age_by_state['Baja California']))\n",
    "\n",
    "# Aquascalientes and Baja California Sur\n",
    "print(stats.bartlett(age_by_state['Aguascalientes'], age_by_state['Baja California Sur']))"
   ]
  },
  {
   "cell_type": "markdown",
   "metadata": {},
   "source": [
    "*Preliminary* **Conclusion for Homogeneity of Variance**: Even before calculating all Bartlett results between region populations, it is evident that not all regions have the same variance. Therefore, **the null hypothesis is rejected: there is at least one region age of maternal mortality with a population variance statistically different from the rest**. Luckily, the proof for ANOVA test is robust, so slight variations from its proof criteria are  OK (source: https://faculty.elgin.edu/dkernler/statistics/ch13/13-1.html). As a good rule of thumb, *as long as the largest variance is no more than double the smallest, we can assume ANOVA's requirement for Homogeneity of Variance is satisfied.*"
   ]
  },
  {
   "cell_type": "markdown",
   "metadata": {},
   "source": [
    "#### Evaluate the differences between the largest and smallest Region variances in Mexico."
   ]
  },
  {
   "cell_type": "code",
   "execution_count": null,
   "metadata": {},
   "outputs": [],
   "source": [
    "res_dataset.head(2)"
   ]
  },
  {
   "cell_type": "code",
   "execution_count": null,
   "metadata": {},
   "outputs": [],
   "source": [
    "# Create variables for minimum and maximum variation values in res_dataset\n",
    "max_variance = res_dataset['μ Age Variance'].max()\n",
    "print('Max Variance: ', max_variance)\n",
    "\n",
    "min_variance = res_dataset['μ Age Variance'].min()\n",
    "print('Min Variance: ', min_variance)\n",
    "print('Double Min Variance: ', min_variance*2)\n",
    "\n",
    "# Check if largest variance is more than double the smallest\n",
    "if (2*min_variance) >= max_variance:\n",
    "    print('Accept ANOVA: The max variance is less than double the min variance.')\n",
    "else: \n",
    "    print('Reject ANOVA: The max variance is more than double the min variance.')"
   ]
  },
  {
   "cell_type": "markdown",
   "metadata": {},
   "source": [
    "**Final Conclusion for Homogeneity of Variance**: Since the maximum variance within the dataset (61.68) is less than double the minimum variance within the dataset (40.12, whichs doubles to 80.24), we can assume ANOVA's requirement for Homogeneity of Variance is satisfied."
   ]
  },
  {
   "cell_type": "markdown",
   "metadata": {},
   "source": [
    "### Calculate One-Way Analysis of Variance\n",
    "\n",
    "$H$o: All mean age of death of maternal women within all Province of Mexico are statistically similar. <br>  $μ$1 = $μ$2 = $μ$3 = .... = $μ$32\n",
    "\n",
    "$H$a: There is at least one mean age of death of maternal women within a Province of Mexico that is statistically different from the rest. <br> $μ$1 ≠ $μ$2 = .... = $μ$32\n",
    "\n",
    "Significance Level: *95%* Confidence. <br> $α$ = 0.05"
   ]
  },
  {
   "cell_type": "code",
   "execution_count": null,
   "metadata": {},
   "outputs": [],
   "source": [
    "# Define the number of conditions (k) based on Region/State\n",
    "k = len(pd.unique(materna['Residence Name']))\n",
    "print('Number of Conditions(k): ', k)\n",
    "\n",
    "# Calculate the conditions times data points (N)\n",
    "N = len(materna.values)\n",
    "print('Number of Conditions times Data Points(N): ', N)\n",
    "\n",
    "# Participants in each condition\n",
    "n = materna.groupby('Residence Name').size()[0] \n",
    "print('Number of Participants in Each Condition(n): ', n)"
   ]
  },
  {
   "cell_type": "code",
   "execution_count": null,
   "metadata": {},
   "outputs": [],
   "source": [
    "#Create a dict variable for key:value pairs of state:age_array\n",
    "grps = pd.unique(materna['Residence Name'].values)\n",
    "state_mean_ages = {grp:materna['Age at Death'][materna['Residence Name'] == grp] for grp in grps}"
   ]
  },
  {
   "cell_type": "markdown",
   "metadata": {},
   "source": [
    "#### Calculate the ANOVA F- value and p-value using stats module"
   ]
  },
  {
   "cell_type": "code",
   "execution_count": null,
   "metadata": {},
   "outputs": [],
   "source": [
    "F, p = stats.f_oneway(state_mean_ages['Aguascalientes'], \n",
    "                      state_mean_ages['Baja California'], \n",
    "                      state_mean_ages['Baja California Sur'],\n",
    "                      state_mean_ages['Campeche'],\n",
    "                      state_mean_ages['Chiapas'],\n",
    "                      state_mean_ages['Chihuahua'],\n",
    "                      state_mean_ages['Coahuila de Zaragoza'],\n",
    "                      state_mean_ages['Colima'],\n",
    "                      state_mean_ages['Distrito Federal'],\n",
    "                      state_mean_ages['Durango'],\n",
    "                      state_mean_ages['Guanajuato'],\n",
    "                      state_mean_ages['Guerrero'],\n",
    "                      state_mean_ages['Hidalgo'],\n",
    "                      state_mean_ages['Jalisco'],\n",
    "                      state_mean_ages['Michoacán de Ocampo'],\n",
    "                      state_mean_ages['Morelos'],\n",
    "                      state_mean_ages['México'],\n",
    "                      state_mean_ages['Nayarit'],\n",
    "                      state_mean_ages['Nuevo León'],\n",
    "                      state_mean_ages['Oaxaca'],\n",
    "                      state_mean_ages['Puebla'],\n",
    "                      state_mean_ages['Querétaro Arteaga'],\n",
    "                      state_mean_ages['Quintana Roo'],\n",
    "                      state_mean_ages['San Luis Potosí'],\n",
    "                      state_mean_ages['Sinaloa'],\n",
    "                      state_mean_ages['Sonora'],\n",
    "                      state_mean_ages['Tabasco'],\n",
    "                      state_mean_ages['Tamaulipas'],\n",
    "                      state_mean_ages['Tlaxcala'],\n",
    "                      state_mean_ages['Veracruz de Ignacio de la Llave'],\n",
    "                      state_mean_ages['Yucatán'],\n",
    "                      state_mean_ages['Zacatecas'])\n",
    "\n",
    "print('ANOVA F-value: ', str(F))\n",
    "print('ANOVA p-value: ', str(p))\n",
    "print('alpha level: 0.05')"
   ]
  },
  {
   "cell_type": "markdown",
   "metadata": {},
   "source": [
    "**ANOVA Conclusion**: ANOVA was performed using a confidence level of 95%. The resulting p-value was 5.79x10-13, which is substantially smaller than α = 0.05. Thus, **the null hypothesis is rejected: the differences in mean age of maternal mortality across the regions in Mexico are statistically different**. Since adolescent maternal mortality is one of the key factors that lowers the mean age per region, it would be beneficial to calculate the mean age adolescent maternal mortality in preparation for the machine learning assessment of mean maternal age of mortality."
   ]
  }
 ],
 "metadata": {
  "kernelspec": {
   "display_name": "Python 3",
   "language": "python",
   "name": "python3"
  },
  "language_info": {
   "codemirror_mode": {
    "name": "ipython",
    "version": 3
   },
   "file_extension": ".py",
   "mimetype": "text/x-python",
   "name": "python",
   "nbconvert_exporter": "python",
   "pygments_lexer": "ipython3",
   "version": "3.8.5"
  }
 },
 "nbformat": 4,
 "nbformat_minor": 2
}
