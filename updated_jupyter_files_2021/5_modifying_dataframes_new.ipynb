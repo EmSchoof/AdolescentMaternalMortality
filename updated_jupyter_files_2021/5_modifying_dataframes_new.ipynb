{
 "cells": [
  {
   "cell_type": "markdown",
   "metadata": {},
   "source": [
    "## This file has been modified based on new understandings and methodologies since the original implementation (2 years later)"
   ]
  },
  {
   "cell_type": "markdown",
   "metadata": {},
   "source": [
    "### Create a Combined Database with Mean Age and Variance by Region Maternal Mortality, Mean and Variance of Adolescent Age Maternal Mortality by Region, GDP by Region, and Population by Region in Mexico.\n",
    "- This requires the combination of res_dataset (with each Region mean and variance for total and adolescent maternal mortality), metro_by_region (with Metropolitan Areas organized by Region), and mexico_gdp (with GDP values organized by Metropolitan Areas). "
   ]
  },
  {
   "cell_type": "code",
   "execution_count": 1,
   "metadata": {},
   "outputs": [],
   "source": [
    "# Import the relevant python libraries for the analysis\n",
    "import pandas as pd\n",
    "from pandas import DataFrame\n",
    "import numpy as np\n",
    "import seaborn as sns\n",
    "import matplotlib.pyplot as plt\n",
    "import pylab as pl\n",
    "\n",
    "\n",
    "# Statistics\n",
    "import statistics\n",
    "import scipy.stats as stats\n",
    "import random\n",
    "import math\n",
    "import re\n",
    "%matplotlib inline"
   ]
  },
  {
   "cell_type": "code",
   "execution_count": 2,
   "metadata": {},
   "outputs": [
    {
     "name": "stdout",
     "output_type": "stream",
     "text": [
      "<class 'pandas.core.frame.DataFrame'>\n",
      "RangeIndex: 74 entries, 0 to 73\n",
      "Data columns (total 5 columns):\n",
      " #   Column           Non-Null Count  Dtype  \n",
      "---  ------           --------------  -----  \n",
      " 0   Name             74 non-null     object \n",
      " 1   Status           74 non-null     object \n",
      " 2   State(s)         74 non-null     object \n",
      " 3   Population 2010  74 non-null     float64\n",
      " 4   Population 2015  74 non-null     float64\n",
      "dtypes: float64(2), object(3)\n",
      "memory usage: 3.0+ KB\n"
     ]
    },
    {
     "name": "stderr",
     "output_type": "stream",
     "text": [
      "/Users/emily-work/miniconda3/lib/python3.8/site-packages/openpyxl/worksheet/_reader.py:312: UserWarning: Unknown extension is not supported and will be removed\n",
      "  warn(msg)\n"
     ]
    }
   ],
   "source": [
    "# Load and test Metro by Region dataset and set the index if applicable\n",
    "metro_by_region = pd.read_excel('../data/metro_area_by_state.xlsx').dropna().reset_index(drop=True)\n",
    "metro_by_region.info()"
   ]
  },
  {
   "cell_type": "markdown",
   "metadata": {},
   "source": [
    "### Step 1: Explore metro_by_region Dataset and Create Clean Sub-Dataframes for Analysis"
   ]
  },
  {
   "cell_type": "code",
   "execution_count": 3,
   "metadata": {},
   "outputs": [
    {
     "data": {
      "text/html": [
       "<div>\n",
       "<style scoped>\n",
       "    .dataframe tbody tr th:only-of-type {\n",
       "        vertical-align: middle;\n",
       "    }\n",
       "\n",
       "    .dataframe tbody tr th {\n",
       "        vertical-align: top;\n",
       "    }\n",
       "\n",
       "    .dataframe thead th {\n",
       "        text-align: right;\n",
       "    }\n",
       "</style>\n",
       "<table border=\"1\" class=\"dataframe\">\n",
       "  <thead>\n",
       "    <tr style=\"text-align: right;\">\n",
       "      <th></th>\n",
       "      <th>Name</th>\n",
       "      <th>Status</th>\n",
       "      <th>State(s)</th>\n",
       "      <th>Population 2010</th>\n",
       "      <th>Population 2015</th>\n",
       "    </tr>\n",
       "  </thead>\n",
       "  <tbody>\n",
       "    <tr>\n",
       "      <th>0</th>\n",
       "      <td>Acapulco</td>\n",
       "      <td>Metropolitan Area</td>\n",
       "      <td>Guerrero</td>\n",
       "      <td>863431.0</td>\n",
       "      <td>886975.0</td>\n",
       "    </tr>\n",
       "    <tr>\n",
       "      <th>1</th>\n",
       "      <td>Acayucan</td>\n",
       "      <td>Metropolitan Area</td>\n",
       "      <td>Veracruz de Ignacio de la Llave</td>\n",
       "      <td>112996.0</td>\n",
       "      <td>120340.0</td>\n",
       "    </tr>\n",
       "    <tr>\n",
       "      <th>2</th>\n",
       "      <td>Aguascalientes</td>\n",
       "      <td>Metropolitan Area</td>\n",
       "      <td>Aguascalientes</td>\n",
       "      <td>932369.0</td>\n",
       "      <td>1044049.0</td>\n",
       "    </tr>\n",
       "    <tr>\n",
       "      <th>3</th>\n",
       "      <td>Campeche</td>\n",
       "      <td>Metropolitan Area</td>\n",
       "      <td>Campeche</td>\n",
       "      <td>259005.0</td>\n",
       "      <td>283025.0</td>\n",
       "    </tr>\n",
       "    <tr>\n",
       "      <th>4</th>\n",
       "      <td>Cancún</td>\n",
       "      <td>Metropolitan Area</td>\n",
       "      <td>Quintana Roo</td>\n",
       "      <td>677379.0</td>\n",
       "      <td>763121.0</td>\n",
       "    </tr>\n",
       "  </tbody>\n",
       "</table>\n",
       "</div>"
      ],
      "text/plain": [
       "             Name             Status                         State(s)  \\\n",
       "0        Acapulco  Metropolitan Area                         Guerrero   \n",
       "1        Acayucan  Metropolitan Area  Veracruz de Ignacio de la Llave   \n",
       "2  Aguascalientes  Metropolitan Area                   Aguascalientes   \n",
       "3        Campeche  Metropolitan Area                         Campeche   \n",
       "4          Cancún  Metropolitan Area                     Quintana Roo   \n",
       "\n",
       "   Population 2010  Population 2015  \n",
       "0         863431.0         886975.0  \n",
       "1         112996.0         120340.0  \n",
       "2         932369.0        1044049.0  \n",
       "3         259005.0         283025.0  \n",
       "4         677379.0         763121.0  "
      ]
     },
     "execution_count": 3,
     "metadata": {},
     "output_type": "execute_result"
    }
   ],
   "source": [
    "metro_by_region.head()"
   ]
  },
  {
   "cell_type": "code",
   "execution_count": 4,
   "metadata": {},
   "outputs": [
    {
     "data": {
      "text/html": [
       "<div>\n",
       "<style scoped>\n",
       "    .dataframe tbody tr th:only-of-type {\n",
       "        vertical-align: middle;\n",
       "    }\n",
       "\n",
       "    .dataframe tbody tr th {\n",
       "        vertical-align: top;\n",
       "    }\n",
       "\n",
       "    .dataframe thead th {\n",
       "        text-align: right;\n",
       "    }\n",
       "</style>\n",
       "<table border=\"1\" class=\"dataframe\">\n",
       "  <thead>\n",
       "    <tr style=\"text-align: right;\">\n",
       "      <th></th>\n",
       "      <th>Name</th>\n",
       "      <th>Status</th>\n",
       "      <th>State(s)</th>\n",
       "      <th>Population 2010</th>\n",
       "      <th>Population 2015</th>\n",
       "    </tr>\n",
       "  </thead>\n",
       "  <tbody>\n",
       "    <tr>\n",
       "      <th>2</th>\n",
       "      <td>Aguascalientes</td>\n",
       "      <td>Metropolitan Area</td>\n",
       "      <td>Aguascalientes</td>\n",
       "      <td>932369.0</td>\n",
       "      <td>1044049.0</td>\n",
       "    </tr>\n",
       "    <tr>\n",
       "      <th>62</th>\n",
       "      <td>Tijuana</td>\n",
       "      <td>Metropolitan Area</td>\n",
       "      <td>Baja California</td>\n",
       "      <td>1751430.0</td>\n",
       "      <td>1840710.0</td>\n",
       "    </tr>\n",
       "    <tr>\n",
       "      <th>18</th>\n",
       "      <td>Ensenada</td>\n",
       "      <td>Metropolitan Area</td>\n",
       "      <td>Baja California</td>\n",
       "      <td>466814.0</td>\n",
       "      <td>486639.0</td>\n",
       "    </tr>\n",
       "    <tr>\n",
       "      <th>32</th>\n",
       "      <td>Mexicali</td>\n",
       "      <td>Metropolitan Area</td>\n",
       "      <td>Baja California</td>\n",
       "      <td>936826.0</td>\n",
       "      <td>988417.0</td>\n",
       "    </tr>\n",
       "    <tr>\n",
       "      <th>26</th>\n",
       "      <td>La Paz</td>\n",
       "      <td>Metropolitan Area</td>\n",
       "      <td>Baja California Sur</td>\n",
       "      <td>251871.0</td>\n",
       "      <td>272711.0</td>\n",
       "    </tr>\n",
       "  </tbody>\n",
       "</table>\n",
       "</div>"
      ],
      "text/plain": [
       "              Name             Status             State(s)  Population 2010  \\\n",
       "2   Aguascalientes  Metropolitan Area       Aguascalientes         932369.0   \n",
       "62         Tijuana  Metropolitan Area      Baja California        1751430.0   \n",
       "18        Ensenada  Metropolitan Area      Baja California         466814.0   \n",
       "32        Mexicali  Metropolitan Area      Baja California         936826.0   \n",
       "26          La Paz  Metropolitan Area  Baja California Sur         251871.0   \n",
       "\n",
       "    Population 2015  \n",
       "2         1044049.0  \n",
       "62        1840710.0  \n",
       "18         486639.0  \n",
       "32         988417.0  \n",
       "26         272711.0  "
      ]
     },
     "execution_count": 4,
     "metadata": {},
     "output_type": "execute_result"
    }
   ],
   "source": [
    "# Organize dataset by State in alphabetical order\n",
    "metro_by_region = metro_by_region.sort_values(by=['State(s)'],ascending=True)\n",
    "metro_by_region.head()"
   ]
  },
  {
   "cell_type": "markdown",
   "metadata": {},
   "source": [
    "### Step 2: Merging 3 Dataframes\n",
    "- Part 1: Match *metro_by_region[State(s]* dataset with *res_dataset* dataset by the 'Providence' columns\n",
    "- Part 2: Match *metro_by_region['Name']* dataset with *res_dataset* dataset by the 'Metropolitan' columns\n",
    "- Part 3: Merge *metro_by_region* with *mexico_gdp*\n",
    "- Part 4: Merge combined *metro_by_region*/*mexico_gdp* with *res_dataset*"
   ]
  },
  {
   "cell_type": "markdown",
   "metadata": {},
   "source": [
    "### Part 1: Prepare Data for merging *metro_by_region['State(s)']* with *dates['Residence Name']*"
   ]
  },
  {
   "cell_type": "markdown",
   "metadata": {},
   "source": [
    "#### Assess States/Provinces format in *res_dataset['Region']*"
   ]
  },
  {
   "cell_type": "code",
   "execution_count": 5,
   "metadata": {},
   "outputs": [
    {
     "data": {
      "text/html": [
       "<div>\n",
       "<style scoped>\n",
       "    .dataframe tbody tr th:only-of-type {\n",
       "        vertical-align: middle;\n",
       "    }\n",
       "\n",
       "    .dataframe tbody tr th {\n",
       "        vertical-align: top;\n",
       "    }\n",
       "\n",
       "    .dataframe thead th {\n",
       "        text-align: right;\n",
       "    }\n",
       "</style>\n",
       "<table border=\"1\" class=\"dataframe\">\n",
       "  <thead>\n",
       "    <tr style=\"text-align: right;\">\n",
       "      <th></th>\n",
       "      <th>Residence Name</th>\n",
       "      <th>Local Community Size</th>\n",
       "      <th>Education Completed</th>\n",
       "      <th>Age at Death</th>\n",
       "      <th>Received Medical Assistance</th>\n",
       "    </tr>\n",
       "  </thead>\n",
       "  <tbody>\n",
       "    <tr>\n",
       "      <th>0</th>\n",
       "      <td>Chiapas</td>\n",
       "      <td>1 a 999            habitantes</td>\n",
       "      <td>PRIMARIA INCOMPLETA</td>\n",
       "      <td>11</td>\n",
       "      <td>1.0</td>\n",
       "    </tr>\n",
       "    <tr>\n",
       "      <th>1</th>\n",
       "      <td>Veracruz de Ignacio de la Llave</td>\n",
       "      <td>50000 a 74999   habitantes</td>\n",
       "      <td>PRIMARIA COMPLETA</td>\n",
       "      <td>12</td>\n",
       "      <td>1.0</td>\n",
       "    </tr>\n",
       "    <tr>\n",
       "      <th>2</th>\n",
       "      <td>Tabasco</td>\n",
       "      <td>250000 a 499999 habitantes</td>\n",
       "      <td>SECUNDARIA INCOMPLETA</td>\n",
       "      <td>12</td>\n",
       "      <td>1.0</td>\n",
       "    </tr>\n",
       "    <tr>\n",
       "      <th>3</th>\n",
       "      <td>México</td>\n",
       "      <td>2500 a 4999    habitantes</td>\n",
       "      <td>SECUNDARIA COMPLETA</td>\n",
       "      <td>12</td>\n",
       "      <td>1.0</td>\n",
       "    </tr>\n",
       "    <tr>\n",
       "      <th>4</th>\n",
       "      <td>Guerrero</td>\n",
       "      <td>2500 a 4999    habitantes</td>\n",
       "      <td>PRIMARIA INCOMPLETA</td>\n",
       "      <td>12</td>\n",
       "      <td>0.0</td>\n",
       "    </tr>\n",
       "  </tbody>\n",
       "</table>\n",
       "</div>"
      ],
      "text/plain": [
       "                    Residence Name           Local Community Size  \\\n",
       "0                          Chiapas  1 a 999            habitantes   \n",
       "1  Veracruz de Ignacio de la Llave     50000 a 74999   habitantes   \n",
       "2                          Tabasco     250000 a 499999 habitantes   \n",
       "3                           México      2500 a 4999    habitantes   \n",
       "4                         Guerrero      2500 a 4999    habitantes   \n",
       "\n",
       "     Education Completed  Age at Death  Received Medical Assistance  \n",
       "0    PRIMARIA INCOMPLETA            11                          1.0  \n",
       "1      PRIMARIA COMPLETA            12                          1.0  \n",
       "2  SECUNDARIA INCOMPLETA            12                          1.0  \n",
       "3    SECUNDARIA COMPLETA            12                          1.0  \n",
       "4    PRIMARIA INCOMPLETA            12                          0.0  "
      ]
     },
     "execution_count": 5,
     "metadata": {},
     "output_type": "execute_result"
    }
   ],
   "source": [
    "# Open res_dataset as a global variable that can be uploaded to other Jupyter Notebooks\n",
    "%store -r materna\n",
    "res_dataset = materna.drop(['Date of Birth','Residence Code', 'Local Size Code', 'Education Code'], axis=1)\n",
    "res_dataset.head()"
   ]
  },
  {
   "cell_type": "code",
   "execution_count": 6,
   "metadata": {},
   "outputs": [
    {
     "name": "stdout",
     "output_type": "stream",
     "text": [
      "In res_dataset[Region], there are 32 States in Mexico.\n"
     ]
    },
    {
     "data": {
      "text/plain": [
       "['Aguascalientes',\n",
       " 'Baja California',\n",
       " 'Baja California Sur',\n",
       " 'Campeche',\n",
       " 'Chiapas',\n",
       " 'Chihuahua',\n",
       " 'Coahuila de Zaragoza',\n",
       " 'Colima',\n",
       " 'Distrito Federal',\n",
       " 'Durango',\n",
       " 'Guanajuato',\n",
       " 'Guerrero',\n",
       " 'Hidalgo',\n",
       " 'Jalisco',\n",
       " 'Michoacán de Ocampo',\n",
       " 'Morelos',\n",
       " 'México',\n",
       " 'Nayarit',\n",
       " 'Nuevo León',\n",
       " 'Oaxaca',\n",
       " 'Puebla',\n",
       " 'Querétaro Arteaga',\n",
       " 'Quintana Roo',\n",
       " 'San Luis Potosí',\n",
       " 'Sinaloa',\n",
       " 'Sonora',\n",
       " 'Tabasco',\n",
       " 'Tamaulipas',\n",
       " 'Tlaxcala',\n",
       " 'Veracruz de Ignacio de la Llave',\n",
       " 'Yucatán',\n",
       " 'Zacatecas']"
      ]
     },
     "execution_count": 6,
     "metadata": {},
     "output_type": "execute_result"
    }
   ],
   "source": [
    "print('In res_dataset[Region], there are '+ str(len(np.unique(res_dataset['Residence Name']))) + ' States in Mexico.')\n",
    "list(np.unique(res_dataset['Residence Name']))"
   ]
  },
  {
   "cell_type": "markdown",
   "metadata": {},
   "source": [
    "#### Assess States/Provinces format in *metro_by_region['State(s)']*"
   ]
  },
  {
   "cell_type": "code",
   "execution_count": 7,
   "metadata": {},
   "outputs": [
    {
     "name": "stdout",
     "output_type": "stream",
     "text": [
      "The Number of Mexican States in this Dataset is:  37\n"
     ]
    },
    {
     "data": {
      "text/plain": [
       "['Aguascalientes',\n",
       " 'Baja California',\n",
       " 'Baja California Sur',\n",
       " 'Campeche',\n",
       " 'Chiapas',\n",
       " 'Chihuahua',\n",
       " 'Ciudad de México / Hidalgo / México',\n",
       " 'Coahuila de Zaragoza',\n",
       " 'Coahuila de Zaragoza / Durango',\n",
       " 'Colima',\n",
       " 'Durango',\n",
       " 'Guanajuato',\n",
       " 'Guanajuato / Michoacán de Ocampo',\n",
       " 'Guerrero',\n",
       " 'Hidalgo',\n",
       " 'Jalisco',\n",
       " 'Jalisco / Nayarit',\n",
       " 'Michoacán de Ocampo',\n",
       " 'Morelos',\n",
       " 'México',\n",
       " 'Nayarit',\n",
       " 'Nuevo León',\n",
       " 'Oaxaca',\n",
       " 'Puebla',\n",
       " 'Puebla / Tlaxcala',\n",
       " 'Querétaro / Guanajuato',\n",
       " 'Quintana Roo',\n",
       " 'San Luis Potosí',\n",
       " 'Sinaloa',\n",
       " 'Sonora',\n",
       " 'Tabasco',\n",
       " 'Tamaulipas',\n",
       " 'Tamaulipas / Veracruz de Ignacio de la Llave',\n",
       " 'Tlaxcala',\n",
       " 'Veracruz de Ignacio de la Llave',\n",
       " 'Yucatán',\n",
       " 'Zacatecas']"
      ]
     },
     "execution_count": 7,
     "metadata": {},
     "output_type": "execute_result"
    }
   ],
   "source": [
    "# Assess the number of Mexico States in dataset\n",
    "print('The Number of Mexican States in this Dataset is: ',len(metro_by_region['State(s)'].unique()))\n",
    "list(metro_by_region['State(s)'].unique())"
   ]
  },
  {
   "cell_type": "markdown",
   "metadata": {},
   "source": [
    "#### Observations:\n",
    "As stated when originally cleaning the *res_dataset* in average_age_maternal_mortality Jupyter Notebook, there are 31 states and 1 federal entity in Mexico. Therefore, the length of the metro_by_regions['State(s)'] column is too long at 37 entries. When looking over the list of regions within the dataset, it becomes apparent that there are duplicate entries of States within Mexico, and need to be combined together. Namely:\n",
    "- 'Coahuila de Zaragoza' = 'Coahuila de Zaragoza' + 'Coahuila de Zaragoza / Durango'\n",
    "- 'Guanajuato' =  'Guanajuato'+ 'Guanajuato / Michoacán de Ocampo'\n",
    "- 'Jalisco' =  'Jalisco'+ 'Jalisco / Nayarit'\n",
    "- 'Puebla' = 'Puebla' + 'Puebla / Tlaxcala'"
   ]
  },
  {
   "cell_type": "markdown",
   "metadata": {},
   "source": [
    "#### Fix State Names in metro_by_region['States'] dataset"
   ]
  },
  {
   "cell_type": "code",
   "execution_count": 8,
   "metadata": {},
   "outputs": [
    {
     "data": {
      "text/html": [
       "<div>\n",
       "<style scoped>\n",
       "    .dataframe tbody tr th:only-of-type {\n",
       "        vertical-align: middle;\n",
       "    }\n",
       "\n",
       "    .dataframe tbody tr th {\n",
       "        vertical-align: top;\n",
       "    }\n",
       "\n",
       "    .dataframe thead th {\n",
       "        text-align: right;\n",
       "    }\n",
       "</style>\n",
       "<table border=\"1\" class=\"dataframe\">\n",
       "  <thead>\n",
       "    <tr style=\"text-align: right;\">\n",
       "      <th></th>\n",
       "      <th>Name</th>\n",
       "      <th>Status</th>\n",
       "      <th>State(s)</th>\n",
       "      <th>Population 2010</th>\n",
       "      <th>Population 2015</th>\n",
       "    </tr>\n",
       "  </thead>\n",
       "  <tbody>\n",
       "    <tr>\n",
       "      <th>2</th>\n",
       "      <td>Aguascalientes</td>\n",
       "      <td>Metropolitan Area</td>\n",
       "      <td>Aguascalientes</td>\n",
       "      <td>932369.0</td>\n",
       "      <td>1044049.0</td>\n",
       "    </tr>\n",
       "    <tr>\n",
       "      <th>62</th>\n",
       "      <td>Tijuana</td>\n",
       "      <td>Metropolitan Area</td>\n",
       "      <td>Baja California</td>\n",
       "      <td>1751430.0</td>\n",
       "      <td>1840710.0</td>\n",
       "    </tr>\n",
       "    <tr>\n",
       "      <th>18</th>\n",
       "      <td>Ensenada</td>\n",
       "      <td>Metropolitan Area</td>\n",
       "      <td>Baja California</td>\n",
       "      <td>466814.0</td>\n",
       "      <td>486639.0</td>\n",
       "    </tr>\n",
       "    <tr>\n",
       "      <th>32</th>\n",
       "      <td>Mexicali</td>\n",
       "      <td>Metropolitan Area</td>\n",
       "      <td>Baja California</td>\n",
       "      <td>936826.0</td>\n",
       "      <td>988417.0</td>\n",
       "    </tr>\n",
       "    <tr>\n",
       "      <th>26</th>\n",
       "      <td>La Paz</td>\n",
       "      <td>Metropolitan Area</td>\n",
       "      <td>Baja California Sur</td>\n",
       "      <td>251871.0</td>\n",
       "      <td>272711.0</td>\n",
       "    </tr>\n",
       "  </tbody>\n",
       "</table>\n",
       "</div>"
      ],
      "text/plain": [
       "              Name             Status             State(s)  Population 2010  \\\n",
       "2   Aguascalientes  Metropolitan Area       Aguascalientes         932369.0   \n",
       "62         Tijuana  Metropolitan Area      Baja California        1751430.0   \n",
       "18        Ensenada  Metropolitan Area      Baja California         466814.0   \n",
       "32        Mexicali  Metropolitan Area      Baja California         936826.0   \n",
       "26          La Paz  Metropolitan Area  Baja California Sur         251871.0   \n",
       "\n",
       "    Population 2015  \n",
       "2         1044049.0  \n",
       "62        1840710.0  \n",
       "18         486639.0  \n",
       "32         988417.0  \n",
       "26         272711.0  "
      ]
     },
     "execution_count": 8,
     "metadata": {},
     "output_type": "execute_result"
    }
   ],
   "source": [
    "metro_by_region.head()"
   ]
  },
  {
   "cell_type": "code",
   "execution_count": 9,
   "metadata": {},
   "outputs": [],
   "source": [
    "# Replace the duplicate 5 Mexican State names with name matching the dates dataset \n",
    "\n",
    "#Coahuila de Zaragoza\n",
    "metro_by_region = metro_by_region.replace('Coahuila de Zaragoza / Durango', 'Coahuila de Zaragoza')\n",
    "\n",
    "#Guanajuato\n",
    "metro_by_region = metro_by_region.replace('Guanajuato / Michoacán de Ocampo','Guanajuato')\n",
    "\n",
    "#Jalisco\n",
    "metro_by_region = metro_by_region.replace('Jalisco / Nayarit', 'Jalisco')\n",
    "\n",
    "#Puebla\n",
    "metro_by_region = metro_by_region.replace('Puebla / Tlaxcala', 'Puebla')\n",
    "\n",
    "#Tamaulipas\n",
    "metro_by_region = metro_by_region.replace('Tamaulipas / Veracruz de Ignacio de la Llave', 'Tamaulipas')"
   ]
  },
  {
   "cell_type": "code",
   "execution_count": 10,
   "metadata": {},
   "outputs": [
    {
     "name": "stdout",
     "output_type": "stream",
     "text": [
      "The New Number of Mexican States in this Dataset is:  32\n"
     ]
    },
    {
     "data": {
      "text/plain": [
       "['Aguascalientes',\n",
       " 'Baja California',\n",
       " 'Baja California Sur',\n",
       " 'Campeche',\n",
       " 'Chiapas',\n",
       " 'Chihuahua',\n",
       " 'Ciudad de México / Hidalgo / México',\n",
       " 'Coahuila de Zaragoza',\n",
       " 'Colima',\n",
       " 'Durango',\n",
       " 'Guanajuato',\n",
       " 'Guerrero',\n",
       " 'Hidalgo',\n",
       " 'Jalisco',\n",
       " 'Michoacán de Ocampo',\n",
       " 'Morelos',\n",
       " 'México',\n",
       " 'Nayarit',\n",
       " 'Nuevo León',\n",
       " 'Oaxaca',\n",
       " 'Puebla',\n",
       " 'Querétaro / Guanajuato',\n",
       " 'Quintana Roo',\n",
       " 'San Luis Potosí',\n",
       " 'Sinaloa',\n",
       " 'Sonora',\n",
       " 'Tabasco',\n",
       " 'Tamaulipas',\n",
       " 'Tlaxcala',\n",
       " 'Veracruz de Ignacio de la Llave',\n",
       " 'Yucatán',\n",
       " 'Zacatecas']"
      ]
     },
     "execution_count": 10,
     "metadata": {},
     "output_type": "execute_result"
    }
   ],
   "source": [
    "# Assess the resulting number of Mexico States in dataset\n",
    "print('The New Number of Mexican States in this Dataset is: ',len(metro_by_region['State(s)'].unique()))\n",
    "list(metro_by_region['State(s)'].unique())"
   ]
  },
  {
   "cell_type": "markdown",
   "metadata": {},
   "source": [
    "**Further Comments**: There are now the correct number of Mexican States in the metro_by_region dataset. Next, in order to smoothly merge *res_datatset* and the combined *metro_by_region*/*mexico_gdp* datastets, there must be at least one shared column name. Therefore, since *metro_by_region* and *res_dataset* share the same column purpose for State names, *res_dataset['Region']* will be renamed to *dates['State']* in order to match *metro_by_region*. Note: Additional modification to *res_dataset* will be applied as needed after the merging of *metro_by_region* and *mexico_gdp*."
   ]
  },
  {
   "cell_type": "code",
   "execution_count": 11,
   "metadata": {},
   "outputs": [
    {
     "data": {
      "text/html": [
       "<div>\n",
       "<style scoped>\n",
       "    .dataframe tbody tr th:only-of-type {\n",
       "        vertical-align: middle;\n",
       "    }\n",
       "\n",
       "    .dataframe tbody tr th {\n",
       "        vertical-align: top;\n",
       "    }\n",
       "\n",
       "    .dataframe thead th {\n",
       "        text-align: right;\n",
       "    }\n",
       "</style>\n",
       "<table border=\"1\" class=\"dataframe\">\n",
       "  <thead>\n",
       "    <tr style=\"text-align: right;\">\n",
       "      <th></th>\n",
       "      <th>Residence Name</th>\n",
       "      <th>Local Community Size</th>\n",
       "      <th>Education Completed</th>\n",
       "      <th>Age at Death</th>\n",
       "      <th>Received Medical Assistance</th>\n",
       "    </tr>\n",
       "  </thead>\n",
       "  <tbody>\n",
       "    <tr>\n",
       "      <th>0</th>\n",
       "      <td>Chiapas</td>\n",
       "      <td>1 a 999            habitantes</td>\n",
       "      <td>PRIMARIA INCOMPLETA</td>\n",
       "      <td>11</td>\n",
       "      <td>1.0</td>\n",
       "    </tr>\n",
       "    <tr>\n",
       "      <th>1</th>\n",
       "      <td>Veracruz de Ignacio de la Llave</td>\n",
       "      <td>50000 a 74999   habitantes</td>\n",
       "      <td>PRIMARIA COMPLETA</td>\n",
       "      <td>12</td>\n",
       "      <td>1.0</td>\n",
       "    </tr>\n",
       "    <tr>\n",
       "      <th>2</th>\n",
       "      <td>Tabasco</td>\n",
       "      <td>250000 a 499999 habitantes</td>\n",
       "      <td>SECUNDARIA INCOMPLETA</td>\n",
       "      <td>12</td>\n",
       "      <td>1.0</td>\n",
       "    </tr>\n",
       "    <tr>\n",
       "      <th>3</th>\n",
       "      <td>México</td>\n",
       "      <td>2500 a 4999    habitantes</td>\n",
       "      <td>SECUNDARIA COMPLETA</td>\n",
       "      <td>12</td>\n",
       "      <td>1.0</td>\n",
       "    </tr>\n",
       "    <tr>\n",
       "      <th>4</th>\n",
       "      <td>Guerrero</td>\n",
       "      <td>2500 a 4999    habitantes</td>\n",
       "      <td>PRIMARIA INCOMPLETA</td>\n",
       "      <td>12</td>\n",
       "      <td>0.0</td>\n",
       "    </tr>\n",
       "  </tbody>\n",
       "</table>\n",
       "</div>"
      ],
      "text/plain": [
       "                    Residence Name           Local Community Size  \\\n",
       "0                          Chiapas  1 a 999            habitantes   \n",
       "1  Veracruz de Ignacio de la Llave     50000 a 74999   habitantes   \n",
       "2                          Tabasco     250000 a 499999 habitantes   \n",
       "3                           México      2500 a 4999    habitantes   \n",
       "4                         Guerrero      2500 a 4999    habitantes   \n",
       "\n",
       "     Education Completed  Age at Death  Received Medical Assistance  \n",
       "0    PRIMARIA INCOMPLETA            11                          1.0  \n",
       "1      PRIMARIA COMPLETA            12                          1.0  \n",
       "2  SECUNDARIA INCOMPLETA            12                          1.0  \n",
       "3    SECUNDARIA COMPLETA            12                          1.0  \n",
       "4    PRIMARIA INCOMPLETA            12                          0.0  "
      ]
     },
     "execution_count": 11,
     "metadata": {},
     "output_type": "execute_result"
    }
   ],
   "source": [
    "res_dataset.head()"
   ]
  },
  {
   "cell_type": "code",
   "execution_count": 12,
   "metadata": {},
   "outputs": [
    {
     "data": {
      "text/plain": [
       "Index(['Residence Name', 'Local Community Size', 'Education Completed',\n",
       "       'Age at Death', 'Received Medical Assistance'],\n",
       "      dtype='object')"
      ]
     },
     "execution_count": 12,
     "metadata": {},
     "output_type": "execute_result"
    }
   ],
   "source": [
    "res_dataset.columns"
   ]
  },
  {
   "cell_type": "code",
   "execution_count": 14,
   "metadata": {},
   "outputs": [
    {
     "data": {
      "text/html": [
       "<div>\n",
       "<style scoped>\n",
       "    .dataframe tbody tr th:only-of-type {\n",
       "        vertical-align: middle;\n",
       "    }\n",
       "\n",
       "    .dataframe tbody tr th {\n",
       "        vertical-align: top;\n",
       "    }\n",
       "\n",
       "    .dataframe thead th {\n",
       "        text-align: right;\n",
       "    }\n",
       "</style>\n",
       "<table border=\"1\" class=\"dataframe\">\n",
       "  <thead>\n",
       "    <tr style=\"text-align: right;\">\n",
       "      <th></th>\n",
       "      <th>State</th>\n",
       "      <th>Local Community Size</th>\n",
       "      <th>Education Completed</th>\n",
       "      <th>Age at Death</th>\n",
       "      <th>Received Medical Assistance</th>\n",
       "    </tr>\n",
       "  </thead>\n",
       "  <tbody>\n",
       "    <tr>\n",
       "      <th>0</th>\n",
       "      <td>Chiapas</td>\n",
       "      <td>1 a 999            habitantes</td>\n",
       "      <td>PRIMARIA INCOMPLETA</td>\n",
       "      <td>11</td>\n",
       "      <td>1.0</td>\n",
       "    </tr>\n",
       "    <tr>\n",
       "      <th>1</th>\n",
       "      <td>Veracruz de Ignacio de la Llave</td>\n",
       "      <td>50000 a 74999   habitantes</td>\n",
       "      <td>PRIMARIA COMPLETA</td>\n",
       "      <td>12</td>\n",
       "      <td>1.0</td>\n",
       "    </tr>\n",
       "    <tr>\n",
       "      <th>2</th>\n",
       "      <td>Tabasco</td>\n",
       "      <td>250000 a 499999 habitantes</td>\n",
       "      <td>SECUNDARIA INCOMPLETA</td>\n",
       "      <td>12</td>\n",
       "      <td>1.0</td>\n",
       "    </tr>\n",
       "    <tr>\n",
       "      <th>3</th>\n",
       "      <td>México</td>\n",
       "      <td>2500 a 4999    habitantes</td>\n",
       "      <td>SECUNDARIA COMPLETA</td>\n",
       "      <td>12</td>\n",
       "      <td>1.0</td>\n",
       "    </tr>\n",
       "    <tr>\n",
       "      <th>4</th>\n",
       "      <td>Guerrero</td>\n",
       "      <td>2500 a 4999    habitantes</td>\n",
       "      <td>PRIMARIA INCOMPLETA</td>\n",
       "      <td>12</td>\n",
       "      <td>0.0</td>\n",
       "    </tr>\n",
       "  </tbody>\n",
       "</table>\n",
       "</div>"
      ],
      "text/plain": [
       "                             State           Local Community Size  \\\n",
       "0                          Chiapas  1 a 999            habitantes   \n",
       "1  Veracruz de Ignacio de la Llave     50000 a 74999   habitantes   \n",
       "2                          Tabasco     250000 a 499999 habitantes   \n",
       "3                           México      2500 a 4999    habitantes   \n",
       "4                         Guerrero      2500 a 4999    habitantes   \n",
       "\n",
       "     Education Completed  Age at Death  Received Medical Assistance  \n",
       "0    PRIMARIA INCOMPLETA            11                          1.0  \n",
       "1      PRIMARIA COMPLETA            12                          1.0  \n",
       "2  SECUNDARIA INCOMPLETA            12                          1.0  \n",
       "3    SECUNDARIA COMPLETA            12                          1.0  \n",
       "4    PRIMARIA INCOMPLETA            12                          0.0  "
      ]
     },
     "execution_count": 14,
     "metadata": {},
     "output_type": "execute_result"
    }
   ],
   "source": [
    "# In res_dataset, rename 'Region' column to 'State' in order to match metro_by_region\n",
    "res_dataset.columns = ['State', 'Local Community Size',\n",
    "       'Education Completed', 'Age at Death', 'Received Medical Assistance']\n",
    "res_dataset.head()          "
   ]
  },
  {
   "cell_type": "markdown",
   "metadata": {},
   "source": [
    "#### Assess Metropolitan Areas format in *metro_by_region['Name']* dataset"
   ]
  },
  {
   "cell_type": "code",
   "execution_count": 15,
   "metadata": {},
   "outputs": [
    {
     "name": "stdout",
     "output_type": "stream",
     "text": [
      "The Number of Mexican Metropolitan Areas in this Dataset is:  74\n"
     ]
    },
    {
     "data": {
      "text/plain": [
       "['Acapulco',\n",
       " 'Acayucan',\n",
       " 'Aguascalientes',\n",
       " 'Campeche',\n",
       " 'Cancún',\n",
       " 'Celaya',\n",
       " 'Chetumal',\n",
       " 'Chihuahua',\n",
       " 'Chilpancingo',\n",
       " 'Ciudad Victoria',\n",
       " 'Coatzacoalcos',\n",
       " 'Colima - Villa de Álvarez',\n",
       " 'Cuautla',\n",
       " 'Cuernavaca',\n",
       " 'Culiacán',\n",
       " 'Córdoba',\n",
       " 'Delicias',\n",
       " 'Durango',\n",
       " 'Ensenada',\n",
       " 'Guadalajara',\n",
       " 'Guanajuato',\n",
       " 'Guaymas',\n",
       " 'Hermosillo',\n",
       " 'Hidalgo del Parral',\n",
       " 'Juárez',\n",
       " 'La Laguna\\xa0(Comarca Lagunera, Torreón - Gómez Palacio)',\n",
       " 'La Paz',\n",
       " 'La Piedad - Pénjamo',\n",
       " 'León',\n",
       " 'Matamoros',\n",
       " 'Mazatlán',\n",
       " 'Mexicali',\n",
       " 'Minatitlán',\n",
       " 'Monclova - Frontera',\n",
       " 'Monterrey',\n",
       " 'Morelia',\n",
       " 'Moroleón - Uriangato',\n",
       " 'Mérida',\n",
       " 'Nogales',\n",
       " 'Nuevo Laredo',\n",
       " 'Oaxaca',\n",
       " 'Ocotlán',\n",
       " 'Orizaba',\n",
       " 'Pachuca',\n",
       " 'Piedras Negras',\n",
       " 'Poza Rica',\n",
       " 'Puebla - Tlaxcala',\n",
       " 'Puerto Vallarta',\n",
       " 'Querétaro',\n",
       " 'Reynosa',\n",
       " 'Ríoverde',\n",
       " 'Saltillo',\n",
       " 'San Francisco del Rincón',\n",
       " 'San Luis Potosí',\n",
       " 'Tampico',\n",
       " 'Tapachula',\n",
       " 'Tecomán',\n",
       " 'Tehuacán',\n",
       " 'Tehuantepec\\xa0(- Salina Cruz)',\n",
       " 'Tepic',\n",
       " 'Teziutlán',\n",
       " 'Tianguistenco',\n",
       " 'Tijuana',\n",
       " 'Tlaxcala - Apizaco',\n",
       " 'Toluca',\n",
       " 'Tula',\n",
       " 'Tulancingo',\n",
       " 'Tuxtla Gutiérrez',\n",
       " 'Valle de México\\xa0[Greater Mexico City]',\n",
       " 'Veracruz',\n",
       " 'Villahermosa',\n",
       " 'Xalapa',\n",
       " 'Zacatecas - Guadalupe',\n",
       " 'Zamora']"
      ]
     },
     "execution_count": 15,
     "metadata": {},
     "output_type": "execute_result"
    }
   ],
   "source": [
    "# Assess the number of Mexico Metro Areas in dataset\n",
    "print('The Number of Mexican Metropolitan Areas in this Dataset is: ',len(metro_by_region['Name'].unique()))\n",
    "metro_areas_subdf = metro_by_region['Name'].sort_values()\n",
    "list(metro_areas_subdf.unique())"
   ]
  },
  {
   "cell_type": "markdown",
   "metadata": {},
   "source": [
    "#### Observations:\n",
    "Some of the Metropolitan Area names in *metro_by_region['Name']* need to be cleaned to match *mexico_gdp['Metro Areas']* dataset. Namely:\n",
    "- 'Acapulco' = 'Acapulco de Juarez' \n",
    "- 'Chilpancingo' = 'Chilpancingo de los Bravo'\n",
    "- 'Colima - Villa de Álvarez' = 'Colima'\n",
    "-  Culiacán = 'Culiacan'\n",
    "- 'Zacatecas - Guadalupe' = 'Guadalupe'\n",
    "- 'Juárez' = 'Juarez'\n",
    "- 'León' = 'Leon'\n",
    "- 'Mazatlán' = 'Mazatlan'\n",
    "- 'Valle de México\\xa0[Greater Mexico City]' = 'Mexico City'\n",
    "- 'Minatitlán' = 'Minatitlan'\n",
    "- 'Monclova - Frontera' = 'Monclova'\n",
    "- 'Oaxaca' = 'Oaxaca de Juarez'\n",
    "- 'Pachuca' = 'Pachuca de Soto'\n",
    "- 'Poza Rica' = 'Poza Rica de Hidalgo'\n",
    "- 'Puebla - Tlaxcala' = 'Puebla'\n",
    "- 'Querétaro' = 'Queretaro' \n",
    "- 'San Luis Potosí' = 'San Luis Potosi'\n",
    "- 'Tehuacán' = 'Tehuacan'\n",
    "- 'Tlaxcala - Apizaco' = 'Tlaxcala'\n",
    "- 'La Laguna\\xa0(Comarca Lagunera, Torreón - Gómez Palacio)' = 'Torreon'\n",
    "- 'Tulancingo' = 'Tulancingo de Bravo'\n",
    "- 'Tuxtla Gutiérrez' = 'Tuxtla Gutierrez'"
   ]
  },
  {
   "cell_type": "markdown",
   "metadata": {},
   "source": [
    "#### Fix Metropolitan Names in metro_by_region['Name'] dataset\n",
    "- NOTE: The values not found in the mexico_gdp dataset will be skipped."
   ]
  },
  {
   "cell_type": "code",
   "execution_count": 16,
   "metadata": {},
   "outputs": [],
   "source": [
    "# Replace the metropolitan region names with the matching name in the GDP dataset\n",
    "\n",
    "#Acapulco de Juarez\n",
    "metro_by_region = metro_by_region.replace('Acapulco', 'Acapulco de Juarez')\n",
    "\n",
    "#Chilpancingo de los Bravo\n",
    "metro_by_region = metro_by_region.replace('Chilpancingo', 'Chilpancingo de los Bravo')\n",
    "\n",
    "#Colima\n",
    "metro_by_region = metro_by_region.replace('Colima - Villa de Álvarez', 'Colima')\n",
    "\n",
    "#Culiacan\n",
    "metro_by_region = metro_by_region.replace('Culiacán', 'Culiacan')\n",
    "\n",
    "#Guadalupe\n",
    "metro_by_region = metro_by_region.replace('Zacatecas - Guadalupe', 'Guadalupe')\n",
    "\n",
    "#Juarez\n",
    "metro_by_region = metro_by_region.replace('Juárez' , 'Juarez')\n",
    "\n",
    "#Leon\n",
    "metro_by_region = metro_by_region.replace('León' , 'Leon')\n",
    "\n",
    "#Mazatlan\n",
    "metro_by_region = metro_by_region.replace('Mazatlán' , 'Mazatlan')\n",
    "\n",
    "#Mexico City\n",
    "metro_by_region = metro_by_region.replace('Valle de México\\xa0[Greater Mexico City]', 'Mexico City')\n",
    "\n",
    "#Minatitlan\n",
    "metro_by_region = metro_by_region.replace('Minatitlán' , 'Minatitlan')\n",
    "\n",
    "#Monclova\n",
    "metro_by_region = metro_by_region.replace('Monclova - Frontera', 'Monclova')\n",
    "\n",
    "#Oaxaca de Juarez\n",
    "metro_by_region = metro_by_region.replace('Oaxaca' , 'Oaxaca de Juarez')\n",
    "\n",
    "#Pachuca de Soto\n",
    "metro_by_region = metro_by_region.replace('Pachuca' , 'Pachuca de Soto')\n",
    "\n",
    "#Poza Rica de Hidalgo\n",
    "metro_by_region = metro_by_region.replace('Poza Rica' , 'Poza Rica de Hidalgo')\n",
    "\n",
    "#Puebla\n",
    "metro_by_region = metro_by_region.replace('Puebla - Tlaxcala', 'Puebla')\n",
    "\n",
    "#Queretaro\n",
    "metro_by_region = metro_by_region.replace('Querétaro' , 'Queretaro')\n",
    "\n",
    "#San Luis Potosi\n",
    "metro_by_region = metro_by_region.replace('San Luis Potosí' , 'San Luis Potosi')\n",
    "\n",
    "#Tehuacan\n",
    "metro_by_region = metro_by_region.replace('Tehuacán' , 'Tehuacan')\n",
    "\n",
    "#Tlaxcala\n",
    "metro_by_region = metro_by_region.replace('Tlaxcala - Apizaco', 'Tlaxcala')\n",
    "\n",
    "#Torren\n",
    "metro_by_region = metro_by_region.replace('La Laguna\\xa0(Comarca Lagunera, Torreón - Gómez Palacio)', 'Torreon')\n",
    "                                          \n",
    "#Tulancingo de Bravo\n",
    "metro_by_region = metro_by_region.replace('Tulancingo' , 'Tulancingo de Bravo')\n",
    "                                          \n",
    "#Tuxtla Gutierrez\n",
    "metro_by_region = metro_by_region.replace('Tuxtla Gutiérrez' , 'Tuxtla Gutierrez')"
   ]
  },
  {
   "cell_type": "code",
   "execution_count": 17,
   "metadata": {},
   "outputs": [
    {
     "data": {
      "text/plain": [
       "['Acapulco de Juarez',\n",
       " 'Acayucan',\n",
       " 'Aguascalientes',\n",
       " 'Campeche',\n",
       " 'Cancún',\n",
       " 'Celaya',\n",
       " 'Chetumal',\n",
       " 'Chihuahua',\n",
       " 'Chilpancingo de los Bravo',\n",
       " 'Ciudad Victoria',\n",
       " 'Coatzacoalcos',\n",
       " 'Colima',\n",
       " 'Cuautla',\n",
       " 'Cuernavaca',\n",
       " 'Culiacan',\n",
       " 'Córdoba',\n",
       " 'Delicias',\n",
       " 'Durango',\n",
       " 'Ensenada',\n",
       " 'Guadalajara',\n",
       " 'Guadalupe',\n",
       " 'Guanajuato',\n",
       " 'Guaymas',\n",
       " 'Hermosillo',\n",
       " 'Hidalgo del Parral',\n",
       " 'Juarez',\n",
       " 'La Paz',\n",
       " 'La Piedad - Pénjamo',\n",
       " 'Leon',\n",
       " 'Matamoros',\n",
       " 'Mazatlan',\n",
       " 'Mexicali',\n",
       " 'Mexico City',\n",
       " 'Minatitlan',\n",
       " 'Monclova',\n",
       " 'Monterrey',\n",
       " 'Morelia',\n",
       " 'Moroleón - Uriangato',\n",
       " 'Mérida',\n",
       " 'Nogales',\n",
       " 'Nuevo Laredo',\n",
       " 'Oaxaca de Juarez',\n",
       " 'Ocotlán',\n",
       " 'Orizaba',\n",
       " 'Pachuca de Soto',\n",
       " 'Piedras Negras',\n",
       " 'Poza Rica de Hidalgo',\n",
       " 'Puebla',\n",
       " 'Puerto Vallarta',\n",
       " 'Queretaro',\n",
       " 'Reynosa',\n",
       " 'Ríoverde',\n",
       " 'Saltillo',\n",
       " 'San Francisco del Rincón',\n",
       " 'San Luis Potosi',\n",
       " 'Tampico',\n",
       " 'Tapachula',\n",
       " 'Tecomán',\n",
       " 'Tehuacan',\n",
       " 'Tehuantepec\\xa0(- Salina Cruz)',\n",
       " 'Tepic',\n",
       " 'Teziutlán',\n",
       " 'Tianguistenco',\n",
       " 'Tijuana',\n",
       " 'Tlaxcala',\n",
       " 'Toluca',\n",
       " 'Torreon',\n",
       " 'Tula',\n",
       " 'Tulancingo de Bravo',\n",
       " 'Tuxtla Gutierrez',\n",
       " 'Veracruz',\n",
       " 'Villahermosa',\n",
       " 'Xalapa',\n",
       " 'Zamora']"
      ]
     },
     "execution_count": 17,
     "metadata": {},
     "output_type": "execute_result"
    }
   ],
   "source": [
    "# Verify results\n",
    "metro_areas_subdf_2 = metro_by_region['Name'].sort_values()\n",
    "list(metro_areas_subdf_2.unique())"
   ]
  },
  {
   "cell_type": "code",
   "execution_count": 18,
   "metadata": {},
   "outputs": [
    {
     "data": {
      "text/html": [
       "<div>\n",
       "<style scoped>\n",
       "    .dataframe tbody tr th:only-of-type {\n",
       "        vertical-align: middle;\n",
       "    }\n",
       "\n",
       "    .dataframe tbody tr th {\n",
       "        vertical-align: top;\n",
       "    }\n",
       "\n",
       "    .dataframe thead th {\n",
       "        text-align: right;\n",
       "    }\n",
       "</style>\n",
       "<table border=\"1\" class=\"dataframe\">\n",
       "  <thead>\n",
       "    <tr style=\"text-align: right;\">\n",
       "      <th></th>\n",
       "      <th>Name</th>\n",
       "      <th>Status</th>\n",
       "      <th>State(s)</th>\n",
       "      <th>Population 2010</th>\n",
       "      <th>Population 2015</th>\n",
       "    </tr>\n",
       "  </thead>\n",
       "  <tbody>\n",
       "    <tr>\n",
       "      <th>2</th>\n",
       "      <td>Aguascalientes</td>\n",
       "      <td>Metropolitan Area</td>\n",
       "      <td>Aguascalientes</td>\n",
       "      <td>932369.0</td>\n",
       "      <td>1044049.0</td>\n",
       "    </tr>\n",
       "    <tr>\n",
       "      <th>62</th>\n",
       "      <td>Tijuana</td>\n",
       "      <td>Metropolitan Area</td>\n",
       "      <td>Baja California</td>\n",
       "      <td>1751430.0</td>\n",
       "      <td>1840710.0</td>\n",
       "    </tr>\n",
       "    <tr>\n",
       "      <th>18</th>\n",
       "      <td>Ensenada</td>\n",
       "      <td>Metropolitan Area</td>\n",
       "      <td>Baja California</td>\n",
       "      <td>466814.0</td>\n",
       "      <td>486639.0</td>\n",
       "    </tr>\n",
       "    <tr>\n",
       "      <th>32</th>\n",
       "      <td>Mexicali</td>\n",
       "      <td>Metropolitan Area</td>\n",
       "      <td>Baja California</td>\n",
       "      <td>936826.0</td>\n",
       "      <td>988417.0</td>\n",
       "    </tr>\n",
       "    <tr>\n",
       "      <th>26</th>\n",
       "      <td>La Paz</td>\n",
       "      <td>Metropolitan Area</td>\n",
       "      <td>Baja California Sur</td>\n",
       "      <td>251871.0</td>\n",
       "      <td>272711.0</td>\n",
       "    </tr>\n",
       "  </tbody>\n",
       "</table>\n",
       "</div>"
      ],
      "text/plain": [
       "              Name             Status             State(s)  Population 2010  \\\n",
       "2   Aguascalientes  Metropolitan Area       Aguascalientes         932369.0   \n",
       "62         Tijuana  Metropolitan Area      Baja California        1751430.0   \n",
       "18        Ensenada  Metropolitan Area      Baja California         466814.0   \n",
       "32        Mexicali  Metropolitan Area      Baja California         936826.0   \n",
       "26          La Paz  Metropolitan Area  Baja California Sur         251871.0   \n",
       "\n",
       "    Population 2015  \n",
       "2         1044049.0  \n",
       "62        1840710.0  \n",
       "18         486639.0  \n",
       "32         988417.0  \n",
       "26         272711.0  "
      ]
     },
     "execution_count": 18,
     "metadata": {},
     "output_type": "execute_result"
    }
   ],
   "source": [
    "metro_by_region.head()"
   ]
  },
  {
   "cell_type": "markdown",
   "metadata": {},
   "source": [
    "#### For Analysis of Population in average_age_maternal_mortality, make sub-population dataset"
   ]
  },
  {
   "cell_type": "code",
   "execution_count": 19,
   "metadata": {},
   "outputs": [
    {
     "data": {
      "text/html": [
       "<div>\n",
       "<style scoped>\n",
       "    .dataframe tbody tr th:only-of-type {\n",
       "        vertical-align: middle;\n",
       "    }\n",
       "\n",
       "    .dataframe tbody tr th {\n",
       "        vertical-align: top;\n",
       "    }\n",
       "\n",
       "    .dataframe thead th {\n",
       "        text-align: right;\n",
       "    }\n",
       "</style>\n",
       "<table border=\"1\" class=\"dataframe\">\n",
       "  <thead>\n",
       "    <tr style=\"text-align: right;\">\n",
       "      <th></th>\n",
       "      <th>State(s)</th>\n",
       "      <th>Population 2010</th>\n",
       "      <th>Population 2015</th>\n",
       "    </tr>\n",
       "  </thead>\n",
       "  <tbody>\n",
       "    <tr>\n",
       "      <th>0</th>\n",
       "      <td>Aguascalientes</td>\n",
       "      <td>932369.0</td>\n",
       "      <td>1044049.0</td>\n",
       "    </tr>\n",
       "    <tr>\n",
       "      <th>1</th>\n",
       "      <td>Baja California</td>\n",
       "      <td>3155070.0</td>\n",
       "      <td>3315766.0</td>\n",
       "    </tr>\n",
       "    <tr>\n",
       "      <th>2</th>\n",
       "      <td>Baja California Sur</td>\n",
       "      <td>251871.0</td>\n",
       "      <td>272711.0</td>\n",
       "    </tr>\n",
       "    <tr>\n",
       "      <th>3</th>\n",
       "      <td>Campeche</td>\n",
       "      <td>259005.0</td>\n",
       "      <td>283025.0</td>\n",
       "    </tr>\n",
       "    <tr>\n",
       "      <th>4</th>\n",
       "      <td>Chiapas</td>\n",
       "      <td>1058712.0</td>\n",
       "      <td>1162592.0</td>\n",
       "    </tr>\n",
       "    <tr>\n",
       "      <th>5</th>\n",
       "      <td>Chihuahua</td>\n",
       "      <td>2478246.0</td>\n",
       "      <td>2616912.0</td>\n",
       "    </tr>\n",
       "    <tr>\n",
       "      <th>6</th>\n",
       "      <td>Ciudad de México / Hidalgo / México</td>\n",
       "      <td>20116842.0</td>\n",
       "      <td>20892724.0</td>\n",
       "    </tr>\n",
       "    <tr>\n",
       "      <th>7</th>\n",
       "      <td>Coahuila de Zaragoza</td>\n",
       "      <td>2614817.0</td>\n",
       "      <td>2823877.0</td>\n",
       "    </tr>\n",
       "    <tr>\n",
       "      <th>8</th>\n",
       "      <td>Colima</td>\n",
       "      <td>475661.0</td>\n",
       "      <td>512182.0</td>\n",
       "    </tr>\n",
       "    <tr>\n",
       "      <th>9</th>\n",
       "      <td>Durango</td>\n",
       "      <td>582267.0</td>\n",
       "      <td>654876.0</td>\n",
       "    </tr>\n",
       "    <tr>\n",
       "      <th>10</th>\n",
       "      <td>Guanajuato</td>\n",
       "      <td>3012201.0</td>\n",
       "      <td>3250817.0</td>\n",
       "    </tr>\n",
       "    <tr>\n",
       "      <th>11</th>\n",
       "      <td>Guerrero</td>\n",
       "      <td>1151306.0</td>\n",
       "      <td>1211397.0</td>\n",
       "    </tr>\n",
       "    <tr>\n",
       "      <th>12</th>\n",
       "      <td>Hidalgo</td>\n",
       "      <td>957587.0</td>\n",
       "      <td>1038974.0</td>\n",
       "    </tr>\n",
       "    <tr>\n",
       "      <th>13</th>\n",
       "      <td>Jalisco</td>\n",
       "      <td>5065897.0</td>\n",
       "      <td>5489431.0</td>\n",
       "    </tr>\n",
       "    <tr>\n",
       "      <th>14</th>\n",
       "      <td>Michoacán de Ocampo</td>\n",
       "      <td>1079738.0</td>\n",
       "      <td>1177912.0</td>\n",
       "    </tr>\n",
       "    <tr>\n",
       "      <th>15</th>\n",
       "      <td>Morelos</td>\n",
       "      <td>1359111.0</td>\n",
       "      <td>1458806.0</td>\n",
       "    </tr>\n",
       "    <tr>\n",
       "      <th>16</th>\n",
       "      <td>México</td>\n",
       "      <td>2172035.0</td>\n",
       "      <td>2373347.0</td>\n",
       "    </tr>\n",
       "    <tr>\n",
       "      <th>17</th>\n",
       "      <td>Nayarit</td>\n",
       "      <td>429351.0</td>\n",
       "      <td>471026.0</td>\n",
       "    </tr>\n",
       "    <tr>\n",
       "      <th>18</th>\n",
       "      <td>Nuevo León</td>\n",
       "      <td>4226031.0</td>\n",
       "      <td>4689601.0</td>\n",
       "    </tr>\n",
       "    <tr>\n",
       "      <th>19</th>\n",
       "      <td>Oaxaca de Juarez</td>\n",
       "      <td>787985.0</td>\n",
       "      <td>851404.0</td>\n",
       "    </tr>\n",
       "    <tr>\n",
       "      <th>20</th>\n",
       "      <td>Puebla</td>\n",
       "      <td>3148189.0</td>\n",
       "      <td>3418377.0</td>\n",
       "    </tr>\n",
       "    <tr>\n",
       "      <th>21</th>\n",
       "      <td>Querétaro / Guanajuato</td>\n",
       "      <td>1161458.0</td>\n",
       "      <td>1323640.0</td>\n",
       "    </tr>\n",
       "    <tr>\n",
       "      <th>22</th>\n",
       "      <td>Quintana Roo</td>\n",
       "      <td>885189.0</td>\n",
       "      <td>987201.0</td>\n",
       "    </tr>\n",
       "    <tr>\n",
       "      <th>23</th>\n",
       "      <td>San Luis Potosi</td>\n",
       "      <td>1200491.0</td>\n",
       "      <td>1299383.0</td>\n",
       "    </tr>\n",
       "    <tr>\n",
       "      <th>24</th>\n",
       "      <td>Sinaloa</td>\n",
       "      <td>1297072.0</td>\n",
       "      <td>1407812.0</td>\n",
       "    </tr>\n",
       "    <tr>\n",
       "      <th>25</th>\n",
       "      <td>Sonora</td>\n",
       "      <td>1208064.0</td>\n",
       "      <td>1332448.0</td>\n",
       "    </tr>\n",
       "    <tr>\n",
       "      <th>26</th>\n",
       "      <td>Tabasco</td>\n",
       "      <td>755425.0</td>\n",
       "      <td>823213.0</td>\n",
       "    </tr>\n",
       "    <tr>\n",
       "      <th>27</th>\n",
       "      <td>Tamaulipas</td>\n",
       "      <td>2781748.0</td>\n",
       "      <td>2955770.0</td>\n",
       "    </tr>\n",
       "    <tr>\n",
       "      <th>28</th>\n",
       "      <td>Tlaxcala</td>\n",
       "      <td>499567.0</td>\n",
       "      <td>540273.0</td>\n",
       "    </tr>\n",
       "    <tr>\n",
       "      <th>29</th>\n",
       "      <td>Veracruz de Ignacio de la Llave</td>\n",
       "      <td>3621456.0</td>\n",
       "      <td>3884243.0</td>\n",
       "    </tr>\n",
       "    <tr>\n",
       "      <th>30</th>\n",
       "      <td>Yucatán</td>\n",
       "      <td>1053519.0</td>\n",
       "      <td>1143041.0</td>\n",
       "    </tr>\n",
       "    <tr>\n",
       "      <th>31</th>\n",
       "      <td>Zacatecas</td>\n",
       "      <td>335947.0</td>\n",
       "      <td>375628.0</td>\n",
       "    </tr>\n",
       "  </tbody>\n",
       "</table>\n",
       "</div>"
      ],
      "text/plain": [
       "                               State(s)  Population 2010  Population 2015\n",
       "0                        Aguascalientes         932369.0        1044049.0\n",
       "1                       Baja California        3155070.0        3315766.0\n",
       "2                   Baja California Sur         251871.0         272711.0\n",
       "3                              Campeche         259005.0         283025.0\n",
       "4                               Chiapas        1058712.0        1162592.0\n",
       "5                             Chihuahua        2478246.0        2616912.0\n",
       "6   Ciudad de México / Hidalgo / México       20116842.0       20892724.0\n",
       "7                  Coahuila de Zaragoza        2614817.0        2823877.0\n",
       "8                                Colima         475661.0         512182.0\n",
       "9                               Durango         582267.0         654876.0\n",
       "10                           Guanajuato        3012201.0        3250817.0\n",
       "11                             Guerrero        1151306.0        1211397.0\n",
       "12                              Hidalgo         957587.0        1038974.0\n",
       "13                              Jalisco        5065897.0        5489431.0\n",
       "14                  Michoacán de Ocampo        1079738.0        1177912.0\n",
       "15                              Morelos        1359111.0        1458806.0\n",
       "16                               México        2172035.0        2373347.0\n",
       "17                              Nayarit         429351.0         471026.0\n",
       "18                           Nuevo León        4226031.0        4689601.0\n",
       "19                     Oaxaca de Juarez         787985.0         851404.0\n",
       "20                               Puebla        3148189.0        3418377.0\n",
       "21               Querétaro / Guanajuato        1161458.0        1323640.0\n",
       "22                         Quintana Roo         885189.0         987201.0\n",
       "23                      San Luis Potosi        1200491.0        1299383.0\n",
       "24                              Sinaloa        1297072.0        1407812.0\n",
       "25                               Sonora        1208064.0        1332448.0\n",
       "26                              Tabasco         755425.0         823213.0\n",
       "27                           Tamaulipas        2781748.0        2955770.0\n",
       "28                             Tlaxcala         499567.0         540273.0\n",
       "29      Veracruz de Ignacio de la Llave        3621456.0        3884243.0\n",
       "30                              Yucatán        1053519.0        1143041.0\n",
       "31                            Zacatecas         335947.0         375628.0"
      ]
     },
     "execution_count": 19,
     "metadata": {},
     "output_type": "execute_result"
    }
   ],
   "source": [
    "# Combine the Population values for each Mexican State\n",
    "state_pop = metro_by_region.groupby(['State(s)']).sum().reset_index()\n",
    "state_pop"
   ]
  },
  {
   "cell_type": "code",
   "execution_count": 20,
   "metadata": {},
   "outputs": [
    {
     "data": {
      "text/plain": [
       "32"
      ]
     },
     "execution_count": 20,
     "metadata": {},
     "output_type": "execute_result"
    }
   ],
   "source": [
    "len(state_pop)"
   ]
  },
  {
   "cell_type": "code",
   "execution_count": 21,
   "metadata": {},
   "outputs": [
    {
     "name": "stdout",
     "output_type": "stream",
     "text": [
      "Stored 'state_pop' (DataFrame)\n"
     ]
    }
   ],
   "source": [
    "# Store state_pop dataset as a global variable that can be uploaded to other Jupyter Notebooks\n",
    "%store state_pop"
   ]
  },
  {
   "cell_type": "markdown",
   "metadata": {},
   "source": [
    "#### Add a State Population columns to metro_by_region\n",
    "- Create variables for total population by State"
   ]
  },
  {
   "cell_type": "code",
   "execution_count": null,
   "metadata": {},
   "outputs": [],
   "source": [
    "# Create empty dictionary variables for state population by year for metro_by_region\n",
    "#2015\n",
    "state_population_2015 = {}"
   ]
  },
  {
   "cell_type": "code",
   "execution_count": null,
   "metadata": {},
   "outputs": [],
   "source": [
    "# Test code to create function\n",
    "row = state_pop[state_pop['State(s)'] == 'Campeche']\n",
    "int(row['Population 2010'].values)"
   ]
  },
  {
   "cell_type": "code",
   "execution_count": null,
   "metadata": {},
   "outputs": [],
   "source": [
    "# Add a total state population value for each metro area within a state\n",
    "for state in state_pop['State(s)']:\n",
    "    \n",
    "    # Iterate over state_pop dataset\n",
    "    for m_state in metro_by_region['State(s)']:\n",
    "        \n",
    "        if state == m_state: \n",
    "            \n",
    "            #store pop values of state_pop in metro_by_region\n",
    "            row = metro_by_region[metro_by_region['State(s)'] == state]\n",
    "            \n",
    "            #2015\n",
    "            p2015 = int(row['Population 2015'].sum())\n",
    "            state_population_2015[state] = p2015"
   ]
  },
  {
   "cell_type": "code",
   "execution_count": null,
   "metadata": {},
   "outputs": [],
   "source": [
    "# Test output\n",
    "print(len(state_population_2015))\n",
    "state_population_2015"
   ]
  },
  {
   "cell_type": "code",
   "execution_count": null,
   "metadata": {},
   "outputs": [],
   "source": [
    "metro_state_pop2015 = []\n",
    "\n",
    "for state in metro_by_region['State(s)']:\n",
    "    \n",
    "    for state15 in state_population_2015:\n",
    "        \n",
    "        if state == state15:\n",
    "            \n",
    "            #2015\n",
    "            pop2015 = state_population_2015[state]\n",
    "            metro_state_pop2015.append(pop2015)"
   ]
  },
  {
   "cell_type": "code",
   "execution_count": null,
   "metadata": {},
   "outputs": [],
   "source": [
    "# Test output\n",
    "print(len(metro_state_pop2015))\n",
    "#metro_state_pop2010"
   ]
  },
  {
   "cell_type": "code",
   "execution_count": null,
   "metadata": {},
   "outputs": [],
   "source": [
    "# Convert the state pop lists to a Series and add as new column to metro_by_region\n",
    "\n",
    "#2015\n",
    "metro_by_region['State Population 2015'] = metro_state_pop2015\n",
    "metro_by_region.head()"
   ]
  },
  {
   "cell_type": "code",
   "execution_count": null,
   "metadata": {},
   "outputs": [],
   "source": [
    "# Remove metro_by_region['Population 2010', 'Population 2015'] columns as they are no longer needed\n",
    "metro_by_region = metro_by_region.drop(columns=['Status','Population 2010','Population 2015'])\n",
    "metro_by_region.head()"
   ]
  },
  {
   "cell_type": "code",
   "execution_count": null,
   "metadata": {},
   "outputs": [],
   "source": [
    "# Rename 'Name' column to 'Metro Areas' in order to match mexico_gdp\n",
    "metro_by_region.columns = ['Metro Areas', 'State', 'State Population 2015']\n",
    "metro_by_region.head()"
   ]
  },
  {
   "cell_type": "markdown",
   "metadata": {},
   "source": [
    "Merge *metro_by_region* with *res_dataset*\n",
    "- Since *res_dataset* and *metro_by_region* have different lengths, the merging of the two datasets will most likely require an iteration over the rows of *res_dataset*"
   ]
  },
  {
   "cell_type": "code",
   "execution_count": null,
   "metadata": {},
   "outputs": [],
   "source": [
    "len(res_dataset)"
   ]
  },
  {
   "cell_type": "code",
   "execution_count": null,
   "metadata": {},
   "outputs": [],
   "source": [
    "res_dataset.head()"
   ]
  },
  {
   "cell_type": "markdown",
   "metadata": {},
   "source": [
    "#### Reorder metro_by_region by State"
   ]
  },
  {
   "cell_type": "code",
   "execution_count": null,
   "metadata": {},
   "outputs": [],
   "source": [
    "# Reindex dates by State\n",
    "metro_by_region = metro_by_region.sort_values(by=['State'],ascending=True).reset_index(drop=True)\n",
    "metro_by_region.head()"
   ]
  },
  {
   "cell_type": "markdown",
   "metadata": {},
   "source": [
    "#### Remove States in *metro_by_region* that are not in *res_dataset*"
   ]
  },
  {
   "cell_type": "code",
   "execution_count": null,
   "metadata": {},
   "outputs": [],
   "source": [
    "condition_3 = metro_by_region['State'].isin(res_dataset['State']) == True\n",
    "metro_by_region['Drop if False'] = condition_3\n",
    "\n",
    "# Remove all rows where metro_by_region['Drop if False'] == False\n",
    "metro_by_region = metro_by_region[metro_by_region['Drop if False'] == True]\n",
    "len(metro_by_region)\n",
    "metro_by_region.head()"
   ]
  },
  {
   "cell_type": "code",
   "execution_count": null,
   "metadata": {},
   "outputs": [],
   "source": [
    "# Remove metro_by_region['Drop if False'] column\n",
    "metro_by_region = metro_by_region.drop(columns=['Drop if False'])\n",
    "metro_by_region.head()"
   ]
  },
  {
   "cell_type": "code",
   "execution_count": null,
   "metadata": {},
   "outputs": [],
   "source": [
    "metro_by_region.info()"
   ]
  },
  {
   "cell_type": "code",
   "execution_count": null,
   "metadata": {},
   "outputs": [],
   "source": [
    "# Remove metro_gdp_merge['Metro Areas'] columns as they are no longer needed\n",
    "metro_by_region = metro_by_region.drop(columns=['Metro Areas'])\n",
    "metro_by_region.head()"
   ]
  },
  {
   "cell_type": "markdown",
   "metadata": {},
   "source": [
    "## Merge metro_by_region with res_dataset"
   ]
  },
  {
   "cell_type": "code",
   "execution_count": null,
   "metadata": {},
   "outputs": [],
   "source": [
    "ml_adomaternal_mortality = pd.merge(metro_by_region, res_dataset, on='State').drop_duplicates()\n",
    "ml_adomaternal_mortality.head()"
   ]
  },
  {
   "cell_type": "code",
   "execution_count": null,
   "metadata": {},
   "outputs": [],
   "source": [
    "ml_adomaternal_mortality.tail()"
   ]
  },
  {
   "cell_type": "code",
   "execution_count": null,
   "metadata": {},
   "outputs": [],
   "source": [
    "ml_adomaternal_mortality.shape"
   ]
  },
  {
   "cell_type": "markdown",
   "metadata": {},
   "source": [
    "#### Look over columns and column correlations: Are all columns in metro_gdp_mortality necessary?"
   ]
  },
  {
   "cell_type": "code",
   "execution_count": null,
   "metadata": {},
   "outputs": [],
   "source": [
    "# Create a correlation dataframe\n",
    "feature_corr = ml_adomaternal_mortality.corr()\n",
    "feature_corr"
   ]
  },
  {
   "cell_type": "code",
   "execution_count": null,
   "metadata": {},
   "outputs": [],
   "source": [
    "# Plot a correlation heatmap\n",
    "sns.heatmap(feature_corr, square=True, cmap='RdYlGn')"
   ]
  },
  {
   "cell_type": "code",
   "execution_count": null,
   "metadata": {},
   "outputs": [],
   "source": [
    "#Remove columns as that are no longer needed\n",
    "ml_adomaternal_mortality = ml_adomaternal_mortality.drop(columns=['μ Age Maternal Mortality'])\n",
    "ml_adomaternal_mortality.head()"
   ]
  },
  {
   "cell_type": "code",
   "execution_count": null,
   "metadata": {},
   "outputs": [],
   "source": [
    "# Plot a correlation heatmap\n",
    "sns.heatmap(ml_adomaternal_mortality.corr(), square=True, cmap='RdYlGn')"
   ]
  },
  {
   "cell_type": "code",
   "execution_count": null,
   "metadata": {},
   "outputs": [],
   "source": [
    "# Store merged metro_gdp_mortality dataset as a global variable\n",
    "%store ml_adomaternal_mortality"
   ]
  }
 ],
 "metadata": {
  "kernelspec": {
   "display_name": "Python 3",
   "language": "python",
   "name": "python3"
  },
  "language_info": {
   "codemirror_mode": {
    "name": "ipython",
    "version": 3
   },
   "file_extension": ".py",
   "mimetype": "text/x-python",
   "name": "python",
   "nbconvert_exporter": "python",
   "pygments_lexer": "ipython3",
   "version": "3.8.5"
  }
 },
 "nbformat": 4,
 "nbformat_minor": 2
}
