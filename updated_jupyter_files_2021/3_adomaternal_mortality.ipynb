{
 "cells": [
  {
   "cell_type": "markdown",
   "metadata": {},
   "source": [
    "## This file has been modified based on new understandings and methodologies since the original implementation (2 years later)"
   ]
  },
  {
   "cell_type": "markdown",
   "metadata": {},
   "source": [
    "## Assessment of Adolescent Maternal Mortality by Region\n",
    "\n",
    "### How do the Region Mean Adolescent Ages Compare to the Mexico's National Mean Adolescent Age Maternal Mortality?  \n",
    "- The World Health Organization (WHO) states that an upwards of 13 million *adolescent girls (ages under 20)* give birth every year, and complications from those pregnancies and childbirth are a leading cause of death for those young mothers. "
   ]
  },
  {
   "cell_type": "code",
   "execution_count": 1,
   "metadata": {},
   "outputs": [],
   "source": [
    "# Import the relevant python libraries for the analysis\n",
    "import pandas as pd\n",
    "from pandas import DataFrame\n",
    "import pylab as pl\n",
    "import math\n",
    "import matplotlib.pyplot as plt\n",
    "import numpy as np\n",
    "import seaborn as sns\n",
    "import scipy.stats as stats\n",
    "import statistics"
   ]
  },
  {
   "cell_type": "code",
   "execution_count": 2,
   "metadata": {},
   "outputs": [],
   "source": [
    "# Load datasets\n",
    "%store -r  materna\n",
    "%store -r res_dataset"
   ]
  },
  {
   "cell_type": "code",
   "execution_count": 3,
   "metadata": {},
   "outputs": [
    {
     "data": {
      "text/html": [
       "<div>\n",
       "<style scoped>\n",
       "    .dataframe tbody tr th:only-of-type {\n",
       "        vertical-align: middle;\n",
       "    }\n",
       "\n",
       "    .dataframe tbody tr th {\n",
       "        vertical-align: top;\n",
       "    }\n",
       "\n",
       "    .dataframe thead th {\n",
       "        text-align: right;\n",
       "    }\n",
       "</style>\n",
       "<table border=\"1\" class=\"dataframe\">\n",
       "  <thead>\n",
       "    <tr style=\"text-align: right;\">\n",
       "      <th></th>\n",
       "      <th>Residence Code</th>\n",
       "      <th>Residence Name</th>\n",
       "      <th>Local Size Code</th>\n",
       "      <th>Education Completed</th>\n",
       "      <th>Age at Death</th>\n",
       "      <th>Received(0)/Not(1) Medical Assistance</th>\n",
       "    </tr>\n",
       "  </thead>\n",
       "  <tbody>\n",
       "    <tr>\n",
       "      <th>0</th>\n",
       "      <td>7</td>\n",
       "      <td>Chiapas</td>\n",
       "      <td>1</td>\n",
       "      <td>2</td>\n",
       "      <td>11</td>\n",
       "      <td>0.0</td>\n",
       "    </tr>\n",
       "    <tr>\n",
       "      <th>1</th>\n",
       "      <td>30</td>\n",
       "      <td>Veracruz de Ignacio de la Llave</td>\n",
       "      <td>11</td>\n",
       "      <td>3</td>\n",
       "      <td>12</td>\n",
       "      <td>0.0</td>\n",
       "    </tr>\n",
       "    <tr>\n",
       "      <th>2</th>\n",
       "      <td>27</td>\n",
       "      <td>Tabasco</td>\n",
       "      <td>14</td>\n",
       "      <td>4</td>\n",
       "      <td>12</td>\n",
       "      <td>0.0</td>\n",
       "    </tr>\n",
       "    <tr>\n",
       "      <th>3</th>\n",
       "      <td>15</td>\n",
       "      <td>México</td>\n",
       "      <td>4</td>\n",
       "      <td>5</td>\n",
       "      <td>12</td>\n",
       "      <td>0.0</td>\n",
       "    </tr>\n",
       "    <tr>\n",
       "      <th>4</th>\n",
       "      <td>12</td>\n",
       "      <td>Guerrero</td>\n",
       "      <td>4</td>\n",
       "      <td>2</td>\n",
       "      <td>12</td>\n",
       "      <td>1.0</td>\n",
       "    </tr>\n",
       "  </tbody>\n",
       "</table>\n",
       "</div>"
      ],
      "text/plain": [
       "   Residence Code                   Residence Name  Local Size Code  \\\n",
       "0               7                          Chiapas                1   \n",
       "1              30  Veracruz de Ignacio de la Llave               11   \n",
       "2              27                          Tabasco               14   \n",
       "3              15                           México                4   \n",
       "4              12                         Guerrero                4   \n",
       "\n",
       "   Education Completed  Age at Death  Received(0)/Not(1) Medical Assistance  \n",
       "0                    2            11                                    0.0  \n",
       "1                    3            12                                    0.0  \n",
       "2                    4            12                                    0.0  \n",
       "3                    5            12                                    0.0  \n",
       "4                    2            12                                    1.0  "
      ]
     },
     "execution_count": 3,
     "metadata": {},
     "output_type": "execute_result"
    }
   ],
   "source": [
    "# Create an adolescent sub dataframe from materna\n",
    "adolescent_matern_mortality = materna[materna['Age at Death'] <= 20 ]\n",
    "adolescent_matern_mortality.head()"
   ]
  },
  {
   "cell_type": "markdown",
   "metadata": {},
   "source": [
    "#### Create variables for age distribution by region"
   ]
  },
  {
   "cell_type": "code",
   "execution_count": 4,
   "metadata": {},
   "outputs": [
    {
     "data": {
      "text/plain": [
       "2885"
      ]
     },
     "execution_count": 4,
     "metadata": {},
     "output_type": "execute_result"
    }
   ],
   "source": [
    "# Create a variable for adolescent_ages_maternal_mortality\n",
    "adolescent_ages = adolescent_matern_mortality['Age at Death']\n",
    "\n",
    "# Create a variable for adolsecent_sample_size\n",
    "adolsecent_sample_size = len(adolescent_ages)\n",
    "adolsecent_sample_size"
   ]
  },
  {
   "cell_type": "markdown",
   "metadata": {},
   "source": [
    "### Visualize Data"
   ]
  },
  {
   "cell_type": "code",
   "execution_count": 5,
   "metadata": {},
   "outputs": [
    {
     "name": "stderr",
     "output_type": "stream",
     "text": [
      "/Users/emily-work/miniconda3/lib/python3.8/site-packages/seaborn/_decorators.py:36: FutureWarning: Pass the following variable as a keyword arg: x. From version 0.12, the only valid positional argument will be `data`, and passing other arguments without an explicit keyword will result in an error or misinterpretation.\n",
      "  warnings.warn(\n"
     ]
    },
    {
     "data": {
      "image/png": "[encoded data removed]",
      "text/plain": [
       "<Figure size 432x288 with 2 Axes>"
      ]
     },
     "metadata": {
      "needs_background": "light"
     },
     "output_type": "display_data"
    },
    {
     "data": {
      "text/plain": [
       "'The sample(n=2885) population mean age of adolescent maternal mortality is 17.98 years old with a standard deviation of 1.71.'"
      ]
     },
     "execution_count": 5,
     "metadata": {},
     "output_type": "execute_result"
    }
   ],
   "source": [
    "# Create a figure with two plots\n",
    "fig, (boxplot, histogram) = plt.subplots(2, sharex=True, gridspec_kw={\"height_ratios\": (.15, .85)})\n",
    "\n",
    "# Add boxplot for maternal death\n",
    "sns.boxplot(adolescent_ages, ax=boxplot)\n",
    "\n",
    "# Remove x-axis label from boxplot\n",
    "boxplot.set(xlabel='')\n",
    "\n",
    "# Add histogram and normal curve for maternal death\n",
    "fit = stats.norm.pdf(adolescent_ages, np.mean(adolescent_ages), np.std(adolescent_ages))\n",
    "pl.plot(adolescent_ages, fit, '-o')\n",
    "pl.hist(adolescent_ages, density=True, alpha=0.5, bins=20)\n",
    "\n",
    "# Label axis \n",
    "pl.xlabel('Adolescent Ages of Maternal Mortality')\n",
    "pl.ylabel('Probability Density Function')\n",
    "pl.title('Adolescent Age Distribution of Maternal Mortality in Mexico')\n",
    "\n",
    "# Show plot and add print mean and std sample information\n",
    "plt.show()\n",
    "'The sample(n=' + str(adolsecent_sample_size) + ') population mean age of adolescent maternal mortality is ' + str(round(np.mean(adolescent_ages), 2)) + ' years old with a standard deviation of ' + str(round(np.std(adolescent_ages), 2)) + '.'"
   ]
  },
  {
   "cell_type": "markdown",
   "metadata": {},
   "source": [
    "*Preliminary Observation*: The distribution appears to have a skewed-right distributed based off of the histogram and boxplot of instance of adolescent maternal mortality. "
   ]
  },
  {
   "cell_type": "code",
   "execution_count": 6,
   "metadata": {},
   "outputs": [
    {
     "data": {
      "text/plain": [
       "(array([ 1,  2,  3,  4,  5,  6,  7,  8,  9, 10, 11, 12, 13, 14, 15, 16, 17,\n",
       "        18, 19, 20, 21, 22, 23, 24, 25, 26, 27, 28, 29, 30, 31, 32]),\n",
       " [Text(1, 0, 'Aguascalientes'),\n",
       "  Text(2, 0, 'Baja California'),\n",
       "  Text(3, 0, 'Baja California Sur'),\n",
       "  Text(4, 0, 'Campeche'),\n",
       "  Text(5, 0, 'Chiapas'),\n",
       "  Text(6, 0, 'Chihuahua'),\n",
       "  Text(7, 0, 'Coahuila de Zaragoza'),\n",
       "  Text(8, 0, 'Colima'),\n",
       "  Text(9, 0, 'Distrito Federal'),\n",
       "  Text(10, 0, 'Durango'),\n",
       "  Text(11, 0, 'Guanajuato'),\n",
       "  Text(12, 0, 'Guerrero'),\n",
       "  Text(13, 0, 'Hidalgo'),\n",
       "  Text(14, 0, 'Jalisco'),\n",
       "  Text(15, 0, 'Michoacán de Ocampo'),\n",
       "  Text(16, 0, 'Morelos'),\n",
       "  Text(17, 0, 'México'),\n",
       "  Text(18, 0, 'Nayarit'),\n",
       "  Text(19, 0, 'Nuevo León'),\n",
       "  Text(20, 0, 'Oaxaca'),\n",
       "  Text(21, 0, 'Puebla'),\n",
       "  Text(22, 0, 'Querétaro Arteaga'),\n",
       "  Text(23, 0, 'Quintana Roo'),\n",
       "  Text(24, 0, 'San Luis Potosí'),\n",
       "  Text(25, 0, 'Sinaloa'),\n",
       "  Text(26, 0, 'Sonora'),\n",
       "  Text(27, 0, 'Tabasco'),\n",
       "  Text(28, 0, 'Tamaulipas'),\n",
       "  Text(29, 0, 'Tlaxcala'),\n",
       "  Text(30, 0, 'Veracruz de Ignacio de la Llave'),\n",
       "  Text(31, 0, 'Yucatán'),\n",
       "  Text(32, 0, 'Zacatecas')])"
      ]
     },
     "execution_count": 6,
     "metadata": {},
     "output_type": "execute_result"
    },
    {
     "data": {
      "image/png": "[encoded data removed]",
      "text/plain": [
       "<Figure size 864x576 with 1 Axes>"
      ]
     },
     "metadata": {
      "needs_background": "light"
     },
     "output_type": "display_data"
    }
   ],
   "source": [
    "#Create a boxplot\n",
    "adolescent_matern_mortality.boxplot('Age at Death', by='Residence Name', figsize=(12, 8))\n",
    "plt.xticks(rotation='vertical')"
   ]
  },
  {
   "cell_type": "markdown",
   "metadata": {},
   "source": [
    "*Preliminary Observations*: When visualizing the spread of adolescent maternal mortality by region, it appears there there are several regions with outliers of very young ages of maternal mortality. Since outliers not incorporated in the calculation of the mean, the adolescent age arrays should be added to the res_dataset and included in the Linear Regression analysis."
   ]
  },
  {
   "cell_type": "markdown",
   "metadata": {},
   "source": [
    "### Bootstrap Simulation: Compare the Sample Mean to a Statistically-Likely Population Mean\n",
    "\n",
    "#### Statistical Testing of Data Mean Adolescent Mortality\n",
    "\n",
    "$H$o: The mean adolescent age of maternal mortality in Mexico is equal to the mean adolescent age of maternal mortality presented in the dataset ($17.98 yoa$). <br>  Empirical Mean ($μ$) − Population Mean ($μ$) = 0\n",
    "\n",
    "$H$a: The mean adolescent age of maternal mortality in Mexico is *not* equal to the mean adolescent age of maternal mortality presented in the dataset ($17.98 yoa$). <br> Empirical Mean ($μ$) − Population Mean ($μ$) ≠ 0\n",
    "\n",
    "Significance Level: *95%* Confidence. <br> $α$ = 0.05"
   ]
  },
  {
   "cell_type": "code",
   "execution_count": 7,
   "metadata": {},
   "outputs": [
    {
     "name": "stdout",
     "output_type": "stream",
     "text": [
      "sample size:  2885\n",
      "sample mean age of death:  17.97677642980936\n",
      "sample standard deviation:  1.7061774866899995\n"
     ]
    }
   ],
   "source": [
    "# Create variables for sample statistical information\n",
    "adolescent_ages_std = adolescent_ages.std()\n",
    "mean_adolescent_ages = adolescent_ages.mean()\n",
    "\n",
    "# Create an array of the sample mean that is equal to the boostrap array length\n",
    "adolescent_ages_arr = np.full(10000, mean_adolescent_ages)\n",
    "\n",
    "print('sample size: ', adolsecent_sample_size)\n",
    "print('sample mean age of death: ', mean_adolescent_ages)\n",
    "print('sample standard deviation: ', adolescent_ages_std)"
   ]
  },
  {
   "cell_type": "code",
   "execution_count": 8,
   "metadata": {},
   "outputs": [],
   "source": [
    "# Bootstrap replicate function for repeatability\n",
    "def bootstrap_replicate_1d(data, func):\n",
    "    \"\"\"Create a bootstrap replicates.\"\"\"\n",
    "    \n",
    "    boot_sample = np.random.choice(data, size=len(data))  # create bootstrap sample\n",
    "    return func(boot_sample) # apply function to bootstrap\n",
    "\n",
    "# Apply bootstrap replicate function 'n' and return an array\n",
    "def draw_bs_reps(data, func, size=1):\n",
    "    \"\"\"Draw bootstrap replicates.\"\"\"\n",
    "\n",
    "    boot_rep = np.empty(size) # initialize array of replicates: bs_replicates\n",
    "    for i in range(size):  # generate 'n' number of replicates\n",
    "        boot_rep[i] = bootstrap_replicate_1d(data, func)\n",
    "    return boot_rep"
   ]
  },
  {
   "cell_type": "code",
   "execution_count": 9,
   "metadata": {},
   "outputs": [
    {
     "name": "stdout",
     "output_type": "stream",
     "text": [
      "bootstrap mean adolescent age of death: 17.976786828422878\n"
     ]
    }
   ],
   "source": [
    "# Create 10000 bootstrap replicates of the mean and take the mean of the returned array\n",
    "boot_tenthousand =  draw_bs_reps(adolescent_ages, np.mean, size=10000)\n",
    "print('bootstrap mean adolescent age of death: ' + str(np.mean(boot_tenthousand)))"
   ]
  },
  {
   "cell_type": "code",
   "execution_count": 10,
   "metadata": {},
   "outputs": [
    {
     "name": "stdout",
     "output_type": "stream",
     "text": [
      "p-value: 0.5072\n",
      "95% Confidence Interval: [17.9139  18.0397]\n"
     ]
    }
   ],
   "source": [
    "# Compute p-value\n",
    "p_val = np.sum(boot_tenthousand >= adolescent_ages_arr) / len(boot_tenthousand)\n",
    "print('p-value: {0:0.4f}'.format(p_val))\n",
    "\n",
    "# Calculate the standard margin of error for a 95% confidence interval\n",
    "conf_int_low = mean_adolescent_ages-(1.98*(adolescent_ages_std/math.sqrt(adolsecent_sample_size)))\n",
    "conf_int_high = mean_adolescent_ages+(1.98*(adolescent_ages_std/math.sqrt(adolsecent_sample_size)))\n",
    "print('95% Confidence Interval: [{0:0.4f}  {1:0.4f}]'.format(conf_int_low, conf_int_high))"
   ]
  },
  {
   "cell_type": "markdown",
   "metadata": {},
   "source": [
    "**Conclusion from the Bootstrap Hypothesis Test:** The resulting population mean of maternal death approximation based on 10,000 bootstrap replicate samples was *17.9765 years of age (yoa)*, which is close to the sample mean of *17.9767 (yoa)* from the dataset. Additionally, the bootstrap population mean is within the 95% Confidence Interval, *17.9139 to 18.0397 (yoa)* with a p-value of 0.4990, which is greater than α = 0.05. Therefore, the null hypothesis that the mean age of death of maternal women in Mexico is equal to the mean age of death presented in the dataset can be accepted. **$Ho$ is accepted**."
   ]
  },
  {
   "cell_type": "code",
   "execution_count": 11,
   "metadata": {},
   "outputs": [],
   "source": [
    "#Create a dict variable for key:value pairs of state:age_array\n",
    "grps = pd.unique(adolescent_matern_mortality['Residence Name'].values)\n",
    "state_mean_adolescent_ages = {grp:adolescent_matern_mortality['Age at Death'][adolescent_matern_mortality['Residence Name'] == grp] for grp in grps}"
   ]
  },
  {
   "cell_type": "code",
   "execution_count": 12,
   "metadata": {},
   "outputs": [],
   "source": [
    "# Create an empty list to store mean age and sample size of maternal death per region\n",
    "ado_region_mean = []\n",
    "ado_region_n = []\n",
    "\n",
    "# Create an iteration function\n",
    "for i in adolescent_matern_mortality['Residence Code'].sort_values().unique():\n",
    "    \"\"\"Calculate Mean Age Adolescent Maternal Mortality per Region\"\"\"\n",
    "    \n",
    "    sub_df = adolescent_matern_mortality[adolescent_matern_mortality['Residence Code'] == i]\n",
    "    age = sub_df['Age at Death']\n",
    "    ado_n = len(age)  # sample length\n",
    "    ado_mean = age.mean() # calculate mean\n",
    "    \n",
    "    for region in sub_df['Residence Name'].unique(): # prevent repeat entries in lists\n",
    "        ado_region_mean.append(round(ado_mean, 2)) #  append mean to region list\n",
    "        ado_region_n.append(round(ado_n, 2)) # append ado_n to region list"
   ]
  },
  {
   "cell_type": "code",
   "execution_count": 13,
   "metadata": {},
   "outputs": [
    {
     "data": {
      "text/plain": [
       "(32, 18.52, 32, 23)"
      ]
     },
     "execution_count": 13,
     "metadata": {},
     "output_type": "execute_result"
    }
   ],
   "source": [
    "# Test output\n",
    "len(ado_region_mean), ado_region_mean[31], len(ado_region_n), ado_region_n[31]"
   ]
  },
  {
   "cell_type": "code",
   "execution_count": 14,
   "metadata": {},
   "outputs": [
    {
     "data": {
      "text/html": [
       "<div>\n",
       "<style scoped>\n",
       "    .dataframe tbody tr th:only-of-type {\n",
       "        vertical-align: middle;\n",
       "    }\n",
       "\n",
       "    .dataframe tbody tr th {\n",
       "        vertical-align: top;\n",
       "    }\n",
       "\n",
       "    .dataframe thead th {\n",
       "        text-align: right;\n",
       "    }\n",
       "</style>\n",
       "<table border=\"1\" class=\"dataframe\">\n",
       "  <thead>\n",
       "    <tr style=\"text-align: right;\">\n",
       "      <th></th>\n",
       "      <th>Region</th>\n",
       "      <th>μ Age Maternal Mortality</th>\n",
       "      <th>Region (n)</th>\n",
       "      <th>μ Age Variance</th>\n",
       "      <th>Above(0) or Below(1) Average</th>\n",
       "      <th>μ Region Education Level</th>\n",
       "      <th>μ Region Local Community Size</th>\n",
       "      <th>μ Presence(0)/Not(1) of Med Assist</th>\n",
       "      <th>μ Age Adolescent Maternal Death</th>\n",
       "      <th>Region Ado (n)</th>\n",
       "    </tr>\n",
       "  </thead>\n",
       "  <tbody>\n",
       "    <tr>\n",
       "      <th>1</th>\n",
       "      <td>Aguascalientes</td>\n",
       "      <td>28.36</td>\n",
       "      <td>127.0</td>\n",
       "      <td>55.16</td>\n",
       "      <td>0</td>\n",
       "      <td>4.56</td>\n",
       "      <td>10.42</td>\n",
       "      <td>0.16</td>\n",
       "      <td>18.08</td>\n",
       "      <td>25</td>\n",
       "    </tr>\n",
       "    <tr>\n",
       "      <th>2</th>\n",
       "      <td>Baja California</td>\n",
       "      <td>27.15</td>\n",
       "      <td>361.0</td>\n",
       "      <td>46.31</td>\n",
       "      <td>1</td>\n",
       "      <td>4.42</td>\n",
       "      <td>13.35</td>\n",
       "      <td>0.16</td>\n",
       "      <td>18.00</td>\n",
       "      <td>69</td>\n",
       "    </tr>\n",
       "    <tr>\n",
       "      <th>3</th>\n",
       "      <td>Baja California Sur</td>\n",
       "      <td>27.56</td>\n",
       "      <td>66.0</td>\n",
       "      <td>55.37</td>\n",
       "      <td>1</td>\n",
       "      <td>4.83</td>\n",
       "      <td>8.50</td>\n",
       "      <td>0.16</td>\n",
       "      <td>18.00</td>\n",
       "      <td>16</td>\n",
       "    </tr>\n",
       "    <tr>\n",
       "      <th>4</th>\n",
       "      <td>Campeche</td>\n",
       "      <td>26.87</td>\n",
       "      <td>126.0</td>\n",
       "      <td>44.29</td>\n",
       "      <td>1</td>\n",
       "      <td>4.12</td>\n",
       "      <td>6.56</td>\n",
       "      <td>0.14</td>\n",
       "      <td>18.00</td>\n",
       "      <td>22</td>\n",
       "    </tr>\n",
       "    <tr>\n",
       "      <th>5</th>\n",
       "      <td>Chiapas</td>\n",
       "      <td>28.02</td>\n",
       "      <td>310.0</td>\n",
       "      <td>45.02</td>\n",
       "      <td>1</td>\n",
       "      <td>4.75</td>\n",
       "      <td>11.22</td>\n",
       "      <td>0.12</td>\n",
       "      <td>18.33</td>\n",
       "      <td>52</td>\n",
       "    </tr>\n",
       "  </tbody>\n",
       "</table>\n",
       "</div>"
      ],
      "text/plain": [
       "                Region  μ Age Maternal Mortality  Region (n)  μ Age Variance  \\\n",
       "1       Aguascalientes                     28.36       127.0           55.16   \n",
       "2      Baja California                     27.15       361.0           46.31   \n",
       "3  Baja California Sur                     27.56        66.0           55.37   \n",
       "4             Campeche                     26.87       126.0           44.29   \n",
       "5              Chiapas                     28.02       310.0           45.02   \n",
       "\n",
       "   Above(0) or Below(1) Average  μ Region Education Level  \\\n",
       "1                             0                      4.56   \n",
       "2                             1                      4.42   \n",
       "3                             1                      4.83   \n",
       "4                             1                      4.12   \n",
       "5                             1                      4.75   \n",
       "\n",
       "   μ Region Local Community Size  μ Presence(0)/Not(1) of Med Assist  \\\n",
       "1                          10.42                                0.16   \n",
       "2                          13.35                                0.16   \n",
       "3                           8.50                                0.16   \n",
       "4                           6.56                                0.14   \n",
       "5                          11.22                                0.12   \n",
       "\n",
       "   μ Age Adolescent Maternal Death  Region Ado (n)  \n",
       "1                            18.08              25  \n",
       "2                            18.00              69  \n",
       "3                            18.00              16  \n",
       "4                            18.00              22  \n",
       "5                            18.33              52  "
      ]
     },
     "execution_count": 14,
     "metadata": {},
     "output_type": "execute_result"
    }
   ],
   "source": [
    "# Convert the list to a Series and add as new column\n",
    "res_dataset['μ Age Adolescent Maternal Death'] = pd.Series(ado_region_mean, index=np.arange(1,33))\n",
    "res_dataset['Region Ado (n)'] = pd.Series(ado_region_n, index=np.arange(1,33))\n",
    "res_dataset.head()"
   ]
  },
  {
   "cell_type": "code",
   "execution_count": 15,
   "metadata": {},
   "outputs": [
    {
     "data": {
      "text/html": [
       "<div>\n",
       "<style scoped>\n",
       "    .dataframe tbody tr th:only-of-type {\n",
       "        vertical-align: middle;\n",
       "    }\n",
       "\n",
       "    .dataframe tbody tr th {\n",
       "        vertical-align: top;\n",
       "    }\n",
       "\n",
       "    .dataframe thead th {\n",
       "        text-align: right;\n",
       "    }\n",
       "</style>\n",
       "<table border=\"1\" class=\"dataframe\">\n",
       "  <thead>\n",
       "    <tr style=\"text-align: right;\">\n",
       "      <th></th>\n",
       "      <th>Region</th>\n",
       "      <th>μ Age Maternal Mortality</th>\n",
       "      <th>Region (n)</th>\n",
       "      <th>μ Age Variance</th>\n",
       "      <th>Above(0) or Below(1) Average</th>\n",
       "      <th>μ Region Education Level</th>\n",
       "      <th>μ Region Local Community Size</th>\n",
       "      <th>μ Presence(0)/Not(1) of Med Assist</th>\n",
       "      <th>μ Age Adolescent Maternal Death</th>\n",
       "      <th>Region Ado (n)</th>\n",
       "    </tr>\n",
       "  </thead>\n",
       "  <tbody>\n",
       "    <tr>\n",
       "      <th>28</th>\n",
       "      <td>Tamaulipas</td>\n",
       "      <td>28.26</td>\n",
       "      <td>377.0</td>\n",
       "      <td>45.45</td>\n",
       "      <td>0</td>\n",
       "      <td>4.47</td>\n",
       "      <td>11.52</td>\n",
       "      <td>0.13</td>\n",
       "      <td>17.88</td>\n",
       "      <td>59</td>\n",
       "    </tr>\n",
       "    <tr>\n",
       "      <th>29</th>\n",
       "      <td>Tlaxcala</td>\n",
       "      <td>28.45</td>\n",
       "      <td>178.0</td>\n",
       "      <td>55.16</td>\n",
       "      <td>0</td>\n",
       "      <td>4.82</td>\n",
       "      <td>5.90</td>\n",
       "      <td>0.18</td>\n",
       "      <td>18.37</td>\n",
       "      <td>35</td>\n",
       "    </tr>\n",
       "    <tr>\n",
       "      <th>30</th>\n",
       "      <td>Veracruz de Ignacio de la Llave</td>\n",
       "      <td>27.94</td>\n",
       "      <td>1239.0</td>\n",
       "      <td>53.60</td>\n",
       "      <td>1</td>\n",
       "      <td>3.69</td>\n",
       "      <td>5.10</td>\n",
       "      <td>0.13</td>\n",
       "      <td>17.95</td>\n",
       "      <td>236</td>\n",
       "    </tr>\n",
       "    <tr>\n",
       "      <th>31</th>\n",
       "      <td>Yucatán</td>\n",
       "      <td>27.50</td>\n",
       "      <td>258.0</td>\n",
       "      <td>54.89</td>\n",
       "      <td>1</td>\n",
       "      <td>3.72</td>\n",
       "      <td>7.71</td>\n",
       "      <td>0.19</td>\n",
       "      <td>18.12</td>\n",
       "      <td>58</td>\n",
       "    </tr>\n",
       "    <tr>\n",
       "      <th>32</th>\n",
       "      <td>Zacatecas</td>\n",
       "      <td>27.50</td>\n",
       "      <td>191.0</td>\n",
       "      <td>48.10</td>\n",
       "      <td>1</td>\n",
       "      <td>4.35</td>\n",
       "      <td>5.84</td>\n",
       "      <td>0.08</td>\n",
       "      <td>18.52</td>\n",
       "      <td>23</td>\n",
       "    </tr>\n",
       "  </tbody>\n",
       "</table>\n",
       "</div>"
      ],
      "text/plain": [
       "                             Region  μ Age Maternal Mortality  Region (n)  \\\n",
       "28                       Tamaulipas                     28.26       377.0   \n",
       "29                         Tlaxcala                     28.45       178.0   \n",
       "30  Veracruz de Ignacio de la Llave                     27.94      1239.0   \n",
       "31                          Yucatán                     27.50       258.0   \n",
       "32                        Zacatecas                     27.50       191.0   \n",
       "\n",
       "    μ Age Variance  Above(0) or Below(1) Average  μ Region Education Level  \\\n",
       "28           45.45                             0                      4.47   \n",
       "29           55.16                             0                      4.82   \n",
       "30           53.60                             1                      3.69   \n",
       "31           54.89                             1                      3.72   \n",
       "32           48.10                             1                      4.35   \n",
       "\n",
       "    μ Region Local Community Size  μ Presence(0)/Not(1) of Med Assist  \\\n",
       "28                          11.52                                0.13   \n",
       "29                           5.90                                0.18   \n",
       "30                           5.10                                0.13   \n",
       "31                           7.71                                0.19   \n",
       "32                           5.84                                0.08   \n",
       "\n",
       "    μ Age Adolescent Maternal Death  Region Ado (n)  \n",
       "28                            17.88              59  \n",
       "29                            18.37              35  \n",
       "30                            17.95             236  \n",
       "31                            18.12              58  \n",
       "32                            18.52              23  "
      ]
     },
     "execution_count": 15,
     "metadata": {},
     "output_type": "execute_result"
    }
   ],
   "source": [
    "# Test output\n",
    "res_dataset.tail()"
   ]
  },
  {
   "cell_type": "code",
   "execution_count": 16,
   "metadata": {},
   "outputs": [
    {
     "name": "stdout",
     "output_type": "stream",
     "text": [
      "Stored 'res_dataset' (DataFrame)\n"
     ]
    }
   ],
   "source": [
    "# Store as a global variable \n",
    "%store res_dataset"
   ]
  }
 ],
 "metadata": {
  "kernelspec": {
   "display_name": "Python 3",
   "language": "python",
   "name": "python3"
  },
  "language_info": {
   "codemirror_mode": {
    "name": "ipython",
    "version": 3
   },
   "file_extension": ".py",
   "mimetype": "text/x-python",
   "name": "python",
   "nbconvert_exporter": "python",
   "pygments_lexer": "ipython3",
   "version": "3.8.5"
  }
 },
 "nbformat": 4,
 "nbformat_minor": 2
}
