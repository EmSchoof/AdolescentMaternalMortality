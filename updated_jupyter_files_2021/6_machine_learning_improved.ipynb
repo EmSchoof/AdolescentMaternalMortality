{
 "cells": [
  {
   "cell_type": "markdown",
   "metadata": {},
   "source": [
    "## This file is modified based on new understandings and methodologies since the original implementation (2 years later)"
   ]
  },
  {
   "cell_type": "markdown",
   "metadata": {},
   "source": [
    "**The primary purpose of this study was to assess the rates of adolescent maternal mortality within Mexico, and calculate the risk probability of an adolescent maternal mortality by region in Mexico based on some of the top features contributing to maternal mortality.**"
   ]
  },
  {
   "cell_type": "code",
   "execution_count": 1,
   "metadata": {},
   "outputs": [],
   "source": [
    "# Import the relevant modules\n",
    "import pandas as pd\n",
    "import numpy as np\n",
    "import seaborn as sns\n",
    "import matplotlib.pyplot as plt \n",
    "from matplotlib.colors import ListedColormap\n",
    "\n",
    "# Machine Learning modules\n",
    "from sklearn.tree import DecisionTreeClassifier\n",
    "from sklearn.ensemble import RandomForestClassifier\n",
    "from sklearn.tree import export_graphviz\n",
    "from sklearn.naive_bayes import GaussianNB\n",
    "\n",
    "# Random Forest Classifier\n",
    "from sklearn.ensemble import RandomForestClassifier\n",
    "\n",
    "# Logistic Regression\n",
    "from sklearn.model_selection import train_test_split\n",
    "from sklearn.linear_model import LogisticRegression\n",
    "from sklearn.metrics import accuracy_score, classification_report, confusion_matrix\n",
    "\n",
    "# Hyperparameters\n",
    "from sklearn.model_selection import GridSearchCV\n",
    "from sklearn.metrics import roc_auc_score\n",
    "from sklearn.model_selection import cross_val_score\n",
    "\n",
    "# ROC Curve\n",
    "from sklearn.metrics import roc_curve\n",
    "\n",
    "# Scale Data\n",
    "from sklearn.preprocessing import scale\n",
    "from sklearn.preprocessing import StandardScaler\n",
    "from sklearn.pipeline import Pipeline"
   ]
  },
  {
   "cell_type": "code",
   "execution_count": 2,
   "metadata": {},
   "outputs": [
    {
     "name": "stdout",
     "output_type": "stream",
     "text": [
      "(28, 10)\n"
     ]
    },
    {
     "data": {
      "text/html": [
       "<div>\n",
       "<style scoped>\n",
       "    .dataframe tbody tr th:only-of-type {\n",
       "        vertical-align: middle;\n",
       "    }\n",
       "\n",
       "    .dataframe tbody tr th {\n",
       "        vertical-align: top;\n",
       "    }\n",
       "\n",
       "    .dataframe thead th {\n",
       "        text-align: right;\n",
       "    }\n",
       "</style>\n",
       "<table border=\"1\" class=\"dataframe\">\n",
       "  <thead>\n",
       "    <tr style=\"text-align: right;\">\n",
       "      <th></th>\n",
       "      <th>State</th>\n",
       "      <th>State Population 2015</th>\n",
       "      <th>Region (n)</th>\n",
       "      <th>μ Age Variance</th>\n",
       "      <th>Equal or Above μ Age in Mexico</th>\n",
       "      <th>Region Mode Education Level</th>\n",
       "      <th>Education Definition</th>\n",
       "      <th>Most Common Region Local Community Size</th>\n",
       "      <th>Local Community Definition</th>\n",
       "      <th>Received Medical Assist</th>\n",
       "    </tr>\n",
       "  </thead>\n",
       "  <tbody>\n",
       "    <tr>\n",
       "      <th>0</th>\n",
       "      <td>Aguascalientes</td>\n",
       "      <td>1044049</td>\n",
       "      <td>127.0</td>\n",
       "      <td>55.16</td>\n",
       "      <td>True</td>\n",
       "      <td>5.0</td>\n",
       "      <td>SECUNDARIA COMPLETA</td>\n",
       "      <td>15.0</td>\n",
       "      <td>500000 a 999999  habitantes</td>\n",
       "      <td>0.842105</td>\n",
       "    </tr>\n",
       "    <tr>\n",
       "      <th>1</th>\n",
       "      <td>Baja California</td>\n",
       "      <td>3315766</td>\n",
       "      <td>361.0</td>\n",
       "      <td>46.31</td>\n",
       "      <td>False</td>\n",
       "      <td>5.0</td>\n",
       "      <td>SECUNDARIA COMPLETA</td>\n",
       "      <td>16.0</td>\n",
       "      <td>1000000 a 1499999  habitantes</td>\n",
       "      <td>0.844575</td>\n",
       "    </tr>\n",
       "    <tr>\n",
       "      <th>4</th>\n",
       "      <td>Baja California Sur</td>\n",
       "      <td>272711</td>\n",
       "      <td>66.0</td>\n",
       "      <td>55.37</td>\n",
       "      <td>False</td>\n",
       "      <td>6.0</td>\n",
       "      <td>BACHILLERATO O PREPARATORIA COMPLETA</td>\n",
       "      <td>13.0</td>\n",
       "      <td>100000 a 249999 habitantes</td>\n",
       "      <td>0.841270</td>\n",
       "    </tr>\n",
       "    <tr>\n",
       "      <th>5</th>\n",
       "      <td>Campeche</td>\n",
       "      <td>283025</td>\n",
       "      <td>126.0</td>\n",
       "      <td>44.29</td>\n",
       "      <td>False</td>\n",
       "      <td>5.0</td>\n",
       "      <td>SECUNDARIA COMPLETA</td>\n",
       "      <td>13.0</td>\n",
       "      <td>100000 a 249999 habitantes</td>\n",
       "      <td>0.859504</td>\n",
       "    </tr>\n",
       "    <tr>\n",
       "      <th>6</th>\n",
       "      <td>Chiapas</td>\n",
       "      <td>1162592</td>\n",
       "      <td>310.0</td>\n",
       "      <td>45.02</td>\n",
       "      <td>False</td>\n",
       "      <td>5.0</td>\n",
       "      <td>SECUNDARIA COMPLETA</td>\n",
       "      <td>15.0</td>\n",
       "      <td>500000 a 999999  habitantes</td>\n",
       "      <td>0.877133</td>\n",
       "    </tr>\n",
       "    <tr>\n",
       "      <th>8</th>\n",
       "      <td>Chihuahua</td>\n",
       "      <td>2616912</td>\n",
       "      <td>49.0</td>\n",
       "      <td>40.12</td>\n",
       "      <td>False</td>\n",
       "      <td>5.0</td>\n",
       "      <td>SECUNDARIA COMPLETA</td>\n",
       "      <td>13.0</td>\n",
       "      <td>100000 a 249999 habitantes</td>\n",
       "      <td>0.869565</td>\n",
       "    </tr>\n",
       "    <tr>\n",
       "      <th>12</th>\n",
       "      <td>Coahuila de Zaragoza</td>\n",
       "      <td>2823877</td>\n",
       "      <td>1235.0</td>\n",
       "      <td>61.58</td>\n",
       "      <td>True</td>\n",
       "      <td>2.0</td>\n",
       "      <td>PRIMARIA INCOMPLETA</td>\n",
       "      <td>1.0</td>\n",
       "      <td>1 a 999            habitantes</td>\n",
       "      <td>0.857919</td>\n",
       "    </tr>\n",
       "    <tr>\n",
       "      <th>16</th>\n",
       "      <td>Colima</td>\n",
       "      <td>512182</td>\n",
       "      <td>628.0</td>\n",
       "      <td>55.14</td>\n",
       "      <td>False</td>\n",
       "      <td>1.0</td>\n",
       "      <td>NINGUNA</td>\n",
       "      <td>1.0</td>\n",
       "      <td>1 a 999            habitantes</td>\n",
       "      <td>0.853242</td>\n",
       "    </tr>\n",
       "    <tr>\n",
       "      <th>18</th>\n",
       "      <td>Durango</td>\n",
       "      <td>654876</td>\n",
       "      <td>263.0</td>\n",
       "      <td>57.71</td>\n",
       "      <td>True</td>\n",
       "      <td>5.0</td>\n",
       "      <td>SECUNDARIA COMPLETA</td>\n",
       "      <td>1.0</td>\n",
       "      <td>1 a 999            habitantes</td>\n",
       "      <td>0.826840</td>\n",
       "    </tr>\n",
       "    <tr>\n",
       "      <th>19</th>\n",
       "      <td>Guanajuato</td>\n",
       "      <td>3250817</td>\n",
       "      <td>707.0</td>\n",
       "      <td>54.33</td>\n",
       "      <td>True</td>\n",
       "      <td>3.0</td>\n",
       "      <td>PRIMARIA COMPLETA</td>\n",
       "      <td>1.0</td>\n",
       "      <td>1 a 999            habitantes</td>\n",
       "      <td>0.845426</td>\n",
       "    </tr>\n",
       "  </tbody>\n",
       "</table>\n",
       "</div>"
      ],
      "text/plain": [
       "                   State  State Population 2015  Region (n)  μ Age Variance  \\\n",
       "0         Aguascalientes                1044049       127.0           55.16   \n",
       "1        Baja California                3315766       361.0           46.31   \n",
       "4    Baja California Sur                 272711        66.0           55.37   \n",
       "5               Campeche                 283025       126.0           44.29   \n",
       "6                Chiapas                1162592       310.0           45.02   \n",
       "8              Chihuahua                2616912        49.0           40.12   \n",
       "12  Coahuila de Zaragoza                2823877      1235.0           61.58   \n",
       "16                Colima                 512182       628.0           55.14   \n",
       "18               Durango                 654876       263.0           57.71   \n",
       "19            Guanajuato                3250817       707.0           54.33   \n",
       "\n",
       "    Equal or Above μ Age in Mexico  Region Mode Education Level  \\\n",
       "0                             True                          5.0   \n",
       "1                            False                          5.0   \n",
       "4                            False                          6.0   \n",
       "5                            False                          5.0   \n",
       "6                            False                          5.0   \n",
       "8                            False                          5.0   \n",
       "12                            True                          2.0   \n",
       "16                           False                          1.0   \n",
       "18                            True                          5.0   \n",
       "19                            True                          3.0   \n",
       "\n",
       "                    Education Definition  \\\n",
       "0                    SECUNDARIA COMPLETA   \n",
       "1                    SECUNDARIA COMPLETA   \n",
       "4   BACHILLERATO O PREPARATORIA COMPLETA   \n",
       "5                    SECUNDARIA COMPLETA   \n",
       "6                    SECUNDARIA COMPLETA   \n",
       "8                    SECUNDARIA COMPLETA   \n",
       "12                   PRIMARIA INCOMPLETA   \n",
       "16                               NINGUNA   \n",
       "18                   SECUNDARIA COMPLETA   \n",
       "19                     PRIMARIA COMPLETA   \n",
       "\n",
       "    Most Common Region Local Community Size     Local Community Definition  \\\n",
       "0                                      15.0    500000 a 999999  habitantes   \n",
       "1                                      16.0  1000000 a 1499999  habitantes   \n",
       "4                                      13.0     100000 a 249999 habitantes   \n",
       "5                                      13.0     100000 a 249999 habitantes   \n",
       "6                                      15.0    500000 a 999999  habitantes   \n",
       "8                                      13.0     100000 a 249999 habitantes   \n",
       "12                                      1.0  1 a 999            habitantes   \n",
       "16                                      1.0  1 a 999            habitantes   \n",
       "18                                      1.0  1 a 999            habitantes   \n",
       "19                                      1.0  1 a 999            habitantes   \n",
       "\n",
       "    Received Medical Assist  \n",
       "0                  0.842105  \n",
       "1                  0.844575  \n",
       "4                  0.841270  \n",
       "5                  0.859504  \n",
       "6                  0.877133  \n",
       "8                  0.869565  \n",
       "12                 0.857919  \n",
       "16                 0.853242  \n",
       "18                 0.826840  \n",
       "19                 0.845426  "
      ]
     },
     "execution_count": 2,
     "metadata": {},
     "output_type": "execute_result"
    }
   ],
   "source": [
    "# Open merged materna_mortal_factors dataset\n",
    "%store -r ml_adomaternal_mortality\n",
    "data = ml_adomaternal_mortality\n",
    "print(data.shape)\n",
    "data.head(10)"
   ]
  },
  {
   "cell_type": "code",
   "execution_count": 3,
   "metadata": {},
   "outputs": [
    {
     "data": {
      "text/html": [
       "<div>\n",
       "<style scoped>\n",
       "    .dataframe tbody tr th:only-of-type {\n",
       "        vertical-align: middle;\n",
       "    }\n",
       "\n",
       "    .dataframe tbody tr th {\n",
       "        vertical-align: top;\n",
       "    }\n",
       "\n",
       "    .dataframe thead th {\n",
       "        text-align: right;\n",
       "    }\n",
       "</style>\n",
       "<table border=\"1\" class=\"dataframe\">\n",
       "  <thead>\n",
       "    <tr style=\"text-align: right;\">\n",
       "      <th></th>\n",
       "      <th>State</th>\n",
       "      <th>State Population 2015</th>\n",
       "      <th>Region (n)</th>\n",
       "      <th>μ Age Variance</th>\n",
       "      <th>Equal or Above μ Age in Mexico</th>\n",
       "      <th>Region Mode Education Level</th>\n",
       "      <th>Most Common Region Local Community Size</th>\n",
       "      <th>Received Medical Assist</th>\n",
       "    </tr>\n",
       "  </thead>\n",
       "  <tbody>\n",
       "    <tr>\n",
       "      <th>0</th>\n",
       "      <td>Aguascalientes</td>\n",
       "      <td>1044049</td>\n",
       "      <td>127.0</td>\n",
       "      <td>55.16</td>\n",
       "      <td>True</td>\n",
       "      <td>5.0</td>\n",
       "      <td>15.0</td>\n",
       "      <td>0.842105</td>\n",
       "    </tr>\n",
       "    <tr>\n",
       "      <th>1</th>\n",
       "      <td>Baja California</td>\n",
       "      <td>3315766</td>\n",
       "      <td>361.0</td>\n",
       "      <td>46.31</td>\n",
       "      <td>False</td>\n",
       "      <td>5.0</td>\n",
       "      <td>16.0</td>\n",
       "      <td>0.844575</td>\n",
       "    </tr>\n",
       "    <tr>\n",
       "      <th>4</th>\n",
       "      <td>Baja California Sur</td>\n",
       "      <td>272711</td>\n",
       "      <td>66.0</td>\n",
       "      <td>55.37</td>\n",
       "      <td>False</td>\n",
       "      <td>6.0</td>\n",
       "      <td>13.0</td>\n",
       "      <td>0.841270</td>\n",
       "    </tr>\n",
       "    <tr>\n",
       "      <th>5</th>\n",
       "      <td>Campeche</td>\n",
       "      <td>283025</td>\n",
       "      <td>126.0</td>\n",
       "      <td>44.29</td>\n",
       "      <td>False</td>\n",
       "      <td>5.0</td>\n",
       "      <td>13.0</td>\n",
       "      <td>0.859504</td>\n",
       "    </tr>\n",
       "    <tr>\n",
       "      <th>6</th>\n",
       "      <td>Chiapas</td>\n",
       "      <td>1162592</td>\n",
       "      <td>310.0</td>\n",
       "      <td>45.02</td>\n",
       "      <td>False</td>\n",
       "      <td>5.0</td>\n",
       "      <td>15.0</td>\n",
       "      <td>0.877133</td>\n",
       "    </tr>\n",
       "  </tbody>\n",
       "</table>\n",
       "</div>"
      ],
      "text/plain": [
       "                 State  State Population 2015  Region (n)  μ Age Variance  \\\n",
       "0       Aguascalientes                1044049       127.0           55.16   \n",
       "1      Baja California                3315766       361.0           46.31   \n",
       "4  Baja California Sur                 272711        66.0           55.37   \n",
       "5             Campeche                 283025       126.0           44.29   \n",
       "6              Chiapas                1162592       310.0           45.02   \n",
       "\n",
       "   Equal or Above μ Age in Mexico  Region Mode Education Level  \\\n",
       "0                            True                          5.0   \n",
       "1                           False                          5.0   \n",
       "4                           False                          6.0   \n",
       "5                           False                          5.0   \n",
       "6                           False                          5.0   \n",
       "\n",
       "   Most Common Region Local Community Size  Received Medical Assist  \n",
       "0                                     15.0                 0.842105  \n",
       "1                                     16.0                 0.844575  \n",
       "4                                     13.0                 0.841270  \n",
       "5                                     13.0                 0.859504  \n",
       "6                                     15.0                 0.877133  "
      ]
     },
     "execution_count": 3,
     "metadata": {},
     "output_type": "execute_result"
    }
   ],
   "source": [
    "string_data = data[['State','Education Definition','Local Community Definition']]\n",
    "\n",
    "# Select non-categorical columns (since categorical columns are descriptors of numeric columns)\n",
    "data = data.drop(columns=['Education Definition','Local Community Definition'])\n",
    "data.head()"
   ]
  },
  {
   "cell_type": "markdown",
   "metadata": {},
   "source": [
    "### Dataset Target Variable: Above(0) or Below(1) MEX μ"
   ]
  },
  {
   "cell_type": "markdown",
   "metadata": {},
   "source": [
    "## Assess potential correlation of various factors within each Region\n",
    "- Create a correlation dataframe\n",
    "- Plot the correlation dataframe on a sns heatmap:\n",
    "    - Cells that are in green show positive correlation\n",
    "    - Cells that are in red show negative correlation"
   ]
  },
  {
   "cell_type": "code",
   "execution_count": 4,
   "metadata": {},
   "outputs": [
    {
     "data": {
      "text/plain": [
       "<AxesSubplot:>"
      ]
     },
     "execution_count": 4,
     "metadata": {},
     "output_type": "execute_result"
    },
    {
     "data": {
      "image/png": "[encoded data removed]",
      "text/plain": [
       "<Figure size 432x288 with 2 Axes>"
      ]
     },
     "metadata": {
      "needs_background": "light"
     },
     "output_type": "display_data"
    }
   ],
   "source": [
    "# Create a correlation dataframe\n",
    "feature_corr = data.corr()\n",
    "\n",
    "# Plot a correlation heatmap\n",
    "sns.heatmap(feature_corr, square=True, cmap='RdYlGn')"
   ]
  },
  {
   "cell_type": "code",
   "execution_count": 5,
   "metadata": {},
   "outputs": [
    {
     "data": {
      "text/html": [
       "<div>\n",
       "<style scoped>\n",
       "    .dataframe tbody tr th:only-of-type {\n",
       "        vertical-align: middle;\n",
       "    }\n",
       "\n",
       "    .dataframe tbody tr th {\n",
       "        vertical-align: top;\n",
       "    }\n",
       "\n",
       "    .dataframe thead th {\n",
       "        text-align: right;\n",
       "    }\n",
       "</style>\n",
       "<table border=\"1\" class=\"dataframe\">\n",
       "  <thead>\n",
       "    <tr style=\"text-align: right;\">\n",
       "      <th></th>\n",
       "      <th>State Population 2015</th>\n",
       "      <th>Region (n)</th>\n",
       "      <th>μ Age Variance</th>\n",
       "      <th>Equal or Above μ Age in Mexico</th>\n",
       "      <th>Region Mode Education Level</th>\n",
       "      <th>Most Common Region Local Community Size</th>\n",
       "      <th>Received Medical Assist</th>\n",
       "    </tr>\n",
       "  </thead>\n",
       "  <tbody>\n",
       "    <tr>\n",
       "      <th>State Population 2015</th>\n",
       "      <td>1.000000</td>\n",
       "      <td>0.294634</td>\n",
       "      <td>-0.151977</td>\n",
       "      <td>0.346555</td>\n",
       "      <td>-0.210841</td>\n",
       "      <td>0.167483</td>\n",
       "      <td>-0.017571</td>\n",
       "    </tr>\n",
       "    <tr>\n",
       "      <th>Region (n)</th>\n",
       "      <td>0.294634</td>\n",
       "      <td>1.000000</td>\n",
       "      <td>0.203397</td>\n",
       "      <td>0.381747</td>\n",
       "      <td>-0.493669</td>\n",
       "      <td>-0.221252</td>\n",
       "      <td>-0.047626</td>\n",
       "    </tr>\n",
       "    <tr>\n",
       "      <th>μ Age Variance</th>\n",
       "      <td>-0.151977</td>\n",
       "      <td>0.203397</td>\n",
       "      <td>1.000000</td>\n",
       "      <td>0.374289</td>\n",
       "      <td>-0.373848</td>\n",
       "      <td>-0.429609</td>\n",
       "      <td>-0.196659</td>\n",
       "    </tr>\n",
       "    <tr>\n",
       "      <th>Equal or Above μ Age in Mexico</th>\n",
       "      <td>0.346555</td>\n",
       "      <td>0.381747</td>\n",
       "      <td>0.374289</td>\n",
       "      <td>1.000000</td>\n",
       "      <td>-0.173205</td>\n",
       "      <td>-0.199854</td>\n",
       "      <td>-0.309417</td>\n",
       "    </tr>\n",
       "    <tr>\n",
       "      <th>Region Mode Education Level</th>\n",
       "      <td>-0.210841</td>\n",
       "      <td>-0.493669</td>\n",
       "      <td>-0.373848</td>\n",
       "      <td>-0.173205</td>\n",
       "      <td>1.000000</td>\n",
       "      <td>0.624954</td>\n",
       "      <td>0.034934</td>\n",
       "    </tr>\n",
       "    <tr>\n",
       "      <th>Most Common Region Local Community Size</th>\n",
       "      <td>0.167483</td>\n",
       "      <td>-0.221252</td>\n",
       "      <td>-0.429609</td>\n",
       "      <td>-0.199854</td>\n",
       "      <td>0.624954</td>\n",
       "      <td>1.000000</td>\n",
       "      <td>-0.107632</td>\n",
       "    </tr>\n",
       "    <tr>\n",
       "      <th>Received Medical Assist</th>\n",
       "      <td>-0.017571</td>\n",
       "      <td>-0.047626</td>\n",
       "      <td>-0.196659</td>\n",
       "      <td>-0.309417</td>\n",
       "      <td>0.034934</td>\n",
       "      <td>-0.107632</td>\n",
       "      <td>1.000000</td>\n",
       "    </tr>\n",
       "  </tbody>\n",
       "</table>\n",
       "</div>"
      ],
      "text/plain": [
       "                                         State Population 2015  Region (n)  \\\n",
       "State Population 2015                                 1.000000    0.294634   \n",
       "Region (n)                                            0.294634    1.000000   \n",
       "μ Age Variance                                       -0.151977    0.203397   \n",
       "Equal or Above μ Age in Mexico                        0.346555    0.381747   \n",
       "Region Mode Education Level                          -0.210841   -0.493669   \n",
       "Most Common Region Local Community Size               0.167483   -0.221252   \n",
       "Received Medical Assist                              -0.017571   -0.047626   \n",
       "\n",
       "                                         μ Age Variance  \\\n",
       "State Population 2015                         -0.151977   \n",
       "Region (n)                                     0.203397   \n",
       "μ Age Variance                                 1.000000   \n",
       "Equal or Above μ Age in Mexico                 0.374289   \n",
       "Region Mode Education Level                   -0.373848   \n",
       "Most Common Region Local Community Size       -0.429609   \n",
       "Received Medical Assist                       -0.196659   \n",
       "\n",
       "                                         Equal or Above μ Age in Mexico  \\\n",
       "State Population 2015                                          0.346555   \n",
       "Region (n)                                                     0.381747   \n",
       "μ Age Variance                                                 0.374289   \n",
       "Equal or Above μ Age in Mexico                                 1.000000   \n",
       "Region Mode Education Level                                   -0.173205   \n",
       "Most Common Region Local Community Size                       -0.199854   \n",
       "Received Medical Assist                                       -0.309417   \n",
       "\n",
       "                                         Region Mode Education Level  \\\n",
       "State Population 2015                                      -0.210841   \n",
       "Region (n)                                                 -0.493669   \n",
       "μ Age Variance                                             -0.373848   \n",
       "Equal or Above μ Age in Mexico                             -0.173205   \n",
       "Region Mode Education Level                                 1.000000   \n",
       "Most Common Region Local Community Size                     0.624954   \n",
       "Received Medical Assist                                     0.034934   \n",
       "\n",
       "                                         Most Common Region Local Community Size  \\\n",
       "State Population 2015                                                   0.167483   \n",
       "Region (n)                                                             -0.221252   \n",
       "μ Age Variance                                                         -0.429609   \n",
       "Equal or Above μ Age in Mexico                                         -0.199854   \n",
       "Region Mode Education Level                                             0.624954   \n",
       "Most Common Region Local Community Size                                 1.000000   \n",
       "Received Medical Assist                                                -0.107632   \n",
       "\n",
       "                                         Received Medical Assist  \n",
       "State Population 2015                                  -0.017571  \n",
       "Region (n)                                             -0.047626  \n",
       "μ Age Variance                                         -0.196659  \n",
       "Equal or Above μ Age in Mexico                         -0.309417  \n",
       "Region Mode Education Level                             0.034934  \n",
       "Most Common Region Local Community Size                -0.107632  \n",
       "Received Medical Assist                                 1.000000  "
      ]
     },
     "execution_count": 5,
     "metadata": {},
     "output_type": "execute_result"
    }
   ],
   "source": [
    "data.corr()"
   ]
  },
  {
   "cell_type": "markdown",
   "metadata": {},
   "source": [
    "#### Assess number of rows per target output"
   ]
  },
  {
   "cell_type": "code",
   "execution_count": 6,
   "metadata": {},
   "outputs": [
    {
     "data": {
      "text/html": [
       "<div>\n",
       "<style scoped>\n",
       "    .dataframe tbody tr th:only-of-type {\n",
       "        vertical-align: middle;\n",
       "    }\n",
       "\n",
       "    .dataframe tbody tr th {\n",
       "        vertical-align: top;\n",
       "    }\n",
       "\n",
       "    .dataframe thead th {\n",
       "        text-align: right;\n",
       "    }\n",
       "</style>\n",
       "<table border=\"1\" class=\"dataframe\">\n",
       "  <thead>\n",
       "    <tr style=\"text-align: right;\">\n",
       "      <th></th>\n",
       "      <th>Equal or Above μ Age in Mexico</th>\n",
       "      <th>Region (n)</th>\n",
       "    </tr>\n",
       "  </thead>\n",
       "  <tbody>\n",
       "    <tr>\n",
       "      <th>0</th>\n",
       "      <td>False</td>\n",
       "      <td>14</td>\n",
       "    </tr>\n",
       "    <tr>\n",
       "      <th>1</th>\n",
       "      <td>True</td>\n",
       "      <td>14</td>\n",
       "    </tr>\n",
       "  </tbody>\n",
       "</table>\n",
       "</div>"
      ],
      "text/plain": [
       "   Equal or Above μ Age in Mexico  Region (n)\n",
       "0                           False          14\n",
       "1                            True          14"
      ]
     },
     "execution_count": 6,
     "metadata": {},
     "output_type": "execute_result"
    }
   ],
   "source": [
    "data[['Equal or Above μ Age in Mexico', 'Region (n)']].groupby('Equal or Above μ Age in Mexico',\n",
    "                                                 as_index=False).count()"
   ]
  },
  {
   "cell_type": "markdown",
   "metadata": {},
   "source": [
    "## Prepare Data for Logisitic Regression Machine Learning Model"
   ]
  },
  {
   "cell_type": "markdown",
   "metadata": {},
   "source": [
    "#### Purpose for Changing all Categorical Strings to a Numeric Value: \n",
    "- Machine Learning models will ignore string values (strings have no statistical value unless added)\n",
    "- Numeric values are comparable therefore string values should be categorically changed to numbers\n",
    "- This is how you compare a string value to a numeric value that the model can use"
   ]
  },
  {
   "cell_type": "code",
   "execution_count": 7,
   "metadata": {},
   "outputs": [],
   "source": [
    "# Convert Column value strings to a numeric value\n",
    "for i, column in enumerate(list([str(d) for d in data.dtypes])):\n",
    "    if column == \"object\":\n",
    "        data[data.columns[i]] = data[data.columns[i]].fillna(data[data.columns[i]].mode())\n",
    "        data[data.columns[i]] = data[data.columns[i]].astype(\"category\").cat.codes\n",
    "    else:\n",
    "        data[data.columns[i]] = data[data.columns[i]].fillna(data[data.columns[i]].median())"
   ]
  },
  {
   "cell_type": "code",
   "execution_count": 8,
   "metadata": {},
   "outputs": [
    {
     "data": {
      "text/html": [
       "<div>\n",
       "<style scoped>\n",
       "    .dataframe tbody tr th:only-of-type {\n",
       "        vertical-align: middle;\n",
       "    }\n",
       "\n",
       "    .dataframe tbody tr th {\n",
       "        vertical-align: top;\n",
       "    }\n",
       "\n",
       "    .dataframe thead th {\n",
       "        text-align: right;\n",
       "    }\n",
       "</style>\n",
       "<table border=\"1\" class=\"dataframe\">\n",
       "  <thead>\n",
       "    <tr style=\"text-align: right;\">\n",
       "      <th></th>\n",
       "      <th>State</th>\n",
       "      <th>State Population 2015</th>\n",
       "      <th>Region (n)</th>\n",
       "      <th>μ Age Variance</th>\n",
       "      <th>Equal or Above μ Age in Mexico</th>\n",
       "      <th>Region Mode Education Level</th>\n",
       "      <th>Most Common Region Local Community Size</th>\n",
       "      <th>Received Medical Assist</th>\n",
       "    </tr>\n",
       "  </thead>\n",
       "  <tbody>\n",
       "    <tr>\n",
       "      <th>0</th>\n",
       "      <td>0</td>\n",
       "      <td>1044049</td>\n",
       "      <td>127.0</td>\n",
       "      <td>55.16</td>\n",
       "      <td>True</td>\n",
       "      <td>5.0</td>\n",
       "      <td>15.0</td>\n",
       "      <td>0.842105</td>\n",
       "    </tr>\n",
       "    <tr>\n",
       "      <th>1</th>\n",
       "      <td>1</td>\n",
       "      <td>3315766</td>\n",
       "      <td>361.0</td>\n",
       "      <td>46.31</td>\n",
       "      <td>False</td>\n",
       "      <td>5.0</td>\n",
       "      <td>16.0</td>\n",
       "      <td>0.844575</td>\n",
       "    </tr>\n",
       "    <tr>\n",
       "      <th>4</th>\n",
       "      <td>2</td>\n",
       "      <td>272711</td>\n",
       "      <td>66.0</td>\n",
       "      <td>55.37</td>\n",
       "      <td>False</td>\n",
       "      <td>6.0</td>\n",
       "      <td>13.0</td>\n",
       "      <td>0.841270</td>\n",
       "    </tr>\n",
       "    <tr>\n",
       "      <th>5</th>\n",
       "      <td>3</td>\n",
       "      <td>283025</td>\n",
       "      <td>126.0</td>\n",
       "      <td>44.29</td>\n",
       "      <td>False</td>\n",
       "      <td>5.0</td>\n",
       "      <td>13.0</td>\n",
       "      <td>0.859504</td>\n",
       "    </tr>\n",
       "    <tr>\n",
       "      <th>6</th>\n",
       "      <td>4</td>\n",
       "      <td>1162592</td>\n",
       "      <td>310.0</td>\n",
       "      <td>45.02</td>\n",
       "      <td>False</td>\n",
       "      <td>5.0</td>\n",
       "      <td>15.0</td>\n",
       "      <td>0.877133</td>\n",
       "    </tr>\n",
       "  </tbody>\n",
       "</table>\n",
       "</div>"
      ],
      "text/plain": [
       "   State  State Population 2015  Region (n)  μ Age Variance  \\\n",
       "0      0                1044049       127.0           55.16   \n",
       "1      1                3315766       361.0           46.31   \n",
       "4      2                 272711        66.0           55.37   \n",
       "5      3                 283025       126.0           44.29   \n",
       "6      4                1162592       310.0           45.02   \n",
       "\n",
       "   Equal or Above μ Age in Mexico  Region Mode Education Level  \\\n",
       "0                            True                          5.0   \n",
       "1                           False                          5.0   \n",
       "4                           False                          6.0   \n",
       "5                           False                          5.0   \n",
       "6                           False                          5.0   \n",
       "\n",
       "   Most Common Region Local Community Size  Received Medical Assist  \n",
       "0                                     15.0                 0.842105  \n",
       "1                                     16.0                 0.844575  \n",
       "4                                     13.0                 0.841270  \n",
       "5                                     13.0                 0.859504  \n",
       "6                                     15.0                 0.877133  "
      ]
     },
     "execution_count": 8,
     "metadata": {},
     "output_type": "execute_result"
    }
   ],
   "source": [
    "data.head()"
   ]
  },
  {
   "cell_type": "markdown",
   "metadata": {},
   "source": [
    "# Basic Logistic Regression: \n",
    "* **Target Variable: Above(0)/Not(1) MeEX μ *(age maternal mortality)***\n",
    "* Split the data into a training and test (hold-out) set\n",
    "* Train on the training set, and test for accuracy on the testing set"
   ]
  },
  {
   "cell_type": "code",
   "execution_count": 9,
   "metadata": {},
   "outputs": [],
   "source": [
    "# Create a Logistic Regression Incidence \n",
    "clf_log = LogisticRegression(random_state=42, solver='lbfgs')"
   ]
  },
  {
   "cell_type": "markdown",
   "metadata": {},
   "source": [
    "#### Test-Train-Split:\n",
    "- X = copy of all features and the response variable of dataset\n",
    "- y = all features within dataset *excluding the response (target) variable*\n",
    "- test_size = represents the proportion of the dataset (as a percentage) to include in the test split\n",
    "- random_state = the seed used by the random number generator"
   ]
  },
  {
   "cell_type": "code",
   "execution_count": 10,
   "metadata": {},
   "outputs": [],
   "source": [
    "# Entire dataset (even with response variable)\n",
    "X = data.copy()\n",
    "\n",
    "# The response variable\n",
    "y = data.copy().pop('Equal or Above μ Age in Mexico')"
   ]
  },
  {
   "cell_type": "code",
   "execution_count": 11,
   "metadata": {},
   "outputs": [
    {
     "data": {
      "text/plain": [
       "['State',\n",
       " 'State Population 2015',\n",
       " 'Region (n)',\n",
       " 'μ Age Variance',\n",
       " 'Equal or Above μ Age in Mexico',\n",
       " 'Region Mode Education Level',\n",
       " 'Most Common Region Local Community Size',\n",
       " 'Received Medical Assist']"
      ]
     },
     "execution_count": 11,
     "metadata": {},
     "output_type": "execute_result"
    }
   ],
   "source": [
    "list(X.columns)"
   ]
  },
  {
   "cell_type": "code",
   "execution_count": 12,
   "metadata": {},
   "outputs": [
    {
     "data": {
      "text/plain": [
       "(19, 9, 19, 9)"
      ]
     },
     "execution_count": 12,
     "metadata": {},
     "output_type": "execute_result"
    }
   ],
   "source": [
    "# Create train and test data sets with train_test_split\n",
    "X_train, X_test, y_train, y_test = train_test_split(X.values, y.values, test_size=0.3, random_state=42)\n",
    "len(X_train), len(X_test), len(y_train), len(y_test)"
   ]
  },
  {
   "cell_type": "code",
   "execution_count": 13,
   "metadata": {},
   "outputs": [],
   "source": [
    "#feature_imp.plot(kind='bar')"
   ]
  },
  {
   "cell_type": "markdown",
   "metadata": {},
   "source": [
    "**Classification Report Conclusion for Unscaled Data**: The Logistic Regression model produced a 0% percision, recall, and F1-score for all instances of '1' for the target variable, 'Above(0)/Not(1) MEX μ' *(age maternal mortality)* while producing a 57% percision, 80% recall, and 67% F1-score for instances of '0' for the target variable. This means that the model, while marginally accurate for detecting Regions with a μ Age Maternal Mortality that is above the μ Age Maternal Mortality in Mexico, is not a fully-encompassing model since it cannot accurately detect the when a region is below the country mean."
   ]
  },
  {
   "cell_type": "markdown",
   "metadata": {},
   "source": [
    "# Scaled Data\n",
    "Being that there are only 28 rows within this dataset (one per State in Mexico), this data requires standard scaling to amplofy the impact of the predictive logistic model."
   ]
  },
  {
   "cell_type": "markdown",
   "metadata": {},
   "source": [
    "#### Scale Data for Logistic Regression with Standard Scaler and Pipeline"
   ]
  },
  {
   "cell_type": "code",
   "execution_count": 14,
   "metadata": {},
   "outputs": [],
   "source": [
    "# Setup the pipeline steps: steps\n",
    "steps = [('scaler', StandardScaler()),\n",
    "        ('log', LogisticRegression(random_state=42, solver='lbfgs'))]\n",
    "        \n",
    "# Create the pipeline: pipeline\n",
    "pipeline = Pipeline(steps)"
   ]
  },
  {
   "cell_type": "markdown",
   "metadata": {},
   "source": [
    "#### Logistic Regression with Scaled Data"
   ]
  },
  {
   "cell_type": "code",
   "execution_count": 15,
   "metadata": {},
   "outputs": [
    {
     "data": {
      "text/plain": [
       "Pipeline(steps=[('scaler', StandardScaler()),\n",
       "                ('log', LogisticRegression(random_state=42))])"
      ]
     },
     "execution_count": 15,
     "metadata": {},
     "output_type": "execute_result"
    }
   ],
   "source": [
    "# Fit the pipeline to the training set: clf_log_scaled\n",
    "clf_log_scaled = pipeline.fit(X_train, y_train)\n",
    "clf_log_scaled"
   ]
  },
  {
   "cell_type": "code",
   "execution_count": 16,
   "metadata": {},
   "outputs": [
    {
     "data": {
      "text/plain": [
       "array([[0.05298435, 0.94701565],\n",
       "       [0.32905967, 0.67094033],\n",
       "       [0.19053068, 0.80946932],\n",
       "       [0.89602445, 0.10397555],\n",
       "       [0.4298635 , 0.5701365 ],\n",
       "       [0.04027914, 0.95972086],\n",
       "       [0.09422841, 0.90577159],\n",
       "       [0.87343907, 0.12656093],\n",
       "       [0.20353567, 0.79646433]])"
      ]
     },
     "execution_count": 16,
     "metadata": {},
     "output_type": "execute_result"
    }
   ],
   "source": [
    "# Calculate the class probablity -returns the probability of model's ability to predict a likely value of the features\n",
    "probability = clf_log_scaled.predict_proba(X_test)\n",
    "probability"
   ]
  },
  {
   "cell_type": "code",
   "execution_count": 17,
   "metadata": {},
   "outputs": [
    {
     "ename": "AttributeError",
     "evalue": "'Pipeline' object has no attribute 'feature_importances_'",
     "output_type": "error",
     "traceback": [
      "\u001b[0;31m---------------------------------------------------------------------------\u001b[0m",
      "\u001b[0;31mAttributeError\u001b[0m                            Traceback (most recent call last)",
      "\u001b[0;32m<ipython-input-17-858a9b96e9eb>\u001b[0m in \u001b[0;36m<module>\u001b[0;34m\u001b[0m\n\u001b[1;32m      1\u001b[0m \u001b[0;31m# let's take a look at the results\u001b[0m\u001b[0;34m\u001b[0m\u001b[0;34m\u001b[0m\u001b[0;34m\u001b[0m\u001b[0m\n\u001b[0;32m----> 2\u001b[0;31m \u001b[0mfeature_imp2\u001b[0m \u001b[0;34m=\u001b[0m \u001b[0mpd\u001b[0m\u001b[0;34m.\u001b[0m\u001b[0mDataFrame\u001b[0m\u001b[0;34m(\u001b[0m\u001b[0mlist\u001b[0m\u001b[0;34m(\u001b[0m\u001b[0mzip\u001b[0m\u001b[0;34m(\u001b[0m\u001b[0mX\u001b[0m\u001b[0;34m.\u001b[0m\u001b[0mcolumns\u001b[0m\u001b[0;34m,\u001b[0m \u001b[0mclf_log_scaled\u001b[0m\u001b[0;34m.\u001b[0m\u001b[0mfeature_importances_\u001b[0m\u001b[0;34m)\u001b[0m\u001b[0;34m)\u001b[0m\u001b[0;34m,\u001b[0m \u001b[0mcolumns\u001b[0m\u001b[0;34m=\u001b[0m\u001b[0;34m[\u001b[0m\u001b[0;34m'features'\u001b[0m\u001b[0;34m,\u001b[0m \u001b[0;34m'coeffs'\u001b[0m\u001b[0;34m]\u001b[0m\u001b[0;34m)\u001b[0m\u001b[0;34m\u001b[0m\u001b[0;34m\u001b[0m\u001b[0m\n\u001b[0m\u001b[1;32m      3\u001b[0m \u001b[0mfeature_imp2\u001b[0m\u001b[0;34m=\u001b[0m\u001b[0mfeature_imp\u001b[0m\u001b[0;34m.\u001b[0m\u001b[0mset_index\u001b[0m\u001b[0;34m(\u001b[0m\u001b[0;34m'features'\u001b[0m\u001b[0;34m)\u001b[0m\u001b[0;34m\u001b[0m\u001b[0;34m\u001b[0m\u001b[0m\n\u001b[1;32m      4\u001b[0m \u001b[0mfeature_imp2\u001b[0m\u001b[0;34m=\u001b[0m\u001b[0mfeature_imp\u001b[0m\u001b[0;34m.\u001b[0m\u001b[0msort_values\u001b[0m\u001b[0;34m(\u001b[0m\u001b[0;34m'coeffs'\u001b[0m\u001b[0;34m)\u001b[0m\u001b[0;34m\u001b[0m\u001b[0;34m\u001b[0m\u001b[0m\n",
      "\u001b[0;31mAttributeError\u001b[0m: 'Pipeline' object has no attribute 'feature_importances_'"
     ]
    }
   ],
   "source": [
    "# let's take a look at the results\n",
    "feature_imp2 = pd.DataFrame(list(zip(X.columns, clf_log_scaled.feature_importances_)), columns=['features', 'coeffs'])\n",
    "feature_imp2=feature_imp.set_index('features')\n",
    "feature_imp2=feature_imp.sort_values('coeffs')"
   ]
  },
  {
   "cell_type": "markdown",
   "metadata": {},
   "source": [
    "#### Classification Report\n",
    "- **Precision**: \n",
    "    - positive predictive value\n",
    "    - total number predicted correctly\n",
    "- **Recall**: \n",
    "    - model sensitivity \n",
    "    - the fraction of the relevant documents that are successfully retrieved\n",
    "- **F1-score**:\n",
    "    - single measurement of system\n",
    "    - provide a single measurement for a system"
   ]
  },
  {
   "cell_type": "code",
   "execution_count": 18,
   "metadata": {},
   "outputs": [
    {
     "name": "stdout",
     "output_type": "stream",
     "text": [
      "              precision    recall  f1-score   support\n",
      "\n",
      "       False       1.00      0.67      0.80         3\n",
      "        True       0.86      1.00      0.92         6\n",
      "\n",
      "    accuracy                           0.89         9\n",
      "   macro avg       0.93      0.83      0.86         9\n",
      "weighted avg       0.90      0.89      0.88         9\n",
      "\n"
     ]
    }
   ],
   "source": [
    "# Predict the model -assess how well the model predicts unseen data\n",
    "predict_scaled = clf_log_scaled.predict(X_test)\n",
    "\n",
    "# Compute classification report (https://en.wikipedia.org/wiki/Precision_and_recall)\n",
    "\n",
    "class_report = classification_report(y_test, predict_scaled)\n",
    "print(class_report)"
   ]
  },
  {
   "cell_type": "markdown",
   "metadata": {},
   "source": [
    "**Classification Report Conclusion for Scaled Data**: The Logistic Regression model produced a 100% percision, 67% recall, and 80% F1-score for all instances of '1', and a 83% percision, 100% recall, and 91% F1-score for all instances of '0' of the target variable. This means that the model appears to identify Regions with a μ Age Maternal Mortality that *is* or *is not* above the μ Age Maternal Mortality in Mexico with marginal to somewhat reliable accuracy."
   ]
  },
  {
   "cell_type": "code",
   "execution_count": 19,
   "metadata": {},
   "outputs": [
    {
     "name": "stdout",
     "output_type": "stream",
     "text": [
      "[[2 1]\n",
      " [0 6]]\n"
     ]
    },
    {
     "data": {
      "text/plain": [
       "<AxesSubplot:>"
      ]
     },
     "execution_count": 19,
     "metadata": {},
     "output_type": "execute_result"
    },
    {
     "data": {
      "image/png": "[encoded data removed]",
      "text/plain": [
       "<Figure size 720x504 with 2 Axes>"
      ]
     },
     "metadata": {
      "needs_background": "light"
     },
     "output_type": "display_data"
    }
   ],
   "source": [
    "# Compute the confusion_matrix to evaluate the accuracy of a classification\n",
    "conf_matrix = confusion_matrix(y_test, predict_scaled)\n",
    "print(conf_matrix)\n",
    "\n",
    "# Plot confusion_matrix\n",
    "plt.figure(figsize = (10,7))\n",
    "sns.heatmap(conf_matrix, annot=True)"
   ]
  },
  {
   "cell_type": "code",
   "execution_count": 20,
   "metadata": {},
   "outputs": [
    {
     "data": {
      "text/plain": [
       "('The accuracy score the the scaled data is: ', 0.8888888888888888)"
      ]
     },
     "execution_count": 20,
     "metadata": {},
     "output_type": "execute_result"
    }
   ],
   "source": [
    "# Print the accuracy from the testing data\n",
    "'The accuracy score the the scaled data is: ', accuracy_score(y_test, predict_scaled)"
   ]
  },
  {
   "cell_type": "code",
   "execution_count": 21,
   "metadata": {},
   "outputs": [
    {
     "name": "stdout",
     "output_type": "stream",
     "text": [
      "AUC: 0.9444444444444445\n",
      "AUC scores computed using 5-fold cross-validation: [1. 1. 1. 1. 1.]\n"
     ]
    }
   ],
   "source": [
    "# Compute predicted probabilities: y_pred_prob\n",
    "y_pred_prob_scaled = clf_log_scaled.predict_proba(X_test)[:,1]\n",
    "\n",
    "# Compute and print AUC score\n",
    "print(\"AUC: {}\".format(roc_auc_score(y_test, y_pred_prob_scaled)))\n",
    "\n",
    "# Compute cross-validated AUC scores: cv_auc\n",
    "cv_auc = cross_val_score(clf_log_scaled, X, y, scoring='roc_auc', cv=5)\n",
    "\n",
    "# Print list of AUC scores\n",
    "print(\"AUC scores computed using 5-fold cross-validation: {}\".format(cv_auc))"
   ]
  },
  {
   "cell_type": "markdown",
   "metadata": {},
   "source": [
    "#### Visualize Logistic Regression Model Accuracy for the Scaled Data with ROC curve"
   ]
  },
  {
   "cell_type": "code",
   "execution_count": 22,
   "metadata": {},
   "outputs": [
    {
     "data": {
      "text/plain": [
       "Text(0.5, 1.0, 'ROC Curve')"
      ]
     },
     "execution_count": 22,
     "metadata": {},
     "output_type": "execute_result"
    },
    {
     "data": {
      "image/png": "[encoded data removed]",
      "text/plain": [
       "<Figure size 432x288 with 1 Axes>"
      ]
     },
     "metadata": {
      "needs_background": "light"
     },
     "output_type": "display_data"
    }
   ],
   "source": [
    "# Generate ROC curve values: fpr, tpr, thresholds\n",
    "fpr, tpr, thresholds = roc_curve(y_test, y_pred_prob_scaled)\n",
    "\n",
    "# Plot ROC curve\n",
    "plt.plot([0, 1], [0, 1], 'k--')\n",
    "plt.plot(fpr, tpr)\n",
    "plt.xlabel('False Positive Rate')\n",
    "plt.ylabel('True Positive Rate')\n",
    "plt.title('ROC Curve')"
   ]
  },
  {
   "cell_type": "markdown",
   "metadata": {},
   "source": [
    "#### Visualize our true vs. predicted values"
   ]
  },
  {
   "cell_type": "code",
   "execution_count": 23,
   "metadata": {},
   "outputs": [
    {
     "data": {
      "image/png": "[encoded data removed]",
      "text/plain": [
       "<Figure size 504x504 with 1 Axes>"
      ]
     },
     "metadata": {
      "needs_background": "light"
     },
     "output_type": "display_data"
    }
   ],
   "source": [
    "plt.figure(figsize=(7,7))\n",
    "plt.title('Regions with a μ Age Maternal Mortality Below the μ Age Maternal Mortality in Mexico')\n",
    "plt.xlabel('True Values')\n",
    "plt.ylabel('Predicted Values')\n",
    "fig=sns.regplot(x=y_pred_prob_scaled, y=y_test)\n",
    "plt.show(fig)"
   ]
  },
  {
   "cell_type": "code",
   "execution_count": null,
   "metadata": {},
   "outputs": [],
   "source": []
  }
 ],
 "metadata": {
  "kernelspec": {
   "display_name": "Python 3",
   "language": "python",
   "name": "python3"
  },
  "language_info": {
   "codemirror_mode": {
    "name": "ipython",
    "version": 3
   },
   "file_extension": ".py",
   "mimetype": "text/x-python",
   "name": "python",
   "nbconvert_exporter": "python",
   "pygments_lexer": "ipython3",
   "version": "3.8.5"
  }
 },
 "nbformat": 4,
 "nbformat_minor": 2
}
