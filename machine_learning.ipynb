{
 "cells": [
  {
   "cell_type": "markdown",
   "metadata": {},
   "source": [
    "## What factors contribute to lower rates of maternal mortality long-term?"
   ]
  },
  {
   "cell_type": "markdown",
   "metadata": {},
   "source": [
    "The primary purpose of this study was to identify maternal mortality statistics in Mexico. Given that most of maternal deaths can be prevented, the prediction of the likelihood of death of maternal patients is a massively important task. It should be noted that any misinterpretation of data can be misleading, and averages are no expecption. Averages hide the range of different data points within a single number which can result in a dichotomized perception of the sample data. In order to compensate for this overdramatization of the data, one needs to look for the majority and assess where the spreads overlap.\n",
    "\n",
    "Truthfully, the incidence of maternal mortality has decreased since the UN initiative in 2015, but it is important to assess which regions accomplished the largest changes over time, and which factors contributed to the reduction of maternal mortality. However, during the analysis of the mean age of maternal mortality by regions with ANOVA, it was found that at least one region is statisically different from the rest. Therefore, there is still a substantial benefit to creating a predictive model that incorporate categorical differences between the States/Regions of Mexico that may have an impact of varying rates of maternal mortality, and which factors have the most impact. The proposed method is based on Random Forest, which allowed the identification of \"11\" independent predictors from \"32\" predictive factors in order to create a predictive model to assess the factors associated with reducing the rate of maternal mortality within each State of Mexico.  \n",
    "\n",
    "Machine learning methods are becoming increasingly relevant as data availability increases, as well as the general understanding of the complex dynamic changes in indicators with a significant number of interrelated factors. Additionally, since scientific significance is the foundation of the results, it is possible to make the results interpretable from a clinical point of view.\n",
    "\n",
    "The following methods consist of: Random Forest Classifier, KNeighbors Classifier, Logistic Regression, and Gaussian Naive Bayes.  For the interpretation of differences between individual parameters of the mothers in two classes predicted failure (maternal mortality) verses prediction success (maternal vitality), the problem of classification via using the decision tree can be solved. The target is prediction failure class.\n",
    "\n",
    "Output Variable - Mean Age of Maternal Mortality is A Continuous Variable - Therefore, Linear regression."
   ]
  },
  {
   "cell_type": "code",
   "execution_count": 114,
   "metadata": {},
   "outputs": [],
   "source": [
    "# Import the relevant modules\n",
    "import pandas as pd\n",
    "import numpy as np\n",
    "import seaborn as sns\n",
    "import matplotlib.pyplot as plt \n",
    "\n",
    "# Machine Learning modules\n",
    "from sklearn.tree import DecisionTreeClassifier\n",
    "from sklearn.ensemble import RandomForestClassifier\n",
    "from sklearn.tree import export_graphviz\n",
    "from sklearn.naive_bayes import GaussianNB\n",
    "\n",
    "# Linear Regression\n",
    "from sklearn.linear_model import LinearRegression\n",
    "from sklearn.metrics import mean_squared_error\n",
    "from sklearn.model_selection import cross_val_score\n",
    "from sklearn.model_selection import train_test_split\n",
    "\n",
    "# K-Nearest Neighbors\n",
    "from sklearn.neighbors import KNeighborsClassifier\n",
    "from sklearn.metrics import classification_report, confusion_matrix\n",
    "\n",
    "# ROC Curve\n",
    "from sklearn.metrics import roc_curve\n",
    "\n",
    "# Error Handling for Random Forest Tree\n",
    "from sklearn import preprocessing\n",
    "from sklearn import utils"
   ]
  },
  {
   "cell_type": "code",
   "execution_count": 94,
   "metadata": {},
   "outputs": [],
   "source": [
    "# Open merged materna_mortal_factors dataset\n",
    "%store -r metro_gdp_mortality"
   ]
  },
  {
   "cell_type": "code",
   "execution_count": 95,
   "metadata": {},
   "outputs": [
    {
     "data": {
      "text/html": [
       "<div>\n",
       "<style scoped>\n",
       "    .dataframe tbody tr th:only-of-type {\n",
       "        vertical-align: middle;\n",
       "    }\n",
       "\n",
       "    .dataframe tbody tr th {\n",
       "        vertical-align: top;\n",
       "    }\n",
       "\n",
       "    .dataframe thead th {\n",
       "        text-align: right;\n",
       "    }\n",
       "</style>\n",
       "<table border=\"1\" class=\"dataframe\">\n",
       "  <thead>\n",
       "    <tr style=\"text-align: right;\">\n",
       "      <th></th>\n",
       "      <th>State</th>\n",
       "      <th>State Population 2010</th>\n",
       "      <th>State Population 2015</th>\n",
       "      <th>State GDP 2010</th>\n",
       "      <th>State GDP 2015</th>\n",
       "      <th>μ Age Maternal Mortality</th>\n",
       "      <th>μ Age Variance</th>\n",
       "      <th>μ Age Adolescent Maternal Death</th>\n",
       "      <th>μ Age Adolescent Variance</th>\n",
       "    </tr>\n",
       "  </thead>\n",
       "  <tbody>\n",
       "    <tr>\n",
       "      <th>0</th>\n",
       "      <td>Aguascalientes</td>\n",
       "      <td>932369</td>\n",
       "      <td>1044049</td>\n",
       "      <td>16597.0</td>\n",
       "      <td>19528.0</td>\n",
       "      <td>28.36</td>\n",
       "      <td>55.16</td>\n",
       "      <td>17.92</td>\n",
       "      <td>2.55</td>\n",
       "    </tr>\n",
       "    <tr>\n",
       "      <th>1</th>\n",
       "      <td>Baja California</td>\n",
       "      <td>3155070</td>\n",
       "      <td>3315766</td>\n",
       "      <td>52579.0</td>\n",
       "      <td>57136.0</td>\n",
       "      <td>27.15</td>\n",
       "      <td>46.31</td>\n",
       "      <td>17.95</td>\n",
       "      <td>2.70</td>\n",
       "    </tr>\n",
       "    <tr>\n",
       "      <th>4</th>\n",
       "      <td>Baja California Sur</td>\n",
       "      <td>251871</td>\n",
       "      <td>272711</td>\n",
       "      <td>21260.0</td>\n",
       "      <td>21431.0</td>\n",
       "      <td>27.56</td>\n",
       "      <td>55.37</td>\n",
       "      <td>18.06</td>\n",
       "      <td>3.25</td>\n",
       "    </tr>\n",
       "    <tr>\n",
       "      <th>5</th>\n",
       "      <td>Campeche</td>\n",
       "      <td>259005</td>\n",
       "      <td>283025</td>\n",
       "      <td>NaN</td>\n",
       "      <td>NaN</td>\n",
       "      <td>26.87</td>\n",
       "      <td>44.29</td>\n",
       "      <td>18.08</td>\n",
       "      <td>4.18</td>\n",
       "    </tr>\n",
       "    <tr>\n",
       "      <th>6</th>\n",
       "      <td>Chiapas</td>\n",
       "      <td>1058712</td>\n",
       "      <td>1162592</td>\n",
       "      <td>14271.0</td>\n",
       "      <td>13392.0</td>\n",
       "      <td>28.02</td>\n",
       "      <td>45.02</td>\n",
       "      <td>17.97</td>\n",
       "      <td>2.57</td>\n",
       "    </tr>\n",
       "  </tbody>\n",
       "</table>\n",
       "</div>"
      ],
      "text/plain": [
       "                 State  State Population 2010  State Population 2015  \\\n",
       "0       Aguascalientes                 932369                1044049   \n",
       "1      Baja California                3155070                3315766   \n",
       "4  Baja California Sur                 251871                 272711   \n",
       "5             Campeche                 259005                 283025   \n",
       "6              Chiapas                1058712                1162592   \n",
       "\n",
       "   State GDP 2010  State GDP 2015  μ Age Maternal Mortality  μ Age Variance  \\\n",
       "0         16597.0         19528.0                     28.36           55.16   \n",
       "1         52579.0         57136.0                     27.15           46.31   \n",
       "4         21260.0         21431.0                     27.56           55.37   \n",
       "5             NaN             NaN                     26.87           44.29   \n",
       "6         14271.0         13392.0                     28.02           45.02   \n",
       "\n",
       "   μ Age Adolescent Maternal Death  μ Age Adolescent Variance  \n",
       "0                            17.92                       2.55  \n",
       "1                            17.95                       2.70  \n",
       "4                            18.06                       3.25  \n",
       "5                            18.08                       4.18  \n",
       "6                            17.97                       2.57  "
      ]
     },
     "execution_count": 95,
     "metadata": {},
     "output_type": "execute_result"
    }
   ],
   "source": [
    "data = metro_gdp_mortality\n",
    "data.head()"
   ]
  },
  {
   "cell_type": "markdown",
   "metadata": {},
   "source": [
    "#### Assess potential correlation of various factors within each Region\n",
    "- Create a correlation dataframe\n",
    "- Plot the correlation dataframe on a sns heatmap:\n",
    "    - Cells that are in green show positive correlation\n",
    "    - Cells that are in red show negative correlation"
   ]
  },
  {
   "cell_type": "code",
   "execution_count": 96,
   "metadata": {},
   "outputs": [
    {
     "data": {
      "text/plain": [
       "<matplotlib.axes._subplots.AxesSubplot at 0x1a181296d8>"
      ]
     },
     "execution_count": 96,
     "metadata": {},
     "output_type": "execute_result"
    },
    {
     "data": {
      "image/png": "[encoded data removed]",
      "text/plain": [
       "<Figure size 432x288 with 2 Axes>"
      ]
     },
     "metadata": {
      "needs_background": "light"
     },
     "output_type": "display_data"
    }
   ],
   "source": [
    "# Create a correlation dataframe\n",
    "feature_corr = data.corr()\n",
    "\n",
    "# Plot a correlation heatmap\n",
    "sns.heatmap(feature_corr, square=True, cmap='RdYlGn')"
   ]
  },
  {
   "cell_type": "markdown",
   "metadata": {},
   "source": [
    "#### *Preliminary Observations of Interest*: \n",
    "- **Positive (++) Correlation**\n",
    "    - State GDP (2010/2015) with State Population (2010/2015)\n",
    "    - μ Age Maternal Mortality with State Population (2010/2015)\n",
    "- **Weak Positive (+) Correlation**\n",
    "    - μ Age Adolescent Maternal Death with State GDP (2010/2015)\n",
    "- **No correlation**\n",
    "     - μ Age Variance with State Population (2010/2015)\n",
    "     - μ Age Adolescent Maternal Death with State GDP (2010/2015)\n",
    "- **Negative (-) Correlation**\n",
    "    - μ Age Adolescent Maternal Death with State Population (2010/2015)"
   ]
  },
  {
   "cell_type": "markdown",
   "metadata": {},
   "source": [
    "#### Purpose for Changing all Categorical Strings to a Numeric Value: \n",
    "- Machine Learning models will ignore string values (strings have no statistical value unless added)\n",
    "- Numeric values are comparable therefore string values should be categorically changed to numbers\n",
    "- This is how you compare a string value to a numeric value that the model can use"
   ]
  },
  {
   "cell_type": "code",
   "execution_count": 39,
   "metadata": {},
   "outputs": [],
   "source": [
    "# Convert Column strings to a numeric value\n",
    "for i, column in enumerate(list([str(d) for d in data.dtypes])):\n",
    "    if column == \"object\":\n",
    "        data[data.columns[i]] = data[data.columns[i]].fillna(data[data.columns[i]].mode())\n",
    "        data[data.columns[i]] = data[data.columns[i]].astype(\"category\").cat.codes\n",
    "    else:\n",
    "        data[data.columns[i]] = data[data.columns[i]].fillna(data[data.columns[i]].median())"
   ]
  },
  {
   "cell_type": "code",
   "execution_count": 40,
   "metadata": {},
   "outputs": [
    {
     "data": {
      "text/html": [
       "<div>\n",
       "<style scoped>\n",
       "    .dataframe tbody tr th:only-of-type {\n",
       "        vertical-align: middle;\n",
       "    }\n",
       "\n",
       "    .dataframe tbody tr th {\n",
       "        vertical-align: top;\n",
       "    }\n",
       "\n",
       "    .dataframe thead th {\n",
       "        text-align: right;\n",
       "    }\n",
       "</style>\n",
       "<table border=\"1\" class=\"dataframe\">\n",
       "  <thead>\n",
       "    <tr style=\"text-align: right;\">\n",
       "      <th></th>\n",
       "      <th>State</th>\n",
       "      <th>State Population 2010</th>\n",
       "      <th>State Population 2015</th>\n",
       "      <th>State GDP 2010</th>\n",
       "      <th>State GDP 2015</th>\n",
       "      <th>μ Age Maternal Mortality</th>\n",
       "      <th>μ Age Variance</th>\n",
       "      <th>μ Age Adolescent Maternal Death</th>\n",
       "      <th>μ Age Adolescent Variance</th>\n",
       "    </tr>\n",
       "  </thead>\n",
       "  <tbody>\n",
       "    <tr>\n",
       "      <th>0</th>\n",
       "      <td>0</td>\n",
       "      <td>932369</td>\n",
       "      <td>1044049</td>\n",
       "      <td>16597.0</td>\n",
       "      <td>19528.0</td>\n",
       "      <td>28.36</td>\n",
       "      <td>55.16</td>\n",
       "      <td>17.92</td>\n",
       "      <td>2.55</td>\n",
       "    </tr>\n",
       "    <tr>\n",
       "      <th>1</th>\n",
       "      <td>1</td>\n",
       "      <td>3155070</td>\n",
       "      <td>3315766</td>\n",
       "      <td>52579.0</td>\n",
       "      <td>57136.0</td>\n",
       "      <td>27.15</td>\n",
       "      <td>46.31</td>\n",
       "      <td>17.95</td>\n",
       "      <td>2.70</td>\n",
       "    </tr>\n",
       "    <tr>\n",
       "      <th>4</th>\n",
       "      <td>2</td>\n",
       "      <td>251871</td>\n",
       "      <td>272711</td>\n",
       "      <td>21260.0</td>\n",
       "      <td>21431.0</td>\n",
       "      <td>27.56</td>\n",
       "      <td>55.37</td>\n",
       "      <td>18.06</td>\n",
       "      <td>3.25</td>\n",
       "    </tr>\n",
       "    <tr>\n",
       "      <th>5</th>\n",
       "      <td>3</td>\n",
       "      <td>259005</td>\n",
       "      <td>283025</td>\n",
       "      <td>20994.5</td>\n",
       "      <td>22120.5</td>\n",
       "      <td>26.87</td>\n",
       "      <td>44.29</td>\n",
       "      <td>18.08</td>\n",
       "      <td>4.18</td>\n",
       "    </tr>\n",
       "    <tr>\n",
       "      <th>6</th>\n",
       "      <td>4</td>\n",
       "      <td>1058712</td>\n",
       "      <td>1162592</td>\n",
       "      <td>14271.0</td>\n",
       "      <td>13392.0</td>\n",
       "      <td>28.02</td>\n",
       "      <td>45.02</td>\n",
       "      <td>17.97</td>\n",
       "      <td>2.57</td>\n",
       "    </tr>\n",
       "  </tbody>\n",
       "</table>\n",
       "</div>"
      ],
      "text/plain": [
       "   State  State Population 2010  State Population 2015  State GDP 2010  \\\n",
       "0      0                 932369                1044049         16597.0   \n",
       "1      1                3155070                3315766         52579.0   \n",
       "4      2                 251871                 272711         21260.0   \n",
       "5      3                 259005                 283025         20994.5   \n",
       "6      4                1058712                1162592         14271.0   \n",
       "\n",
       "   State GDP 2015  μ Age Maternal Mortality  μ Age Variance  \\\n",
       "0         19528.0                     28.36           55.16   \n",
       "1         57136.0                     27.15           46.31   \n",
       "4         21431.0                     27.56           55.37   \n",
       "5         22120.5                     26.87           44.29   \n",
       "6         13392.0                     28.02           45.02   \n",
       "\n",
       "   μ Age Adolescent Maternal Death  μ Age Adolescent Variance  \n",
       "0                            17.92                       2.55  \n",
       "1                            17.95                       2.70  \n",
       "4                            18.06                       3.25  \n",
       "5                            18.08                       4.18  \n",
       "6                            17.97                       2.57  "
      ]
     },
     "execution_count": 40,
     "metadata": {},
     "output_type": "execute_result"
    }
   ],
   "source": [
    "data.head()"
   ]
  },
  {
   "cell_type": "code",
   "execution_count": 43,
   "metadata": {},
   "outputs": [
    {
     "data": {
      "text/html": [
       "<div>\n",
       "<style scoped>\n",
       "    .dataframe tbody tr th:only-of-type {\n",
       "        vertical-align: middle;\n",
       "    }\n",
       "\n",
       "    .dataframe tbody tr th {\n",
       "        vertical-align: top;\n",
       "    }\n",
       "\n",
       "    .dataframe thead th {\n",
       "        text-align: right;\n",
       "    }\n",
       "</style>\n",
       "<table border=\"1\" class=\"dataframe\">\n",
       "  <thead>\n",
       "    <tr style=\"text-align: right;\">\n",
       "      <th></th>\n",
       "      <th>0</th>\n",
       "      <th>1</th>\n",
       "      <th>2</th>\n",
       "      <th>3</th>\n",
       "      <th>4</th>\n",
       "      <th>5</th>\n",
       "      <th>6</th>\n",
       "      <th>7</th>\n",
       "      <th>8</th>\n",
       "    </tr>\n",
       "  </thead>\n",
       "  <tbody>\n",
       "    <tr>\n",
       "      <th>0</th>\n",
       "      <td>0</td>\n",
       "      <td>932369</td>\n",
       "      <td>1044049</td>\n",
       "      <td>16597.0</td>\n",
       "      <td>19528.0</td>\n",
       "      <td>28.36</td>\n",
       "      <td>55.16</td>\n",
       "      <td>17.92</td>\n",
       "      <td>2.55</td>\n",
       "    </tr>\n",
       "    <tr>\n",
       "      <th>1</th>\n",
       "      <td>1</td>\n",
       "      <td>3155070</td>\n",
       "      <td>3315766</td>\n",
       "      <td>52579.0</td>\n",
       "      <td>57136.0</td>\n",
       "      <td>27.15</td>\n",
       "      <td>46.31</td>\n",
       "      <td>17.95</td>\n",
       "      <td>2.70</td>\n",
       "    </tr>\n",
       "    <tr>\n",
       "      <th>4</th>\n",
       "      <td>2</td>\n",
       "      <td>251871</td>\n",
       "      <td>272711</td>\n",
       "      <td>21260.0</td>\n",
       "      <td>21431.0</td>\n",
       "      <td>27.56</td>\n",
       "      <td>55.37</td>\n",
       "      <td>18.06</td>\n",
       "      <td>3.25</td>\n",
       "    </tr>\n",
       "    <tr>\n",
       "      <th>5</th>\n",
       "      <td>3</td>\n",
       "      <td>259005</td>\n",
       "      <td>283025</td>\n",
       "      <td>20994.5</td>\n",
       "      <td>22120.5</td>\n",
       "      <td>26.87</td>\n",
       "      <td>44.29</td>\n",
       "      <td>18.08</td>\n",
       "      <td>4.18</td>\n",
       "    </tr>\n",
       "    <tr>\n",
       "      <th>6</th>\n",
       "      <td>4</td>\n",
       "      <td>1058712</td>\n",
       "      <td>1162592</td>\n",
       "      <td>14271.0</td>\n",
       "      <td>13392.0</td>\n",
       "      <td>28.02</td>\n",
       "      <td>45.02</td>\n",
       "      <td>17.97</td>\n",
       "      <td>2.57</td>\n",
       "    </tr>\n",
       "  </tbody>\n",
       "</table>\n",
       "</div>"
      ],
      "text/plain": [
       "   0        1        2        3        4      5      6      7     8\n",
       "0  0   932369  1044049  16597.0  19528.0  28.36  55.16  17.92  2.55\n",
       "1  1  3155070  3315766  52579.0  57136.0  27.15  46.31  17.95  2.70\n",
       "4  2   251871   272711  21260.0  21431.0  27.56  55.37  18.06  3.25\n",
       "5  3   259005   283025  20994.5  22120.5  26.87  44.29  18.08  4.18\n",
       "6  4  1058712  1162592  14271.0  13392.0  28.02  45.02  17.97  2.57"
      ]
     },
     "execution_count": 43,
     "metadata": {},
     "output_type": "execute_result"
    }
   ],
   "source": [
    "data.columns = [0,1,2,3,4,5,6,7,8]\n",
    "data.head()"
   ]
  },
  {
   "cell_type": "markdown",
   "metadata": {},
   "source": [
    "**Features**: \n",
    "- 0 (State)\n",
    "- 1 (State Population 2010)\n",
    "- 2 (State Population 2015)\n",
    "- 3 (State GDP 2010)\n",
    "- 4 (State GDP 2015)\n",
    "- 6 (μ Age Variance)\n",
    "- 7 (μ Age Adolescent Maternal Death)\n",
    "- 8 (μ Age Adolescent Variance)\n",
    "\n",
    "**Target**: \n",
    "- 5 (μ Age Maternal Mortality)"
   ]
  },
  {
   "cell_type": "markdown",
   "metadata": {},
   "source": [
    "#### Test-Train-Split:\n",
    "- X = copy of all features and the response variable of dataset\n",
    "- y = all features within dataset *excluding the response (target) variable*\n",
    "- test_size = represents the proportion of the dataset (as a percentage) to include in the test split\n",
    "- random_state = the seed used by the random number generator"
   ]
  },
  {
   "cell_type": "code",
   "execution_count": 44,
   "metadata": {},
   "outputs": [],
   "source": [
    "# Entire dataset (even with response variable)\n",
    "X = data.copy()\n",
    "\n",
    "# Dataset *minus* the response variable\n",
    "y = X.pop(8)"
   ]
  },
  {
   "cell_type": "code",
   "execution_count": 119,
   "metadata": {},
   "outputs": [
    {
     "data": {
      "text/plain": [
       "(16, 9, 16, 9)"
      ]
     },
     "execution_count": 119,
     "metadata": {},
     "output_type": "execute_result"
    }
   ],
   "source": [
    "# Create train and test data sets with train_test_split\n",
    "X_train, X_test, y_train, y_test = train_test_split(X, y, test_size=0.33, random_state=42)\n",
    "len(X_train), len(X_test), len(y_train), len(y_test)"
   ]
  },
  {
   "cell_type": "markdown",
   "metadata": {},
   "source": [
    "#### For Random Forest Classifiers:\n",
    "- n_estimators: choosing 100 is a straight forward value\n",
    "- max_depth: the level of complexity/freedom - values 2 to 6 is usually fine, though starting at 2 is recommended\n",
    "- random_state: the seed for the random number generator - makes a model replicatable - any number is fine"
   ]
  },
  {
   "cell_type": "code",
   "execution_count": 120,
   "metadata": {},
   "outputs": [],
   "source": [
    "# Create a Random Forest Classifier incidence \n",
    "rfc_model = RandomForestClassifier(n_estimators=100, max_depth=2, random_state=0)"
   ]
  },
  {
   "cell_type": "code",
   "execution_count": 122,
   "metadata": {},
   "outputs": [
    {
     "name": "stdout",
     "output_type": "stream",
     "text": [
      "Training Y Data\n",
      "[13  9  2 12 14  5  6  3  1  4  0 11 10  7  8 12]\n",
      "continuous\n",
      "multiclass\n",
      "multiclass\n",
      "...\n",
      "Testing Y Data\n",
      "[8 7 2 5 1 6 3 4 0]\n",
      "continuous\n",
      "multiclass\n",
      "multiclass\n"
     ]
    },
    {
     "data": {
      "text/plain": [
       "(16, 9)"
      ]
     },
     "execution_count": 122,
     "metadata": {},
     "output_type": "execute_result"
    }
   ],
   "source": [
    "# Fix Error Random Forest Error \n",
    "# Unknown label type: 'continuous'\n",
    "lab_enc = preprocessing.LabelEncoder()\n",
    "\n",
    "# Transform y data to not be 'continuous'\n",
    "y_scores_encoded = lab_enc.fit_transform(y)\n",
    "\n",
    "# Transform y_train data to not be 'continuous'\n",
    "training_scores_encoded = lab_enc.fit_transform(y_train)\n",
    "\n",
    "# Transform y_test data to not be 'continuous'\n",
    "testing_scores_encoded = lab_enc.fit_transform(y_test)\n",
    "\n",
    "# Verify Output\n",
    "print('Training Y Data')\n",
    "print(training_scores_encoded)\n",
    "print(utils.multiclass.type_of_target(y_train))\n",
    "print(utils.multiclass.type_of_target(y_train.astype('int')))\n",
    "print(utils.multiclass.type_of_target(training_scores_encoded))\n",
    "print('...')\n",
    "print('Testing Y Data')\n",
    "print(testing_scores_encoded)\n",
    "print(utils.multiclass.type_of_target(y_test))\n",
    "print(utils.multiclass.type_of_target(y_test.astype('int')))\n",
    "print(utils.multiclass.type_of_target(testing_scores_encoded))\n",
    "len(training_scores_encoded), len(testing_scores_encoded)"
   ]
  },
  {
   "cell_type": "code",
   "execution_count": 48,
   "metadata": {},
   "outputs": [
    {
     "data": {
      "text/plain": [
       "RandomForestClassifier(bootstrap=True, class_weight=None, criterion='gini',\n",
       "            max_depth=2, max_features='auto', max_leaf_nodes=None,\n",
       "            min_impurity_decrease=0.0, min_impurity_split=None,\n",
       "            min_samples_leaf=1, min_samples_split=2,\n",
       "            min_weight_fraction_leaf=0.0, n_estimators=100, n_jobs=1,\n",
       "            oob_score=False, random_state=0, verbose=0, warm_start=False)"
      ]
     },
     "execution_count": 48,
     "metadata": {},
     "output_type": "execute_result"
    }
   ],
   "source": [
    "# Fit train data to Random Forest Classifier\n",
    "rfc_model.fit(X_train, training_scores_encoded)"
   ]
  },
  {
   "cell_type": "code",
   "execution_count": 98,
   "metadata": {},
   "outputs": [
    {
     "data": {
      "text/plain": [
       "array([[1, 0, 0, 0, 0, 0, 0, 0, 0, 0, 0, 0, 0],\n",
       "       [0, 0, 0, 0, 0, 0, 0, 0, 0, 0, 0, 1, 0],\n",
       "       [0, 0, 0, 0, 0, 0, 0, 0, 0, 1, 0, 0, 0],\n",
       "       [0, 0, 0, 0, 0, 0, 0, 1, 0, 0, 0, 0, 0],\n",
       "       [0, 0, 0, 0, 0, 0, 0, 0, 0, 0, 0, 0, 1],\n",
       "       [0, 1, 0, 0, 0, 0, 0, 0, 0, 0, 0, 0, 0],\n",
       "       [0, 0, 0, 0, 0, 0, 0, 0, 0, 0, 0, 0, 1],\n",
       "       [0, 0, 0, 0, 0, 0, 0, 0, 0, 0, 0, 0, 1],\n",
       "       [0, 0, 0, 0, 0, 0, 0, 0, 0, 0, 1, 0, 0],\n",
       "       [0, 0, 0, 0, 0, 0, 0, 0, 0, 0, 0, 0, 0],\n",
       "       [0, 0, 0, 0, 0, 0, 0, 0, 0, 0, 0, 0, 0],\n",
       "       [0, 0, 0, 0, 0, 0, 0, 0, 0, 0, 0, 0, 0],\n",
       "       [0, 0, 0, 0, 0, 0, 0, 0, 0, 0, 0, 0, 0]])"
      ]
     },
     "execution_count": 98,
     "metadata": {},
     "output_type": "execute_result"
    }
   ],
   "source": [
    "# Compute the confusion_matrix to evaluate the accuracy of a classification\n",
    "conf_matrix = confusion_matrix(testing_scores_encoded, rfc_model.predict(X_test))\n",
    "conf_matrix "
   ]
  },
  {
   "cell_type": "code",
   "execution_count": 123,
   "metadata": {},
   "outputs": [
    {
     "data": {
      "text/plain": [
       "<matplotlib.axes._subplots.AxesSubplot at 0x1a18757f98>"
      ]
     },
     "execution_count": 123,
     "metadata": {},
     "output_type": "execute_result"
    },
    {
     "data": {
      "image/png": "[encoded data removed]",
      "text/plain": [
       "<Figure size 720x504 with 2 Axes>"
      ]
     },
     "metadata": {
      "needs_background": "light"
     },
     "output_type": "display_data"
    }
   ],
   "source": [
    "# Plot confusion_matrix\n",
    "plt.figure(figsize = (10,7))\n",
    "sns.heatmap(conf_matrix, annot=True)"
   ]
  },
  {
   "cell_type": "markdown",
   "metadata": {},
   "source": [
    "#### For Linear Regression Analysis:\n",
    "- fit_intercept: Default(True) = calculate the intercept for this model\n",
    "- normalize: Regressors X will be normalized before regression by subtracting the mean and dividing by the l2-norm\n",
    "- n_jobs: The number of jobs to use for the computation"
   ]
  },
  {
   "cell_type": "code",
   "execution_count": 87,
   "metadata": {},
   "outputs": [
    {
     "data": {
      "text/plain": [
       "LinearRegression(copy_X=True, fit_intercept=True, n_jobs=1, normalize=False)"
      ]
     },
     "execution_count": 87,
     "metadata": {},
     "output_type": "execute_result"
    }
   ],
   "source": [
    "# Create a Linear Regression incidence \n",
    "clf_lin = LinearRegression().fit(X, y_scores_encoded)\n",
    "clf_lin"
   ]
  },
  {
   "cell_type": "code",
   "execution_count": 125,
   "metadata": {},
   "outputs": [
    {
     "ename": "ValueError",
     "evalue": "shapes (50,1) and (8,) not aligned: 1 (dim 1) != 8 (dim 0)",
     "output_type": "error",
     "traceback": [
      "\u001b[0;31m---------------------------------------------------------------------------\u001b[0m",
      "\u001b[0;31mValueError\u001b[0m                                Traceback (most recent call last)",
      "\u001b[0;32m<ipython-input-125-79dc29b2f216>\u001b[0m in \u001b[0;36m<module>\u001b[0;34m()\u001b[0m\n\u001b[1;32m      3\u001b[0m \u001b[0;34m\u001b[0m\u001b[0m\n\u001b[1;32m      4\u001b[0m \u001b[0;31m# Compute predictions over the prediction space: y_pred\u001b[0m\u001b[0;34m\u001b[0m\u001b[0;34m\u001b[0m\u001b[0;34m\u001b[0m\u001b[0m\n\u001b[0;32m----> 5\u001b[0;31m \u001b[0my_pred\u001b[0m \u001b[0;34m=\u001b[0m \u001b[0mclf_lin\u001b[0m\u001b[0;34m.\u001b[0m\u001b[0mpredict\u001b[0m\u001b[0;34m(\u001b[0m\u001b[0mprediction_space\u001b[0m\u001b[0;34m)\u001b[0m\u001b[0;34m\u001b[0m\u001b[0;34m\u001b[0m\u001b[0m\n\u001b[0m\u001b[1;32m      6\u001b[0m \u001b[0;34m\u001b[0m\u001b[0m\n\u001b[1;32m      7\u001b[0m \u001b[0;31m# Print R^2\u001b[0m\u001b[0;34m\u001b[0m\u001b[0;34m\u001b[0m\u001b[0;34m\u001b[0m\u001b[0m\n",
      "\u001b[0;32m/anaconda3/lib/python3.7/site-packages/sklearn/linear_model/base.py\u001b[0m in \u001b[0;36mpredict\u001b[0;34m(self, X)\u001b[0m\n\u001b[1;32m    254\u001b[0m             \u001b[0mReturns\u001b[0m \u001b[0mpredicted\u001b[0m \u001b[0mvalues\u001b[0m\u001b[0;34m.\u001b[0m\u001b[0;34m\u001b[0m\u001b[0;34m\u001b[0m\u001b[0m\n\u001b[1;32m    255\u001b[0m         \"\"\"\n\u001b[0;32m--> 256\u001b[0;31m         \u001b[0;32mreturn\u001b[0m \u001b[0mself\u001b[0m\u001b[0;34m.\u001b[0m\u001b[0m_decision_function\u001b[0m\u001b[0;34m(\u001b[0m\u001b[0mX\u001b[0m\u001b[0;34m)\u001b[0m\u001b[0;34m\u001b[0m\u001b[0;34m\u001b[0m\u001b[0m\n\u001b[0m\u001b[1;32m    257\u001b[0m \u001b[0;34m\u001b[0m\u001b[0m\n\u001b[1;32m    258\u001b[0m     \u001b[0m_preprocess_data\u001b[0m \u001b[0;34m=\u001b[0m \u001b[0mstaticmethod\u001b[0m\u001b[0;34m(\u001b[0m\u001b[0m_preprocess_data\u001b[0m\u001b[0;34m)\u001b[0m\u001b[0;34m\u001b[0m\u001b[0;34m\u001b[0m\u001b[0m\n",
      "\u001b[0;32m/anaconda3/lib/python3.7/site-packages/sklearn/linear_model/base.py\u001b[0m in \u001b[0;36m_decision_function\u001b[0;34m(self, X)\u001b[0m\n\u001b[1;32m    239\u001b[0m         \u001b[0mX\u001b[0m \u001b[0;34m=\u001b[0m \u001b[0mcheck_array\u001b[0m\u001b[0;34m(\u001b[0m\u001b[0mX\u001b[0m\u001b[0;34m,\u001b[0m \u001b[0maccept_sparse\u001b[0m\u001b[0;34m=\u001b[0m\u001b[0;34m[\u001b[0m\u001b[0;34m'csr'\u001b[0m\u001b[0;34m,\u001b[0m \u001b[0;34m'csc'\u001b[0m\u001b[0;34m,\u001b[0m \u001b[0;34m'coo'\u001b[0m\u001b[0;34m]\u001b[0m\u001b[0;34m)\u001b[0m\u001b[0;34m\u001b[0m\u001b[0;34m\u001b[0m\u001b[0m\n\u001b[1;32m    240\u001b[0m         return safe_sparse_dot(X, self.coef_.T,\n\u001b[0;32m--> 241\u001b[0;31m                                dense_output=True) + self.intercept_\n\u001b[0m\u001b[1;32m    242\u001b[0m \u001b[0;34m\u001b[0m\u001b[0m\n\u001b[1;32m    243\u001b[0m     \u001b[0;32mdef\u001b[0m \u001b[0mpredict\u001b[0m\u001b[0;34m(\u001b[0m\u001b[0mself\u001b[0m\u001b[0;34m,\u001b[0m \u001b[0mX\u001b[0m\u001b[0;34m)\u001b[0m\u001b[0;34m:\u001b[0m\u001b[0;34m\u001b[0m\u001b[0;34m\u001b[0m\u001b[0m\n",
      "\u001b[0;32m/anaconda3/lib/python3.7/site-packages/sklearn/utils/extmath.py\u001b[0m in \u001b[0;36msafe_sparse_dot\u001b[0;34m(a, b, dense_output)\u001b[0m\n\u001b[1;32m    138\u001b[0m         \u001b[0;32mreturn\u001b[0m \u001b[0mret\u001b[0m\u001b[0;34m\u001b[0m\u001b[0;34m\u001b[0m\u001b[0m\n\u001b[1;32m    139\u001b[0m     \u001b[0;32melse\u001b[0m\u001b[0;34m:\u001b[0m\u001b[0;34m\u001b[0m\u001b[0;34m\u001b[0m\u001b[0m\n\u001b[0;32m--> 140\u001b[0;31m         \u001b[0;32mreturn\u001b[0m \u001b[0mnp\u001b[0m\u001b[0;34m.\u001b[0m\u001b[0mdot\u001b[0m\u001b[0;34m(\u001b[0m\u001b[0ma\u001b[0m\u001b[0;34m,\u001b[0m \u001b[0mb\u001b[0m\u001b[0;34m)\u001b[0m\u001b[0;34m\u001b[0m\u001b[0;34m\u001b[0m\u001b[0m\n\u001b[0m\u001b[1;32m    141\u001b[0m \u001b[0;34m\u001b[0m\u001b[0m\n\u001b[1;32m    142\u001b[0m \u001b[0;34m\u001b[0m\u001b[0m\n",
      "\u001b[0;31mValueError\u001b[0m: shapes (50,1) and (8,) not aligned: 1 (dim 1) != 8 (dim 0)"
     ]
    }
   ],
   "source": [
    "# Create the prediction space\n",
    "prediction_space = np.linspace(min(X), max(X)).reshape(-1,1)\n",
    "\n",
    "# Compute predictions over the prediction space: y_pred\n",
    "y_pred = clf_lin.predict(prediction_space)\n",
    "\n",
    "# Print R^2 \n",
    "print(clf_lin.score(X, y_scores_encoded))\n",
    "\n",
    "# Plot regression line\n",
    "plt.plot(prediction_space, y_pred, color='black', linewidth=3)\n",
    "plt.show()"
   ]
  },
  {
   "cell_type": "markdown",
   "metadata": {},
   "source": [
    "#### Compute the Root Mean Squared Error (RMSE) \n",
    "- Used measure of the differences between values predicted by a model and the values observed \n",
    "- RMSE is always non-negative\n",
    "- A value of 0 would indicate a perfect fit to the data. \n",
    "In general, a lower RMSD is better than a higher one. "
   ]
  },
  {
   "cell_type": "code",
   "execution_count": 109,
   "metadata": {},
   "outputs": [
    {
     "name": "stdout",
     "output_type": "stream",
     "text": [
      "R^2: -13.759755192907654\n",
      "Root Mean Squared Error (RMSE): 9.919595150645902\n"
     ]
    }
   ],
   "source": [
    "# Predict on the test data: y_pred\n",
    "y_pred_lin = clf_lin.predict(X_test)\n",
    "\n",
    "# Compute and print R^2 and RMSE\n",
    "print(\"R^2: {}\".format(clf_lin.score(X_test, testing_scores_encoded)))\n",
    "rmse = np.sqrt(mean_squared_error(testing_scores_encoded, y_pred_lin))\n",
    "print(\"Root Mean Squared Error (RMSE): {}\".format(rmse))"
   ]
  },
  {
   "cell_type": "code",
   "execution_count": 82,
   "metadata": {},
   "outputs": [
    {
     "name": "stdout",
     "output_type": "stream",
     "text": [
      "Average 5-Fold CV Score: -4.46677964768328\n",
      "Correlation Coefficients:  [-2.09932722e-01  5.39781803e-06 -5.62148225e-06 -6.57666693e-04\n",
      "  6.86055563e-04 -3.81382719e+00  4.70764176e-01 -1.26349553e+01]\n",
      "Linear Regression Intercept:  323.7263254368376\n"
     ]
    }
   ],
   "source": [
    "# Compute 5-fold cross-validation scores: cv_scores\n",
    "cv_scores = cross_val_score(clf_lin, X, y_scores_encoded, cv=5)\n",
    "print(\"Average 5-Fold CV Score: {}\".format(np.mean(cv_scores)))\n",
    "\n",
    "# Coefficient\n",
    "clf_coef = clf_lin.coef_\n",
    "print('Correlation Coefficients: ', clf_coef)\n",
    "\n",
    "# Intercept\n",
    "clf_int = clf_lin.intercept_\n",
    "print('Linear Regression Intercept: ', clf_int)"
   ]
  },
  {
   "cell_type": "code",
   "execution_count": 117,
   "metadata": {},
   "outputs": [
    {
     "ename": "ValueError",
     "evalue": "x and y must be the same size",
     "output_type": "error",
     "traceback": [
      "\u001b[0;31m---------------------------------------------------------------------------\u001b[0m",
      "\u001b[0;31mValueError\u001b[0m                                Traceback (most recent call last)",
      "\u001b[0;32m<ipython-input-117-f09cb725f2ca>\u001b[0m in \u001b[0;36m<module>\u001b[0;34m()\u001b[0m\n\u001b[1;32m      1\u001b[0m \u001b[0;31m# Plot outputs\u001b[0m\u001b[0;34m\u001b[0m\u001b[0;34m\u001b[0m\u001b[0;34m\u001b[0m\u001b[0m\n\u001b[0;32m----> 2\u001b[0;31m \u001b[0mplt\u001b[0m\u001b[0;34m.\u001b[0m\u001b[0mscatter\u001b[0m\u001b[0;34m(\u001b[0m\u001b[0mX_test\u001b[0m\u001b[0;34m,\u001b[0m \u001b[0mtesting_scores_encoded\u001b[0m\u001b[0;34m,\u001b[0m  \u001b[0mcolor\u001b[0m\u001b[0;34m=\u001b[0m\u001b[0;34m'black'\u001b[0m\u001b[0;34m)\u001b[0m\u001b[0;34m\u001b[0m\u001b[0;34m\u001b[0m\u001b[0m\n\u001b[0m\u001b[1;32m      3\u001b[0m \u001b[0mplt\u001b[0m\u001b[0;34m.\u001b[0m\u001b[0mplot\u001b[0m\u001b[0;34m(\u001b[0m\u001b[0mX_test\u001b[0m\u001b[0;34m,\u001b[0m \u001b[0my_pred_lin\u001b[0m\u001b[0;34m,\u001b[0m \u001b[0mcolor\u001b[0m\u001b[0;34m=\u001b[0m\u001b[0;34m'blue'\u001b[0m\u001b[0;34m,\u001b[0m \u001b[0mlinewidth\u001b[0m\u001b[0;34m=\u001b[0m\u001b[0;36m3\u001b[0m\u001b[0;34m)\u001b[0m\u001b[0;34m\u001b[0m\u001b[0;34m\u001b[0m\u001b[0m\n\u001b[1;32m      4\u001b[0m \u001b[0;34m\u001b[0m\u001b[0m\n\u001b[1;32m      5\u001b[0m \u001b[0mplt\u001b[0m\u001b[0;34m.\u001b[0m\u001b[0mxticks\u001b[0m\u001b[0;34m(\u001b[0m\u001b[0;34m(\u001b[0m\u001b[0;34m)\u001b[0m\u001b[0;34m)\u001b[0m\u001b[0;34m\u001b[0m\u001b[0;34m\u001b[0m\u001b[0m\n",
      "\u001b[0;32m/anaconda3/lib/python3.7/site-packages/matplotlib/pyplot.py\u001b[0m in \u001b[0;36mscatter\u001b[0;34m(x, y, s, c, marker, cmap, norm, vmin, vmax, alpha, linewidths, verts, edgecolors, hold, data, **kwargs)\u001b[0m\n\u001b[1;32m   3473\u001b[0m                          \u001b[0mvmin\u001b[0m\u001b[0;34m=\u001b[0m\u001b[0mvmin\u001b[0m\u001b[0;34m,\u001b[0m \u001b[0mvmax\u001b[0m\u001b[0;34m=\u001b[0m\u001b[0mvmax\u001b[0m\u001b[0;34m,\u001b[0m \u001b[0malpha\u001b[0m\u001b[0;34m=\u001b[0m\u001b[0malpha\u001b[0m\u001b[0;34m,\u001b[0m\u001b[0;34m\u001b[0m\u001b[0;34m\u001b[0m\u001b[0m\n\u001b[1;32m   3474\u001b[0m                          \u001b[0mlinewidths\u001b[0m\u001b[0;34m=\u001b[0m\u001b[0mlinewidths\u001b[0m\u001b[0;34m,\u001b[0m \u001b[0mverts\u001b[0m\u001b[0;34m=\u001b[0m\u001b[0mverts\u001b[0m\u001b[0;34m,\u001b[0m\u001b[0;34m\u001b[0m\u001b[0;34m\u001b[0m\u001b[0m\n\u001b[0;32m-> 3475\u001b[0;31m                          edgecolors=edgecolors, data=data, **kwargs)\n\u001b[0m\u001b[1;32m   3476\u001b[0m     \u001b[0;32mfinally\u001b[0m\u001b[0;34m:\u001b[0m\u001b[0;34m\u001b[0m\u001b[0;34m\u001b[0m\u001b[0m\n\u001b[1;32m   3477\u001b[0m         \u001b[0max\u001b[0m\u001b[0;34m.\u001b[0m\u001b[0m_hold\u001b[0m \u001b[0;34m=\u001b[0m \u001b[0mwashold\u001b[0m\u001b[0;34m\u001b[0m\u001b[0;34m\u001b[0m\u001b[0m\n",
      "\u001b[0;32m/anaconda3/lib/python3.7/site-packages/matplotlib/__init__.py\u001b[0m in \u001b[0;36minner\u001b[0;34m(ax, *args, **kwargs)\u001b[0m\n\u001b[1;32m   1865\u001b[0m                         \u001b[0;34m\"the Matplotlib list!)\"\u001b[0m \u001b[0;34m%\u001b[0m \u001b[0;34m(\u001b[0m\u001b[0mlabel_namer\u001b[0m\u001b[0;34m,\u001b[0m \u001b[0mfunc\u001b[0m\u001b[0;34m.\u001b[0m\u001b[0m__name__\u001b[0m\u001b[0;34m)\u001b[0m\u001b[0;34m,\u001b[0m\u001b[0;34m\u001b[0m\u001b[0;34m\u001b[0m\u001b[0m\n\u001b[1;32m   1866\u001b[0m                         RuntimeWarning, stacklevel=2)\n\u001b[0;32m-> 1867\u001b[0;31m             \u001b[0;32mreturn\u001b[0m \u001b[0mfunc\u001b[0m\u001b[0;34m(\u001b[0m\u001b[0max\u001b[0m\u001b[0;34m,\u001b[0m \u001b[0;34m*\u001b[0m\u001b[0margs\u001b[0m\u001b[0;34m,\u001b[0m \u001b[0;34m**\u001b[0m\u001b[0mkwargs\u001b[0m\u001b[0;34m)\u001b[0m\u001b[0;34m\u001b[0m\u001b[0;34m\u001b[0m\u001b[0m\n\u001b[0m\u001b[1;32m   1868\u001b[0m \u001b[0;34m\u001b[0m\u001b[0m\n\u001b[1;32m   1869\u001b[0m         inner.__doc__ = _add_data_doc(inner.__doc__,\n",
      "\u001b[0;32m/anaconda3/lib/python3.7/site-packages/matplotlib/axes/_axes.py\u001b[0m in \u001b[0;36mscatter\u001b[0;34m(self, x, y, s, c, marker, cmap, norm, vmin, vmax, alpha, linewidths, verts, edgecolors, **kwargs)\u001b[0m\n\u001b[1;32m   4255\u001b[0m         \u001b[0my\u001b[0m \u001b[0;34m=\u001b[0m \u001b[0mnp\u001b[0m\u001b[0;34m.\u001b[0m\u001b[0mma\u001b[0m\u001b[0;34m.\u001b[0m\u001b[0mravel\u001b[0m\u001b[0;34m(\u001b[0m\u001b[0my\u001b[0m\u001b[0;34m)\u001b[0m\u001b[0;34m\u001b[0m\u001b[0;34m\u001b[0m\u001b[0m\n\u001b[1;32m   4256\u001b[0m         \u001b[0;32mif\u001b[0m \u001b[0mx\u001b[0m\u001b[0;34m.\u001b[0m\u001b[0msize\u001b[0m \u001b[0;34m!=\u001b[0m \u001b[0my\u001b[0m\u001b[0;34m.\u001b[0m\u001b[0msize\u001b[0m\u001b[0;34m:\u001b[0m\u001b[0;34m\u001b[0m\u001b[0;34m\u001b[0m\u001b[0m\n\u001b[0;32m-> 4257\u001b[0;31m             \u001b[0;32mraise\u001b[0m \u001b[0mValueError\u001b[0m\u001b[0;34m(\u001b[0m\u001b[0;34m\"x and y must be the same size\"\u001b[0m\u001b[0;34m)\u001b[0m\u001b[0;34m\u001b[0m\u001b[0;34m\u001b[0m\u001b[0m\n\u001b[0m\u001b[1;32m   4258\u001b[0m \u001b[0;34m\u001b[0m\u001b[0m\n\u001b[1;32m   4259\u001b[0m         \u001b[0;32mif\u001b[0m \u001b[0ms\u001b[0m \u001b[0;32mis\u001b[0m \u001b[0;32mNone\u001b[0m\u001b[0;34m:\u001b[0m\u001b[0;34m\u001b[0m\u001b[0;34m\u001b[0m\u001b[0m\n",
      "\u001b[0;31mValueError\u001b[0m: x and y must be the same size"
     ]
    },
    {
     "data": {
      "image/png": "[encoded data removed]",
      "text/plain": [
       "<Figure size 432x288 with 1 Axes>"
      ]
     },
     "metadata": {
      "needs_background": "light"
     },
     "output_type": "display_data"
    }
   ],
   "source": [
    "# Plot outputs\n",
    "plt.scatter(X_test, testing_scores_encoded,  color='black')\n",
    "plt.plot(X_test, y_pred_lin, color='blue', linewidth=3)\n",
    "\n",
    "plt.xticks(())\n",
    "plt.yticks(())\n",
    "\n",
    "plt.show()"
   ]
  },
  {
   "cell_type": "markdown",
   "metadata": {},
   "source": [
    "#### K-Neighbors Classification\n",
    "- Supervised neighbors classification for data with discrete labels"
   ]
  },
  {
   "cell_type": "code",
   "execution_count": 101,
   "metadata": {},
   "outputs": [
    {
     "data": {
      "text/plain": [
       "['State',\n",
       " 'State Population 2010',\n",
       " 'State Population 2015',\n",
       " 'State GDP 2010',\n",
       " 'State GDP 2015',\n",
       " 'μ Age Maternal Mortality',\n",
       " 'μ Age Variance',\n",
       " 'μ Age Adolescent Maternal Death']"
      ]
     },
     "execution_count": 101,
     "metadata": {},
     "output_type": "execute_result"
    }
   ],
   "source": [
    "# Define features\n",
    "features = list(data.keys())[:-1]\n",
    "features"
   ]
  },
  {
   "cell_type": "code",
   "execution_count": 112,
   "metadata": {},
   "outputs": [
    {
     "name": "stdout",
     "output_type": "stream",
     "text": [
      "[[1 0 0 0 0 0 0 0 0 0]\n",
      " [1 0 0 0 0 0 0 0 0 0]\n",
      " [1 0 0 0 0 0 0 0 0 0]\n",
      " [1 0 0 0 0 0 0 0 0 0]\n",
      " [0 0 0 0 0 0 0 0 0 1]\n",
      " [0 0 0 0 0 0 0 0 0 1]\n",
      " [0 0 0 0 0 0 0 0 0 1]\n",
      " [1 0 0 0 0 0 0 0 0 0]\n",
      " [1 0 0 0 0 0 0 0 0 0]\n",
      " [0 0 0 0 0 0 0 0 0 0]]\n",
      "             precision    recall  f1-score   support\n",
      "\n",
      "          0       0.17      1.00      0.29         1\n",
      "          1       0.00      0.00      0.00         1\n",
      "          2       0.00      0.00      0.00         1\n",
      "          3       0.00      0.00      0.00         1\n",
      "          4       0.00      0.00      0.00         1\n",
      "          5       0.00      0.00      0.00         1\n",
      "          6       0.00      0.00      0.00         1\n",
      "          7       0.00      0.00      0.00         1\n",
      "          8       0.00      0.00      0.00         1\n",
      "         12       0.00      0.00      0.00         0\n",
      "\n",
      "avg / total       0.02      0.11      0.03         9\n",
      "\n"
     ]
    },
    {
     "name": "stderr",
     "output_type": "stream",
     "text": [
      "/anaconda3/lib/python3.7/site-packages/sklearn/metrics/classification.py:1135: UndefinedMetricWarning: Precision and F-score are ill-defined and being set to 0.0 in labels with no predicted samples.\n",
      "  'precision', 'predicted', average, warn_for)\n",
      "/anaconda3/lib/python3.7/site-packages/sklearn/metrics/classification.py:1137: UndefinedMetricWarning: Recall and F-score are ill-defined and being set to 0.0 in labels with no true samples.\n",
      "  'recall', 'true', average, warn_for)\n"
     ]
    }
   ],
   "source": [
    "# Define number of K-Neighbors\n",
    "neighbors = 8\n",
    "knn = KNeighborsClassifier(neighbors)\n",
    "\n",
    "# Fit the classifier to the training data\n",
    "knn.fit(X_train, training_scores_encoded)\n",
    "\n",
    "# Predict the labels of the test data: y_pred\n",
    "y_pred_knn = knn.predict(X_test)\n",
    "\n",
    "# Generate the confusion matrix and classification report\n",
    "print(confusion_matrix(testing_scores_encoded, y_pred_knn))\n",
    "print(classification_report(testing_scores_encoded, y_pred_knn))"
   ]
  },
  {
   "cell_type": "code",
   "execution_count": null,
   "metadata": {},
   "outputs": [],
   "source": []
  },
  {
   "cell_type": "code",
   "execution_count": null,
   "metadata": {},
   "outputs": [],
   "source": []
  },
  {
   "cell_type": "code",
   "execution_count": null,
   "metadata": {},
   "outputs": [],
   "source": []
  },
  {
   "cell_type": "code",
   "execution_count": null,
   "metadata": {},
   "outputs": [],
   "source": []
  }
 ],
 "metadata": {
  "kernelspec": {
   "display_name": "Python 3",
   "language": "python",
   "name": "python3"
  },
  "language_info": {
   "codemirror_mode": {
    "name": "ipython",
    "version": 3
   },
   "file_extension": ".py",
   "mimetype": "text/x-python",
   "name": "python",
   "nbconvert_exporter": "python",
   "pygments_lexer": "ipython3",
   "version": "3.7.2"
  }
 },
 "nbformat": 4,
 "nbformat_minor": 2
}
