{
 "cells": [
  {
   "cell_type": "markdown",
   "metadata": {},
   "source": [
    "## What factors contribute to lower rates of adolescent maternal mortality long-term?"
   ]
  },
  {
   "cell_type": "markdown",
   "metadata": {},
   "source": [
    "The following methods consist of: Random Forest Classifier, KNeighbors Classifier, Logistic Regression, and Gaussian Naive Bayes.  For the interpretation of differences between individual parameters of the mothers in two classes predicted failure (maternal mortality) verses prediction success (maternal vitality), the problem of classification via using the decision tree can be solved. The target is prediction failure class.\n",
    "\n",
    "Target Variable - Percent Above(0) and Below(1) μ Population Age of Maternal Mortality - Binary Linear Regression"
   ]
  },
  {
   "cell_type": "code",
   "execution_count": 1,
   "metadata": {},
   "outputs": [
    {
     "name": "stderr",
     "output_type": "stream",
     "text": [
      "/anaconda3/lib/python3.7/site-packages/sklearn/ensemble/weight_boosting.py:29: DeprecationWarning: numpy.core.umath_tests is an internal NumPy module and should not be imported. It will be removed in a future NumPy release.\n",
      "  from numpy.core.umath_tests import inner1d\n"
     ]
    }
   ],
   "source": [
    "# Import the relevant modules\n",
    "import pandas as pd\n",
    "import numpy as np\n",
    "import seaborn as sns\n",
    "import matplotlib.pyplot as plt \n",
    "from matplotlib.colors import ListedColormap\n",
    "\n",
    "# Machine Learning modules\n",
    "from sklearn.tree import DecisionTreeClassifier\n",
    "from sklearn.ensemble import RandomForestClassifier\n",
    "from sklearn.tree import export_graphviz\n",
    "from sklearn.naive_bayes import GaussianNB\n",
    "\n",
    "# Logistic Regression\n",
    "from sklearn.model_selection import train_test_split\n",
    "from sklearn.linear_model import LogisticRegression\n",
    "# Accuracy\n",
    "from sklearn.model_selection import GridSearchCV\n",
    "from sklearn.model_selection import KFold\n",
    "from sklearn.metrics import accuracy_score\n",
    "\n",
    "# K-Nearest Neighbors\n",
    "from sklearn.neighbors import KNeighborsClassifier\n",
    "from sklearn import neighbors\n",
    "from sklearn.metrics import classification_report, confusion_matrix\n",
    "\n",
    "# ROC Curve\n",
    "from sklearn.metrics import roc_curve\n",
    "\n",
    "# Error Handling for Random Forest Tree\n",
    "from sklearn import preprocessing\n",
    "from sklearn import utils"
   ]
  },
  {
   "cell_type": "code",
   "execution_count": 2,
   "metadata": {},
   "outputs": [],
   "source": [
    "# Open merged materna_mortal_factors dataset\n",
    "%store -r metro_gdp_mortality"
   ]
  },
  {
   "cell_type": "code",
   "execution_count": 3,
   "metadata": {},
   "outputs": [
    {
     "data": {
      "text/html": [
       "<div>\n",
       "<style scoped>\n",
       "    .dataframe tbody tr th:only-of-type {\n",
       "        vertical-align: middle;\n",
       "    }\n",
       "\n",
       "    .dataframe tbody tr th {\n",
       "        vertical-align: top;\n",
       "    }\n",
       "\n",
       "    .dataframe thead th {\n",
       "        text-align: right;\n",
       "    }\n",
       "</style>\n",
       "<table border=\"1\" class=\"dataframe\">\n",
       "  <thead>\n",
       "    <tr style=\"text-align: right;\">\n",
       "      <th></th>\n",
       "      <th>State</th>\n",
       "      <th>State Population 2015</th>\n",
       "      <th>State GDP 2015</th>\n",
       "      <th>μ Age Maternal Mortality</th>\n",
       "      <th>Above(0)/Below(1) μ Pop Age</th>\n",
       "      <th>μ Age Variance</th>\n",
       "      <th>Total Maternal Mortality (n)</th>\n",
       "      <th>μ Age Adolescent Maternal Mortality</th>\n",
       "      <th>μ Age Adolescent Variance</th>\n",
       "      <th>Adolescent Maternal Mortality (n)</th>\n",
       "      <th>Total Percent Maternal Mortality 2015</th>\n",
       "      <th>Adolescent Percent Maternal Mortality 2015</th>\n",
       "    </tr>\n",
       "  </thead>\n",
       "  <tbody>\n",
       "    <tr>\n",
       "      <th>0</th>\n",
       "      <td>Aguascalientes</td>\n",
       "      <td>1044049</td>\n",
       "      <td>19528.0</td>\n",
       "      <td>28.36</td>\n",
       "      <td>0</td>\n",
       "      <td>55.16</td>\n",
       "      <td>127</td>\n",
       "      <td>18.08</td>\n",
       "      <td>2.55</td>\n",
       "      <td>25</td>\n",
       "      <td>0.0122</td>\n",
       "      <td>0.0024</td>\n",
       "    </tr>\n",
       "    <tr>\n",
       "      <th>1</th>\n",
       "      <td>Baja California</td>\n",
       "      <td>3315766</td>\n",
       "      <td>57136.0</td>\n",
       "      <td>27.15</td>\n",
       "      <td>1</td>\n",
       "      <td>46.31</td>\n",
       "      <td>361</td>\n",
       "      <td>18.00</td>\n",
       "      <td>2.70</td>\n",
       "      <td>69</td>\n",
       "      <td>0.0109</td>\n",
       "      <td>0.0008</td>\n",
       "    </tr>\n",
       "    <tr>\n",
       "      <th>4</th>\n",
       "      <td>Baja California Sur</td>\n",
       "      <td>272711</td>\n",
       "      <td>21431.0</td>\n",
       "      <td>27.56</td>\n",
       "      <td>1</td>\n",
       "      <td>55.37</td>\n",
       "      <td>66</td>\n",
       "      <td>18.00</td>\n",
       "      <td>3.25</td>\n",
       "      <td>16</td>\n",
       "      <td>0.0242</td>\n",
       "      <td>0.0092</td>\n",
       "    </tr>\n",
       "    <tr>\n",
       "      <th>5</th>\n",
       "      <td>Campeche</td>\n",
       "      <td>283025</td>\n",
       "      <td>NaN</td>\n",
       "      <td>26.87</td>\n",
       "      <td>1</td>\n",
       "      <td>44.29</td>\n",
       "      <td>126</td>\n",
       "      <td>18.00</td>\n",
       "      <td>4.18</td>\n",
       "      <td>22</td>\n",
       "      <td>0.0445</td>\n",
       "      <td>0.0088</td>\n",
       "    </tr>\n",
       "    <tr>\n",
       "      <th>6</th>\n",
       "      <td>Chiapas</td>\n",
       "      <td>1162592</td>\n",
       "      <td>13392.0</td>\n",
       "      <td>28.02</td>\n",
       "      <td>1</td>\n",
       "      <td>45.02</td>\n",
       "      <td>1235</td>\n",
       "      <td>18.33</td>\n",
       "      <td>2.57</td>\n",
       "      <td>52</td>\n",
       "      <td>0.1062</td>\n",
       "      <td>0.0022</td>\n",
       "    </tr>\n",
       "  </tbody>\n",
       "</table>\n",
       "</div>"
      ],
      "text/plain": [
       "                 State  State Population 2015  State GDP 2015  \\\n",
       "0       Aguascalientes                1044049         19528.0   \n",
       "1      Baja California                3315766         57136.0   \n",
       "4  Baja California Sur                 272711         21431.0   \n",
       "5             Campeche                 283025             NaN   \n",
       "6              Chiapas                1162592         13392.0   \n",
       "\n",
       "   μ Age Maternal Mortality  Above(0)/Below(1) μ Pop Age  μ Age Variance  \\\n",
       "0                     28.36                            0           55.16   \n",
       "1                     27.15                            1           46.31   \n",
       "4                     27.56                            1           55.37   \n",
       "5                     26.87                            1           44.29   \n",
       "6                     28.02                            1           45.02   \n",
       "\n",
       "   Total Maternal Mortality (n)  μ Age Adolescent Maternal Mortality  \\\n",
       "0                           127                                18.08   \n",
       "1                           361                                18.00   \n",
       "4                            66                                18.00   \n",
       "5                           126                                18.00   \n",
       "6                          1235                                18.33   \n",
       "\n",
       "   μ Age Adolescent Variance  Adolescent Maternal Mortality (n)  \\\n",
       "0                       2.55                                 25   \n",
       "1                       2.70                                 69   \n",
       "4                       3.25                                 16   \n",
       "5                       4.18                                 22   \n",
       "6                       2.57                                 52   \n",
       "\n",
       "   Total Percent Maternal Mortality 2015  \\\n",
       "0                                 0.0122   \n",
       "1                                 0.0109   \n",
       "4                                 0.0242   \n",
       "5                                 0.0445   \n",
       "6                                 0.1062   \n",
       "\n",
       "   Adolescent Percent Maternal Mortality 2015  \n",
       "0                                      0.0024  \n",
       "1                                      0.0008  \n",
       "4                                      0.0092  \n",
       "5                                      0.0088  \n",
       "6                                      0.0022  "
      ]
     },
     "execution_count": 3,
     "metadata": {},
     "output_type": "execute_result"
    }
   ],
   "source": [
    "data = metro_gdp_mortality\n",
    "data.head()"
   ]
  },
  {
   "cell_type": "markdown",
   "metadata": {},
   "source": [
    "### Dataset Target Variable: Above(0) and Below(1) μ Population Age of Maternal Mortality"
   ]
  },
  {
   "cell_type": "markdown",
   "metadata": {},
   "source": [
    "#### Assess potential correlation of various factors within each Region\n",
    "- Create a correlation dataframe\n",
    "- Plot the correlation dataframe on a sns heatmap:\n",
    "    - Cells that are in green show positive correlation\n",
    "    - Cells that are in red show negative correlation"
   ]
  },
  {
   "cell_type": "code",
   "execution_count": 4,
   "metadata": {},
   "outputs": [
    {
     "data": {
      "text/plain": [
       "<matplotlib.axes._subplots.AxesSubplot at 0x1a1cd1c240>"
      ]
     },
     "execution_count": 4,
     "metadata": {},
     "output_type": "execute_result"
    },
    {
     "data": {
      "image/png": "[encoded data removed]",
      "text/plain": [
       "<Figure size 432x288 with 2 Axes>"
      ]
     },
     "metadata": {
      "needs_background": "light"
     },
     "output_type": "display_data"
    }
   ],
   "source": [
    "# Create a correlation dataframe\n",
    "feature_corr = data.corr()\n",
    "\n",
    "# Plot a correlation heatmap\n",
    "sns.heatmap(feature_corr, square=True, cmap='RdYlGn')"
   ]
  },
  {
   "cell_type": "markdown",
   "metadata": {},
   "source": [
    "#### *Preliminary Observations of Interest*: \n",
    "- **Positive (+) Correlation**\n",
    "    - State Population\n",
    "        - State GDP\n",
    "        - μ Age Maternal Mortality\n",
    "        - Total Maternal Mortality (n)\n",
    "    - State GDP\n",
    "        - Above(0)/Below(1) μ Pop Age\n",
    "        - Adolescent Maternal Mortality (n)\n",
    "- **Negative (-) Correlation**\n",
    "    - Adolescent Percent Maternal Mortality\n",
    "        - State Population\n",
    "        - State GDP\n",
    "        - Total Maternal Mortality (n)"
   ]
  },
  {
   "cell_type": "markdown",
   "metadata": {},
   "source": [
    "#### ( + ) Correlation: State Population and GDP "
   ]
  },
  {
   "cell_type": "code",
   "execution_count": 5,
   "metadata": {},
   "outputs": [
    {
     "data": {
      "text/plain": [
       "Text(0.5,1,'Relationship between State Population and GDP')"
      ]
     },
     "execution_count": 5,
     "metadata": {},
     "output_type": "execute_result"
    },
    {
     "data": {
      "image/png": "[encoded data removed]",
      "text/plain": [
       "<Figure size 432x288 with 1 Axes>"
      ]
     },
     "metadata": {
      "needs_background": "light"
     },
     "output_type": "display_data"
    }
   ],
   "source": [
    "plt.scatter(data['State Population 2015'], data['State GDP 2015'], s=data['μ Age Maternal Mortality'])\n",
    "plt.xlabel(\"State Population 2015\")\n",
    "plt.ylabel(\"State GDP 2015\")\n",
    "plt.title(\"Relationship between State Population and GDP\")"
   ]
  },
  {
   "cell_type": "markdown",
   "metadata": {},
   "source": [
    "#### ( + ) Correlation: Above(0)/Below(1) μ Age of Maternal Mortality in Mexico with State GDP"
   ]
  },
  {
   "cell_type": "code",
   "execution_count": 9,
   "metadata": {},
   "outputs": [
    {
     "data": {
      "text/plain": [
       "Text(0.5,1,'Relationship between μ Age of Maternal Mortality and State GDP')"
      ]
     },
     "execution_count": 9,
     "metadata": {},
     "output_type": "execute_result"
    },
    {
     "data": {
      "image/png": "[encoded data removed]",
      "text/plain": [
       "<Figure size 432x288 with 1 Axes>"
      ]
     },
     "metadata": {
      "needs_background": "light"
     },
     "output_type": "display_data"
    }
   ],
   "source": [
    "cols = {0: 'grey', 1: 'blue'}\n",
    "labels = ['Above', 'Below']\n",
    "plt.scatter(x=data['State'], \n",
    "            y=data['State GDP 2015'], \n",
    "            c=data['Above(0)/Below(1) μ Pop Age'].map(cols),\n",
    "            label=labels)\n",
    "\n",
    "# label axes and title\n",
    "plt.xlabel(\"State\")\n",
    "plt.xticks(rotation='vertical')\n",
    "plt.ylabel(\"State GDP in 2015\")\n",
    "plt.title(\"Relationship between μ Age of Maternal Mortality and State GDP\")"
   ]
  },
  {
   "cell_type": "markdown",
   "metadata": {},
   "source": [
    "#### Purpose for Changing all Categorical Strings to a Numeric Value: \n",
    "- Machine Learning models will ignore string values (strings have no statistical value unless added)\n",
    "- Numeric values are comparable therefore string values should be categorically changed to numbers\n",
    "- This is how you compare a string value to a numeric value that the model can use"
   ]
  },
  {
   "cell_type": "code",
   "execution_count": 10,
   "metadata": {},
   "outputs": [],
   "source": [
    "# Convert Column value strings to a numeric value\n",
    "for i, column in enumerate(list([str(d) for d in data.dtypes])):\n",
    "    if column == \"object\":\n",
    "        data[data.columns[i]] = data[data.columns[i]].fillna(data[data.columns[i]].mode())\n",
    "        data[data.columns[i]] = data[data.columns[i]].astype(\"category\").cat.codes\n",
    "    else:\n",
    "        data[data.columns[i]] = data[data.columns[i]].fillna(data[data.columns[i]].median())"
   ]
  },
  {
   "cell_type": "code",
   "execution_count": 11,
   "metadata": {},
   "outputs": [
    {
     "data": {
      "text/html": [
       "<div>\n",
       "<style scoped>\n",
       "    .dataframe tbody tr th:only-of-type {\n",
       "        vertical-align: middle;\n",
       "    }\n",
       "\n",
       "    .dataframe tbody tr th {\n",
       "        vertical-align: top;\n",
       "    }\n",
       "\n",
       "    .dataframe thead th {\n",
       "        text-align: right;\n",
       "    }\n",
       "</style>\n",
       "<table border=\"1\" class=\"dataframe\">\n",
       "  <thead>\n",
       "    <tr style=\"text-align: right;\">\n",
       "      <th></th>\n",
       "      <th>State</th>\n",
       "      <th>State Population 2015</th>\n",
       "      <th>State GDP 2015</th>\n",
       "      <th>μ Age Maternal Mortality</th>\n",
       "      <th>Above(0)/Below(1) μ Pop Age</th>\n",
       "      <th>μ Age Variance</th>\n",
       "      <th>Total Maternal Mortality (n)</th>\n",
       "      <th>μ Age Adolescent Maternal Mortality</th>\n",
       "      <th>μ Age Adolescent Variance</th>\n",
       "      <th>Adolescent Maternal Mortality (n)</th>\n",
       "      <th>Total Percent Maternal Mortality 2015</th>\n",
       "      <th>Adolescent Percent Maternal Mortality 2015</th>\n",
       "    </tr>\n",
       "  </thead>\n",
       "  <tbody>\n",
       "    <tr>\n",
       "      <th>0</th>\n",
       "      <td>0</td>\n",
       "      <td>1044049</td>\n",
       "      <td>19528.0</td>\n",
       "      <td>28.36</td>\n",
       "      <td>0</td>\n",
       "      <td>55.16</td>\n",
       "      <td>127</td>\n",
       "      <td>18.08</td>\n",
       "      <td>2.55</td>\n",
       "      <td>25</td>\n",
       "      <td>0.0122</td>\n",
       "      <td>0.0024</td>\n",
       "    </tr>\n",
       "    <tr>\n",
       "      <th>1</th>\n",
       "      <td>1</td>\n",
       "      <td>3315766</td>\n",
       "      <td>57136.0</td>\n",
       "      <td>27.15</td>\n",
       "      <td>1</td>\n",
       "      <td>46.31</td>\n",
       "      <td>361</td>\n",
       "      <td>18.00</td>\n",
       "      <td>2.70</td>\n",
       "      <td>69</td>\n",
       "      <td>0.0109</td>\n",
       "      <td>0.0008</td>\n",
       "    </tr>\n",
       "    <tr>\n",
       "      <th>4</th>\n",
       "      <td>2</td>\n",
       "      <td>272711</td>\n",
       "      <td>21431.0</td>\n",
       "      <td>27.56</td>\n",
       "      <td>1</td>\n",
       "      <td>55.37</td>\n",
       "      <td>66</td>\n",
       "      <td>18.00</td>\n",
       "      <td>3.25</td>\n",
       "      <td>16</td>\n",
       "      <td>0.0242</td>\n",
       "      <td>0.0092</td>\n",
       "    </tr>\n",
       "    <tr>\n",
       "      <th>5</th>\n",
       "      <td>3</td>\n",
       "      <td>283025</td>\n",
       "      <td>22120.5</td>\n",
       "      <td>26.87</td>\n",
       "      <td>1</td>\n",
       "      <td>44.29</td>\n",
       "      <td>126</td>\n",
       "      <td>18.00</td>\n",
       "      <td>4.18</td>\n",
       "      <td>22</td>\n",
       "      <td>0.0445</td>\n",
       "      <td>0.0088</td>\n",
       "    </tr>\n",
       "    <tr>\n",
       "      <th>6</th>\n",
       "      <td>4</td>\n",
       "      <td>1162592</td>\n",
       "      <td>13392.0</td>\n",
       "      <td>28.02</td>\n",
       "      <td>1</td>\n",
       "      <td>45.02</td>\n",
       "      <td>1235</td>\n",
       "      <td>18.33</td>\n",
       "      <td>2.57</td>\n",
       "      <td>52</td>\n",
       "      <td>0.1062</td>\n",
       "      <td>0.0022</td>\n",
       "    </tr>\n",
       "  </tbody>\n",
       "</table>\n",
       "</div>"
      ],
      "text/plain": [
       "   State  State Population 2015  State GDP 2015  μ Age Maternal Mortality  \\\n",
       "0      0                1044049         19528.0                     28.36   \n",
       "1      1                3315766         57136.0                     27.15   \n",
       "4      2                 272711         21431.0                     27.56   \n",
       "5      3                 283025         22120.5                     26.87   \n",
       "6      4                1162592         13392.0                     28.02   \n",
       "\n",
       "   Above(0)/Below(1) μ Pop Age  μ Age Variance  Total Maternal Mortality (n)  \\\n",
       "0                            0           55.16                           127   \n",
       "1                            1           46.31                           361   \n",
       "4                            1           55.37                            66   \n",
       "5                            1           44.29                           126   \n",
       "6                            1           45.02                          1235   \n",
       "\n",
       "   μ Age Adolescent Maternal Mortality  μ Age Adolescent Variance  \\\n",
       "0                                18.08                       2.55   \n",
       "1                                18.00                       2.70   \n",
       "4                                18.00                       3.25   \n",
       "5                                18.00                       4.18   \n",
       "6                                18.33                       2.57   \n",
       "\n",
       "   Adolescent Maternal Mortality (n)  Total Percent Maternal Mortality 2015  \\\n",
       "0                                 25                                 0.0122   \n",
       "1                                 69                                 0.0109   \n",
       "4                                 16                                 0.0242   \n",
       "5                                 22                                 0.0445   \n",
       "6                                 52                                 0.1062   \n",
       "\n",
       "   Adolescent Percent Maternal Mortality 2015  \n",
       "0                                      0.0024  \n",
       "1                                      0.0008  \n",
       "4                                      0.0092  \n",
       "5                                      0.0088  \n",
       "6                                      0.0022  "
      ]
     },
     "execution_count": 11,
     "metadata": {},
     "output_type": "execute_result"
    }
   ],
   "source": [
    "data.head()"
   ]
  },
  {
   "cell_type": "markdown",
   "metadata": {},
   "source": [
    "## Basic Logistic Regression:\n",
    "\n",
    "* Split the data into a training and test (hold-out) set\n",
    "* Train on the training set, and test for accuracy on the testing set"
   ]
  },
  {
   "cell_type": "markdown",
   "metadata": {},
   "source": [
    "#### Test-Train-Split:\n",
    "- X = copy of all features and the response variable of dataset\n",
    "- y = all features within dataset *excluding the response (target) variable*\n",
    "- test_size = represents the proportion of the dataset (as a percentage) to include in the test split\n",
    "- random_state = the seed used by the random number generator"
   ]
  },
  {
   "cell_type": "code",
   "execution_count": 12,
   "metadata": {},
   "outputs": [],
   "source": [
    "# Entire dataset (even with response variable)\n",
    "X = data.copy()\n",
    "\n",
    "# The response variable\n",
    "y = data.copy().pop('Above(0)/Below(1) μ Pop Age')"
   ]
  },
  {
   "cell_type": "code",
   "execution_count": 13,
   "metadata": {},
   "outputs": [
    {
     "data": {
      "text/plain": [
       "(18, 7, 18, 7)"
      ]
     },
     "execution_count": 13,
     "metadata": {},
     "output_type": "execute_result"
    }
   ],
   "source": [
    "# Create train and test data sets with train_test_split\n",
    "X_train, X_test, y_train, y_test = train_test_split(X.values, y.values, random_state=5)\n",
    "len(X_train), len(X_test), len(y_train), len(y_test)"
   ]
  },
  {
   "cell_type": "code",
   "execution_count": 14,
   "metadata": {},
   "outputs": [
    {
     "name": "stdout",
     "output_type": "stream",
     "text": [
      "0.7142857142857143\n"
     ]
    }
   ],
   "source": [
    "# Create a Logistic Regression Incidence \n",
    "clf_log = LogisticRegression()\n",
    "\n",
    "# Fit clf_log to training data\n",
    "clf_log.fit(X_train, y_train)\n",
    "\n",
    "# Print the accuracy from the testing data.\n",
    "print(accuracy_score(clf_log.predict(X_test), y_test))"
   ]
  },
  {
   "cell_type": "markdown",
   "metadata": {},
   "source": [
    "#### Tuning the Model\n",
    "\n",
    "Since the resulting accuracy score was low (~71.43% accurate)"
   ]
  },
  {
   "cell_type": "markdown",
   "metadata": {},
   "source": [
    "#### A. K-fold cross-validation"
   ]
  },
  {
   "cell_type": "code",
   "execution_count": 15,
   "metadata": {},
   "outputs": [],
   "source": [
    "# Create a function function to perform K-fold cross-validation \n",
    "#and apply a scoring function to each test fold. \n",
    "\n",
    "def cv_score(clf, x, y, score_func=accuracy_score):\n",
    "    result = 0\n",
    "    nfold = 5\n",
    "    \n",
    "    # split data into train/test groups, 5 times\n",
    "    for train, test in KFold(nfold).split(x):\n",
    "        \n",
    "        # fit training data\n",
    "        clf.fit(x[train], y[train])\n",
    "        \n",
    "        # evaluate score function on held-out data\n",
    "        result += score_func(clf.predict(x[test]), y[test])\n",
    "        \n",
    "          # average\n",
    "    return result / nfold "
   ]
  },
  {
   "cell_type": "code",
   "execution_count": 16,
   "metadata": {},
   "outputs": [
    {
     "data": {
      "text/plain": [
       "0.6"
      ]
     },
     "execution_count": 16,
     "metadata": {},
     "output_type": "execute_result"
    }
   ],
   "source": [
    "score = cv_score(clf_log, X_train, y_train)\n",
    "score"
   ]
  },
  {
   "cell_type": "markdown",
   "metadata": {},
   "source": [
    "#### B. GridSearchCV"
   ]
  },
  {
   "cell_type": "code",
   "execution_count": 17,
   "metadata": {},
   "outputs": [],
   "source": [
    "# calculate best 'C' with GridSearchCV\n",
    "def cv_optimize(clf, parameters, X_train, y_train, n_folds=5):\n",
    "    \n",
    "    #Use GridSearchCV to find the best C parameter\n",
    "    gs = GridSearchCV(clf, param_grid=parameters, cv=n_folds)\n",
    "    gs.fit(X_train, y_train)\n",
    "    print(\"BEST PARAMS\", gs.best_params_)\n",
    "    best = gs.best_estimator_\n",
    "    return best"
   ]
  },
  {
   "cell_type": "markdown",
   "metadata": {},
   "source": [
    "#### C. TrainTestSplit with CV Optimizer"
   ]
  },
  {
   "cell_type": "code",
   "execution_count": 20,
   "metadata": {},
   "outputs": [
    {
     "name": "stdout",
     "output_type": "stream",
     "text": [
      "BEST PARAMS {'C': 0.0001}\n",
      "Accuracy on training data: 0.83\n",
      "Accuracy on test data:     0.71\n"
     ]
    }
   ],
   "source": [
    "#Define a parameter range\n",
    "parameters = {\"C\": [0.0001, 0.0002, 0.0003, 0.0004, 0.0005]}\n",
    "\n",
    "#Apply cv_optimize function to Logistic Regression\n",
    "clf = cv_optimize(clf_log, parameters, X_train, y_train)\n",
    "    \n",
    "#Fit to training data\n",
    "clf = clf.fit(X_train, y_train)\n",
    "    \n",
    "#Assess model accuracy (train and test)\n",
    "training_accuracy = clf.score(X_train, y_train)\n",
    "test_accuracy = clf.score(X_test, y_test)\n",
    "print(\"Accuracy on training data: {:0.2f}\".format(training_accuracy))\n",
    "print(\"Accuracy on test data:     {:0.2f}\".format(test_accuracy))"
   ]
  },
  {
   "cell_type": "markdown",
   "metadata": {},
   "source": [
    "#### Plot Data"
   ]
  },
  {
   "cell_type": "code",
   "execution_count": 21,
   "metadata": {},
   "outputs": [
    {
     "data": {
      "text/plain": [
       "array([[1.28088799e-01, 8.71911201e-01],\n",
       "       [9.98138603e-01, 1.86139659e-03],\n",
       "       [1.35368050e-02, 9.86463195e-01],\n",
       "       [8.96174541e-02, 9.10382546e-01],\n",
       "       [6.05898588e-04, 9.99394101e-01],\n",
       "       [9.99999420e-01, 5.79515565e-07],\n",
       "       [1.28067758e-01, 8.71932242e-01]])"
      ]
     },
     "execution_count": 21,
     "metadata": {},
     "output_type": "execute_result"
    }
   ],
   "source": [
    "clf.predict_proba(X_test)"
   ]
  },
  {
   "cell_type": "code",
   "execution_count": null,
   "metadata": {},
   "outputs": [],
   "source": []
  },
  {
   "cell_type": "markdown",
   "metadata": {},
   "source": [
    "#### For Random Forest Classifiers:\n",
    "- n_estimators: choosing 100 is a straight forward value\n",
    "- max_depth: the level of complexity/freedom - values 2 to 6 is usually fine, though starting at 2 is recommended\n",
    "- random_state: the seed for the random number generator - makes a model replicatable - any number is fine"
   ]
  },
  {
   "cell_type": "code",
   "execution_count": 22,
   "metadata": {},
   "outputs": [],
   "source": [
    "# Create a Random Forest Classifier incidence \n",
    "rfc_model = RandomForestClassifier(n_estimators=100, max_depth=2, random_state=0)"
   ]
  },
  {
   "cell_type": "code",
   "execution_count": 23,
   "metadata": {},
   "outputs": [
    {
     "data": {
      "text/plain": [
       "RandomForestClassifier(bootstrap=True, class_weight=None, criterion='gini',\n",
       "            max_depth=2, max_features='auto', max_leaf_nodes=None,\n",
       "            min_impurity_decrease=0.0, min_impurity_split=None,\n",
       "            min_samples_leaf=1, min_samples_split=2,\n",
       "            min_weight_fraction_leaf=0.0, n_estimators=100, n_jobs=1,\n",
       "            oob_score=False, random_state=0, verbose=0, warm_start=False)"
      ]
     },
     "execution_count": 23,
     "metadata": {},
     "output_type": "execute_result"
    }
   ],
   "source": [
    "# Fit train data to Random Forest Classifier\n",
    "rfc_model.fit(X_train, y_train)"
   ]
  },
  {
   "cell_type": "code",
   "execution_count": 24,
   "metadata": {},
   "outputs": [
    {
     "data": {
      "text/plain": [
       "array([[2, 0],\n",
       "       [0, 5]])"
      ]
     },
     "execution_count": 24,
     "metadata": {},
     "output_type": "execute_result"
    }
   ],
   "source": [
    "# Compute the confusion_matrix to evaluate the accuracy of a classification\n",
    "conf_matrix = confusion_matrix(y_test, rfc_model.predict(X_test))\n",
    "conf_matrix "
   ]
  },
  {
   "cell_type": "code",
   "execution_count": 25,
   "metadata": {},
   "outputs": [
    {
     "data": {
      "text/plain": [
       "<matplotlib.axes._subplots.AxesSubplot at 0x1a1d7cf710>"
      ]
     },
     "execution_count": 25,
     "metadata": {},
     "output_type": "execute_result"
    },
    {
     "data": {
      "image/png": "[encoded data removed]",
      "text/plain": [
       "<Figure size 720x504 with 2 Axes>"
      ]
     },
     "metadata": {
      "needs_background": "light"
     },
     "output_type": "display_data"
    }
   ],
   "source": [
    "# Plot confusion_matrix\n",
    "plt.figure(figsize = (10,7))\n",
    "sns.heatmap(conf_matrix, annot=True)"
   ]
  },
  {
   "cell_type": "markdown",
   "metadata": {},
   "source": [
    "#### Compute the Root Mean Squared Error (RMSE) \n",
    "- Used measure of the differences between values predicted by a model and the values observed \n",
    "- RMSE is always non-negative\n",
    "- A value of 0 would indicate a perfect fit to the data. \n",
    "In general, a lower RMSD is better than a higher one. "
   ]
  },
  {
   "cell_type": "code",
   "execution_count": 109,
   "metadata": {},
   "outputs": [
    {
     "name": "stdout",
     "output_type": "stream",
     "text": [
      "R^2: -13.759755192907654\n",
      "Root Mean Squared Error (RMSE): 9.919595150645902\n"
     ]
    }
   ],
   "source": [
    "# Predict on the test data: y_pred\n",
    "y_pred_lin = clf_lin.predict(X_test)\n",
    "\n",
    "# Compute and print R^2 and RMSE\n",
    "print(\"R^2: {}\".format(clf_lin.score(X_test, y_test)))\n",
    "rmse = np.sqrt(mean_squared_error(y_test, y_pred_lin))\n",
    "print(\"Root Mean Squared Error (RMSE): {}\".format(rmse))"
   ]
  },
  {
   "cell_type": "code",
   "execution_count": null,
   "metadata": {},
   "outputs": [],
   "source": [
    "# Compute 5-fold cross-validation scores: cv_scores\n",
    "cv_scores = cross_val_score(clf_lin, X, y, cv=5)\n",
    "print(\"Average 5-Fold CV Score: {}\".format(np.mean(cv_scores)))\n",
    "\n",
    "# Coefficient\n",
    "clf_coef = clf_lin.coef_\n",
    "print('Correlation Coefficients: ', clf_coef)\n",
    "\n",
    "# Intercept\n",
    "clf_int = clf_lin.intercept_\n",
    "print('Linear Regression Intercept: ', clf_int)"
   ]
  },
  {
   "cell_type": "code",
   "execution_count": 57,
   "metadata": {},
   "outputs": [],
   "source": [
    "# Plot outputs\n",
    "plt.scatter(X, y_scores_encoded,  color='black')\n",
    "plt.plot(X_test, y_pred_lin, color='blue', linewidth=3)\n",
    "\n",
    "plt.xticks(())\n",
    "plt.yticks(())\n",
    "\n",
    "plt.show()"
   ]
  },
  {
   "cell_type": "markdown",
   "metadata": {},
   "source": [
    "#### K-Neighbors Classification\n",
    "- Supervised neighbors classification for data with discrete labels"
   ]
  },
  {
   "cell_type": "code",
   "execution_count": 27,
   "metadata": {},
   "outputs": [
    {
     "data": {
      "text/plain": [
       "['State',\n",
       " 'State Population 2015',\n",
       " 'State GDP 2015',\n",
       " 'μ Age Maternal Mortality',\n",
       " 'Above(0)/Below(1) μ Pop Age',\n",
       " 'μ Age Variance',\n",
       " 'Total Maternal Mortality (n)',\n",
       " 'μ Age Adolescent Maternal Mortality',\n",
       " 'μ Age Adolescent Variance',\n",
       " 'Adolescent Maternal Mortality (n)',\n",
       " 'Total Percent Maternal Mortality 2015']"
      ]
     },
     "execution_count": 27,
     "metadata": {},
     "output_type": "execute_result"
    }
   ],
   "source": [
    "# Define features\n",
    "features = list(data.keys())[:-1]\n",
    "features"
   ]
  },
  {
   "cell_type": "code",
   "execution_count": 29,
   "metadata": {},
   "outputs": [
    {
     "name": "stdout",
     "output_type": "stream",
     "text": [
      "[[1 1]\n",
      " [0 5]]\n",
      "             precision    recall  f1-score   support\n",
      "\n",
      "          0       1.00      0.50      0.67         2\n",
      "          1       0.83      1.00      0.91         5\n",
      "\n",
      "avg / total       0.88      0.86      0.84         7\n",
      "\n"
     ]
    }
   ],
   "source": [
    "# Define number of K-Neighbors\n",
    "neighbors = 8\n",
    "knn = KNeighborsClassifier(neighbors)\n",
    "\n",
    "# Fit the classifier to the training data\n",
    "knn.fit(X_train, y_train)\n",
    "\n",
    "# Predict the labels of the test data: y_pred\n",
    "y_pred_knn = knn.predict(X_test)\n",
    "\n",
    "# Generate the confusion matrix and classification report\n",
    "print(confusion_matrix(y_test, y_pred_knn))\n",
    "print(classification_report(y_test, y_pred_knn))"
   ]
  },
  {
   "cell_type": "code",
   "execution_count": 90,
   "metadata": {},
   "outputs": [
    {
     "name": "stdout",
     "output_type": "stream",
     "text": [
      "Training Y Data\n",
      "[ 8  7  4 14 11 15 10  0  3  9 12  2 13  5  6  1]\n",
      "binary\n",
      "binary\n",
      "binary\n",
      "...\n",
      "Testing Y Data\n",
      "[6 4 1 5 7 2 8 0 3]\n",
      "binary\n",
      "binary\n",
      "binary\n"
     ]
    },
    {
     "data": {
      "text/plain": [
       "(18, 7)"
      ]
     },
     "execution_count": 90,
     "metadata": {},
     "output_type": "execute_result"
    }
   ],
   "source": [
    "# Fix Error 'continuous' variable\n",
    "lab_enc = preprocessing.LabelEncoder()\n",
    "\n",
    "# Transform y data to not be 'continuous'\n",
    "y_encoded = lab_enc.fit_transform(y)\n",
    "\n",
    "# Transform y_train data to not be 'continuous'\n",
    "y_train_encoded = lab_enc.fit_transform(y_train)\n",
    "\n",
    "# Transform y_test data to not be 'continuous'\n",
    "y_test_encoded = lab_enc.fit_transform(y_test)\n",
    "\n",
    "# Verify Output\n",
    "print('Training Y Data')\n",
    "print(training_scores_encoded)\n",
    "print(utils.multiclass.type_of_target(y_train))\n",
    "print(utils.multiclass.type_of_target(y_train.astype('int')))\n",
    "print(utils.multiclass.type_of_target(y_train_encoded ))\n",
    "print('...')\n",
    "print('Testing Y Data')\n",
    "print(testing_scores_encoded)\n",
    "print(utils.multiclass.type_of_target(y_test))\n",
    "print(utils.multiclass.type_of_target(y_test.astype('int')))\n",
    "print(utils.multiclass.type_of_target(y_test_encoded ))\n",
    "len(y_train_encoded), len(y_test_encoded)"
   ]
  }
 ],
 "metadata": {
  "kernelspec": {
   "display_name": "Python 3",
   "language": "python",
   "name": "python3"
  },
  "language_info": {
   "codemirror_mode": {
    "name": "ipython",
    "version": 3
   },
   "file_extension": ".py",
   "mimetype": "text/x-python",
   "name": "python",
   "nbconvert_exporter": "python",
   "pygments_lexer": "ipython3",
   "version": "3.7.2"
  }
 },
 "nbformat": 4,
 "nbformat_minor": 2
}
