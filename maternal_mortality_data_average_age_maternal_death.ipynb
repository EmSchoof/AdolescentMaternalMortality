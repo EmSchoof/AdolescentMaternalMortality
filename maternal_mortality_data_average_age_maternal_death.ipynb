{
 "cells": [
  {
   "cell_type": "code",
   "execution_count": 2,
   "metadata": {},
   "outputs": [],
   "source": [
    "# Step 1: Import the relevant python libraries for the analysis\n",
    "import pandas as pd\n",
    "from pandas import DataFrame\n",
    "import numpy as np\n",
    "import seaborn as sns\n",
    "import matplotlib.pyplot as plt\n",
    "import random\n",
    "import scipy.stats as stats\n",
    "import pylab as pl\n",
    "import math"
   ]
  },
  {
   "cell_type": "code",
   "execution_count": 3,
   "metadata": {},
   "outputs": [],
   "source": [
    "# Step 2: Load the dataset\n",
    "materna = pd.read_csv('mortalidad_materna.csv')\n",
    "#materna.info()"
   ]
  },
  {
   "cell_type": "markdown",
   "metadata": {},
   "source": [
    "### Explore the Data and Create Clean Sub-Dataframe for Analysis"
   ]
  },
  {
   "cell_type": "code",
   "execution_count": 4,
   "metadata": {},
   "outputs": [
    {
     "name": "stdout",
     "output_type": "stream",
     "text": [
      "13088    0-0-0\n",
      "12833    0-0-0\n",
      "dtype: object\n"
     ]
    },
    {
     "data": {
      "text/plain": [
       "18163"
      ]
     },
     "execution_count": 4,
     "metadata": {},
     "output_type": "execute_result"
    }
   ],
   "source": [
    "# 1. Combine patient birthdate information into one column\n",
    "birth = DataFrame(materna, columns=['Año de nacimiento', 'Mes de nacimiento', 'Día de nacimiento'])\n",
    "birth = materna['Año de nacimiento'].map(str) + '-' + materna['Mes de nacimiento'].map(str) + '-' + materna['Mes de nacimiento'].map(str)\n",
    "print(birth.sort_values(ascending=True).head(2))\n",
    "len(birth)"
   ]
  },
  {
   "cell_type": "code",
   "execution_count": 5,
   "metadata": {},
   "outputs": [
    {
     "name": "stdout",
     "output_type": "stream",
     "text": [
      "17886       0-0-0\n",
      "17516    1914-3-3\n",
      "dtype: object\n"
     ]
    },
    {
     "data": {
      "text/plain": [
       "18163"
      ]
     },
     "execution_count": 5,
     "metadata": {},
     "output_type": "execute_result"
    }
   ],
   "source": [
    "# Combine patient date of death information into one column\n",
    "death = DataFrame(materna, columns=['Año de la defunción', 'Mes de la defunción', 'Día de la defunción'])\n",
    "death = materna['Año de la defunción'].map(str) + '-' + materna['Mes de la defunción'].map(str) + '-' + materna['Mes de la defunción'].map(str)\n",
    "print(death.sort_values(ascending=True).head(2))\n",
    "len(death)"
   ]
  },
  {
   "cell_type": "code",
   "execution_count": 6,
   "metadata": {},
   "outputs": [],
   "source": [
    "# Create variable to store age fulfilled by patient and mortality reason\n",
    "last_age = materna['Edad cumplida']\n",
    "mortality_reason = materna['Razón de mortalidad materna']\n",
    "\n",
    "# Create variables:\n",
    "\n",
    "#providence information \n",
    "providence_code = materna['Entidad de residencia']\n",
    "providence_key = materna['Descripción de entidad de residencia']\n",
    "\n",
    "#local community info\n",
    "local_size = materna['Tamaño de localidad']\n",
    "population = materna['Descripción del tamaño de localidad']\n",
    "\n",
    "#health information\n",
    "health_code = materna['Derechohabiencia']\n",
    "health_key = materna['Descripción de la derechohabiencia']"
   ]
  },
  {
   "cell_type": "code",
   "execution_count": 7,
   "metadata": {},
   "outputs": [
    {
     "data": {
      "text/html": [
       "<div>\n",
       "<style scoped>\n",
       "    .dataframe tbody tr th:only-of-type {\n",
       "        vertical-align: middle;\n",
       "    }\n",
       "\n",
       "    .dataframe tbody tr th {\n",
       "        vertical-align: top;\n",
       "    }\n",
       "\n",
       "    .dataframe thead th {\n",
       "        text-align: right;\n",
       "    }\n",
       "</style>\n",
       "<table border=\"1\" class=\"dataframe\">\n",
       "  <thead>\n",
       "    <tr style=\"text-align: right;\">\n",
       "      <th></th>\n",
       "      <th>Date of Birth</th>\n",
       "      <th>Date of Death</th>\n",
       "      <th>Age at Death</th>\n",
       "      <th>Reason for Mortality</th>\n",
       "      <th>Residence Code</th>\n",
       "      <th>Residence Name</th>\n",
       "      <th>Local Community Size</th>\n",
       "      <th>Population</th>\n",
       "      <th>Health Status Code</th>\n",
       "      <th>Health Status Name</th>\n",
       "    </tr>\n",
       "  </thead>\n",
       "  <tbody>\n",
       "    <tr>\n",
       "      <th>0</th>\n",
       "      <td>1972-7-7</td>\n",
       "      <td>2002-3-3</td>\n",
       "      <td>29</td>\n",
       "      <td>1</td>\n",
       "      <td>29</td>\n",
       "      <td>Tlaxcala</td>\n",
       "      <td>10</td>\n",
       "      <td>40000 a 49999   habitantes</td>\n",
       "      <td>3</td>\n",
       "      <td>ISSSTE</td>\n",
       "    </tr>\n",
       "    <tr>\n",
       "      <th>1</th>\n",
       "      <td>1967-4-4</td>\n",
       "      <td>2003-5-5</td>\n",
       "      <td>36</td>\n",
       "      <td>1</td>\n",
       "      <td>29</td>\n",
       "      <td>Tlaxcala</td>\n",
       "      <td>10</td>\n",
       "      <td>40000 a 49999   habitantes</td>\n",
       "      <td>1</td>\n",
       "      <td>NINGUNA</td>\n",
       "    </tr>\n",
       "  </tbody>\n",
       "</table>\n",
       "</div>"
      ],
      "text/plain": [
       "  Date of Birth Date of Death  Age at Death  Reason for Mortality  \\\n",
       "0      1972-7-7      2002-3-3            29                     1   \n",
       "1      1967-4-4      2003-5-5            36                     1   \n",
       "\n",
       "   Residence Code Residence Name  Local Community Size  \\\n",
       "0              29       Tlaxcala                    10   \n",
       "1              29       Tlaxcala                    10   \n",
       "\n",
       "                   Population  Health Status Code Health Status Name  \n",
       "0  40000 a 49999   habitantes                   3             ISSSTE  \n",
       "1  40000 a 49999   habitantes                   1            NINGUNA  "
      ]
     },
     "execution_count": 7,
     "metadata": {},
     "output_type": "execute_result"
    }
   ],
   "source": [
    "# Create a sub-dataframe to hold all date- information \n",
    "dates = pd.concat([birth, death, last_age, mortality_reason, providence_code, providence_key, local_size, population, health_code, health_key], axis=1)\n",
    "dates.columns = ['Date of Birth', 'Date of Death', 'Age at Death', 'Reason for Mortality', 'Residence Code', 'Residence Name', 'Local Community Size', 'Population', 'Health Status Code', 'Health Status Name']\n",
    "dates.head(2)"
   ]
  },
  {
   "cell_type": "markdown",
   "metadata": {},
   "source": [
    "### Check for null or errors in Data"
   ]
  },
  {
   "cell_type": "code",
   "execution_count": 8,
   "metadata": {},
   "outputs": [
    {
     "data": {
      "text/html": [
       "<div>\n",
       "<style scoped>\n",
       "    .dataframe tbody tr th:only-of-type {\n",
       "        vertical-align: middle;\n",
       "    }\n",
       "\n",
       "    .dataframe tbody tr th {\n",
       "        vertical-align: top;\n",
       "    }\n",
       "\n",
       "    .dataframe thead th {\n",
       "        text-align: right;\n",
       "    }\n",
       "</style>\n",
       "<table border=\"1\" class=\"dataframe\">\n",
       "  <thead>\n",
       "    <tr style=\"text-align: right;\">\n",
       "      <th></th>\n",
       "      <th>Date of Birth</th>\n",
       "      <th>Date of Death</th>\n",
       "      <th>Age at Death</th>\n",
       "      <th>Reason for Mortality</th>\n",
       "      <th>Residence Code</th>\n",
       "      <th>Residence Name</th>\n",
       "      <th>Local Community Size</th>\n",
       "      <th>Population</th>\n",
       "      <th>Health Status Code</th>\n",
       "      <th>Health Status Name</th>\n",
       "    </tr>\n",
       "  </thead>\n",
       "  <tbody>\n",
       "    <tr>\n",
       "      <th>9598</th>\n",
       "      <td>1998-7-7</td>\n",
       "      <td>2009-7-7</td>\n",
       "      <td>11</td>\n",
       "      <td>1</td>\n",
       "      <td>7</td>\n",
       "      <td>Chiapas</td>\n",
       "      <td>1</td>\n",
       "      <td>1 a 999            habitantes</td>\n",
       "      <td>1</td>\n",
       "      <td>NINGUNA</td>\n",
       "    </tr>\n",
       "    <tr>\n",
       "      <th>6407</th>\n",
       "      <td>1996-1-1</td>\n",
       "      <td>2008-12-12</td>\n",
       "      <td>12</td>\n",
       "      <td>1</td>\n",
       "      <td>30</td>\n",
       "      <td>Veracruz de Ignacio de la Llave</td>\n",
       "      <td>11</td>\n",
       "      <td>50000 a 74999   habitantes</td>\n",
       "      <td>7</td>\n",
       "      <td>SEGURO POPULAR</td>\n",
       "    </tr>\n",
       "    <tr>\n",
       "      <th>9084</th>\n",
       "      <td>2001-12-12</td>\n",
       "      <td>2014-5-5</td>\n",
       "      <td>12</td>\n",
       "      <td>1</td>\n",
       "      <td>27</td>\n",
       "      <td>Tabasco</td>\n",
       "      <td>14</td>\n",
       "      <td>250000 a 499999 habitantes</td>\n",
       "      <td>7</td>\n",
       "      <td>SEGURO POPULAR</td>\n",
       "    </tr>\n",
       "    <tr>\n",
       "      <th>10883</th>\n",
       "      <td>1983-11-11</td>\n",
       "      <td>2002-6-6</td>\n",
       "      <td>12</td>\n",
       "      <td>1</td>\n",
       "      <td>15</td>\n",
       "      <td>México</td>\n",
       "      <td>4</td>\n",
       "      <td>2500 a 4999    habitantes</td>\n",
       "      <td>1</td>\n",
       "      <td>NINGUNA</td>\n",
       "    </tr>\n",
       "    <tr>\n",
       "      <th>1266</th>\n",
       "      <td>1993-0-0</td>\n",
       "      <td>2005-1-1</td>\n",
       "      <td>12</td>\n",
       "      <td>1</td>\n",
       "      <td>12</td>\n",
       "      <td>Guerrero</td>\n",
       "      <td>4</td>\n",
       "      <td>2500 a 4999    habitantes</td>\n",
       "      <td>1</td>\n",
       "      <td>NINGUNA</td>\n",
       "    </tr>\n",
       "  </tbody>\n",
       "</table>\n",
       "</div>"
      ],
      "text/plain": [
       "      Date of Birth Date of Death  Age at Death  Reason for Mortality  \\\n",
       "9598       1998-7-7      2009-7-7            11                     1   \n",
       "6407       1996-1-1    2008-12-12            12                     1   \n",
       "9084     2001-12-12      2014-5-5            12                     1   \n",
       "10883    1983-11-11      2002-6-6            12                     1   \n",
       "1266       1993-0-0      2005-1-1            12                     1   \n",
       "\n",
       "       Residence Code                   Residence Name  Local Community Size  \\\n",
       "9598                7                          Chiapas                     1   \n",
       "6407               30  Veracruz de Ignacio de la Llave                    11   \n",
       "9084               27                          Tabasco                    14   \n",
       "10883              15                           México                     4   \n",
       "1266               12                         Guerrero                     4   \n",
       "\n",
       "                          Population  Health Status Code Health Status Name  \n",
       "9598   1 a 999            habitantes                   1            NINGUNA  \n",
       "6407      50000 a 74999   habitantes                   7     SEGURO POPULAR  \n",
       "9084      250000 a 499999 habitantes                   7     SEGURO POPULAR  \n",
       "10883      2500 a 4999    habitantes                   1            NINGUNA  \n",
       "1266       2500 a 4999    habitantes                   1            NINGUNA  "
      ]
     },
     "execution_count": 8,
     "metadata": {},
     "output_type": "execute_result"
    }
   ],
   "source": [
    "# Order dates dataframe to list in ascending order of approx. age at death\n",
    "dates = dates.sort_values(by=['Age at Death'],ascending=True)\n",
    "dates.head()"
   ]
  },
  {
   "cell_type": "code",
   "execution_count": 9,
   "metadata": {},
   "outputs": [
    {
     "data": {
      "text/html": [
       "<div>\n",
       "<style scoped>\n",
       "    .dataframe tbody tr th:only-of-type {\n",
       "        vertical-align: middle;\n",
       "    }\n",
       "\n",
       "    .dataframe tbody tr th {\n",
       "        vertical-align: top;\n",
       "    }\n",
       "\n",
       "    .dataframe thead th {\n",
       "        text-align: right;\n",
       "    }\n",
       "</style>\n",
       "<table border=\"1\" class=\"dataframe\">\n",
       "  <thead>\n",
       "    <tr style=\"text-align: right;\">\n",
       "      <th></th>\n",
       "      <th>Date of Birth</th>\n",
       "      <th>Date of Death</th>\n",
       "      <th>Age at Death</th>\n",
       "      <th>Reason for Mortality</th>\n",
       "      <th>Residence Code</th>\n",
       "      <th>Residence Name</th>\n",
       "      <th>Local Community Size</th>\n",
       "      <th>Population</th>\n",
       "      <th>Health Status Code</th>\n",
       "      <th>Health Status Name</th>\n",
       "    </tr>\n",
       "  </thead>\n",
       "  <tbody>\n",
       "    <tr>\n",
       "      <th>18158</th>\n",
       "      <td>0-0-0</td>\n",
       "      <td>1975-2-2</td>\n",
       "      <td>998</td>\n",
       "      <td>0</td>\n",
       "      <td>25</td>\n",
       "      <td>Sinaloa</td>\n",
       "      <td>1</td>\n",
       "      <td>1 a 999            habitantes</td>\n",
       "      <td>0</td>\n",
       "      <td>DERECHOHABIENCIA NO ESPECIFICADA</td>\n",
       "    </tr>\n",
       "    <tr>\n",
       "      <th>18159</th>\n",
       "      <td>0-0-0</td>\n",
       "      <td>2006-9-9</td>\n",
       "      <td>998</td>\n",
       "      <td>1</td>\n",
       "      <td>27</td>\n",
       "      <td>Tabasco</td>\n",
       "      <td>12</td>\n",
       "      <td>75000 a 99999   habitantes</td>\n",
       "      <td>0</td>\n",
       "      <td>DERECHOHABIENCIA NO ESPECIFICADA</td>\n",
       "    </tr>\n",
       "    <tr>\n",
       "      <th>18160</th>\n",
       "      <td>0-0-0</td>\n",
       "      <td>2000-6-6</td>\n",
       "      <td>998</td>\n",
       "      <td>0</td>\n",
       "      <td>16</td>\n",
       "      <td>Michoacán de Ocampo</td>\n",
       "      <td>0</td>\n",
       "      <td>No Especificado.</td>\n",
       "      <td>0</td>\n",
       "      <td>DERECHOHABIENCIA NO ESPECIFICADA</td>\n",
       "    </tr>\n",
       "    <tr>\n",
       "      <th>18161</th>\n",
       "      <td>0-0-0</td>\n",
       "      <td>0-0-0</td>\n",
       "      <td>998</td>\n",
       "      <td>0</td>\n",
       "      <td>0</td>\n",
       "      <td>No especificado</td>\n",
       "      <td>0</td>\n",
       "      <td>No Especificado.</td>\n",
       "      <td>0</td>\n",
       "      <td>DERECHOHABIENCIA NO ESPECIFICADA</td>\n",
       "    </tr>\n",
       "    <tr>\n",
       "      <th>18162</th>\n",
       "      <td>0-0-0</td>\n",
       "      <td>2002-4-4</td>\n",
       "      <td>998</td>\n",
       "      <td>1</td>\n",
       "      <td>8</td>\n",
       "      <td>Chihuahua</td>\n",
       "      <td>1</td>\n",
       "      <td>1 a 999            habitantes</td>\n",
       "      <td>1</td>\n",
       "      <td>NINGUNA</td>\n",
       "    </tr>\n",
       "  </tbody>\n",
       "</table>\n",
       "</div>"
      ],
      "text/plain": [
       "      Date of Birth Date of Death  Age at Death  Reason for Mortality  \\\n",
       "18158         0-0-0      1975-2-2           998                     0   \n",
       "18159         0-0-0      2006-9-9           998                     1   \n",
       "18160         0-0-0      2000-6-6           998                     0   \n",
       "18161         0-0-0         0-0-0           998                     0   \n",
       "18162         0-0-0      2002-4-4           998                     1   \n",
       "\n",
       "       Residence Code       Residence Name  Local Community Size  \\\n",
       "18158              25              Sinaloa                     1   \n",
       "18159              27              Tabasco                    12   \n",
       "18160              16  Michoacán de Ocampo                     0   \n",
       "18161               0      No especificado                     0   \n",
       "18162               8            Chihuahua                     1   \n",
       "\n",
       "                          Population  Health Status Code  \\\n",
       "18158  1 a 999            habitantes                   0   \n",
       "18159     75000 a 99999   habitantes                   0   \n",
       "18160               No Especificado.                   0   \n",
       "18161               No Especificado.                   0   \n",
       "18162  1 a 999            habitantes                   1   \n",
       "\n",
       "                     Health Status Name  \n",
       "18158  DERECHOHABIENCIA NO ESPECIFICADA  \n",
       "18159  DERECHOHABIENCIA NO ESPECIFICADA  \n",
       "18160  DERECHOHABIENCIA NO ESPECIFICADA  \n",
       "18161  DERECHOHABIENCIA NO ESPECIFICADA  \n",
       "18162                           NINGUNA  "
      ]
     },
     "execution_count": 9,
     "metadata": {},
     "output_type": "execute_result"
    }
   ],
   "source": [
    "# Reset Index \n",
    "dates = dates.reset_index(drop=True)\n",
    "dates.head()\n",
    "dates.tail()"
   ]
  },
  {
   "cell_type": "code",
   "execution_count": 10,
   "metadata": {},
   "outputs": [
    {
     "data": {
      "text/html": [
       "<div>\n",
       "<style scoped>\n",
       "    .dataframe tbody tr th:only-of-type {\n",
       "        vertical-align: middle;\n",
       "    }\n",
       "\n",
       "    .dataframe tbody tr th {\n",
       "        vertical-align: top;\n",
       "    }\n",
       "\n",
       "    .dataframe thead th {\n",
       "        text-align: right;\n",
       "    }\n",
       "</style>\n",
       "<table border=\"1\" class=\"dataframe\">\n",
       "  <thead>\n",
       "    <tr style=\"text-align: right;\">\n",
       "      <th></th>\n",
       "      <th>Date of Birth</th>\n",
       "      <th>Date of Death</th>\n",
       "      <th>Age at Death</th>\n",
       "      <th>Reason for Mortality</th>\n",
       "      <th>Residence Code</th>\n",
       "      <th>Residence Name</th>\n",
       "      <th>Local Community Size</th>\n",
       "      <th>Population</th>\n",
       "      <th>Health Status Code</th>\n",
       "      <th>Health Status Name</th>\n",
       "    </tr>\n",
       "  </thead>\n",
       "  <tbody>\n",
       "    <tr>\n",
       "      <th>18134</th>\n",
       "      <td>1933-12-12</td>\n",
       "      <td>2015-8-8</td>\n",
       "      <td>81</td>\n",
       "      <td>0</td>\n",
       "      <td>9</td>\n",
       "      <td>Distrito Federal</td>\n",
       "      <td>15</td>\n",
       "      <td>500000 a 999999  habitantes</td>\n",
       "      <td>2</td>\n",
       "      <td>IMSS</td>\n",
       "    </tr>\n",
       "    <tr>\n",
       "      <th>18135</th>\n",
       "      <td>1933-11-11</td>\n",
       "      <td>2015-12-12</td>\n",
       "      <td>82</td>\n",
       "      <td>0</td>\n",
       "      <td>15</td>\n",
       "      <td>México</td>\n",
       "      <td>14</td>\n",
       "      <td>250000 a 499999 habitantes</td>\n",
       "      <td>2</td>\n",
       "      <td>IMSS</td>\n",
       "    </tr>\n",
       "    <tr>\n",
       "      <th>18136</th>\n",
       "      <td>1933-8-8</td>\n",
       "      <td>2015-9-9</td>\n",
       "      <td>82</td>\n",
       "      <td>0</td>\n",
       "      <td>24</td>\n",
       "      <td>San Luis Potosí</td>\n",
       "      <td>15</td>\n",
       "      <td>500000 a 999999  habitantes</td>\n",
       "      <td>2</td>\n",
       "      <td>IMSS</td>\n",
       "    </tr>\n",
       "    <tr>\n",
       "      <th>18137</th>\n",
       "      <td>1930-1-1</td>\n",
       "      <td>2016-2-2</td>\n",
       "      <td>86</td>\n",
       "      <td>0</td>\n",
       "      <td>14</td>\n",
       "      <td>Jalisco</td>\n",
       "      <td>15</td>\n",
       "      <td>500000 a 999999  habitantes</td>\n",
       "      <td>2</td>\n",
       "      <td>IMSS</td>\n",
       "    </tr>\n",
       "    <tr>\n",
       "      <th>18138</th>\n",
       "      <td>1930-8-8</td>\n",
       "      <td>2017-1-1</td>\n",
       "      <td>86</td>\n",
       "      <td>0</td>\n",
       "      <td>30</td>\n",
       "      <td>Veracruz de Ignacio de la Llave</td>\n",
       "      <td>2</td>\n",
       "      <td>1000 a 1999    habitantes</td>\n",
       "      <td>6</td>\n",
       "      <td>SECRETARIA DE MARINA</td>\n",
       "    </tr>\n",
       "  </tbody>\n",
       "</table>\n",
       "</div>"
      ],
      "text/plain": [
       "      Date of Birth Date of Death  Age at Death  Reason for Mortality  \\\n",
       "18134    1933-12-12      2015-8-8            81                     0   \n",
       "18135    1933-11-11    2015-12-12            82                     0   \n",
       "18136      1933-8-8      2015-9-9            82                     0   \n",
       "18137      1930-1-1      2016-2-2            86                     0   \n",
       "18138      1930-8-8      2017-1-1            86                     0   \n",
       "\n",
       "       Residence Code                   Residence Name  Local Community Size  \\\n",
       "18134               9                 Distrito Federal                    15   \n",
       "18135              15                           México                    14   \n",
       "18136              24                  San Luis Potosí                    15   \n",
       "18137              14                          Jalisco                    15   \n",
       "18138              30  Veracruz de Ignacio de la Llave                     2   \n",
       "\n",
       "                        Population  Health Status Code    Health Status Name  \n",
       "18134  500000 a 999999  habitantes                   2                  IMSS  \n",
       "18135   250000 a 499999 habitantes                   2                  IMSS  \n",
       "18136  500000 a 999999  habitantes                   2                  IMSS  \n",
       "18137  500000 a 999999  habitantes                   2                  IMSS  \n",
       "18138    1000 a 1999    habitantes                   6  SECRETARIA DE MARINA  "
      ]
     },
     "execution_count": 10,
     "metadata": {},
     "output_type": "execute_result"
    }
   ],
   "source": [
    "# 7: Remove rows with NaN / '0-0-0' values in Date of Birth\n",
    "dates = dates[dates['Date of Birth'] != '0-0-0']\n",
    "dates.tail()"
   ]
  },
  {
   "cell_type": "markdown",
   "metadata": {},
   "source": [
    "## Check if all values make sense\n",
    "- What does the '0' for Reason for Mortality Mean?"
   ]
  },
  {
   "cell_type": "code",
   "execution_count": 11,
   "metadata": {},
   "outputs": [
    {
     "name": "stdout",
     "output_type": "stream",
     "text": [
      "   Reason Mortality Code                       Reason Mortality Description\n",
      "0                      1  Muertes Maternas para la razón de Mortalidad M...\n",
      "1                      1  Muertes Maternas para la razón de Mortalidad M...        Reason Mortality Code  \\\n",
      "18161                      0   \n",
      "18162                      0   \n",
      "\n",
      "                            Reason Mortality Description  \n",
      "18161  Muertes Maternas excluidas para la razón de Mo...  \n",
      "18162  Muertes Maternas excluidas para la razón de Mo...  \n"
     ]
    }
   ],
   "source": [
    "# Create a variable for the description of Reason for Mortality Description\n",
    "mortality_description = materna['Descripción de la razón de mortalidad materna']\n",
    "\n",
    "# Create a sub-dataframe to show interaction of Reason for Mortality Code and Description\n",
    "mortality = pd.concat([mortality_reason, mortality_description], axis=1)\n",
    "mortality.columns = ['Reason Mortality Code', 'Reason Mortality Description']\n",
    "print(mortality.head(2), mortality.tail(2))"
   ]
  },
  {
   "cell_type": "markdown",
   "metadata": {},
   "source": [
    "*Conclusion*: Based off of the sub-dataset, it is clear the a '1' refers to recorded deaths associated with pregnancy whereas a '0' refers to recorded deaths that are *not* associated with pregnancy. Since the purpose of this analysis is to determine the mean age of maternal death, all rows with the '0' value should be removed from the dates sub-dataet."
   ]
  },
  {
   "cell_type": "code",
   "execution_count": 12,
   "metadata": {},
   "outputs": [
    {
     "data": {
      "text/html": [
       "<div>\n",
       "<style scoped>\n",
       "    .dataframe tbody tr th:only-of-type {\n",
       "        vertical-align: middle;\n",
       "    }\n",
       "\n",
       "    .dataframe tbody tr th {\n",
       "        vertical-align: top;\n",
       "    }\n",
       "\n",
       "    .dataframe thead th {\n",
       "        text-align: right;\n",
       "    }\n",
       "</style>\n",
       "<table border=\"1\" class=\"dataframe\">\n",
       "  <thead>\n",
       "    <tr style=\"text-align: right;\">\n",
       "      <th></th>\n",
       "      <th>Date of Birth</th>\n",
       "      <th>Date of Death</th>\n",
       "      <th>Age at Death</th>\n",
       "      <th>Reason for Mortality</th>\n",
       "      <th>Residence Code</th>\n",
       "      <th>Residence Name</th>\n",
       "      <th>Local Community Size</th>\n",
       "      <th>Population</th>\n",
       "      <th>Health Status Code</th>\n",
       "      <th>Health Status Name</th>\n",
       "    </tr>\n",
       "  </thead>\n",
       "  <tbody>\n",
       "    <tr>\n",
       "      <th>18113</th>\n",
       "      <td>1960-3-3</td>\n",
       "      <td>2010-10-10</td>\n",
       "      <td>50</td>\n",
       "      <td>1</td>\n",
       "      <td>12</td>\n",
       "      <td>Guerrero</td>\n",
       "      <td>1</td>\n",
       "      <td>1 a 999            habitantes</td>\n",
       "      <td>7</td>\n",
       "      <td>SEGURO POPULAR</td>\n",
       "    </tr>\n",
       "    <tr>\n",
       "      <th>18116</th>\n",
       "      <td>1960-1-1</td>\n",
       "      <td>2011-10-10</td>\n",
       "      <td>51</td>\n",
       "      <td>1</td>\n",
       "      <td>12</td>\n",
       "      <td>Guerrero</td>\n",
       "      <td>1</td>\n",
       "      <td>1 a 999            habitantes</td>\n",
       "      <td>1</td>\n",
       "      <td>NINGUNA</td>\n",
       "    </tr>\n",
       "    <tr>\n",
       "      <th>18121</th>\n",
       "      <td>1963-12-12</td>\n",
       "      <td>2017-10-10</td>\n",
       "      <td>53</td>\n",
       "      <td>1</td>\n",
       "      <td>15</td>\n",
       "      <td>México</td>\n",
       "      <td>6</td>\n",
       "      <td>10000 a 14999  habitantes</td>\n",
       "      <td>1</td>\n",
       "      <td>NINGUNA</td>\n",
       "    </tr>\n",
       "    <tr>\n",
       "      <th>18123</th>\n",
       "      <td>1961-8-8</td>\n",
       "      <td>2015-5-5</td>\n",
       "      <td>53</td>\n",
       "      <td>1</td>\n",
       "      <td>7</td>\n",
       "      <td>Chiapas</td>\n",
       "      <td>2</td>\n",
       "      <td>1000 a 1999    habitantes</td>\n",
       "      <td>7</td>\n",
       "      <td>SEGURO POPULAR</td>\n",
       "    </tr>\n",
       "    <tr>\n",
       "      <th>18125</th>\n",
       "      <td>1942-12-12</td>\n",
       "      <td>2002-12-12</td>\n",
       "      <td>54</td>\n",
       "      <td>1</td>\n",
       "      <td>20</td>\n",
       "      <td>Oaxaca</td>\n",
       "      <td>3</td>\n",
       "      <td>2000 a 2499    habitantes</td>\n",
       "      <td>1</td>\n",
       "      <td>NINGUNA</td>\n",
       "    </tr>\n",
       "  </tbody>\n",
       "</table>\n",
       "</div>"
      ],
      "text/plain": [
       "      Date of Birth Date of Death  Age at Death  Reason for Mortality  \\\n",
       "18113      1960-3-3    2010-10-10            50                     1   \n",
       "18116      1960-1-1    2011-10-10            51                     1   \n",
       "18121    1963-12-12    2017-10-10            53                     1   \n",
       "18123      1961-8-8      2015-5-5            53                     1   \n",
       "18125    1942-12-12    2002-12-12            54                     1   \n",
       "\n",
       "       Residence Code Residence Name  Local Community Size  \\\n",
       "18113              12       Guerrero                     1   \n",
       "18116              12       Guerrero                     1   \n",
       "18121              15         México                     6   \n",
       "18123               7        Chiapas                     2   \n",
       "18125              20         Oaxaca                     3   \n",
       "\n",
       "                          Population  Health Status Code Health Status Name  \n",
       "18113  1 a 999            habitantes                   7     SEGURO POPULAR  \n",
       "18116  1 a 999            habitantes                   1            NINGUNA  \n",
       "18121      10000 a 14999  habitantes                   1            NINGUNA  \n",
       "18123      1000 a 1999    habitantes                   7     SEGURO POPULAR  \n",
       "18125      2000 a 2499    habitantes                   1            NINGUNA  "
      ]
     },
     "execution_count": 12,
     "metadata": {},
     "output_type": "execute_result"
    }
   ],
   "source": [
    "# Remove rows with 0 values in Reason for Mortality\n",
    "dates = dates[dates['Reason for Mortality'] != 0 ]\n",
    "dates.tail()"
   ]
  },
  {
   "cell_type": "code",
   "execution_count": 13,
   "metadata": {},
   "outputs": [
    {
     "data": {
      "text/html": [
       "<div>\n",
       "<style scoped>\n",
       "    .dataframe tbody tr th:only-of-type {\n",
       "        vertical-align: middle;\n",
       "    }\n",
       "\n",
       "    .dataframe tbody tr th {\n",
       "        vertical-align: top;\n",
       "    }\n",
       "\n",
       "    .dataframe thead th {\n",
       "        text-align: right;\n",
       "    }\n",
       "</style>\n",
       "<table border=\"1\" class=\"dataframe\">\n",
       "  <thead>\n",
       "    <tr style=\"text-align: right;\">\n",
       "      <th></th>\n",
       "      <th>Age at Death</th>\n",
       "      <th>Reason for Mortality</th>\n",
       "      <th>Residence Code</th>\n",
       "      <th>Local Community Size</th>\n",
       "      <th>Health Status Code</th>\n",
       "    </tr>\n",
       "  </thead>\n",
       "  <tbody>\n",
       "    <tr>\n",
       "      <th>count</th>\n",
       "      <td>16636.000000</td>\n",
       "      <td>16636.0</td>\n",
       "      <td>16636.000000</td>\n",
       "      <td>16636.000000</td>\n",
       "      <td>16636.000000</td>\n",
       "    </tr>\n",
       "    <tr>\n",
       "      <th>mean</th>\n",
       "      <td>28.356756</td>\n",
       "      <td>1.0</td>\n",
       "      <td>16.279574</td>\n",
       "      <td>7.810050</td>\n",
       "      <td>3.108680</td>\n",
       "    </tr>\n",
       "    <tr>\n",
       "      <th>std</th>\n",
       "      <td>7.323171</td>\n",
       "      <td>0.0</td>\n",
       "      <td>7.850170</td>\n",
       "      <td>5.912597</td>\n",
       "      <td>2.799926</td>\n",
       "    </tr>\n",
       "    <tr>\n",
       "      <th>min</th>\n",
       "      <td>11.000000</td>\n",
       "      <td>1.0</td>\n",
       "      <td>1.000000</td>\n",
       "      <td>0.000000</td>\n",
       "      <td>0.000000</td>\n",
       "    </tr>\n",
       "    <tr>\n",
       "      <th>25%</th>\n",
       "      <td>22.000000</td>\n",
       "      <td>1.0</td>\n",
       "      <td>10.000000</td>\n",
       "      <td>2.000000</td>\n",
       "      <td>1.000000</td>\n",
       "    </tr>\n",
       "    <tr>\n",
       "      <th>50%</th>\n",
       "      <td>28.000000</td>\n",
       "      <td>1.0</td>\n",
       "      <td>15.000000</td>\n",
       "      <td>6.000000</td>\n",
       "      <td>2.000000</td>\n",
       "    </tr>\n",
       "    <tr>\n",
       "      <th>75%</th>\n",
       "      <td>34.000000</td>\n",
       "      <td>1.0</td>\n",
       "      <td>21.000000</td>\n",
       "      <td>14.000000</td>\n",
       "      <td>7.000000</td>\n",
       "    </tr>\n",
       "    <tr>\n",
       "      <th>max</th>\n",
       "      <td>54.000000</td>\n",
       "      <td>1.0</td>\n",
       "      <td>34.000000</td>\n",
       "      <td>17.000000</td>\n",
       "      <td>10.000000</td>\n",
       "    </tr>\n",
       "  </tbody>\n",
       "</table>\n",
       "</div>"
      ],
      "text/plain": [
       "       Age at Death  Reason for Mortality  Residence Code  \\\n",
       "count  16636.000000               16636.0    16636.000000   \n",
       "mean      28.356756                   1.0       16.279574   \n",
       "std        7.323171                   0.0        7.850170   \n",
       "min       11.000000                   1.0        1.000000   \n",
       "25%       22.000000                   1.0       10.000000   \n",
       "50%       28.000000                   1.0       15.000000   \n",
       "75%       34.000000                   1.0       21.000000   \n",
       "max       54.000000                   1.0       34.000000   \n",
       "\n",
       "       Local Community Size  Health Status Code  \n",
       "count          16636.000000        16636.000000  \n",
       "mean               7.810050            3.108680  \n",
       "std                5.912597            2.799926  \n",
       "min                0.000000            0.000000  \n",
       "25%                2.000000            1.000000  \n",
       "50%                6.000000            2.000000  \n",
       "75%               14.000000            7.000000  \n",
       "max               17.000000           10.000000  "
      ]
     },
     "execution_count": 13,
     "metadata": {},
     "output_type": "execute_result"
    }
   ],
   "source": [
    "# Analyze shape of cleaned data\n",
    "dates.describe()"
   ]
  },
  {
   "cell_type": "markdown",
   "metadata": {},
   "source": [
    "## Question 1: What is the Average Age of Maternal Death within the dataset? How does this relate to the actual Population Average Age of Maternal Death?"
   ]
  },
  {
   "cell_type": "markdown",
   "metadata": {},
   "source": [
    "### Record the Mean Age of Maternal Death within a Variable and Plot Age Distribution"
   ]
  },
  {
   "cell_type": "code",
   "execution_count": 14,
   "metadata": {},
   "outputs": [
    {
     "data": {
      "text/plain": [
       "16636"
      ]
     },
     "execution_count": 14,
     "metadata": {},
     "output_type": "execute_result"
    }
   ],
   "source": [
    "# Create variable for maternal death\n",
    "age_death = dates['Age at Death']\n",
    "\n",
    "# Determine sample size for maternal death \n",
    "sample_size = len(age_death)\n",
    "sample_size"
   ]
  },
  {
   "cell_type": "code",
   "execution_count": 15,
   "metadata": {},
   "outputs": [
    {
     "data": {
      "image/png": "[encoded data removed]",
      "text/plain": [
       "<Figure size 432x288 with 2 Axes>"
      ]
     },
     "metadata": {
      "needs_background": "light"
     },
     "output_type": "display_data"
    },
    {
     "data": {
      "text/plain": [
       "'The sample(n=16636) population mean age of maternal death is 28.36 years old with a standard deviation of 7.32.'"
      ]
     },
     "execution_count": 15,
     "metadata": {},
     "output_type": "execute_result"
    }
   ],
   "source": [
    "# Create a figure with two plots\n",
    "fig, (boxplot, histogram) = plt.subplots(2, sharex=True, gridspec_kw={\"height_ratios\": (.15, .85)})\n",
    "\n",
    "# Add boxplot for maternal death\n",
    "sns.boxplot(age_death, ax=boxplot)\n",
    "\n",
    "# Remove x-axis label from boxplot\n",
    "boxplot.set(xlabel='')\n",
    "\n",
    "# Add histogram and normal curve for maternal death\n",
    "fit = stats.norm.pdf(age_death, np.mean(age_death), np.std(age_death))\n",
    "pl.plot(age_death, fit, '-o')\n",
    "pl.hist(age_death, density=True, alpha=0.5, bins=20)\n",
    "\n",
    "# Label axis \n",
    "pl.xlabel('Age of Maternal Mortality')\n",
    "pl.ylabel('Probability Density Function')\n",
    "pl.title('Age Distribution Associated with the Incidence of Maternal Mortality in Mexico')\n",
    "\n",
    "# Show plot and add print mean and std sample information\n",
    "plt.show()\n",
    "'The sample(n=' + str(sample_size) + ') population mean age of maternal death is ' + str(round(np.mean(age_death), 2)) + ' years old with a standard deviation of ' + str(round(np.std(age_death), 2)) + '.'\n"
   ]
  },
  {
   "cell_type": "markdown",
   "metadata": {},
   "source": [
    "The distribution appears to be generally normally distributed based off of the histogram of the maternal age at time of death. Since binning bias can occur, the Cumulative Distribution Function (CDF) needs to be analyzed."
   ]
  },
  {
   "cell_type": "markdown",
   "metadata": {},
   "source": [
    "Based off of the Central Limit Theorem (CLT), the sampling distribution of the sample means approaches a normal distribution as the sample size ($n$) gets larger - regardless of what the shape of the population distribution. Under this theorem, $n>30$ is considered a large sample size. Since the current database sample size $n$ = 16636, CLT can be assumed."
   ]
  },
  {
   "cell_type": "markdown",
   "metadata": {},
   "source": [
    "### Create Empirical and Theoretical CDFs to Assess if Data is Normally Distributed"
   ]
  },
  {
   "cell_type": "code",
   "execution_count": 16,
   "metadata": {},
   "outputs": [],
   "source": [
    "# Create an Empirical Cumulative Distribution Function (ECDF)\n",
    "def ecdf(data):\n",
    "    \"\"\"Compute ECDF for a one-dimensional array of measurements.\"\"\"\n",
    "    # x-data for the ECDF: x\n",
    "    x = np.sort(data)\n",
    "\n",
    "    # y-data for the ECDF: y\n",
    "    y = np.arange(1, len(data)+1) / len(data)\n",
    "\n",
    "    return x, y"
   ]
  },
  {
   "cell_type": "code",
   "execution_count": 17,
   "metadata": {},
   "outputs": [],
   "source": [
    "# Compute the ECDF of data\n",
    "x_death, y_death = ecdf(age_death)\n",
    "\n",
    "# Seed the random number generator:\n",
    "np.random.seed(15)\n",
    "\n",
    "# Compute the theoretical CDF \n",
    "cdf_mean = np.mean(age_death)\n",
    "cdf_std = np.std(age_death)\n",
    "cdf_samples = np.random.normal(cdf_mean, cdf_std, size=10000)\n",
    "x_norm, y_norm = ecdf(cdf_samples)"
   ]
  },
  {
   "cell_type": "code",
   "execution_count": 18,
   "metadata": {},
   "outputs": [
    {
     "data": {
      "image/png": "[encoded data removed]",
      "text/plain": [
       "<Figure size 432x288 with 1 Axes>"
      ]
     },
     "metadata": {
      "needs_background": "light"
     },
     "output_type": "display_data"
    }
   ],
   "source": [
    "# Graphically visualize data\n",
    "\n",
    "# Plot both ECDFs on same plot\n",
    "fig = plt.plot(x_death, y_death, marker='.', linestyle='none')\n",
    "fig = plt.plot(x_norm, x_norm, marker='.', linestyle='none')\n",
    "\n",
    "# Label figure\n",
    "fig = plt.xlabel('Age of Maternal Death')\n",
    "fig = plt.ylabel('ECDF')\n",
    "fig = plt.legend(('Sample Population', 'Expected Norm'))\n",
    "fig = plt.title('Distribution of Maternal-Associated Deaths in Mexico')\n",
    "\n",
    "# Save plots\n",
    "plt.show()"
   ]
  },
  {
   "cell_type": "markdown",
   "metadata": {},
   "source": [
    "**Conclusion**: The datat does not appear to be normally distributed. I am unclear as to what this means for my statistical significance, but further research is needed in order to determine if the distribution should or should not be normally distributed."
   ]
  },
  {
   "cell_type": "markdown",
   "metadata": {},
   "source": [
    "## Statistical Testing of Data Mean\n",
    "\n",
    "$H$o: The mean age of death of maternal women in Mexico is equal to the mean age of death presented in the dataset ($28.35 yoa$). <br>  Empirical Mean ($μ$) − Population Mean ($μ$) = 0\n",
    "\n",
    "$H$a: The mean age of death of maternal women in Mexico is *not* equal to the mean age of death presented in the dataset ($28.35 yoa$). <br> Empirical Mean ($μ$) − Population Mean ($μ$) ≠ 0\n",
    "\n",
    "Significance Level: *95%* Confidence. <br> $α$ = 0.05"
   ]
  },
  {
   "cell_type": "markdown",
   "metadata": {},
   "source": [
    "### Bootstrap Simulation: Compare the Sample Mean to a Statistically-Likely Population Mean"
   ]
  },
  {
   "cell_type": "code",
   "execution_count": 19,
   "metadata": {},
   "outputs": [],
   "source": [
    "# Create a bootstrap replicate function for repeatability\n",
    "def bootstrap_replicate_1d(data, func):\n",
    "    \"\"\"Create a bootstrap replicates.\"\"\"\n",
    "    \n",
    "    # Create bootstrap sample\n",
    "    boot_sample = np.random.choice(data, size=len(data))\n",
    "    \n",
    "    # Apply function to the computed bootstrap sample\n",
    "    return func(boot_sample)\n",
    "\n",
    "\n",
    "# Create a function to apply the bootstrap replicate function 'n' and return an array\n",
    "def draw_bs_reps(data, func, size=1):\n",
    "    \"\"\"Draw bootstrap replicates.\"\"\"\n",
    "\n",
    "    # Initialize array of replicates: bs_replicates\n",
    "    boot_rep = np.empty(size)\n",
    "\n",
    "    # Generate 'n' number of replicates\n",
    "    for i in range(size):\n",
    "        boot_rep[i] = bootstrap_replicate_1d(data, func)\n",
    "\n",
    "    return boot_rep"
   ]
  },
  {
   "cell_type": "markdown",
   "metadata": {},
   "source": [
    "**Conclusion from the Bootstrap Hypothesis Test:** The resulting population mean of maternal death approximation based on 10,000 bootstrap replicate samples was *28.3564 years of age (yoa)*, which is close to the sample mean of *28.3568 yoa* old from the dataset. Additionally, the bootstrap population mean is within the 95% Confidence Interval, *28.2443 to 28.4692 yoa* with a p-value of 0.4959, which is greater than α = 0.05. Therefore, the null hypothesis that the mean age of death of maternal women in Mexico is equal to the mean age of death presented in the dataset can be accepted. **$Ho$ is accepted**."
   ]
  },
  {
   "cell_type": "code",
   "execution_count": 22,
   "metadata": {},
   "outputs": [
    {
     "name": "stdout",
     "output_type": "stream",
     "text": [
      "sample size:  16636\n",
      "sample mean age of death:  28.356756431834576\n",
      "sample standard deviation:  7.3231710220967\n"
     ]
    }
   ],
   "source": [
    "# Create variables for sample statistical information\n",
    "materna_age_std = age_death.std()\n",
    "materna_sample_size = len(age_death)\n",
    "mean_age = dates['Age at Death'].mean()\n",
    "\n",
    "# Create an array of the sample mean that is equal to the boostrap array length\n",
    "materna_mean_arr = np.full(10000, mean_age)\n",
    "\n",
    "print('sample size: ', materna_sample_size)\n",
    "print('sample mean age of death: ', mean_age)\n",
    "print('sample standard deviation: ', materna_age_std)"
   ]
  },
  {
   "cell_type": "code",
   "execution_count": 23,
   "metadata": {},
   "outputs": [
    {
     "name": "stdout",
     "output_type": "stream",
     "text": [
      "bootstrap mean age of death: 28.35754245611926\n",
      "p-value: 0.5055\n",
      "95% Confidence Interval: [28.2443  28.4692]\n"
     ]
    }
   ],
   "source": [
    "# Create 10000 bootstrap replicates of the mean and take the mean of the returned array\n",
    "boot_tenthousand =  draw_bs_reps(age_death, np.mean, size=10000)\n",
    "print('bootstrap mean age of death: ' + str(np.mean(boot_tenthousand)))\n",
    "\n",
    "# Compute p-value\n",
    "p_val = np.sum(boot_tenthousand >= materna_mean_arr) / len(boot_tenthousand)\n",
    "print('p-value: {0:0.4f}'.format(p_val))\n",
    "\n",
    "# Calculate the standard margin of error for a 95% confidence interval\n",
    "conf_int_low = mean_age-(1.98*(materna_age_std/math.sqrt(materna_sample_size)))\n",
    "conf_int_high = mean_age+(1.98*(materna_age_std/math.sqrt(materna_sample_size)))\n",
    "print('95% Confidence Interval: [{0:0.4f}  {1:0.4f}]'.format(conf_int_low, conf_int_high))\n"
   ]
  },
  {
   "cell_type": "markdown",
   "metadata": {},
   "source": [
    "----------------------------------------------------------------------------------------------------------------------"
   ]
  },
  {
   "cell_type": "markdown",
   "metadata": {},
   "source": [
    "## Question 2: How does the Average Age and Distribution of Age of Maternal Death Change Across Mexico's States/Providences?"
   ]
  },
  {
   "cell_type": "code",
   "execution_count": 24,
   "metadata": {},
   "outputs": [
    {
     "data": {
      "text/plain": [
       "0                            Chiapas\n",
       "1    Veracruz de Ignacio de la Llave\n",
       "2                            Tabasco\n",
       "3                             México\n",
       "4                           Guerrero\n",
       "Name: Residence Name, dtype: object"
      ]
     },
     "execution_count": 24,
     "metadata": {},
     "output_type": "execute_result"
    }
   ],
   "source": [
    "# Create a variable for residence location based off of cleaned sub-dataframe\n",
    "residence = dates['Residence Name']\n",
    "residence.head()"
   ]
  },
  {
   "cell_type": "code",
   "execution_count": 25,
   "metadata": {},
   "outputs": [
    {
     "data": {
      "text/plain": [
       "Text(0.5,1,'Incidence of Maternal Mortality in Each Providence of Mexico')"
      ]
     },
     "execution_count": 25,
     "metadata": {},
     "output_type": "execute_result"
    },
    {
     "data": {
      "image/png": "[encoded data removed]",
      "text/plain": [
       "<Figure size 1152x288 with 1 Axes>"
      ]
     },
     "metadata": {
      "needs_background": "light"
     },
     "output_type": "display_data"
    }
   ],
   "source": [
    "# Create a bar graph to show distribution of incidences of maternal death by region\n",
    "fig, ax = plt.subplots(figsize=(16, 4))\n",
    "plt.xticks(rotation='vertical')\n",
    "plt.grid(True)\n",
    "fig.subplots_adjust(bottom=0.2)\n",
    "sns.countplot(residence)\n",
    "\n",
    "# Label axis \n",
    "pl.title('Incidence of Maternal Mortality in Each Providence of Mexico')"
   ]
  },
  {
   "cell_type": "markdown",
   "metadata": {},
   "source": [
    "*Preliminary Observation*: It appears that certain regions have the incidence of maternal death more prevenantly than others (ie. Mexico Region has more than Ostros paises latinomericas). Further analysis needs to be performed in order to assess the cause of these differences."
   ]
  },
  {
   "cell_type": "code",
   "execution_count": 26,
   "metadata": {},
   "outputs": [
    {
     "data": {
      "text/html": [
       "<div>\n",
       "<style scoped>\n",
       "    .dataframe tbody tr th:only-of-type {\n",
       "        vertical-align: middle;\n",
       "    }\n",
       "\n",
       "    .dataframe tbody tr th {\n",
       "        vertical-align: top;\n",
       "    }\n",
       "\n",
       "    .dataframe thead th {\n",
       "        text-align: right;\n",
       "    }\n",
       "</style>\n",
       "<table border=\"1\" class=\"dataframe\">\n",
       "  <thead>\n",
       "    <tr style=\"text-align: right;\">\n",
       "      <th></th>\n",
       "      <th>Region</th>\n",
       "    </tr>\n",
       "  </thead>\n",
       "  <tbody>\n",
       "    <tr>\n",
       "      <th>1</th>\n",
       "      <td>Aguascalientes</td>\n",
       "    </tr>\n",
       "    <tr>\n",
       "      <th>2</th>\n",
       "      <td>Baja California</td>\n",
       "    </tr>\n",
       "    <tr>\n",
       "      <th>3</th>\n",
       "      <td>Baja California Sur</td>\n",
       "    </tr>\n",
       "    <tr>\n",
       "      <th>4</th>\n",
       "      <td>Campeche</td>\n",
       "    </tr>\n",
       "    <tr>\n",
       "      <th>5</th>\n",
       "      <td>Chiapas</td>\n",
       "    </tr>\n",
       "  </tbody>\n",
       "</table>\n",
       "</div>"
      ],
      "text/plain": [
       "                Region\n",
       "1       Aguascalientes\n",
       "2      Baja California\n",
       "3  Baja California Sur\n",
       "4             Campeche\n",
       "5              Chiapas"
      ]
     },
     "execution_count": 26,
     "metadata": {},
     "output_type": "execute_result"
    }
   ],
   "source": [
    "# Create a sub-dataframe with residence name and code (unique)\n",
    "\n",
    "# Var for residence name \n",
    "residence_uniq = np.unique(residence)\n",
    "\n",
    "# Var for residence code\n",
    "residence_code = np.unique(dates['Residence Code'])\n",
    "\n",
    "# Create the sub-dateframe for region\n",
    "res_dataset = pd.DataFrame(residence_uniq, index=residence_code)\n",
    "res_dataset = res_dataset.rename(columns={0:'Region'})\n",
    "res_dataset.head()"
   ]
  },
  {
   "cell_type": "code",
   "execution_count": 27,
   "metadata": {},
   "outputs": [
    {
     "data": {
      "text/plain": [
       "<matplotlib.axes._subplots.AxesSubplot at 0x1a1b1b4208>"
      ]
     },
     "execution_count": 27,
     "metadata": {},
     "output_type": "execute_result"
    },
    {
     "data": {
      "image/png": "[encoded data removed]",
      "text/plain": [
       "<Figure size 1152x576 with 1 Axes>"
      ]
     },
     "metadata": {
      "needs_background": "light"
     },
     "output_type": "display_data"
    }
   ],
   "source": [
    "# Create a boxplot to show the distribution of each region compared to its mean\n",
    "fig, ax = plt.subplots(figsize=(16, 8))\n",
    "plt.xticks(rotation='vertical')\n",
    "fig.subplots_adjust(bottom=0.2)\n",
    "sns.boxplot(x=residence, y=age_death, data=dates)"
   ]
  },
  {
   "cell_type": "markdown",
   "metadata": {},
   "source": [
    "*Preliminary Observation*: It appears that some regions experience a larger age variation in maternal deaths. Is this due to the size of the region? Or possibly the economic status of the region?"
   ]
  },
  {
   "cell_type": "code",
   "execution_count": 28,
   "metadata": {},
   "outputs": [
    {
     "name": "stdout",
     "output_type": "stream",
     "text": [
      "28.36\n",
      "['28.36']\n",
      "27.15\n",
      "['28.36', '27.15']\n"
     ]
    }
   ],
   "source": [
    "# Calculate the mean age per region - This section has test trials per entry to help formulate an iteration function\n",
    "\n",
    "mean_death_list_trial = []\n",
    "\n",
    "aguas = dates[dates['Residence Code'] == 1 ]\n",
    "aguas = aguas[['Residence Code', 'Age at Death']]\n",
    "aguas_mean = aguas['Age at Death'].mean()\n",
    "aguas_mean = '{0:0.2f}'.format(aguas_mean)\n",
    "print(aguas_mean)\n",
    "\n",
    "mean_death_list_trial.append(aguas_mean)\n",
    "print(mean_death_list_trial)\n",
    "\n",
    "baja = dates[dates['Residence Code'] == 2 ]\n",
    "baja = baja[['Residence Code', 'Age at Death']]\n",
    "baja_mean = baja['Age at Death'].mean()\n",
    "baja_mean = '{0:0.2f}'.format(baja_mean)\n",
    "print(baja_mean)\n",
    "\n",
    "mean_death_list_trial.append(baja_mean)\n",
    "print(mean_death_list_trial)"
   ]
  },
  {
   "cell_type": "code",
   "execution_count": 42,
   "metadata": {},
   "outputs": [],
   "source": [
    "# Create an empty list to store mean age of maternal death per region\n",
    "region_list = []\n",
    "\n",
    "# Create an iteration function to calculate the mean age of maternal death per region\n",
    "for i in dates['Residence Code'].sort_values().unique():\n",
    "    \"\"\"Calculate Mean Age per Region\"\"\"\n",
    "    \n",
    "    #select one region\n",
    "    sub_df = dates[dates['Residence Code'] == (i - 1)]\n",
    "    \n",
    "    #calculate mean of region\n",
    "    mean = sub_df['Age at Death'].mean()\n",
    "    \n",
    "    # append mean to region list\n",
    "    region_list.append(round(mean, 2)) "
   ]
  },
  {
   "cell_type": "code",
   "execution_count": 43,
   "metadata": {},
   "outputs": [
    {
     "data": {
      "text/html": [
       "<div>\n",
       "<style scoped>\n",
       "    .dataframe tbody tr th:only-of-type {\n",
       "        vertical-align: middle;\n",
       "    }\n",
       "\n",
       "    .dataframe tbody tr th {\n",
       "        vertical-align: top;\n",
       "    }\n",
       "\n",
       "    .dataframe thead th {\n",
       "        text-align: right;\n",
       "    }\n",
       "</style>\n",
       "<table border=\"1\" class=\"dataframe\">\n",
       "  <thead>\n",
       "    <tr style=\"text-align: right;\">\n",
       "      <th></th>\n",
       "      <th>Region</th>\n",
       "      <th>$μ$ Age Maternal Death</th>\n",
       "    </tr>\n",
       "  </thead>\n",
       "  <tbody>\n",
       "    <tr>\n",
       "      <th>1</th>\n",
       "      <td>Aguascalientes</td>\n",
       "      <td>28.36</td>\n",
       "    </tr>\n",
       "    <tr>\n",
       "      <th>2</th>\n",
       "      <td>Baja California</td>\n",
       "      <td>27.15</td>\n",
       "    </tr>\n",
       "    <tr>\n",
       "      <th>3</th>\n",
       "      <td>Baja California Sur</td>\n",
       "      <td>27.56</td>\n",
       "    </tr>\n",
       "    <tr>\n",
       "      <th>4</th>\n",
       "      <td>Campeche</td>\n",
       "      <td>26.87</td>\n",
       "    </tr>\n",
       "    <tr>\n",
       "      <th>5</th>\n",
       "      <td>Chiapas</td>\n",
       "      <td>28.02</td>\n",
       "    </tr>\n",
       "    <tr>\n",
       "      <th>6</th>\n",
       "      <td>Chihuahua</td>\n",
       "      <td>27.59</td>\n",
       "    </tr>\n",
       "    <tr>\n",
       "      <th>7</th>\n",
       "      <td>Coahuila de Zaragoza</td>\n",
       "      <td>28.24</td>\n",
       "    </tr>\n",
       "    <tr>\n",
       "      <th>8</th>\n",
       "      <td>Colima</td>\n",
       "      <td>26.98</td>\n",
       "    </tr>\n",
       "    <tr>\n",
       "      <th>9</th>\n",
       "      <td>Distrito Federal</td>\n",
       "      <td>28.84</td>\n",
       "    </tr>\n",
       "    <tr>\n",
       "      <th>10</th>\n",
       "      <td>Durango</td>\n",
       "      <td>28.65</td>\n",
       "    </tr>\n",
       "    <tr>\n",
       "      <th>11</th>\n",
       "      <td>Estados Unidos de Norteamérica</td>\n",
       "      <td>29.19</td>\n",
       "    </tr>\n",
       "    <tr>\n",
       "      <th>12</th>\n",
       "      <td>Guanajuato</td>\n",
       "      <td>28.61</td>\n",
       "    </tr>\n",
       "    <tr>\n",
       "      <th>13</th>\n",
       "      <td>Guerrero</td>\n",
       "      <td>28.28</td>\n",
       "    </tr>\n",
       "    <tr>\n",
       "      <th>14</th>\n",
       "      <td>Hidalgo</td>\n",
       "      <td>29.33</td>\n",
       "    </tr>\n",
       "    <tr>\n",
       "      <th>15</th>\n",
       "      <td>Jalisco</td>\n",
       "      <td>28.26</td>\n",
       "    </tr>\n",
       "    <tr>\n",
       "      <th>16</th>\n",
       "      <td>Michoacán de Ocampo</td>\n",
       "      <td>29.26</td>\n",
       "    </tr>\n",
       "    <tr>\n",
       "      <th>17</th>\n",
       "      <td>Morelos</td>\n",
       "      <td>28.18</td>\n",
       "    </tr>\n",
       "    <tr>\n",
       "      <th>18</th>\n",
       "      <td>México</td>\n",
       "      <td>27.90</td>\n",
       "    </tr>\n",
       "    <tr>\n",
       "      <th>19</th>\n",
       "      <td>Nayarit</td>\n",
       "      <td>28.17</td>\n",
       "    </tr>\n",
       "    <tr>\n",
       "      <th>20</th>\n",
       "      <td>Nuevo León</td>\n",
       "      <td>28.76</td>\n",
       "    </tr>\n",
       "    <tr>\n",
       "      <th>21</th>\n",
       "      <td>Oaxaca</td>\n",
       "      <td>28.41</td>\n",
       "    </tr>\n",
       "    <tr>\n",
       "      <th>22</th>\n",
       "      <td>Otros paises latinoamericanos</td>\n",
       "      <td>29.63</td>\n",
       "    </tr>\n",
       "    <tr>\n",
       "      <th>23</th>\n",
       "      <td>Puebla</td>\n",
       "      <td>27.91</td>\n",
       "    </tr>\n",
       "    <tr>\n",
       "      <th>24</th>\n",
       "      <td>Querétaro Arteaga</td>\n",
       "      <td>29.15</td>\n",
       "    </tr>\n",
       "    <tr>\n",
       "      <th>25</th>\n",
       "      <td>Quintana Roo</td>\n",
       "      <td>27.73</td>\n",
       "    </tr>\n",
       "    <tr>\n",
       "      <th>26</th>\n",
       "      <td>San Luis Potosí</td>\n",
       "      <td>27.29</td>\n",
       "    </tr>\n",
       "    <tr>\n",
       "      <th>27</th>\n",
       "      <td>Sinaloa</td>\n",
       "      <td>27.10</td>\n",
       "    </tr>\n",
       "    <tr>\n",
       "      <th>28</th>\n",
       "      <td>Sonora</td>\n",
       "      <td>28.26</td>\n",
       "    </tr>\n",
       "    <tr>\n",
       "      <th>29</th>\n",
       "      <td>Tabasco</td>\n",
       "      <td>28.45</td>\n",
       "    </tr>\n",
       "    <tr>\n",
       "      <th>30</th>\n",
       "      <td>Tamaulipas</td>\n",
       "      <td>27.94</td>\n",
       "    </tr>\n",
       "    <tr>\n",
       "      <th>31</th>\n",
       "      <td>Tlaxcala</td>\n",
       "      <td>27.50</td>\n",
       "    </tr>\n",
       "    <tr>\n",
       "      <th>32</th>\n",
       "      <td>Veracruz de Ignacio de la Llave</td>\n",
       "      <td>29.23</td>\n",
       "    </tr>\n",
       "    <tr>\n",
       "      <th>33</th>\n",
       "      <td>Yucatán</td>\n",
       "      <td>22.50</td>\n",
       "    </tr>\n",
       "    <tr>\n",
       "      <th>34</th>\n",
       "      <td>Zacatecas</td>\n",
       "      <td>NaN</td>\n",
       "    </tr>\n",
       "  </tbody>\n",
       "</table>\n",
       "</div>"
      ],
      "text/plain": [
       "                             Region  $μ$ Age Maternal Death\n",
       "1                    Aguascalientes                   28.36\n",
       "2                   Baja California                   27.15\n",
       "3               Baja California Sur                   27.56\n",
       "4                          Campeche                   26.87\n",
       "5                           Chiapas                   28.02\n",
       "6                         Chihuahua                   27.59\n",
       "7              Coahuila de Zaragoza                   28.24\n",
       "8                            Colima                   26.98\n",
       "9                  Distrito Federal                   28.84\n",
       "10                          Durango                   28.65\n",
       "11   Estados Unidos de Norteamérica                   29.19\n",
       "12                       Guanajuato                   28.61\n",
       "13                         Guerrero                   28.28\n",
       "14                          Hidalgo                   29.33\n",
       "15                          Jalisco                   28.26\n",
       "16              Michoacán de Ocampo                   29.26\n",
       "17                          Morelos                   28.18\n",
       "18                           México                   27.90\n",
       "19                          Nayarit                   28.17\n",
       "20                       Nuevo León                   28.76\n",
       "21                           Oaxaca                   28.41\n",
       "22    Otros paises latinoamericanos                   29.63\n",
       "23                           Puebla                   27.91\n",
       "24                Querétaro Arteaga                   29.15\n",
       "25                     Quintana Roo                   27.73\n",
       "26                  San Luis Potosí                   27.29\n",
       "27                          Sinaloa                   27.10\n",
       "28                           Sonora                   28.26\n",
       "29                          Tabasco                   28.45\n",
       "30                       Tamaulipas                   27.94\n",
       "31                         Tlaxcala                   27.50\n",
       "32  Veracruz de Ignacio de la Llave                   29.23\n",
       "33                          Yucatán                   22.50\n",
       "34                        Zacatecas                     NaN"
      ]
     },
     "execution_count": 43,
     "metadata": {},
     "output_type": "execute_result"
    }
   ],
   "source": [
    "# Convert the list to a Series and add as new column to res_dataset\n",
    "res_dataset['$μ$ Age Maternal Death'] = pd.Series(region_list)\n",
    "res_dataset"
   ]
  },
  {
   "cell_type": "markdown",
   "metadata": {},
   "source": [
    "*Preliminary Conclusion*: Since region 'Zacatecas' has a NaN value for mean age of maternal death, the contents of 'Zacatecas' need to be adjusted from NaN to the actual mean of the data for the res_dataset."
   ]
  },
  {
   "cell_type": "markdown",
   "metadata": {},
   "source": [
    "#### Clean Data by Replacing NaN/Null values with the Correct Data"
   ]
  },
  {
   "cell_type": "code",
   "execution_count": 46,
   "metadata": {},
   "outputs": [
    {
     "data": {
      "text/html": [
       "<div>\n",
       "<style scoped>\n",
       "    .dataframe tbody tr th:only-of-type {\n",
       "        vertical-align: middle;\n",
       "    }\n",
       "\n",
       "    .dataframe tbody tr th {\n",
       "        vertical-align: top;\n",
       "    }\n",
       "\n",
       "    .dataframe thead th {\n",
       "        text-align: right;\n",
       "    }\n",
       "</style>\n",
       "<table border=\"1\" class=\"dataframe\">\n",
       "  <thead>\n",
       "    <tr style=\"text-align: right;\">\n",
       "      <th></th>\n",
       "      <th>Region</th>\n",
       "      <th>$μ$ Age Maternal Death</th>\n",
       "    </tr>\n",
       "  </thead>\n",
       "  <tbody>\n",
       "    <tr>\n",
       "      <th>30</th>\n",
       "      <td>Tamaulipas</td>\n",
       "      <td>27.94</td>\n",
       "    </tr>\n",
       "    <tr>\n",
       "      <th>31</th>\n",
       "      <td>Tlaxcala</td>\n",
       "      <td>27.50</td>\n",
       "    </tr>\n",
       "    <tr>\n",
       "      <th>32</th>\n",
       "      <td>Veracruz de Ignacio de la Llave</td>\n",
       "      <td>29.23</td>\n",
       "    </tr>\n",
       "    <tr>\n",
       "      <th>33</th>\n",
       "      <td>Yucatán</td>\n",
       "      <td>22.50</td>\n",
       "    </tr>\n",
       "    <tr>\n",
       "      <th>34</th>\n",
       "      <td>Zacatecas</td>\n",
       "      <td>34.00</td>\n",
       "    </tr>\n",
       "  </tbody>\n",
       "</table>\n",
       "</div>"
      ],
      "text/plain": [
       "                             Region  $μ$ Age Maternal Death\n",
       "30                       Tamaulipas                   27.94\n",
       "31                         Tlaxcala                   27.50\n",
       "32  Veracruz de Ignacio de la Llave                   29.23\n",
       "33                          Yucatán                   22.50\n",
       "34                        Zacatecas                   34.00"
      ]
     },
     "execution_count": 46,
     "metadata": {},
     "output_type": "execute_result"
    }
   ],
   "source": [
    "# Calculate the mean Age of Death for region 'Zacatecas'\n",
    "zaca = dates[dates['Residence Code'] == 34 ]\n",
    "zaca = zaca['Age at Death']\n",
    "zaca_mean = zaca.mean()\n",
    "zaca_mean\n",
    "\n",
    "# Change contents of res_dataset NaN to calculated mean\n",
    "res_dataset = res_dataset.fillna(zaca_mean)\n",
    "res_dataset.tail()"
   ]
  },
  {
   "cell_type": "code",
   "execution_count": 47,
   "metadata": {},
   "outputs": [
    {
     "data": {
      "text/plain": [
       "Text(0.5,1,'Mean Age Maternal Mortality in Each Providence of Mexico')"
      ]
     },
     "execution_count": 47,
     "metadata": {},
     "output_type": "execute_result"
    },
    {
     "data": {
      "image/png": "[encoded data removed]",
      "text/plain": [
       "<Figure size 1152x288 with 1 Axes>"
      ]
     },
     "metadata": {
      "needs_background": "light"
     },
     "output_type": "display_data"
    }
   ],
   "source": [
    "# Create a bar graph to show mean age maternal death by region\n",
    "fig, ax = plt.subplots(figsize=(16, 4))\n",
    "plt.xticks(rotation='vertical')\n",
    "plt.grid(True)\n",
    "fig.subplots_adjust(bottom=0.2)\n",
    "plt.bar(res_dataset['Region'], res_dataset['$μ$ Age Maternal Death'])\n",
    "\n",
    "# Label axis \n",
    "pl.title('Mean Age Maternal Mortality in Each Providence of Mexico')"
   ]
  },
  {
   "cell_type": "markdown",
   "metadata": {},
   "source": [
    "### Additional Question: How does Local Community Size Relate to Mean Age of Maternal Death?"
   ]
  },
  {
   "cell_type": "code",
   "execution_count": 48,
   "metadata": {},
   "outputs": [
    {
     "data": {
      "text/html": [
       "<div>\n",
       "<style scoped>\n",
       "    .dataframe tbody tr th:only-of-type {\n",
       "        vertical-align: middle;\n",
       "    }\n",
       "\n",
       "    .dataframe tbody tr th {\n",
       "        vertical-align: top;\n",
       "    }\n",
       "\n",
       "    .dataframe thead th {\n",
       "        text-align: right;\n",
       "    }\n",
       "</style>\n",
       "<table border=\"1\" class=\"dataframe\">\n",
       "  <thead>\n",
       "    <tr style=\"text-align: right;\">\n",
       "      <th></th>\n",
       "      <th>Date of Birth</th>\n",
       "      <th>Date of Death</th>\n",
       "      <th>Age at Death</th>\n",
       "      <th>Reason for Mortality</th>\n",
       "      <th>Residence Code</th>\n",
       "      <th>Residence Name</th>\n",
       "      <th>Local Community Size</th>\n",
       "      <th>Population</th>\n",
       "      <th>Health Status Code</th>\n",
       "      <th>Health Status Name</th>\n",
       "    </tr>\n",
       "  </thead>\n",
       "  <tbody>\n",
       "    <tr>\n",
       "      <th>0</th>\n",
       "      <td>1998-7-7</td>\n",
       "      <td>2009-7-7</td>\n",
       "      <td>11</td>\n",
       "      <td>1</td>\n",
       "      <td>7</td>\n",
       "      <td>Chiapas</td>\n",
       "      <td>1</td>\n",
       "      <td>1 a 999            habitantes</td>\n",
       "      <td>1</td>\n",
       "      <td>NINGUNA</td>\n",
       "    </tr>\n",
       "    <tr>\n",
       "      <th>1</th>\n",
       "      <td>1996-1-1</td>\n",
       "      <td>2008-12-12</td>\n",
       "      <td>12</td>\n",
       "      <td>1</td>\n",
       "      <td>30</td>\n",
       "      <td>Veracruz de Ignacio de la Llave</td>\n",
       "      <td>11</td>\n",
       "      <td>50000 a 74999   habitantes</td>\n",
       "      <td>7</td>\n",
       "      <td>SEGURO POPULAR</td>\n",
       "    </tr>\n",
       "    <tr>\n",
       "      <th>2</th>\n",
       "      <td>2001-12-12</td>\n",
       "      <td>2014-5-5</td>\n",
       "      <td>12</td>\n",
       "      <td>1</td>\n",
       "      <td>27</td>\n",
       "      <td>Tabasco</td>\n",
       "      <td>14</td>\n",
       "      <td>250000 a 499999 habitantes</td>\n",
       "      <td>7</td>\n",
       "      <td>SEGURO POPULAR</td>\n",
       "    </tr>\n",
       "    <tr>\n",
       "      <th>3</th>\n",
       "      <td>1983-11-11</td>\n",
       "      <td>2002-6-6</td>\n",
       "      <td>12</td>\n",
       "      <td>1</td>\n",
       "      <td>15</td>\n",
       "      <td>México</td>\n",
       "      <td>4</td>\n",
       "      <td>2500 a 4999    habitantes</td>\n",
       "      <td>1</td>\n",
       "      <td>NINGUNA</td>\n",
       "    </tr>\n",
       "    <tr>\n",
       "      <th>4</th>\n",
       "      <td>1993-0-0</td>\n",
       "      <td>2005-1-1</td>\n",
       "      <td>12</td>\n",
       "      <td>1</td>\n",
       "      <td>12</td>\n",
       "      <td>Guerrero</td>\n",
       "      <td>4</td>\n",
       "      <td>2500 a 4999    habitantes</td>\n",
       "      <td>1</td>\n",
       "      <td>NINGUNA</td>\n",
       "    </tr>\n",
       "  </tbody>\n",
       "</table>\n",
       "</div>"
      ],
      "text/plain": [
       "  Date of Birth Date of Death  Age at Death  Reason for Mortality  \\\n",
       "0      1998-7-7      2009-7-7            11                     1   \n",
       "1      1996-1-1    2008-12-12            12                     1   \n",
       "2    2001-12-12      2014-5-5            12                     1   \n",
       "3    1983-11-11      2002-6-6            12                     1   \n",
       "4      1993-0-0      2005-1-1            12                     1   \n",
       "\n",
       "   Residence Code                   Residence Name  Local Community Size  \\\n",
       "0               7                          Chiapas                     1   \n",
       "1              30  Veracruz de Ignacio de la Llave                    11   \n",
       "2              27                          Tabasco                    14   \n",
       "3              15                           México                     4   \n",
       "4              12                         Guerrero                     4   \n",
       "\n",
       "                      Population  Health Status Code Health Status Name  \n",
       "0  1 a 999            habitantes                   1            NINGUNA  \n",
       "1     50000 a 74999   habitantes                   7     SEGURO POPULAR  \n",
       "2     250000 a 499999 habitantes                   7     SEGURO POPULAR  \n",
       "3      2500 a 4999    habitantes                   1            NINGUNA  \n",
       "4      2500 a 4999    habitantes                   1            NINGUNA  "
      ]
     },
     "execution_count": 48,
     "metadata": {},
     "output_type": "execute_result"
    }
   ],
   "source": [
    "dates.head()"
   ]
  },
  {
   "cell_type": "code",
   "execution_count": 49,
   "metadata": {},
   "outputs": [
    {
     "data": {
      "image/png": "[encoded data removed]",
      "text/plain": [
       "<Figure size 432x288 with 1 Axes>"
      ]
     },
     "metadata": {
      "needs_background": "light"
     },
     "output_type": "display_data"
    }
   ],
   "source": [
    "# Create variables for local size and size description based off of cleaned dates\n",
    "localsize_dates = dates['Local Community Size']\n",
    "population_dates = dates['Population']\n",
    "\n",
    "# Create a figure with a joint plot of local size and age death:\n",
    "fig = plt.scatter(localsize_dates, age_death, norm=True)\n",
    "\n",
    "# Add a little room around the margins:\n",
    "plt.margins(0.125)\n",
    "\n",
    "# Label axes and add title:\n",
    "plt.xlabel('Local Size')\n",
    "plt.ylabel('Age of Maternal Death')\n",
    "plt.title('Relationship of Average Age Maternal Death to Local Community Size')\n",
    "#plt.legend(handles=[dates['Population']])\n",
    "\n",
    "# Display the plots\n",
    "plt.grid(True)\n",
    "plt.show()"
   ]
  },
  {
   "cell_type": "markdown",
   "metadata": {},
   "source": [
    "*Preliminary Analysis*: It appears that local size has no effect on Age of Maternal death since it appears that both large and small regions have similarly large ranges of maternal death."
   ]
  },
  {
   "cell_type": "markdown",
   "metadata": {},
   "source": [
    "### Additional Question 2: How does Local Community Size Relate to Mean Age of Maternal Death?"
   ]
  },
  {
   "cell_type": "code",
   "execution_count": null,
   "metadata": {},
   "outputs": [],
   "source": []
  }
 ],
 "metadata": {
  "kernelspec": {
   "display_name": "Python 3",
   "language": "python",
   "name": "python3"
  },
  "language_info": {
   "codemirror_mode": {
    "name": "ipython",
    "version": 3
   },
   "file_extension": ".py",
   "mimetype": "text/x-python",
   "name": "python",
   "nbconvert_exporter": "python",
   "pygments_lexer": "ipython3",
   "version": "3.7.0"
  }
 },
 "nbformat": 4,
 "nbformat_minor": 2
}
